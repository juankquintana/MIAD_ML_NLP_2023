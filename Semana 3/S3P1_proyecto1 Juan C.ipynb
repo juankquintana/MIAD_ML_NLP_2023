{
 "cells": [
  {
   "cell_type": "markdown",
   "metadata": {},
   "source": [
    "![image info](https://raw.githubusercontent.com/davidzarruk/MIAD_ML_NLP_2023/main/images/banner_1.png)"
   ]
  },
  {
   "cell_type": "markdown",
   "metadata": {},
   "source": [
    "# Proyecto 1 - Predicción de precios de vehículos usados\n",
    "\n",
    "En este proyecto podrán poner en práctica sus conocimientos sobre modelos predictivos basados en árboles y ensambles, y sobre la disponibilización de modelos. Para su desasrrollo tengan en cuenta las instrucciones dadas en la \"Guía del proyecto 1: Predicción de precios de vehículos usados\".\n",
    "\n",
    "**Entrega**: La entrega del proyecto deberán realizarla durante la semana 4. Sin embargo, es importante que avancen en la semana 3 en el modelado del problema y en parte del informe, tal y como se les indicó en la guía.\n",
    "\n",
    "Para hacer la entrega, deberán adjuntar el informe autocontenido en PDF a la actividad de entrega del proyecto que encontrarán en la semana 4, y subir el archivo de predicciones a la [competencia de Kaggle](https://www.kaggle.com/t/b8be43cf89c540bfaf3831f2c8506614)."
   ]
  },
  {
   "cell_type": "markdown",
   "metadata": {},
   "source": [
    "## Datos para la predicción de precios de vehículos usados\n",
    "\n",
    "En este proyecto se usará el conjunto de datos de Car Listings de Kaggle, donde cada observación representa el precio de un automóvil teniendo en cuenta distintas variables como: año, marca, modelo, entre otras. El objetivo es predecir el precio del automóvil. Para más detalles puede visitar el siguiente enlace: [datos](https://www.kaggle.com/jpayne/852k-used-car-listings)."
   ]
  },
  {
   "cell_type": "markdown",
   "metadata": {},
   "source": [
    "## Ejemplo predicción conjunto de test para envío a Kaggle\n",
    "\n",
    "En esta sección encontrarán el formato en el que deben guardar los resultados de la predicción para que puedan subirlos a la competencia en Kaggle."
   ]
  },
  {
   "cell_type": "code",
   "execution_count": 2,
   "metadata": {},
   "outputs": [],
   "source": [
    "import warnings\n",
    "warnings.filterwarnings('ignore')"
   ]
  },
  {
   "cell_type": "code",
   "execution_count": 14,
   "metadata": {},
   "outputs": [],
   "source": [
    "# Importación librerías\n",
    "\n",
    "#Python\n",
    "import pandas as pd\n",
    "import numpy as np\n",
    "\n",
    "\n",
    "#Regressor Models\n",
    "from xgboost import XGBRegressor\n",
    "\n",
    "# data processing\n",
    "from sklearn import metrics\n",
    "from sklearn.metrics import (\n",
    "    mean_squared_error,\n",
    "    mean_absolute_error,\n",
    "    r2_score\n",
    ")\n",
    "\n",
    "# transforms\n",
    "from sklearn.preprocessing import MinMaxScaler\n",
    "from sklearn.preprocessing import StandardScaler\n",
    "from sklearn.preprocessing import PowerTransformer\n",
    "from sklearn.preprocessing import LabelEncoder\n",
    "from sklearn.preprocessing import OrdinalEncoder\n",
    "from sklearn.preprocessing import OneHotEncoder\n",
    "from sklearn.preprocessing import FunctionTransformer\n",
    "from sklearn.model_selection import train_test_split\n",
    "\n",
    "# sklearn\n",
    "from sklearn.model_selection import KFold, cross_val_score, GridSearchCV, train_test_split, RandomizedSearchCV\n",
    "from sklearn.feature_selection import RFE\n",
    "from sklearn.preprocessing import OneHotEncoder, power_transform, LabelEncoder, StandardScaler\n",
    "from sklearn.pipeline import Pipeline, make_pipeline\n",
    "from sklearn.compose import make_column_transformer\n",
    "\n",
    "#Otros\n",
    "import optuna\n",
    "import pickle\n",
    "\n",
    "# typing\n",
    "from typing import List, Dict, Tuple, Union, Generator, Optional, Any\n",
    "from pandas import DataFrame as PandasDF\n",
    "from pandas import Series\n",
    "from numpy import ndarray"
   ]
  },
  {
   "cell_type": "code",
   "execution_count": 4,
   "metadata": {},
   "outputs": [],
   "source": [
    "# Carga de datos de archivo .csv\n",
    "dataTraining = pd.read_csv('https://raw.githubusercontent.com/davidzarruk/MIAD_ML_NLP_2023/main/datasets/dataTrain_carListings.zip')\n",
    "dataTesting = pd.read_csv('https://raw.githubusercontent.com/davidzarruk/MIAD_ML_NLP_2023/main/datasets/dataTest_carListings.zip', index_col=0)"
   ]
  },
  {
   "cell_type": "code",
   "execution_count": 5,
   "metadata": {},
   "outputs": [
    {
     "data": {
      "text/html": [
       "<div>\n",
       "<style scoped>\n",
       "    .dataframe tbody tr th:only-of-type {\n",
       "        vertical-align: middle;\n",
       "    }\n",
       "\n",
       "    .dataframe tbody tr th {\n",
       "        vertical-align: top;\n",
       "    }\n",
       "\n",
       "    .dataframe thead th {\n",
       "        text-align: right;\n",
       "    }\n",
       "</style>\n",
       "<table border=\"1\" class=\"dataframe\">\n",
       "  <thead>\n",
       "    <tr style=\"text-align: right;\">\n",
       "      <th></th>\n",
       "      <th>Price</th>\n",
       "      <th>Year</th>\n",
       "      <th>Mileage</th>\n",
       "      <th>State</th>\n",
       "      <th>Make</th>\n",
       "      <th>Model</th>\n",
       "    </tr>\n",
       "  </thead>\n",
       "  <tbody>\n",
       "    <tr>\n",
       "      <th>0</th>\n",
       "      <td>34995</td>\n",
       "      <td>2017</td>\n",
       "      <td>9913</td>\n",
       "      <td>FL</td>\n",
       "      <td>Jeep</td>\n",
       "      <td>Wrangler</td>\n",
       "    </tr>\n",
       "    <tr>\n",
       "      <th>1</th>\n",
       "      <td>37895</td>\n",
       "      <td>2015</td>\n",
       "      <td>20578</td>\n",
       "      <td>OH</td>\n",
       "      <td>Chevrolet</td>\n",
       "      <td>Tahoe4WD</td>\n",
       "    </tr>\n",
       "    <tr>\n",
       "      <th>2</th>\n",
       "      <td>18430</td>\n",
       "      <td>2012</td>\n",
       "      <td>83716</td>\n",
       "      <td>TX</td>\n",
       "      <td>BMW</td>\n",
       "      <td>X5AWD</td>\n",
       "    </tr>\n",
       "    <tr>\n",
       "      <th>3</th>\n",
       "      <td>24681</td>\n",
       "      <td>2014</td>\n",
       "      <td>28729</td>\n",
       "      <td>OH</td>\n",
       "      <td>Cadillac</td>\n",
       "      <td>SRXLuxury</td>\n",
       "    </tr>\n",
       "    <tr>\n",
       "      <th>4</th>\n",
       "      <td>26998</td>\n",
       "      <td>2013</td>\n",
       "      <td>64032</td>\n",
       "      <td>CO</td>\n",
       "      <td>Jeep</td>\n",
       "      <td>Wrangler</td>\n",
       "    </tr>\n",
       "  </tbody>\n",
       "</table>\n",
       "</div>"
      ],
      "text/plain": [
       "   Price  Year  Mileage State       Make      Model\n",
       "0  34995  2017     9913    FL       Jeep   Wrangler\n",
       "1  37895  2015    20578    OH  Chevrolet   Tahoe4WD\n",
       "2  18430  2012    83716    TX        BMW      X5AWD\n",
       "3  24681  2014    28729    OH   Cadillac  SRXLuxury\n",
       "4  26998  2013    64032    CO       Jeep   Wrangler"
      ]
     },
     "execution_count": 5,
     "metadata": {},
     "output_type": "execute_result"
    }
   ],
   "source": [
    "# Visualización datos de entrenamiento\n",
    "dataTraining.head()"
   ]
  },
  {
   "cell_type": "code",
   "execution_count": 6,
   "metadata": {},
   "outputs": [
    {
     "data": {
      "text/html": [
       "<div>\n",
       "<style scoped>\n",
       "    .dataframe tbody tr th:only-of-type {\n",
       "        vertical-align: middle;\n",
       "    }\n",
       "\n",
       "    .dataframe tbody tr th {\n",
       "        vertical-align: top;\n",
       "    }\n",
       "\n",
       "    .dataframe thead th {\n",
       "        text-align: right;\n",
       "    }\n",
       "</style>\n",
       "<table border=\"1\" class=\"dataframe\">\n",
       "  <thead>\n",
       "    <tr style=\"text-align: right;\">\n",
       "      <th></th>\n",
       "      <th>Year</th>\n",
       "      <th>Mileage</th>\n",
       "      <th>State</th>\n",
       "      <th>Make</th>\n",
       "      <th>Model</th>\n",
       "    </tr>\n",
       "    <tr>\n",
       "      <th>ID</th>\n",
       "      <th></th>\n",
       "      <th></th>\n",
       "      <th></th>\n",
       "      <th></th>\n",
       "      <th></th>\n",
       "    </tr>\n",
       "  </thead>\n",
       "  <tbody>\n",
       "    <tr>\n",
       "      <th>0</th>\n",
       "      <td>2014</td>\n",
       "      <td>31909</td>\n",
       "      <td>MD</td>\n",
       "      <td>Nissan</td>\n",
       "      <td>MuranoAWD</td>\n",
       "    </tr>\n",
       "    <tr>\n",
       "      <th>1</th>\n",
       "      <td>2017</td>\n",
       "      <td>5362</td>\n",
       "      <td>FL</td>\n",
       "      <td>Jeep</td>\n",
       "      <td>Wrangler</td>\n",
       "    </tr>\n",
       "    <tr>\n",
       "      <th>2</th>\n",
       "      <td>2014</td>\n",
       "      <td>50300</td>\n",
       "      <td>OH</td>\n",
       "      <td>Ford</td>\n",
       "      <td>FlexLimited</td>\n",
       "    </tr>\n",
       "    <tr>\n",
       "      <th>3</th>\n",
       "      <td>2004</td>\n",
       "      <td>132160</td>\n",
       "      <td>WA</td>\n",
       "      <td>BMW</td>\n",
       "      <td>5</td>\n",
       "    </tr>\n",
       "    <tr>\n",
       "      <th>4</th>\n",
       "      <td>2015</td>\n",
       "      <td>25226</td>\n",
       "      <td>MA</td>\n",
       "      <td>Jeep</td>\n",
       "      <td>Grand</td>\n",
       "    </tr>\n",
       "  </tbody>\n",
       "</table>\n",
       "</div>"
      ],
      "text/plain": [
       "    Year  Mileage State    Make        Model\n",
       "ID                                          \n",
       "0   2014    31909    MD  Nissan    MuranoAWD\n",
       "1   2017     5362    FL    Jeep     Wrangler\n",
       "2   2014    50300    OH    Ford  FlexLimited\n",
       "3   2004   132160    WA     BMW            5\n",
       "4   2015    25226    MA    Jeep        Grand"
      ]
     },
     "execution_count": 6,
     "metadata": {},
     "output_type": "execute_result"
    }
   ],
   "source": [
    "# Visualización datos de test\n",
    "dataTesting.head()"
   ]
  },
  {
   "cell_type": "code",
   "execution_count": 15,
   "metadata": {},
   "outputs": [],
   "source": [
    "# utils\n",
    "def performance_regression_model(\n",
    "        y_true: np.array, \n",
    "        y_pred: np.array,\n",
    "        view_plot: bool=True,\n",
    "        view_stats: bool=True\n",
    "    )->Dict:\n",
    "    \"\"\"\"\"\"\n",
    "\n",
    "    model_score: Dict = dict(\n",
    "        r2=r2_score(y_true, y_pred),\n",
    "        rmse=mean_squared_error(y_true, y_pred, squared=False),\n",
    "        mse=mean_squared_error(y_true, y_pred)\n",
    "    )\n",
    "\n",
    "    if view_plot:\n",
    "        pd.DataFrame({\n",
    "            'predictions':y_pred,\n",
    "            'residuals':y_true - y_pred         \n",
    "        }).plot(\n",
    "            x='predictions', y='residuals', kind='scatter',\n",
    "            c='black', s=10, alpha=0.1\n",
    "        )\n",
    "\n",
    "    if view_stats:\n",
    "        print('r2:', model_score.get('r2'))\n",
    "        print('RMSE:', model_score.get('rmse'))\n",
    "        print('mse:', model_score.get('mse'))\n",
    "    \n",
    "    return model_score"
   ]
  },
  {
   "cell_type": "code",
   "execution_count": 7,
   "metadata": {},
   "outputs": [],
   "source": [
    "# tipos de variables\n",
    "num_cols = dataTraining.select_dtypes(include='int64').columns.to_list()\n",
    "target_col = num_cols[0]\n",
    "num_cols = num_cols[1:]\n",
    "cat_cols = dataTraining.select_dtypes(include='object').columns.to_list()\n",
    "\n",
    "# agrupacion datos\n",
    "X = pd.concat([dataTraining[num_cols], dataTraining[cat_cols].astype('category')], axis=1)\n",
    "y = dataTraining[[target_col]]\n",
    "X_train, X_test, y_train, y_test = train_test_split(X, y, test_size=0.33, random_state=0)\n",
    "\n",
    "# preprocesamiento\n",
    "numeric_pipe = make_pipeline(StandardScaler(), PowerTransformer())\n",
    "categorical_pipe = make_pipeline(OneHotEncoder())\n",
    "preprocessor = make_column_transformer(\n",
    "    (numeric_pipe, num_cols),\n",
    "    (categorical_pipe, cat_cols)\n",
    ")\n",
    "\n",
    "# canalizacion\n",
    "pipe = make_pipeline(\n",
    "    preprocessor, \n",
    "    XGBRegressor(enable_categorical=True)\n",
    ")"
   ]
  },
  {
   "cell_type": "code",
   "execution_count": 8,
   "metadata": {},
   "outputs": [],
   "source": [
    "\n",
    "def objective(trial):\n",
    "    param = {\n",
    "        'max_depth': trial.suggest_int('max_depth', 1, 10),\n",
    "        'learning_rate': trial.suggest_float('learning_rate', 0.01, 1),\n",
    "        'n_estimators': trial.suggest_int('n_estimators', 500, 1000),\n",
    "        'min_child_weight': trial.suggest_int('min_child_weight', 1, 10),\n",
    "        'gamma': trial.suggest_float('gamma', 0.01, 1),\n",
    "        'subsample': trial.suggest_float('subsample', 0.01, 1.0),\n",
    "        'colsample_bytree': trial.suggest_float('colsample_bytree', 0.01, 1.0),\n",
    "        'reg_alpha': trial.suggest_float('reg_alpha', 0.01, 1.0),\n",
    "        'reg_lambda': trial.suggest_float('reg_lambda', 0.01, 1.0),\n",
    "        'random_state': trial.suggest_int('random_state', 1, 1000)\n",
    "    }\n",
    "    \n",
    "    pipe = make_pipeline(\n",
    "        preprocessor, \n",
    "        XGBRegressor(**param, enable_categorical=True)\n",
    "    )\n",
    "\n",
    "    # Entrena el modelo\n",
    "    pipe.fit(X_train, y_train)\n",
    "\n",
    "    # Realiza predicciones en el conjunto de prueba\n",
    "    y_pred = pipe.predict(X_test)\n",
    "\n",
    "    # Calcula la métrica de evaluación (error cuadrático medio)\n",
    "    mse = mean_squared_error(y_test, y_pred)\n",
    "\n",
    "    return mse\n",
    "    \n",
    "    #model = XGBRegressor(**param)\n",
    "    #model.fit(X_train, y_train)\n",
    "    #y_pred = model.predict(X_test)\n",
    "    #return mean_squared_error(y_test, y_pred)"
   ]
  },
  {
   "cell_type": "code",
   "execution_count": 9,
   "metadata": {},
   "outputs": [
    {
     "name": "stderr",
     "output_type": "stream",
     "text": [
      "[I 2024-04-20 11:42:30,740] A new study created in memory with name: regression\n",
      "[I 2024-04-20 11:42:33,771] Trial 0 finished with value: 23710588.01148282 and parameters: {'max_depth': 1, 'learning_rate': 0.40265585395826425, 'n_estimators': 589, 'min_child_weight': 5, 'gamma': 0.29501906535155115, 'subsample': 0.03316657072722937, 'colsample_bytree': 0.1755173512568557, 'reg_alpha': 0.9715773412962867, 'reg_lambda': 0.6601915824564345, 'random_state': 805}. Best is trial 0 with value: 23710588.01148282.\n",
      "[I 2024-04-20 11:42:39,599] Trial 1 finished with value: 12553733.117638433 and parameters: {'max_depth': 8, 'learning_rate': 0.30350385698034965, 'n_estimators': 960, 'min_child_weight': 8, 'gamma': 0.47223056624273063, 'subsample': 0.6040152318561955, 'colsample_bytree': 0.14935008712858627, 'reg_alpha': 0.7417296250618434, 'reg_lambda': 0.776129636412337, 'random_state': 507}. Best is trial 1 with value: 12553733.117638433.\n",
      "[I 2024-04-20 11:42:43,461] Trial 2 finished with value: 18915394.38668473 and parameters: {'max_depth': 7, 'learning_rate': 0.04855669778192751, 'n_estimators': 555, 'min_child_weight': 2, 'gamma': 0.4455957683006863, 'subsample': 0.5238940176294237, 'colsample_bytree': 0.4981862079996446, 'reg_alpha': 0.044521756665644896, 'reg_lambda': 0.9693721040772263, 'random_state': 515}. Best is trial 1 with value: 12553733.117638433.\n",
      "[I 2024-04-20 11:42:46,746] Trial 3 finished with value: 16259003.008684713 and parameters: {'max_depth': 6, 'learning_rate': 0.09492008919965735, 'n_estimators': 514, 'min_child_weight': 2, 'gamma': 0.42963762451210996, 'subsample': 0.15912333903258288, 'colsample_bytree': 0.2954973790338799, 'reg_alpha': 0.9603801968470465, 'reg_lambda': 0.15458398109252036, 'random_state': 586}. Best is trial 1 with value: 12553733.117638433.\n",
      "[I 2024-04-20 11:42:50,807] Trial 4 finished with value: 15927114.201984894 and parameters: {'max_depth': 7, 'learning_rate': 0.859251034068948, 'n_estimators': 688, 'min_child_weight': 6, 'gamma': 0.25493725681860596, 'subsample': 0.10495832927379996, 'colsample_bytree': 0.06528155187343351, 'reg_alpha': 0.7209321856735482, 'reg_lambda': 0.7567481975854983, 'random_state': 492}. Best is trial 1 with value: 12553733.117638433.\n",
      "[I 2024-04-20 11:42:55,549] Trial 5 finished with value: 13771426.453517932 and parameters: {'max_depth': 10, 'learning_rate': 0.5535393011732113, 'n_estimators': 508, 'min_child_weight': 7, 'gamma': 0.47199439493064005, 'subsample': 0.5566772874877945, 'colsample_bytree': 0.5210257049254133, 'reg_alpha': 0.6349807043127175, 'reg_lambda': 0.9638935169400187, 'random_state': 854}. Best is trial 1 with value: 12553733.117638433.\n",
      "[I 2024-04-20 11:43:00,535] Trial 6 finished with value: 13212026.773953823 and parameters: {'max_depth': 10, 'learning_rate': 0.17916926718894335, 'n_estimators': 512, 'min_child_weight': 6, 'gamma': 0.6797743189968284, 'subsample': 0.8970542137558619, 'colsample_bytree': 0.17056379312190142, 'reg_alpha': 0.8168199534179493, 'reg_lambda': 0.25563092159741163, 'random_state': 530}. Best is trial 1 with value: 12553733.117638433.\n",
      "[I 2024-04-20 11:43:06,620] Trial 7 finished with value: 12404244.789774254 and parameters: {'max_depth': 9, 'learning_rate': 0.36545826208872617, 'n_estimators': 680, 'min_child_weight': 7, 'gamma': 0.30044696459523523, 'subsample': 0.9455197048421825, 'colsample_bytree': 0.37179551853264003, 'reg_alpha': 0.36611427500710053, 'reg_lambda': 0.5602999092527687, 'random_state': 964}. Best is trial 7 with value: 12404244.789774254.\n",
      "[I 2024-04-20 11:43:12,431] Trial 8 finished with value: 13263815.845430039 and parameters: {'max_depth': 6, 'learning_rate': 0.5196306740414415, 'n_estimators': 834, 'min_child_weight': 5, 'gamma': 0.6321432684175383, 'subsample': 0.7422182206817718, 'colsample_bytree': 0.86238014787682, 'reg_alpha': 0.10150059105422987, 'reg_lambda': 0.5196756796665933, 'random_state': 587}. Best is trial 7 with value: 12404244.789774254.\n",
      "[I 2024-04-20 11:43:17,924] Trial 9 finished with value: 17961317.116380993 and parameters: {'max_depth': 7, 'learning_rate': 0.8490149650646035, 'n_estimators': 807, 'min_child_weight': 6, 'gamma': 0.3325515188428698, 'subsample': 0.27125166140780516, 'colsample_bytree': 0.9781434994950029, 'reg_alpha': 0.7769124919160204, 'reg_lambda': 0.7536329942340716, 'random_state': 34}. Best is trial 7 with value: 12404244.789774254.\n",
      "[I 2024-04-20 11:43:21,451] Trial 10 finished with value: 12733662.613100354 and parameters: {'max_depth': 3, 'learning_rate': 0.6380258046096385, 'n_estimators': 671, 'min_child_weight': 10, 'gamma': 0.014574856973203654, 'subsample': 0.9806830084964456, 'colsample_bytree': 0.5733366348732832, 'reg_alpha': 0.3072893687334529, 'reg_lambda': 0.3674971545691707, 'random_state': 985}. Best is trial 7 with value: 12404244.789774254.\n",
      "[I 2024-04-20 11:43:28,696] Trial 11 finished with value: 12620832.060402187 and parameters: {'max_depth': 9, 'learning_rate': 0.3025502722448693, 'n_estimators': 994, 'min_child_weight': 9, 'gamma': 0.823887222100907, 'subsample': 0.7284197780061498, 'colsample_bytree': 0.3655524649334373, 'reg_alpha': 0.44395000157007813, 'reg_lambda': 0.5513176067345201, 'random_state': 253}. Best is trial 7 with value: 12404244.789774254.\n",
      "[I 2024-04-20 11:43:34,785] Trial 12 finished with value: 15616141.478175726 and parameters: {'max_depth': 8, 'learning_rate': 0.26008038126219035, 'n_estimators': 994, 'min_child_weight': 8, 'gamma': 0.1183047120068918, 'subsample': 0.3329745483696165, 'colsample_bytree': 0.03309591546417817, 'reg_alpha': 0.42396986023227246, 'reg_lambda': 0.026693318347823125, 'random_state': 331}. Best is trial 7 with value: 12404244.789774254.\n",
      "[I 2024-04-20 11:43:39,737] Trial 13 finished with value: 12599613.116001612 and parameters: {'max_depth': 4, 'learning_rate': 0.3882574407625856, 'n_estimators': 872, 'min_child_weight': 8, 'gamma': 0.9979998549882938, 'subsample': 0.7441263036196221, 'colsample_bytree': 0.3331885786076468, 'reg_alpha': 0.2531962004235225, 'reg_lambda': 0.7980004571903746, 'random_state': 764}. Best is trial 7 with value: 12404244.789774254.\n",
      "[I 2024-04-20 11:43:45,888] Trial 14 finished with value: 17462852.243882366 and parameters: {'max_depth': 9, 'learning_rate': 0.6993408762609834, 'n_estimators': 733, 'min_child_weight': 4, 'gamma': 0.6002305895534487, 'subsample': 0.40177208853351626, 'colsample_bytree': 0.693772713150128, 'reg_alpha': 0.582534504064505, 'reg_lambda': 0.40278007468752014, 'random_state': 961}. Best is trial 7 with value: 12404244.789774254.\n",
      "[I 2024-04-20 11:43:52,092] Trial 15 finished with value: 12599138.28039118 and parameters: {'max_depth': 8, 'learning_rate': 0.3638838282989445, 'n_estimators': 920, 'min_child_weight': 10, 'gamma': 0.20129135676864868, 'subsample': 0.6324259782157663, 'colsample_bytree': 0.2069920935848579, 'reg_alpha': 0.5262604841712725, 'reg_lambda': 0.5940565265180736, 'random_state': 93}. Best is trial 7 with value: 12404244.789774254.\n",
      "[I 2024-04-20 11:43:55,752] Trial 16 finished with value: 13878775.07189579 and parameters: {'max_depth': 4, 'learning_rate': 0.2397657956491797, 'n_estimators': 639, 'min_child_weight': 8, 'gamma': 0.37081447879545576, 'subsample': 0.8687099794292918, 'colsample_bytree': 0.3983786448918384, 'reg_alpha': 0.2820575525018956, 'reg_lambda': 0.8353327204398775, 'random_state': 727}. Best is trial 7 with value: 12404244.789774254.\n",
      "[I 2024-04-20 11:44:03,863] Trial 17 finished with value: 17561074.06576125 and parameters: {'max_depth': 9, 'learning_rate': 0.9883396062828012, 'n_estimators': 774, 'min_child_weight': 4, 'gamma': 0.560498004200675, 'subsample': 0.8654145462831359, 'colsample_bytree': 0.702895628801645, 'reg_alpha': 0.6714721139588672, 'reg_lambda': 0.4196217438067753, 'random_state': 353}. Best is trial 7 with value: 12404244.789774254.\n",
      "[I 2024-04-20 11:44:09,934] Trial 18 finished with value: 12649941.650329638 and parameters: {'max_depth': 8, 'learning_rate': 0.15469038102426586, 'n_estimators': 906, 'min_child_weight': 7, 'gamma': 0.7304708519257428, 'subsample': 0.40633651768125034, 'colsample_bytree': 0.24481152436324352, 'reg_alpha': 0.8317186699135601, 'reg_lambda': 0.6718361676151359, 'random_state': 690}. Best is trial 7 with value: 12404244.789774254.\n",
      "[I 2024-04-20 11:44:14,574] Trial 19 finished with value: 13027988.403499028 and parameters: {'max_depth': 5, 'learning_rate': 0.5012494961634733, 'n_estimators': 729, 'min_child_weight': 9, 'gamma': 0.17667010238539727, 'subsample': 0.9841059965635164, 'colsample_bytree': 0.10367955458104437, 'reg_alpha': 0.17665433376606077, 'reg_lambda': 0.8543060392584834, 'random_state': 197}. Best is trial 7 with value: 12404244.789774254.\n",
      "[I 2024-04-20 11:44:20,802] Trial 20 finished with value: 14525299.581875961 and parameters: {'max_depth': 10, 'learning_rate': 0.460436617420938, 'n_estimators': 628, 'min_child_weight': 1, 'gamma': 0.06211233309099415, 'subsample': 0.6418819387254966, 'colsample_bytree': 0.4030053066145045, 'reg_alpha': 0.41379169207041444, 'reg_lambda': 0.6356564392526759, 'random_state': 902}. Best is trial 7 with value: 12404244.789774254.\n",
      "[I 2024-04-20 11:44:27,286] Trial 21 finished with value: 12530177.40794864 and parameters: {'max_depth': 8, 'learning_rate': 0.34070860125818675, 'n_estimators': 934, 'min_child_weight': 9, 'gamma': 0.2177014208201145, 'subsample': 0.6308331631174305, 'colsample_bytree': 0.23527676343112047, 'reg_alpha': 0.5391717214695286, 'reg_lambda': 0.5687448828633223, 'random_state': 4}. Best is trial 7 with value: 12404244.789774254.\n",
      "[I 2024-04-20 11:44:33,245] Trial 22 finished with value: 12734924.373824826 and parameters: {'max_depth': 8, 'learning_rate': 0.3194724485717423, 'n_estimators': 942, 'min_child_weight': 9, 'gamma': 0.3791118784514057, 'subsample': 0.64831680853182, 'colsample_bytree': 0.12431860444561899, 'reg_alpha': 0.5406070516441531, 'reg_lambda': 0.44643988434292003, 'random_state': 407}. Best is trial 7 with value: 12404244.789774254.\n",
      "[I 2024-04-20 11:44:39,525] Trial 23 finished with value: 12505455.757262869 and parameters: {'max_depth': 9, 'learning_rate': 0.19748773292951843, 'n_estimators': 873, 'min_child_weight': 7, 'gamma': 0.5306568719732734, 'subsample': 0.4391428622547714, 'colsample_bytree': 0.2632211542373258, 'reg_alpha': 0.37481274834562467, 'reg_lambda': 0.3283107454061651, 'random_state': 155}. Best is trial 7 with value: 12404244.789774254.\n",
      "[I 2024-04-20 11:44:46,462] Trial 24 finished with value: 22428086.5992959 and parameters: {'max_depth': 9, 'learning_rate': 0.01439416754985115, 'n_estimators': 889, 'min_child_weight': 7, 'gamma': 0.24124287147587561, 'subsample': 0.4563919824364999, 'colsample_bytree': 0.4591753841265199, 'reg_alpha': 0.38053062224574935, 'reg_lambda': 0.2478706050601761, 'random_state': 136}. Best is trial 7 with value: 12404244.789774254.\n",
      "[I 2024-04-20 11:44:52,528] Trial 25 finished with value: 12626547.251062939 and parameters: {'max_depth': 10, 'learning_rate': 0.1469854797715229, 'n_estimators': 856, 'min_child_weight': 7, 'gamma': 0.1338580271306296, 'subsample': 0.2643799083346304, 'colsample_bytree': 0.28746971071682276, 'reg_alpha': 0.3397213837344585, 'reg_lambda': 0.3202383477909078, 'random_state': 42}. Best is trial 7 with value: 12404244.789774254.\n",
      "[I 2024-04-20 11:44:57,694] Trial 26 finished with value: 12324382.480911652 and parameters: {'max_depth': 7, 'learning_rate': 0.23432073134740392, 'n_estimators': 786, 'min_child_weight': 9, 'gamma': 0.5583433204654774, 'subsample': 0.796177003916804, 'colsample_bytree': 0.5972258466944576, 'reg_alpha': 0.207673283646533, 'reg_lambda': 0.49179506110677335, 'random_state': 192}. Best is trial 26 with value: 12324382.480911652.\n",
      "[I 2024-04-20 11:45:02,794] Trial 27 finished with value: 12286575.837615732 and parameters: {'max_depth': 6, 'learning_rate': 0.23089740088622185, 'n_estimators': 786, 'min_child_weight': 10, 'gamma': 0.5389235723910454, 'subsample': 0.7995429368248211, 'colsample_bytree': 0.6258096561807414, 'reg_alpha': 0.19002719319250266, 'reg_lambda': 0.45909044062879234, 'random_state': 260}. Best is trial 27 with value: 12286575.837615732.\n",
      "[I 2024-04-20 11:45:07,652] Trial 28 finished with value: 12345489.123222554 and parameters: {'max_depth': 5, 'learning_rate': 0.44616383178749575, 'n_estimators': 798, 'min_child_weight': 10, 'gamma': 0.7442764624953015, 'subsample': 0.9095258646338127, 'colsample_bytree': 0.6133280986176064, 'reg_alpha': 0.20658945497934691, 'reg_lambda': 0.47863339742999494, 'random_state': 257}. Best is trial 27 with value: 12286575.837615732.\n",
      "[I 2024-04-20 11:45:11,392] Trial 29 finished with value: 21556720.64906595 and parameters: {'max_depth': 1, 'learning_rate': 0.4457661016884893, 'n_estimators': 780, 'min_child_weight': 10, 'gamma': 0.771685542260239, 'subsample': 0.8208349086913557, 'colsample_bytree': 0.6659590708312113, 'reg_alpha': 0.19977640383717343, 'reg_lambda': 0.4731315005154108, 'random_state': 275}. Best is trial 27 with value: 12286575.837615732.\n",
      "[I 2024-04-20 11:45:16,067] Trial 30 finished with value: 12676802.428763945 and parameters: {'max_depth': 5, 'learning_rate': 0.605555325368971, 'n_estimators': 812, 'min_child_weight': 10, 'gamma': 0.9315772829827489, 'subsample': 0.7950042939320425, 'colsample_bytree': 0.7923005523718135, 'reg_alpha': 0.12473270241560297, 'reg_lambda': 0.6916003372569685, 'random_state': 403}. Best is trial 27 with value: 12286575.837615732.\n",
      "[I 2024-04-20 11:45:20,415] Trial 31 finished with value: 12260963.742349517 and parameters: {'max_depth': 6, 'learning_rate': 0.435384082084923, 'n_estimators': 708, 'min_child_weight': 9, 'gamma': 0.6653701286616065, 'subsample': 0.9517637598482891, 'colsample_bytree': 0.5967789199299987, 'reg_alpha': 0.2182312502388924, 'reg_lambda': 0.4986330477578041, 'random_state': 224}. Best is trial 31 with value: 12260963.742349517.\n",
      "[I 2024-04-20 11:45:25,083] Trial 32 finished with value: 12239225.470040895 and parameters: {'max_depth': 6, 'learning_rate': 0.24642280354452725, 'n_estimators': 753, 'min_child_weight': 9, 'gamma': 0.8399231567427442, 'subsample': 0.9139017325246678, 'colsample_bytree': 0.6064967966844257, 'reg_alpha': 0.036738146432368946, 'reg_lambda': 0.4967685488990393, 'random_state': 219}. Best is trial 32 with value: 12239225.470040895.\n",
      "[I 2024-04-20 11:45:30,014] Trial 33 finished with value: 12324493.43696402 and parameters: {'max_depth': 6, 'learning_rate': 0.24866954970015662, 'n_estimators': 747, 'min_child_weight': 9, 'gamma': 0.851850071958181, 'subsample': 0.803832312508746, 'colsample_bytree': 0.7486526757834913, 'reg_alpha': 0.01408321605446844, 'reg_lambda': 0.5041452653701611, 'random_state': 198}. Best is trial 32 with value: 12239225.470040895.\n",
      "[I 2024-04-20 11:45:35,099] Trial 34 finished with value: 14531592.599716665 and parameters: {'max_depth': 7, 'learning_rate': 0.07569230135325777, 'n_estimators': 716, 'min_child_weight': 9, 'gamma': 0.6470266508019863, 'subsample': 0.6940309285604286, 'colsample_bytree': 0.5833515886899815, 'reg_alpha': 0.09076566212852998, 'reg_lambda': 0.6213969244516377, 'random_state': 95}. Best is trial 32 with value: 12239225.470040895.\n",
      "[I 2024-04-20 11:45:40,110] Trial 35 finished with value: 13976714.09566977 and parameters: {'max_depth': 6, 'learning_rate': 0.10222342480285643, 'n_estimators': 770, 'min_child_weight': 8, 'gamma': 0.5891775273964999, 'subsample': 0.9264221011908903, 'colsample_bytree': 0.5220767012427716, 'reg_alpha': 0.15615326482476805, 'reg_lambda': 0.27312525021774314, 'random_state': 310}. Best is trial 32 with value: 12239225.470040895.\n",
      "[I 2024-04-20 11:45:44,011] Trial 36 finished with value: 12979440.583377846 and parameters: {'max_depth': 4, 'learning_rate': 0.2683206575668867, 'n_estimators': 713, 'min_child_weight': 10, 'gamma': 0.5099350066286326, 'subsample': 0.8387369066761075, 'colsample_bytree': 0.6318636193269308, 'reg_alpha': 0.2388090351034873, 'reg_lambda': 0.3963469579875551, 'random_state': 204}. Best is trial 32 with value: 12239225.470040895.\n",
      "[I 2024-04-20 11:45:48,436] Trial 37 finished with value: 12387166.447685534 and parameters: {'max_depth': 7, 'learning_rate': 0.195138643162434, 'n_estimators': 613, 'min_child_weight': 8, 'gamma': 0.6930385641560536, 'subsample': 0.5660954420756208, 'colsample_bytree': 0.8144298305760174, 'reg_alpha': 0.06256709951230174, 'reg_lambda': 0.17317229088820463, 'random_state': 410}. Best is trial 32 with value: 12239225.470040895.\n",
      "[I 2024-04-20 11:45:52,695] Trial 38 finished with value: 13879026.893258687 and parameters: {'max_depth': 7, 'learning_rate': 0.12003603575331684, 'n_estimators': 575, 'min_child_weight': 9, 'gamma': 0.43763954296175067, 'subsample': 0.9996703031628702, 'colsample_bytree': 0.46034893072823774, 'reg_alpha': 0.04490354562653567, 'reg_lambda': 0.7021174062540307, 'random_state': 457}. Best is trial 32 with value: 12239225.470040895.\n",
      "[I 2024-04-20 11:45:57,348] Trial 39 finished with value: 18740775.56715297 and parameters: {'max_depth': 5, 'learning_rate': 0.418885956964301, 'n_estimators': 835, 'min_child_weight': 10, 'gamma': 0.8399811054028085, 'subsample': 0.031713172236219556, 'colsample_bytree': 0.5536561703240324, 'reg_alpha': 0.1206376028552752, 'reg_lambda': 0.5296576519985687, 'random_state': 135}. Best is trial 32 with value: 12239225.470040895.\n",
      "[I 2024-04-20 11:46:02,414] Trial 40 finished with value: 12377191.844149921 and parameters: {'max_depth': 6, 'learning_rate': 0.2970734977975791, 'n_estimators': 696, 'min_child_weight': 4, 'gamma': 0.7865833163382042, 'subsample': 0.7829959420558283, 'colsample_bytree': 0.8897312626898484, 'reg_alpha': 0.16373750317444227, 'reg_lambda': 0.3528526759021192, 'random_state': 229}. Best is trial 32 with value: 12239225.470040895.\n",
      "[I 2024-04-20 11:46:06,810] Trial 41 finished with value: 12320688.796560943 and parameters: {'max_depth': 6, 'learning_rate': 0.24462921148866457, 'n_estimators': 658, 'min_child_weight': 9, 'gamma': 0.9109454598412176, 'subsample': 0.9364889658446891, 'colsample_bytree': 0.774227613731073, 'reg_alpha': 0.01593788887557726, 'reg_lambda': 0.4972203729539411, 'random_state': 297}. Best is trial 32 with value: 12239225.470040895.\n",
      "[I 2024-04-20 11:46:11,183] Trial 42 finished with value: 12689164.004319878 and parameters: {'max_depth': 6, 'learning_rate': 0.185638915066641, 'n_estimators': 656, 'min_child_weight': 8, 'gamma': 0.9186461220752891, 'subsample': 0.9180344228369067, 'colsample_bytree': 0.752961072291989, 'reg_alpha': 0.06401892884565935, 'reg_lambda': 0.4646923428722822, 'random_state': 294}. Best is trial 32 with value: 12239225.470040895.\n",
      "[I 2024-04-20 11:46:16,319] Trial 43 finished with value: 12197965.806702673 and parameters: {'max_depth': 7, 'learning_rate': 0.21776508674483636, 'n_estimators': 757, 'min_child_weight': 9, 'gamma': 0.9132912048049907, 'subsample': 0.8739971544288802, 'colsample_bytree': 0.6425134251766992, 'reg_alpha': 0.013582596407029635, 'reg_lambda': 0.42882448301184767, 'random_state': 368}. Best is trial 43 with value: 12197965.806702673.\n",
      "[I 2024-04-20 11:46:21,186] Trial 44 finished with value: 18405037.22454012 and parameters: {'max_depth': 6, 'learning_rate': 0.046241728069381455, 'n_estimators': 755, 'min_child_weight': 10, 'gamma': 0.914722832758769, 'subsample': 0.9427627793061337, 'colsample_bytree': 0.6493739006654186, 'reg_alpha': 0.01398415155131745, 'reg_lambda': 0.5898784822325941, 'random_state': 363}. Best is trial 43 with value: 12197965.806702673.\n",
      "[I 2024-04-20 11:46:25,115] Trial 45 finished with value: 12312092.288276974 and parameters: {'max_depth': 5, 'learning_rate': 0.3233530306545469, 'n_estimators': 700, 'min_child_weight': 9, 'gamma': 0.9787283657787089, 'subsample': 0.8693643201621801, 'colsample_bytree': 0.7210380467760298, 'reg_alpha': 0.09374466736511494, 'reg_lambda': 0.4136890719668431, 'random_state': 475}. Best is trial 43 with value: 12197965.806702673.\n",
      "[I 2024-04-20 11:46:28,487] Trial 46 finished with value: 13149819.360979676 and parameters: {'max_depth': 3, 'learning_rate': 0.3953816158983659, 'n_estimators': 684, 'min_child_weight': 8, 'gamma': 0.9996675266336845, 'subsample': 0.8745321027397018, 'colsample_bytree': 0.703687659056623, 'reg_alpha': 0.11722501849178497, 'reg_lambda': 0.4222823269506609, 'random_state': 578}. Best is trial 43 with value: 12197965.806702673.\n",
      "[I 2024-04-20 11:46:32,598] Trial 47 finished with value: 12382724.02003978 and parameters: {'max_depth': 5, 'learning_rate': 0.3412922427943705, 'n_estimators': 695, 'min_child_weight': 6, 'gamma': 0.8719634032889736, 'subsample': 0.7078858248072524, 'colsample_bytree': 0.8433454185783609, 'reg_alpha': 0.08638234678359039, 'reg_lambda': 0.3771462934954393, 'random_state': 486}. Best is trial 43 with value: 12197965.806702673.\n",
      "[I 2024-04-20 11:46:36,495] Trial 48 finished with value: 13390241.54922258 and parameters: {'max_depth': 3, 'learning_rate': 0.2848497779528412, 'n_estimators': 827, 'min_child_weight': 5, 'gamma': 0.9493545308901912, 'subsample': 0.8466904324966777, 'colsample_bytree': 0.9260715936387113, 'reg_alpha': 0.29083980336956916, 'reg_lambda': 0.29509421999968444, 'random_state': 639}. Best is trial 43 with value: 12197965.806702673.\n",
      "[I 2024-04-20 11:46:40,450] Trial 49 finished with value: 12430818.51975526 and parameters: {'max_depth': 4, 'learning_rate': 0.551827392414294, 'n_estimators': 752, 'min_child_weight': 3, 'gamma': 0.8063695257860883, 'subsample': 0.9652533313948648, 'colsample_bytree': 0.5335486403510253, 'reg_alpha': 0.9884077669712505, 'reg_lambda': 0.2209959332497325, 'random_state': 544}. Best is trial 43 with value: 12197965.806702673.\n",
      "[I 2024-04-20 11:46:45,224] Trial 50 finished with value: 12360699.157640774 and parameters: {'max_depth': 7, 'learning_rate': 0.20883344243928406, 'n_estimators': 721, 'min_child_weight': 8, 'gamma': 0.8765685797053671, 'subsample': 0.7547596671144505, 'colsample_bytree': 0.4825859740398931, 'reg_alpha': 0.13843618218390397, 'reg_lambda': 0.5349513606882491, 'random_state': 439}. Best is trial 43 with value: 12197965.806702673.\n",
      "[I 2024-04-20 11:46:50,006] Trial 51 finished with value: 12304045.646416156 and parameters: {'max_depth': 6, 'learning_rate': 0.3667325539399831, 'n_estimators': 666, 'min_child_weight': 9, 'gamma': 0.9752703488402861, 'subsample': 0.8987019575299202, 'colsample_bytree': 0.7485325075118225, 'reg_alpha': 0.013681801493700163, 'reg_lambda': 0.43053015336510103, 'random_state': 348}. Best is trial 43 with value: 12197965.806702673.\n",
      "[I 2024-04-20 11:46:54,026] Trial 52 finished with value: 12385954.3192288 and parameters: {'max_depth': 5, 'learning_rate': 0.37788328643285307, 'n_estimators': 597, 'min_child_weight': 9, 'gamma': 0.9672480477368599, 'subsample': 0.8775677779063658, 'colsample_bytree': 0.6695304913275151, 'reg_alpha': 0.07260002021842189, 'reg_lambda': 0.439586390373479, 'random_state': 369}. Best is trial 43 with value: 12197965.806702673.\n",
      "[I 2024-04-20 11:46:58,504] Trial 53 finished with value: 12436236.631088303 and parameters: {'max_depth': 6, 'learning_rate': 0.49175314419885746, 'n_estimators': 664, 'min_child_weight': 10, 'gamma': 0.9717227422998679, 'subsample': 0.9126574551097285, 'colsample_bytree': 0.7218490173587647, 'reg_alpha': 0.029222302874826675, 'reg_lambda': 0.348307369249084, 'random_state': 329}. Best is trial 43 with value: 12197965.806702673.\n",
      "[I 2024-04-20 11:47:02,471] Trial 54 finished with value: 12232540.301026896 and parameters: {'max_depth': 7, 'learning_rate': 0.33598660557970034, 'n_estimators': 538, 'min_child_weight': 9, 'gamma': 0.8826928556364969, 'subsample': 0.966689720871587, 'colsample_bytree': 0.6229647729651409, 'reg_alpha': 0.2466795051261739, 'reg_lambda': 0.404699898657926, 'random_state': 254}. Best is trial 43 with value: 12197965.806702673.\n",
      "[I 2024-04-20 11:47:06,438] Trial 55 finished with value: 13380035.883538691 and parameters: {'max_depth': 7, 'learning_rate': 0.1442839821129765, 'n_estimators': 528, 'min_child_weight': 8, 'gamma': 0.7144618784655996, 'subsample': 0.9632040463657819, 'colsample_bytree': 0.6220310244978261, 'reg_alpha': 0.24781428868146804, 'reg_lambda': 0.5684126480607918, 'random_state': 245}. Best is trial 43 with value: 12197965.806702673.\n",
      "[I 2024-04-20 11:47:10,794] Trial 56 finished with value: 12279552.96211023 and parameters: {'max_depth': 7, 'learning_rate': 0.354499644325672, 'n_estimators': 545, 'min_child_weight': 10, 'gamma': 0.6347721395660986, 'subsample': 0.9004391536517342, 'colsample_bytree': 0.5610316655338816, 'reg_alpha': 0.3277147716541998, 'reg_lambda': 0.08448378161822834, 'random_state': 161}. Best is trial 43 with value: 12197965.806702673.\n",
      "[I 2024-04-20 11:47:15,072] Trial 57 finished with value: 12261037.22626311 and parameters: {'max_depth': 8, 'learning_rate': 0.40908580601898076, 'n_estimators': 533, 'min_child_weight': 10, 'gamma': 0.48481679683015066, 'subsample': 0.9907777327230372, 'colsample_bytree': 0.5647558906811848, 'reg_alpha': 0.47415653204927816, 'reg_lambda': 0.019181328019799798, 'random_state': 104}. Best is trial 43 with value: 12197965.806702673.\n",
      "[I 2024-04-20 11:47:19,441] Trial 58 finished with value: 12255987.977839857 and parameters: {'max_depth': 8, 'learning_rate': 0.4172746495617078, 'n_estimators': 551, 'min_child_weight': 10, 'gamma': 0.659268913103033, 'subsample': 0.9913418030394383, 'colsample_bytree': 0.565120386188267, 'reg_alpha': 0.48180885757551434, 'reg_lambda': 0.013358090724588323, 'random_state': 76}. Best is trial 43 with value: 12197965.806702673.\n",
      "[I 2024-04-20 11:47:23,703] Trial 59 finished with value: 12326445.617783768 and parameters: {'max_depth': 8, 'learning_rate': 0.42724665670033213, 'n_estimators': 565, 'min_child_weight': 9, 'gamma': 0.4922551315104245, 'subsample': 0.9938532111432441, 'colsample_bytree': 0.43111821032079867, 'reg_alpha': 0.47188920204501233, 'reg_lambda': 0.015136100386797606, 'random_state': 83}. Best is trial 43 with value: 12197965.806702673.\n",
      "[I 2024-04-20 11:47:27,830] Trial 60 finished with value: 12529009.008001426 and parameters: {'max_depth': 8, 'learning_rate': 0.48124886280479306, 'n_estimators': 526, 'min_child_weight': 10, 'gamma': 0.4041458158795805, 'subsample': 0.9647194403688162, 'colsample_bytree': 0.5096412303384749, 'reg_alpha': 0.6004618554968142, 'reg_lambda': 0.1222168377382742, 'random_state': 53}. Best is trial 43 with value: 12197965.806702673.\n",
      "[I 2024-04-20 11:47:31,525] Trial 61 finished with value: 12297514.29778287 and parameters: {'max_depth': 7, 'learning_rate': 0.39706896900034216, 'n_estimators': 500, 'min_child_weight': 10, 'gamma': 0.6373473814318014, 'subsample': 0.9516818885728004, 'colsample_bytree': 0.5593552728544933, 'reg_alpha': 0.4703687815670365, 'reg_lambda': 0.05062443330702273, 'random_state': 165}. Best is trial 43 with value: 12197965.806702673.\n",
      "[I 2024-04-20 11:47:35,529] Trial 62 finished with value: 16936754.479146346 and parameters: {'max_depth': 8, 'learning_rate': 0.557981583145249, 'n_estimators': 544, 'min_child_weight': 10, 'gamma': 0.6610105879584701, 'subsample': 0.0784120263643161, 'colsample_bytree': 0.592257913728771, 'reg_alpha': 0.33271815711709307, 'reg_lambda': 0.07416088388636363, 'random_state': 122}. Best is trial 43 with value: 12197965.806702673.\n",
      "[I 2024-04-20 11:47:39,817] Trial 63 finished with value: 12463704.291531155 and parameters: {'max_depth': 8, 'learning_rate': 0.5348127826365032, 'n_estimators': 536, 'min_child_weight': 9, 'gamma': 0.5876365453472656, 'subsample': 0.9955692743473817, 'colsample_bytree': 0.5647835855850338, 'reg_alpha': 0.40654692967083284, 'reg_lambda': 0.08640069327120214, 'random_state': 5}. Best is trial 43 with value: 12197965.806702673.\n",
      "[I 2024-04-20 11:47:44,122] Trial 64 finished with value: 12271666.982940746 and parameters: {'max_depth': 7, 'learning_rate': 0.35004156389521635, 'n_estimators': 587, 'min_child_weight': 10, 'gamma': 0.7637871433196497, 'subsample': 0.8930048022952136, 'colsample_bytree': 0.6761063738610876, 'reg_alpha': 0.5050755916542813, 'reg_lambda': 0.16240703868707615, 'random_state': 73}. Best is trial 43 with value: 12197965.806702673.\n",
      "[I 2024-04-20 11:47:49,157] Trial 65 finished with value: 12470659.44180936 and parameters: {'max_depth': 9, 'learning_rate': 0.30563373610706884, 'n_estimators': 588, 'min_child_weight': 9, 'gamma': 0.7672633859819986, 'subsample': 0.8517461206500383, 'colsample_bytree': 0.6766044065624293, 'reg_alpha': 0.5103615910471198, 'reg_lambda': 0.1685765613989779, 'random_state': 70}. Best is trial 43 with value: 12197965.806702673.\n",
      "[I 2024-04-20 11:47:53,109] Trial 66 finished with value: 12439589.31931508 and parameters: {'max_depth': 7, 'learning_rate': 0.4618566594907958, 'n_estimators': 563, 'min_child_weight': 10, 'gamma': 0.8047149224915952, 'subsample': 0.9357544473325567, 'colsample_bytree': 0.6385911954620461, 'reg_alpha': 0.6795809065116631, 'reg_lambda': 0.11616930908138672, 'random_state': 218}. Best is trial 43 with value: 12197965.806702673.\n",
      "[I 2024-04-20 11:47:57,836] Trial 67 finished with value: 13964231.652611725 and parameters: {'max_depth': 8, 'learning_rate': 0.780621508524205, 'n_estimators': 611, 'min_child_weight': 8, 'gamma': 0.7011222101573567, 'subsample': 0.8918556798358432, 'colsample_bytree': 0.4875383327122311, 'reg_alpha': 0.5730108253375457, 'reg_lambda': 0.1322534569465717, 'random_state': 88}. Best is trial 43 with value: 12197965.806702673.\n",
      "[I 2024-04-20 11:48:02,380] Trial 68 finished with value: 12888931.039889565 and parameters: {'max_depth': 9, 'learning_rate': 0.5955290589182024, 'n_estimators': 508, 'min_child_weight': 10, 'gamma': 0.7415204251778812, 'subsample': 0.9710410051591849, 'colsample_bytree': 0.5949280621492565, 'reg_alpha': 0.6304826483335382, 'reg_lambda': 0.037909474196078735, 'random_state': 111}. Best is trial 43 with value: 12197965.806702673.\n",
      "[I 2024-04-20 11:48:06,830] Trial 69 finished with value: 12946226.364529865 and parameters: {'max_depth': 7, 'learning_rate': 0.412858563970511, 'n_estimators': 593, 'min_child_weight': 1, 'gamma': 0.8623699127446519, 'subsample': 0.8266949872539623, 'colsample_bytree': 0.5419628308425649, 'reg_alpha': 0.4734663107091616, 'reg_lambda': 0.20770580835417538, 'random_state': 171}. Best is trial 43 with value: 12197965.806702673.\n",
      "[I 2024-04-20 11:48:11,046] Trial 70 finished with value: 12256174.106192244 and parameters: {'max_depth': 8, 'learning_rate': 0.3215594707856426, 'n_estimators': 522, 'min_child_weight': 9, 'gamma': 0.8923162235593063, 'subsample': 0.9405845956924339, 'colsample_bytree': 0.6526628813299896, 'reg_alpha': 0.44853575863559897, 'reg_lambda': 0.01248347901745589, 'random_state': 29}. Best is trial 43 with value: 12197965.806702673.\n",
      "[I 2024-04-20 11:48:15,124] Trial 71 finished with value: 12289480.782370364 and parameters: {'max_depth': 8, 'learning_rate': 0.28181826536572396, 'n_estimators': 518, 'min_child_weight': 9, 'gamma': 0.8899099142144974, 'subsample': 0.9330744464878811, 'colsample_bytree': 0.6617261531848047, 'reg_alpha': 0.42965383588376554, 'reg_lambda': 0.010864594181331094, 'random_state': 34}. Best is trial 43 with value: 12197965.806702673.\n",
      "[I 2024-04-20 11:48:19,524] Trial 72 finished with value: 12221759.58158722 and parameters: {'max_depth': 8, 'learning_rate': 0.33736853063117944, 'n_estimators': 567, 'min_child_weight': 9, 'gamma': 0.8217983064682317, 'subsample': 0.998859159166047, 'colsample_bytree': 0.6182186916286607, 'reg_alpha': 0.39113959849899615, 'reg_lambda': 0.05066424789818487, 'random_state': 127}. Best is trial 43 with value: 12197965.806702673.\n",
      "[I 2024-04-20 11:48:24,168] Trial 73 finished with value: 12217061.583998434 and parameters: {'max_depth': 9, 'learning_rate': 0.32287774716555284, 'n_estimators': 555, 'min_child_weight': 9, 'gamma': 0.8165062577055269, 'subsample': 0.9990146789091227, 'colsample_bytree': 0.6074677449215239, 'reg_alpha': 0.38532916193802114, 'reg_lambda': 0.05397124038825721, 'random_state': 28}. Best is trial 43 with value: 12197965.806702673.\n",
      "[I 2024-04-20 11:48:28,907] Trial 74 finished with value: 12312709.189122934 and parameters: {'max_depth': 10, 'learning_rate': 0.31081646473308727, 'n_estimators': 551, 'min_child_weight': 8, 'gamma': 0.8297985540537883, 'subsample': 0.9630833418157179, 'colsample_bytree': 0.6299040832796861, 'reg_alpha': 0.3652570248371946, 'reg_lambda': 0.9402897771027118, 'random_state': 25}. Best is trial 43 with value: 12197965.806702673.\n",
      "[I 2024-04-20 11:48:34,250] Trial 75 finished with value: 12245515.591214968 and parameters: {'max_depth': 9, 'learning_rate': 0.2631198659536718, 'n_estimators': 634, 'min_child_weight': 9, 'gamma': 0.8884515690716103, 'subsample': 0.9248109266871415, 'colsample_bytree': 0.5960986307048933, 'reg_alpha': 0.3939422566764196, 'reg_lambda': 0.06437358537398254, 'random_state': 146}. Best is trial 43 with value: 12197965.806702673.\n",
      "[I 2024-04-20 11:48:38,913] Trial 76 finished with value: 12228068.76789645 and parameters: {'max_depth': 9, 'learning_rate': 0.21712114790769074, 'n_estimators': 574, 'min_child_weight': 7, 'gamma': 0.8896610119872332, 'subsample': 0.920583771928609, 'colsample_bytree': 0.6961517842233144, 'reg_alpha': 0.39948574522009617, 'reg_lambda': 0.10701602357192863, 'random_state': 133}. Best is trial 43 with value: 12197965.806702673.\n",
      "[I 2024-04-20 11:48:43,919] Trial 77 finished with value: 12370281.967251956 and parameters: {'max_depth': 9, 'learning_rate': 0.220949171000997, 'n_estimators': 576, 'min_child_weight': 7, 'gamma': 0.8159046704002442, 'subsample': 0.771621779444586, 'colsample_bytree': 0.6962146212295868, 'reg_alpha': 0.4022596870618042, 'reg_lambda': 0.05534393394012442, 'random_state': 153}. Best is trial 43 with value: 12197965.806702673.\n",
      "[I 2024-04-20 11:48:49,347] Trial 78 finished with value: 13138389.889451047 and parameters: {'max_depth': 10, 'learning_rate': 0.26484066521378685, 'n_estimators': 632, 'min_child_weight': 7, 'gamma': 0.9373086816287113, 'subsample': 0.2769855749230069, 'colsample_bytree': 0.6052060564747311, 'reg_alpha': 0.2817367937911881, 'reg_lambda': 0.10642013419208907, 'random_state': 188}. Best is trial 43 with value: 12197965.806702673.\n",
      "[I 2024-04-20 11:48:54,974] Trial 79 finished with value: 12383805.851603752 and parameters: {'max_depth': 9, 'learning_rate': 0.17581720348477317, 'n_estimators': 607, 'min_child_weight': 8, 'gamma': 0.8405228537081628, 'subsample': 0.5030908978061722, 'colsample_bytree': 0.7311931365615123, 'reg_alpha': 0.3550356438392899, 'reg_lambda': 0.057613144346088885, 'random_state': 123}. Best is trial 43 with value: 12197965.806702673.\n",
      "[I 2024-04-20 11:49:00,268] Trial 80 finished with value: 12271201.521715911 and parameters: {'max_depth': 9, 'learning_rate': 0.25275742602178736, 'n_estimators': 646, 'min_child_weight': 9, 'gamma': 0.7917248788899811, 'subsample': 0.912504101946757, 'colsample_bytree': 0.7855121639511664, 'reg_alpha': 0.3887198053614491, 'reg_lambda': 0.1346447956046985, 'random_state': 285}. Best is trial 43 with value: 12197965.806702673.\n",
      "[I 2024-04-20 11:49:04,871] Trial 81 finished with value: 12230104.605677819 and parameters: {'max_depth': 9, 'learning_rate': 0.3272558684146603, 'n_estimators': 565, 'min_child_weight': 9, 'gamma': 0.8956219525889323, 'subsample': 0.9977741071560737, 'colsample_bytree': 0.6449633465324076, 'reg_alpha': 0.4502300409965859, 'reg_lambda': 0.0833328329194199, 'random_state': 46}. Best is trial 43 with value: 12197965.806702673.\n",
      "[I 2024-04-20 11:49:09,490] Trial 82 finished with value: 12530967.17062095 and parameters: {'max_depth': 9, 'learning_rate': 0.17204147759521962, 'n_estimators': 561, 'min_child_weight': 9, 'gamma': 0.858064812553961, 'subsample': 0.9988506098318388, 'colsample_bytree': 0.5131571778131679, 'reg_alpha': 0.44587477130770936, 'reg_lambda': 0.09622721891014899, 'random_state': 136}. Best is trial 43 with value: 12197965.806702673.\n",
      "[I 2024-04-20 11:49:14,613] Trial 83 finished with value: 12408228.720323669 and parameters: {'max_depth': 10, 'learning_rate': 0.2810170856746361, 'n_estimators': 574, 'min_child_weight': 6, 'gamma': 0.8333160392220461, 'subsample': 0.9744072239444862, 'colsample_bytree': 0.58446127360353, 'reg_alpha': 0.545530370812146, 'reg_lambda': 0.20599639074804804, 'random_state': 11}. Best is trial 43 with value: 12197965.806702673.\n",
      "[I 2024-04-20 11:49:20,027] Trial 84 finished with value: 12208804.798107337 and parameters: {'max_depth': 9, 'learning_rate': 0.2154765866082116, 'n_estimators': 624, 'min_child_weight': 8, 'gamma': 0.8987068536461638, 'subsample': 0.8530060855427772, 'colsample_bytree': 0.6156631128552721, 'reg_alpha': 0.31978116200304263, 'reg_lambda': 0.06217667400718315, 'random_state': 56}. Best is trial 43 with value: 12197965.806702673.\n",
      "[I 2024-04-20 11:49:26,485] Trial 85 finished with value: 12240149.599906 and parameters: {'max_depth': 9, 'learning_rate': 0.13539789151945686, 'n_estimators': 767, 'min_child_weight': 7, 'gamma': 0.9036138657295506, 'subsample': 0.8177031422375528, 'colsample_bytree': 0.6864382062471842, 'reg_alpha': 0.29415720417912117, 'reg_lambda': 0.07122918360421715, 'random_state': 56}. Best is trial 43 with value: 12197965.806702673.\n",
      "[I 2024-04-20 11:49:33,428] Trial 86 finished with value: 12341519.9487106 and parameters: {'max_depth': 10, 'learning_rate': 0.10772318677086981, 'n_estimators': 747, 'min_child_weight': 7, 'gamma': 0.916848102270751, 'subsample': 0.8238050446189907, 'colsample_bytree': 0.7088891098552724, 'reg_alpha': 0.31384866589167293, 'reg_lambda': 0.03876917858742414, 'random_state': 60}. Best is trial 43 with value: 12197965.806702673.\n",
      "[I 2024-04-20 11:49:39,793] Trial 87 finished with value: 12918469.531506997 and parameters: {'max_depth': 9, 'learning_rate': 0.07994531450029899, 'n_estimators': 801, 'min_child_weight': 8, 'gamma': 0.9538463213950379, 'subsample': 0.8502393319267938, 'colsample_bytree': 0.6948431597997617, 'reg_alpha': 0.3621647789166826, 'reg_lambda': 0.18668033922890886, 'random_state': 103}. Best is trial 43 with value: 12197965.806702673.\n",
      "[I 2024-04-20 11:49:45,888] Trial 88 finished with value: 12214152.172483316 and parameters: {'max_depth': 9, 'learning_rate': 0.15540735994042676, 'n_estimators': 765, 'min_child_weight': 7, 'gamma': 0.9019936320077009, 'subsample': 0.8755227502192785, 'colsample_bytree': 0.6409073067449965, 'reg_alpha': 0.27718455784019647, 'reg_lambda': 0.14458778590524313, 'random_state': 53}. Best is trial 43 with value: 12197965.806702673.\n",
      "[I 2024-04-20 11:49:52,698] Trial 89 finished with value: 12443664.858040662 and parameters: {'max_depth': 10, 'learning_rate': 0.21646964017577042, 'n_estimators': 759, 'min_child_weight': 8, 'gamma': 0.9369299177419756, 'subsample': 0.8769086861455682, 'colsample_bytree': 0.6425718457346412, 'reg_alpha': 0.2646270687419673, 'reg_lambda': 0.15018295911429347, 'random_state': 182}. Best is trial 43 with value: 12197965.806702673.\n",
      "[I 2024-04-20 11:49:58,400] Trial 90 finished with value: 12246955.699649496 and parameters: {'max_depth': 9, 'learning_rate': 0.15606808669699937, 'n_estimators': 724, 'min_child_weight': 6, 'gamma': 0.8767223215737932, 'subsample': 0.8655788983398257, 'colsample_bytree': 0.6228478414941545, 'reg_alpha': 0.22580092312950473, 'reg_lambda': 0.25241985343525397, 'random_state': 234}. Best is trial 43 with value: 12197965.806702673.\n",
      "[I 2024-04-20 11:50:04,404] Trial 91 finished with value: 12245977.594637642 and parameters: {'max_depth': 9, 'learning_rate': 0.1421295555227867, 'n_estimators': 738, 'min_child_weight': 7, 'gamma': 0.9041510881576827, 'subsample': 0.8121573299320324, 'colsample_bytree': 0.6766461840138254, 'reg_alpha': 0.2985803457509922, 'reg_lambda': 0.0760353438744185, 'random_state': 28}. Best is trial 43 with value: 12197965.806702673.\n",
      "[I 2024-04-20 11:50:10,693] Trial 92 finished with value: 12261673.12415561 and parameters: {'max_depth': 9, 'learning_rate': 0.13123228227580697, 'n_estimators': 780, 'min_child_weight': 7, 'gamma': 0.8492989052342534, 'subsample': 0.8916854084346604, 'colsample_bytree': 0.7666312132936197, 'reg_alpha': 0.34386570210517714, 'reg_lambda': 0.14492644992428855, 'random_state': 55}. Best is trial 43 with value: 12197965.806702673.\n",
      "[I 2024-04-20 11:50:17,253] Trial 93 finished with value: 12724453.218095534 and parameters: {'max_depth': 10, 'learning_rate': 0.22938255803146884, 'n_estimators': 768, 'min_child_weight': 8, 'gamma': 0.9307617859847206, 'subsample': 0.7168769346012774, 'colsample_bytree': 0.7372838200067382, 'reg_alpha': 0.3122473652703116, 'reg_lambda': 0.11205346606253166, 'random_state': 48}. Best is trial 43 with value: 12197965.806702673.\n",
      "[I 2024-04-20 11:50:23,735] Trial 94 finished with value: 15318669.262509048 and parameters: {'max_depth': 9, 'learning_rate': 0.03875552159021402, 'n_estimators': 813, 'min_child_weight': 6, 'gamma': 0.9013867183591276, 'subsample': 0.6873766641422404, 'colsample_bytree': 0.612526834746092, 'reg_alpha': 0.26949319736596444, 'reg_lambda': 0.10000403332275792, 'random_state': 103}. Best is trial 43 with value: 12197965.806702673.\n",
      "[I 2024-04-20 11:50:30,687] Trial 95 finished with value: 12205652.462911928 and parameters: {'max_depth': 9, 'learning_rate': 0.1985093609387908, 'n_estimators': 793, 'min_child_weight': 7, 'gamma': 0.9549922489772175, 'subsample': 0.9524840783357928, 'colsample_bytree': 0.6513274909560872, 'reg_alpha': 0.38132994386307756, 'reg_lambda': 0.03826058760210239, 'random_state': 841}. Best is trial 43 with value: 12197965.806702673.\n",
      "[I 2024-04-20 11:50:35,682] Trial 96 finished with value: 12438490.357629381 and parameters: {'max_depth': 8, 'learning_rate': 0.1659470119377814, 'n_estimators': 620, 'min_child_weight': 8, 'gamma': 0.9891656256563199, 'subsample': 0.9248901344974898, 'colsample_bytree': 0.6506074879684148, 'reg_alpha': 0.37533872622870024, 'reg_lambda': 0.03357114708469238, 'random_state': 958}. Best is trial 43 with value: 12197965.806702673.\n",
      "[I 2024-04-20 11:50:42,640] Trial 97 finished with value: 12268169.283075547 and parameters: {'max_depth': 10, 'learning_rate': 0.1921613361216207, 'n_estimators': 739, 'min_child_weight': 7, 'gamma': 0.9581239640860285, 'subsample': 0.9446566330038099, 'colsample_bytree': 0.8121043539123076, 'reg_alpha': 0.4212539256757465, 'reg_lambda': 0.28283910615952684, 'random_state': 773}. Best is trial 43 with value: 12197965.806702673.\n",
      "[I 2024-04-20 11:50:49,291] Trial 98 finished with value: 12159254.539087903 and parameters: {'max_depth': 9, 'learning_rate': 0.20452352013985373, 'n_estimators': 821, 'min_child_weight': 9, 'gamma': 0.863117007449859, 'subsample': 0.9723412326006441, 'colsample_bytree': 0.5350088774583761, 'reg_alpha': 0.4197575534081941, 'reg_lambda': 0.32246910517435157, 'random_state': 836}. Best is trial 98 with value: 12159254.539087903.\n",
      "[I 2024-04-20 11:50:55,854] Trial 99 finished with value: 12135717.895762924 and parameters: {'max_depth': 9, 'learning_rate': 0.20397736653344314, 'n_estimators': 852, 'min_child_weight': 9, 'gamma': 0.8721146469019844, 'subsample': 0.9735832780878945, 'colsample_bytree': 0.5385771799746266, 'reg_alpha': 0.45083833881263047, 'reg_lambda': 0.38587560746511024, 'random_state': 830}. Best is trial 99 with value: 12135717.895762924.\n",
      "[I 2024-04-20 11:51:02,860] Trial 100 finished with value: 12134858.614697162 and parameters: {'max_depth': 9, 'learning_rate': 0.20084124832949596, 'n_estimators': 861, 'min_child_weight': 8, 'gamma': 0.858335115738524, 'subsample': 0.9804403330127778, 'colsample_bytree': 0.5216963060370082, 'reg_alpha': 0.43514705091721795, 'reg_lambda': 0.37777082902137377, 'random_state': 844}. Best is trial 100 with value: 12134858.614697162.\n",
      "[I 2024-04-20 11:51:09,329] Trial 101 finished with value: 12111396.771449344 and parameters: {'max_depth': 9, 'learning_rate': 0.2004545344901768, 'n_estimators': 861, 'min_child_weight': 8, 'gamma': 0.8650458255227995, 'subsample': 0.9791167773626087, 'colsample_bytree': 0.536576079228489, 'reg_alpha': 0.43975528601136893, 'reg_lambda': 0.31429588068794434, 'random_state': 817}. Best is trial 101 with value: 12111396.771449344.\n",
      "[I 2024-04-20 11:51:15,982] Trial 102 finished with value: 12098506.214471046 and parameters: {'max_depth': 9, 'learning_rate': 0.20052940604714056, 'n_estimators': 856, 'min_child_weight': 8, 'gamma': 0.7855411010541897, 'subsample': 0.9761075891808086, 'colsample_bytree': 0.5407005124840784, 'reg_alpha': 0.4251820950654618, 'reg_lambda': 0.38120195479517827, 'random_state': 856}. Best is trial 102 with value: 12098506.214471046.\n",
      "[I 2024-04-20 11:51:22,897] Trial 103 finished with value: 12208943.690350259 and parameters: {'max_depth': 10, 'learning_rate': 0.20328519456837857, 'n_estimators': 854, 'min_child_weight': 8, 'gamma': 0.7896975864608385, 'subsample': 0.9696676456800596, 'colsample_bytree': 0.5307717779229727, 'reg_alpha': 0.42133545329117383, 'reg_lambda': 0.3067052892318153, 'random_state': 866}. Best is trial 102 with value: 12098506.214471046.\n",
      "[I 2024-04-20 11:51:29,632] Trial 104 finished with value: 12195574.782219155 and parameters: {'max_depth': 10, 'learning_rate': 0.20156159360582146, 'n_estimators': 853, 'min_child_weight': 8, 'gamma': 0.7911724885771351, 'subsample': 0.955405748272213, 'colsample_bytree': 0.4337158311563356, 'reg_alpha': 0.4275413702785206, 'reg_lambda': 0.3106837054129202, 'random_state': 842}. Best is trial 102 with value: 12098506.214471046.\n",
      "[I 2024-04-20 11:51:36,702] Trial 105 finished with value: 12234718.485876288 and parameters: {'max_depth': 10, 'learning_rate': 0.19956444524442488, 'n_estimators': 855, 'min_child_weight': 8, 'gamma': 0.7923046528299652, 'subsample': 0.9537638305818773, 'colsample_bytree': 0.4620887232413871, 'reg_alpha': 0.42439663163322844, 'reg_lambda': 0.32522807243274043, 'random_state': 848}. Best is trial 102 with value: 12098506.214471046.\n",
      "[I 2024-04-20 11:51:43,878] Trial 106 finished with value: 12334673.975969879 and parameters: {'max_depth': 10, 'learning_rate': 0.11561857061586703, 'n_estimators': 891, 'min_child_weight': 8, 'gamma': 0.7253499827987204, 'subsample': 0.9789207321294666, 'colsample_bytree': 0.42898595595220307, 'reg_alpha': 0.49242659002362593, 'reg_lambda': 0.3801259259121042, 'random_state': 843}. Best is trial 102 with value: 12098506.214471046.\n",
      "[I 2024-04-20 11:51:50,913] Trial 107 finished with value: 12246653.611055253 and parameters: {'max_depth': 10, 'learning_rate': 0.18652607012429762, 'n_estimators': 849, 'min_child_weight': 8, 'gamma': 0.7621594922024559, 'subsample': 0.9523251161370729, 'colsample_bytree': 0.5326538295370264, 'reg_alpha': 0.5267420300595425, 'reg_lambda': 0.3066222967976838, 'random_state': 917}. Best is trial 102 with value: 12098506.214471046.\n",
      "[I 2024-04-20 11:51:58,217] Trial 108 finished with value: 15929639.086540272 and parameters: {'max_depth': 10, 'learning_rate': 0.9957453360044317, 'n_estimators': 838, 'min_child_weight': 8, 'gamma': 0.8689485588347073, 'subsample': 0.9010088004627904, 'colsample_bytree': 0.4947127581734636, 'reg_alpha': 0.9338009641246541, 'reg_lambda': 0.34801249132415946, 'random_state': 801}. Best is trial 102 with value: 12098506.214471046.\n",
      "[I 2024-04-20 11:52:05,313] Trial 109 finished with value: 13150842.359180203 and parameters: {'max_depth': 10, 'learning_rate': 0.06558950386743193, 'n_estimators': 875, 'min_child_weight': 8, 'gamma': 0.7813986196817546, 'subsample': 0.8831679383876864, 'colsample_bytree': 0.38316347185666466, 'reg_alpha': 0.4401685176333725, 'reg_lambda': 0.3614402664771814, 'random_state': 879}. Best is trial 102 with value: 12098506.214471046.\n",
      "[I 2024-04-20 11:52:11,963] Trial 110 finished with value: 12222215.653820368 and parameters: {'max_depth': 9, 'learning_rate': 0.23635220673002116, 'n_estimators': 867, 'min_child_weight': 8, 'gamma': 0.8534627648265591, 'subsample': 0.9744852315727507, 'colsample_bytree': 0.4709886265425353, 'reg_alpha': 0.5593147725891694, 'reg_lambda': 0.38889322819609107, 'random_state': 720}. Best is trial 102 with value: 12098506.214471046.\n",
      "[I 2024-04-20 11:52:19,036] Trial 111 finished with value: 12164689.964550521 and parameters: {'max_depth': 9, 'learning_rate': 0.15669651907527207, 'n_estimators': 901, 'min_child_weight': 8, 'gamma': 0.8096326260443532, 'subsample': 0.9773479215918661, 'colsample_bytree': 0.4241411451187142, 'reg_alpha': 0.45961456297655523, 'reg_lambda': 0.306273356532539, 'random_state': 819}. Best is trial 102 with value: 12098506.214471046.\n",
      "[I 2024-04-20 11:52:26,235] Trial 112 finished with value: 12204133.30183481 and parameters: {'max_depth': 9, 'learning_rate': 0.17252423764056918, 'n_estimators': 912, 'min_child_weight': 8, 'gamma': 0.7482255369058977, 'subsample': 0.9434488548052498, 'colsample_bytree': 0.34310569949245806, 'reg_alpha': 0.4518800267059244, 'reg_lambda': 0.32960876281460155, 'random_state': 814}. Best is trial 102 with value: 12098506.214471046.\n",
      "[I 2024-04-20 11:52:33,751] Trial 113 finished with value: 12146707.628500469 and parameters: {'max_depth': 9, 'learning_rate': 0.20591083707057814, 'n_estimators': 919, 'min_child_weight': 8, 'gamma': 0.7513379386395901, 'subsample': 0.9465999677163609, 'colsample_bytree': 0.42801492050348683, 'reg_alpha': 0.4616227110457745, 'reg_lambda': 0.3099705055286474, 'random_state': 824}. Best is trial 102 with value: 12098506.214471046.\n",
      "[I 2024-04-20 11:52:40,842] Trial 114 finished with value: 12152937.620742729 and parameters: {'max_depth': 9, 'learning_rate': 0.1687564316701542, 'n_estimators': 926, 'min_child_weight': 8, 'gamma': 0.7371031088402414, 'subsample': 0.9484826180602122, 'colsample_bytree': 0.4320733255163914, 'reg_alpha': 0.456073882174337, 'reg_lambda': 0.3368029346775646, 'random_state': 824}. Best is trial 102 with value: 12098506.214471046.\n",
      "[I 2024-04-20 11:52:48,067] Trial 115 finished with value: 12866939.85552717 and parameters: {'max_depth': 9, 'learning_rate': 0.08877154442829084, 'n_estimators': 959, 'min_child_weight': 8, 'gamma': 0.7585834312556762, 'subsample': 0.9368935240395345, 'colsample_bytree': 0.3223846505688681, 'reg_alpha': 0.4884483181817374, 'reg_lambda': 0.3410218244276298, 'random_state': 821}. Best is trial 102 with value: 12098506.214471046.\n",
      "[I 2024-04-20 11:52:55,038] Trial 116 finished with value: 12192359.215419065 and parameters: {'max_depth': 9, 'learning_rate': 0.16811301263326084, 'n_estimators': 916, 'min_child_weight': 8, 'gamma': 0.7358193731261784, 'subsample': 0.953410111590538, 'colsample_bytree': 0.4314585533747175, 'reg_alpha': 0.46028739830177307, 'reg_lambda': 0.2737108948074397, 'random_state': 784}. Best is trial 102 with value: 12098506.214471046.\n",
      "[I 2024-04-20 11:53:01,738] Trial 117 finished with value: 12283746.409658493 and parameters: {'max_depth': 8, 'learning_rate': 0.17014510669458355, 'n_estimators': 920, 'min_child_weight': 8, 'gamma': 0.6944045334625942, 'subsample': 0.9146506905113774, 'colsample_bytree': 0.35006301082478214, 'reg_alpha': 0.5186325757878273, 'reg_lambda': 0.27264458827496263, 'random_state': 785}. Best is trial 102 with value: 12098506.214471046.\n",
      "[I 2024-04-20 11:53:08,605] Trial 118 finished with value: 12676175.909939026 and parameters: {'max_depth': 9, 'learning_rate': 0.10018766714315708, 'n_estimators': 903, 'min_child_weight': 8, 'gamma': 0.7427805739666158, 'subsample': 0.9797914018682824, 'colsample_bytree': 0.4147012474126869, 'reg_alpha': 0.46035855145098215, 'reg_lambda': 0.23151077162773426, 'random_state': 744}. Best is trial 102 with value: 12098506.214471046.\n",
      "[I 2024-04-20 11:53:16,237] Trial 119 finished with value: 12283582.953137051 and parameters: {'max_depth': 9, 'learning_rate': 0.12209767957172718, 'n_estimators': 932, 'min_child_weight': 3, 'gamma': 0.7168109906730622, 'subsample': 0.9331379653603378, 'colsample_bytree': 0.4400191063514176, 'reg_alpha': 0.48989058604948194, 'reg_lambda': 0.3310427564820536, 'random_state': 900}. Best is trial 102 with value: 12098506.214471046.\n",
      "[I 2024-04-20 11:53:20,385] Trial 120 finished with value: 28222757.754268106 and parameters: {'max_depth': 1, 'learning_rate': 0.1766249745427092, 'n_estimators': 888, 'min_child_weight': 8, 'gamma': 0.8011515846988609, 'subsample': 0.9472652345215624, 'colsample_bytree': 0.3927569620800789, 'reg_alpha': 0.46178643882056963, 'reg_lambda': 0.26995377164409856, 'random_state': 822}. Best is trial 102 with value: 12098506.214471046.\n",
      "[I 2024-04-20 11:53:27,361] Trial 121 finished with value: 13079151.114366995 and parameters: {'max_depth': 9, 'learning_rate': 0.2378249430474496, 'n_estimators': 913, 'min_child_weight': 7, 'gamma': 0.7494487336653962, 'subsample': 0.16336070145270087, 'colsample_bytree': 0.36843579832633233, 'reg_alpha': 0.44224385971771324, 'reg_lambda': 0.3668907723018373, 'random_state': 832}. Best is trial 102 with value: 12098506.214471046.\n",
      "[I 2024-04-20 11:53:33,648] Trial 122 finished with value: 12188217.619420687 and parameters: {'max_depth': 9, 'learning_rate': 0.20263390699554193, 'n_estimators': 820, 'min_child_weight': 8, 'gamma': 0.7725685852088893, 'subsample': 0.9595640727073007, 'colsample_bytree': 0.44096012956221114, 'reg_alpha': 0.41149862674023824, 'reg_lambda': 0.3052945958444631, 'random_state': 799}. Best is trial 102 with value: 12098506.214471046.\n",
      "[I 2024-04-20 11:53:40,959] Trial 123 finished with value: 12202956.130603058 and parameters: {'max_depth': 9, 'learning_rate': 0.15080418720292632, 'n_estimators': 941, 'min_child_weight': 8, 'gamma': 0.6859116737236424, 'subsample': 0.9797385385150578, 'colsample_bytree': 0.4402943896730741, 'reg_alpha': 0.40903090611762155, 'reg_lambda': 0.3024236565738929, 'random_state': 800}. Best is trial 102 with value: 12098506.214471046.\n",
      "[I 2024-04-20 11:53:48,219] Trial 124 finished with value: 12199189.021537635 and parameters: {'max_depth': 9, 'learning_rate': 0.1499014516371214, 'n_estimators': 954, 'min_child_weight': 9, 'gamma': 0.7736217962066372, 'subsample': 0.9782547225227806, 'colsample_bytree': 0.45111233395863504, 'reg_alpha': 0.41281118000152756, 'reg_lambda': 0.2920415000595063, 'random_state': 795}. Best is trial 102 with value: 12098506.214471046.\n",
      "[I 2024-04-20 11:53:54,241] Trial 125 finished with value: 12536040.22449583 and parameters: {'max_depth': 8, 'learning_rate': 0.1322480850624705, 'n_estimators': 821, 'min_child_weight': 9, 'gamma': 0.7783052506382536, 'subsample': 0.9083611952118757, 'colsample_bytree': 0.40522387199141496, 'reg_alpha': 0.5061139682579673, 'reg_lambda': 0.24125680967500082, 'random_state': 751}. Best is trial 102 with value: 12098506.214471046.\n",
      "[I 2024-04-20 11:54:01,692] Trial 126 finished with value: 12289787.740818625 and parameters: {'max_depth': 9, 'learning_rate': 0.2569037246630893, 'n_estimators': 974, 'min_child_weight': 9, 'gamma': 0.817535796562149, 'subsample': 0.9732273389413443, 'colsample_bytree': 0.500260909782186, 'reg_alpha': 0.4320956323893884, 'reg_lambda': 0.2861074928409803, 'random_state': 886}. Best is trial 102 with value: 12098506.214471046.\n",
      "[I 2024-04-20 11:54:07,999] Trial 127 finished with value: 12237705.91186071 and parameters: {'max_depth': 8, 'learning_rate': 0.19460221114512102, 'n_estimators': 840, 'min_child_weight': 9, 'gamma': 0.7347810789846618, 'subsample': 0.9585699480129359, 'colsample_bytree': 0.47769145032315696, 'reg_alpha': 0.5290316558633686, 'reg_lambda': 0.39557544292587277, 'random_state': 695}. Best is trial 102 with value: 12098506.214471046.\n",
      "[I 2024-04-20 11:54:15,276] Trial 128 finished with value: 12183163.190850457 and parameters: {'max_depth': 9, 'learning_rate': 0.22052880088352916, 'n_estimators': 869, 'min_child_weight': 9, 'gamma': 0.8309768794938386, 'subsample': 0.9225369035663272, 'colsample_bytree': 0.45805583849924353, 'reg_alpha': 0.41105979079876864, 'reg_lambda': 0.3147234835011319, 'random_state': 918}. Best is trial 102 with value: 12098506.214471046.\n",
      "[I 2024-04-20 11:54:22,465] Trial 129 finished with value: 12450074.800969671 and parameters: {'max_depth': 10, 'learning_rate': 0.2774916912799663, 'n_estimators': 864, 'min_child_weight': 8, 'gamma': 0.6095528376538346, 'subsample': 0.9239021802615311, 'colsample_bytree': 0.42434824026706314, 'reg_alpha': 0.7717002397806834, 'reg_lambda': 0.44659510146292114, 'random_state': 862}. Best is trial 102 with value: 12098506.214471046.\n",
      "[I 2024-04-20 11:54:29,069] Trial 130 finished with value: 12202301.071377527 and parameters: {'max_depth': 8, 'learning_rate': 0.224504862985065, 'n_estimators': 880, 'min_child_weight': 9, 'gamma': 0.8340696823881989, 'subsample': 0.9061217049075432, 'colsample_bytree': 0.45293429658253037, 'reg_alpha': 0.4950699404292553, 'reg_lambda': 0.4130776430163372, 'random_state': 922}. Best is trial 102 with value: 12098506.214471046.\n",
      "[I 2024-04-20 11:54:36,078] Trial 131 finished with value: 12166960.466266472 and parameters: {'max_depth': 9, 'learning_rate': 0.1578781878043413, 'n_estimators': 893, 'min_child_weight': 9, 'gamma': 0.808217473945691, 'subsample': 0.9615312115386746, 'colsample_bytree': 0.5100604156414401, 'reg_alpha': 0.41876983430778825, 'reg_lambda': 0.31405819875626434, 'random_state': 788}. Best is trial 102 with value: 12098506.214471046.\n",
      "[I 2024-04-20 11:54:44,141] Trial 132 finished with value: 12156476.107650373 and parameters: {'max_depth': 9, 'learning_rate': 0.2097998445571516, 'n_estimators': 896, 'min_child_weight': 9, 'gamma': 0.8095130535284665, 'subsample': 0.9585800589444342, 'colsample_bytree': 0.5014301640091129, 'reg_alpha': 0.4651192717192299, 'reg_lambda': 0.31242293968204554, 'random_state': 950}. Best is trial 102 with value: 12098506.214471046.\n",
      "[I 2024-04-20 11:54:52,310] Trial 133 finished with value: 12148584.356128458 and parameters: {'max_depth': 9, 'learning_rate': 0.21073123485382947, 'n_estimators': 896, 'min_child_weight': 9, 'gamma': 0.8082096983546048, 'subsample': 0.9619758206582785, 'colsample_bytree': 0.5416629466977771, 'reg_alpha': 0.46236874271488065, 'reg_lambda': 0.31438733930384855, 'random_state': 975}. Best is trial 102 with value: 12098506.214471046.\n",
      "[I 2024-04-20 11:55:00,617] Trial 134 finished with value: 12324491.871707575 and parameters: {'max_depth': 9, 'learning_rate': 0.24799720271313222, 'n_estimators': 887, 'min_child_weight': 9, 'gamma': 0.8107963654443093, 'subsample': 0.9328486418393468, 'colsample_bytree': 0.5053547581705535, 'reg_alpha': 0.4715737301279061, 'reg_lambda': 0.26381305870991795, 'random_state': 985}. Best is trial 102 with value: 12098506.214471046.\n",
      "[I 2024-04-20 11:55:08,552] Trial 135 finished with value: 12113479.75611493 and parameters: {'max_depth': 9, 'learning_rate': 0.181642656660379, 'n_estimators': 901, 'min_child_weight': 9, 'gamma': 0.8484998687254702, 'subsample': 0.9823564491745724, 'colsample_bytree': 0.549128999066372, 'reg_alpha': 0.45955542185071224, 'reg_lambda': 0.3556623161051923, 'random_state': 953}. Best is trial 102 with value: 12098506.214471046.\n",
      "[I 2024-04-20 11:55:16,114] Trial 136 finished with value: 12085195.588175526 and parameters: {'max_depth': 9, 'learning_rate': 0.18069902974118143, 'n_estimators': 899, 'min_child_weight': 9, 'gamma': 0.8495509043844821, 'subsample': 0.9841506910292169, 'colsample_bytree': 0.5532895608036504, 'reg_alpha': 0.35602097998099547, 'reg_lambda': 0.3585000554397834, 'random_state': 948}. Best is trial 136 with value: 12085195.588175526.\n",
      "[I 2024-04-20 11:55:24,989] Trial 137 finished with value: 14188104.348968102 and parameters: {'max_depth': 9, 'learning_rate': 0.9199488375224284, 'n_estimators': 898, 'min_child_weight': 9, 'gamma': 0.8499053424210365, 'subsample': 0.9999100549247799, 'colsample_bytree': 0.5462291637343952, 'reg_alpha': 0.4410863870053102, 'reg_lambda': 0.36136847958819096, 'random_state': 949}. Best is trial 136 with value: 12085195.588175526.\n",
      "[I 2024-04-20 11:55:33,741] Trial 138 finished with value: 12172369.216174284 and parameters: {'max_depth': 9, 'learning_rate': 0.23153352757741452, 'n_estimators': 932, 'min_child_weight': 9, 'gamma': 0.865715028952456, 'subsample': 0.9841293662079943, 'colsample_bytree': 0.5246106844040591, 'reg_alpha': 0.345158169146924, 'reg_lambda': 0.37718324059611946, 'random_state': 939}. Best is trial 136 with value: 12085195.588175526.\n",
      "[I 2024-04-20 11:55:42,095] Trial 139 finished with value: 12383916.915002398 and parameters: {'max_depth': 9, 'learning_rate': 0.29675469459999754, 'n_estimators': 925, 'min_child_weight': 9, 'gamma': 0.8572529408851854, 'subsample': 0.9765444214894171, 'colsample_bytree': 0.5178832136462872, 'reg_alpha': 0.35059233606860196, 'reg_lambda': 0.37717089173183665, 'random_state': 994}. Best is trial 136 with value: 12085195.588175526.\n",
      "[I 2024-04-20 11:55:50,432] Trial 140 finished with value: 12123315.004273735 and parameters: {'max_depth': 9, 'learning_rate': 0.18218136286892433, 'n_estimators': 905, 'min_child_weight': 9, 'gamma': 0.8722558029576287, 'subsample': 0.9842402053374429, 'colsample_bytree': 0.5738748420394452, 'reg_alpha': 0.3743292046916685, 'reg_lambda': 0.34298624340246986, 'random_state': 933}. Best is trial 136 with value: 12085195.588175526.\n",
      "[I 2024-04-20 11:55:55,616] Trial 141 finished with value: 17953595.312378354 and parameters: {'max_depth': 2, 'learning_rate': 0.18345842747376853, 'n_estimators': 905, 'min_child_weight': 9, 'gamma': 0.8730373020785746, 'subsample': 0.9806569280285125, 'colsample_bytree': 0.5403886023102791, 'reg_alpha': 0.37331980587804786, 'reg_lambda': 0.3451103805560976, 'random_state': 943}. Best is trial 136 with value: 12085195.588175526.\n",
      "[I 2024-04-20 11:56:03,388] Trial 142 finished with value: 12337082.72708513 and parameters: {'max_depth': 9, 'learning_rate': 0.1206991533271565, 'n_estimators': 881, 'min_child_weight': 9, 'gamma': 0.30312304175675886, 'subsample': 0.9854168404521129, 'colsample_bytree': 0.5689596832491418, 'reg_alpha': 0.4822575422007507, 'reg_lambda': 0.3308698747220009, 'random_state': 974}. Best is trial 136 with value: 12085195.588175526.\n",
      "[I 2024-04-20 11:56:11,290] Trial 143 finished with value: 12136323.95843085 and parameters: {'max_depth': 9, 'learning_rate': 0.1559018144843553, 'n_estimators': 947, 'min_child_weight': 9, 'gamma': 0.8355407190293619, 'subsample': 0.9971855498793589, 'colsample_bytree': 0.5757788356498112, 'reg_alpha': 0.34115844553325353, 'reg_lambda': 0.40375056589472835, 'random_state': 930}. Best is trial 136 with value: 12085195.588175526.\n",
      "[I 2024-04-20 11:56:19,168] Trial 144 finished with value: 12137112.968687994 and parameters: {'max_depth': 9, 'learning_rate': 0.15363412376508778, 'n_estimators': 950, 'min_child_weight': 9, 'gamma': 0.8122857136736471, 'subsample': 0.9624986104874482, 'colsample_bytree': 0.5746308327299494, 'reg_alpha': 0.39291842670158433, 'reg_lambda': 0.4038880196765967, 'random_state': 882}. Best is trial 136 with value: 12085195.588175526.\n",
      "[I 2024-04-20 11:56:27,445] Trial 145 finished with value: 12109702.718619552 and parameters: {'max_depth': 9, 'learning_rate': 0.13981798552151753, 'n_estimators': 978, 'min_child_weight': 9, 'gamma': 0.8270342818040475, 'subsample': 0.939148437883478, 'colsample_bytree': 0.5814710254260854, 'reg_alpha': 0.3930820269031434, 'reg_lambda': 0.40140194226525766, 'random_state': 889}. Best is trial 136 with value: 12085195.588175526.\n",
      "[I 2024-04-20 11:56:35,421] Trial 146 finished with value: 12171273.422812194 and parameters: {'max_depth': 9, 'learning_rate': 0.13456523764987838, 'n_estimators': 990, 'min_child_weight': 9, 'gamma': 0.8590602722487392, 'subsample': 0.998512236033648, 'colsample_bytree': 0.5749962360328035, 'reg_alpha': 0.38732877749979083, 'reg_lambda': 0.4020820800320684, 'random_state': 891}. Best is trial 136 with value: 12085195.588175526.\n",
      "[I 2024-04-20 11:56:42,521] Trial 147 finished with value: 12453777.550963372 and parameters: {'max_depth': 8, 'learning_rate': 0.10993470051729565, 'n_estimators': 942, 'min_child_weight': 9, 'gamma': 0.8352896446273169, 'subsample': 0.9377239918884485, 'colsample_bytree': 0.5515165940386001, 'reg_alpha': 0.3635599020526947, 'reg_lambda': 0.41994497850150586, 'random_state': 927}. Best is trial 136 with value: 12085195.588175526.\n",
      "[I 2024-04-20 11:56:50,622] Trial 148 finished with value: 13000937.369853873 and parameters: {'max_depth': 9, 'learning_rate': 0.06563041137634473, 'n_estimators': 972, 'min_child_weight': 10, 'gamma': 0.8246914961778121, 'subsample': 0.8945769620252162, 'colsample_bytree': 0.5808749062413605, 'reg_alpha': 0.3292384592314158, 'reg_lambda': 0.3588616016091448, 'random_state': 969}. Best is trial 136 with value: 12085195.588175526.\n",
      "[I 2024-04-20 11:56:58,657] Trial 149 finished with value: 12140853.07122249 and parameters: {'max_depth': 9, 'learning_rate': 0.1818552614516387, 'n_estimators': 949, 'min_child_weight': 9, 'gamma': 0.8412711308722866, 'subsample': 0.9471826923131172, 'colsample_bytree': 0.4829808488907885, 'reg_alpha': 0.396311669006812, 'reg_lambda': 0.43405547549009516, 'random_state': 903}. Best is trial 136 with value: 12085195.588175526.\n"
     ]
    }
   ],
   "source": [
    "# Create the study\n",
    "study = optuna.create_study(direction='minimize', study_name='regression')\n",
    "study.optimize(objective, n_trials=150)"
   ]
  },
  {
   "cell_type": "code",
   "execution_count": 10,
   "metadata": {},
   "outputs": [
    {
     "name": "stdout",
     "output_type": "stream",
     "text": [
      "Best trial FrozenTrial(number=136, state=TrialState.COMPLETE, values=[12085195.588175526], datetime_start=datetime.datetime(2024, 4, 20, 11, 55, 8, 553117), datetime_complete=datetime.datetime(2024, 4, 20, 11, 55, 16, 113104), params={'max_depth': 9, 'learning_rate': 0.18069902974118143, 'n_estimators': 899, 'min_child_weight': 9, 'gamma': 0.8495509043844821, 'subsample': 0.9841506910292169, 'colsample_bytree': 0.5532895608036504, 'reg_alpha': 0.35602097998099547, 'reg_lambda': 0.3585000554397834, 'random_state': 948}, user_attrs={}, system_attrs={}, intermediate_values={}, distributions={'max_depth': IntDistribution(high=10, log=False, low=1, step=1), 'learning_rate': FloatDistribution(high=1.0, log=False, low=0.01, step=None), 'n_estimators': IntDistribution(high=1000, log=False, low=500, step=1), 'min_child_weight': IntDistribution(high=10, log=False, low=1, step=1), 'gamma': FloatDistribution(high=1.0, log=False, low=0.01, step=None), 'subsample': FloatDistribution(high=1.0, log=False, low=0.01, step=None), 'colsample_bytree': FloatDistribution(high=1.0, log=False, low=0.01, step=None), 'reg_alpha': FloatDistribution(high=1.0, log=False, low=0.01, step=None), 'reg_lambda': FloatDistribution(high=1.0, log=False, low=0.01, step=None), 'random_state': IntDistribution(high=1000, log=False, low=1, step=1)}, trial_id=136, value=None)\n"
     ]
    }
   ],
   "source": [
    "print('Best trial', study.best_trial)"
   ]
  },
  {
   "cell_type": "code",
   "execution_count": 11,
   "metadata": {},
   "outputs": [
    {
     "name": "stdout",
     "output_type": "stream",
     "text": [
      "Best parameters {'max_depth': 9, 'learning_rate': 0.18069902974118143, 'n_estimators': 899, 'min_child_weight': 9, 'gamma': 0.8495509043844821, 'subsample': 0.9841506910292169, 'colsample_bytree': 0.5532895608036504, 'reg_alpha': 0.35602097998099547, 'reg_lambda': 0.3585000554397834, 'random_state': 948}\n"
     ]
    }
   ],
   "source": [
    "print('Best parameters', study.best_params)"
   ]
  },
  {
   "cell_type": "code",
   "execution_count": 12,
   "metadata": {},
   "outputs": [],
   "source": [
    "params1={'max_depth': 9, 'learning_rate': 0.18069902974118143, 'n_estimators': 899, 'min_child_weight': 9, 'gamma': 0.8495509043844821, 'subsample': 0.9841506910292169, 'colsample_bytree': 0.5532895608036504, 'reg_alpha': 0.35602097998099547, 'reg_lambda': 0.3585000554397834, 'random_state': 948}"
   ]
  },
  {
   "cell_type": "code",
   "execution_count": 18,
   "metadata": {},
   "outputs": [
    {
     "name": "stdout",
     "output_type": "stream",
     "text": [
      "Fitting 5 folds for each of 1 candidates, totalling 5 fits\n"
     ]
    },
    {
     "ename": "NotFittedError",
     "evalue": "need to call fit or load_model beforehand",
     "output_type": "error",
     "traceback": [
      "\u001b[1;31m---------------------------------------------------------------------------\u001b[0m",
      "\u001b[1;31mNotFittedError\u001b[0m                            Traceback (most recent call last)",
      "Cell \u001b[1;32mIn[18], line 16\u001b[0m\n\u001b[0;32m     12\u001b[0m model_cv_xgboost_reg\u001b[38;5;241m.\u001b[39mfit(X_train, y_train)\n\u001b[0;32m     14\u001b[0m best_model \u001b[38;5;241m=\u001b[39m model_cv_xgboost_reg\u001b[38;5;241m.\u001b[39mbest_estimator_\n\u001b[1;32m---> 16\u001b[0m y_pred \u001b[38;5;241m=\u001b[39m \u001b[43mpipe\u001b[49m\u001b[38;5;241;43m.\u001b[39;49m\u001b[43mpredict\u001b[49m\u001b[43m(\u001b[49m\u001b[43mX_test\u001b[49m\u001b[43m)\u001b[49m\n\u001b[0;32m     17\u001b[0m performance_regression_model(y_test\u001b[38;5;241m.\u001b[39mto_numpy()\u001b[38;5;241m.\u001b[39mravel(), y_pred)\n",
      "File \u001b[1;32mc:\\Users\\WD\\.conda\\envs\\VSCEnv\\lib\\site-packages\\sklearn\\pipeline.py:603\u001b[0m, in \u001b[0;36mPipeline.predict\u001b[1;34m(self, X, **params)\u001b[0m\n\u001b[0;32m    601\u001b[0m     \u001b[38;5;28;01mfor\u001b[39;00m _, name, transform \u001b[38;5;129;01min\u001b[39;00m \u001b[38;5;28mself\u001b[39m\u001b[38;5;241m.\u001b[39m_iter(with_final\u001b[38;5;241m=\u001b[39m\u001b[38;5;28;01mFalse\u001b[39;00m):\n\u001b[0;32m    602\u001b[0m         Xt \u001b[38;5;241m=\u001b[39m transform\u001b[38;5;241m.\u001b[39mtransform(Xt)\n\u001b[1;32m--> 603\u001b[0m     \u001b[38;5;28;01mreturn\u001b[39;00m \u001b[38;5;28mself\u001b[39m\u001b[38;5;241m.\u001b[39msteps[\u001b[38;5;241m-\u001b[39m\u001b[38;5;241m1\u001b[39m][\u001b[38;5;241m1\u001b[39m]\u001b[38;5;241m.\u001b[39mpredict(Xt, \u001b[38;5;241m*\u001b[39m\u001b[38;5;241m*\u001b[39mparams)\n\u001b[0;32m    605\u001b[0m \u001b[38;5;66;03m# metadata routing enabled\u001b[39;00m\n\u001b[0;32m    606\u001b[0m routed_params \u001b[38;5;241m=\u001b[39m process_routing(\u001b[38;5;28mself\u001b[39m, \u001b[38;5;124m\"\u001b[39m\u001b[38;5;124mpredict\u001b[39m\u001b[38;5;124m\"\u001b[39m, \u001b[38;5;241m*\u001b[39m\u001b[38;5;241m*\u001b[39mparams)\n",
      "File \u001b[1;32mc:\\Users\\WD\\.conda\\envs\\VSCEnv\\lib\\site-packages\\xgboost\\sklearn.py:1168\u001b[0m, in \u001b[0;36mXGBModel.predict\u001b[1;34m(self, X, output_margin, validate_features, base_margin, iteration_range)\u001b[0m\n\u001b[0;32m   1166\u001b[0m \u001b[38;5;28;01mif\u001b[39;00m \u001b[38;5;28mself\u001b[39m\u001b[38;5;241m.\u001b[39m_can_use_inplace_predict():\n\u001b[0;32m   1167\u001b[0m     \u001b[38;5;28;01mtry\u001b[39;00m:\n\u001b[1;32m-> 1168\u001b[0m         predts \u001b[38;5;241m=\u001b[39m \u001b[38;5;28;43mself\u001b[39;49m\u001b[38;5;241;43m.\u001b[39;49m\u001b[43mget_booster\u001b[49m\u001b[43m(\u001b[49m\u001b[43m)\u001b[49m\u001b[38;5;241m.\u001b[39minplace_predict(\n\u001b[0;32m   1169\u001b[0m             data\u001b[38;5;241m=\u001b[39mX,\n\u001b[0;32m   1170\u001b[0m             iteration_range\u001b[38;5;241m=\u001b[39miteration_range,\n\u001b[0;32m   1171\u001b[0m             predict_type\u001b[38;5;241m=\u001b[39m\u001b[38;5;124m\"\u001b[39m\u001b[38;5;124mmargin\u001b[39m\u001b[38;5;124m\"\u001b[39m \u001b[38;5;28;01mif\u001b[39;00m output_margin \u001b[38;5;28;01melse\u001b[39;00m \u001b[38;5;124m\"\u001b[39m\u001b[38;5;124mvalue\u001b[39m\u001b[38;5;124m\"\u001b[39m,\n\u001b[0;32m   1172\u001b[0m             missing\u001b[38;5;241m=\u001b[39m\u001b[38;5;28mself\u001b[39m\u001b[38;5;241m.\u001b[39mmissing,\n\u001b[0;32m   1173\u001b[0m             base_margin\u001b[38;5;241m=\u001b[39mbase_margin,\n\u001b[0;32m   1174\u001b[0m             validate_features\u001b[38;5;241m=\u001b[39mvalidate_features,\n\u001b[0;32m   1175\u001b[0m         )\n\u001b[0;32m   1176\u001b[0m         \u001b[38;5;28;01mif\u001b[39;00m _is_cupy_array(predts):\n\u001b[0;32m   1177\u001b[0m             \u001b[38;5;28;01mimport\u001b[39;00m \u001b[38;5;21;01mcupy\u001b[39;00m  \u001b[38;5;66;03m# pylint: disable=import-error\u001b[39;00m\n",
      "File \u001b[1;32mc:\\Users\\WD\\.conda\\envs\\VSCEnv\\lib\\site-packages\\xgboost\\sklearn.py:725\u001b[0m, in \u001b[0;36mXGBModel.get_booster\u001b[1;34m(self)\u001b[0m\n\u001b[0;32m    722\u001b[0m \u001b[38;5;28;01mif\u001b[39;00m \u001b[38;5;129;01mnot\u001b[39;00m \u001b[38;5;28mself\u001b[39m\u001b[38;5;241m.\u001b[39m__sklearn_is_fitted__():\n\u001b[0;32m    723\u001b[0m     \u001b[38;5;28;01mfrom\u001b[39;00m \u001b[38;5;21;01msklearn\u001b[39;00m\u001b[38;5;21;01m.\u001b[39;00m\u001b[38;5;21;01mexceptions\u001b[39;00m \u001b[38;5;28;01mimport\u001b[39;00m NotFittedError\n\u001b[1;32m--> 725\u001b[0m     \u001b[38;5;28;01mraise\u001b[39;00m NotFittedError(\u001b[38;5;124m\"\u001b[39m\u001b[38;5;124mneed to call fit or load_model beforehand\u001b[39m\u001b[38;5;124m\"\u001b[39m)\n\u001b[0;32m    726\u001b[0m \u001b[38;5;28;01mreturn\u001b[39;00m \u001b[38;5;28mself\u001b[39m\u001b[38;5;241m.\u001b[39m_Booster\n",
      "\u001b[1;31mNotFittedError\u001b[0m: need to call fit or load_model beforehand"
     ]
    }
   ],
   "source": [
    "pipe = make_pipeline(\n",
    "    preprocessor, \n",
    "    XGBRegressor(enable_categorical=True,**params1)\n",
    ")\n",
    "model_cv_xgboost_reg = GridSearchCV(\n",
    "    estimator=pipe,\n",
    "    param_grid={},\n",
    "    scoring='neg_mean_squared_error',\n",
    "    cv=KFold(n_splits=5, shuffle=True, random_state=0),\n",
    "    verbose=1\n",
    ")\n",
    "model_cv_xgboost_reg.fit(X_train, y_train)\n",
    "\n",
    "best_model = model_cv_xgboost_reg.best_estimator_\n",
    "\n",
    "y_pred = pipe.predict(X_test)\n",
    "performance_regression_model(y_test.to_numpy().ravel(), y_pred)"
   ]
  },
  {
   "cell_type": "markdown",
   "metadata": {},
   "source": [
    "# Viejo"
   ]
  },
  {
   "cell_type": "markdown",
   "metadata": {},
   "source": [
    "### Encoding"
   ]
  },
  {
   "cell_type": "code",
   "execution_count": 20,
   "metadata": {},
   "outputs": [],
   "source": [
    "label_encoder = LabelEncoder()\n",
    "\n",
    "# Aplica label encoding a la columna 'State'\n",
    "dataTraining['State'] = label_encoder.fit_transform(dataTraining['State'])\n",
    "\n",
    "# Aplica label encoding a las columnas 'Make' y 'Model'\n",
    "dataTraining['Make'] = label_encoder.fit_transform(dataTraining['Make'])\n",
    "dataTraining['Model'] = label_encoder.fit_transform(dataTraining['Model'])\n"
   ]
  },
  {
   "cell_type": "code",
   "execution_count": 21,
   "metadata": {},
   "outputs": [],
   "source": [
    "X=dataTraining[['Year', 'Mileage', 'State', 'Make', 'Model']]\n",
    "y=dataTraining['Price']"
   ]
  },
  {
   "cell_type": "markdown",
   "metadata": {},
   "source": [
    "### Separacion Train/Test"
   ]
  },
  {
   "cell_type": "code",
   "execution_count": 22,
   "metadata": {},
   "outputs": [],
   "source": [
    "X_train, X_test, y_train, y_test = train_test_split(X, y, test_size=0.33, random_state=42)"
   ]
  },
  {
   "cell_type": "code",
   "execution_count": 23,
   "metadata": {},
   "outputs": [],
   "source": [
    "scaler = StandardScaler()\n",
    "X_train_scaled = scaler.fit_transform(X_train[['Year', 'Mileage']])\n",
    "X_test_scaled = scaler.transform(X_test[['Year', 'Mileage']])"
   ]
  },
  {
   "cell_type": "markdown",
   "metadata": {},
   "source": [
    "### Modelo XGBRegressor"
   ]
  },
  {
   "cell_type": "code",
   "execution_count": 24,
   "metadata": {},
   "outputs": [],
   "source": [
    "xgb_reg = XGBRegressor(objective='reg:squarederror')"
   ]
  },
  {
   "cell_type": "code",
   "execution_count": 25,
   "metadata": {},
   "outputs": [
    {
     "name": "stdout",
     "output_type": "stream",
     "text": [
      "RMSE: 40161329.48271683, R2 Score: -1.257330776257389, MAE: 6915.933874752161\n"
     ]
    }
   ],
   "source": [
    "xgb_reg.fit(X_train_scaled, y_train)\n",
    "y_pred=xgb_reg.predict(X_test_scaled)\n",
    "XGb_sin_mse=mean_squared_error(y_pred, y_test.values)\n",
    "XGb_sin_r2=r2_score(y_pred, y_test.values)\n",
    "XGb_sin_mae=mean_absolute_error(y_pred, y_test.values)\n",
    "\n",
    "print(f'RMSE: {XGb_sin_mse**1/2}, R2 Score: {XGb_sin_r2}, MAE: {XGb_sin_mae}')"
   ]
  },
  {
   "cell_type": "markdown",
   "metadata": {},
   "source": [
    "## Calibracion Modelo XGBRegressor"
   ]
  },
  {
   "cell_type": "markdown",
   "metadata": {},
   "source": [
    "### Calibracion parametros Randomized Search CV"
   ]
  },
  {
   "cell_type": "code",
   "execution_count": 26,
   "metadata": {},
   "outputs": [
    {
     "name": "stdout",
     "output_type": "stream",
     "text": [
      "Fitting 10 folds for each of 27 candidates, totalling 270 fits\n"
     ]
    },
    {
     "ename": "KeyboardInterrupt",
     "evalue": "",
     "output_type": "error",
     "traceback": [
      "\u001b[1;31m---------------------------------------------------------------------------\u001b[0m",
      "\u001b[1;31mKeyboardInterrupt\u001b[0m                         Traceback (most recent call last)",
      "Cell \u001b[1;32mIn[26], line 12\u001b[0m\n\u001b[0;32m      8\u001b[0m xgb_reg_cal \u001b[38;5;241m=\u001b[39m XGBRegressor()\n\u001b[0;32m     10\u001b[0m random_search \u001b[38;5;241m=\u001b[39m RandomizedSearchCV(xgb_reg_cal, param_distributions\u001b[38;5;241m=\u001b[39mparam_grid, n_iter\u001b[38;5;241m=\u001b[39m\u001b[38;5;241m50\u001b[39m, scoring\u001b[38;5;241m=\u001b[39m\u001b[38;5;124m'\u001b[39m\u001b[38;5;124mneg_mean_squared_error\u001b[39m\u001b[38;5;124m'\u001b[39m, cv\u001b[38;5;241m=\u001b[39m\u001b[38;5;241m10\u001b[39m, verbose\u001b[38;5;241m=\u001b[39m\u001b[38;5;241m2\u001b[39m, random_state\u001b[38;5;241m=\u001b[39m\u001b[38;5;241m42\u001b[39m, n_jobs\u001b[38;5;241m=\u001b[39m\u001b[38;5;241m-\u001b[39m\u001b[38;5;241m1\u001b[39m)\n\u001b[1;32m---> 12\u001b[0m \u001b[43mrandom_search\u001b[49m\u001b[38;5;241;43m.\u001b[39;49m\u001b[43mfit\u001b[49m\u001b[43m(\u001b[49m\u001b[43mX_train_scaled\u001b[49m\u001b[43m,\u001b[49m\u001b[43m \u001b[49m\u001b[43my_train\u001b[49m\u001b[43m)\u001b[49m\n\u001b[0;32m     15\u001b[0m best_params_rs \u001b[38;5;241m=\u001b[39m random_search\u001b[38;5;241m.\u001b[39mbest_params_\n\u001b[0;32m     16\u001b[0m \u001b[38;5;28mprint\u001b[39m(\u001b[38;5;124m\"\u001b[39m\u001b[38;5;124mMejores hiperparámetros:\u001b[39m\u001b[38;5;124m\"\u001b[39m, best_params_rs)\n",
      "File \u001b[1;32mc:\\Users\\WD\\.conda\\envs\\VSCEnv\\lib\\site-packages\\sklearn\\base.py:1351\u001b[0m, in \u001b[0;36m_fit_context.<locals>.decorator.<locals>.wrapper\u001b[1;34m(estimator, *args, **kwargs)\u001b[0m\n\u001b[0;32m   1344\u001b[0m     estimator\u001b[38;5;241m.\u001b[39m_validate_params()\n\u001b[0;32m   1346\u001b[0m \u001b[38;5;28;01mwith\u001b[39;00m config_context(\n\u001b[0;32m   1347\u001b[0m     skip_parameter_validation\u001b[38;5;241m=\u001b[39m(\n\u001b[0;32m   1348\u001b[0m         prefer_skip_nested_validation \u001b[38;5;129;01mor\u001b[39;00m global_skip_validation\n\u001b[0;32m   1349\u001b[0m     )\n\u001b[0;32m   1350\u001b[0m ):\n\u001b[1;32m-> 1351\u001b[0m     \u001b[38;5;28;01mreturn\u001b[39;00m fit_method(estimator, \u001b[38;5;241m*\u001b[39margs, \u001b[38;5;241m*\u001b[39m\u001b[38;5;241m*\u001b[39mkwargs)\n",
      "File \u001b[1;32mc:\\Users\\WD\\.conda\\envs\\VSCEnv\\lib\\site-packages\\sklearn\\model_selection\\_search.py:970\u001b[0m, in \u001b[0;36mBaseSearchCV.fit\u001b[1;34m(self, X, y, **params)\u001b[0m\n\u001b[0;32m    964\u001b[0m     results \u001b[38;5;241m=\u001b[39m \u001b[38;5;28mself\u001b[39m\u001b[38;5;241m.\u001b[39m_format_results(\n\u001b[0;32m    965\u001b[0m         all_candidate_params, n_splits, all_out, all_more_results\n\u001b[0;32m    966\u001b[0m     )\n\u001b[0;32m    968\u001b[0m     \u001b[38;5;28;01mreturn\u001b[39;00m results\n\u001b[1;32m--> 970\u001b[0m \u001b[38;5;28;43mself\u001b[39;49m\u001b[38;5;241;43m.\u001b[39;49m\u001b[43m_run_search\u001b[49m\u001b[43m(\u001b[49m\u001b[43mevaluate_candidates\u001b[49m\u001b[43m)\u001b[49m\n\u001b[0;32m    972\u001b[0m \u001b[38;5;66;03m# multimetric is determined here because in the case of a callable\u001b[39;00m\n\u001b[0;32m    973\u001b[0m \u001b[38;5;66;03m# self.scoring the return type is only known after calling\u001b[39;00m\n\u001b[0;32m    974\u001b[0m first_test_score \u001b[38;5;241m=\u001b[39m all_out[\u001b[38;5;241m0\u001b[39m][\u001b[38;5;124m\"\u001b[39m\u001b[38;5;124mtest_scores\u001b[39m\u001b[38;5;124m\"\u001b[39m]\n",
      "File \u001b[1;32mc:\\Users\\WD\\.conda\\envs\\VSCEnv\\lib\\site-packages\\sklearn\\model_selection\\_search.py:1914\u001b[0m, in \u001b[0;36mRandomizedSearchCV._run_search\u001b[1;34m(self, evaluate_candidates)\u001b[0m\n\u001b[0;32m   1912\u001b[0m \u001b[38;5;28;01mdef\u001b[39;00m \u001b[38;5;21m_run_search\u001b[39m(\u001b[38;5;28mself\u001b[39m, evaluate_candidates):\n\u001b[0;32m   1913\u001b[0m \u001b[38;5;250m    \u001b[39m\u001b[38;5;124;03m\"\"\"Search n_iter candidates from param_distributions\"\"\"\u001b[39;00m\n\u001b[1;32m-> 1914\u001b[0m     \u001b[43mevaluate_candidates\u001b[49m\u001b[43m(\u001b[49m\n\u001b[0;32m   1915\u001b[0m \u001b[43m        \u001b[49m\u001b[43mParameterSampler\u001b[49m\u001b[43m(\u001b[49m\n\u001b[0;32m   1916\u001b[0m \u001b[43m            \u001b[49m\u001b[38;5;28;43mself\u001b[39;49m\u001b[38;5;241;43m.\u001b[39;49m\u001b[43mparam_distributions\u001b[49m\u001b[43m,\u001b[49m\u001b[43m \u001b[49m\u001b[38;5;28;43mself\u001b[39;49m\u001b[38;5;241;43m.\u001b[39;49m\u001b[43mn_iter\u001b[49m\u001b[43m,\u001b[49m\u001b[43m \u001b[49m\u001b[43mrandom_state\u001b[49m\u001b[38;5;241;43m=\u001b[39;49m\u001b[38;5;28;43mself\u001b[39;49m\u001b[38;5;241;43m.\u001b[39;49m\u001b[43mrandom_state\u001b[49m\n\u001b[0;32m   1917\u001b[0m \u001b[43m        \u001b[49m\u001b[43m)\u001b[49m\n\u001b[0;32m   1918\u001b[0m \u001b[43m    \u001b[49m\u001b[43m)\u001b[49m\n",
      "File \u001b[1;32mc:\\Users\\WD\\.conda\\envs\\VSCEnv\\lib\\site-packages\\sklearn\\model_selection\\_search.py:916\u001b[0m, in \u001b[0;36mBaseSearchCV.fit.<locals>.evaluate_candidates\u001b[1;34m(candidate_params, cv, more_results)\u001b[0m\n\u001b[0;32m    908\u001b[0m \u001b[38;5;28;01mif\u001b[39;00m \u001b[38;5;28mself\u001b[39m\u001b[38;5;241m.\u001b[39mverbose \u001b[38;5;241m>\u001b[39m \u001b[38;5;241m0\u001b[39m:\n\u001b[0;32m    909\u001b[0m     \u001b[38;5;28mprint\u001b[39m(\n\u001b[0;32m    910\u001b[0m         \u001b[38;5;124m\"\u001b[39m\u001b[38;5;124mFitting \u001b[39m\u001b[38;5;132;01m{0}\u001b[39;00m\u001b[38;5;124m folds for each of \u001b[39m\u001b[38;5;132;01m{1}\u001b[39;00m\u001b[38;5;124m candidates,\u001b[39m\u001b[38;5;124m\"\u001b[39m\n\u001b[0;32m    911\u001b[0m         \u001b[38;5;124m\"\u001b[39m\u001b[38;5;124m totalling \u001b[39m\u001b[38;5;132;01m{2}\u001b[39;00m\u001b[38;5;124m fits\u001b[39m\u001b[38;5;124m\"\u001b[39m\u001b[38;5;241m.\u001b[39mformat(\n\u001b[0;32m    912\u001b[0m             n_splits, n_candidates, n_candidates \u001b[38;5;241m*\u001b[39m n_splits\n\u001b[0;32m    913\u001b[0m         )\n\u001b[0;32m    914\u001b[0m     )\n\u001b[1;32m--> 916\u001b[0m out \u001b[38;5;241m=\u001b[39m \u001b[43mparallel\u001b[49m\u001b[43m(\u001b[49m\n\u001b[0;32m    917\u001b[0m \u001b[43m    \u001b[49m\u001b[43mdelayed\u001b[49m\u001b[43m(\u001b[49m\u001b[43m_fit_and_score\u001b[49m\u001b[43m)\u001b[49m\u001b[43m(\u001b[49m\n\u001b[0;32m    918\u001b[0m \u001b[43m        \u001b[49m\u001b[43mclone\u001b[49m\u001b[43m(\u001b[49m\u001b[43mbase_estimator\u001b[49m\u001b[43m)\u001b[49m\u001b[43m,\u001b[49m\n\u001b[0;32m    919\u001b[0m \u001b[43m        \u001b[49m\u001b[43mX\u001b[49m\u001b[43m,\u001b[49m\n\u001b[0;32m    920\u001b[0m \u001b[43m        \u001b[49m\u001b[43my\u001b[49m\u001b[43m,\u001b[49m\n\u001b[0;32m    921\u001b[0m \u001b[43m        \u001b[49m\u001b[43mtrain\u001b[49m\u001b[38;5;241;43m=\u001b[39;49m\u001b[43mtrain\u001b[49m\u001b[43m,\u001b[49m\n\u001b[0;32m    922\u001b[0m \u001b[43m        \u001b[49m\u001b[43mtest\u001b[49m\u001b[38;5;241;43m=\u001b[39;49m\u001b[43mtest\u001b[49m\u001b[43m,\u001b[49m\n\u001b[0;32m    923\u001b[0m \u001b[43m        \u001b[49m\u001b[43mparameters\u001b[49m\u001b[38;5;241;43m=\u001b[39;49m\u001b[43mparameters\u001b[49m\u001b[43m,\u001b[49m\n\u001b[0;32m    924\u001b[0m \u001b[43m        \u001b[49m\u001b[43msplit_progress\u001b[49m\u001b[38;5;241;43m=\u001b[39;49m\u001b[43m(\u001b[49m\u001b[43msplit_idx\u001b[49m\u001b[43m,\u001b[49m\u001b[43m \u001b[49m\u001b[43mn_splits\u001b[49m\u001b[43m)\u001b[49m\u001b[43m,\u001b[49m\n\u001b[0;32m    925\u001b[0m \u001b[43m        \u001b[49m\u001b[43mcandidate_progress\u001b[49m\u001b[38;5;241;43m=\u001b[39;49m\u001b[43m(\u001b[49m\u001b[43mcand_idx\u001b[49m\u001b[43m,\u001b[49m\u001b[43m \u001b[49m\u001b[43mn_candidates\u001b[49m\u001b[43m)\u001b[49m\u001b[43m,\u001b[49m\n\u001b[0;32m    926\u001b[0m \u001b[43m        \u001b[49m\u001b[38;5;241;43m*\u001b[39;49m\u001b[38;5;241;43m*\u001b[39;49m\u001b[43mfit_and_score_kwargs\u001b[49m\u001b[43m,\u001b[49m\n\u001b[0;32m    927\u001b[0m \u001b[43m    \u001b[49m\u001b[43m)\u001b[49m\n\u001b[0;32m    928\u001b[0m \u001b[43m    \u001b[49m\u001b[38;5;28;43;01mfor\u001b[39;49;00m\u001b[43m \u001b[49m\u001b[43m(\u001b[49m\u001b[43mcand_idx\u001b[49m\u001b[43m,\u001b[49m\u001b[43m \u001b[49m\u001b[43mparameters\u001b[49m\u001b[43m)\u001b[49m\u001b[43m,\u001b[49m\u001b[43m \u001b[49m\u001b[43m(\u001b[49m\u001b[43msplit_idx\u001b[49m\u001b[43m,\u001b[49m\u001b[43m \u001b[49m\u001b[43m(\u001b[49m\u001b[43mtrain\u001b[49m\u001b[43m,\u001b[49m\u001b[43m \u001b[49m\u001b[43mtest\u001b[49m\u001b[43m)\u001b[49m\u001b[43m)\u001b[49m\u001b[43m \u001b[49m\u001b[38;5;129;43;01min\u001b[39;49;00m\u001b[43m \u001b[49m\u001b[43mproduct\u001b[49m\u001b[43m(\u001b[49m\n\u001b[0;32m    929\u001b[0m \u001b[43m        \u001b[49m\u001b[38;5;28;43menumerate\u001b[39;49m\u001b[43m(\u001b[49m\u001b[43mcandidate_params\u001b[49m\u001b[43m)\u001b[49m\u001b[43m,\u001b[49m\n\u001b[0;32m    930\u001b[0m \u001b[43m        \u001b[49m\u001b[38;5;28;43menumerate\u001b[39;49m\u001b[43m(\u001b[49m\u001b[43mcv\u001b[49m\u001b[38;5;241;43m.\u001b[39;49m\u001b[43msplit\u001b[49m\u001b[43m(\u001b[49m\u001b[43mX\u001b[49m\u001b[43m,\u001b[49m\u001b[43m \u001b[49m\u001b[43my\u001b[49m\u001b[43m,\u001b[49m\u001b[43m \u001b[49m\u001b[38;5;241;43m*\u001b[39;49m\u001b[38;5;241;43m*\u001b[39;49m\u001b[43mrouted_params\u001b[49m\u001b[38;5;241;43m.\u001b[39;49m\u001b[43msplitter\u001b[49m\u001b[38;5;241;43m.\u001b[39;49m\u001b[43msplit\u001b[49m\u001b[43m)\u001b[49m\u001b[43m)\u001b[49m\u001b[43m,\u001b[49m\n\u001b[0;32m    931\u001b[0m \u001b[43m    \u001b[49m\u001b[43m)\u001b[49m\n\u001b[0;32m    932\u001b[0m \u001b[43m\u001b[49m\u001b[43m)\u001b[49m\n\u001b[0;32m    934\u001b[0m \u001b[38;5;28;01mif\u001b[39;00m \u001b[38;5;28mlen\u001b[39m(out) \u001b[38;5;241m<\u001b[39m \u001b[38;5;241m1\u001b[39m:\n\u001b[0;32m    935\u001b[0m     \u001b[38;5;28;01mraise\u001b[39;00m \u001b[38;5;167;01mValueError\u001b[39;00m(\n\u001b[0;32m    936\u001b[0m         \u001b[38;5;124m\"\u001b[39m\u001b[38;5;124mNo fits were performed. \u001b[39m\u001b[38;5;124m\"\u001b[39m\n\u001b[0;32m    937\u001b[0m         \u001b[38;5;124m\"\u001b[39m\u001b[38;5;124mWas the CV iterator empty? \u001b[39m\u001b[38;5;124m\"\u001b[39m\n\u001b[0;32m    938\u001b[0m         \u001b[38;5;124m\"\u001b[39m\u001b[38;5;124mWere there no candidates?\u001b[39m\u001b[38;5;124m\"\u001b[39m\n\u001b[0;32m    939\u001b[0m     )\n",
      "File \u001b[1;32mc:\\Users\\WD\\.conda\\envs\\VSCEnv\\lib\\site-packages\\sklearn\\utils\\parallel.py:67\u001b[0m, in \u001b[0;36mParallel.__call__\u001b[1;34m(self, iterable)\u001b[0m\n\u001b[0;32m     62\u001b[0m config \u001b[38;5;241m=\u001b[39m get_config()\n\u001b[0;32m     63\u001b[0m iterable_with_config \u001b[38;5;241m=\u001b[39m (\n\u001b[0;32m     64\u001b[0m     (_with_config(delayed_func, config), args, kwargs)\n\u001b[0;32m     65\u001b[0m     \u001b[38;5;28;01mfor\u001b[39;00m delayed_func, args, kwargs \u001b[38;5;129;01min\u001b[39;00m iterable\n\u001b[0;32m     66\u001b[0m )\n\u001b[1;32m---> 67\u001b[0m \u001b[38;5;28;01mreturn\u001b[39;00m \u001b[38;5;28;43msuper\u001b[39;49m\u001b[43m(\u001b[49m\u001b[43m)\u001b[49m\u001b[38;5;241;43m.\u001b[39;49m\u001b[38;5;21;43m__call__\u001b[39;49m\u001b[43m(\u001b[49m\u001b[43miterable_with_config\u001b[49m\u001b[43m)\u001b[49m\n",
      "File \u001b[1;32mc:\\Users\\WD\\.conda\\envs\\VSCEnv\\lib\\site-packages\\joblib\\parallel.py:1952\u001b[0m, in \u001b[0;36mParallel.__call__\u001b[1;34m(self, iterable)\u001b[0m\n\u001b[0;32m   1946\u001b[0m \u001b[38;5;66;03m# The first item from the output is blank, but it makes the interpreter\u001b[39;00m\n\u001b[0;32m   1947\u001b[0m \u001b[38;5;66;03m# progress until it enters the Try/Except block of the generator and\u001b[39;00m\n\u001b[0;32m   1948\u001b[0m \u001b[38;5;66;03m# reach the first `yield` statement. This starts the aynchronous\u001b[39;00m\n\u001b[0;32m   1949\u001b[0m \u001b[38;5;66;03m# dispatch of the tasks to the workers.\u001b[39;00m\n\u001b[0;32m   1950\u001b[0m \u001b[38;5;28mnext\u001b[39m(output)\n\u001b[1;32m-> 1952\u001b[0m \u001b[38;5;28;01mreturn\u001b[39;00m output \u001b[38;5;28;01mif\u001b[39;00m \u001b[38;5;28mself\u001b[39m\u001b[38;5;241m.\u001b[39mreturn_generator \u001b[38;5;28;01melse\u001b[39;00m \u001b[38;5;28;43mlist\u001b[39;49m\u001b[43m(\u001b[49m\u001b[43moutput\u001b[49m\u001b[43m)\u001b[49m\n",
      "File \u001b[1;32mc:\\Users\\WD\\.conda\\envs\\VSCEnv\\lib\\site-packages\\joblib\\parallel.py:1595\u001b[0m, in \u001b[0;36mParallel._get_outputs\u001b[1;34m(self, iterator, pre_dispatch)\u001b[0m\n\u001b[0;32m   1592\u001b[0m     \u001b[38;5;28;01myield\u001b[39;00m\n\u001b[0;32m   1594\u001b[0m     \u001b[38;5;28;01mwith\u001b[39;00m \u001b[38;5;28mself\u001b[39m\u001b[38;5;241m.\u001b[39m_backend\u001b[38;5;241m.\u001b[39mretrieval_context():\n\u001b[1;32m-> 1595\u001b[0m         \u001b[38;5;28;01myield from\u001b[39;00m \u001b[38;5;28mself\u001b[39m\u001b[38;5;241m.\u001b[39m_retrieve()\n\u001b[0;32m   1597\u001b[0m \u001b[38;5;28;01mexcept\u001b[39;00m \u001b[38;5;167;01mGeneratorExit\u001b[39;00m:\n\u001b[0;32m   1598\u001b[0m     \u001b[38;5;66;03m# The generator has been garbage collected before being fully\u001b[39;00m\n\u001b[0;32m   1599\u001b[0m     \u001b[38;5;66;03m# consumed. This aborts the remaining tasks if possible and warn\u001b[39;00m\n\u001b[0;32m   1600\u001b[0m     \u001b[38;5;66;03m# the user if necessary.\u001b[39;00m\n\u001b[0;32m   1601\u001b[0m     \u001b[38;5;28mself\u001b[39m\u001b[38;5;241m.\u001b[39m_exception \u001b[38;5;241m=\u001b[39m \u001b[38;5;28;01mTrue\u001b[39;00m\n",
      "File \u001b[1;32mc:\\Users\\WD\\.conda\\envs\\VSCEnv\\lib\\site-packages\\joblib\\parallel.py:1707\u001b[0m, in \u001b[0;36mParallel._retrieve\u001b[1;34m(self)\u001b[0m\n\u001b[0;32m   1702\u001b[0m \u001b[38;5;66;03m# If the next job is not ready for retrieval yet, we just wait for\u001b[39;00m\n\u001b[0;32m   1703\u001b[0m \u001b[38;5;66;03m# async callbacks to progress.\u001b[39;00m\n\u001b[0;32m   1704\u001b[0m \u001b[38;5;28;01mif\u001b[39;00m ((\u001b[38;5;28mlen\u001b[39m(\u001b[38;5;28mself\u001b[39m\u001b[38;5;241m.\u001b[39m_jobs) \u001b[38;5;241m==\u001b[39m \u001b[38;5;241m0\u001b[39m) \u001b[38;5;129;01mor\u001b[39;00m\n\u001b[0;32m   1705\u001b[0m     (\u001b[38;5;28mself\u001b[39m\u001b[38;5;241m.\u001b[39m_jobs[\u001b[38;5;241m0\u001b[39m]\u001b[38;5;241m.\u001b[39mget_status(\n\u001b[0;32m   1706\u001b[0m         timeout\u001b[38;5;241m=\u001b[39m\u001b[38;5;28mself\u001b[39m\u001b[38;5;241m.\u001b[39mtimeout) \u001b[38;5;241m==\u001b[39m TASK_PENDING)):\n\u001b[1;32m-> 1707\u001b[0m     \u001b[43mtime\u001b[49m\u001b[38;5;241;43m.\u001b[39;49m\u001b[43msleep\u001b[49m\u001b[43m(\u001b[49m\u001b[38;5;241;43m0.01\u001b[39;49m\u001b[43m)\u001b[49m\n\u001b[0;32m   1708\u001b[0m     \u001b[38;5;28;01mcontinue\u001b[39;00m\n\u001b[0;32m   1710\u001b[0m \u001b[38;5;66;03m# We need to be careful: the job list can be filling up as\u001b[39;00m\n\u001b[0;32m   1711\u001b[0m \u001b[38;5;66;03m# we empty it and Python list are not thread-safe by\u001b[39;00m\n\u001b[0;32m   1712\u001b[0m \u001b[38;5;66;03m# default hence the use of the lock\u001b[39;00m\n",
      "\u001b[1;31mKeyboardInterrupt\u001b[0m: "
     ]
    }
   ],
   "source": [
    "\n",
    "\n",
    "# Definir los hiperparámetros a explorar\n",
    "param_grid = {\n",
    "    'learning_rate': [0.01, 0.1, 0.3],\n",
    "    'max_depth': [3, 5, 7],\n",
    "    'n_estimators': [100, 200, 300]\n",
    "}\n",
    "\n",
    "xgb_reg_cal = XGBRegressor()\n",
    "\n",
    "random_search = RandomizedSearchCV(xgb_reg_cal, param_distributions=param_grid, n_iter=50, scoring='neg_mean_squared_error', cv=10, verbose=2, random_state=42, n_jobs=-1)\n",
    "\n",
    "random_search.fit(X_train_scaled, y_train)\n",
    "\n",
    "\n",
    "best_params_rs = random_search.best_params_\n",
    "print(\"Mejores hiperparámetros:\", best_params_rs)\n",
    "\n",
    "XGB_RMCV = random_search.best_estimator_\n"
   ]
  },
  {
   "cell_type": "code",
   "execution_count": null,
   "metadata": {},
   "outputs": [
    {
     "name": "stdout",
     "output_type": "stream",
     "text": [
      "RMSE: 40016286.55899231, R2 Score: 0.30436269176415165, MAE: 6910.2168050796045\n"
     ]
    }
   ],
   "source": [
    "y_pred = XGB_RMCV.predict(X_test_scaled)\n",
    "MSEXGB=mean_squared_error(y_test, y_pred)\n",
    "r2XGB=r2_score(y_test, y_pred)\n",
    "MAEXGB=mean_absolute_error(y_test, y_pred)\n",
    "\n",
    "print(f'RMSE: {MSEXGB**1/2}, R2 Score: {r2XGB}, MAE: {MAEXGB}')"
   ]
  },
  {
   "cell_type": "markdown",
   "metadata": {},
   "source": [
    "### Calibracion parametros XGBoost Optuna"
   ]
  },
  {
   "cell_type": "code",
   "execution_count": null,
   "metadata": {},
   "outputs": [],
   "source": [
    "\n",
    "def objective(trial):\n",
    "    param = {\n",
    "        'max_depth': trial.suggest_int('max_depth', 1, 10),\n",
    "        'learning_rate': trial.suggest_float('learning_rate', 0.01, 1),\n",
    "        'n_estimators': trial.suggest_int('n_estimators', 500, 1000),\n",
    "        'min_child_weight': trial.suggest_int('min_child_weight', 1, 10),\n",
    "        'gamma': trial.suggest_float('gamma', 0.01, 1),\n",
    "        'subsample': trial.suggest_float('subsample', 0.01, 1.0),\n",
    "        'colsample_bytree': trial.suggest_float('colsample_bytree', 0.01, 1.0),\n",
    "        'reg_alpha': trial.suggest_float('reg_alpha', 0.01, 1.0),\n",
    "        'reg_lambda': trial.suggest_float('reg_lambda', 0.01, 1.0),\n",
    "        'random_state': trial.suggest_int('random_state', 1, 1000)\n",
    "    }\n",
    "    model = XGBRegressor(**param)\n",
    "    model.fit(X_train_scaled, y_train)\n",
    "    y_pred = model.predict(X_test_scaled)\n",
    "    return mean_squared_error(y_test, y_pred)"
   ]
  },
  {
   "cell_type": "code",
   "execution_count": null,
   "metadata": {},
   "outputs": [
    {
     "name": "stderr",
     "output_type": "stream",
     "text": [
      "[I 2024-04-19 12:59:16,846] A new study created in memory with name: regression\n",
      "[I 2024-04-19 12:59:20,501] Trial 0 finished with value: 81554271.41144386 and parameters: {'max_depth': 7, 'learning_rate': 0.7231828767295525, 'n_estimators': 779, 'min_child_weight': 8, 'gamma': 0.47134607051931454, 'subsample': 0.873733947767901, 'colsample_bytree': 0.47854592833116183, 'reg_alpha': 0.5955643159911852, 'reg_lambda': 0.9739600803225049, 'random_state': 526}. Best is trial 0 with value: 81554271.41144386.\n",
      "[I 2024-04-19 12:59:22,857] Trial 1 finished with value: 82067395.79642706 and parameters: {'max_depth': 6, 'learning_rate': 0.56816484939213, 'n_estimators': 527, 'min_child_weight': 5, 'gamma': 0.8497303102660381, 'subsample': 0.05471680966697649, 'colsample_bytree': 0.6340323975725317, 'reg_alpha': 0.748031575135371, 'reg_lambda': 0.7137705825890968, 'random_state': 220}. Best is trial 0 with value: 81554271.41144386.\n",
      "[I 2024-04-19 12:59:26,596] Trial 2 finished with value: 81557745.03533572 and parameters: {'max_depth': 9, 'learning_rate': 0.40326212114162874, 'n_estimators': 778, 'min_child_weight': 6, 'gamma': 0.9489586905104068, 'subsample': 0.756856603583275, 'colsample_bytree': 0.6407429607502323, 'reg_alpha': 0.5646471236981837, 'reg_lambda': 0.5728023897761709, 'random_state': 571}. Best is trial 0 with value: 81554271.41144386.\n",
      "[I 2024-04-19 12:59:30,504] Trial 3 finished with value: 81572714.94662397 and parameters: {'max_depth': 6, 'learning_rate': 0.6818815116878756, 'n_estimators': 832, 'min_child_weight': 8, 'gamma': 0.9326256914621538, 'subsample': 0.5544973404220107, 'colsample_bytree': 0.04410337653717493, 'reg_alpha': 0.3444315646527897, 'reg_lambda': 0.6236288805896024, 'random_state': 500}. Best is trial 0 with value: 81554271.41144386.\n",
      "[I 2024-04-19 12:59:32,434] Trial 4 finished with value: 81517351.76949345 and parameters: {'max_depth': 3, 'learning_rate': 0.12655073198778138, 'n_estimators': 557, 'min_child_weight': 10, 'gamma': 0.6806895471013135, 'subsample': 0.29332308168995896, 'colsample_bytree': 0.7754256266080172, 'reg_alpha': 0.46845497531407254, 'reg_lambda': 0.527128893316317, 'random_state': 660}. Best is trial 4 with value: 81517351.76949345.\n",
      "[I 2024-04-19 12:59:37,429] Trial 5 finished with value: 81555308.60800046 and parameters: {'max_depth': 9, 'learning_rate': 0.05945363400192099, 'n_estimators': 960, 'min_child_weight': 5, 'gamma': 0.05799983377044793, 'subsample': 0.2625270993889326, 'colsample_bytree': 0.7926588690806596, 'reg_alpha': 0.2652410123153902, 'reg_lambda': 0.5257796412519752, 'random_state': 433}. Best is trial 4 with value: 81517351.76949345.\n",
      "[I 2024-04-19 12:59:39,942] Trial 6 finished with value: 81501985.59351386 and parameters: {'max_depth': 1, 'learning_rate': 0.5844799584706384, 'n_estimators': 735, 'min_child_weight': 4, 'gamma': 0.01567331902987681, 'subsample': 0.4317403034727151, 'colsample_bytree': 0.44206068341125704, 'reg_alpha': 0.5130220649928166, 'reg_lambda': 0.26474964428225084, 'random_state': 618}. Best is trial 6 with value: 81501985.59351386.\n",
      "[I 2024-04-19 12:59:43,728] Trial 7 finished with value: 81536821.30452783 and parameters: {'max_depth': 4, 'learning_rate': 0.11557481037069436, 'n_estimators': 871, 'min_child_weight': 4, 'gamma': 0.3759318974021383, 'subsample': 0.7395206087444705, 'colsample_bytree': 0.9103225547508067, 'reg_alpha': 0.8238506684169419, 'reg_lambda': 0.6476148519193587, 'random_state': 107}. Best is trial 6 with value: 81501985.59351386.\n",
      "[I 2024-04-19 12:59:48,070] Trial 8 finished with value: 81558246.60758658 and parameters: {'max_depth': 6, 'learning_rate': 0.24429038223613822, 'n_estimators': 774, 'min_child_weight': 10, 'gamma': 0.17608883628901484, 'subsample': 0.6206383048653127, 'colsample_bytree': 0.4373793686009152, 'reg_alpha': 0.021292774194036114, 'reg_lambda': 0.3927365823708506, 'random_state': 728}. Best is trial 6 with value: 81501985.59351386.\n",
      "[I 2024-04-19 12:59:52,379] Trial 9 finished with value: 81546395.45417865 and parameters: {'max_depth': 6, 'learning_rate': 0.054813035671521175, 'n_estimators': 821, 'min_child_weight': 9, 'gamma': 0.018307311146180963, 'subsample': 0.8358054821180831, 'colsample_bytree': 0.12758709789877182, 'reg_alpha': 0.3473067307524564, 'reg_lambda': 0.3873957393114077, 'random_state': 168}. Best is trial 6 with value: 81501985.59351386.\n",
      "[I 2024-04-19 12:59:54,714] Trial 10 finished with value: 81533460.25348881 and parameters: {'max_depth': 1, 'learning_rate': 0.9584027777313237, 'n_estimators': 689, 'min_child_weight': 1, 'gamma': 0.2899006481542934, 'subsample': 0.3822641613972531, 'colsample_bytree': 0.24946811543781805, 'reg_alpha': 0.04512635699638279, 'reg_lambda': 0.04677083027848905, 'random_state': 987}. Best is trial 6 with value: 81501985.59351386.\n",
      "[I 2024-04-19 12:59:56,613] Trial 11 finished with value: 81521714.72625044 and parameters: {'max_depth': 1, 'learning_rate': 0.37416118481403804, 'n_estimators': 625, 'min_child_weight': 3, 'gamma': 0.715090062418331, 'subsample': 0.26281026433643523, 'colsample_bytree': 0.3498637651624038, 'reg_alpha': 0.4886563871034708, 'reg_lambda': 0.11303375794276352, 'random_state': 774}. Best is trial 6 with value: 81501985.59351386.\n",
      "[I 2024-04-19 12:59:58,379] Trial 12 finished with value: 81603416.55303262 and parameters: {'max_depth': 3, 'learning_rate': 0.8368788935112472, 'n_estimators': 512, 'min_child_weight': 2, 'gamma': 0.6352687836770918, 'subsample': 0.387876160694852, 'colsample_bytree': 0.6989661238406208, 'reg_alpha': 0.6878806780852342, 'reg_lambda': 0.24414589419757732, 'random_state': 742}. Best is trial 6 with value: 81501985.59351386.\n",
      "[I 2024-04-19 13:00:00,380] Trial 13 finished with value: 82365277.28474203 and parameters: {'max_depth': 3, 'learning_rate': 0.5225035842655211, 'n_estimators': 617, 'min_child_weight': 7, 'gamma': 0.676736692619671, 'subsample': 0.027500136660441765, 'colsample_bytree': 0.8351418684724575, 'reg_alpha': 0.9133395442877051, 'reg_lambda': 0.2566350735743447, 'random_state': 348}. Best is trial 6 with value: 81501985.59351386.\n",
      "[I 2024-04-19 13:00:02,377] Trial 14 finished with value: 81546213.82025144 and parameters: {'max_depth': 2, 'learning_rate': 0.2646952409297081, 'n_estimators': 663, 'min_child_weight': 3, 'gamma': 0.5351160615255992, 'subsample': 0.21030092000751174, 'colsample_bytree': 0.5646794391239263, 'reg_alpha': 0.44910223457950504, 'reg_lambda': 0.8088321061855359, 'random_state': 896}. Best is trial 6 with value: 81501985.59351386.\n",
      "[I 2024-04-19 13:00:04,505] Trial 15 finished with value: 81597435.12176725 and parameters: {'max_depth': 4, 'learning_rate': 0.6291954365963099, 'n_estimators': 577, 'min_child_weight': 10, 'gamma': 0.791284040576314, 'subsample': 0.42470529755470465, 'colsample_bytree': 0.9893210501382452, 'reg_alpha': 0.1904631057306445, 'reg_lambda': 0.3958157515705519, 'random_state': 629}. Best is trial 6 with value: 81501985.59351386.\n",
      "[I 2024-04-19 13:00:06,629] Trial 16 finished with value: 81533732.47552006 and parameters: {'max_depth': 2, 'learning_rate': 0.3939306252196507, 'n_estimators': 721, 'min_child_weight': 6, 'gamma': 0.5254601714863255, 'subsample': 0.9842282380336052, 'colsample_bytree': 0.32565269614822245, 'reg_alpha': 0.6511636442366959, 'reg_lambda': 0.2346304103079117, 'random_state': 338}. Best is trial 6 with value: 81501985.59351386.\n",
      "[I 2024-04-19 13:00:10,014] Trial 17 finished with value: 81586067.95131482 and parameters: {'max_depth': 4, 'learning_rate': 0.18553142756502267, 'n_estimators': 992, 'min_child_weight': 4, 'gamma': 0.22001508437606393, 'subsample': 0.15196397981698068, 'colsample_bytree': 0.790071553573035, 'reg_alpha': 0.4133586841847653, 'reg_lambda': 0.4060073036072706, 'random_state': 673}. Best is trial 6 with value: 81501985.59351386.\n",
      "[I 2024-04-19 13:00:11,867] Trial 18 finished with value: 81555459.18630281 and parameters: {'max_depth': 2, 'learning_rate': 0.7865457457344387, 'n_estimators': 579, 'min_child_weight': 7, 'gamma': 0.40297815595528824, 'subsample': 0.47950221146466276, 'colsample_bytree': 0.5272899188540823, 'reg_alpha': 0.9927816762517285, 'reg_lambda': 0.8358255056643475, 'random_state': 906}. Best is trial 6 with value: 81501985.59351386.\n",
      "[I 2024-04-19 13:00:14,437] Trial 19 finished with value: 81532811.42517179 and parameters: {'max_depth': 1, 'learning_rate': 0.3322705553113473, 'n_estimators': 909, 'min_child_weight': 4, 'gamma': 0.15125758259467986, 'subsample': 0.6032636947340471, 'colsample_bytree': 0.22648877902279962, 'reg_alpha': 0.17993210166864587, 'reg_lambda': 0.14039673090594895, 'random_state': 831}. Best is trial 6 with value: 81501985.59351386.\n",
      "[I 2024-04-19 13:00:16,791] Trial 20 finished with value: 81578594.76208872 and parameters: {'max_depth': 3, 'learning_rate': 0.4683589933014175, 'n_estimators': 705, 'min_child_weight': 1, 'gamma': 0.5910767643492185, 'subsample': 0.31771193933430963, 'colsample_bytree': 0.390787324938654, 'reg_alpha': 0.51604677058442, 'reg_lambda': 0.45131725356335806, 'random_state': 415}. Best is trial 6 with value: 81501985.59351386.\n",
      "[I 2024-04-19 13:00:18,512] Trial 21 finished with value: 81546318.45861648 and parameters: {'max_depth': 1, 'learning_rate': 0.17754644414492507, 'n_estimators': 619, 'min_child_weight': 3, 'gamma': 0.7229780068995866, 'subsample': 0.14029341457042296, 'colsample_bytree': 0.33029598762924245, 'reg_alpha': 0.47356557508249336, 'reg_lambda': 0.03874785197452919, 'random_state': 790}. Best is trial 6 with value: 81501985.59351386.\n",
      "[I 2024-04-19 13:00:20,371] Trial 22 finished with value: 81534141.66499712 and parameters: {'max_depth': 1, 'learning_rate': 0.324100321446243, 'n_estimators': 656, 'min_child_weight': 3, 'gamma': 0.7584797439314458, 'subsample': 0.3087763433206045, 'colsample_bytree': 0.38842016137340113, 'reg_alpha': 0.3736960324053109, 'reg_lambda': 0.1685396735305235, 'random_state': 628}. Best is trial 6 with value: 81501985.59351386.\n",
      "[I 2024-04-19 13:00:22,250] Trial 23 finished with value: 81541364.41323972 and parameters: {'max_depth': 2, 'learning_rate': 0.43233908255744574, 'n_estimators': 560, 'min_child_weight': 2, 'gamma': 0.633436610215518, 'subsample': 0.49011337100631736, 'colsample_bytree': 0.20975258989593756, 'reg_alpha': 0.5547092450884523, 'reg_lambda': 0.3264077405715976, 'random_state': 692}. Best is trial 6 with value: 81501985.59351386.\n",
      "[I 2024-04-19 13:00:24,267] Trial 24 finished with value: 81600072.22203505 and parameters: {'max_depth': 3, 'learning_rate': 0.5946823847960541, 'n_estimators': 615, 'min_child_weight': 2, 'gamma': 0.8621947615839187, 'subsample': 0.20571016282099747, 'colsample_bytree': 0.5938071434839011, 'reg_alpha': 0.2701246290175796, 'reg_lambda': 0.13037067198499502, 'random_state': 824}. Best is trial 6 with value: 81501985.59351386.\n",
      "[I 2024-04-19 13:00:26,475] Trial 25 finished with value: 81513151.38155855 and parameters: {'max_depth': 1, 'learning_rate': 0.47841836931709636, 'n_estimators': 738, 'min_child_weight': 5, 'gamma': 0.41919868298367846, 'subsample': 0.312516972832003, 'colsample_bytree': 0.6880197994913072, 'reg_alpha': 0.6411725134740746, 'reg_lambda': 0.2967754009621616, 'random_state': 565}. Best is trial 6 with value: 81501985.59351386.\n",
      "[I 2024-04-19 13:00:29,431] Trial 26 finished with value: 81589329.16391248 and parameters: {'max_depth': 5, 'learning_rate': 0.5286792557144055, 'n_estimators': 741, 'min_child_weight': 5, 'gamma': 0.3399018966284299, 'subsample': 0.43654335574831915, 'colsample_bytree': 0.7037608232571082, 'reg_alpha': 0.7458193052066953, 'reg_lambda': 0.29294805002319246, 'random_state': 8}. Best is trial 6 with value: 81501985.59351386.\n",
      "[I 2024-04-19 13:00:31,983] Trial 27 finished with value: 81609912.26304105 and parameters: {'max_depth': 2, 'learning_rate': 0.8338106231658009, 'n_estimators': 821, 'min_child_weight': 7, 'gamma': 0.08055820546285675, 'subsample': 0.355125019161335, 'colsample_bytree': 0.6998315167300418, 'reg_alpha': 0.6266497057375289, 'reg_lambda': 0.48965035159865894, 'random_state': 582}. Best is trial 6 with value: 81501985.59351386.\n",
      "[I 2024-04-19 13:00:36,616] Trial 28 finished with value: 81588598.10788941 and parameters: {'max_depth': 10, 'learning_rate': 0.9788133015408803, 'n_estimators': 905, 'min_child_weight': 6, 'gamma': 0.25934540919979254, 'subsample': 0.5419774889874753, 'colsample_bytree': 0.8391770786646651, 'reg_alpha': 0.7220750921683863, 'reg_lambda': 0.3248836898189606, 'random_state': 473}. Best is trial 6 with value: 81501985.59351386.\n",
      "[I 2024-04-19 13:00:39,565] Trial 29 finished with value: 81557183.4298023 and parameters: {'max_depth': 5, 'learning_rate': 0.6809708637830552, 'n_estimators': 740, 'min_child_weight': 8, 'gamma': 0.445402327680562, 'subsample': 0.7014914361391559, 'colsample_bytree': 0.4885106138256545, 'reg_alpha': 0.6012512780603109, 'reg_lambda': 0.529154633156582, 'random_state': 564}. Best is trial 6 with value: 81501985.59351386.\n",
      "[I 2024-04-19 13:00:41,743] Trial 30 finished with value: 81824829.29993491 and parameters: {'max_depth': 2, 'learning_rate': 0.772168178682108, 'n_estimators': 676, 'min_child_weight': 9, 'gamma': 0.14116860852553512, 'subsample': 0.09710329941103746, 'colsample_bytree': 0.9103311146638573, 'reg_alpha': 0.7974416678428434, 'reg_lambda': 0.1895148088744476, 'random_state': 337}. Best is trial 6 with value: 81501985.59351386.\n",
      "[I 2024-04-19 13:00:43,459] Trial 31 finished with value: 81545068.08537075 and parameters: {'max_depth': 1, 'learning_rate': 0.32848758196746464, 'n_estimators': 547, 'min_child_weight': 4, 'gamma': 0.5795554076330259, 'subsample': 0.2500537758490855, 'colsample_bytree': 0.5452874623058027, 'reg_alpha': 0.512956747755798, 'reg_lambda': 0.0901236539741607, 'random_state': 764}. Best is trial 6 with value: 81501985.59351386.\n",
      "[I 2024-04-19 13:00:45,326] Trial 32 finished with value: 81518060.21403053 and parameters: {'max_depth': 1, 'learning_rate': 0.4843439817931396, 'n_estimators': 643, 'min_child_weight': 5, 'gamma': 0.8206070052679222, 'subsample': 0.3109117858043812, 'colsample_bytree': 0.44256115044233624, 'reg_alpha': 0.48975686989792133, 'reg_lambda': 0.9593713787050715, 'random_state': 647}. Best is trial 6 with value: 81501985.59351386.\n",
      "[I 2024-04-19 13:00:47,608] Trial 33 finished with value: 81550585.25706787 and parameters: {'max_depth': 1, 'learning_rate': 0.4720571073928515, 'n_estimators': 778, 'min_child_weight': 5, 'gamma': 0.8208101902683583, 'subsample': 0.3218300118149375, 'colsample_bytree': 0.46459928066483874, 'reg_alpha': 0.5707994964052758, 'reg_lambda': 0.9974033834241394, 'random_state': 632}. Best is trial 6 with value: 81501985.59351386.\n",
      "[I 2024-04-19 13:00:49,849] Trial 34 finished with value: 81593680.91954961 and parameters: {'max_depth': 3, 'learning_rate': 0.6110495559988989, 'n_estimators': 638, 'min_child_weight': 5, 'gamma': 0.9616896321728661, 'subsample': 0.42078108930682007, 'colsample_bytree': 0.632905289030977, 'reg_alpha': 0.41490647438851436, 'reg_lambda': 0.8851558888196052, 'random_state': 529}. Best is trial 6 with value: 81501985.59351386.\n",
      "[I 2024-04-19 13:00:52,126] Trial 35 finished with value: 81654001.63045561 and parameters: {'max_depth': 7, 'learning_rate': 0.5568355300446416, 'n_estimators': 500, 'min_child_weight': 6, 'gamma': 0.8614437985362967, 'subsample': 0.16384903642975032, 'colsample_bytree': 0.7638920940244996, 'reg_alpha': 0.6608052363719761, 'reg_lambda': 0.720079941505977, 'random_state': 676}. Best is trial 6 with value: 81501985.59351386.\n",
      "[I 2024-04-19 13:00:53,994] Trial 36 finished with value: 81591742.10779712 and parameters: {'max_depth': 2, 'learning_rate': 0.6760326144377009, 'n_estimators': 588, 'min_child_weight': 4, 'gamma': 0.9130261336910345, 'subsample': 0.28309213062388644, 'colsample_bytree': 0.6193312685973024, 'reg_alpha': 0.27836137736059285, 'reg_lambda': 0.9425173281757423, 'random_state': 528}. Best is trial 6 with value: 81501985.59351386.\n",
      "[I 2024-04-19 13:00:56,586] Trial 37 finished with value: 81600866.531723 and parameters: {'max_depth': 4, 'learning_rate': 0.47563351438685686, 'n_estimators': 716, 'min_child_weight': 6, 'gamma': 0.9963287128546254, 'subsample': 0.21732933791208547, 'colsample_bytree': 0.43848634314632295, 'reg_alpha': 0.5440496885073709, 'reg_lambda': 0.5967582688260495, 'random_state': 450}. Best is trial 6 with value: 81501985.59351386.\n",
      "[I 2024-04-19 13:00:59,138] Trial 38 finished with value: 81564182.36237454 and parameters: {'max_depth': 8, 'learning_rate': 0.260560699376855, 'n_estimators': 538, 'min_child_weight': 5, 'gamma': 0.4907300953094567, 'subsample': 0.3577336242440985, 'colsample_bytree': 0.6726577418322217, 'reg_alpha': 0.4113142321901533, 'reg_lambda': 0.692546598900834, 'random_state': 592}. Best is trial 6 with value: 81501985.59351386.\n",
      "[I 2024-04-19 13:01:01,634] Trial 39 finished with value: 81506550.16906781 and parameters: {'max_depth': 1, 'learning_rate': 0.1156598033374051, 'n_estimators': 792, 'min_child_weight': 7, 'gamma': 0.4467847099477803, 'subsample': 0.4776257495892182, 'colsample_bytree': 0.49067475825957607, 'reg_alpha': 0.5968909149150852, 'reg_lambda': 0.548168365844466, 'random_state': 408}. Best is trial 6 with value: 81501985.59351386.\n",
      "[I 2024-04-19 13:01:04,256] Trial 40 finished with value: 81521470.59515245 and parameters: {'max_depth': 2, 'learning_rate': 0.12514807223526073, 'n_estimators': 851, 'min_child_weight': 9, 'gamma': 0.449847228375499, 'subsample': 0.6132828843075939, 'colsample_bytree': 0.7461241569684862, 'reg_alpha': 0.7957267445766034, 'reg_lambda': 0.4627666636513795, 'random_state': 397}. Best is trial 6 with value: 81501985.59351386.\n",
      "[I 2024-04-19 13:01:06,622] Trial 41 finished with value: 81517643.11919945 and parameters: {'max_depth': 1, 'learning_rate': 0.04148283279176168, 'n_estimators': 789, 'min_child_weight': 7, 'gamma': 0.37430868437404174, 'subsample': 0.5242685743606808, 'colsample_bytree': 0.5077485459040353, 'reg_alpha': 0.6044186128952778, 'reg_lambda': 0.5615856644478249, 'random_state': 232}. Best is trial 6 with value: 81501985.59351386.\n",
      "[I 2024-04-19 13:01:08,967] Trial 42 finished with value: 81542038.26014714 and parameters: {'max_depth': 1, 'learning_rate': 0.021121605548336246, 'n_estimators': 800, 'min_child_weight': 8, 'gamma': 0.3546722109678417, 'subsample': 0.5644709896080069, 'colsample_bytree': 0.524516640357646, 'reg_alpha': 0.5921348753244655, 'reg_lambda': 0.5531812796258259, 'random_state': 235}. Best is trial 6 with value: 81501985.59351386.\n",
      "[I 2024-04-19 13:01:11,190] Trial 43 finished with value: 81523099.12097892 and parameters: {'max_depth': 1, 'learning_rate': 0.09140613804495003, 'n_estimators': 755, 'min_child_weight': 7, 'gamma': 0.3960952159646202, 'subsample': 0.6607731503472306, 'colsample_bytree': 0.5864947439784847, 'reg_alpha': 0.6894154788175209, 'reg_lambda': 0.654505031045434, 'random_state': 259}. Best is trial 6 with value: 81501985.59351386.\n",
      "[I 2024-04-19 13:01:14,194] Trial 44 finished with value: 81530161.87098916 and parameters: {'max_depth': 3, 'learning_rate': 0.15390031997462184, 'n_estimators': 870, 'min_child_weight': 8, 'gamma': 0.3060159501700774, 'subsample': 0.46775279844356304, 'colsample_bytree': 0.27735976265803486, 'reg_alpha': 0.619596881183511, 'reg_lambda': 0.6052063242197657, 'random_state': 106}. Best is trial 6 with value: 81501985.59351386.\n",
      "[I 2024-04-19 13:01:16,854] Trial 45 finished with value: 81515151.55170001 and parameters: {'max_depth': 2, 'learning_rate': 0.013928086036938764, 'n_estimators': 800, 'min_child_weight': 10, 'gamma': 0.44269419610690547, 'subsample': 0.5353603136285806, 'colsample_bytree': 0.017299290977799753, 'reg_alpha': 0.8580996061858198, 'reg_lambda': 0.43463805258348553, 'random_state': 273}. Best is trial 6 with value: 81501985.59351386.\n",
      "[I 2024-04-19 13:01:19,213] Trial 46 finished with value: 81508900.7870932 and parameters: {'max_depth': 2, 'learning_rate': 0.08472865537875325, 'n_estimators': 761, 'min_child_weight': 10, 'gamma': 0.5499437963949728, 'subsample': 0.7894835532222646, 'colsample_bytree': 0.06110119876785445, 'reg_alpha': 0.9802799578440343, 'reg_lambda': 0.3400898704958747, 'random_state': 301}. Best is trial 6 with value: 81501985.59351386.\n",
      "[I 2024-04-19 13:01:21,551] Trial 47 finished with value: 81511970.80378881 and parameters: {'max_depth': 2, 'learning_rate': 0.08895893999541109, 'n_estimators': 758, 'min_child_weight': 10, 'gamma': 0.574162963708386, 'subsample': 0.830363349611916, 'colsample_bytree': 0.04677447683202173, 'reg_alpha': 0.8788797734334226, 'reg_lambda': 0.31951036893314244, 'random_state': 293}. Best is trial 6 with value: 81501985.59351386.\n",
      "[I 2024-04-19 13:01:24,027] Trial 48 finished with value: 81508377.77723384 and parameters: {'max_depth': 2, 'learning_rate': 0.0998694356873469, 'n_estimators': 752, 'min_child_weight': 9, 'gamma': 0.5637472174865945, 'subsample': 0.8246600899770351, 'colsample_bytree': 0.09032794984321849, 'reg_alpha': 0.987585786245337, 'reg_lambda': 0.3655839814563674, 'random_state': 376}. Best is trial 6 with value: 81501985.59351386.\n",
      "[I 2024-04-19 13:01:26,622] Trial 49 finished with value: 81516427.5917606 and parameters: {'max_depth': 3, 'learning_rate': 0.08434212008134878, 'n_estimators': 764, 'min_child_weight': 9, 'gamma': 0.5661437585242625, 'subsample': 0.8177461246302339, 'colsample_bytree': 0.09248365836026902, 'reg_alpha': 0.9687772984336991, 'reg_lambda': 0.3798372516166476, 'random_state': 174}. Best is trial 6 with value: 81501985.59351386.\n",
      "[I 2024-04-19 13:01:28,745] Trial 50 finished with value: 81518839.59611918 and parameters: {'max_depth': 2, 'learning_rate': 0.20050345153784893, 'n_estimators': 694, 'min_child_weight': 10, 'gamma': 0.6374787718707421, 'subsample': 0.9383041280928384, 'colsample_bytree': 0.14180503384268311, 'reg_alpha': 0.9142559049494206, 'reg_lambda': 0.34384191806855574, 'random_state': 302}. Best is trial 6 with value: 81501985.59351386.\n",
      "[I 2024-04-19 13:01:31,057] Trial 51 finished with value: 81503780.35344729 and parameters: {'max_depth': 2, 'learning_rate': 0.0804447999492657, 'n_estimators': 727, 'min_child_weight': 9, 'gamma': 0.5101276302569471, 'subsample': 0.7914172867765003, 'colsample_bytree': 0.07339180944935698, 'reg_alpha': 0.9445143551300194, 'reg_lambda': 0.2279328558879108, 'random_state': 384}. Best is trial 6 with value: 81501985.59351386.\n",
      "[I 2024-04-19 13:01:33,652] Trial 52 finished with value: 81527283.2322166 and parameters: {'max_depth': 2, 'learning_rate': 0.2169796764618595, 'n_estimators': 838, 'min_child_weight': 9, 'gamma': 0.5018569499126757, 'subsample': 0.7888538389111963, 'colsample_bytree': 0.08191888580658407, 'reg_alpha': 0.9341314928537531, 'reg_lambda': 0.21608112880294778, 'random_state': 381}. Best is trial 6 with value: 81501985.59351386.\n",
      "[I 2024-04-19 13:01:36,337] Trial 53 finished with value: 81529332.1333145 and parameters: {'max_depth': 4, 'learning_rate': 0.08253629697762213, 'n_estimators': 723, 'min_child_weight': 10, 'gamma': 0.5391359360835443, 'subsample': 0.8977449703571555, 'colsample_bytree': 0.16171174776460018, 'reg_alpha': 0.8644378689056718, 'reg_lambda': 0.3579444188549566, 'random_state': 373}. Best is trial 6 with value: 81501985.59351386.\n",
      "[I 2024-04-19 13:01:38,954] Trial 54 finished with value: 81528592.80180892 and parameters: {'max_depth': 3, 'learning_rate': 0.15093196463321476, 'n_estimators': 763, 'min_child_weight': 9, 'gamma': 0.6757534972710864, 'subsample': 0.7452772326144508, 'colsample_bytree': 0.05350738376967643, 'reg_alpha': 0.8504039571123164, 'reg_lambda': 0.27395888170678, 'random_state': 297}. Best is trial 6 with value: 81501985.59351386.\n",
      "[I 2024-04-19 13:01:41,516] Trial 55 finished with value: 81507811.03835808 and parameters: {'max_depth': 2, 'learning_rate': 0.11693851103367559, 'n_estimators': 808, 'min_child_weight': 10, 'gamma': 0.6242212396664805, 'subsample': 0.8611057185929949, 'colsample_bytree': 0.19647222642692574, 'reg_alpha': 0.9954772203033339, 'reg_lambda': 0.2117077189098951, 'random_state': 484}. Best is trial 6 with value: 81501985.59351386.\n",
      "[I 2024-04-19 13:01:44,154] Trial 56 finished with value: 81534436.01733384 and parameters: {'max_depth': 3, 'learning_rate': 0.23170639231960594, 'n_estimators': 808, 'min_child_weight': 9, 'gamma': 0.6154511445820658, 'subsample': 0.9076753904014767, 'colsample_bytree': 0.17587722954725976, 'reg_alpha': 0.9968440086113571, 'reg_lambda': 0.21652626133877814, 'random_state': 486}. Best is trial 6 with value: 81501985.59351386.\n",
      "[I 2024-04-19 13:01:46,610] Trial 57 finished with value: 81520760.14401397 and parameters: {'max_depth': 2, 'learning_rate': 0.13704333299189747, 'n_estimators': 787, 'min_child_weight': 10, 'gamma': 0.533929848195296, 'subsample': 0.8606342490520408, 'colsample_bytree': 0.10865056430182475, 'reg_alpha': 0.9592044287695133, 'reg_lambda': 0.1727154661612485, 'random_state': 451}. Best is trial 6 with value: 81501985.59351386.\n",
      "[I 2024-04-19 13:01:48,566] Trial 58 finished with value: 81534669.25793196 and parameters: {'max_depth': 1, 'learning_rate': 0.29987754942605593, 'n_estimators': 692, 'min_child_weight': 8, 'gamma': 0.7104510578243497, 'subsample': 0.9932714571953445, 'colsample_bytree': 0.20105054903507585, 'reg_alpha': 0.907518401998096, 'reg_lambda': 0.09617241245658786, 'random_state': 430}. Best is trial 6 with value: 81501985.59351386.\n",
      "[I 2024-04-19 13:01:51,430] Trial 59 finished with value: 81545847.19859388 and parameters: {'max_depth': 5, 'learning_rate': 0.17582033212933973, 'n_estimators': 728, 'min_child_weight': 8, 'gamma': 0.6570622180642824, 'subsample': 0.7785581681678065, 'colsample_bytree': 0.020251224197506426, 'reg_alpha': 0.951877090423102, 'reg_lambda': 0.4216221589693899, 'random_state': 504}. Best is trial 6 with value: 81501985.59351386.\n",
      "[I 2024-04-19 13:01:54,514] Trial 60 finished with value: 81526285.01033065 and parameters: {'max_depth': 4, 'learning_rate': 0.049701348534423484, 'n_estimators': 822, 'min_child_weight': 10, 'gamma': 0.47238692067455845, 'subsample': 0.7159836639631516, 'colsample_bytree': 0.29461344344342577, 'reg_alpha': 0.8218165757204223, 'reg_lambda': 0.24217047295739072, 'random_state': 351}. Best is trial 6 with value: 81501985.59351386.\n",
      "[I 2024-04-19 13:01:56,986] Trial 61 finished with value: 81508352.00881541 and parameters: {'max_depth': 2, 'learning_rate': 0.08489486669600507, 'n_estimators': 769, 'min_child_weight': 10, 'gamma': 0.5962509129949425, 'subsample': 0.8381744452701353, 'colsample_bytree': 0.06645143290101872, 'reg_alpha': 0.8989398145777143, 'reg_lambda': 0.2848721847774094, 'random_state': 185}. Best is trial 6 with value: 81501985.59351386.\n",
      "[I 2024-04-19 13:01:59,534] Trial 62 finished with value: 81515487.14491478 and parameters: {'max_depth': 2, 'learning_rate': 0.10153160301216355, 'n_estimators': 855, 'min_child_weight': 9, 'gamma': 0.6136135038799484, 'subsample': 0.9443101945888375, 'colsample_bytree': 0.12160030824739324, 'reg_alpha': 0.9984819681245807, 'reg_lambda': 0.2738390271463809, 'random_state': 127}. Best is trial 6 with value: 81501985.59351386.\n",
      "[I 2024-04-19 13:02:01,775] Trial 63 finished with value: 81517254.401767 and parameters: {'max_depth': 1, 'learning_rate': 0.05332279337083941, 'n_estimators': 783, 'min_child_weight': 10, 'gamma': 0.7490240504421728, 'subsample': 0.856198511539368, 'colsample_bytree': 0.07235293479522452, 'reg_alpha': 0.9006424509274594, 'reg_lambda': 0.37070342863906475, 'random_state': 415}. Best is trial 6 with value: 81501985.59351386.\n",
      "[I 2024-04-19 13:02:04,375] Trial 64 finished with value: 81524996.7680251 and parameters: {'max_depth': 3, 'learning_rate': 0.12681959668315002, 'n_estimators': 745, 'min_child_weight': 9, 'gamma': 0.5514691258660835, 'subsample': 0.6683861858530286, 'colsample_bytree': 0.39343470557675325, 'reg_alpha': 0.9422461448112435, 'reg_lambda': 0.18690825270673977, 'random_state': 201}. Best is trial 6 with value: 81501985.59351386.\n",
      "[I 2024-04-19 13:02:06,593] Trial 65 finished with value: 81509428.74347217 and parameters: {'max_depth': 2, 'learning_rate': 0.16205473744240362, 'n_estimators': 712, 'min_child_weight': 10, 'gamma': 0.010749221532137435, 'subsample': 0.7849313222425454, 'colsample_bytree': 0.14731725795052747, 'reg_alpha': 0.7789709488674007, 'reg_lambda': 0.4906730527327482, 'random_state': 331}. Best is trial 6 with value: 81501985.59351386.\n",
      "[I 2024-04-19 13:02:08,859] Trial 66 finished with value: 81523804.97195065 and parameters: {'max_depth': 1, 'learning_rate': 0.28994401909434225, 'n_estimators': 771, 'min_child_weight': 10, 'gamma': 0.5209509265356201, 'subsample': 0.5789980945790465, 'colsample_bytree': 0.24666364075780017, 'reg_alpha': 0.9716938396232819, 'reg_lambda': 0.14986000752690234, 'random_state': 466}. Best is trial 6 with value: 81501985.59351386.\n",
      "[I 2024-04-19 13:02:11,393] Trial 67 finished with value: 81505235.98058441 and parameters: {'max_depth': 2, 'learning_rate': 0.02087965676233157, 'n_estimators': 810, 'min_child_weight': 9, 'gamma': 0.5995374108966101, 'subsample': 0.9543313831882512, 'colsample_bytree': 0.014396525515288437, 'reg_alpha': 0.9281350663659456, 'reg_lambda': 0.28961129434047767, 'random_state': 41}. Best is trial 6 with value: 81501985.59351386.\n",
      "[I 2024-04-19 13:02:14,438] Trial 68 finished with value: 81505243.706774 and parameters: {'max_depth': 3, 'learning_rate': 0.021499254388517235, 'n_estimators': 818, 'min_child_weight': 8, 'gamma': 0.6064181677558734, 'subsample': 0.9421569711624591, 'colsample_bytree': 0.011019937001206064, 'reg_alpha': 0.8235584514026806, 'reg_lambda': 0.296746740973621, 'random_state': 32}. Best is trial 6 with value: 81501985.59351386.\n",
      "[I 2024-04-19 13:02:17,861] Trial 69 finished with value: 81506673.96525782 and parameters: {'max_depth': 3, 'learning_rate': 0.021158582953523686, 'n_estimators': 903, 'min_child_weight': 8, 'gamma': 0.7092607829910055, 'subsample': 0.966925498224275, 'colsample_bytree': 0.027331930445769287, 'reg_alpha': 0.8382711517882739, 'reg_lambda': 0.06627459610351921, 'random_state': 28}. Best is trial 6 with value: 81501985.59351386.\n",
      "[I 2024-04-19 13:02:21,003] Trial 70 finished with value: 81505563.74649921 and parameters: {'max_depth': 3, 'learning_rate': 0.016734411197210586, 'n_estimators': 929, 'min_child_weight': 8, 'gamma': 0.6989717229931176, 'subsample': 0.9571286662475363, 'colsample_bytree': 0.011012915301250184, 'reg_alpha': 0.826319151713041, 'reg_lambda': 0.063370554995308, 'random_state': 47}. Best is trial 6 with value: 81501985.59351386.\n",
      "[I 2024-04-19 13:02:24,261] Trial 71 finished with value: 81504143.73477891 and parameters: {'max_depth': 3, 'learning_rate': 0.019139022335032785, 'n_estimators': 939, 'min_child_weight': 8, 'gamma': 0.7009191036547915, 'subsample': 0.9562005660219347, 'colsample_bytree': 0.01920249854296696, 'reg_alpha': 0.8250693392644477, 'reg_lambda': 0.021933517877064185, 'random_state': 17}. Best is trial 6 with value: 81501985.59351386.\n",
      "[I 2024-04-19 13:02:27,768] Trial 72 finished with value: 81512764.73636317 and parameters: {'max_depth': 4, 'learning_rate': 0.02518524562285629, 'n_estimators': 944, 'min_child_weight': 8, 'gamma': 0.7049472565801123, 'subsample': 0.9563024822990278, 'colsample_bytree': 0.013313415827550787, 'reg_alpha': 0.7578022846021364, 'reg_lambda': 0.0657278102380826, 'random_state': 4}. Best is trial 6 with value: 81501985.59351386.\n",
      "[I 2024-04-19 13:02:30,775] Trial 73 finished with value: 81517646.75875928 and parameters: {'max_depth': 3, 'learning_rate': 0.05475215071593596, 'n_estimators': 913, 'min_child_weight': 8, 'gamma': 0.7828196939169438, 'subsample': 0.9121399407121431, 'colsample_bytree': 0.03300944180312475, 'reg_alpha': 0.8254183136692785, 'reg_lambda': 0.042332443039284434, 'random_state': 50}. Best is trial 6 with value: 81501985.59351386.\n",
      "[I 2024-04-19 13:02:34,236] Trial 74 finished with value: 81514139.75746314 and parameters: {'max_depth': 4, 'learning_rate': 0.02482607762913807, 'n_estimators': 957, 'min_child_weight': 7, 'gamma': 0.6659962586414786, 'subsample': 0.9687958578241467, 'colsample_bytree': 0.11298446321331551, 'reg_alpha': 0.7170461122329226, 'reg_lambda': 0.07794949355037492, 'random_state': 49}. Best is trial 6 with value: 81501985.59351386.\n",
      "[I 2024-04-19 13:02:37,614] Trial 75 finished with value: 81518539.8209712 and parameters: {'max_depth': 3, 'learning_rate': 0.05690231765634391, 'n_estimators': 996, 'min_child_weight': 7, 'gamma': 0.7247201657745148, 'subsample': 0.8909355870071751, 'colsample_bytree': 0.05838593083319195, 'reg_alpha': 0.8355978856289208, 'reg_lambda': 0.010894160681383675, 'random_state': 44}. Best is trial 6 with value: 81501985.59351386.\n",
      "[I 2024-04-19 13:02:40,783] Trial 76 finished with value: 81505714.15496823 and parameters: {'max_depth': 3, 'learning_rate': 0.014723138408824813, 'n_estimators': 929, 'min_child_weight': 8, 'gamma': 0.0846075825554265, 'subsample': 0.9972216697509237, 'colsample_bytree': 0.03151144508236671, 'reg_alpha': 0.8036711648743724, 'reg_lambda': 0.12824199828909064, 'random_state': 104}. Best is trial 6 with value: 81501985.59351386.\n",
      "[I 2024-04-19 13:02:44,208] Trial 77 finished with value: 81523849.66606605 and parameters: {'max_depth': 4, 'learning_rate': 0.04548347848059753, 'n_estimators': 924, 'min_child_weight': 8, 'gamma': 0.04811798177912492, 'subsample': 0.9333876524229054, 'colsample_bytree': 0.01111938550042926, 'reg_alpha': 0.7797749362705633, 'reg_lambda': 0.13173784618414208, 'random_state': 121}. Best is trial 6 with value: 81501985.59351386.\n",
      "[I 2024-04-19 13:02:48,047] Trial 78 finished with value: 81548136.46185146 and parameters: {'max_depth': 7, 'learning_rate': 0.8977691899385144, 'n_estimators': 882, 'min_child_weight': 7, 'gamma': 0.0877334140990851, 'subsample': 0.9918148973865835, 'colsample_bytree': 0.09752238536016206, 'reg_alpha': 0.7219403557079702, 'reg_lambda': 0.10939843633962762, 'random_state': 88}. Best is trial 6 with value: 81501985.59351386.\n",
      "[I 2024-04-19 13:02:51,140] Trial 79 finished with value: 81578426.8320219 and parameters: {'max_depth': 3, 'learning_rate': 0.6371583365925428, 'n_estimators': 889, 'min_child_weight': 8, 'gamma': 0.19026097490974342, 'subsample': 0.45831448015454956, 'colsample_bytree': 0.04464926860945352, 'reg_alpha': 0.6806489392715123, 'reg_lambda': 0.015105775117421866, 'random_state': 86}. Best is trial 6 with value: 81501985.59351386.\n",
      "[I 2024-04-19 13:02:55,028] Trial 80 finished with value: 81513883.93412001 and parameters: {'max_depth': 5, 'learning_rate': 0.0111105285672841, 'n_estimators': 962, 'min_child_weight': 8, 'gamma': 0.10573288412151383, 'subsample': 0.9248468672288304, 'colsample_bytree': 0.1755165663996484, 'reg_alpha': 0.8868940274531179, 'reg_lambda': 0.13111421572792376, 'random_state': 142}. Best is trial 6 with value: 81501985.59351386.\n",
      "[I 2024-04-19 13:02:58,184] Trial 81 finished with value: 81518099.45785542 and parameters: {'max_depth': 3, 'learning_rate': 0.06315815426904423, 'n_estimators': 974, 'min_child_weight': 8, 'gamma': 0.047046438125961224, 'subsample': 0.9973359106254236, 'colsample_bytree': 0.03662838190479592, 'reg_alpha': 0.8083520169739357, 'reg_lambda': 0.05219104544416288, 'random_state': 32}. Best is trial 6 with value: 81501985.59351386.\n",
      "[I 2024-04-19 13:03:01,322] Trial 82 finished with value: 81507874.77864553 and parameters: {'max_depth': 3, 'learning_rate': 0.028998347812863146, 'n_estimators': 932, 'min_child_weight': 8, 'gamma': 0.7727843715820337, 'subsample': 0.9659799267628674, 'colsample_bytree': 0.13355054530443222, 'reg_alpha': 0.749506935395899, 'reg_lambda': 0.15293746538151604, 'random_state': 77}. Best is trial 6 with value: 81501985.59351386.\n",
      "[I 2024-04-19 13:03:04,268] Trial 83 finished with value: 81515983.84649739 and parameters: {'max_depth': 3, 'learning_rate': 0.06936607507043792, 'n_estimators': 901, 'min_child_weight': 7, 'gamma': 0.6958309863377157, 'subsample': 0.9674274298937318, 'colsample_bytree': 0.07704831225077442, 'reg_alpha': 0.8455407315306275, 'reg_lambda': 0.10440864889994125, 'random_state': 25}. Best is trial 6 with value: 81501985.59351386.\n",
      "[I 2024-04-19 13:03:07,680] Trial 84 finished with value: 81550452.28926143 and parameters: {'max_depth': 4, 'learning_rate': 0.5549014708925123, 'n_estimators': 938, 'min_child_weight': 9, 'gamma': 0.7379105707072942, 'subsample': 0.8870166950941188, 'colsample_bytree': 0.040351061294822625, 'reg_alpha': 0.8723577413168628, 'reg_lambda': 0.0779102567981963, 'random_state': 69}. Best is trial 6 with value: 81501985.59351386.\n",
      "[I 2024-04-19 13:03:10,387] Trial 85 finished with value: 81499101.46678133 and parameters: {'max_depth': 1, 'learning_rate': 0.10927353884597715, 'n_estimators': 921, 'min_child_weight': 8, 'gamma': 0.8091793964297707, 'subsample': 0.5070619266266877, 'colsample_bytree': 0.013112297741200325, 'reg_alpha': 0.5306993400885325, 'reg_lambda': 0.034665179550978906, 'random_state': 7}. Best is trial 85 with value: 81499101.46678133.\n",
      "[I 2024-04-19 13:03:13,222] Trial 86 finished with value: 81524563.42042546 and parameters: {'max_depth': 1, 'learning_rate': 0.43977467483716337, 'n_estimators': 975, 'min_child_weight': 7, 'gamma': 0.8279170161303752, 'subsample': 0.39301489314681104, 'colsample_bytree': 0.4095602430691874, 'reg_alpha': 0.5472730976938448, 'reg_lambda': 0.02840740197115589, 'random_state': 152}. Best is trial 85 with value: 81499101.46678133.\n",
      "[I 2024-04-19 13:03:15,971] Trial 87 finished with value: 81503341.08560333 and parameters: {'max_depth': 1, 'learning_rate': 0.10671002952472214, 'n_estimators': 918, 'min_child_weight': 9, 'gamma': 0.13586802502212109, 'subsample': 0.5165476744543552, 'colsample_bytree': 0.012237371035343354, 'reg_alpha': 0.44161840218134796, 'reg_lambda': 0.19372076048856213, 'random_state': 104}. Best is trial 85 with value: 81499101.46678133.\n",
      "[I 2024-04-19 13:03:18,617] Trial 88 finished with value: 81633975.32339808 and parameters: {'max_depth': 1, 'learning_rate': 0.010098513751011728, 'n_estimators': 950, 'min_child_weight': 9, 'gamma': 0.12320638234597697, 'subsample': 0.9330852130385842, 'colsample_bytree': 0.011717604535336728, 'reg_alpha': 0.4830130498947348, 'reg_lambda': 0.25114045137540236, 'random_state': 5}. Best is trial 85 with value: 81499101.46678133.\n",
      "[I 2024-04-19 13:03:21,289] Trial 89 finished with value: 81524491.64630555 and parameters: {'max_depth': 1, 'learning_rate': 0.37142443573535333, 'n_estimators': 922, 'min_child_weight': 9, 'gamma': 0.17218024319559017, 'subsample': 0.44649210418422947, 'colsample_bytree': 0.10302561791553813, 'reg_alpha': 0.3802267764060199, 'reg_lambda': 0.20909193837273557, 'random_state': 86}. Best is trial 85 with value: 81499101.46678133.\n",
      "[I 2024-04-19 13:03:23,889] Trial 90 finished with value: 81505042.76436569 and parameters: {'max_depth': 1, 'learning_rate': 0.7193468818412848, 'n_estimators': 865, 'min_child_weight': 3, 'gamma': 0.0347030527374684, 'subsample': 0.8802213087821127, 'colsample_bytree': 0.05664406664246398, 'reg_alpha': 0.32113664906143674, 'reg_lambda': 0.30219143411553573, 'random_state': 57}. Best is trial 85 with value: 81499101.46678133.\n",
      "[I 2024-04-19 13:03:26,318] Trial 91 finished with value: 81516880.81080803 and parameters: {'max_depth': 1, 'learning_rate': 0.8628868860599195, 'n_estimators': 867, 'min_child_weight': 3, 'gamma': 0.07793372213111677, 'subsample': 0.9169264380555374, 'colsample_bytree': 0.06977567799916244, 'reg_alpha': 0.3071863943216928, 'reg_lambda': 0.30361657922289564, 'random_state': 60}. Best is trial 85 with value: 81499101.46678133.\n",
      "[I 2024-04-19 13:03:28,755] Trial 92 finished with value: 81511731.83832552 and parameters: {'max_depth': 1, 'learning_rate': 0.7597287401523283, 'n_estimators': 841, 'min_child_weight': 3, 'gamma': 0.033536913531020625, 'subsample': 0.8768250174086244, 'colsample_bytree': 0.04818343324131265, 'reg_alpha': 0.1848252514390749, 'reg_lambda': 0.16860822339792497, 'random_state': 127}. Best is trial 85 with value: 81499101.46678133.\n",
      "[I 2024-04-19 13:03:31,600] Trial 93 finished with value: 81572609.6548619 and parameters: {'max_depth': 2, 'learning_rate': 0.716311986262949, 'n_estimators': 887, 'min_child_weight': 2, 'gamma': 0.06807244905008006, 'subsample': 0.5020577085291374, 'colsample_bytree': 0.08485473175917448, 'reg_alpha': 0.4529879601690098, 'reg_lambda': 0.261985718125366, 'random_state': 97}. Best is trial 85 with value: 81499101.46678133.\n",
      "[I 2024-04-19 13:03:35,235] Trial 94 finished with value: 81594207.81603092 and parameters: {'max_depth': 6, 'learning_rate': 0.6600586156002759, 'n_estimators': 926, 'min_child_weight': 4, 'gamma': 0.9043592489601544, 'subsample': 0.3996038560941558, 'colsample_bytree': 0.12193980080658007, 'reg_alpha': 0.14061860540335214, 'reg_lambda': 0.1876621052886197, 'random_state': 28}. Best is trial 85 with value: 81499101.46678133.\n",
      "[I 2024-04-19 13:03:37,883] Trial 95 finished with value: 81561170.08796196 and parameters: {'max_depth': 2, 'learning_rate': 0.7300802138734448, 'n_estimators': 914, 'min_child_weight': 4, 'gamma': 0.10536208269997521, 'subsample': 0.5142418494780976, 'colsample_bytree': 0.03451781501905998, 'reg_alpha': 0.233114734612012, 'reg_lambda': 0.3132749153992338, 'random_state': 147}. Best is trial 85 with value: 81499101.46678133.\n",
      "[I 2024-04-19 13:03:40,402] Trial 96 finished with value: 81509234.88320574 and parameters: {'max_depth': 1, 'learning_rate': 0.5890691156196128, 'n_estimators': 975, 'min_child_weight': 2, 'gamma': 0.22008963402556037, 'subsample': 0.9491759129375518, 'colsample_bytree': 0.9921856977633483, 'reg_alpha': 0.33894582661687966, 'reg_lambda': 0.22953910183415843, 'random_state': 64}. Best is trial 85 with value: 81499101.46678133.\n",
      "[I 2024-04-19 13:03:42,745] Trial 97 finished with value: 81523375.13653782 and parameters: {'max_depth': 1, 'learning_rate': 0.10467872761436525, 'n_estimators': 860, 'min_child_weight': 3, 'gamma': 0.03878680202604545, 'subsample': 0.36650206086512854, 'colsample_bytree': 0.01122030508949964, 'reg_alpha': 0.928689999968547, 'reg_lambda': 0.03589375974248703, 'random_state': 708}. Best is trial 85 with value: 81499101.46678133.\n",
      "[I 2024-04-19 13:03:45,192] Trial 98 finished with value: 81510764.83925492 and parameters: {'max_depth': 2, 'learning_rate': 0.0716520266834443, 'n_estimators': 881, 'min_child_weight': 9, 'gamma': 0.6482651176630276, 'subsample': 0.9771981019195618, 'colsample_bytree': 0.052508960597795855, 'reg_alpha': 0.526819099562636, 'reg_lambda': 0.1256626731737216, 'random_state': 111}. Best is trial 85 with value: 81499101.46678133.\n",
      "[I 2024-04-19 13:03:47,559] Trial 99 finished with value: 81518770.03691144 and parameters: {'max_depth': 1, 'learning_rate': 0.13549170552048953, 'n_estimators': 899, 'min_child_weight': 8, 'gamma': 0.022709280186312013, 'subsample': 0.8084128375264967, 'colsample_bytree': 0.08321490844031729, 'reg_alpha': 0.38624787199556376, 'reg_lambda': 0.23276183150245625, 'random_state': 19}. Best is trial 85 with value: 81499101.46678133.\n",
      "[I 2024-04-19 13:03:49,629] Trial 100 finished with value: 81532005.08719473 and parameters: {'max_depth': 2, 'learning_rate': 0.5098706029641141, 'n_estimators': 732, 'min_child_weight': 9, 'gamma': 0.5947884248389018, 'subsample': 0.9083227043780976, 'colsample_bytree': 0.15389473127927464, 'reg_alpha': 0.42290779983862264, 'reg_lambda': 0.08701771003953912, 'random_state': 987}. Best is trial 85 with value: 81499101.46678133.\n",
      "[I 2024-04-19 13:03:51,883] Trial 101 finished with value: 81520591.21122059 and parameters: {'max_depth': 1, 'learning_rate': 0.038902032448703126, 'n_estimators': 826, 'min_child_weight': 6, 'gamma': 0.8070351119516816, 'subsample': 0.49127697372909424, 'colsample_bytree': 0.35354016316331904, 'reg_alpha': 0.568653046389752, 'reg_lambda': 0.054937831663663755, 'random_state': 2}. Best is trial 85 with value: 81499101.46678133.\n",
      "[I 2024-04-19 13:03:54,115] Trial 102 finished with value: 81516568.20684169 and parameters: {'max_depth': 1, 'learning_rate': 0.11923303218919498, 'n_estimators': 810, 'min_child_weight': 8, 'gamma': 0.14601697576643913, 'subsample': 0.5851658067686669, 'colsample_bytree': 0.057224088530380884, 'reg_alpha': 0.5317846489417165, 'reg_lambda': 0.5361413510757028, 'random_state': 59}. Best is trial 85 with value: 81499101.46678133.\n",
      "[I 2024-04-19 13:03:58,141] Trial 103 finished with value: 81560043.8949863 and parameters: {'max_depth': 10, 'learning_rate': 0.18568814954287832, 'n_estimators': 837, 'min_child_weight': 9, 'gamma': 0.8786301714739726, 'subsample': 0.5468384960237964, 'colsample_bytree': 0.0320656786761667, 'reg_alpha': 0.43920992623896726, 'reg_lambda': 0.19902976439272282, 'random_state': 201}. Best is trial 85 with value: 81499101.46678133.\n",
      "[I 2024-04-19 13:04:00,310] Trial 104 finished with value: 81516556.55381997 and parameters: {'max_depth': 1, 'learning_rate': 0.10509952910527166, 'n_estimators': 795, 'min_child_weight': 8, 'gamma': 0.6829923427575013, 'subsample': 0.41982803799409973, 'colsample_bytree': 0.9528627980790874, 'reg_alpha': 0.7802374900627436, 'reg_lambda': 0.2892606877714027, 'random_state': 553}. Best is trial 85 with value: 81499101.46678133.\n",
      "[I 2024-04-19 13:04:03,078] Trial 105 finished with value: 81525215.39503151 and parameters: {'max_depth': 2, 'learning_rate': 0.14691127757662256, 'n_estimators': 939, 'min_child_weight': 7, 'gamma': 0.4756774982742261, 'subsample': 0.6475348812864823, 'colsample_bytree': 0.49853744755089896, 'reg_alpha': 0.5873439062592576, 'reg_lambda': 0.5843201894294585, 'random_state': 44}. Best is trial 85 with value: 81499101.46678133.\n",
      "[I 2024-04-19 13:04:05,388] Trial 106 finished with value: 81503924.60476892 and parameters: {'max_depth': 1, 'learning_rate': 0.07039534323639997, 'n_estimators': 849, 'min_child_weight': 8, 'gamma': 0.30440141108489294, 'subsample': 0.47582658272596684, 'colsample_bytree': 0.46049851506747574, 'reg_alpha': 0.5024603520888317, 'reg_lambda': 0.26185351171373045, 'random_state': 160}. Best is trial 85 with value: 81499101.46678133.\n",
      "[I 2024-04-19 13:04:07,450] Trial 107 finished with value: 81504317.47342557 and parameters: {'max_depth': 2, 'learning_rate': 0.04034018494234088, 'n_estimators': 702, 'min_child_weight': 8, 'gamma': 0.2948217648116679, 'subsample': 0.9464820744457272, 'colsample_bytree': 0.4519572722366068, 'reg_alpha': 0.4982296629534166, 'reg_lambda': 0.26549299660871617, 'random_state': 168}. Best is trial 85 with value: 81499101.46678133.\n",
      "[I 2024-04-19 13:04:10,466] Trial 108 finished with value: 81552424.15385087 and parameters: {'max_depth': 8, 'learning_rate': 0.03343608756196996, 'n_estimators': 671, 'min_child_weight': 9, 'gamma': 0.2517869249336762, 'subsample': 0.33608015561028437, 'colsample_bytree': 0.4555585414405067, 'reg_alpha': 0.49073840054811296, 'reg_lambda': 0.3320438845360955, 'random_state': 175}. Best is trial 85 with value: 81499101.46678133.\n",
      "[I 2024-04-19 13:04:12,442] Trial 109 finished with value: 81508174.26232295 and parameters: {'max_depth': 2, 'learning_rate': 0.07566859050575017, 'n_estimators': 684, 'min_child_weight': 1, 'gamma': 0.2899795126550156, 'subsample': 0.8466959148091285, 'colsample_bytree': 0.4233430958444011, 'reg_alpha': 0.4619401700409187, 'reg_lambda': 0.26244025523264375, 'random_state': 154}. Best is trial 85 with value: 81499101.46678133.\n",
      "[I 2024-04-19 13:04:14,296] Trial 110 finished with value: 81520155.0678469 and parameters: {'max_depth': 1, 'learning_rate': 0.044961847036421726, 'n_estimators': 703, 'min_child_weight': 8, 'gamma': 0.3495394077358255, 'subsample': 0.8724291910408666, 'colsample_bytree': 0.8397921393927197, 'reg_alpha': 0.3356392824777855, 'reg_lambda': 0.39624278215792447, 'random_state': 72}. Best is trial 85 with value: 81499101.46678133.\n",
      "[I 2024-04-19 13:04:17,069] Trial 111 finished with value: 81511017.10354932 and parameters: {'max_depth': 2, 'learning_rate': 0.06248356590483142, 'n_estimators': 962, 'min_child_weight': 8, 'gamma': 0.3258915515996199, 'subsample': 0.9826594829184753, 'colsample_bytree': 0.4733618583429912, 'reg_alpha': 0.5102908304412791, 'reg_lambda': 0.1566233703608831, 'random_state': 104}. Best is trial 85 with value: 81499101.46678133.\n",
      "[I 2024-04-19 13:04:20,266] Trial 112 finished with value: 81512253.92339866 and parameters: {'max_depth': 3, 'learning_rate': 0.010158149605599832, 'n_estimators': 852, 'min_child_weight': 8, 'gamma': 0.40604496683912406, 'subsample': 0.9479214810081188, 'colsample_bytree': 0.3624685161867297, 'reg_alpha': 0.2316628741334808, 'reg_lambda': 0.2755707140512195, 'random_state': 129}. Best is trial 85 with value: 81499101.46678133.\n",
      "[I 2024-04-19 13:04:22,811] Trial 113 finished with value: 81528965.90730143 and parameters: {'max_depth': 1, 'learning_rate': 0.04207209756317169, 'n_estimators': 918, 'min_child_weight': 8, 'gamma': 0.05887867027592943, 'subsample': 0.999678831278645, 'colsample_bytree': 0.554880760131184, 'reg_alpha': 0.4926087895681228, 'reg_lambda': 0.24035928831431785, 'random_state': 37}. Best is trial 85 with value: 81499101.46678133.\n",
      "[I 2024-04-19 13:04:25,477] Trial 114 finished with value: 81515094.02757044 and parameters: {'max_depth': 2, 'learning_rate': 0.0922293762509555, 'n_estimators': 897, 'min_child_weight': 9, 'gamma': 0.09672348352639483, 'subsample': 0.9236531329513062, 'colsample_bytree': 0.06774965580712433, 'reg_alpha': 0.07325463716568464, 'reg_lambda': 0.2216147308206319, 'random_state': 604}. Best is trial 85 with value: 81499101.46678133.\n",
      "[I 2024-04-19 13:04:27,505] Trial 115 finished with value: 81504435.57945946 and parameters: {'max_depth': 2, 'learning_rate': 0.06917599731209878, 'n_estimators': 703, 'min_child_weight': 9, 'gamma': 0.5139952540637319, 'subsample': 0.8943147358700062, 'colsample_bytree': 0.028180707463078915, 'reg_alpha': 0.8099882444678197, 'reg_lambda': 0.3557175982502657, 'random_state': 99}. Best is trial 85 with value: 81499101.46678133.\n",
      "[I 2024-04-19 13:04:29,512] Trial 116 finished with value: 81508449.31296442 and parameters: {'max_depth': 2, 'learning_rate': 0.06361847459652574, 'n_estimators': 699, 'min_child_weight': 9, 'gamma': 0.527138047089685, 'subsample': 0.8916809972114925, 'colsample_bytree': 0.10518020538512388, 'reg_alpha': 0.439281730417504, 'reg_lambda': 0.3517821857380036, 'random_state': 206}. Best is trial 85 with value: 81499101.46678133.\n",
      "[I 2024-04-19 13:04:31,345] Trial 117 finished with value: 81527390.59702593 and parameters: {'max_depth': 1, 'learning_rate': 0.8092469805725976, 'n_estimators': 661, 'min_child_weight': 9, 'gamma': 0.6077951545852048, 'subsample': 0.46657917916884284, 'colsample_bytree': 0.010710410722796498, 'reg_alpha': 0.39498481526189216, 'reg_lambda': 0.3030604629746621, 'random_state': 242}. Best is trial 85 with value: 81499101.46678133.\n",
      "[I 2024-04-19 13:04:33,358] Trial 118 finished with value: 81515056.39658003 and parameters: {'max_depth': 2, 'learning_rate': 0.16264820836503974, 'n_estimators': 719, 'min_child_weight': 9, 'gamma': 0.5072197783049235, 'subsample': 0.9028683892975887, 'colsample_bytree': 0.5131529231821175, 'reg_alpha': 0.46791024030423867, 'reg_lambda': 0.3343466299019191, 'random_state': 76}. Best is trial 85 with value: 81499101.46678133.\n",
      "[I 2024-04-19 13:04:35,334] Trial 119 finished with value: 81520121.70944601 and parameters: {'max_depth': 1, 'learning_rate': 0.11315020424130291, 'n_estimators': 710, 'min_child_weight': 7, 'gamma': 0.25719358062610115, 'subsample': 0.43537527289941486, 'colsample_bytree': 0.5378590700331582, 'reg_alpha': 0.6356465543201133, 'reg_lambda': 0.2887824336618863, 'random_state': 18}. Best is trial 85 with value: 81499101.46678133.\n",
      "[I 2024-04-19 13:04:37,249] Trial 120 finished with value: 81512183.02772371 and parameters: {'max_depth': 2, 'learning_rate': 0.08503629813768282, 'n_estimators': 682, 'min_child_weight': 9, 'gamma': 0.57204500016752, 'subsample': 0.8727154899286238, 'colsample_bytree': 0.05039227937287287, 'reg_alpha': 0.9250331375558248, 'reg_lambda': 0.25073671981751444, 'random_state': 911}. Best is trial 85 with value: 81499101.46678133.\n",
      "[I 2024-04-19 13:04:39,656] Trial 121 finished with value: 81508370.56767383 and parameters: {'max_depth': 3, 'learning_rate': 0.03763956611478715, 'n_estimators': 731, 'min_child_weight': 8, 'gamma': 0.12563933047663847, 'subsample': 0.9556776351419268, 'colsample_bytree': 0.028235524642458376, 'reg_alpha': 0.8100553291611113, 'reg_lambda': 0.18006433996085838, 'random_state': 113}. Best is trial 85 with value: 81499101.46678133.\n",
      "[I 2024-04-19 13:04:42,396] Trial 122 finished with value: 81518437.31291386 and parameters: {'max_depth': 3, 'learning_rate': 0.06639572829210258, 'n_estimators': 873, 'min_child_weight': 8, 'gamma': 0.4362726160116658, 'subsample': 0.9341956515796135, 'colsample_bytree': 0.08385089188673232, 'reg_alpha': 0.8687462904534878, 'reg_lambda': 0.3188278472032888, 'random_state': 95}. Best is trial 85 with value: 81499101.46678133.\n",
      "[I 2024-04-19 13:04:44,942] Trial 123 finished with value: 81533420.05221868 and parameters: {'max_depth': 1, 'learning_rate': 0.03490456239907028, 'n_estimators': 931, 'min_child_weight': 8, 'gamma': 0.48306380988810693, 'subsample': 0.9794846060478964, 'colsample_bytree': 0.03306205955749318, 'reg_alpha': 0.36347607006411015, 'reg_lambda': 0.1138194271517966, 'random_state': 56}. Best is trial 85 with value: 81499101.46678133.\n",
      "[I 2024-04-19 13:04:47,657] Trial 124 finished with value: 81502825.12096666 and parameters: {'max_depth': 2, 'learning_rate': 0.025022163936999593, 'n_estimators': 951, 'min_child_weight': 8, 'gamma': 0.1979284496974434, 'subsample': 0.9469594561685606, 'colsample_bytree': 0.05901962383470616, 'reg_alpha': 0.7617977155658544, 'reg_lambda': 0.26903341773697254, 'random_state': 159}. Best is trial 85 with value: 81499101.46678133.\n",
      "[I 2024-04-19 13:04:50,510] Trial 125 finished with value: 81511789.39432052 and parameters: {'max_depth': 2, 'learning_rate': 0.07850959489288944, 'n_estimators': 984, 'min_child_weight': 9, 'gamma': 0.19034973751857912, 'subsample': 0.9485387397565388, 'colsample_bytree': 0.061735247944262175, 'reg_alpha': 0.8970039323916993, 'reg_lambda': 0.26390515891560473, 'random_state': 161}. Best is trial 85 with value: 81499101.46678133.\n",
      "[I 2024-04-19 13:04:53,223] Trial 126 finished with value: 81517765.86599626 and parameters: {'max_depth': 2, 'learning_rate': 0.13170586155130634, 'n_estimators': 947, 'min_child_weight': 7, 'gamma': 0.2127968963142423, 'subsample': 0.9203003595409248, 'colsample_bytree': 0.12552128293870918, 'reg_alpha': 0.7567350021401071, 'reg_lambda': 0.29852843008413704, 'random_state': 192}. Best is trial 85 with value: 81499101.46678133.\n",
      "[I 2024-04-19 13:04:55,478] Trial 127 finished with value: 81499030.56588914 and parameters: {'max_depth': 1, 'learning_rate': 0.09922891903162659, 'n_estimators': 813, 'min_child_weight': 8, 'gamma': 0.27931087008302735, 'subsample': 0.5291425708676392, 'colsample_bytree': 0.45355384738639504, 'reg_alpha': 0.732985838673256, 'reg_lambda': 0.3702805255062626, 'random_state': 33}. Best is trial 127 with value: 81499030.56588914.\n",
      "[I 2024-04-19 13:04:57,728] Trial 128 finished with value: 81533546.73686144 and parameters: {'max_depth': 1, 'learning_rate': 0.10347275151391246, 'n_estimators': 831, 'min_child_weight': 9, 'gamma': 0.2840144578947177, 'subsample': 0.5895590936042021, 'colsample_bytree': 0.4288673594060738, 'reg_alpha': 0.6934278682182811, 'reg_lambda': 0.37734299242243013, 'random_state': 136}. Best is trial 127 with value: 81499030.56588914.\n",
      "[I 2024-04-19 13:04:59,965] Trial 129 finished with value: 81530179.26539148 and parameters: {'max_depth': 1, 'learning_rate': 0.9335521526467014, 'n_estimators': 816, 'min_child_weight': 5, 'gamma': 0.2816674886210635, 'subsample': 0.5578610606815877, 'colsample_bytree': 0.4832841168178007, 'reg_alpha': 0.7418092332348182, 'reg_lambda': 0.4198282418494785, 'random_state': 218}. Best is trial 127 with value: 81499030.56588914.\n",
      "[I 2024-04-19 13:05:01,956] Trial 130 finished with value: 81531879.93858121 and parameters: {'max_depth': 1, 'learning_rate': 0.05183806645735882, 'n_estimators': 747, 'min_child_weight': 6, 'gamma': 0.32922399213348447, 'subsample': 0.812451866116839, 'colsample_bytree': 0.45831829652532413, 'reg_alpha': 0.6578132373727329, 'reg_lambda': 0.34408486457324283, 'random_state': 22}. Best is trial 127 with value: 81499030.56588914.\n",
      "[I 2024-04-19 13:05:04,786] Trial 131 finished with value: 81500730.60548347 and parameters: {'max_depth': 2, 'learning_rate': 0.03171323454618067, 'n_estimators': 955, 'min_child_weight': 8, 'gamma': 0.24925729305040248, 'subsample': 0.5315779240912801, 'colsample_bytree': 0.3866873879750132, 'reg_alpha': 0.7905134910824568, 'reg_lambda': 0.2729365719640878, 'random_state': 80}. Best is trial 127 with value: 81499030.56588914.\n",
      "[I 2024-04-19 13:05:07,282] Trial 132 finished with value: 81513018.40395369 and parameters: {'max_depth': 2, 'learning_rate': 0.0962434510934854, 'n_estimators': 842, 'min_child_weight': 2, 'gamma': 0.23436364551956584, 'subsample': 0.5189348471892549, 'colsample_bytree': 0.40668695302744845, 'reg_alpha': 0.7832800307698036, 'reg_lambda': 0.2813822728562684, 'random_state': 81}. Best is trial 127 with value: 81499030.56588914.\n",
      "[I 2024-04-19 13:05:09,429] Trial 133 finished with value: 81520402.95252162 and parameters: {'max_depth': 1, 'learning_rate': 0.0599559722412452, 'n_estimators': 781, 'min_child_weight': 8, 'gamma': 0.1654812759527342, 'subsample': 0.5088820017915036, 'colsample_bytree': 0.456804719227938, 'reg_alpha': 0.5065603456337343, 'reg_lambda': 0.3194031084900333, 'random_state': 2}. Best is trial 127 with value: 81499030.56588914.\n",
      "[I 2024-04-19 13:05:12,259] Trial 134 finished with value: 81495080.90112837 and parameters: {'max_depth': 2, 'learning_rate': 0.027935271135728745, 'n_estimators': 959, 'min_child_weight': 8, 'gamma': 0.36705591091771206, 'subsample': 0.537233308372537, 'colsample_bytree': 0.3727496537589667, 'reg_alpha': 0.7332827726013498, 'reg_lambda': 0.24536934761342574, 'random_state': 40}. Best is trial 134 with value: 81495080.90112837.\n",
      "[I 2024-04-19 13:05:15,034] Trial 135 finished with value: 81502110.57900165 and parameters: {'max_depth': 2, 'learning_rate': 0.08228977767642898, 'n_estimators': 959, 'min_child_weight': 8, 'gamma': 0.27035348761212274, 'subsample': 0.4760801971019922, 'colsample_bytree': 0.3800296260107695, 'reg_alpha': 0.7101472738992366, 'reg_lambda': 0.2476197590883752, 'random_state': 61}. Best is trial 134 with value: 81495080.90112837.\n",
      "[I 2024-04-19 13:05:17,866] Trial 136 finished with value: 81518836.76355322 and parameters: {'max_depth': 2, 'learning_rate': 0.13074720273180201, 'n_estimators': 966, 'min_child_weight': 8, 'gamma': 0.3089998929518707, 'subsample': 0.48459819810939736, 'colsample_bytree': 0.3772598782783561, 'reg_alpha': 0.7307684734313877, 'reg_lambda': 0.20913449268323445, 'random_state': 111}. Best is trial 134 with value: 81495080.90112837.\n",
      "[I 2024-04-19 13:05:20,771] Trial 137 finished with value: 81541402.34394363 and parameters: {'max_depth': 2, 'learning_rate': 0.5389284725870639, 'n_estimators': 987, 'min_child_weight': 8, 'gamma': 0.37959966048336813, 'subsample': 0.5337131396259852, 'colsample_bytree': 0.3184729265659537, 'reg_alpha': 0.7001574710781073, 'reg_lambda': 0.23766467099218527, 'random_state': 160}. Best is trial 134 with value: 81495080.90112837.\n",
      "[I 2024-04-19 13:05:23,365] Trial 138 finished with value: 81516634.65771192 and parameters: {'max_depth': 1, 'learning_rate': 0.15364174083046714, 'n_estimators': 952, 'min_child_weight': 7, 'gamma': 0.23015258113764933, 'subsample': 0.46198313868652474, 'colsample_bytree': 0.3990965364874856, 'reg_alpha': 0.7617457930943542, 'reg_lambda': 0.4516074539055431, 'random_state': 75}. Best is trial 134 with value: 81495080.90112837.\n",
      "[I 2024-04-19 13:05:26,270] Trial 139 finished with value: 81509487.87792572 and parameters: {'max_depth': 2, 'learning_rate': 0.08264548702853833, 'n_estimators': 967, 'min_child_weight': 4, 'gamma': 0.20218082183750755, 'subsample': 0.41457579284486296, 'colsample_bytree': 0.3286039033220883, 'reg_alpha': 0.7299176169566325, 'reg_lambda': 0.2579346220975684, 'random_state': 57}. Best is trial 134 with value: 81495080.90112837.\n",
      "[I 2024-04-19 13:05:28,818] Trial 140 finished with value: 81501806.75346391 and parameters: {'max_depth': 1, 'learning_rate': 0.1889884309697289, 'n_estimators': 938, 'min_child_weight': 8, 'gamma': 0.27049527871391377, 'subsample': 0.5718613406954548, 'colsample_bytree': 0.43794371017231576, 'reg_alpha': 0.6731165839779824, 'reg_lambda': 0.22577593832371562, 'random_state': 97}. Best is trial 134 with value: 81495080.90112837.\n",
      "[I 2024-04-19 13:05:31,351] Trial 141 finished with value: 81519668.5191355 and parameters: {'max_depth': 1, 'learning_rate': 0.17806414468302995, 'n_estimators': 939, 'min_child_weight': 8, 'gamma': 0.2724119610856689, 'subsample': 0.6109874809766863, 'colsample_bytree': 0.3715291227277458, 'reg_alpha': 0.7114679361735063, 'reg_lambda': 0.22425344816154583, 'random_state': 89}. Best is trial 134 with value: 81495080.90112837.\n",
      "[I 2024-04-19 13:05:33,912] Trial 142 finished with value: 81527595.14580487 and parameters: {'max_depth': 1, 'learning_rate': 0.11805703911855714, 'n_estimators': 944, 'min_child_weight': 3, 'gamma': 0.29901967185541256, 'subsample': 0.5657890358149051, 'colsample_bytree': 0.4374974128263088, 'reg_alpha': 0.6644552262055964, 'reg_lambda': 0.24850937954359834, 'random_state': 175}. Best is trial 134 with value: 81495080.90112837.\n",
      "[I 2024-04-19 13:05:36,525] Trial 143 finished with value: 81516134.60097665 and parameters: {'max_depth': 1, 'learning_rate': 0.048950778152099944, 'n_estimators': 958, 'min_child_weight': 8, 'gamma': 0.24591425865391828, 'subsample': 0.4978005823064313, 'colsample_bytree': 0.4250881743704515, 'reg_alpha': 0.7697230469144318, 'reg_lambda': 0.19967148236907695, 'random_state': 113}. Best is trial 134 with value: 81495080.90112837.\n",
      "[I 2024-04-19 13:05:38,987] Trial 144 finished with value: 81521762.0170387 and parameters: {'max_depth': 1, 'learning_rate': 0.19843161736268838, 'n_estimators': 907, 'min_child_weight': 8, 'gamma': 0.23747959456817652, 'subsample': 0.5410939399577082, 'colsample_bytree': 0.4130974378312929, 'reg_alpha': 0.6802186414587938, 'reg_lambda': 0.2702423783115002, 'random_state': 134}. Best is trial 134 with value: 81495080.90112837.\n",
      "[I 2024-04-19 13:05:41,781] Trial 145 finished with value: 81509520.47582398 and parameters: {'max_depth': 2, 'learning_rate': 0.07197451115332848, 'n_estimators': 951, 'min_child_weight': 7, 'gamma': 0.26820393178199986, 'subsample': 0.6359406588334005, 'colsample_bytree': 0.4450878771611827, 'reg_alpha': 0.5698029258874572, 'reg_lambda': 0.22763857424367856, 'random_state': 39}. Best is trial 134 with value: 81495080.90112837.\n",
      "[I 2024-04-19 13:05:44,249] Trial 146 finished with value: 81508948.87814564 and parameters: {'max_depth': 1, 'learning_rate': 0.0956540515423697, 'n_estimators': 918, 'min_child_weight': 8, 'gamma': 0.3141618070417142, 'subsample': 0.4514456888108267, 'colsample_bytree': 0.3836111269110759, 'reg_alpha': 0.6125397496537911, 'reg_lambda': 0.31316651880803115, 'random_state': 97}. Best is trial 134 with value: 81495080.90112837.\n",
      "[I 2024-04-19 13:05:47,114] Trial 147 finished with value: 81542130.89937907 and parameters: {'max_depth': 2, 'learning_rate': 0.35864333059199505, 'n_estimators': 970, 'min_child_weight': 8, 'gamma': 0.3541090594380591, 'subsample': 0.4806921846103182, 'colsample_bytree': 0.4781554180529073, 'reg_alpha': 0.7927383292571855, 'reg_lambda': 0.1960635148243963, 'random_state': 63}. Best is trial 134 with value: 81495080.90112837.\n",
      "[I 2024-04-19 13:05:49,765] Trial 148 finished with value: 81515777.50033322 and parameters: {'max_depth': 1, 'learning_rate': 0.7204549968717511, 'n_estimators': 980, 'min_child_weight': 8, 'gamma': 0.3741166202984212, 'subsample': 0.7002544939592361, 'colsample_bytree': 0.34356311962484004, 'reg_alpha': 0.7445966050669396, 'reg_lambda': 0.2780328287534867, 'random_state': 663}. Best is trial 134 with value: 81495080.90112837.\n",
      "[I 2024-04-19 13:05:51,980] Trial 149 finished with value: 81576648.84462869 and parameters: {'max_depth': 2, 'learning_rate': 0.6179481267377288, 'n_estimators': 740, 'min_child_weight': 7, 'gamma': 0.2693802872074887, 'subsample': 0.5398650558924303, 'colsample_bytree': 0.4901804714055408, 'reg_alpha': 0.7099741904623584, 'reg_lambda': 0.25037002829903104, 'random_state': 24}. Best is trial 134 with value: 81495080.90112837.\n"
     ]
    }
   ],
   "source": [
    "# Create the study\n",
    "\n",
    "study = optuna.create_study(direction='minimize', study_name='regression')\n",
    "study.optimize(objective, n_trials=150)"
   ]
  },
  {
   "cell_type": "code",
   "execution_count": 14,
   "metadata": {},
   "outputs": [
    {
     "ename": "NameError",
     "evalue": "name 'study' is not defined",
     "output_type": "error",
     "traceback": [
      "\u001b[1;31m---------------------------------------------------------------------------\u001b[0m",
      "\u001b[1;31mNameError\u001b[0m                                 Traceback (most recent call last)",
      "Cell \u001b[1;32mIn[14], line 1\u001b[0m\n\u001b[1;32m----> 1\u001b[0m \u001b[38;5;28mprint\u001b[39m(\u001b[38;5;124m'\u001b[39m\u001b[38;5;124mBest trial\u001b[39m\u001b[38;5;124m'\u001b[39m, \u001b[43mstudy\u001b[49m\u001b[38;5;241m.\u001b[39mbest_trial)\n",
      "\u001b[1;31mNameError\u001b[0m: name 'study' is not defined"
     ]
    }
   ],
   "source": [
    "print('Best trial', study.best_trial)"
   ]
  },
  {
   "cell_type": "code",
   "execution_count": 13,
   "metadata": {},
   "outputs": [
    {
     "ename": "NameError",
     "evalue": "name 'study' is not defined",
     "output_type": "error",
     "traceback": [
      "\u001b[1;31m---------------------------------------------------------------------------\u001b[0m",
      "\u001b[1;31mNameError\u001b[0m                                 Traceback (most recent call last)",
      "Cell \u001b[1;32mIn[13], line 1\u001b[0m\n\u001b[1;32m----> 1\u001b[0m \u001b[38;5;28mprint\u001b[39m(\u001b[38;5;124m'\u001b[39m\u001b[38;5;124mBest parameters\u001b[39m\u001b[38;5;124m'\u001b[39m, \u001b[43mstudy\u001b[49m\u001b[38;5;241m.\u001b[39mbest_params)\n",
      "\u001b[1;31mNameError\u001b[0m: name 'study' is not defined"
     ]
    }
   ],
   "source": [
    "print('Best parameters', study.best_params)"
   ]
  },
  {
   "cell_type": "code",
   "execution_count": 21,
   "metadata": {},
   "outputs": [],
   "source": [
    "params1={'max_depth': 8, 'learning_rate': 0.01219886538844411, 'n_estimators': 915, 'min_child_weight': 10, 'gamma': 0.5554065709585313, 'subsample': 0.9280771388834574, 'colsample_bytree': 0.7536455989901876, 'reg_alpha': 0.8155919100225657, 'reg_lambda': 0.8373651705739829, 'random_state': 686}"
   ]
  },
  {
   "cell_type": "code",
   "execution_count": null,
   "metadata": {},
   "outputs": [],
   "source": [
    "params2 ="
   ]
  },
  {
   "cell_type": "code",
   "execution_count": 99,
   "metadata": {},
   "outputs": [
    {
     "name": "stdout",
     "output_type": "stream",
     "text": [
      "MSE:  81538416.19642115\n",
      "RMSE:  9029.862468300453\n"
     ]
    }
   ],
   "source": [
    "XGBRegScaledOptimizado = XGBRegressor(**params1)\n",
    "XGBRegScaledOptimizado.fit(X_train_scaled, y_train)\n",
    "y_predXGBRegScaledOptimizado = XGBRegScaledOptimizado.predict(X_test_scaled)\n",
    "\n",
    "print('MSE: ', mean_squared_error(y_test, y_predXGBRegScaledOptimizado))\n",
    "print('RMSE: ', np.sqrt(mean_squared_error(y_test, y_predXGBRegScaledOptimizado)))"
   ]
  },
  {
   "cell_type": "code",
   "execution_count": null,
   "metadata": {},
   "outputs": [],
   "source": [
    "scaler = StandardScaler()\n",
    "X_scaled = scaler.fit_transform(X)\n",
    "\n",
    "XGBReg1 = XGBRegressor(**params1)\n",
    "XGBReg1.fit(X_scaled, y)"
   ]
  },
  {
   "cell_type": "code",
   "execution_count": null,
   "metadata": {},
   "outputs": [],
   "source": []
  },
  {
   "cell_type": "markdown",
   "metadata": {},
   "source": [
    "# Exportacion"
   ]
  },
  {
   "cell_type": "markdown",
   "metadata": {},
   "source": [
    "### Ejemplo"
   ]
  },
  {
   "cell_type": "code",
   "execution_count": 89,
   "metadata": {},
   "outputs": [],
   "source": [
    "# Predicción del conjunto de test - acá se genera un número aleatorio como ejemplo\n",
    "np.random.seed(42)\n",
    "y_pred = pd.DataFrame(np.random.rand(dataTesting.shape[0]) * 75000 + 5000, index=dataTesting.index, columns=['Price'])"
   ]
  },
  {
   "cell_type": "code",
   "execution_count": 90,
   "metadata": {},
   "outputs": [
    {
     "data": {
      "text/html": [
       "<div>\n",
       "<style scoped>\n",
       "    .dataframe tbody tr th:only-of-type {\n",
       "        vertical-align: middle;\n",
       "    }\n",
       "\n",
       "    .dataframe tbody tr th {\n",
       "        vertical-align: top;\n",
       "    }\n",
       "\n",
       "    .dataframe thead th {\n",
       "        text-align: right;\n",
       "    }\n",
       "</style>\n",
       "<table border=\"1\" class=\"dataframe\">\n",
       "  <thead>\n",
       "    <tr style=\"text-align: right;\">\n",
       "      <th></th>\n",
       "      <th>Price</th>\n",
       "    </tr>\n",
       "    <tr>\n",
       "      <th>ID</th>\n",
       "      <th></th>\n",
       "    </tr>\n",
       "  </thead>\n",
       "  <tbody>\n",
       "    <tr>\n",
       "      <th>0</th>\n",
       "      <td>33090.508914</td>\n",
       "    </tr>\n",
       "    <tr>\n",
       "      <th>1</th>\n",
       "      <td>76303.572981</td>\n",
       "    </tr>\n",
       "    <tr>\n",
       "      <th>2</th>\n",
       "      <td>59899.545636</td>\n",
       "    </tr>\n",
       "    <tr>\n",
       "      <th>3</th>\n",
       "      <td>49899.386315</td>\n",
       "    </tr>\n",
       "    <tr>\n",
       "      <th>4</th>\n",
       "      <td>16701.398033</td>\n",
       "    </tr>\n",
       "  </tbody>\n",
       "</table>\n",
       "</div>"
      ],
      "text/plain": [
       "           Price\n",
       "ID              \n",
       "0   33090.508914\n",
       "1   76303.572981\n",
       "2   59899.545636\n",
       "3   49899.386315\n",
       "4   16701.398033"
      ]
     },
     "execution_count": 90,
     "metadata": {},
     "output_type": "execute_result"
    }
   ],
   "source": [
    "# Guardar predicciones en formato exigido en la competencia de kaggle\n",
    "y_pred.to_csv('test_submission.csv', index_label='ID')\n",
    "y_pred.head()"
   ]
  }
 ],
 "metadata": {
  "kernelspec": {
   "display_name": "Python 3 (ipykernel)",
   "language": "python",
   "name": "python3"
  },
  "language_info": {
   "codemirror_mode": {
    "name": "ipython",
    "version": 3
   },
   "file_extension": ".py",
   "mimetype": "text/x-python",
   "name": "python",
   "nbconvert_exporter": "python",
   "pygments_lexer": "ipython3",
   "version": "3.10.13"
  }
 },
 "nbformat": 4,
 "nbformat_minor": 4
}
