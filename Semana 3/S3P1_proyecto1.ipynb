{
 "cells": [
  {
   "cell_type": "markdown",
   "metadata": {},
   "source": [
    "![image info](https://raw.githubusercontent.com/davidzarruk/MIAD_ML_NLP_2023/main/images/banner_1.png)"
   ]
  },
  {
   "cell_type": "markdown",
   "metadata": {},
   "source": [
    "# Proyecto 1 - Predicción de precios de vehículos usados\n",
    "\n",
    "En este proyecto podrán poner en práctica sus conocimientos sobre modelos predictivos basados en árboles y ensambles, y sobre la disponibilización de modelos. Para su desasrrollo tengan en cuenta las instrucciones dadas en la \"Guía del proyecto 1: Predicción de precios de vehículos usados\".\n",
    "\n",
    "**Entrega**: La entrega del proyecto deberán realizarla durante la semana 4. Sin embargo, es importante que avancen en la semana 3 en el modelado del problema y en parte del informe, tal y como se les indicó en la guía.\n",
    "\n",
    "Para hacer la entrega, deberán adjuntar el informe autocontenido en PDF a la actividad de entrega del proyecto que encontrarán en la semana 4, y subir el archivo de predicciones a la [competencia de Kaggle](https://www.kaggle.com/t/b8be43cf89c540bfaf3831f2c8506614)."
   ]
  },
  {
   "cell_type": "markdown",
   "metadata": {},
   "source": [
    "## Datos para la predicción de precios de vehículos usados\n",
    "\n",
    "En este proyecto se usará el conjunto de datos de Car Listings de Kaggle, donde cada observación representa el precio de un automóvil teniendo en cuenta distintas variables como: año, marca, modelo, entre otras. El objetivo es predecir el precio del automóvil. Para más detalles puede visitar el siguiente enlace: [datos](https://www.kaggle.com/jpayne/852k-used-car-listings)."
   ]
  },
  {
   "cell_type": "markdown",
   "metadata": {},
   "source": [
    "## Ejemplo predicción conjunto de test para envío a Kaggle\n",
    "\n",
    "En esta sección encontrarán el formato en el que deben guardar los resultados de la predicción para que puedan subirlos a la competencia en Kaggle."
   ]
  },
  {
   "cell_type": "code",
   "execution_count": 72,
   "metadata": {},
   "outputs": [],
   "source": [
    "import warnings\n",
    "warnings.filterwarnings('ignore')"
   ]
  },
  {
   "cell_type": "code",
   "execution_count": 93,
   "metadata": {},
   "outputs": [],
   "source": [
    "# Importación librerías\n",
    "\n",
    "#Python\n",
    "import pandas as pd\n",
    "import numpy as np\n",
    "\n",
    "\n",
    "#Regressor Models\n",
    "from xgboost import XGBRegressor\n",
    "\n",
    "# data processing\n",
    "from sklearn import metrics\n",
    "from sklearn.metrics import (\n",
    "    mean_squared_error,\n",
    "    mean_absolute_error,\n",
    "    r2_score\n",
    ")\n",
    "\n",
    "\n",
    "# sklearn\n",
    "from sklearn.model_selection import KFold, cross_val_score, GridSearchCV, train_test_split, RandomizedSearchCV\n",
    "from sklearn.feature_selection import RFE\n",
    "from sklearn.preprocessing import OneHotEncoder, power_transform, LabelEncoder, StandardScaler\n",
    "from sklearn.model_selection import train_test_split\n",
    "\n",
    "\n",
    "\n",
    "#Otros\n",
    "import optuna\n",
    "import pickle"
   ]
  },
  {
   "cell_type": "code",
   "execution_count": 74,
   "metadata": {},
   "outputs": [],
   "source": [
    "# Carga de datos de archivo .csv\n",
    "dataTraining = pd.read_csv('https://raw.githubusercontent.com/davidzarruk/MIAD_ML_NLP_2023/main/datasets/dataTrain_carListings.zip')\n",
    "dataTesting = pd.read_csv('https://raw.githubusercontent.com/davidzarruk/MIAD_ML_NLP_2023/main/datasets/dataTest_carListings.zip', index_col=0)"
   ]
  },
  {
   "cell_type": "code",
   "execution_count": 75,
   "metadata": {},
   "outputs": [
    {
     "data": {
      "text/html": [
       "<div>\n",
       "<style scoped>\n",
       "    .dataframe tbody tr th:only-of-type {\n",
       "        vertical-align: middle;\n",
       "    }\n",
       "\n",
       "    .dataframe tbody tr th {\n",
       "        vertical-align: top;\n",
       "    }\n",
       "\n",
       "    .dataframe thead th {\n",
       "        text-align: right;\n",
       "    }\n",
       "</style>\n",
       "<table border=\"1\" class=\"dataframe\">\n",
       "  <thead>\n",
       "    <tr style=\"text-align: right;\">\n",
       "      <th></th>\n",
       "      <th>Price</th>\n",
       "      <th>Year</th>\n",
       "      <th>Mileage</th>\n",
       "      <th>State</th>\n",
       "      <th>Make</th>\n",
       "      <th>Model</th>\n",
       "    </tr>\n",
       "  </thead>\n",
       "  <tbody>\n",
       "    <tr>\n",
       "      <th>0</th>\n",
       "      <td>34995</td>\n",
       "      <td>2017</td>\n",
       "      <td>9913</td>\n",
       "      <td>FL</td>\n",
       "      <td>Jeep</td>\n",
       "      <td>Wrangler</td>\n",
       "    </tr>\n",
       "    <tr>\n",
       "      <th>1</th>\n",
       "      <td>37895</td>\n",
       "      <td>2015</td>\n",
       "      <td>20578</td>\n",
       "      <td>OH</td>\n",
       "      <td>Chevrolet</td>\n",
       "      <td>Tahoe4WD</td>\n",
       "    </tr>\n",
       "    <tr>\n",
       "      <th>2</th>\n",
       "      <td>18430</td>\n",
       "      <td>2012</td>\n",
       "      <td>83716</td>\n",
       "      <td>TX</td>\n",
       "      <td>BMW</td>\n",
       "      <td>X5AWD</td>\n",
       "    </tr>\n",
       "    <tr>\n",
       "      <th>3</th>\n",
       "      <td>24681</td>\n",
       "      <td>2014</td>\n",
       "      <td>28729</td>\n",
       "      <td>OH</td>\n",
       "      <td>Cadillac</td>\n",
       "      <td>SRXLuxury</td>\n",
       "    </tr>\n",
       "    <tr>\n",
       "      <th>4</th>\n",
       "      <td>26998</td>\n",
       "      <td>2013</td>\n",
       "      <td>64032</td>\n",
       "      <td>CO</td>\n",
       "      <td>Jeep</td>\n",
       "      <td>Wrangler</td>\n",
       "    </tr>\n",
       "  </tbody>\n",
       "</table>\n",
       "</div>"
      ],
      "text/plain": [
       "   Price  Year  Mileage State       Make      Model\n",
       "0  34995  2017     9913    FL       Jeep   Wrangler\n",
       "1  37895  2015    20578    OH  Chevrolet   Tahoe4WD\n",
       "2  18430  2012    83716    TX        BMW      X5AWD\n",
       "3  24681  2014    28729    OH   Cadillac  SRXLuxury\n",
       "4  26998  2013    64032    CO       Jeep   Wrangler"
      ]
     },
     "execution_count": 75,
     "metadata": {},
     "output_type": "execute_result"
    }
   ],
   "source": [
    "# Visualización datos de entrenamiento\n",
    "dataTraining.head()"
   ]
  },
  {
   "cell_type": "code",
   "execution_count": 76,
   "metadata": {},
   "outputs": [
    {
     "data": {
      "text/html": [
       "<div>\n",
       "<style scoped>\n",
       "    .dataframe tbody tr th:only-of-type {\n",
       "        vertical-align: middle;\n",
       "    }\n",
       "\n",
       "    .dataframe tbody tr th {\n",
       "        vertical-align: top;\n",
       "    }\n",
       "\n",
       "    .dataframe thead th {\n",
       "        text-align: right;\n",
       "    }\n",
       "</style>\n",
       "<table border=\"1\" class=\"dataframe\">\n",
       "  <thead>\n",
       "    <tr style=\"text-align: right;\">\n",
       "      <th></th>\n",
       "      <th>Year</th>\n",
       "      <th>Mileage</th>\n",
       "      <th>State</th>\n",
       "      <th>Make</th>\n",
       "      <th>Model</th>\n",
       "    </tr>\n",
       "    <tr>\n",
       "      <th>ID</th>\n",
       "      <th></th>\n",
       "      <th></th>\n",
       "      <th></th>\n",
       "      <th></th>\n",
       "      <th></th>\n",
       "    </tr>\n",
       "  </thead>\n",
       "  <tbody>\n",
       "    <tr>\n",
       "      <th>0</th>\n",
       "      <td>2014</td>\n",
       "      <td>31909</td>\n",
       "      <td>MD</td>\n",
       "      <td>Nissan</td>\n",
       "      <td>MuranoAWD</td>\n",
       "    </tr>\n",
       "    <tr>\n",
       "      <th>1</th>\n",
       "      <td>2017</td>\n",
       "      <td>5362</td>\n",
       "      <td>FL</td>\n",
       "      <td>Jeep</td>\n",
       "      <td>Wrangler</td>\n",
       "    </tr>\n",
       "    <tr>\n",
       "      <th>2</th>\n",
       "      <td>2014</td>\n",
       "      <td>50300</td>\n",
       "      <td>OH</td>\n",
       "      <td>Ford</td>\n",
       "      <td>FlexLimited</td>\n",
       "    </tr>\n",
       "    <tr>\n",
       "      <th>3</th>\n",
       "      <td>2004</td>\n",
       "      <td>132160</td>\n",
       "      <td>WA</td>\n",
       "      <td>BMW</td>\n",
       "      <td>5</td>\n",
       "    </tr>\n",
       "    <tr>\n",
       "      <th>4</th>\n",
       "      <td>2015</td>\n",
       "      <td>25226</td>\n",
       "      <td>MA</td>\n",
       "      <td>Jeep</td>\n",
       "      <td>Grand</td>\n",
       "    </tr>\n",
       "  </tbody>\n",
       "</table>\n",
       "</div>"
      ],
      "text/plain": [
       "    Year  Mileage State    Make        Model\n",
       "ID                                          \n",
       "0   2014    31909    MD  Nissan    MuranoAWD\n",
       "1   2017     5362    FL    Jeep     Wrangler\n",
       "2   2014    50300    OH    Ford  FlexLimited\n",
       "3   2004   132160    WA     BMW            5\n",
       "4   2015    25226    MA    Jeep        Grand"
      ]
     },
     "execution_count": 76,
     "metadata": {},
     "output_type": "execute_result"
    }
   ],
   "source": [
    "# Visualización datos de test\n",
    "dataTesting.head()"
   ]
  },
  {
   "cell_type": "markdown",
   "metadata": {},
   "source": [
    "### Encoding"
   ]
  },
  {
   "cell_type": "code",
   "execution_count": 77,
   "metadata": {},
   "outputs": [],
   "source": [
    "label_encoder = LabelEncoder()\n",
    "\n",
    "# Aplica label encoding a la columna 'State'\n",
    "dataTraining['State'] = label_encoder.fit_transform(dataTraining['State'])\n",
    "\n",
    "# Aplica label encoding a las columnas 'Make' y 'Model'\n",
    "dataTraining['Make'] = label_encoder.fit_transform(dataTraining['Make'])\n",
    "dataTraining['Model'] = label_encoder.fit_transform(dataTraining['Model'])\n"
   ]
  },
  {
   "cell_type": "code",
   "execution_count": 78,
   "metadata": {},
   "outputs": [],
   "source": [
    "X=dataTraining[['Year', 'Mileage', 'State', 'Make', 'Model']]\n",
    "y=dataTraining['Price']"
   ]
  },
  {
   "cell_type": "markdown",
   "metadata": {},
   "source": [
    "### Separacion Train/Test"
   ]
  },
  {
   "cell_type": "code",
   "execution_count": 79,
   "metadata": {},
   "outputs": [],
   "source": [
    "X_train, X_test, y_train, y_test = train_test_split(X, y, test_size=0.33, random_state=42)"
   ]
  },
  {
   "cell_type": "code",
   "execution_count": 80,
   "metadata": {},
   "outputs": [],
   "source": [
    "scaler = StandardScaler()\n",
    "X_train_scaled = scaler.fit_transform(X_train[['Year', 'Mileage']])\n",
    "X_test_scaled = scaler.transform(X_test[['Year', 'Mileage']])"
   ]
  },
  {
   "cell_type": "markdown",
   "metadata": {},
   "source": [
    "### Modelo XGBRegressor"
   ]
  },
  {
   "cell_type": "code",
   "execution_count": 81,
   "metadata": {},
   "outputs": [],
   "source": [
    "xgb_reg = XGBRegressor(objective='reg:squarederror')"
   ]
  },
  {
   "cell_type": "code",
   "execution_count": 82,
   "metadata": {},
   "outputs": [
    {
     "name": "stdout",
     "output_type": "stream",
     "text": [
      "RMSE: 40161329.48271683, R2 Score: -1.257330776257389, MAE: 6915.933874752161\n"
     ]
    }
   ],
   "source": [
    "xgb_reg.fit(X_train_scaled, y_train)\n",
    "y_pred=xgb_reg.predict(X_test_scaled)\n",
    "XGb_sin_mse=mean_squared_error(y_pred, y_test.values)\n",
    "XGb_sin_r2=r2_score(y_pred, y_test.values)\n",
    "XGb_sin_mae=mean_absolute_error(y_pred, y_test.values)\n",
    "\n",
    "print(f'RMSE: {XGb_sin_mse**1/2}, R2 Score: {XGb_sin_r2}, MAE: {XGb_sin_mae}')"
   ]
  },
  {
   "cell_type": "markdown",
   "metadata": {},
   "source": [
    "## Calibracion Modelo XGBRegressor"
   ]
  },
  {
   "cell_type": "markdown",
   "metadata": {},
   "source": [
    "### Calibracion parametros Randomized Search CV"
   ]
  },
  {
   "cell_type": "code",
   "execution_count": 87,
   "metadata": {},
   "outputs": [
    {
     "name": "stdout",
     "output_type": "stream",
     "text": [
      "Fitting 10 folds for each of 27 candidates, totalling 270 fits\n",
      "Mejores hiperparámetros: {'n_estimators': 300, 'max_depth': 3, 'learning_rate': 0.1}\n"
     ]
    }
   ],
   "source": [
    "\n",
    "\n",
    "# Definir los hiperparámetros a explorar\n",
    "param_grid = {\n",
    "    'learning_rate': [0.01, 0.1, 0.3],\n",
    "    'max_depth': [3, 5, 7],\n",
    "    'n_estimators': [100, 200, 300]\n",
    "}\n",
    "\n",
    "xgb_reg_cal = XGBRegressor()\n",
    "\n",
    "random_search = RandomizedSearchCV(xgb_reg_cal, param_distributions=param_grid, n_iter=50, scoring='neg_mean_squared_error', cv=10, verbose=2, random_state=42, n_jobs=-1)\n",
    "\n",
    "random_search.fit(X_train_scaled, y_train)\n",
    "\n",
    "\n",
    "best_params_rs = random_search.best_params_\n",
    "print(\"Mejores hiperparámetros:\", best_params_rs)\n",
    "\n",
    "XGB_RMCV = random_search.best_estimator_\n"
   ]
  },
  {
   "cell_type": "code",
   "execution_count": 88,
   "metadata": {},
   "outputs": [
    {
     "name": "stdout",
     "output_type": "stream",
     "text": [
      "RMSE: 40016286.55899231, R2 Score: 0.30436269176415165, MAE: 6910.2168050796045\n"
     ]
    }
   ],
   "source": [
    "y_pred = XGB_RMCV.predict(X_test_scaled)\n",
    "MSEXGB=mean_squared_error(y_test, y_pred)\n",
    "r2XGB=r2_score(y_test, y_pred)\n",
    "MAEXGB=mean_absolute_error(y_test, y_pred)\n",
    "\n",
    "print(f'RMSE: {MSEXGB**1/2}, R2 Score: {r2XGB}, MAE: {MAEXGB}')"
   ]
  },
  {
   "cell_type": "markdown",
   "metadata": {},
   "source": [
    "### Calibracion parametros XGBoost Optuna"
   ]
  },
  {
   "cell_type": "code",
   "execution_count": 94,
   "metadata": {},
   "outputs": [],
   "source": [
    "\n",
    "def objective(trial):\n",
    "    param = {\n",
    "        'max_depth': trial.suggest_int('max_depth', 8, 10),\n",
    "        'learning_rate': trial.suggest_float('learning_rate', 0.01, 0.05),\n",
    "        'n_estimators': trial.suggest_int('n_estimators', 900, 1000),\n",
    "        'min_child_weight': trial.suggest_int('min_child_weight', 9, 10),\n",
    "        'gamma': trial.suggest_float('gamma', 0.2, 0.6),\n",
    "        'subsample': trial.suggest_float('subsample', 0.8, 1.0),\n",
    "        'colsample_bytree': trial.suggest_float('colsample_bytree', 0.01, 1.0),\n",
    "        'reg_alpha': trial.suggest_float('reg_alpha', 0.8, 1.0),\n",
    "        'reg_lambda': trial.suggest_float('reg_lambda', 0.01, 1.0),\n",
    "        'random_state': trial.suggest_int('random_state', 1, 1000)\n",
    "    }\n",
    "    model = XGBRegressor(**param)\n",
    "    model.fit(X_train_scaled, y_train)\n",
    "    y_pred = model.predict(X_test_scaled)\n",
    "    return mean_squared_error(y_test, y_pred)"
   ]
  },
  {
   "cell_type": "code",
   "execution_count": 95,
   "metadata": {},
   "outputs": [
    {
     "name": "stderr",
     "output_type": "stream",
     "text": [
      "[I 2024-04-18 21:57:52,214] A new study created in memory with name: regression\n"
     ]
    },
    {
     "name": "stderr",
     "output_type": "stream",
     "text": [
      "[I 2024-04-18 21:57:56,811] Trial 0 finished with value: 81546953.13266918 and parameters: {'max_depth': 9, 'learning_rate': 0.03598974352449177, 'n_estimators': 984, 'min_child_weight': 10, 'gamma': 0.3021009532242031, 'subsample': 0.8220930445604852, 'colsample_bytree': 0.42099437443179566, 'reg_alpha': 0.8977422237427244, 'reg_lambda': 0.9399206198719706, 'random_state': 524}. Best is trial 0 with value: 81546953.13266918.\n",
      "[I 2024-04-18 21:58:01,589] Trial 1 finished with value: 81544977.05945458 and parameters: {'max_depth': 9, 'learning_rate': 0.023387976975733107, 'n_estimators': 982, 'min_child_weight': 10, 'gamma': 0.5562051513571824, 'subsample': 0.936466967550744, 'colsample_bytree': 0.6861171352678676, 'reg_alpha': 0.8641114095478439, 'reg_lambda': 0.6879412329922592, 'random_state': 669}. Best is trial 1 with value: 81544977.05945458.\n",
      "[I 2024-04-18 21:58:05,884] Trial 2 finished with value: 81545519.06638822 and parameters: {'max_depth': 8, 'learning_rate': 0.042687941999583805, 'n_estimators': 912, 'min_child_weight': 10, 'gamma': 0.42191807581215335, 'subsample': 0.8748281791770491, 'colsample_bytree': 0.4356701364394789, 'reg_alpha': 0.9910831918668812, 'reg_lambda': 0.5716769800519664, 'random_state': 988}. Best is trial 1 with value: 81544977.05945458.\n",
      "[I 2024-04-18 21:58:11,064] Trial 3 finished with value: 81548755.13291585 and parameters: {'max_depth': 10, 'learning_rate': 0.02060874486666534, 'n_estimators': 911, 'min_child_weight': 10, 'gamma': 0.2338820379463975, 'subsample': 0.9391943554771215, 'colsample_bytree': 0.4345631954989117, 'reg_alpha': 0.8323021950174382, 'reg_lambda': 0.46572209303229717, 'random_state': 801}. Best is trial 1 with value: 81544977.05945458.\n",
      "[I 2024-04-18 21:58:16,201] Trial 4 finished with value: 81545516.6881893 and parameters: {'max_depth': 8, 'learning_rate': 0.02320422374213241, 'n_estimators': 994, 'min_child_weight': 9, 'gamma': 0.3256243973828849, 'subsample': 0.8948190837363675, 'colsample_bytree': 0.9188468890975636, 'reg_alpha': 0.8765167164644108, 'reg_lambda': 0.5636981344355976, 'random_state': 612}. Best is trial 1 with value: 81544977.05945458.\n",
      "[I 2024-04-18 21:58:21,047] Trial 5 finished with value: 81542495.44640791 and parameters: {'max_depth': 8, 'learning_rate': 0.011265454867810262, 'n_estimators': 935, 'min_child_weight': 9, 'gamma': 0.2687511464960594, 'subsample': 0.881590393927495, 'colsample_bytree': 0.35473029972724957, 'reg_alpha': 0.9547827715798218, 'reg_lambda': 0.34316748198376085, 'random_state': 26}. Best is trial 5 with value: 81542495.44640791.\n",
      "[I 2024-04-18 21:58:26,037] Trial 6 finished with value: 81546594.13489902 and parameters: {'max_depth': 8, 'learning_rate': 0.017283937195280173, 'n_estimators': 993, 'min_child_weight': 10, 'gamma': 0.547208518695797, 'subsample': 0.9081467192943804, 'colsample_bytree': 0.3362051099648156, 'reg_alpha': 0.8591083971685338, 'reg_lambda': 0.22374890570073203, 'random_state': 391}. Best is trial 5 with value: 81542495.44640791.\n",
      "[I 2024-04-18 21:58:30,855] Trial 7 finished with value: 81547327.20936987 and parameters: {'max_depth': 9, 'learning_rate': 0.04828219887168732, 'n_estimators': 987, 'min_child_weight': 10, 'gamma': 0.511593177524627, 'subsample': 0.8172070330794835, 'colsample_bytree': 0.6226212885002385, 'reg_alpha': 0.9469697347084546, 'reg_lambda': 0.8993663642461153, 'random_state': 726}. Best is trial 5 with value: 81542495.44640791.\n",
      "[I 2024-04-18 21:58:35,241] Trial 8 finished with value: 81543989.40756282 and parameters: {'max_depth': 8, 'learning_rate': 0.025227504565638097, 'n_estimators': 903, 'min_child_weight': 10, 'gamma': 0.44019400309792944, 'subsample': 0.9851543652278756, 'colsample_bytree': 0.6011053313604596, 'reg_alpha': 0.8763915953610153, 'reg_lambda': 0.7799904675093338, 'random_state': 615}. Best is trial 5 with value: 81542495.44640791.\n",
      "[I 2024-04-18 21:58:39,753] Trial 9 finished with value: 81546706.78302704 and parameters: {'max_depth': 9, 'learning_rate': 0.01564824075791606, 'n_estimators': 901, 'min_child_weight': 10, 'gamma': 0.25230701393860666, 'subsample': 0.9841011900687339, 'colsample_bytree': 0.8471450515554134, 'reg_alpha': 0.8172687284627512, 'reg_lambda': 0.1885654113360191, 'random_state': 961}. Best is trial 5 with value: 81542495.44640791.\n",
      "[I 2024-04-18 21:58:44,944] Trial 10 finished with value: 81546839.4077356 and parameters: {'max_depth': 10, 'learning_rate': 0.010382814975830006, 'n_estimators': 941, 'min_child_weight': 9, 'gamma': 0.34635555628564485, 'subsample': 0.8565905539665454, 'colsample_bytree': 0.059579725117282045, 'reg_alpha': 0.9443471643108798, 'reg_lambda': 0.3458553696389468, 'random_state': 18}. Best is trial 5 with value: 81542495.44640791.\n",
      "[I 2024-04-18 21:58:49,194] Trial 11 finished with value: 81543515.78462411 and parameters: {'max_depth': 8, 'learning_rate': 0.032072144455330735, 'n_estimators': 936, 'min_child_weight': 9, 'gamma': 0.43679282885599, 'subsample': 0.9996301325831142, 'colsample_bytree': 0.18726383194620533, 'reg_alpha': 0.9383303099160984, 'reg_lambda': 0.020889449808407567, 'random_state': 303}. Best is trial 5 with value: 81542495.44640791.\n",
      "[I 2024-04-18 21:58:54,067] Trial 12 finished with value: 81545597.70722549 and parameters: {'max_depth': 8, 'learning_rate': 0.03266034646510851, 'n_estimators': 937, 'min_child_weight': 9, 'gamma': 0.47002170837113605, 'subsample': 0.9471924621738045, 'colsample_bytree': 0.1301371678642782, 'reg_alpha': 0.9399420616553005, 'reg_lambda': 0.04097787319436133, 'random_state': 87}. Best is trial 5 with value: 81542495.44640791.\n",
      "[I 2024-04-18 21:58:58,737] Trial 13 finished with value: 81544118.31681879 and parameters: {'max_depth': 8, 'learning_rate': 0.037830391306235694, 'n_estimators': 961, 'min_child_weight': 9, 'gamma': 0.3768153434842105, 'subsample': 0.8617541912607602, 'colsample_bytree': 0.24085541926077925, 'reg_alpha': 0.9882626891077775, 'reg_lambda': 0.014876439749968612, 'random_state': 252}. Best is trial 5 with value: 81542495.44640791.\n",
      "[I 2024-04-18 21:59:03,485] Trial 14 finished with value: 81543121.16753633 and parameters: {'max_depth': 8, 'learning_rate': 0.029141323389431453, 'n_estimators': 928, 'min_child_weight': 9, 'gamma': 0.20205606699555345, 'subsample': 0.904136018338569, 'colsample_bytree': 0.22007546266685568, 'reg_alpha': 0.9216483734244938, 'reg_lambda': 0.2122014289402817, 'random_state': 228}. Best is trial 5 with value: 81542495.44640791.\n",
      "[I 2024-04-18 21:59:08,495] Trial 15 finished with value: 81544535.14179787 and parameters: {'max_depth': 9, 'learning_rate': 0.011797274805313559, 'n_estimators': 923, 'min_child_weight': 9, 'gamma': 0.20456102946917462, 'subsample': 0.9069677944050207, 'colsample_bytree': 0.3066943116382783, 'reg_alpha': 0.913777141450775, 'reg_lambda': 0.32979230708676194, 'random_state': 151}. Best is trial 5 with value: 81542495.44640791.\n",
      "[I 2024-04-18 21:59:12,809] Trial 16 finished with value: 81546367.07843922 and parameters: {'max_depth': 8, 'learning_rate': 0.02776966450636366, 'n_estimators': 959, 'min_child_weight': 9, 'gamma': 0.2827279674672467, 'subsample': 0.8430609071828099, 'colsample_bytree': 0.013523328039779403, 'reg_alpha': 0.9773869236063164, 'reg_lambda': 0.20208374957775324, 'random_state': 202}. Best is trial 5 with value: 81542495.44640791.\n",
      "[I 2024-04-18 21:59:17,417] Trial 17 finished with value: 81547234.00087716 and parameters: {'max_depth': 10, 'learning_rate': 0.04841533298297958, 'n_estimators': 924, 'min_child_weight': 9, 'gamma': 0.21398245860268156, 'subsample': 0.8837781122053032, 'colsample_bytree': 0.27949056959610497, 'reg_alpha': 0.914991034604539, 'reg_lambda': 0.3502178677483264, 'random_state': 368}. Best is trial 5 with value: 81542495.44640791.\n",
      "[I 2024-04-18 21:59:21,724] Trial 18 finished with value: 81546644.12933058 and parameters: {'max_depth': 8, 'learning_rate': 0.042608004450690816, 'n_estimators': 965, 'min_child_weight': 9, 'gamma': 0.2674097007163846, 'subsample': 0.9204094527436547, 'colsample_bytree': 0.5519761007857025, 'reg_alpha': 0.9652598895560456, 'reg_lambda': 0.4611297112945385, 'random_state': 88}. Best is trial 5 with value: 81542495.44640791.\n",
      "[I 2024-04-18 21:59:26,235] Trial 19 finished with value: 81544133.45694968 and parameters: {'max_depth': 9, 'learning_rate': 0.017273759841181985, 'n_estimators': 949, 'min_child_weight': 9, 'gamma': 0.37412669983840413, 'subsample': 0.9608456688331934, 'colsample_bytree': 0.7227256362320291, 'reg_alpha': 0.9619676619097274, 'reg_lambda': 0.1258289065377203, 'random_state': 423}. Best is trial 5 with value: 81542495.44640791.\n",
      "[I 2024-04-18 21:59:32,104] Trial 20 finished with value: 81546236.45824073 and parameters: {'max_depth': 9, 'learning_rate': 0.028526194880953044, 'n_estimators': 926, 'min_child_weight': 9, 'gamma': 0.31251798509928197, 'subsample': 0.8382689139568571, 'colsample_bytree': 0.1146705986769713, 'reg_alpha': 0.9221185171199161, 'reg_lambda': 0.29807806009359566, 'random_state': 19}. Best is trial 5 with value: 81542495.44640791.\n",
      "[I 2024-04-18 21:59:36,878] Trial 21 finished with value: 81545637.64974345 and parameters: {'max_depth': 8, 'learning_rate': 0.032635079685091, 'n_estimators': 935, 'min_child_weight': 9, 'gamma': 0.4624906320186736, 'subsample': 0.9657014511771391, 'colsample_bytree': 0.1975192560416891, 'reg_alpha': 0.9334713279841402, 'reg_lambda': 0.10478053916573667, 'random_state': 281}. Best is trial 5 with value: 81542495.44640791.\n",
      "[I 2024-04-18 21:59:42,015] Trial 22 finished with value: 81546775.9104068 and parameters: {'max_depth': 8, 'learning_rate': 0.03789018573475066, 'n_estimators': 950, 'min_child_weight': 9, 'gamma': 0.40089972671894486, 'subsample': 0.8034827221099462, 'colsample_bytree': 0.19073155412688073, 'reg_alpha': 0.8966125568969816, 'reg_lambda': 0.10089172835033311, 'random_state': 295}. Best is trial 5 with value: 81542495.44640791.\n",
      "[I 2024-04-18 21:59:46,502] Trial 23 finished with value: 81546826.70274702 and parameters: {'max_depth': 8, 'learning_rate': 0.03160395935858179, 'n_estimators': 930, 'min_child_weight': 9, 'gamma': 0.20019805961008222, 'subsample': 0.9185389392551067, 'colsample_bytree': 0.37183068453381934, 'reg_alpha': 0.959648719129017, 'reg_lambda': 0.28035502046405386, 'random_state': 156}. Best is trial 5 with value: 81542495.44640791.\n",
      "[I 2024-04-18 21:59:50,867] Trial 24 finished with value: 81546830.61492956 and parameters: {'max_depth': 8, 'learning_rate': 0.042492139714692956, 'n_estimators': 916, 'min_child_weight': 9, 'gamma': 0.598582856173434, 'subsample': 0.9976928935341114, 'colsample_bytree': 0.14306672747016555, 'reg_alpha': 0.9241229181026418, 'reg_lambda': 0.42836078396514954, 'random_state': 501}. Best is trial 5 with value: 81542495.44640791.\n",
      "[I 2024-04-18 21:59:55,496] Trial 25 finished with value: 81545806.50346106 and parameters: {'max_depth': 8, 'learning_rate': 0.03538401988130327, 'n_estimators': 943, 'min_child_weight': 9, 'gamma': 0.2436004140627001, 'subsample': 0.8795850603794836, 'colsample_bytree': 0.25246938546114195, 'reg_alpha': 0.9046935504582408, 'reg_lambda': 0.1544227756210977, 'random_state': 339}. Best is trial 5 with value: 81542495.44640791.\n",
      "[I 2024-04-18 22:00:00,264] Trial 26 finished with value: 81545688.94798152 and parameters: {'max_depth': 8, 'learning_rate': 0.026850566523184665, 'n_estimators': 932, 'min_child_weight': 9, 'gamma': 0.34769669705978, 'subsample': 0.8934463703193006, 'colsample_bytree': 0.4968232454583122, 'reg_alpha': 0.9688518915564159, 'reg_lambda': 0.24736090275867645, 'random_state': 198}. Best is trial 5 with value: 81542495.44640791.\n",
      "[I 2024-04-18 22:00:04,828] Trial 27 finished with value: 81544513.0045312 and parameters: {'max_depth': 8, 'learning_rate': 0.021061651332007852, 'n_estimators': 972, 'min_child_weight': 9, 'gamma': 0.2816681443593576, 'subsample': 0.8631940922489313, 'colsample_bytree': 0.20410368197467668, 'reg_alpha': 0.9533263328452599, 'reg_lambda': 0.38550457382273606, 'random_state': 69}. Best is trial 5 with value: 81542495.44640791.\n",
      "[I 2024-04-18 22:00:09,344] Trial 28 finished with value: 81545737.14108211 and parameters: {'max_depth': 9, 'learning_rate': 0.013481101434954564, 'n_estimators': 917, 'min_child_weight': 9, 'gamma': 0.4842664455636282, 'subsample': 0.9226126186886224, 'colsample_bytree': 0.3605745052722247, 'reg_alpha': 0.9341829718918511, 'reg_lambda': 0.05959432402939685, 'random_state': 441}. Best is trial 5 with value: 81542495.44640791.\n",
      "[I 2024-04-18 22:00:13,801] Trial 29 finished with value: 81547239.04267165 and parameters: {'max_depth': 9, 'learning_rate': 0.030936300704859778, 'n_estimators': 946, 'min_child_weight': 9, 'gamma': 0.304714243478685, 'subsample': 0.837527318768077, 'colsample_bytree': 0.4915894975150278, 'reg_alpha': 0.8954572091527011, 'reg_lambda': 0.54557552263263, 'random_state': 230}. Best is trial 5 with value: 81542495.44640791.\n",
      "[I 2024-04-18 22:00:18,039] Trial 30 finished with value: 81545511.3456326 and parameters: {'max_depth': 8, 'learning_rate': 0.03578724582551059, 'n_estimators': 937, 'min_child_weight': 9, 'gamma': 0.23385131944240434, 'subsample': 0.9601145947556324, 'colsample_bytree': 0.0781731900342788, 'reg_alpha': 0.978105217938747, 'reg_lambda': 0.15923598141924422, 'random_state': 121}. Best is trial 5 with value: 81542495.44640791.\n",
      "[I 2024-04-18 22:00:22,098] Trial 31 finished with value: 81542234.66007495 and parameters: {'max_depth': 8, 'learning_rate': 0.025736882989896907, 'n_estimators': 904, 'min_child_weight': 10, 'gamma': 0.4313516899999023, 'subsample': 0.9983844384772299, 'colsample_bytree': 0.6392715923900832, 'reg_alpha': 0.8811403911594875, 'reg_lambda': 0.6872840280930814, 'random_state': 549}. Best is trial 31 with value: 81542234.66007495.\n",
      "[I 2024-04-18 22:00:26,165] Trial 32 finished with value: 81546186.7755897 and parameters: {'max_depth': 8, 'learning_rate': 0.024638211552979926, 'n_estimators': 919, 'min_child_weight': 10, 'gamma': 0.4379611557947698, 'subsample': 0.9974274185461086, 'colsample_bytree': 0.7575940143402677, 'reg_alpha': 0.8843018251925431, 'reg_lambda': 0.6853050085767316, 'random_state': 470}. Best is trial 31 with value: 81542234.66007495.\n",
      "[I 2024-04-18 22:00:30,808] Trial 33 finished with value: 81542059.69978273 and parameters: {'max_depth': 8, 'learning_rate': 0.020582841952521008, 'n_estimators': 907, 'min_child_weight': 10, 'gamma': 0.40436804722503444, 'subsample': 0.9764464512237644, 'colsample_bytree': 0.40333321501683694, 'reg_alpha': 0.846791572335871, 'reg_lambda': 0.7988724156458861, 'random_state': 556}. Best is trial 33 with value: 81542059.69978273.\n",
      "[I 2024-04-18 22:00:35,278] Trial 34 finished with value: 81542721.80541852 and parameters: {'max_depth': 8, 'learning_rate': 0.022573342494314697, 'n_estimators': 907, 'min_child_weight': 10, 'gamma': 0.404337622398419, 'subsample': 0.9784914662703638, 'colsample_bytree': 0.4071273007786077, 'reg_alpha': 0.84205181432504, 'reg_lambda': 0.9799324025749248, 'random_state': 544}. Best is trial 33 with value: 81542059.69978273.\n",
      "[I 2024-04-18 22:00:39,718] Trial 35 finished with value: 81542269.9003902 and parameters: {'max_depth': 8, 'learning_rate': 0.02059459280034928, 'n_estimators': 908, 'min_child_weight': 10, 'gamma': 0.4008050990403415, 'subsample': 0.9769340091080996, 'colsample_bytree': 0.4216285972293096, 'reg_alpha': 0.8510014372906236, 'reg_lambda': 0.9603869337431268, 'random_state': 565}. Best is trial 33 with value: 81542059.69978273.\n",
      "[I 2024-04-18 22:00:44,383] Trial 36 finished with value: 81543807.80765119 and parameters: {'max_depth': 9, 'learning_rate': 0.01966096887554874, 'n_estimators': 909, 'min_child_weight': 10, 'gamma': 0.3765006114441235, 'subsample': 0.9730379333955378, 'colsample_bytree': 0.4591572998285687, 'reg_alpha': 0.8541142888581528, 'reg_lambda': 0.8856220860009498, 'random_state': 552}. Best is trial 33 with value: 81542059.69978273.\n",
      "[I 2024-04-18 22:00:49,007] Trial 37 finished with value: 81541653.8082751 and parameters: {'max_depth': 8, 'learning_rate': 0.015605666783926504, 'n_estimators': 900, 'min_child_weight': 10, 'gamma': 0.503588276958993, 'subsample': 0.9449689619587112, 'colsample_bytree': 0.6507777741666476, 'reg_alpha': 0.8274588464509733, 'reg_lambda': 0.7777912293737244, 'random_state': 791}. Best is trial 37 with value: 81541653.8082751.\n",
      "[I 2024-04-18 22:00:53,667] Trial 38 finished with value: 81541701.3504879 and parameters: {'max_depth': 8, 'learning_rate': 0.018502813300793237, 'n_estimators': 906, 'min_child_weight': 10, 'gamma': 0.5302455334353648, 'subsample': 0.9483665544630336, 'colsample_bytree': 0.6486641878319446, 'reg_alpha': 0.8010753470660881, 'reg_lambda': 0.7764964455624813, 'random_state': 802}. Best is trial 37 with value: 81541653.8082751.\n",
      "[I 2024-04-18 22:00:59,169] Trial 39 finished with value: 81541678.78840946 and parameters: {'max_depth': 8, 'learning_rate': 0.015421461019772209, 'n_estimators': 902, 'min_child_weight': 10, 'gamma': 0.5233217215983094, 'subsample': 0.949483912438535, 'colsample_bytree': 0.6471106737458275, 'reg_alpha': 0.8025593076595021, 'reg_lambda': 0.6875257626700173, 'random_state': 875}. Best is trial 37 with value: 81541653.8082751.\n",
      "[I 2024-04-18 22:01:05,249] Trial 40 finished with value: 81546760.06486623 and parameters: {'max_depth': 10, 'learning_rate': 0.014418396523646005, 'n_estimators': 912, 'min_child_weight': 10, 'gamma': 0.5336841016951682, 'subsample': 0.9298610475000114, 'colsample_bytree': 0.8190737483597015, 'reg_alpha': 0.8015388265648783, 'reg_lambda': 0.780218943952449, 'random_state': 875}. Best is trial 37 with value: 81541653.8082751.\n",
      "[I 2024-04-18 22:01:10,755] Trial 41 finished with value: 81541313.41231424 and parameters: {'max_depth': 8, 'learning_rate': 0.018152998962646015, 'n_estimators': 900, 'min_child_weight': 10, 'gamma': 0.5050528872192817, 'subsample': 0.9492680120194565, 'colsample_bytree': 0.651369270931634, 'reg_alpha': 0.8231836040506643, 'reg_lambda': 0.694564934895833, 'random_state': 755}. Best is trial 41 with value: 81541313.41231424.\n",
      "[I 2024-04-18 22:01:16,341] Trial 42 finished with value: 81540829.41449568 and parameters: {'max_depth': 8, 'learning_rate': 0.0176522875289505, 'n_estimators': 901, 'min_child_weight': 10, 'gamma': 0.509464502546284, 'subsample': 0.9472380734028856, 'colsample_bytree': 0.5659029785974605, 'reg_alpha': 0.8221524823890198, 'reg_lambda': 0.7825649118688914, 'random_state': 748}. Best is trial 42 with value: 81540829.41449568.\n",
      "[I 2024-04-18 22:01:20,824] Trial 43 finished with value: 81541824.48105755 and parameters: {'max_depth': 8, 'learning_rate': 0.01808069583347393, 'n_estimators': 900, 'min_child_weight': 10, 'gamma': 0.510192434961247, 'subsample': 0.9460669166760248, 'colsample_bytree': 0.5679361131085661, 'reg_alpha': 0.8235549251299712, 'reg_lambda': 0.6418773391756164, 'random_state': 744}. Best is trial 42 with value: 81540829.41449568.\n",
      "[I 2024-04-18 22:01:25,253] Trial 44 finished with value: 81539519.02556401 and parameters: {'max_depth': 8, 'learning_rate': 0.015928995308559856, 'n_estimators': 900, 'min_child_weight': 10, 'gamma': 0.580336787636653, 'subsample': 0.9469043612073883, 'colsample_bytree': 0.665251365155819, 'reg_alpha': 0.8033549075400946, 'reg_lambda': 0.8408298898019763, 'random_state': 847}. Best is trial 44 with value: 81539519.02556401.\n",
      "[I 2024-04-18 22:01:29,694] Trial 45 finished with value: 81541171.41020115 and parameters: {'max_depth': 8, 'learning_rate': 0.01493141238175681, 'n_estimators': 914, 'min_child_weight': 10, 'gamma': 0.5773304761593026, 'subsample': 0.9353947433645013, 'colsample_bytree': 0.7108011190078418, 'reg_alpha': 0.8120734282056037, 'reg_lambda': 0.8434378118849013, 'random_state': 899}. Best is trial 44 with value: 81539519.02556401.\n",
      "[I 2024-04-18 22:01:34,248] Trial 46 finished with value: 81540655.0998197 and parameters: {'max_depth': 8, 'learning_rate': 0.013235337254942208, 'n_estimators': 913, 'min_child_weight': 10, 'gamma': 0.5716371617854039, 'subsample': 0.9349471363045234, 'colsample_bytree': 0.7054309026526963, 'reg_alpha': 0.8150826766915193, 'reg_lambda': 0.8429040899578752, 'random_state': 931}. Best is trial 44 with value: 81539519.02556401.\n",
      "[I 2024-04-18 22:01:38,710] Trial 47 finished with value: 81538995.88555704 and parameters: {'max_depth': 8, 'learning_rate': 0.012724058405752374, 'n_estimators': 912, 'min_child_weight': 10, 'gamma': 0.5765203400440033, 'subsample': 0.93563950221521, 'colsample_bytree': 0.9725793736039463, 'reg_alpha': 0.8146848769555005, 'reg_lambda': 0.8690491565611187, 'random_state': 947}. Best is trial 47 with value: 81538995.88555704.\n",
      "[I 2024-04-18 22:01:43,252] Trial 48 finished with value: 81545582.84822829 and parameters: {'max_depth': 8, 'learning_rate': 0.011894321955475821, 'n_estimators': 912, 'min_child_weight': 10, 'gamma': 0.5786027997174139, 'subsample': 0.933917775127472, 'colsample_bytree': 0.9893177574092558, 'reg_alpha': 0.8133176235963258, 'reg_lambda': 0.8890322315395409, 'random_state': 995}. Best is trial 47 with value: 81538995.88555704.\n",
      "[I 2024-04-18 22:01:48,014] Trial 49 finished with value: 81543505.5254405 and parameters: {'max_depth': 9, 'learning_rate': 0.013927408282915076, 'n_estimators': 920, 'min_child_weight': 10, 'gamma': 0.578055847857777, 'subsample': 0.9145402026935796, 'colsample_bytree': 0.8681325581266319, 'reg_alpha': 0.8350447059875025, 'reg_lambda': 0.8426178230880754, 'random_state': 930}. Best is trial 47 with value: 81538995.88555704.\n",
      "[I 2024-04-18 22:01:52,614] Trial 50 finished with value: 81538416.19642115 and parameters: {'max_depth': 8, 'learning_rate': 0.01219886538844411, 'n_estimators': 915, 'min_child_weight': 10, 'gamma': 0.5554065709585313, 'subsample': 0.9280771388834574, 'colsample_bytree': 0.7536455989901876, 'reg_alpha': 0.8155919100225657, 'reg_lambda': 0.8373651705739829, 'random_state': 686}. Best is trial 50 with value: 81538416.19642115.\n",
      "[I 2024-04-18 22:01:57,040] Trial 51 finished with value: 81540078.16145189 and parameters: {'max_depth': 8, 'learning_rate': 0.012580247931332632, 'n_estimators': 913, 'min_child_weight': 10, 'gamma': 0.5566575060388421, 'subsample': 0.9313514179639203, 'colsample_bytree': 0.7721544273656934, 'reg_alpha': 0.8113907860692672, 'reg_lambda': 0.9252684832709419, 'random_state': 667}. Best is trial 50 with value: 81538416.19642115.\n",
      "[I 2024-04-18 22:02:01,656] Trial 52 finished with value: 81539984.28173916 and parameters: {'max_depth': 8, 'learning_rate': 0.010482000247826462, 'n_estimators': 912, 'min_child_weight': 10, 'gamma': 0.5591881231206889, 'subsample': 0.9256640538365856, 'colsample_bytree': 0.7825147600761932, 'reg_alpha': 0.8371255289297653, 'reg_lambda': 0.9316177058837539, 'random_state': 674}. Best is trial 50 with value: 81538416.19642115.\n",
      "[I 2024-04-18 22:02:06,152] Trial 53 finished with value: 81539340.42107725 and parameters: {'max_depth': 8, 'learning_rate': 0.01028385871469458, 'n_estimators': 921, 'min_child_weight': 10, 'gamma': 0.5603847385947651, 'subsample': 0.9287997342568387, 'colsample_bytree': 0.7889379646888233, 'reg_alpha': 0.8350277973965462, 'reg_lambda': 0.9352832543091826, 'random_state': 673}. Best is trial 50 with value: 81538416.19642115.\n",
      "[I 2024-04-18 22:02:10,739] Trial 54 finished with value: 81542948.56514822 and parameters: {'max_depth': 8, 'learning_rate': 0.010072148449794042, 'n_estimators': 920, 'min_child_weight': 10, 'gamma': 0.5502066899777591, 'subsample': 0.9261635738746411, 'colsample_bytree': 0.7921772974233867, 'reg_alpha': 0.8362620615647953, 'reg_lambda': 0.9277596253578597, 'random_state': 666}. Best is trial 50 with value: 81538416.19642115.\n",
      "[I 2024-04-18 22:02:15,218] Trial 55 finished with value: 81546053.32172167 and parameters: {'max_depth': 8, 'learning_rate': 0.0119882744540527, 'n_estimators': 922, 'min_child_weight': 10, 'gamma': 0.5581242750558784, 'subsample': 0.9148851350442591, 'colsample_bytree': 0.9064980210035736, 'reg_alpha': 0.8670891823156333, 'reg_lambda': 0.9444177838003626, 'random_state': 671}. Best is trial 50 with value: 81538416.19642115.\n",
      "[I 2024-04-18 22:02:19,760] Trial 56 finished with value: 81539078.3499635 and parameters: {'max_depth': 8, 'learning_rate': 0.01017610070373973, 'n_estimators': 926, 'min_child_weight': 10, 'gamma': 0.5979848367284449, 'subsample': 0.8976021105172889, 'colsample_bytree': 0.9812274240318389, 'reg_alpha': 0.8101921238822114, 'reg_lambda': 0.9999434287613854, 'random_state': 623}. Best is trial 50 with value: 81538416.19642115.\n",
      "[I 2024-04-18 22:02:24,319] Trial 57 finished with value: 81538570.09845497 and parameters: {'max_depth': 8, 'learning_rate': 0.010094480222477435, 'n_estimators': 926, 'min_child_weight': 10, 'gamma': 0.5942594313447893, 'subsample': 0.9031545934393224, 'colsample_bytree': 0.9944004872744671, 'reg_alpha': 0.830471897379188, 'reg_lambda': 0.979500624553325, 'random_state': 608}. Best is trial 50 with value: 81538416.19642115.\n",
      "[I 2024-04-18 22:02:28,886] Trial 58 finished with value: 81540218.63698222 and parameters: {'max_depth': 8, 'learning_rate': 0.011039049789574125, 'n_estimators': 927, 'min_child_weight': 10, 'gamma': 0.5906793098204399, 'subsample': 0.8916396927878978, 'colsample_bytree': 0.989931809026601, 'reg_alpha': 0.8053136369973365, 'reg_lambda': 0.9963483417706478, 'random_state': 607}. Best is trial 50 with value: 81538416.19642115.\n",
      "[I 2024-04-18 22:02:33,405] Trial 59 finished with value: 81538730.11733915 and parameters: {'max_depth': 8, 'learning_rate': 0.012765882121968695, 'n_estimators': 923, 'min_child_weight': 10, 'gamma': 0.5978482810643185, 'subsample': 0.9013001230915249, 'colsample_bytree': 0.9513930004418519, 'reg_alpha': 0.8295983640557297, 'reg_lambda': 0.8691787507352012, 'random_state': 813}. Best is trial 50 with value: 81538416.19642115.\n",
      "[I 2024-04-18 22:02:38,010] Trial 60 finished with value: 81547697.57228352 and parameters: {'max_depth': 8, 'learning_rate': 0.010073848484680065, 'n_estimators': 932, 'min_child_weight': 10, 'gamma': 0.5999452690787848, 'subsample': 0.9002932560399795, 'colsample_bytree': 0.9537873894147402, 'reg_alpha': 0.8286907329510776, 'reg_lambda': 0.8887450018392442, 'random_state': 704}. Best is trial 50 with value: 81538416.19642115.\n",
      "[I 2024-04-18 22:02:42,526] Trial 61 finished with value: 81539830.41655567 and parameters: {'max_depth': 8, 'learning_rate': 0.012606272444186476, 'n_estimators': 917, 'min_child_weight': 10, 'gamma': 0.5390443490458501, 'subsample': 0.9089627830705133, 'colsample_bytree': 0.9054888914318777, 'reg_alpha': 0.8080777102450206, 'reg_lambda': 0.7293042822739272, 'random_state': 828}. Best is trial 50 with value: 81538416.19642115.\n",
      "[I 2024-04-18 22:02:47,023] Trial 62 finished with value: 81541180.17663164 and parameters: {'max_depth': 8, 'learning_rate': 0.016694061448562444, 'n_estimators': 925, 'min_child_weight': 10, 'gamma': 0.5884132264203983, 'subsample': 0.8727124270047608, 'colsample_bytree': 0.9422937212446756, 'reg_alpha': 0.8217708946390359, 'reg_lambda': 0.8660295249409315, 'random_state': 608}. Best is trial 50 with value: 81538416.19642115.\n",
      "[I 2024-04-18 22:02:51,629] Trial 63 finished with value: 81543298.95686324 and parameters: {'max_depth': 8, 'learning_rate': 0.016211794391917896, 'n_estimators': 923, 'min_child_weight': 10, 'gamma': 0.5680854992682389, 'subsample': 0.8912462037473424, 'colsample_bytree': 0.8624467132940465, 'reg_alpha': 0.8178421605417413, 'reg_lambda': 0.9693524551560321, 'random_state': 830}. Best is trial 50 with value: 81538416.19642115.\n",
      "[I 2024-04-18 22:02:56,284] Trial 64 finished with value: 81540684.93330708 and parameters: {'max_depth': 8, 'learning_rate': 0.012940374831780914, 'n_estimators': 930, 'min_child_weight': 10, 'gamma': 0.5862505110423292, 'subsample': 0.909694923458863, 'colsample_bytree': 0.951060800411301, 'reg_alpha': 0.8417381358272136, 'reg_lambda': 0.8316069002102345, 'random_state': 634}. Best is trial 50 with value: 81538416.19642115.\n",
      "[I 2024-04-18 22:03:00,977] Trial 65 finished with value: 81540039.52030794 and parameters: {'max_depth': 8, 'learning_rate': 0.011233956055380629, 'n_estimators': 941, 'min_child_weight': 10, 'gamma': 0.544179634148628, 'subsample': 0.8986325292348779, 'colsample_bytree': 0.8862023036545186, 'reg_alpha': 0.8297910994855416, 'reg_lambda': 0.9995971567888432, 'random_state': 701}. Best is trial 50 with value: 81538416.19642115.\n",
      "[I 2024-04-18 22:03:05,395] Trial 66 finished with value: 81539459.27260832 and parameters: {'max_depth': 8, 'learning_rate': 0.014878317443992473, 'n_estimators': 918, 'min_child_weight': 10, 'gamma': 0.5643878666652976, 'subsample': 0.9567946370357725, 'colsample_bytree': 0.8326852889299564, 'reg_alpha': 0.8592608384561886, 'reg_lambda': 0.9095372692654461, 'random_state': 781}. Best is trial 50 with value: 81538416.19642115.\n",
      "[I 2024-04-18 22:03:09,911] Trial 67 finished with value: 81539434.93111154 and parameters: {'max_depth': 8, 'learning_rate': 0.014152849747822174, 'n_estimators': 917, 'min_child_weight': 10, 'gamma': 0.5657308243599, 'subsample': 0.9555323198614751, 'colsample_bytree': 0.8358613822928809, 'reg_alpha': 0.8607895193076215, 'reg_lambda': 0.9122765988247368, 'random_state': 640}. Best is trial 50 with value: 81538416.19642115.\n",
      "[I 2024-04-18 22:03:15,041] Trial 68 finished with value: 81544674.37354565 and parameters: {'max_depth': 9, 'learning_rate': 0.014081966213339705, 'n_estimators': 997, 'min_child_weight': 10, 'gamma': 0.592344426489942, 'subsample': 0.8832022323960753, 'colsample_bytree': 0.9971666502950581, 'reg_alpha': 0.8691317816561368, 'reg_lambda': 0.9541725645623036, 'random_state': 628}. Best is trial 50 with value: 81538416.19642115.\n",
      "[I 2024-04-18 22:03:19,671] Trial 69 finished with value: 81539137.51543348 and parameters: {'max_depth': 8, 'learning_rate': 0.011626688637251269, 'n_estimators': 928, 'min_child_weight': 10, 'gamma': 0.491142445757104, 'subsample': 0.9019003271296848, 'colsample_bytree': 0.9329302083974174, 'reg_alpha': 0.8443469752288957, 'reg_lambda': 0.8059914776872412, 'random_state': 496}. Best is trial 50 with value: 81538416.19642115.\n",
      "[I 2024-04-18 22:03:24,268] Trial 70 finished with value: 81543675.43783578 and parameters: {'max_depth': 8, 'learning_rate': 0.011274631110698811, 'n_estimators': 929, 'min_child_weight': 10, 'gamma': 0.4805742479589356, 'subsample': 0.8727071775175373, 'colsample_bytree': 0.935878748658117, 'reg_alpha': 0.8423641578752987, 'reg_lambda': 0.6073013000865782, 'random_state': 466}. Best is trial 50 with value: 81538416.19642115.\n",
      "[I 2024-04-18 22:03:28,797] Trial 71 finished with value: 81538860.19491707 and parameters: {'max_depth': 8, 'learning_rate': 0.011983562902952051, 'n_estimators': 922, 'min_child_weight': 10, 'gamma': 0.5240153981795991, 'subsample': 0.9035276002582644, 'colsample_bytree': 0.8867488298602684, 'reg_alpha': 0.8315353147470296, 'reg_lambda': 0.7293077584188621, 'random_state': 601}. Best is trial 50 with value: 81538416.19642115.\n",
      "[I 2024-04-18 22:03:33,355] Trial 72 finished with value: 81541998.26865435 and parameters: {'max_depth': 8, 'learning_rate': 0.012031099001429678, 'n_estimators': 926, 'min_child_weight': 10, 'gamma': 0.5447629516247161, 'subsample': 0.9040689618803353, 'colsample_bytree': 0.9633303136145264, 'reg_alpha': 0.849147779683909, 'reg_lambda': 0.8194235840616777, 'random_state': 488}. Best is trial 50 with value: 81538416.19642115.\n",
      "[I 2024-04-18 22:03:38,470] Trial 73 finished with value: 81548862.07305571 and parameters: {'max_depth': 10, 'learning_rate': 0.013332325720246847, 'n_estimators': 934, 'min_child_weight': 10, 'gamma': 0.5250112944660863, 'subsample': 0.8876531548492762, 'colsample_bytree': 0.9170173602315534, 'reg_alpha': 0.818027992727808, 'reg_lambda': 0.7353352987790203, 'random_state': 587}. Best is trial 50 with value: 81538416.19642115.\n",
      "[I 2024-04-18 22:03:43,076] Trial 74 finished with value: 81542220.22643709 and parameters: {'max_depth': 8, 'learning_rate': 0.010128594259361448, 'n_estimators': 922, 'min_child_weight': 10, 'gamma': 0.4526240757214447, 'subsample': 0.9176560604707984, 'colsample_bytree': 0.8882622738121206, 'reg_alpha': 0.8324549613319551, 'reg_lambda': 0.7298497781640456, 'random_state': 528}. Best is trial 50 with value: 81538416.19642115.\n",
      "[I 2024-04-18 22:03:47,734] Trial 75 finished with value: 81548992.06091218 and parameters: {'max_depth': 8, 'learning_rate': 0.046822389616647586, 'n_estimators': 938, 'min_child_weight': 10, 'gamma': 0.49754031120588094, 'subsample': 0.8994605799586739, 'colsample_bytree': 0.9635854070343783, 'reg_alpha': 0.8419856596315926, 'reg_lambda': 0.8819200755354666, 'random_state': 584}. Best is trial 50 with value: 81538416.19642115.\n",
      "[I 2024-04-18 22:03:52,308] Trial 76 finished with value: 81539002.2444361 and parameters: {'max_depth': 8, 'learning_rate': 0.011512847094489957, 'n_estimators': 921, 'min_child_weight': 10, 'gamma': 0.5996009204129563, 'subsample': 0.9104849521911967, 'colsample_bytree': 0.7397064029838545, 'reg_alpha': 0.827714885130841, 'reg_lambda': 0.8064870148560851, 'random_state': 712}. Best is trial 50 with value: 81538416.19642115.\n",
      "[I 2024-04-18 22:03:57,134] Trial 77 finished with value: 81541064.89311463 and parameters: {'max_depth': 8, 'learning_rate': 0.011551134460819, 'n_estimators': 953, 'min_child_weight': 10, 'gamma': 0.5997260206694183, 'subsample': 0.8775464906167085, 'colsample_bytree': 0.9208609435648414, 'reg_alpha': 0.8083348065052677, 'reg_lambda': 0.8037893928020291, 'random_state': 422}. Best is trial 50 with value: 81538416.19642115.\n",
      "[I 2024-04-18 22:04:01,802] Trial 78 finished with value: 81550203.29718393 and parameters: {'max_depth': 8, 'learning_rate': 0.012505528623643937, 'n_estimators': 932, 'min_child_weight': 10, 'gamma': 0.5183146194876838, 'subsample': 0.940164020736317, 'colsample_bytree': 0.7412243266998798, 'reg_alpha': 0.827449178362401, 'reg_lambda': 0.7554298128440776, 'random_state': 526}. Best is trial 50 with value: 81538416.19642115.\n",
      "[I 2024-04-18 22:04:06,282] Trial 79 finished with value: 81540601.90220238 and parameters: {'max_depth': 8, 'learning_rate': 0.016709348179443386, 'n_estimators': 915, 'min_child_weight': 10, 'gamma': 0.5865979160973847, 'subsample': 0.9045845613251285, 'colsample_bytree': 0.8718611345781904, 'reg_alpha': 0.8196637634279812, 'reg_lambda': 0.8612003180089597, 'random_state': 583}. Best is trial 50 with value: 81538416.19642115.\n",
      "[I 2024-04-18 22:04:10,710] Trial 80 finished with value: 81540979.4445628 and parameters: {'max_depth': 8, 'learning_rate': 0.013538322897155067, 'n_estimators': 910, 'min_child_weight': 10, 'gamma': 0.5486312094685944, 'subsample': 0.912394659041475, 'colsample_bytree': 0.9754364490020674, 'reg_alpha': 0.8540556763801467, 'reg_lambda': 0.5070163482469271, 'random_state': 703}. Best is trial 50 with value: 81538416.19642115.\n",
      "[I 2024-04-18 22:04:15,293] Trial 81 finished with value: 81547619.4995841 and parameters: {'max_depth': 8, 'learning_rate': 0.011096993033852419, 'n_estimators': 921, 'min_child_weight': 10, 'gamma': 0.5725049875597811, 'subsample': 0.9217579308344714, 'colsample_bytree': 0.7962325140771987, 'reg_alpha': 0.9999598714692339, 'reg_lambda': 0.9749206137448588, 'random_state': 722}. Best is trial 50 with value: 81538416.19642115.\n",
      "[I 2024-04-18 22:04:19,934] Trial 82 finished with value: 81546569.337877 and parameters: {'max_depth': 8, 'learning_rate': 0.010043304370697215, 'n_estimators': 925, 'min_child_weight': 10, 'gamma': 0.5325629663204596, 'subsample': 0.8963805252807573, 'colsample_bytree': 0.8164889620325971, 'reg_alpha': 0.8244704276398807, 'reg_lambda': 0.8692992972403899, 'random_state': 769}. Best is trial 50 with value: 81538416.19642115.\n",
      "[I 2024-04-18 22:04:24,411] Trial 83 finished with value: 81545816.27972007 and parameters: {'max_depth': 8, 'learning_rate': 0.01225499589356777, 'n_estimators': 929, 'min_child_weight': 10, 'gamma': 0.552295123848444, 'subsample': 0.9396954338134548, 'colsample_bytree': 0.9322644517604443, 'reg_alpha': 0.8330306002402078, 'reg_lambda': 0.8079780826393956, 'random_state': 963}. Best is trial 50 with value: 81538416.19642115.\n",
      "[I 2024-04-18 22:04:28,801] Trial 84 finished with value: 81542220.15095662 and parameters: {'max_depth': 8, 'learning_rate': 0.014960608569199087, 'n_estimators': 905, 'min_child_weight': 10, 'gamma': 0.5835118390383832, 'subsample': 0.8882834364004389, 'colsample_bytree': 0.8546493824639776, 'reg_alpha': 0.8382722103581088, 'reg_lambda': 0.9031136494991541, 'random_state': 653}. Best is trial 50 with value: 81538416.19642115.\n",
      "[I 2024-04-18 22:04:33,536] Trial 85 finished with value: 81541396.03976554 and parameters: {'max_depth': 8, 'learning_rate': 0.011181172420654247, 'n_estimators': 979, 'min_child_weight': 10, 'gamma': 0.5626159451012561, 'subsample': 0.9271717884936905, 'colsample_bytree': 0.8995246297230947, 'reg_alpha': 0.8158272508921115, 'reg_lambda': 0.9525772993268978, 'random_state': 714}. Best is trial 50 with value: 81538416.19642115.\n",
      "[I 2024-04-18 22:04:37,973] Trial 86 finished with value: 81539787.08705312 and parameters: {'max_depth': 8, 'learning_rate': 0.01359382331680897, 'n_estimators': 923, 'min_child_weight': 10, 'gamma': 0.5919029252731799, 'subsample': 0.9056965459703855, 'colsample_bytree': 0.9676656298892606, 'reg_alpha': 0.8268675296265658, 'reg_lambda': 0.8634405878220701, 'random_state': 690}. Best is trial 50 with value: 81538416.19642115.\n",
      "[I 2024-04-18 22:04:42,569] Trial 87 finished with value: 81539347.0739943 and parameters: {'max_depth': 8, 'learning_rate': 0.012524136883575333, 'n_estimators': 919, 'min_child_weight': 10, 'gamma': 0.49192906088928184, 'subsample': 0.919821288574062, 'colsample_bytree': 0.9981360454453936, 'reg_alpha': 0.8452520595839644, 'reg_lambda': 0.75294919776104, 'random_state': 729}. Best is trial 50 with value: 81538416.19642115.\n",
      "[I 2024-04-18 22:04:47,066] Trial 88 finished with value: 81539846.88474835 and parameters: {'max_depth': 8, 'learning_rate': 0.014588665363376867, 'n_estimators': 927, 'min_child_weight': 10, 'gamma': 0.5717683899180913, 'subsample': 0.9138899874330904, 'colsample_bytree': 0.7484660672368204, 'reg_alpha': 0.8101319556212764, 'reg_lambda': 0.9423030704195569, 'random_state': 605}. Best is trial 50 with value: 81538416.19642115.\n",
      "[I 2024-04-18 22:04:51,423] Trial 89 finished with value: 81546599.85845242 and parameters: {'max_depth': 8, 'learning_rate': 0.040383324110376796, 'n_estimators': 910, 'min_child_weight': 10, 'gamma': 0.5415966493589175, 'subsample': 0.9027254976945155, 'colsample_bytree': 0.6048699380678091, 'reg_alpha': 0.8318888839879879, 'reg_lambda': 0.9863453840310965, 'random_state': 516}. Best is trial 50 with value: 81538416.19642115.\n",
      "[I 2024-04-18 22:04:55,947] Trial 90 finished with value: 81545106.96536246 and parameters: {'max_depth': 8, 'learning_rate': 0.01927493774588628, 'n_estimators': 915, 'min_child_weight': 10, 'gamma': 0.5976871285487678, 'subsample': 0.8958539142400695, 'colsample_bytree': 0.9306150778403431, 'reg_alpha': 0.8198893844420193, 'reg_lambda': 0.8191162482023452, 'random_state': 812}. Best is trial 50 with value: 81538416.19642115.\n",
      "[I 2024-04-18 22:05:00,405] Trial 91 finished with value: 81539721.01888986 and parameters: {'max_depth': 8, 'learning_rate': 0.01287450612513753, 'n_estimators': 920, 'min_child_weight': 10, 'gamma': 0.48738554527923716, 'subsample': 0.9214940945269984, 'colsample_bytree': 0.9815593287470755, 'reg_alpha': 0.8445982587199932, 'reg_lambda': 0.7630592047013258, 'random_state': 768}. Best is trial 50 with value: 81538416.19642115.\n",
      "[I 2024-04-18 22:05:04,910] Trial 92 finished with value: 81539602.1337652 and parameters: {'max_depth': 8, 'learning_rate': 0.010906738252521312, 'n_estimators': 918, 'min_child_weight': 10, 'gamma': 0.5165871441900801, 'subsample': 0.9172578140768766, 'colsample_bytree': 0.9959096163435345, 'reg_alpha': 0.8488856284996155, 'reg_lambda': 0.6537892667946242, 'random_state': 642}. Best is trial 50 with value: 81538416.19642115.\n",
      "[I 2024-04-18 22:05:09,374] Trial 93 finished with value: 81538642.59308109 and parameters: {'max_depth': 8, 'learning_rate': 0.01210094214669035, 'n_estimators': 924, 'min_child_weight': 10, 'gamma': 0.4607838060172707, 'subsample': 0.9284196055009202, 'colsample_bytree': 0.9463193947410157, 'reg_alpha': 0.8523448595455981, 'reg_lambda': 0.7421945704216499, 'random_state': 725}. Best is trial 50 with value: 81538416.19642115.\n",
      "[I 2024-04-18 22:05:13,915] Trial 94 finished with value: 81541725.82837138 and parameters: {'max_depth': 8, 'learning_rate': 0.011373989381203497, 'n_estimators': 925, 'min_child_weight': 10, 'gamma': 0.5806145572289488, 'subsample': 0.9089607682564441, 'colsample_bytree': 0.6856024144454489, 'reg_alpha': 0.8383698654410705, 'reg_lambda': 0.7935220275649492, 'random_state': 684}. Best is trial 50 with value: 81538416.19642115.\n",
      "[I 2024-04-18 22:05:18,528] Trial 95 finished with value: 81541153.09157802 and parameters: {'max_depth': 8, 'learning_rate': 0.015449078902906713, 'n_estimators': 934, 'min_child_weight': 10, 'gamma': 0.4542903492851832, 'subsample': 0.9296230585325742, 'colsample_bytree': 0.8863625636939407, 'reg_alpha': 0.8273686637377632, 'reg_lambda': 0.7131494346266576, 'random_state': 745}. Best is trial 50 with value: 81538416.19642115.\n",
      "[I 2024-04-18 22:05:23,097] Trial 96 finished with value: 81570938.11781 and parameters: {'max_depth': 8, 'learning_rate': 0.011785766912941484, 'n_estimators': 930, 'min_child_weight': 10, 'gamma': 0.5587489824102871, 'subsample': 0.8874469565804761, 'colsample_bytree': 0.8068699362022309, 'reg_alpha': 0.8146103315097443, 'reg_lambda': 0.9122751721968232, 'random_state': 656}. Best is trial 50 with value: 81538416.19642115.\n",
      "[I 2024-04-18 22:05:27,593] Trial 97 finished with value: 81543278.33526449 and parameters: {'max_depth': 8, 'learning_rate': 0.013645323291284955, 'n_estimators': 923, 'min_child_weight': 10, 'gamma': 0.47013741413983917, 'subsample': 0.941513735416985, 'colsample_bytree': 0.8460319301139032, 'reg_alpha': 0.8065674986223413, 'reg_lambda': 0.830979518468592, 'random_state': 574}. Best is trial 50 with value: 81538416.19642115.\n",
      "[I 2024-04-18 22:05:32,149] Trial 98 finished with value: 81546109.34839298 and parameters: {'max_depth': 8, 'learning_rate': 0.010072889911789427, 'n_estimators': 915, 'min_child_weight': 10, 'gamma': 0.5786762080247879, 'subsample': 0.9239076716372192, 'colsample_bytree': 0.9468508618022238, 'reg_alpha': 0.8526619520629128, 'reg_lambda': 0.6620619984443137, 'random_state': 866}. Best is trial 50 with value: 81538416.19642115.\n",
      "[I 2024-04-18 22:05:36,638] Trial 99 finished with value: 81550733.23823276 and parameters: {'max_depth': 8, 'learning_rate': 0.01681332842573851, 'n_estimators': 928, 'min_child_weight': 10, 'gamma': 0.5341770139960117, 'subsample': 0.9099445666162003, 'colsample_bytree': 0.917890510810103, 'reg_alpha': 0.8349261021926455, 'reg_lambda': 0.8559353830538146, 'random_state': 621}. Best is trial 50 with value: 81538416.19642115.\n"
     ]
    }
   ],
   "source": [
    "# Create the study\n",
    "\n",
    "study = optuna.create_study(direction='minimize', study_name='regression')\n",
    "study.optimize(objective, n_trials=100)"
   ]
  },
  {
   "cell_type": "code",
   "execution_count": 96,
   "metadata": {},
   "outputs": [
    {
     "name": "stdout",
     "output_type": "stream",
     "text": [
      "Best trial FrozenTrial(number=50, state=TrialState.COMPLETE, values=[81538416.19642115], datetime_start=datetime.datetime(2024, 4, 18, 22, 1, 48, 14710), datetime_complete=datetime.datetime(2024, 4, 18, 22, 1, 52, 614637), params={'max_depth': 8, 'learning_rate': 0.01219886538844411, 'n_estimators': 915, 'min_child_weight': 10, 'gamma': 0.5554065709585313, 'subsample': 0.9280771388834574, 'colsample_bytree': 0.7536455989901876, 'reg_alpha': 0.8155919100225657, 'reg_lambda': 0.8373651705739829, 'random_state': 686}, user_attrs={}, system_attrs={}, intermediate_values={}, distributions={'max_depth': IntDistribution(high=10, log=False, low=8, step=1), 'learning_rate': FloatDistribution(high=0.05, log=False, low=0.01, step=None), 'n_estimators': IntDistribution(high=1000, log=False, low=900, step=1), 'min_child_weight': IntDistribution(high=10, log=False, low=9, step=1), 'gamma': FloatDistribution(high=0.6, log=False, low=0.2, step=None), 'subsample': FloatDistribution(high=1.0, log=False, low=0.8, step=None), 'colsample_bytree': FloatDistribution(high=1.0, log=False, low=0.01, step=None), 'reg_alpha': FloatDistribution(high=1.0, log=False, low=0.8, step=None), 'reg_lambda': FloatDistribution(high=1.0, log=False, low=0.01, step=None), 'random_state': IntDistribution(high=1000, log=False, low=1, step=1)}, trial_id=50, value=None)\n"
     ]
    }
   ],
   "source": [
    "print('Best trial', study.best_trial)"
   ]
  },
  {
   "cell_type": "code",
   "execution_count": 97,
   "metadata": {},
   "outputs": [
    {
     "name": "stdout",
     "output_type": "stream",
     "text": [
      "Best parameters {'max_depth': 8, 'learning_rate': 0.01219886538844411, 'n_estimators': 915, 'min_child_weight': 10, 'gamma': 0.5554065709585313, 'subsample': 0.9280771388834574, 'colsample_bytree': 0.7536455989901876, 'reg_alpha': 0.8155919100225657, 'reg_lambda': 0.8373651705739829, 'random_state': 686}\n"
     ]
    }
   ],
   "source": [
    "print('Best parameters', study.best_params)"
   ]
  },
  {
   "cell_type": "code",
   "execution_count": 98,
   "metadata": {},
   "outputs": [],
   "source": [
    "params1={'max_depth': 8, 'learning_rate': 0.01219886538844411, 'n_estimators': 915, 'min_child_weight': 10, 'gamma': 0.5554065709585313, 'subsample': 0.9280771388834574, 'colsample_bytree': 0.7536455989901876, 'reg_alpha': 0.8155919100225657, 'reg_lambda': 0.8373651705739829, 'random_state': 686}"
   ]
  },
  {
   "cell_type": "code",
   "execution_count": 99,
   "metadata": {},
   "outputs": [
    {
     "name": "stdout",
     "output_type": "stream",
     "text": [
      "MSE:  81538416.19642115\n",
      "RMSE:  9029.862468300453\n"
     ]
    }
   ],
   "source": [
    "XGBRegScaledOptimizado = XGBRegressor(**params1)\n",
    "XGBRegScaledOptimizado.fit(X_train_scaled, y_train)\n",
    "y_predXGBRegScaledOptimizado = XGBRegScaledOptimizado.predict(X_test_scaled)\n",
    "\n",
    "print('MSE: ', mean_squared_error(y_test, y_predXGBRegScaledOptimizado))\n",
    "print('RMSE: ', np.sqrt(mean_squared_error(y_test, y_predXGBRegScaledOptimizado)))"
   ]
  },
  {
   "cell_type": "code",
   "execution_count": null,
   "metadata": {},
   "outputs": [],
   "source": [
    "scaler = StandardScaler()\n",
    "X_scaled = scaler.fit_transform(X)\n",
    "\n",
    "XGBReg1 = XGBRegressor(**params1)\n",
    "XGBReg1.fit(X_scaled, y)"
   ]
  },
  {
   "cell_type": "code",
   "execution_count": null,
   "metadata": {},
   "outputs": [],
   "source": []
  },
  {
   "cell_type": "markdown",
   "metadata": {},
   "source": [
    "# Exportacion"
   ]
  },
  {
   "cell_type": "markdown",
   "metadata": {},
   "source": [
    "### Ejemplo"
   ]
  },
  {
   "cell_type": "code",
   "execution_count": 89,
   "metadata": {},
   "outputs": [],
   "source": [
    "# Predicción del conjunto de test - acá se genera un número aleatorio como ejemplo\n",
    "np.random.seed(42)\n",
    "y_pred = pd.DataFrame(np.random.rand(dataTesting.shape[0]) * 75000 + 5000, index=dataTesting.index, columns=['Price'])"
   ]
  },
  {
   "cell_type": "code",
   "execution_count": 90,
   "metadata": {},
   "outputs": [
    {
     "data": {
      "text/html": [
       "<div>\n",
       "<style scoped>\n",
       "    .dataframe tbody tr th:only-of-type {\n",
       "        vertical-align: middle;\n",
       "    }\n",
       "\n",
       "    .dataframe tbody tr th {\n",
       "        vertical-align: top;\n",
       "    }\n",
       "\n",
       "    .dataframe thead th {\n",
       "        text-align: right;\n",
       "    }\n",
       "</style>\n",
       "<table border=\"1\" class=\"dataframe\">\n",
       "  <thead>\n",
       "    <tr style=\"text-align: right;\">\n",
       "      <th></th>\n",
       "      <th>Price</th>\n",
       "    </tr>\n",
       "    <tr>\n",
       "      <th>ID</th>\n",
       "      <th></th>\n",
       "    </tr>\n",
       "  </thead>\n",
       "  <tbody>\n",
       "    <tr>\n",
       "      <th>0</th>\n",
       "      <td>33090.508914</td>\n",
       "    </tr>\n",
       "    <tr>\n",
       "      <th>1</th>\n",
       "      <td>76303.572981</td>\n",
       "    </tr>\n",
       "    <tr>\n",
       "      <th>2</th>\n",
       "      <td>59899.545636</td>\n",
       "    </tr>\n",
       "    <tr>\n",
       "      <th>3</th>\n",
       "      <td>49899.386315</td>\n",
       "    </tr>\n",
       "    <tr>\n",
       "      <th>4</th>\n",
       "      <td>16701.398033</td>\n",
       "    </tr>\n",
       "  </tbody>\n",
       "</table>\n",
       "</div>"
      ],
      "text/plain": [
       "           Price\n",
       "ID              \n",
       "0   33090.508914\n",
       "1   76303.572981\n",
       "2   59899.545636\n",
       "3   49899.386315\n",
       "4   16701.398033"
      ]
     },
     "execution_count": 90,
     "metadata": {},
     "output_type": "execute_result"
    }
   ],
   "source": [
    "# Guardar predicciones en formato exigido en la competencia de kaggle\n",
    "y_pred.to_csv('test_submission.csv', index_label='ID')\n",
    "y_pred.head()"
   ]
  }
 ],
 "metadata": {
  "kernelspec": {
   "display_name": "Python 3 (ipykernel)",
   "language": "python",
   "name": "python3"
  },
  "language_info": {
   "codemirror_mode": {
    "name": "ipython",
    "version": 3
   },
   "file_extension": ".py",
   "mimetype": "text/x-python",
   "name": "python",
   "nbconvert_exporter": "python",
   "pygments_lexer": "ipython3",
   "version": "3.10.13"
  }
 },
 "nbformat": 4,
 "nbformat_minor": 4
}
