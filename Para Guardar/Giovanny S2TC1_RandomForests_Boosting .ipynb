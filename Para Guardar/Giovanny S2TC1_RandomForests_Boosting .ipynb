{
 "cells": [
  {
   "cell_type": "markdown",
   "metadata": {},
   "source": [
    "![image info](https://raw.githubusercontent.com/albahnsen/MIAD_ML_and_NLP/main/images/banner_1.png)"
   ]
  },
  {
   "cell_type": "markdown",
   "metadata": {},
   "source": [
    "# Taller: Construcción e implementación de modelos Bagging, Random Forest y XGBoost\n",
    "\n",
    "En este taller podrán poner en práctica sus conocimientos sobre la construcción e implementación de modelos de Bagging, Random Forest y XGBoost. El taller está constituido por 8 puntos, en los cuales deberan seguir las intrucciones de cada numeral para su desarrollo."
   ]
  },
  {
   "cell_type": "markdown",
   "metadata": {},
   "source": [
    "## Datos predicción precio de automóviles\n",
    "\n",
    "En este taller se usará el conjunto de datos de Car Listings de Kaggle donde cada observación representa el precio de un automóvil teniendo en cuenta distintas variables como año, marca, modelo, entre otras. El objetivo es predecir el precio del automóvil. Para más detalles puede visitar el siguiente enlace: [datos](https://www.kaggle.com/jpayne/852k-used-car-listings)."
   ]
  },
  {
   "cell_type": "code",
   "execution_count": 1,
   "metadata": {},
   "outputs": [],
   "source": [
    "import warnings\n",
    "warnings.filterwarnings('ignore')"
   ]
  },
  {
   "cell_type": "code",
   "execution_count": 2,
   "metadata": {},
   "outputs": [
    {
     "data": {
      "text/html": [
       "<div>\n",
       "<style scoped>\n",
       "    .dataframe tbody tr th:only-of-type {\n",
       "        vertical-align: middle;\n",
       "    }\n",
       "\n",
       "    .dataframe tbody tr th {\n",
       "        vertical-align: top;\n",
       "    }\n",
       "\n",
       "    .dataframe thead th {\n",
       "        text-align: right;\n",
       "    }\n",
       "</style>\n",
       "<table border=\"1\" class=\"dataframe\">\n",
       "  <thead>\n",
       "    <tr style=\"text-align: right;\">\n",
       "      <th></th>\n",
       "      <th>Price</th>\n",
       "      <th>Year</th>\n",
       "      <th>Mileage</th>\n",
       "      <th>State</th>\n",
       "      <th>Make</th>\n",
       "      <th>Model</th>\n",
       "    </tr>\n",
       "  </thead>\n",
       "  <tbody>\n",
       "    <tr>\n",
       "      <th>0</th>\n",
       "      <td>34995</td>\n",
       "      <td>2017</td>\n",
       "      <td>9913</td>\n",
       "      <td>FL</td>\n",
       "      <td>Jeep</td>\n",
       "      <td>Wrangler</td>\n",
       "    </tr>\n",
       "    <tr>\n",
       "      <th>1</th>\n",
       "      <td>37895</td>\n",
       "      <td>2015</td>\n",
       "      <td>20578</td>\n",
       "      <td>OH</td>\n",
       "      <td>Chevrolet</td>\n",
       "      <td>Tahoe4WD</td>\n",
       "    </tr>\n",
       "    <tr>\n",
       "      <th>2</th>\n",
       "      <td>18430</td>\n",
       "      <td>2012</td>\n",
       "      <td>83716</td>\n",
       "      <td>TX</td>\n",
       "      <td>BMW</td>\n",
       "      <td>X5AWD</td>\n",
       "    </tr>\n",
       "    <tr>\n",
       "      <th>3</th>\n",
       "      <td>24681</td>\n",
       "      <td>2014</td>\n",
       "      <td>28729</td>\n",
       "      <td>OH</td>\n",
       "      <td>Cadillac</td>\n",
       "      <td>SRXLuxury</td>\n",
       "    </tr>\n",
       "    <tr>\n",
       "      <th>4</th>\n",
       "      <td>26998</td>\n",
       "      <td>2013</td>\n",
       "      <td>64032</td>\n",
       "      <td>CO</td>\n",
       "      <td>Jeep</td>\n",
       "      <td>Wrangler</td>\n",
       "    </tr>\n",
       "    <tr>\n",
       "      <th>...</th>\n",
       "      <td>...</td>\n",
       "      <td>...</td>\n",
       "      <td>...</td>\n",
       "      <td>...</td>\n",
       "      <td>...</td>\n",
       "      <td>...</td>\n",
       "    </tr>\n",
       "    <tr>\n",
       "      <th>399995</th>\n",
       "      <td>29900</td>\n",
       "      <td>2015</td>\n",
       "      <td>25287</td>\n",
       "      <td>TX</td>\n",
       "      <td>Lexus</td>\n",
       "      <td>RXRX</td>\n",
       "    </tr>\n",
       "    <tr>\n",
       "      <th>399996</th>\n",
       "      <td>17688</td>\n",
       "      <td>2015</td>\n",
       "      <td>17677</td>\n",
       "      <td>MI</td>\n",
       "      <td>Chevrolet</td>\n",
       "      <td>EquinoxFWD</td>\n",
       "    </tr>\n",
       "    <tr>\n",
       "      <th>399997</th>\n",
       "      <td>24907</td>\n",
       "      <td>2014</td>\n",
       "      <td>66688</td>\n",
       "      <td>NC</td>\n",
       "      <td>Buick</td>\n",
       "      <td>EnclaveLeather</td>\n",
       "    </tr>\n",
       "    <tr>\n",
       "      <th>399998</th>\n",
       "      <td>11498</td>\n",
       "      <td>2014</td>\n",
       "      <td>37872</td>\n",
       "      <td>IN</td>\n",
       "      <td>Volkswagen</td>\n",
       "      <td>Jetta</td>\n",
       "    </tr>\n",
       "    <tr>\n",
       "      <th>399999</th>\n",
       "      <td>16900</td>\n",
       "      <td>2014</td>\n",
       "      <td>78606</td>\n",
       "      <td>CO</td>\n",
       "      <td>Nissan</td>\n",
       "      <td>PathfinderS</td>\n",
       "    </tr>\n",
       "  </tbody>\n",
       "</table>\n",
       "<p>400000 rows × 6 columns</p>\n",
       "</div>"
      ],
      "text/plain": [
       "        Price  Year  Mileage State        Make           Model\n",
       "0       34995  2017     9913    FL        Jeep        Wrangler\n",
       "1       37895  2015    20578    OH   Chevrolet        Tahoe4WD\n",
       "2       18430  2012    83716    TX         BMW           X5AWD\n",
       "3       24681  2014    28729    OH    Cadillac       SRXLuxury\n",
       "4       26998  2013    64032    CO        Jeep        Wrangler\n",
       "...       ...   ...      ...   ...         ...             ...\n",
       "399995  29900  2015    25287    TX       Lexus            RXRX\n",
       "399996  17688  2015    17677    MI   Chevrolet      EquinoxFWD\n",
       "399997  24907  2014    66688    NC       Buick  EnclaveLeather\n",
       "399998  11498  2014    37872    IN  Volkswagen           Jetta\n",
       "399999  16900  2014    78606    CO      Nissan     PathfinderS\n",
       "\n",
       "[400000 rows x 6 columns]"
      ]
     },
     "metadata": {},
     "output_type": "display_data"
    },
    {
     "data": {
      "text/html": [
       "<div>\n",
       "<style scoped>\n",
       "    .dataframe tbody tr th:only-of-type {\n",
       "        vertical-align: middle;\n",
       "    }\n",
       "\n",
       "    .dataframe tbody tr th {\n",
       "        vertical-align: top;\n",
       "    }\n",
       "\n",
       "    .dataframe thead th {\n",
       "        text-align: right;\n",
       "    }\n",
       "</style>\n",
       "<table border=\"1\" class=\"dataframe\">\n",
       "  <thead>\n",
       "    <tr style=\"text-align: right;\">\n",
       "      <th></th>\n",
       "      <th>Price</th>\n",
       "      <th>Year</th>\n",
       "      <th>Mileage</th>\n",
       "      <th>M_Camry</th>\n",
       "      <th>M_Camry4dr</th>\n",
       "      <th>M_CamryBase</th>\n",
       "      <th>M_CamryL</th>\n",
       "      <th>M_CamryLE</th>\n",
       "      <th>M_CamrySE</th>\n",
       "      <th>M_CamryXLE</th>\n",
       "    </tr>\n",
       "  </thead>\n",
       "  <tbody>\n",
       "    <tr>\n",
       "      <th>7</th>\n",
       "      <td>21995</td>\n",
       "      <td>2014</td>\n",
       "      <td>6480</td>\n",
       "      <td>0</td>\n",
       "      <td>0</td>\n",
       "      <td>0</td>\n",
       "      <td>1</td>\n",
       "      <td>0</td>\n",
       "      <td>0</td>\n",
       "      <td>0</td>\n",
       "    </tr>\n",
       "    <tr>\n",
       "      <th>11</th>\n",
       "      <td>13995</td>\n",
       "      <td>2014</td>\n",
       "      <td>39972</td>\n",
       "      <td>0</td>\n",
       "      <td>0</td>\n",
       "      <td>0</td>\n",
       "      <td>0</td>\n",
       "      <td>1</td>\n",
       "      <td>0</td>\n",
       "      <td>0</td>\n",
       "    </tr>\n",
       "    <tr>\n",
       "      <th>167</th>\n",
       "      <td>17941</td>\n",
       "      <td>2016</td>\n",
       "      <td>18989</td>\n",
       "      <td>0</td>\n",
       "      <td>0</td>\n",
       "      <td>0</td>\n",
       "      <td>0</td>\n",
       "      <td>0</td>\n",
       "      <td>1</td>\n",
       "      <td>0</td>\n",
       "    </tr>\n",
       "    <tr>\n",
       "      <th>225</th>\n",
       "      <td>12493</td>\n",
       "      <td>2014</td>\n",
       "      <td>51330</td>\n",
       "      <td>0</td>\n",
       "      <td>0</td>\n",
       "      <td>0</td>\n",
       "      <td>1</td>\n",
       "      <td>0</td>\n",
       "      <td>0</td>\n",
       "      <td>0</td>\n",
       "    </tr>\n",
       "    <tr>\n",
       "      <th>270</th>\n",
       "      <td>7994</td>\n",
       "      <td>2007</td>\n",
       "      <td>116065</td>\n",
       "      <td>0</td>\n",
       "      <td>1</td>\n",
       "      <td>0</td>\n",
       "      <td>0</td>\n",
       "      <td>0</td>\n",
       "      <td>0</td>\n",
       "      <td>0</td>\n",
       "    </tr>\n",
       "  </tbody>\n",
       "</table>\n",
       "</div>"
      ],
      "text/plain": [
       "     Price  Year  Mileage  M_Camry  M_Camry4dr  M_CamryBase  M_CamryL  \\\n",
       "7    21995  2014     6480        0           0            0         1   \n",
       "11   13995  2014    39972        0           0            0         0   \n",
       "167  17941  2016    18989        0           0            0         0   \n",
       "225  12493  2014    51330        0           0            0         1   \n",
       "270   7994  2007   116065        0           1            0         0   \n",
       "\n",
       "     M_CamryLE  M_CamrySE  M_CamryXLE  \n",
       "7            0          0           0  \n",
       "11           1          0           0  \n",
       "167          0          1           0  \n",
       "225          0          0           0  \n",
       "270          0          0           0  "
      ]
     },
     "execution_count": 2,
     "metadata": {},
     "output_type": "execute_result"
    }
   ],
   "source": [
    "# Importación de librerías\n",
    "%matplotlib inline\n",
    "import pandas as pd\n",
    "\n",
    "# Lectura de la información de archivo .csv\n",
    "data = pd.read_csv('https://raw.githubusercontent.com/albahnsen/MIAD_ML_and_NLP/main/datasets/dataTrain_carListings.zip')\n",
    "display(data)\n",
    "# Preprocesamiento de datos para el taller\n",
    "data = data.loc[data['Model'].str.contains('Camry')].drop(['Make', 'State'], axis=1)\n",
    "data = data.join(pd.get_dummies(data['Model'], prefix='M'))\n",
    "data = data.drop(['Model'], axis=1)\n",
    "\n",
    "# Visualización dataset\n",
    "data.head()"
   ]
  },
  {
   "cell_type": "code",
   "execution_count": 3,
   "metadata": {},
   "outputs": [],
   "source": [
    "# Separación de variables predictoras (X) y variable de interés (y)\n",
    "y = data['Price']\n",
    "X = data.drop(['Price'], axis=1)"
   ]
  },
  {
   "cell_type": "code",
   "execution_count": 4,
   "metadata": {},
   "outputs": [],
   "source": [
    "# Separación de datos en set de entrenamiento y test\n",
    "from sklearn.model_selection import train_test_split\n",
    "X_train, X_test, y_train, y_test = train_test_split(X, y, test_size=0.33, random_state=42)"
   ]
  },
  {
   "cell_type": "markdown",
   "metadata": {},
   "source": [
    "### Punto 1 - Árbol de decisión manual\n",
    "\n",
    "En la celda 1 creen un árbol de decisión **manualmente**  que considere los set de entrenamiento y test definidos anteriormente y presenten el RMSE y MAE del modelo en el set de test."
   ]
  },
  {
   "cell_type": "code",
   "execution_count": null,
   "metadata": {},
   "outputs": [],
   "source": [
    "# Celda 1\n"
   ]
  },
  {
   "cell_type": "markdown",
   "metadata": {},
   "source": [
    "### Punto 2 - Bagging manual\n",
    "\n",
    "En la celda 2 creen un modelo bagging **manualmente** con 10 árboles de regresión y comenten sobre el desempeño del modelo."
   ]
  },
  {
   "cell_type": "code",
   "execution_count": null,
   "metadata": {},
   "outputs": [],
   "source": [
    "# Celda 2\n"
   ]
  },
  {
   "cell_type": "markdown",
   "metadata": {},
   "source": [
    "### Punto 3 - Bagging con librería\n",
    "\n",
    "En la celda 3, con la librería sklearn, entrenen un modelo bagging con 10 árboles de regresión y el parámetro `max_features` igual a `log(n_features)` y comenten sobre el desempeño del modelo."
   ]
  },
  {
   "cell_type": "code",
   "execution_count": null,
   "metadata": {},
   "outputs": [],
   "source": [
    "# Celda 3\n"
   ]
  },
  {
   "cell_type": "markdown",
   "metadata": {},
   "source": [
    "### Punto 4 - Random forest con librería\n",
    "\n",
    "En la celda 4, usando la librería sklearn entrenen un modelo de Randon Forest para regresión  y comenten sobre el desempeño del modelo."
   ]
  },
  {
   "cell_type": "code",
   "execution_count": 6,
   "metadata": {},
   "outputs": [
    {
     "data": {
      "text/plain": [
       "count    10495.000000\n",
       "mean     14538.403716\n",
       "std       3922.420961\n",
       "min       5002.000000\n",
       "25%      11999.000000\n",
       "50%      15000.000000\n",
       "75%      16999.000000\n",
       "max      32444.000000\n",
       "Name: Price, dtype: float64"
      ]
     },
     "execution_count": 6,
     "metadata": {},
     "output_type": "execute_result"
    }
   ],
   "source": [
    "y.describe()"
   ]
  },
  {
   "cell_type": "markdown",
   "metadata": {},
   "source": [
    "Cantidad total de valores, en este caso, 10495 listados de precios.\n",
    "\n",
    "El precio medio de los listados es de $14538\n",
    "\n",
    "La desviación estándar de los precios es de $3922, lo que indica cuánto varían los precios en relación con el promedio.\n",
    "El precio más bajo de un listado es de 5002\n",
    "\n",
    "El 25 por ciento de los listados tienen un precio de $11999 o menos.\n",
    "\n",
    "La mediana del precio es de $15000, lo que significa que la mitad de los vehiculos son más baratos que esto y la otra mitad más caros.\n",
    "\n",
    "El 75 por ciento de los vehiculos tienen un precio de $16999 o menos.\n",
    "\n",
    "El precio más alto en los listados es de $32444."
   ]
  },
  {
   "cell_type": "code",
   "execution_count": 7,
   "metadata": {},
   "outputs": [
    {
     "data": {
      "text/html": [
       "<div>\n",
       "<style scoped>\n",
       "    .dataframe tbody tr th:only-of-type {\n",
       "        vertical-align: middle;\n",
       "    }\n",
       "\n",
       "    .dataframe tbody tr th {\n",
       "        vertical-align: top;\n",
       "    }\n",
       "\n",
       "    .dataframe thead th {\n",
       "        text-align: right;\n",
       "    }\n",
       "</style>\n",
       "<table border=\"1\" class=\"dataframe\">\n",
       "  <thead>\n",
       "    <tr style=\"text-align: right;\">\n",
       "      <th></th>\n",
       "      <th>Year</th>\n",
       "      <th>Mileage</th>\n",
       "      <th>M_Camry</th>\n",
       "      <th>M_Camry4dr</th>\n",
       "      <th>M_CamryBase</th>\n",
       "      <th>M_CamryL</th>\n",
       "      <th>M_CamryLE</th>\n",
       "      <th>M_CamrySE</th>\n",
       "      <th>M_CamryXLE</th>\n",
       "    </tr>\n",
       "  </thead>\n",
       "  <tbody>\n",
       "    <tr>\n",
       "      <th>count</th>\n",
       "      <td>10495.000000</td>\n",
       "      <td>10495.000000</td>\n",
       "      <td>10495.000000</td>\n",
       "      <td>10495.000000</td>\n",
       "      <td>10495.000000</td>\n",
       "      <td>10495.000000</td>\n",
       "      <td>10495.000000</td>\n",
       "      <td>10495.000000</td>\n",
       "      <td>10495.000000</td>\n",
       "    </tr>\n",
       "    <tr>\n",
       "      <th>mean</th>\n",
       "      <td>2013.553883</td>\n",
       "      <td>52509.430395</td>\n",
       "      <td>0.056313</td>\n",
       "      <td>0.158456</td>\n",
       "      <td>0.012292</td>\n",
       "      <td>0.048213</td>\n",
       "      <td>0.236494</td>\n",
       "      <td>0.376370</td>\n",
       "      <td>0.111863</td>\n",
       "    </tr>\n",
       "    <tr>\n",
       "      <th>std</th>\n",
       "      <td>3.116585</td>\n",
       "      <td>36791.736601</td>\n",
       "      <td>0.230535</td>\n",
       "      <td>0.365186</td>\n",
       "      <td>0.110189</td>\n",
       "      <td>0.214227</td>\n",
       "      <td>0.424949</td>\n",
       "      <td>0.484498</td>\n",
       "      <td>0.315213</td>\n",
       "    </tr>\n",
       "    <tr>\n",
       "      <th>min</th>\n",
       "      <td>1998.000000</td>\n",
       "      <td>5.000000</td>\n",
       "      <td>0.000000</td>\n",
       "      <td>0.000000</td>\n",
       "      <td>0.000000</td>\n",
       "      <td>0.000000</td>\n",
       "      <td>0.000000</td>\n",
       "      <td>0.000000</td>\n",
       "      <td>0.000000</td>\n",
       "    </tr>\n",
       "    <tr>\n",
       "      <th>25%</th>\n",
       "      <td>2012.000000</td>\n",
       "      <td>26461.000000</td>\n",
       "      <td>0.000000</td>\n",
       "      <td>0.000000</td>\n",
       "      <td>0.000000</td>\n",
       "      <td>0.000000</td>\n",
       "      <td>0.000000</td>\n",
       "      <td>0.000000</td>\n",
       "      <td>0.000000</td>\n",
       "    </tr>\n",
       "    <tr>\n",
       "      <th>50%</th>\n",
       "      <td>2014.000000</td>\n",
       "      <td>41680.000000</td>\n",
       "      <td>0.000000</td>\n",
       "      <td>0.000000</td>\n",
       "      <td>0.000000</td>\n",
       "      <td>0.000000</td>\n",
       "      <td>0.000000</td>\n",
       "      <td>0.000000</td>\n",
       "      <td>0.000000</td>\n",
       "    </tr>\n",
       "    <tr>\n",
       "      <th>75%</th>\n",
       "      <td>2016.000000</td>\n",
       "      <td>71355.500000</td>\n",
       "      <td>0.000000</td>\n",
       "      <td>0.000000</td>\n",
       "      <td>0.000000</td>\n",
       "      <td>0.000000</td>\n",
       "      <td>0.000000</td>\n",
       "      <td>1.000000</td>\n",
       "      <td>0.000000</td>\n",
       "    </tr>\n",
       "    <tr>\n",
       "      <th>max</th>\n",
       "      <td>2018.000000</td>\n",
       "      <td>232658.000000</td>\n",
       "      <td>1.000000</td>\n",
       "      <td>1.000000</td>\n",
       "      <td>1.000000</td>\n",
       "      <td>1.000000</td>\n",
       "      <td>1.000000</td>\n",
       "      <td>1.000000</td>\n",
       "      <td>1.000000</td>\n",
       "    </tr>\n",
       "  </tbody>\n",
       "</table>\n",
       "</div>"
      ],
      "text/plain": [
       "               Year        Mileage       M_Camry    M_Camry4dr   M_CamryBase  \\\n",
       "count  10495.000000   10495.000000  10495.000000  10495.000000  10495.000000   \n",
       "mean    2013.553883   52509.430395      0.056313      0.158456      0.012292   \n",
       "std        3.116585   36791.736601      0.230535      0.365186      0.110189   \n",
       "min     1998.000000       5.000000      0.000000      0.000000      0.000000   \n",
       "25%     2012.000000   26461.000000      0.000000      0.000000      0.000000   \n",
       "50%     2014.000000   41680.000000      0.000000      0.000000      0.000000   \n",
       "75%     2016.000000   71355.500000      0.000000      0.000000      0.000000   \n",
       "max     2018.000000  232658.000000      1.000000      1.000000      1.000000   \n",
       "\n",
       "           M_CamryL     M_CamryLE     M_CamrySE    M_CamryXLE  \n",
       "count  10495.000000  10495.000000  10495.000000  10495.000000  \n",
       "mean       0.048213      0.236494      0.376370      0.111863  \n",
       "std        0.214227      0.424949      0.484498      0.315213  \n",
       "min        0.000000      0.000000      0.000000      0.000000  \n",
       "25%        0.000000      0.000000      0.000000      0.000000  \n",
       "50%        0.000000      0.000000      0.000000      0.000000  \n",
       "75%        0.000000      0.000000      1.000000      0.000000  \n",
       "max        1.000000      1.000000      1.000000      1.000000  "
      ]
     },
     "execution_count": 7,
     "metadata": {},
     "output_type": "execute_result"
    }
   ],
   "source": [
    "X.describe()"
   ]
  },
  {
   "cell_type": "markdown",
   "metadata": {},
   "source": [
    "El número de observaciones 10,495 observaciones, lo que indica que no hay valores nulos.\n",
    "\n",
    "El valor medio de las columnas Por ejemplo, el año medio de los vehículos listados es aproximadamente 2013, y el kilometraje medio es de unos 52,509.\n",
    "\n",
    "La desviación estándar, que mide la cantidad de variación o dispersión de un conjunto de valores. Una desviación estándar baja indica que los valores tienden a estar cerca de la media.\n",
    "\n",
    "El valor mínimo en cada columna. El año mínimo es 1998, lo que sugiere que el vehículo más antiguo en los datos es de ese año, las millas minimas recorridas son 5.\n",
    "\n",
    "25%, 50% (median), y 75%: Son los percentiles 25, 50 (mediana), y 75. Por ejemplo, el 25% de los vehículos tienen un año de 2012 o antes, el 50% son de 2014 o antes, y el 75% son de 2016 o antes. Para las millas, el 25% de los vehiculos tienen una cantidad de millas de 26461 o menos, el 50% tiene 41680 o menos, el 75% tiene 71355 o menos.\n",
    "\n",
    "El valor máximo en cada columna. El año máximo es 2018, indicando que el vehículo más nuevo en los datos es de ese año y la cantida de millas maxima es de 232658"
   ]
  },
  {
   "cell_type": "code",
   "execution_count": 5,
   "metadata": {},
   "outputs": [
    {
     "name": "stdout",
     "output_type": "stream",
     "text": [
      "Mean Absolute Error (MAE) with Random Forest: 1310.1852141275215\n",
      "Root Mean Squared Error (RMSE) with Random Forest: 1760.9789379390752\n",
      "R Cuadrado (R2) with Random Forest: 0.7972661307705365\n"
     ]
    }
   ],
   "source": [
    "# Celda 4\n",
    "\n",
    "#modelo sin calibrar\n",
    "\n",
    "from sklearn.ensemble import RandomForestRegressor\n",
    "from sklearn.metrics import mean_squared_error\n",
    "from sklearn.metrics import mean_absolute_error\n",
    "from math import sqrt\n",
    "from sklearn.metrics import r2_score\n",
    "import matplotlib.pyplot as plt\n",
    "\n",
    "\n",
    "# crear el modelo Random Forest Regressor\n",
    "rf_regressor = RandomForestRegressor(random_state=0)\n",
    "\n",
    "# entrenar el modelo con los datos de entrenamiento\n",
    "rf_regressor.fit(X_train, y_train)\n",
    "\n",
    "# hacer predicciones con los datos de prueba\n",
    "y_pred_rf = rf_regressor.predict(X_test)\n",
    "\n",
    "# calcular MSE, RMSE y MAE\n",
    "mse_rf = mean_squared_error(y_test, y_pred_rf)\n",
    "\n",
    "rmse_rfreg = sqrt(mse_rf)\n",
    "\n",
    "mae_rfreg  = mean_absolute_error(y_test, y_pred_rf)\n",
    "print(f'Mean Absolute Error (MAE) with Random Forest: {mae_rfreg}')\n",
    "\n",
    "print(f'Root Mean Squared Error (RMSE) with Random Forest: {rmse_rfreg}')\n",
    "\n",
    "r2_rfreg = r2_score(y_test, y_pred_rf)\n",
    "\n",
    "print(f'R Cuadrado (R2) with Random Forest: {r2_rfreg}')"
   ]
  },
  {
   "cell_type": "markdown",
   "metadata": {},
   "source": [
    "Con las configuraciones de hiperparametros basicos de Random Forest \n",
    "\n",
    "El RMSE indica que la prediccion  tiene un error de 1760,9 con respecto al valor real de los autos, lo que puede considerarse un error moderado dependiendo del contexto de negocio.\n",
    "\n",
    "El RMSE es menor que la desviación estándar ($3922), lo cual es positivo porque indica que el modelo tiene mejor precisión que un modelo simple que siempre predice el promedio.\n",
    "\n",
    "Dado que el RMSE es mayor que la diferencia entre el primer cuartil (25 por ciento) y la mediana, puede haber una cantidad significativa de errores en las predicciones para vehículos con precios en el rango más bajo.\n",
    "\n",
    "El MAE de alrededor de 1310 sugiere que, en promedio, las predicciones del modelo tienen un error de $1310 con respecto a los valores reales de los precios de los coches\n",
    "\n",
    "El modelo puede explicar aproximadamente el 79,72% de la varianza en el conjunto de prueba"
   ]
  },
  {
   "cell_type": "markdown",
   "metadata": {},
   "source": [
    "### Punto 5 - Calibración de parámetros Random forest\n",
    "\n",
    "En la celda 5, calibren los parámetros max_depth, max_features y n_estimators del modelo de Randon Forest para regresión, comenten sobre el desempeño del modelo y describan cómo cada parámetro afecta el desempeño del modelo."
   ]
  },
  {
   "cell_type": "code",
   "execution_count": 6,
   "metadata": {},
   "outputs": [],
   "source": [
    "# Celda 5\n",
    "\n",
    "from sklearn.model_selection import cross_val_score\n",
    "\n",
    "# Creación de lista de valores para iterar sobre diferentes valores de n_estimators\n",
    "estimator_range = range(10, 400, 10)\n",
    "\n",
    "# Definición de lista para almacenar el MSE promedio negativo para cada valor de n_estimators\n",
    "rmse_scores = []\n",
    "\n",
    "# Uso de un 5-fold cross-validation para cada valor de n_estimators\n",
    "for estimator in estimator_range:\n",
    "    clf= RandomForestRegressor(n_estimators=estimator, random_state=1, n_jobs=-1)\n",
    "    mse_score = cross_val_score(clf, X_train, y_train, cv=5, scoring='neg_mean_squared_error').mean()\n",
    "    rmse_scores.append(sqrt(-mse_score))  # Convertimos MSE a RMSE\n"
   ]
  },
  {
   "cell_type": "code",
   "execution_count": 7,
   "metadata": {
    "scrolled": true
   },
   "outputs": [
    {
     "name": "stdout",
     "output_type": "stream",
     "text": [
      "El mejor n_estimators es: 370\n"
     ]
    },
    {
     "data": {
      "image/png": "[encoded data removed]",
      "text/plain": [
       "<Figure size 720x432 with 1 Axes>"
      ]
     },
     "metadata": {},
     "output_type": "display_data"
    }
   ],
   "source": [
    "\n",
    "\n",
    "# Identificar el mejor n_estimators\n",
    "optimal_n_estimators = estimator_range[rmse_scores.index(min(rmse_scores))]\n",
    "print(f'El mejor n_estimators es: {optimal_n_estimators}')\n",
    "\n",
    "# Gráfica del desempeño del modelo vs la cantidad de n_estimators\n",
    "plt.figure(figsize=(10, 6))\n",
    "plt.plot(estimator_range, rmse_scores)\n",
    "plt.xlabel('n_estimators')\n",
    "plt.ylabel('RMSE')\n",
    "plt.title('RMSE vs. n_estimators')\n",
    "plt.show()"
   ]
  },
  {
   "cell_type": "markdown",
   "metadata": {},
   "source": [
    "\n",
    "La gráfica muestra cómo varía el Mean Squared Error (RMSE) del modelo a medida que cambia el número de estimadores (árboles) en el Random Forest. \n",
    "\n",
    "El gráfico muestra un descenso muy pronunciado del RMSE cuando se aumenta el número de estimadores desde un número bajo (cerca de 10 árboles). Esto indica que agregar más árboles al modelo mejora significativamente su capacidad de predicción al principio.\n",
    "\n",
    "A medida que el número de estimadores sigue aumentando, la mejora en el RMSE se vuelve menos dramática. Después de un cierto número de árboles, parece que se estabiliza y hay muy poco beneficio en aumentar el número de árboles. aproximadamente después de 180 árboles en este caso, el RMSE se aplana y no hay una mejora significativa al aumentar el número de estimadores, despues de varias pruebas se identifica que n_estimator de 60 es suficiente y subirlo no mejora significativamente pero si aumenta el gasto computacional."
   ]
  },
  {
   "cell_type": "code",
   "execution_count": 8,
   "metadata": {},
   "outputs": [],
   "source": [
    "# Creación de lista de valores para iterar sobre diferentes valores de max_features\n",
    "base=int(X_train.shape[1]/3)\n",
    "\n",
    "feature_range = range(base, X_train.shape[1]+1)\n",
    "\n",
    "\n",
    "# Definición de lista para almacenar (mse)  para cada valor de max_features\n",
    "rmse_scores = []\n",
    "\n",
    "# Uso de un 10-fold cross-validation para cada valor de max_features\n",
    "for feature in feature_range:\n",
    "    clf = RandomForestRegressor(n_estimators=60, max_features=feature, random_state=1, n_jobs=-1)\n",
    "    mse_score = cross_val_score(clf, X_train, y_train, cv=5, scoring='neg_mean_squared_error').mean()\n",
    "    rmse_scores.append(sqrt(-mse_score))  # Convertimos MSE a RMSE\n",
    "\n",
    "\n",
    "\n"
   ]
  },
  {
   "cell_type": "code",
   "execution_count": 9,
   "metadata": {},
   "outputs": [
    {
     "name": "stdout",
     "output_type": "stream",
     "text": [
      "El mejor max_features es: 9\n"
     ]
    },
    {
     "data": {
      "text/plain": [
       "[1762.602670657948,\n",
       " 1760.346109730342,\n",
       " 1755.1118423295975,\n",
       " 1749.0258614966322,\n",
       " 1746.705147287173,\n",
       " 1740.3444208945637,\n",
       " 1735.3489597110297]"
      ]
     },
     "metadata": {},
     "output_type": "display_data"
    },
    {
     "data": {
      "text/plain": [
       "Text(0,0.5,'Rmse')"
      ]
     },
     "execution_count": 9,
     "metadata": {},
     "output_type": "execute_result"
    },
    {
     "data": {
      "image/png": "[encoded data removed]",
      "text/plain": [
       "<Figure size 432x288 with 1 Axes>"
      ]
     },
     "metadata": {},
     "output_type": "display_data"
    }
   ],
   "source": [
    "# Identificar el mejor max_depth\n",
    "optimal_features = feature_range[rmse_scores.index(min(rmse_scores))]\n",
    "print(f'El mejor max_features es: {optimal_features}')\n",
    "\n",
    "display(rmse_scores)\n",
    "# Gráfica del desempeño del modelo vs la cantidad de max_features\n",
    "plt.plot(feature_range, rmse_scores)\n",
    "plt.xlabel('max_features')\n",
    "plt.title('RMSE vs. max_features')\n",
    "plt.ylabel('Rmse')"
   ]
  },
  {
   "cell_type": "code",
   "execution_count": 10,
   "metadata": {},
   "outputs": [
    {
     "data": {
      "text/html": [
       "<div>\n",
       "<style scoped>\n",
       "    .dataframe tbody tr th:only-of-type {\n",
       "        vertical-align: middle;\n",
       "    }\n",
       "\n",
       "    .dataframe tbody tr th {\n",
       "        vertical-align: top;\n",
       "    }\n",
       "\n",
       "    .dataframe thead th {\n",
       "        text-align: right;\n",
       "    }\n",
       "</style>\n",
       "<table border=\"1\" class=\"dataframe\">\n",
       "  <thead>\n",
       "    <tr style=\"text-align: right;\">\n",
       "      <th></th>\n",
       "      <th>feature</th>\n",
       "      <th>importance</th>\n",
       "    </tr>\n",
       "  </thead>\n",
       "  <tbody>\n",
       "    <tr>\n",
       "      <th>4</th>\n",
       "      <td>M_CamryBase</td>\n",
       "      <td>0.000448</td>\n",
       "    </tr>\n",
       "    <tr>\n",
       "      <th>3</th>\n",
       "      <td>M_Camry4dr</td>\n",
       "      <td>0.001184</td>\n",
       "    </tr>\n",
       "    <tr>\n",
       "      <th>5</th>\n",
       "      <td>M_CamryL</td>\n",
       "      <td>0.001251</td>\n",
       "    </tr>\n",
       "    <tr>\n",
       "      <th>7</th>\n",
       "      <td>M_CamrySE</td>\n",
       "      <td>0.004501</td>\n",
       "    </tr>\n",
       "    <tr>\n",
       "      <th>2</th>\n",
       "      <td>M_Camry</td>\n",
       "      <td>0.007956</td>\n",
       "    </tr>\n",
       "    <tr>\n",
       "      <th>6</th>\n",
       "      <td>M_CamryLE</td>\n",
       "      <td>0.008442</td>\n",
       "    </tr>\n",
       "    <tr>\n",
       "      <th>8</th>\n",
       "      <td>M_CamryXLE</td>\n",
       "      <td>0.015848</td>\n",
       "    </tr>\n",
       "    <tr>\n",
       "      <th>1</th>\n",
       "      <td>Mileage</td>\n",
       "      <td>0.251619</td>\n",
       "    </tr>\n",
       "    <tr>\n",
       "      <th>0</th>\n",
       "      <td>Year</td>\n",
       "      <td>0.708753</td>\n",
       "    </tr>\n",
       "  </tbody>\n",
       "</table>\n",
       "</div>"
      ],
      "text/plain": [
       "       feature  importance\n",
       "4  M_CamryBase    0.000448\n",
       "3   M_Camry4dr    0.001184\n",
       "5     M_CamryL    0.001251\n",
       "7    M_CamrySE    0.004501\n",
       "2      M_Camry    0.007956\n",
       "6    M_CamryLE    0.008442\n",
       "8   M_CamryXLE    0.015848\n",
       "1      Mileage    0.251619\n",
       "0         Year    0.708753"
      ]
     },
     "execution_count": 10,
     "metadata": {},
     "output_type": "execute_result"
    }
   ],
   "source": [
    "import numpy as np\n",
    "clf = RandomForestRegressor(n_estimators=60, max_features=9, random_state=1, n_jobs=-1)\n",
    "clf.fit(X_train, y_train)\n",
    "pd.DataFrame({'feature':X_train.columns, 'importance':clf.feature_importances_}).sort_values('importance')\n",
    "\n"
   ]
  },
  {
   "cell_type": "markdown",
   "metadata": {},
   "source": [
    "Basandonos en la gráfica actual, parece que se debe elegir el número más alto de max_features, ya que el RMSE está en su punto más bajo allí, es decir 9 caracteristicas, o para este caso todas las caracteristicas de X_train. Sin embargo, luego de analizar la importancia de cada una se puede evidenciar que cerca del 95 por ciento de aporte lo dan Year y Milieage , por lo cual se prueban las 2 configuraciones y la de 2  incluso da mas bajo, por lo cual se dejara este hiperparametro en este valor dado que será mas optimo para interpretar y ejecutar.\n",
    "\n",
    "Según las importancias de las características reportadas, el 'Year' (Año) y 'Mileage' (Kilometraje) son, con mucho, las dos características más importantes. Esto tiene sentido intuitivo, ya que el año de fabricación de un coche y su kilometraje son indicadores críticos de su valor y desgaste.\n",
    "\n",
    "Las diferentes versiones del modelo Camry parecen tener una importancia mucho menor en el modelo. Esto podría indicar que, aunque hay diferencias entre las versiones de Camry, no son tan críticas para predecir el precio como el año y el kilometraje."
   ]
  },
  {
   "cell_type": "code",
   "execution_count": 11,
   "metadata": {},
   "outputs": [
    {
     "name": "stdout",
     "output_type": "stream",
     "text": [
      "El mejor max_depth es: 9\n"
     ]
    },
    {
     "data": {
      "image/png": "[encoded data removed]",
      "text/plain": [
       "<Figure size 432x288 with 1 Axes>"
      ]
     },
     "metadata": {},
     "output_type": "display_data"
    }
   ],
   "source": [
    "depth_range = range(1, 20)\n",
    "\n",
    "\n",
    "rmse_scores = []\n",
    "\n",
    "# uso de fold cross-validation para cada valor de max_depth\n",
    "for depth in depth_range:\n",
    "    rf = RandomForestRegressor(n_estimators=60, max_features=2, max_depth=depth, random_state=1, n_jobs=-1)\n",
    "    mse_score = cross_val_score(rf, X_train, y_train, cv=5, scoring='neg_mean_squared_error').mean()\n",
    "    rmse_scores.append(sqrt(-mse_score))  # Convertimos MSE a RMSE\n",
    "    \n",
    "    \n",
    "# Identificar el mejor max_depth\n",
    "optimal_depth = depth_range[rmse_scores.index(min(rmse_scores))]\n",
    "print(f'El mejor max_depth es: {optimal_depth}')\n",
    "\n",
    "# Gráfica del desempeño del modelo vs la cantidad de max_depth\n",
    "plt.plot(depth_range, rmse_scores)\n",
    "plt.xlabel('max_depth')\n",
    "plt.ylabel('RMSE')\n",
    "plt.title('RMSE vs. max_depth')\n",
    "plt.show()"
   ]
  },
  {
   "cell_type": "markdown",
   "metadata": {},
   "source": [
    "Cuando el max_depth es bajo, hay una disminución rápida y significativa en el RMSE. Esto indica que permitir que los árboles crezcan más allá de un solo nivel (es decir, más allá de simples árboles de decisión) mejora rápidamente la capacidad del modelo para ajustarse a los datos.\n",
    "\n",
    "A medida que aumenta el max_depth, la reducción en el RMSE se vuelve menos pronunciada. Alrededor de max_depth=5, la disminución en RMSE empieza a aplanarse. Esto sugiere que hacer los árboles más profundos sigue mejorando el modelo, pero el efecto de cada nivel adicional de profundidad es menor.\n",
    "\n",
    "Punto óptimo del max_depth: Existe un punto,  max_depth=9 en este caso, donde el RMSE parece alcanzar su nivel más bajo antes de que comience a aumentar ligeramente. Este punto podría ser considerado el \"óptimo\" en términos de balance entre la capacidad predictiva del modelo y la complejidad del mismo."
   ]
  },
  {
   "cell_type": "code",
   "execution_count": 13,
   "metadata": {},
   "outputs": [
    {
     "name": "stdout",
     "output_type": "stream",
     "text": [
      "Mean Absolute Error (MAE) with Random Forest: 1139.6867372684897\n",
      "Root Mean Squared Error (RMSE) with Random Forest: 1552.843967048323\n",
      "R Cuadrado (R2) with Random Forest: 0.8423573873153947\n"
     ]
    }
   ],
   "source": [
    "#modelo Calibrado\n",
    "\n",
    "\n",
    "\n",
    "# crear el modelo Random Forest Regressor\n",
    "rf_regressor = RandomForestRegressor(n_estimators=60, max_features=2, max_depth=9, random_state=1, n_jobs=-1)\n",
    "\n",
    "# entrenar el modelo con los datos de entrenamiento\n",
    "rf_regressor.fit(X_train, y_train)\n",
    "\n",
    "# hacer predicciones con los datos de prueba\n",
    "y_pred_rf = rf_regressor.predict(X_test)\n",
    "\n",
    "# calcular MSE, RMSE y MAE\n",
    "mse_rft = mean_squared_error(y_test, y_pred_rf)\n",
    "rmse_rfregt = sqrt(mse_rft)\n",
    "\n",
    "mae_rfregt  = mean_absolute_error(y_test, y_pred_rf)\n",
    "print(f'Mean Absolute Error (MAE) with Random Forest: {mae_rfregt}')\n",
    "\n",
    "print(f'Root Mean Squared Error (RMSE) with Random Forest: {rmse_rfregt}')\n",
    "\n",
    "r2_rfregt = r2_score(y_test, y_pred_rf)\n",
    "\n",
    "print(f'R Cuadrado (R2) with Random Forest: {r2_rfregt}')"
   ]
  },
  {
   "cell_type": "markdown",
   "metadata": {},
   "source": [
    "Conclusiones:\n",
    "\n",
    "El modelo calibrado ha mejorado en todas las métricas comparado con el modelo no calibrado. El MAE es menor, lo que indica que los errores absolutos promedio de las predicciones son menores. Esto sugiere que las predicciones del modelo calibrado están más cercanas al valor real.\n",
    "\n",
    "El RMSE también ha disminuido, lo que significa que los errores cuadráticos promedio son menores. Al ser más sensible a los errores grandes que el MAE, una disminución en el RMSE indica que las predicciones del modelo calibrado se ajustan mejor a los datos, especialmente en términos de reducir variaciones grandes.\n",
    "\n",
    "El valor de R2 ha aumentado de 0.797 a 0.842, lo que es una mejora significativa. Un valor de R2 más alto indica que una mayor proporción de la varianza de la variable dependiente es predecible a partir de las variables independientes. En otras palabras, el modelo calibrado puede explicar aproximadamente el 84.24% de la varianza en el conjunto de prueba, comparado con el 79.73% del modelo no calibrado.\n",
    "\n",
    "Los ajustes realizados en n_estimators, max_features y max_depth han optimizado el modelo para realizar predicciones más precisas."
   ]
  },
  {
   "cell_type": "markdown",
   "metadata": {},
   "source": [
    "### Punto 6 - XGBoost con librería\n",
    "\n",
    "En la celda 6 implementen un modelo XGBoost de regresión con la librería sklearn y comenten sobre el desempeño del modelo."
   ]
  },
  {
   "cell_type": "code",
   "execution_count": null,
   "metadata": {},
   "outputs": [],
   "source": [
    "# Celda 6\n"
   ]
  },
  {
   "cell_type": "markdown",
   "metadata": {},
   "source": [
    "### Punto 7 - Calibración de parámetros XGBoost\n",
    "\n",
    "En la celda 7 calibren los parámetros learning rate, gamma y colsample_bytree del modelo XGBoost para regresión, comenten sobre el desempeño del modelo y describan cómo cada parámetro afecta el desempeño del modelo."
   ]
  },
  {
   "cell_type": "code",
   "execution_count": null,
   "metadata": {},
   "outputs": [],
   "source": [
    "# Celda 7\n"
   ]
  },
  {
   "cell_type": "markdown",
   "metadata": {},
   "source": [
    "### Punto 8 - Comparación y análisis de resultados\n",
    "En la celda 8 comparen los resultados obtenidos de los diferentes modelos (random forest y XGBoost) y comenten las ventajas del mejor modelo y las desventajas del modelo con el menor desempeño."
   ]
  },
  {
   "cell_type": "code",
   "execution_count": null,
   "metadata": {},
   "outputs": [],
   "source": [
    "# Celda 8\n"
   ]
  }
 ],
 "metadata": {
  "kernelspec": {
   "display_name": "Python 3",
   "language": "python",
   "name": "python3"
  },
  "language_info": {
   "codemirror_mode": {
    "name": "ipython",
    "version": 3
   },
   "file_extension": ".py",
   "mimetype": "text/x-python",
   "name": "python",
   "nbconvert_exporter": "python",
   "pygments_lexer": "ipython3",
   "version": "3.6.5"
  }
 },
 "nbformat": 4,
 "nbformat_minor": 4
}
