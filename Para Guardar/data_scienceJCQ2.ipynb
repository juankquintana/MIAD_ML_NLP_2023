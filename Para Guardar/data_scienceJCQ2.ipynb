{
 "cells": [
  {
   "cell_type": "markdown",
   "metadata": {},
   "source": [
    "# Prueba Data Science\n"
   ]
  },
  {
   "cell_type": "markdown",
   "metadata": {},
   "source": [
    "### Datos\n",
    "DATA DESCRIPTION:\n",
    "\n",
    "•\tpolicy_desc: Policy Identifier; Primary Key which is unique for every policy\n",
    "\n",
    "•\tclaim_count: Total Claims (This is the response you should predicting); Numeric Variable\n",
    "\n",
    "•\tcat_areacode: Area Code; Categorical Variable\n",
    "\n",
    "•\tnum_vehicleAge: Age of the vehicle; Numeric Variable\n",
    "\n",
    "•\tnum_noClaimDiscountPercent: Percentage of discount applied to policy premium based on claim history. If value is greater than 100 then policy premium was increased, if it’s less than 100 a discount was applied. A value of 100 means the premium remain unchanged; Numerical Variable\n",
    "\n",
    "•\tcat_carBrand: Insured Vehicle Brand; Categorical Variable\n",
    "\n",
    "•\tnum_populationDensitykmsq: Population density of the city the policy holder lives in; Numerical Variable\n",
    "\n",
    "•\tcat_Region; Region of the country the policy holder lives in; Categorical Variable\n",
    "\n",
    "•\tord_vehicleHP: Vehicle Horsepower; This feature is anonymised but maintains the same ordinality; Ordinal Variable\n",
    "\n",
    "•\tnum_exposure: Exposure time of policy. Time period within which the claims were made; Numerical Variable\n",
    "\n",
    "•\tcat_fuelType: Insured Vehicle Fuel Type; Categorical Variable\n",
    "\n",
    "•\tnum_driverAge: Age of the Policy Holder; Numerical Variable\n",
    "\n",
    "\n"
   ]
  },
  {
   "cell_type": "markdown",
   "metadata": {},
   "source": [
    "El problema planteado es entender la frecuencia de claims para cada poliza, por esta razon la idea seria usando las otras variables poder predecir el numero de claims dadas variables del vehiculo, zona de circulacion, y edad del cliente para poder determinar dadas estas variables cuantos claims podriamos esperar "
   ]
  },
  {
   "cell_type": "markdown",
   "metadata": {},
   "source": [
    "Primero importo librerias utiles aunque no las use todas"
   ]
  },
  {
   "cell_type": "code",
   "execution_count": 1,
   "metadata": {},
   "outputs": [],
   "source": [
    "\n",
    "#Python\n",
    "import pandas as pd\n",
    "import numpy as np\n",
    "import seaborn as sns\n",
    "import matplotlib.pyplot as plt\n",
    "from math import sqrt\n",
    "\n",
    "#Regressor Models\n",
    "from xgboost import XGBRegressor\n",
    "from sklearn.ensemble import RandomForestRegressor\n",
    "import lightgbm as lgb\n",
    "from sklearn.linear_model import LinearRegression\n",
    "\n",
    "#Classifier Models\n",
    "from sklearn.ensemble import RandomForestClassifier\n",
    "\n",
    "\n",
    "# data processing\n",
    "from sklearn import metrics\n",
    "from sklearn.metrics import (\n",
    "    mean_squared_error,\n",
    "    mean_absolute_error,\n",
    "    r2_score\n",
    ")\n",
    "from sklearn.decomposition import PCA\n",
    "from imblearn.over_sampling import SMOTE\n",
    "\n",
    "\n",
    "# transforms\n",
    "from sklearn.preprocessing import MinMaxScaler\n",
    "from sklearn.preprocessing import StandardScaler\n",
    "from sklearn.preprocessing import PowerTransformer\n",
    "from sklearn.preprocessing import LabelEncoder\n",
    "from sklearn.preprocessing import OrdinalEncoder\n",
    "from sklearn.preprocessing import OneHotEncoder\n",
    "from sklearn.preprocessing import FunctionTransformer\n",
    "from sklearn.model_selection import train_test_split\n",
    "from sklearn.compose import ColumnTransformer\n",
    "\n",
    "# sklearn\n",
    "from sklearn.model_selection import KFold, cross_val_score, GridSearchCV, train_test_split, RandomizedSearchCV\n",
    "from sklearn.feature_selection import RFE\n",
    "from sklearn.preprocessing import OneHotEncoder, power_transform, LabelEncoder, StandardScaler\n",
    "from sklearn.pipeline import Pipeline, make_pipeline\n",
    "from sklearn.compose import make_column_transformer\n",
    "from sklearn.metrics import classification_report\n",
    "from sklearn.ensemble import StackingRegressor\n",
    "\n",
    "#Otros\n",
    "import optuna\n",
    "import pickle\n",
    "\n",
    "# typing\n",
    "from typing import List, Dict, Tuple, Union, Generator, Optional, Any\n",
    "\n",
    "\n",
    "\n",
    "\n"
   ]
  },
  {
   "cell_type": "markdown",
   "metadata": {},
   "source": [
    "Este codigo es util para poder realizar revision de resultados de lo que vaya haciendo como se podra ver mas adelante"
   ]
  },
  {
   "cell_type": "code",
   "execution_count": 2,
   "metadata": {},
   "outputs": [],
   "source": [
    "# utils\n",
    "def performance_regression_model(\n",
    "        y_true: np.array, \n",
    "        y_pred: np.array,\n",
    "        view_plot: bool=True,\n",
    "        view_stats: bool=True\n",
    "    )->Dict:\n",
    "    \"\"\"\"\"\"\n",
    "\n",
    "    model_score: Dict = dict(\n",
    "        r2=r2_score(y_true, y_pred),\n",
    "        rmse=mean_squared_error(y_true, y_pred, squared=False),\n",
    "        mse=mean_squared_error(y_true, y_pred),\n",
    "        mae=mean_absolute_error(y_true, y_pred)\n",
    "    )\n",
    "\n",
    "    if view_plot:\n",
    "        pd.DataFrame({\n",
    "            'predictions':y_pred,\n",
    "            'residuals':y_true - y_pred         \n",
    "        }).plot(\n",
    "            x='predictions', y='residuals', kind='scatter',\n",
    "            c='black', s=10, alpha=0.1\n",
    "        )\n",
    "\n",
    "    if view_stats:\n",
    "        print('r2:', model_score.get('r2'))\n",
    "        print('RMSE:', model_score.get('rmse'))\n",
    "        print('mse:', model_score.get('mse'))\n",
    "        print('mae:', model_score.get('mse'))\n",
    "    \n",
    "    return model_score"
   ]
  },
  {
   "cell_type": "code",
   "execution_count": 3,
   "metadata": {},
   "outputs": [
    {
     "name": "stderr",
     "output_type": "stream",
     "text": [
      "C:\\Users\\WD\\AppData\\Local\\Temp\\ipykernel_22148\\1013168171.py:1: DtypeWarning: Columns (11) have mixed types. Specify dtype option on import or set low_memory=False.\n",
      "  dataTraining = pd.read_csv('casestudy_data.csv')\n"
     ]
    }
   ],
   "source": [
    "dataTraining = pd.read_csv('casestudy_data.csv')"
   ]
  },
  {
   "cell_type": "markdown",
   "metadata": {},
   "source": [
    "Revision de datos inicial, se puede ver algunas variables categoricas y numericas, que mas adelante se entrara mas a detaller"
   ]
  },
  {
   "cell_type": "code",
   "execution_count": 4,
   "metadata": {},
   "outputs": [
    {
     "data": {
      "text/html": [
       "<div>\n",
       "<style scoped>\n",
       "    .dataframe tbody tr th:only-of-type {\n",
       "        vertical-align: middle;\n",
       "    }\n",
       "\n",
       "    .dataframe tbody tr th {\n",
       "        vertical-align: top;\n",
       "    }\n",
       "\n",
       "    .dataframe thead th {\n",
       "        text-align: right;\n",
       "    }\n",
       "</style>\n",
       "<table border=\"1\" class=\"dataframe\">\n",
       "  <thead>\n",
       "    <tr style=\"text-align: right;\">\n",
       "      <th></th>\n",
       "      <th>policy_desc</th>\n",
       "      <th>claim_count</th>\n",
       "      <th>cat_areacode</th>\n",
       "      <th>num_vehicleAge</th>\n",
       "      <th>num_noClaimDiscountPercent</th>\n",
       "      <th>cat_carBrand</th>\n",
       "      <th>num_populationDensitykmsq</th>\n",
       "      <th>cat_Region</th>\n",
       "      <th>ord_vehicleHP</th>\n",
       "      <th>num_exposure</th>\n",
       "      <th>cat_fuelType</th>\n",
       "      <th>num_driverAge</th>\n",
       "    </tr>\n",
       "  </thead>\n",
       "  <tbody>\n",
       "    <tr>\n",
       "      <th>0</th>\n",
       "      <td>1</td>\n",
       "      <td>1</td>\n",
       "      <td>D</td>\n",
       "      <td>0</td>\n",
       "      <td>50</td>\n",
       "      <td>B12</td>\n",
       "      <td>1217</td>\n",
       "      <td>R82</td>\n",
       "      <td>5</td>\n",
       "      <td>0.1</td>\n",
       "      <td>Regular</td>\n",
       "      <td>55</td>\n",
       "    </tr>\n",
       "    <tr>\n",
       "      <th>1</th>\n",
       "      <td>3</td>\n",
       "      <td>1</td>\n",
       "      <td>D</td>\n",
       "      <td>0</td>\n",
       "      <td>50</td>\n",
       "      <td>B12</td>\n",
       "      <td>1217</td>\n",
       "      <td>R82</td>\n",
       "      <td>5</td>\n",
       "      <td>0.77</td>\n",
       "      <td>Regular</td>\n",
       "      <td>55</td>\n",
       "    </tr>\n",
       "    <tr>\n",
       "      <th>2</th>\n",
       "      <td>5</td>\n",
       "      <td>1</td>\n",
       "      <td>B</td>\n",
       "      <td>2</td>\n",
       "      <td>50</td>\n",
       "      <td>B12</td>\n",
       "      <td>54</td>\n",
       "      <td>R22</td>\n",
       "      <td>6</td>\n",
       "      <td>0.75</td>\n",
       "      <td>Diesel</td>\n",
       "      <td>52</td>\n",
       "    </tr>\n",
       "    <tr>\n",
       "      <th>3</th>\n",
       "      <td>10</td>\n",
       "      <td>1</td>\n",
       "      <td>B</td>\n",
       "      <td>0</td>\n",
       "      <td>50</td>\n",
       "      <td>B12</td>\n",
       "      <td>76</td>\n",
       "      <td>R72</td>\n",
       "      <td>7</td>\n",
       "      <td>0.09</td>\n",
       "      <td>Diesel</td>\n",
       "      <td>46</td>\n",
       "    </tr>\n",
       "    <tr>\n",
       "      <th>4</th>\n",
       "      <td>11</td>\n",
       "      <td>1</td>\n",
       "      <td>B</td>\n",
       "      <td>0</td>\n",
       "      <td>50</td>\n",
       "      <td>B12</td>\n",
       "      <td>76</td>\n",
       "      <td>R72</td>\n",
       "      <td>7</td>\n",
       "      <td>0.84</td>\n",
       "      <td>Diesel</td>\n",
       "      <td>46</td>\n",
       "    </tr>\n",
       "  </tbody>\n",
       "</table>\n",
       "</div>"
      ],
      "text/plain": [
       "   policy_desc  claim_count cat_areacode  num_vehicleAge  \\\n",
       "0            1            1            D               0   \n",
       "1            3            1            D               0   \n",
       "2            5            1            B               2   \n",
       "3           10            1            B               0   \n",
       "4           11            1            B               0   \n",
       "\n",
       "   num_noClaimDiscountPercent cat_carBrand  num_populationDensitykmsq  \\\n",
       "0                          50          B12                       1217   \n",
       "1                          50          B12                       1217   \n",
       "2                          50          B12                         54   \n",
       "3                          50          B12                         76   \n",
       "4                          50          B12                         76   \n",
       "\n",
       "  cat_Region  ord_vehicleHP num_exposure cat_fuelType num_driverAge  \n",
       "0        R82              5          0.1      Regular            55  \n",
       "1        R82              5         0.77      Regular            55  \n",
       "2        R22              6         0.75       Diesel            52  \n",
       "3        R72              7         0.09       Diesel            46  \n",
       "4        R72              7         0.84       Diesel            46  "
      ]
     },
     "execution_count": 4,
     "metadata": {},
     "output_type": "execute_result"
    }
   ],
   "source": [
    "dataTraining.head()"
   ]
  },
  {
   "cell_type": "markdown",
   "metadata": {},
   "source": [
    "Elimino Policy_Desc porque no hay ningun valor repetido y todas son polizas unicas en los datos"
   ]
  },
  {
   "cell_type": "code",
   "execution_count": 5,
   "metadata": {},
   "outputs": [],
   "source": [
    "dataTraining.drop(['policy_desc'],axis=1,inplace=True)"
   ]
  },
  {
   "cell_type": "code",
   "execution_count": 6,
   "metadata": {},
   "outputs": [
    {
     "data": {
      "text/plain": [
       "claim_count\n",
       "0     643953\n",
       "1      32178\n",
       "2       1784\n",
       "3         82\n",
       "4          7\n",
       "11         3\n",
       "5          2\n",
       "6          1\n",
       "8          1\n",
       "16         1\n",
       "9          1\n",
       "Name: count, dtype: int64"
      ]
     },
     "execution_count": 6,
     "metadata": {},
     "output_type": "execute_result"
    }
   ],
   "source": [
    "dataTraining['claim_count'].value_counts()"
   ]
  },
  {
   "cell_type": "markdown",
   "metadata": {},
   "source": [
    "Una vez que se observo esto fue posible darse cuenta que iba a haber un problema de desbalanceo.\n",
    "\n",
    "El desbalanceo es importante porque al intentar predecir la variable si se tienen mas datos de una clase en este caso 0 claims, es esperable que el modelo prediga mayor la probabilidad de tener 0 claims pues se encuentran muchos mas en la base"
   ]
  },
  {
   "cell_type": "code",
   "execution_count": 7,
   "metadata": {},
   "outputs": [
    {
     "data": {
      "image/png": "[encoded data removed]",
      "text/plain": [
       "<Figure size 1000x600 with 1 Axes>"
      ]
     },
     "metadata": {},
     "output_type": "display_data"
    }
   ],
   "source": [
    "conteo = {\n",
    "    0: 643919,\n",
    "    1: 32176,\n",
    "    2: 1784,\n",
    "    3: 82,\n",
    "    4: 7,\n",
    "    11: 3,\n",
    "    5: 2,\n",
    "    6: 1,\n",
    "    8: 1,\n",
    "    16: 1,\n",
    "    9: 1\n",
    "}\n",
    "\n",
    "clases = list(conteo.keys())\n",
    "frecuencias = list(conteo.values())\n",
    "\n",
    "plt.figure(figsize=(10, 6))\n",
    "plt.bar(clases, frecuencias, color='orange')\n",
    "\n",
    "plt.xlabel('Claims')\n",
    "plt.ylabel('Conteo')\n",
    "plt.title('Distribución de Clases \"Problema de Desbalanceo\"')\n",
    "\n",
    "plt.show()"
   ]
  },
  {
   "cell_type": "markdown",
   "metadata": {},
   "source": [
    "#### Eliminacion valores vacios (asi venian inicialmente)\n",
    "\n",
    "cat_fuelType                  22\n",
    "\n",
    "\n",
    "num_driverAge                 14"
   ]
  },
  {
   "cell_type": "code",
   "execution_count": 8,
   "metadata": {},
   "outputs": [
    {
     "data": {
      "text/plain": [
       "claim_count                   0\n",
       "cat_areacode                  0\n",
       "num_vehicleAge                0\n",
       "num_noClaimDiscountPercent    0\n",
       "cat_carBrand                  0\n",
       "num_populationDensitykmsq     0\n",
       "cat_Region                    0\n",
       "ord_vehicleHP                 0\n",
       "num_exposure                  0\n",
       "cat_fuelType                  0\n",
       "num_driverAge                 0\n",
       "dtype: int64"
      ]
     },
     "execution_count": 8,
     "metadata": {},
     "output_type": "execute_result"
    }
   ],
   "source": [
    "dataTraining.dropna(inplace=True)\n",
    "dataTraining.isnull().sum()"
   ]
  },
  {
   "cell_type": "markdown",
   "metadata": {},
   "source": [
    "En los datos se puede ver que toma num_exposure y num_driverAge como objects pero son float e int, la razon es valores raros como 10years, 23years, etc. \n",
    "En este caso solo se convertira en numeric y cualquier otro valor convertira en NaN es decir vacio"
   ]
  },
  {
   "cell_type": "code",
   "execution_count": 9,
   "metadata": {},
   "outputs": [
    {
     "data": {
      "text/plain": [
       "claim_count                    int64\n",
       "cat_areacode                  object\n",
       "num_vehicleAge                 int64\n",
       "num_noClaimDiscountPercent     int64\n",
       "cat_carBrand                  object\n",
       "num_populationDensitykmsq      int64\n",
       "cat_Region                    object\n",
       "ord_vehicleHP                  int64\n",
       "num_exposure                  object\n",
       "cat_fuelType                  object\n",
       "num_driverAge                 object\n",
       "dtype: object"
      ]
     },
     "execution_count": 9,
     "metadata": {},
     "output_type": "execute_result"
    }
   ],
   "source": [
    "dataTraining.dtypes"
   ]
  },
  {
   "cell_type": "code",
   "execution_count": 10,
   "metadata": {},
   "outputs": [
    {
     "data": {
      "text/plain": [
       "claim_count                     int64\n",
       "cat_areacode                   object\n",
       "num_vehicleAge                  int64\n",
       "num_noClaimDiscountPercent      int64\n",
       "cat_carBrand                   object\n",
       "num_populationDensitykmsq       int64\n",
       "cat_Region                     object\n",
       "ord_vehicleHP                   int64\n",
       "num_exposure                  float64\n",
       "cat_fuelType                   object\n",
       "num_driverAge                 float64\n",
       "dtype: object"
      ]
     },
     "execution_count": 10,
     "metadata": {},
     "output_type": "execute_result"
    }
   ],
   "source": [
    "#print(dataTraining['num_exposure'].unique())\n",
    "#print(dataTraining['num_driverAge'].unique())\n",
    "dataTraining['num_exposure'] = pd.to_numeric(dataTraining['num_exposure'], errors='coerce')\n",
    "\n",
    "dataTraining['num_driverAge'] = pd.to_numeric(dataTraining['num_driverAge'], errors='coerce')\n",
    "dataTraining.dtypes"
   ]
  },
  {
   "cell_type": "markdown",
   "metadata": {},
   "source": [
    "# Regresion"
   ]
  },
  {
   "cell_type": "markdown",
   "metadata": {},
   "source": [
    "Inicialmente se trabaja el problema como regresion para determinar la cantidad de claims"
   ]
  },
  {
   "cell_type": "markdown",
   "metadata": {},
   "source": [
    "## Definicion Pipeline datos"
   ]
  },
  {
   "cell_type": "markdown",
   "metadata": {},
   "source": [
    "Se define un pipeline para la transformacion de variables numericas y categoricas. Para las numericas se utiliza StandardScaler y Power Transformer y para las categoricas se utiliza One-Hot Encoder.\n",
    "\n",
    "\n",
    "Power Transformer puede ayudar a normalizar la distribución de los datos mientras que Standard Scaler estandariza las características eliminando la media y escalando a la varianza unitaria\n",
    "\n",
    "OneHot Encoder se usa para convertir variables categoricas en binarias lo que puede ayudar al momento de usar diferentes algoritmos"
   ]
  },
  {
   "cell_type": "code",
   "execution_count": 11,
   "metadata": {},
   "outputs": [],
   "source": [
    "# Identificación de columnas\n",
    "num_cols = [col for col in dataTraining.select_dtypes(include='int64').columns if col != 'claim_count']\n",
    "cat_cols = dataTraining.select_dtypes(include='object').columns.tolist()\n",
    "target_col = 'claim_count' if 'claim_count' in dataTraining.columns else None\n",
    "\n",
    "# Separación de datos en X e y\n",
    "X = pd.concat([dataTraining[num_cols], dataTraining[cat_cols].astype('category')], axis=1)\n",
    "y = dataTraining[target_col].astype('category')\n",
    "\n",
    "# preprocesamiento\n",
    "numeric_pipe = make_pipeline(StandardScaler(),PowerTransformer())\n",
    "categorical_pipe = make_pipeline(OneHotEncoder(handle_unknown='ignore'))\n",
    "preprocessor = make_column_transformer(\n",
    "    (numeric_pipe, num_cols),\n",
    "    (categorical_pipe, cat_cols)\n",
    ")\n",
    "\n",
    "# canalizacion\n",
    "transformation_pipe = make_pipeline(preprocessor)\n",
    "transformation_pipe.fit(X)\n",
    "\n",
    "X_transformed = transformation_pipe.transform(X)\n"
   ]
  },
  {
   "cell_type": "code",
   "execution_count": 12,
   "metadata": {},
   "outputs": [
    {
     "data": {
      "text/html": [
       "<style>#sk-container-id-1 {\n",
       "  /* Definition of color scheme common for light and dark mode */\n",
       "  --sklearn-color-text: black;\n",
       "  --sklearn-color-line: gray;\n",
       "  /* Definition of color scheme for unfitted estimators */\n",
       "  --sklearn-color-unfitted-level-0: #fff5e6;\n",
       "  --sklearn-color-unfitted-level-1: #f6e4d2;\n",
       "  --sklearn-color-unfitted-level-2: #ffe0b3;\n",
       "  --sklearn-color-unfitted-level-3: chocolate;\n",
       "  /* Definition of color scheme for fitted estimators */\n",
       "  --sklearn-color-fitted-level-0: #f0f8ff;\n",
       "  --sklearn-color-fitted-level-1: #d4ebff;\n",
       "  --sklearn-color-fitted-level-2: #b3dbfd;\n",
       "  --sklearn-color-fitted-level-3: cornflowerblue;\n",
       "\n",
       "  /* Specific color for light theme */\n",
       "  --sklearn-color-text-on-default-background: var(--sg-text-color, var(--theme-code-foreground, var(--jp-content-font-color1, black)));\n",
       "  --sklearn-color-background: var(--sg-background-color, var(--theme-background, var(--jp-layout-color0, white)));\n",
       "  --sklearn-color-border-box: var(--sg-text-color, var(--theme-code-foreground, var(--jp-content-font-color1, black)));\n",
       "  --sklearn-color-icon: #696969;\n",
       "\n",
       "  @media (prefers-color-scheme: dark) {\n",
       "    /* Redefinition of color scheme for dark theme */\n",
       "    --sklearn-color-text-on-default-background: var(--sg-text-color, var(--theme-code-foreground, var(--jp-content-font-color1, white)));\n",
       "    --sklearn-color-background: var(--sg-background-color, var(--theme-background, var(--jp-layout-color0, #111)));\n",
       "    --sklearn-color-border-box: var(--sg-text-color, var(--theme-code-foreground, var(--jp-content-font-color1, white)));\n",
       "    --sklearn-color-icon: #878787;\n",
       "  }\n",
       "}\n",
       "\n",
       "#sk-container-id-1 {\n",
       "  color: var(--sklearn-color-text);\n",
       "}\n",
       "\n",
       "#sk-container-id-1 pre {\n",
       "  padding: 0;\n",
       "}\n",
       "\n",
       "#sk-container-id-1 input.sk-hidden--visually {\n",
       "  border: 0;\n",
       "  clip: rect(1px 1px 1px 1px);\n",
       "  clip: rect(1px, 1px, 1px, 1px);\n",
       "  height: 1px;\n",
       "  margin: -1px;\n",
       "  overflow: hidden;\n",
       "  padding: 0;\n",
       "  position: absolute;\n",
       "  width: 1px;\n",
       "}\n",
       "\n",
       "#sk-container-id-1 div.sk-dashed-wrapped {\n",
       "  border: 1px dashed var(--sklearn-color-line);\n",
       "  margin: 0 0.4em 0.5em 0.4em;\n",
       "  box-sizing: border-box;\n",
       "  padding-bottom: 0.4em;\n",
       "  background-color: var(--sklearn-color-background);\n",
       "}\n",
       "\n",
       "#sk-container-id-1 div.sk-container {\n",
       "  /* jupyter's `normalize.less` sets `[hidden] { display: none; }`\n",
       "     but bootstrap.min.css set `[hidden] { display: none !important; }`\n",
       "     so we also need the `!important` here to be able to override the\n",
       "     default hidden behavior on the sphinx rendered scikit-learn.org.\n",
       "     See: https://github.com/scikit-learn/scikit-learn/issues/21755 */\n",
       "  display: inline-block !important;\n",
       "  position: relative;\n",
       "}\n",
       "\n",
       "#sk-container-id-1 div.sk-text-repr-fallback {\n",
       "  display: none;\n",
       "}\n",
       "\n",
       "div.sk-parallel-item,\n",
       "div.sk-serial,\n",
       "div.sk-item {\n",
       "  /* draw centered vertical line to link estimators */\n",
       "  background-image: linear-gradient(var(--sklearn-color-text-on-default-background), var(--sklearn-color-text-on-default-background));\n",
       "  background-size: 2px 100%;\n",
       "  background-repeat: no-repeat;\n",
       "  background-position: center center;\n",
       "}\n",
       "\n",
       "/* Parallel-specific style estimator block */\n",
       "\n",
       "#sk-container-id-1 div.sk-parallel-item::after {\n",
       "  content: \"\";\n",
       "  width: 100%;\n",
       "  border-bottom: 2px solid var(--sklearn-color-text-on-default-background);\n",
       "  flex-grow: 1;\n",
       "}\n",
       "\n",
       "#sk-container-id-1 div.sk-parallel {\n",
       "  display: flex;\n",
       "  align-items: stretch;\n",
       "  justify-content: center;\n",
       "  background-color: var(--sklearn-color-background);\n",
       "  position: relative;\n",
       "}\n",
       "\n",
       "#sk-container-id-1 div.sk-parallel-item {\n",
       "  display: flex;\n",
       "  flex-direction: column;\n",
       "}\n",
       "\n",
       "#sk-container-id-1 div.sk-parallel-item:first-child::after {\n",
       "  align-self: flex-end;\n",
       "  width: 50%;\n",
       "}\n",
       "\n",
       "#sk-container-id-1 div.sk-parallel-item:last-child::after {\n",
       "  align-self: flex-start;\n",
       "  width: 50%;\n",
       "}\n",
       "\n",
       "#sk-container-id-1 div.sk-parallel-item:only-child::after {\n",
       "  width: 0;\n",
       "}\n",
       "\n",
       "/* Serial-specific style estimator block */\n",
       "\n",
       "#sk-container-id-1 div.sk-serial {\n",
       "  display: flex;\n",
       "  flex-direction: column;\n",
       "  align-items: center;\n",
       "  background-color: var(--sklearn-color-background);\n",
       "  padding-right: 1em;\n",
       "  padding-left: 1em;\n",
       "}\n",
       "\n",
       "\n",
       "/* Toggleable style: style used for estimator/Pipeline/ColumnTransformer box that is\n",
       "clickable and can be expanded/collapsed.\n",
       "- Pipeline and ColumnTransformer use this feature and define the default style\n",
       "- Estimators will overwrite some part of the style using the `sk-estimator` class\n",
       "*/\n",
       "\n",
       "/* Pipeline and ColumnTransformer style (default) */\n",
       "\n",
       "#sk-container-id-1 div.sk-toggleable {\n",
       "  /* Default theme specific background. It is overwritten whether we have a\n",
       "  specific estimator or a Pipeline/ColumnTransformer */\n",
       "  background-color: var(--sklearn-color-background);\n",
       "}\n",
       "\n",
       "/* Toggleable label */\n",
       "#sk-container-id-1 label.sk-toggleable__label {\n",
       "  cursor: pointer;\n",
       "  display: block;\n",
       "  width: 100%;\n",
       "  margin-bottom: 0;\n",
       "  padding: 0.5em;\n",
       "  box-sizing: border-box;\n",
       "  text-align: center;\n",
       "}\n",
       "\n",
       "#sk-container-id-1 label.sk-toggleable__label-arrow:before {\n",
       "  /* Arrow on the left of the label */\n",
       "  content: \"▸\";\n",
       "  float: left;\n",
       "  margin-right: 0.25em;\n",
       "  color: var(--sklearn-color-icon);\n",
       "}\n",
       "\n",
       "#sk-container-id-1 label.sk-toggleable__label-arrow:hover:before {\n",
       "  color: var(--sklearn-color-text);\n",
       "}\n",
       "\n",
       "/* Toggleable content - dropdown */\n",
       "\n",
       "#sk-container-id-1 div.sk-toggleable__content {\n",
       "  max-height: 0;\n",
       "  max-width: 0;\n",
       "  overflow: hidden;\n",
       "  text-align: left;\n",
       "  /* unfitted */\n",
       "  background-color: var(--sklearn-color-unfitted-level-0);\n",
       "}\n",
       "\n",
       "#sk-container-id-1 div.sk-toggleable__content.fitted {\n",
       "  /* fitted */\n",
       "  background-color: var(--sklearn-color-fitted-level-0);\n",
       "}\n",
       "\n",
       "#sk-container-id-1 div.sk-toggleable__content pre {\n",
       "  margin: 0.2em;\n",
       "  border-radius: 0.25em;\n",
       "  color: var(--sklearn-color-text);\n",
       "  /* unfitted */\n",
       "  background-color: var(--sklearn-color-unfitted-level-0);\n",
       "}\n",
       "\n",
       "#sk-container-id-1 div.sk-toggleable__content.fitted pre {\n",
       "  /* unfitted */\n",
       "  background-color: var(--sklearn-color-fitted-level-0);\n",
       "}\n",
       "\n",
       "#sk-container-id-1 input.sk-toggleable__control:checked~div.sk-toggleable__content {\n",
       "  /* Expand drop-down */\n",
       "  max-height: 200px;\n",
       "  max-width: 100%;\n",
       "  overflow: auto;\n",
       "}\n",
       "\n",
       "#sk-container-id-1 input.sk-toggleable__control:checked~label.sk-toggleable__label-arrow:before {\n",
       "  content: \"▾\";\n",
       "}\n",
       "\n",
       "/* Pipeline/ColumnTransformer-specific style */\n",
       "\n",
       "#sk-container-id-1 div.sk-label input.sk-toggleable__control:checked~label.sk-toggleable__label {\n",
       "  color: var(--sklearn-color-text);\n",
       "  background-color: var(--sklearn-color-unfitted-level-2);\n",
       "}\n",
       "\n",
       "#sk-container-id-1 div.sk-label.fitted input.sk-toggleable__control:checked~label.sk-toggleable__label {\n",
       "  background-color: var(--sklearn-color-fitted-level-2);\n",
       "}\n",
       "\n",
       "/* Estimator-specific style */\n",
       "\n",
       "/* Colorize estimator box */\n",
       "#sk-container-id-1 div.sk-estimator input.sk-toggleable__control:checked~label.sk-toggleable__label {\n",
       "  /* unfitted */\n",
       "  background-color: var(--sklearn-color-unfitted-level-2);\n",
       "}\n",
       "\n",
       "#sk-container-id-1 div.sk-estimator.fitted input.sk-toggleable__control:checked~label.sk-toggleable__label {\n",
       "  /* fitted */\n",
       "  background-color: var(--sklearn-color-fitted-level-2);\n",
       "}\n",
       "\n",
       "#sk-container-id-1 div.sk-label label.sk-toggleable__label,\n",
       "#sk-container-id-1 div.sk-label label {\n",
       "  /* The background is the default theme color */\n",
       "  color: var(--sklearn-color-text-on-default-background);\n",
       "}\n",
       "\n",
       "/* On hover, darken the color of the background */\n",
       "#sk-container-id-1 div.sk-label:hover label.sk-toggleable__label {\n",
       "  color: var(--sklearn-color-text);\n",
       "  background-color: var(--sklearn-color-unfitted-level-2);\n",
       "}\n",
       "\n",
       "/* Label box, darken color on hover, fitted */\n",
       "#sk-container-id-1 div.sk-label.fitted:hover label.sk-toggleable__label.fitted {\n",
       "  color: var(--sklearn-color-text);\n",
       "  background-color: var(--sklearn-color-fitted-level-2);\n",
       "}\n",
       "\n",
       "/* Estimator label */\n",
       "\n",
       "#sk-container-id-1 div.sk-label label {\n",
       "  font-family: monospace;\n",
       "  font-weight: bold;\n",
       "  display: inline-block;\n",
       "  line-height: 1.2em;\n",
       "}\n",
       "\n",
       "#sk-container-id-1 div.sk-label-container {\n",
       "  text-align: center;\n",
       "}\n",
       "\n",
       "/* Estimator-specific */\n",
       "#sk-container-id-1 div.sk-estimator {\n",
       "  font-family: monospace;\n",
       "  border: 1px dotted var(--sklearn-color-border-box);\n",
       "  border-radius: 0.25em;\n",
       "  box-sizing: border-box;\n",
       "  margin-bottom: 0.5em;\n",
       "  /* unfitted */\n",
       "  background-color: var(--sklearn-color-unfitted-level-0);\n",
       "}\n",
       "\n",
       "#sk-container-id-1 div.sk-estimator.fitted {\n",
       "  /* fitted */\n",
       "  background-color: var(--sklearn-color-fitted-level-0);\n",
       "}\n",
       "\n",
       "/* on hover */\n",
       "#sk-container-id-1 div.sk-estimator:hover {\n",
       "  /* unfitted */\n",
       "  background-color: var(--sklearn-color-unfitted-level-2);\n",
       "}\n",
       "\n",
       "#sk-container-id-1 div.sk-estimator.fitted:hover {\n",
       "  /* fitted */\n",
       "  background-color: var(--sklearn-color-fitted-level-2);\n",
       "}\n",
       "\n",
       "/* Specification for estimator info (e.g. \"i\" and \"?\") */\n",
       "\n",
       "/* Common style for \"i\" and \"?\" */\n",
       "\n",
       ".sk-estimator-doc-link,\n",
       "a:link.sk-estimator-doc-link,\n",
       "a:visited.sk-estimator-doc-link {\n",
       "  float: right;\n",
       "  font-size: smaller;\n",
       "  line-height: 1em;\n",
       "  font-family: monospace;\n",
       "  background-color: var(--sklearn-color-background);\n",
       "  border-radius: 1em;\n",
       "  height: 1em;\n",
       "  width: 1em;\n",
       "  text-decoration: none !important;\n",
       "  margin-left: 1ex;\n",
       "  /* unfitted */\n",
       "  border: var(--sklearn-color-unfitted-level-1) 1pt solid;\n",
       "  color: var(--sklearn-color-unfitted-level-1);\n",
       "}\n",
       "\n",
       ".sk-estimator-doc-link.fitted,\n",
       "a:link.sk-estimator-doc-link.fitted,\n",
       "a:visited.sk-estimator-doc-link.fitted {\n",
       "  /* fitted */\n",
       "  border: var(--sklearn-color-fitted-level-1) 1pt solid;\n",
       "  color: var(--sklearn-color-fitted-level-1);\n",
       "}\n",
       "\n",
       "/* On hover */\n",
       "div.sk-estimator:hover .sk-estimator-doc-link:hover,\n",
       ".sk-estimator-doc-link:hover,\n",
       "div.sk-label-container:hover .sk-estimator-doc-link:hover,\n",
       ".sk-estimator-doc-link:hover {\n",
       "  /* unfitted */\n",
       "  background-color: var(--sklearn-color-unfitted-level-3);\n",
       "  color: var(--sklearn-color-background);\n",
       "  text-decoration: none;\n",
       "}\n",
       "\n",
       "div.sk-estimator.fitted:hover .sk-estimator-doc-link.fitted:hover,\n",
       ".sk-estimator-doc-link.fitted:hover,\n",
       "div.sk-label-container:hover .sk-estimator-doc-link.fitted:hover,\n",
       ".sk-estimator-doc-link.fitted:hover {\n",
       "  /* fitted */\n",
       "  background-color: var(--sklearn-color-fitted-level-3);\n",
       "  color: var(--sklearn-color-background);\n",
       "  text-decoration: none;\n",
       "}\n",
       "\n",
       "/* Span, style for the box shown on hovering the info icon */\n",
       ".sk-estimator-doc-link span {\n",
       "  display: none;\n",
       "  z-index: 9999;\n",
       "  position: relative;\n",
       "  font-weight: normal;\n",
       "  right: .2ex;\n",
       "  padding: .5ex;\n",
       "  margin: .5ex;\n",
       "  width: min-content;\n",
       "  min-width: 20ex;\n",
       "  max-width: 50ex;\n",
       "  color: var(--sklearn-color-text);\n",
       "  box-shadow: 2pt 2pt 4pt #999;\n",
       "  /* unfitted */\n",
       "  background: var(--sklearn-color-unfitted-level-0);\n",
       "  border: .5pt solid var(--sklearn-color-unfitted-level-3);\n",
       "}\n",
       "\n",
       ".sk-estimator-doc-link.fitted span {\n",
       "  /* fitted */\n",
       "  background: var(--sklearn-color-fitted-level-0);\n",
       "  border: var(--sklearn-color-fitted-level-3);\n",
       "}\n",
       "\n",
       ".sk-estimator-doc-link:hover span {\n",
       "  display: block;\n",
       "}\n",
       "\n",
       "/* \"?\"-specific style due to the `<a>` HTML tag */\n",
       "\n",
       "#sk-container-id-1 a.estimator_doc_link {\n",
       "  float: right;\n",
       "  font-size: 1rem;\n",
       "  line-height: 1em;\n",
       "  font-family: monospace;\n",
       "  background-color: var(--sklearn-color-background);\n",
       "  border-radius: 1rem;\n",
       "  height: 1rem;\n",
       "  width: 1rem;\n",
       "  text-decoration: none;\n",
       "  /* unfitted */\n",
       "  color: var(--sklearn-color-unfitted-level-1);\n",
       "  border: var(--sklearn-color-unfitted-level-1) 1pt solid;\n",
       "}\n",
       "\n",
       "#sk-container-id-1 a.estimator_doc_link.fitted {\n",
       "  /* fitted */\n",
       "  border: var(--sklearn-color-fitted-level-1) 1pt solid;\n",
       "  color: var(--sklearn-color-fitted-level-1);\n",
       "}\n",
       "\n",
       "/* On hover */\n",
       "#sk-container-id-1 a.estimator_doc_link:hover {\n",
       "  /* unfitted */\n",
       "  background-color: var(--sklearn-color-unfitted-level-3);\n",
       "  color: var(--sklearn-color-background);\n",
       "  text-decoration: none;\n",
       "}\n",
       "\n",
       "#sk-container-id-1 a.estimator_doc_link.fitted:hover {\n",
       "  /* fitted */\n",
       "  background-color: var(--sklearn-color-fitted-level-3);\n",
       "}\n",
       "</style><div id=\"sk-container-id-1\" class=\"sk-top-container\"><div class=\"sk-text-repr-fallback\"><pre>Pipeline(steps=[(&#x27;columntransformer&#x27;,\n",
       "                 ColumnTransformer(transformers=[(&#x27;pipeline-1&#x27;,\n",
       "                                                  Pipeline(steps=[(&#x27;standardscaler&#x27;,\n",
       "                                                                   StandardScaler()),\n",
       "                                                                  (&#x27;powertransformer&#x27;,\n",
       "                                                                   PowerTransformer())]),\n",
       "                                                  [&#x27;num_vehicleAge&#x27;,\n",
       "                                                   &#x27;num_noClaimDiscountPercent&#x27;,\n",
       "                                                   &#x27;num_populationDensitykmsq&#x27;,\n",
       "                                                   &#x27;ord_vehicleHP&#x27;]),\n",
       "                                                 (&#x27;pipeline-2&#x27;,\n",
       "                                                  Pipeline(steps=[(&#x27;onehotencoder&#x27;,\n",
       "                                                                   OneHotEncoder(handle_unknown=&#x27;ignore&#x27;))]),\n",
       "                                                  [&#x27;cat_areacode&#x27;,\n",
       "                                                   &#x27;cat_carBrand&#x27;, &#x27;cat_Region&#x27;,\n",
       "                                                   &#x27;cat_fuelType&#x27;])]))])</pre><b>In a Jupyter environment, please rerun this cell to show the HTML representation or trust the notebook. <br />On GitHub, the HTML representation is unable to render, please try loading this page with nbviewer.org.</b></div><div class=\"sk-container\" hidden><div class=\"sk-item sk-dashed-wrapped\"><div class=\"sk-label-container\"><div class=\"sk-label fitted sk-toggleable\"><input class=\"sk-toggleable__control sk-hidden--visually\" id=\"sk-estimator-id-1\" type=\"checkbox\" ><label for=\"sk-estimator-id-1\" class=\"sk-toggleable__label fitted sk-toggleable__label-arrow fitted\">&nbsp;&nbsp;Pipeline<a class=\"sk-estimator-doc-link fitted\" rel=\"noreferrer\" target=\"_blank\" href=\"https://scikit-learn.org/1.4/modules/generated/sklearn.pipeline.Pipeline.html\">?<span>Documentation for Pipeline</span></a><span class=\"sk-estimator-doc-link fitted\">i<span>Fitted</span></span></label><div class=\"sk-toggleable__content fitted\"><pre>Pipeline(steps=[(&#x27;columntransformer&#x27;,\n",
       "                 ColumnTransformer(transformers=[(&#x27;pipeline-1&#x27;,\n",
       "                                                  Pipeline(steps=[(&#x27;standardscaler&#x27;,\n",
       "                                                                   StandardScaler()),\n",
       "                                                                  (&#x27;powertransformer&#x27;,\n",
       "                                                                   PowerTransformer())]),\n",
       "                                                  [&#x27;num_vehicleAge&#x27;,\n",
       "                                                   &#x27;num_noClaimDiscountPercent&#x27;,\n",
       "                                                   &#x27;num_populationDensitykmsq&#x27;,\n",
       "                                                   &#x27;ord_vehicleHP&#x27;]),\n",
       "                                                 (&#x27;pipeline-2&#x27;,\n",
       "                                                  Pipeline(steps=[(&#x27;onehotencoder&#x27;,\n",
       "                                                                   OneHotEncoder(handle_unknown=&#x27;ignore&#x27;))]),\n",
       "                                                  [&#x27;cat_areacode&#x27;,\n",
       "                                                   &#x27;cat_carBrand&#x27;, &#x27;cat_Region&#x27;,\n",
       "                                                   &#x27;cat_fuelType&#x27;])]))])</pre></div> </div></div><div class=\"sk-serial\"><div class=\"sk-item sk-dashed-wrapped\"><div class=\"sk-label-container\"><div class=\"sk-label fitted sk-toggleable\"><input class=\"sk-toggleable__control sk-hidden--visually\" id=\"sk-estimator-id-2\" type=\"checkbox\" ><label for=\"sk-estimator-id-2\" class=\"sk-toggleable__label fitted sk-toggleable__label-arrow fitted\">&nbsp;columntransformer: ColumnTransformer<a class=\"sk-estimator-doc-link fitted\" rel=\"noreferrer\" target=\"_blank\" href=\"https://scikit-learn.org/1.4/modules/generated/sklearn.compose.ColumnTransformer.html\">?<span>Documentation for columntransformer: ColumnTransformer</span></a></label><div class=\"sk-toggleable__content fitted\"><pre>ColumnTransformer(transformers=[(&#x27;pipeline-1&#x27;,\n",
       "                                 Pipeline(steps=[(&#x27;standardscaler&#x27;,\n",
       "                                                  StandardScaler()),\n",
       "                                                 (&#x27;powertransformer&#x27;,\n",
       "                                                  PowerTransformer())]),\n",
       "                                 [&#x27;num_vehicleAge&#x27;,\n",
       "                                  &#x27;num_noClaimDiscountPercent&#x27;,\n",
       "                                  &#x27;num_populationDensitykmsq&#x27;,\n",
       "                                  &#x27;ord_vehicleHP&#x27;]),\n",
       "                                (&#x27;pipeline-2&#x27;,\n",
       "                                 Pipeline(steps=[(&#x27;onehotencoder&#x27;,\n",
       "                                                  OneHotEncoder(handle_unknown=&#x27;ignore&#x27;))]),\n",
       "                                 [&#x27;cat_areacode&#x27;, &#x27;cat_carBrand&#x27;, &#x27;cat_Region&#x27;,\n",
       "                                  &#x27;cat_fuelType&#x27;])])</pre></div> </div></div><div class=\"sk-parallel\"><div class=\"sk-parallel-item\"><div class=\"sk-item\"><div class=\"sk-label-container\"><div class=\"sk-label fitted sk-toggleable\"><input class=\"sk-toggleable__control sk-hidden--visually\" id=\"sk-estimator-id-3\" type=\"checkbox\" ><label for=\"sk-estimator-id-3\" class=\"sk-toggleable__label fitted sk-toggleable__label-arrow fitted\">pipeline-1</label><div class=\"sk-toggleable__content fitted\"><pre>[&#x27;num_vehicleAge&#x27;, &#x27;num_noClaimDiscountPercent&#x27;, &#x27;num_populationDensitykmsq&#x27;, &#x27;ord_vehicleHP&#x27;]</pre></div> </div></div><div class=\"sk-serial\"><div class=\"sk-item\"><div class=\"sk-serial\"><div class=\"sk-item\"><div class=\"sk-estimator fitted sk-toggleable\"><input class=\"sk-toggleable__control sk-hidden--visually\" id=\"sk-estimator-id-4\" type=\"checkbox\" ><label for=\"sk-estimator-id-4\" class=\"sk-toggleable__label fitted sk-toggleable__label-arrow fitted\">&nbsp;StandardScaler<a class=\"sk-estimator-doc-link fitted\" rel=\"noreferrer\" target=\"_blank\" href=\"https://scikit-learn.org/1.4/modules/generated/sklearn.preprocessing.StandardScaler.html\">?<span>Documentation for StandardScaler</span></a></label><div class=\"sk-toggleable__content fitted\"><pre>StandardScaler()</pre></div> </div></div><div class=\"sk-item\"><div class=\"sk-estimator fitted sk-toggleable\"><input class=\"sk-toggleable__control sk-hidden--visually\" id=\"sk-estimator-id-5\" type=\"checkbox\" ><label for=\"sk-estimator-id-5\" class=\"sk-toggleable__label fitted sk-toggleable__label-arrow fitted\">&nbsp;PowerTransformer<a class=\"sk-estimator-doc-link fitted\" rel=\"noreferrer\" target=\"_blank\" href=\"https://scikit-learn.org/1.4/modules/generated/sklearn.preprocessing.PowerTransformer.html\">?<span>Documentation for PowerTransformer</span></a></label><div class=\"sk-toggleable__content fitted\"><pre>PowerTransformer()</pre></div> </div></div></div></div></div></div></div><div class=\"sk-parallel-item\"><div class=\"sk-item\"><div class=\"sk-label-container\"><div class=\"sk-label fitted sk-toggleable\"><input class=\"sk-toggleable__control sk-hidden--visually\" id=\"sk-estimator-id-6\" type=\"checkbox\" ><label for=\"sk-estimator-id-6\" class=\"sk-toggleable__label fitted sk-toggleable__label-arrow fitted\">pipeline-2</label><div class=\"sk-toggleable__content fitted\"><pre>[&#x27;cat_areacode&#x27;, &#x27;cat_carBrand&#x27;, &#x27;cat_Region&#x27;, &#x27;cat_fuelType&#x27;]</pre></div> </div></div><div class=\"sk-serial\"><div class=\"sk-item\"><div class=\"sk-serial\"><div class=\"sk-item\"><div class=\"sk-estimator fitted sk-toggleable\"><input class=\"sk-toggleable__control sk-hidden--visually\" id=\"sk-estimator-id-7\" type=\"checkbox\" ><label for=\"sk-estimator-id-7\" class=\"sk-toggleable__label fitted sk-toggleable__label-arrow fitted\">&nbsp;OneHotEncoder<a class=\"sk-estimator-doc-link fitted\" rel=\"noreferrer\" target=\"_blank\" href=\"https://scikit-learn.org/1.4/modules/generated/sklearn.preprocessing.OneHotEncoder.html\">?<span>Documentation for OneHotEncoder</span></a></label><div class=\"sk-toggleable__content fitted\"><pre>OneHotEncoder(handle_unknown=&#x27;ignore&#x27;)</pre></div> </div></div></div></div></div></div></div></div></div></div></div></div></div>"
      ],
      "text/plain": [
       "Pipeline(steps=[('columntransformer',\n",
       "                 ColumnTransformer(transformers=[('pipeline-1',\n",
       "                                                  Pipeline(steps=[('standardscaler',\n",
       "                                                                   StandardScaler()),\n",
       "                                                                  ('powertransformer',\n",
       "                                                                   PowerTransformer())]),\n",
       "                                                  ['num_vehicleAge',\n",
       "                                                   'num_noClaimDiscountPercent',\n",
       "                                                   'num_populationDensitykmsq',\n",
       "                                                   'ord_vehicleHP']),\n",
       "                                                 ('pipeline-2',\n",
       "                                                  Pipeline(steps=[('onehotencoder',\n",
       "                                                                   OneHotEncoder(handle_unknown='ignore'))]),\n",
       "                                                  ['cat_areacode',\n",
       "                                                   'cat_carBrand', 'cat_Region',\n",
       "                                                   'cat_fuelType'])]))])"
      ]
     },
     "execution_count": 12,
     "metadata": {},
     "output_type": "execute_result"
    }
   ],
   "source": [
    "transformation_pipe "
   ]
  },
  {
   "cell_type": "markdown",
   "metadata": {},
   "source": [
    "## Resampleo"
   ]
  },
  {
   "cell_type": "markdown",
   "metadata": {},
   "source": [
    "Inicialmente el problema que se tiene es que el 94% de las observaciones son de la clase 0 y como se menciono antes esto supone un problema en la creacion de modelos"
   ]
  },
  {
   "cell_type": "code",
   "execution_count": null,
   "metadata": {},
   "outputs": [
    {
     "name": "stdout",
     "output_type": "stream",
     "text": [
      "Class=1, n=32176 (4.746%)\n",
      "Class=2, n=1784 (0.263%)\n",
      "Class=4, n=7 (0.001%)\n",
      "Class=3, n=82 (0.012%)\n",
      "Class=9, n=3 (0.000%)\n",
      "Class=0, n=643919 (94.977%)\n",
      "Class=5, n=2 (0.000%)\n",
      "Class=6, n=1 (0.000%)\n",
      "Class=7, n=1 (0.000%)\n",
      "Class=10, n=1 (0.000%)\n",
      "Class=8, n=1 (0.000%)\n"
     ]
    },
    {
     "data": {
      "image/png": "[encoded data removed]",
      "text/plain": [
       "<Figure size 640x480 with 1 Axes>"
      ]
     },
     "metadata": {},
     "output_type": "display_data"
    }
   ],
   "source": [
    "from collections import Counter\n",
    "# summarize distribution\n",
    "counter = Counter(y)\n",
    "for k,v in counter.items():\n",
    " per = v / len(y) * 100\n",
    " print('Class=%d, n=%d (%.3f%%)' % (k, v, per))\n",
    "# plot the distribution\n",
    "plt.bar(counter.keys(), counter.values())\n",
    "plt.show()"
   ]
  },
  {
   "cell_type": "markdown",
   "metadata": {},
   "source": [
    "Resampleo en todas las clases"
   ]
  },
  {
   "cell_type": "code",
   "execution_count": 15,
   "metadata": {},
   "outputs": [
    {
     "name": "stdout",
     "output_type": "stream",
     "text": [
      "Class=1, n=643919 (9.091%)\n",
      "Class=2, n=643919 (9.091%)\n",
      "Class=4, n=643919 (9.091%)\n",
      "Class=3, n=643919 (9.091%)\n",
      "Class=9, n=643919 (9.091%)\n",
      "Class=0, n=643919 (9.091%)\n",
      "Class=5, n=643919 (9.091%)\n",
      "Class=6, n=643919 (9.091%)\n",
      "Class=7, n=643919 (9.091%)\n",
      "Class=10, n=643919 (9.091%)\n",
      "Class=8, n=643919 (9.091%)\n"
     ]
    },
    {
     "data": {
      "image/png": "[encoded data removed]",
      "text/plain": [
       "<Figure size 640x480 with 1 Axes>"
      ]
     },
     "metadata": {},
     "output_type": "display_data"
    }
   ],
   "source": [
    "from imblearn.over_sampling import RandomOverSampler\n",
    "from collections import Counter\n",
    "\n",
    "y = LabelEncoder().fit_transform(y)\n",
    "\n",
    "# Crear el sobremuestreador\n",
    "oversample = RandomOverSampler()\n",
    "X_resampled, y_resampled = oversample.fit_resample(X_transformed, y)\n",
    "\n",
    "# Resumen de la distribución de clases\n",
    "counter = Counter(y_resampled)\n",
    "for k, v in counter.items():\n",
    "    per = v / len(y_resampled) * 100\n",
    "    print('Class=%d, n=%d (%.3f%%)' % (k, v, per))\n",
    "\n",
    "# Graficar la distribución\n",
    "plt.bar(counter.keys(), counter.values())\n",
    "plt.show()"
   ]
  },
  {
   "cell_type": "markdown",
   "metadata": {},
   "source": [
    "De ahora en adelante los datos de entrenamiento y prueba seran los que fueron resampleados"
   ]
  },
  {
   "cell_type": "code",
   "execution_count": 28,
   "metadata": {},
   "outputs": [],
   "source": [
    "X_train, X_test, y_train, y_test = train_test_split(X_resampled, y_resampled, test_size=0.3, random_state=42)"
   ]
  },
  {
   "cell_type": "markdown",
   "metadata": {},
   "source": [
    "## Modelos"
   ]
  },
  {
   "cell_type": "markdown",
   "metadata": {},
   "source": [
    "### XGBoost"
   ]
  },
  {
   "cell_type": "markdown",
   "metadata": {},
   "source": [
    "Se puede ver un R2 de 0.89 es decir que explica el 89% de la variable objetivo con el actual modelo. Sin embargo al revisar el grafico de predicciones versus residuos se puede ver que estos no se comportan aleatyorios al rededor del 0. Lo que puede significar  un problema "
   ]
  },
  {
   "cell_type": "code",
   "execution_count": 18,
   "metadata": {},
   "outputs": [
    {
     "name": "stderr",
     "output_type": "stream",
     "text": [
      "c:\\Users\\WD\\.conda\\envs\\VSCEnv\\lib\\site-packages\\sklearn\\metrics\\_regression.py:483: FutureWarning: 'squared' is deprecated in version 1.4 and will be removed in 1.6. To calculate the root mean squared error, use the function'root_mean_squared_error'.\n",
      "  warnings.warn(\n"
     ]
    },
    {
     "name": "stdout",
     "output_type": "stream",
     "text": [
      "r2: 0.873673547380727\n",
      "RMSE: 1.1241118137139992\n",
      "mse: 1.2636273697313767\n",
      "mae: 1.2636273697313767\n"
     ]
    },
    {
     "data": {
      "text/plain": [
       "{'r2': 0.873673547380727,\n",
       " 'rmse': 1.1241118137139992,\n",
       " 'mse': 1.2636273697313767,\n",
       " 'mae': 0.7447720162101386}"
      ]
     },
     "execution_count": 18,
     "metadata": {},
     "output_type": "execute_result"
    },
    {
     "data": {
      "image/png": "[encoded data removed]",
      "text/plain": [
       "<Figure size 640x480 with 1 Axes>"
      ]
     },
     "metadata": {},
     "output_type": "display_data"
    }
   ],
   "source": [
    "XGBRegPipe = XGBRegressor()\n",
    "XGBRegPipe.fit(X_train, y_train)\n",
    "\n",
    "ypred=XGBRegPipe.predict(X_test)\n",
    "RMSENotScaledSVM=mean_squared_error(y_test, ypred)\n",
    "\n",
    "\n",
    "performance_regression_model(y_test.ravel(), ypred)"
   ]
  },
  {
   "cell_type": "markdown",
   "metadata": {},
   "source": [
    "Optimizacion de hiperparametros modelo XGBoost"
   ]
  },
  {
   "cell_type": "code",
   "execution_count": 19,
   "metadata": {},
   "outputs": [],
   "source": [
    "def objective(trial):\n",
    "    # Definición de los hiperparámetros a optimizar\n",
    "    param = {\n",
    "        'objective': 'reg:squarederror',\n",
    "        'max_depth': trial.suggest_int('max_depth', 3, 10),\n",
    "        'learning_rate': trial.suggest_float('learning_rate', 0.01, 0.3),\n",
    "        'n_estimators': trial.suggest_int('n_estimators', 50, 300),\n",
    "        'subsample': trial.suggest_float('subsample', 0.5, 1.0),\n",
    "        'colsample_bytree': trial.suggest_float('colsample_bytree', 0.5, 1.0),\n",
    "        'min_child_weight': trial.suggest_int('min_child_weight', 1, 10),\n",
    "        'gamma': trial.suggest_float('gamma', 0.0, 1.0)\n",
    "    }\n",
    "    \n",
    "\n",
    "    model = XGBRegressor(**param, enable_categorical=True)\n",
    "\n",
    "    # Entrenamiento del modelo\n",
    "    model.fit(X_train_transformed, y_train)\n",
    "\n",
    "    # Realización de predicciones en el conjunto de prueba\n",
    "    y_pred = model.predict(X_test_transformed)\n",
    "\n",
    "    # Cálculo de la métrica de evaluación (error cuadrático medio)\n",
    "    mse = mean_squared_error(y_test, y_pred)\n",
    "\n",
    "    return mse"
   ]
  },
  {
   "cell_type": "code",
   "execution_count": null,
   "metadata": {},
   "outputs": [
    {
     "name": "stderr",
     "output_type": "stream",
     "text": [
      "[I 2024-08-01 09:23:37,364] A new study created in memory with name: no-name-4da1965f-03a8-4ce5-bba3-fc28f31117b6\n",
      "[I 2024-08-01 09:23:38,485] Trial 0 finished with value: 0.04371361504908737 and parameters: {'max_depth': 9, 'learning_rate': 0.2144146646561897, 'n_estimators': 121, 'subsample': 0.9846128479067022, 'colsample_bytree': 0.922409115452502, 'min_child_weight': 6, 'gamma': 0.8507544127120458}. Best is trial 0 with value: 0.04371361504908737.\n",
      "[I 2024-08-01 09:23:40,578] Trial 1 finished with value: 0.04369415001672142 and parameters: {'max_depth': 10, 'learning_rate': 0.10325173659915517, 'n_estimators': 265, 'subsample': 0.8078320116675579, 'colsample_bytree': 0.84180857028226, 'min_child_weight': 6, 'gamma': 0.6209571198621009}. Best is trial 1 with value: 0.04369415001672142.\n",
      "[I 2024-08-01 09:23:42,450] Trial 2 finished with value: 0.04386465403009727 and parameters: {'max_depth': 8, 'learning_rate': 0.2516656898641312, 'n_estimators': 275, 'subsample': 0.5621481468194218, 'colsample_bytree': 0.6363384161167964, 'min_child_weight': 1, 'gamma': 0.6453791038272236}. Best is trial 1 with value: 0.04369415001672142.\n",
      "[I 2024-08-01 09:23:43,675] Trial 3 finished with value: 0.043899230141122056 and parameters: {'max_depth': 3, 'learning_rate': 0.20068105168035474, 'n_estimators': 126, 'subsample': 0.6826865296685605, 'colsample_bytree': 0.7828966214373052, 'min_child_weight': 7, 'gamma': 0.08537397705862737}. Best is trial 1 with value: 0.04369415001672142.\n",
      "[I 2024-08-01 09:23:44,451] Trial 4 finished with value: 0.044015895855218146 and parameters: {'max_depth': 4, 'learning_rate': 0.08135348354466744, 'n_estimators': 67, 'subsample': 0.6900367375659469, 'colsample_bytree': 0.9868779589743224, 'min_child_weight': 4, 'gamma': 0.480701990685122}. Best is trial 1 with value: 0.04369415001672142.\n",
      "[I 2024-08-01 09:23:45,628] Trial 5 finished with value: 0.04371389703410925 and parameters: {'max_depth': 10, 'learning_rate': 0.18205994535871065, 'n_estimators': 156, 'subsample': 0.980378769300774, 'colsample_bytree': 0.5566721173525644, 'min_child_weight': 9, 'gamma': 0.5326057951621713}. Best is trial 1 with value: 0.04369415001672142.\n",
      "[I 2024-08-01 09:23:47,095] Trial 6 finished with value: 0.043824412262237045 and parameters: {'max_depth': 7, 'learning_rate': 0.29804726188910674, 'n_estimators': 195, 'subsample': 0.7526454217321006, 'colsample_bytree': 0.7426455355907058, 'min_child_weight': 2, 'gamma': 0.4714047271271701}. Best is trial 1 with value: 0.04369415001672142.\n",
      "[I 2024-08-01 09:23:48,794] Trial 7 finished with value: 0.04375721060259643 and parameters: {'max_depth': 8, 'learning_rate': 0.09890736423097696, 'n_estimators': 221, 'subsample': 0.9889448872923758, 'colsample_bytree': 0.6968342471896126, 'min_child_weight': 3, 'gamma': 0.7731074155098844}. Best is trial 1 with value: 0.04369415001672142.\n",
      "[I 2024-08-01 09:23:49,577] Trial 8 finished with value: 0.043731138374585525 and parameters: {'max_depth': 9, 'learning_rate': 0.1459459424675637, 'n_estimators': 68, 'subsample': 0.767622456806754, 'colsample_bytree': 0.9859966316327886, 'min_child_weight': 1, 'gamma': 0.6230022678737483}. Best is trial 1 with value: 0.04369415001672142.\n",
      "[I 2024-08-01 09:23:51,053] Trial 9 finished with value: 0.04375281973218432 and parameters: {'max_depth': 8, 'learning_rate': 0.26357012530334095, 'n_estimators': 208, 'subsample': 0.6451860073977487, 'colsample_bytree': 0.8880946823234788, 'min_child_weight': 4, 'gamma': 0.45586286762330697}. Best is trial 1 with value: 0.04369415001672142.\n",
      "[I 2024-08-01 09:23:54,845] Trial 10 finished with value: 0.0438734184392581 and parameters: {'max_depth': 5, 'learning_rate': 0.01830035235570715, 'n_estimators': 300, 'subsample': 0.8360549273148101, 'colsample_bytree': 0.8062072994094353, 'min_child_weight': 10, 'gamma': 0.23034549493789347}. Best is trial 1 with value: 0.04369415001672142.\n",
      "[I 2024-08-01 09:23:55,818] Trial 11 finished with value: 0.043742498562358303 and parameters: {'max_depth': 10, 'learning_rate': 0.12915509470079095, 'n_estimators': 122, 'subsample': 0.8780550919704588, 'colsample_bytree': 0.875410913196262, 'min_child_weight': 6, 'gamma': 0.909736268176795}. Best is trial 1 with value: 0.04369415001672142.\n",
      "[I 2024-08-01 09:23:57,879] Trial 12 finished with value: 0.04374965880267971 and parameters: {'max_depth': 10, 'learning_rate': 0.03256955915377169, 'n_estimators': 251, 'subsample': 0.9058887574318052, 'colsample_bytree': 0.8772298451122021, 'min_child_weight': 7, 'gamma': 0.9177698454737021}. Best is trial 1 with value: 0.04369415001672142.\n",
      "[I 2024-08-01 09:23:59,080] Trial 13 finished with value: 0.04376750097805358 and parameters: {'max_depth': 9, 'learning_rate': 0.20571757565815493, 'n_estimators': 161, 'subsample': 0.8139003653416151, 'colsample_bytree': 0.9371019326069997, 'min_child_weight': 8, 'gamma': 0.7814955775558963}. Best is trial 1 with value: 0.04369415001672142.\n",
      "[I 2024-08-01 09:24:00,059] Trial 14 finished with value: 0.043875487793072654 and parameters: {'max_depth': 6, 'learning_rate': 0.09381024711263261, 'n_estimators': 120, 'subsample': 0.9332204425434857, 'colsample_bytree': 0.8288238200558969, 'min_child_weight': 5, 'gamma': 0.9949525114759148}. Best is trial 1 with value: 0.04369415001672142.\n",
      "[I 2024-08-01 09:24:01,875] Trial 15 finished with value: 0.0438935288475181 and parameters: {'max_depth': 9, 'learning_rate': 0.2364518520955038, 'n_estimators': 245, 'subsample': 0.5270715092797085, 'colsample_bytree': 0.9192068218412267, 'min_child_weight': 6, 'gamma': 0.7712410600028782}. Best is trial 1 with value: 0.04369415001672142.\n",
      "[I 2024-08-01 09:24:03,386] Trial 16 finished with value: 0.043783363833353 and parameters: {'max_depth': 7, 'learning_rate': 0.1733858385208826, 'n_estimators': 182, 'subsample': 0.8405901775763515, 'colsample_bytree': 0.6923363288980344, 'min_child_weight': 5, 'gamma': 0.6469363892298882}. Best is trial 1 with value: 0.04369415001672142.\n",
      "[I 2024-08-01 09:24:04,672] Trial 17 finished with value: 0.04374256428735693 and parameters: {'max_depth': 9, 'learning_rate': 0.046725730551029014, 'n_estimators': 94, 'subsample': 0.9355467946054153, 'colsample_bytree': 0.5011484764653389, 'min_child_weight': 8, 'gamma': 0.2816095107601675}. Best is trial 1 with value: 0.04369415001672142.\n",
      "[I 2024-08-01 09:24:06,147] Trial 18 finished with value: 0.043756988279285945 and parameters: {'max_depth': 6, 'learning_rate': 0.1263768044801867, 'n_estimators': 147, 'subsample': 0.6131376213414383, 'colsample_bytree': 0.8519243864598668, 'min_child_weight': 7, 'gamma': 0.3490939493837384}. Best is trial 1 with value: 0.04369415001672142.\n",
      "[I 2024-08-01 09:24:07,898] Trial 19 finished with value: 0.04373066191166871 and parameters: {'max_depth': 10, 'learning_rate': 0.06391743959879195, 'n_estimators': 234, 'subsample': 0.7988819553650671, 'colsample_bytree': 0.9392307170525389, 'min_child_weight': 4, 'gamma': 0.8599215516754435}. Best is trial 1 with value: 0.04369415001672142.\n",
      "[I 2024-08-01 09:24:08,784] Trial 20 finished with value: 0.043784879284338496 and parameters: {'max_depth': 8, 'learning_rate': 0.21871284187653, 'n_estimators': 98, 'subsample': 0.7049436767675443, 'colsample_bytree': 0.7978318916537257, 'min_child_weight': 10, 'gamma': 0.6086786467471715}. Best is trial 1 with value: 0.04369415001672142.\n",
      "[I 2024-08-01 09:24:09,909] Trial 21 finished with value: 0.043704961539671655 and parameters: {'max_depth': 10, 'learning_rate': 0.1677887439285745, 'n_estimators': 151, 'subsample': 0.9968539680739481, 'colsample_bytree': 0.6080232562513024, 'min_child_weight': 9, 'gamma': 0.5555790455283345}. Best is trial 1 with value: 0.04369415001672142.\n",
      "[I 2024-08-01 09:24:11,361] Trial 22 finished with value: 0.043727595439428994 and parameters: {'max_depth': 10, 'learning_rate': 0.16913673100669785, 'n_estimators': 173, 'subsample': 0.996975265581535, 'colsample_bytree': 0.5767144192256959, 'min_child_weight': 8, 'gamma': 0.7242089730094943}. Best is trial 1 with value: 0.04369415001672142.\n",
      "[I 2024-08-01 09:24:12,391] Trial 23 finished with value: 0.043675842955743824 and parameters: {'max_depth': 9, 'learning_rate': 0.11775881132612816, 'n_estimators': 98, 'subsample': 0.8803598713553319, 'colsample_bytree': 0.737036420299122, 'min_child_weight': 6, 'gamma': 0.36804287851989576}. Best is trial 23 with value: 0.043675842955743824.\n",
      "[I 2024-08-01 09:24:13,239] Trial 24 finished with value: 0.043628725566432616 and parameters: {'max_depth': 10, 'learning_rate': 0.11745813110640686, 'n_estimators': 53, 'subsample': 0.8714563753953881, 'colsample_bytree': 0.728192838365954, 'min_child_weight': 9, 'gamma': 0.3318848614651788}. Best is trial 24 with value: 0.043628725566432616.\n",
      "[I 2024-08-01 09:24:13,986] Trial 25 finished with value: 0.04369416090579963 and parameters: {'max_depth': 9, 'learning_rate': 0.12067711077308695, 'n_estimators': 51, 'subsample': 0.8759940164463992, 'colsample_bytree': 0.7348067588586646, 'min_child_weight': 9, 'gamma': 0.38074401233317967}. Best is trial 24 with value: 0.043628725566432616.\n",
      "[I 2024-08-01 09:24:15,140] Trial 26 finished with value: 0.043667919299894706 and parameters: {'max_depth': 7, 'learning_rate': 0.10512806174267342, 'n_estimators': 88, 'subsample': 0.8680425937161682, 'colsample_bytree': 0.6640379234255763, 'min_child_weight': 5, 'gamma': 0.14063658560833103}. Best is trial 24 with value: 0.043628725566432616.\n",
      "[I 2024-08-01 09:24:16,254] Trial 27 finished with value: 0.04367190250889249 and parameters: {'max_depth': 7, 'learning_rate': 0.14279991804175168, 'n_estimators': 93, 'subsample': 0.8739839170141385, 'colsample_bytree': 0.6610158453687747, 'min_child_weight': 3, 'gamma': 0.1302751753461656}. Best is trial 24 with value: 0.043628725566432616.\n",
      "[I 2024-08-01 09:24:17,260] Trial 28 finished with value: 0.04376834160818004 and parameters: {'max_depth': 5, 'learning_rate': 0.14735453427806292, 'n_estimators': 80, 'subsample': 0.9389498227441188, 'colsample_bytree': 0.6667209893185637, 'min_child_weight': 3, 'gamma': 0.0024666447689334348}. Best is trial 24 with value: 0.043628725566432616.\n",
      "[I 2024-08-01 09:24:18,196] Trial 29 finished with value: 0.04375055187593181 and parameters: {'max_depth': 7, 'learning_rate': 0.06924169733719233, 'n_estimators': 56, 'subsample': 0.8430871044175581, 'colsample_bytree': 0.6415755881502865, 'min_child_weight': 3, 'gamma': 0.1807420915041107}. Best is trial 24 with value: 0.043628725566432616.\n",
      "[I 2024-08-01 09:24:19,138] Trial 30 finished with value: 0.04378575930744759 and parameters: {'max_depth': 5, 'learning_rate': 0.14003813462642523, 'n_estimators': 83, 'subsample': 0.7759234853179727, 'colsample_bytree': 0.701269940640655, 'min_child_weight': 5, 'gamma': 0.13470575892829453}. Best is trial 24 with value: 0.043628725566432616.\n",
      "[I 2024-08-01 09:24:20,241] Trial 31 finished with value: 0.04377121891045583 and parameters: {'max_depth': 6, 'learning_rate': 0.11446675305224113, 'n_estimators': 103, 'subsample': 0.8723809276777538, 'colsample_bytree': 0.7625442469619296, 'min_child_weight': 4, 'gamma': 0.30478503558476183}. Best is trial 24 with value: 0.043628725566432616.\n",
      "[I 2024-08-01 09:24:21,794] Trial 32 finished with value: 0.04364692378647341 and parameters: {'max_depth': 7, 'learning_rate': 0.11062960784662554, 'n_estimators': 111, 'subsample': 0.9084471031204235, 'colsample_bytree': 0.7080177098717803, 'min_child_weight': 2, 'gamma': 0.05330786865710006}. Best is trial 24 with value: 0.043628725566432616.\n",
      "[I 2024-08-01 09:24:23,698] Trial 33 finished with value: 0.043625322064492426 and parameters: {'max_depth': 7, 'learning_rate': 0.08448262257978068, 'n_estimators': 134, 'subsample': 0.9107286122827382, 'colsample_bytree': 0.6403944739556141, 'min_child_weight': 2, 'gamma': 0.04295752813208087}. Best is trial 33 with value: 0.043625322064492426.\n",
      "[I 2024-08-01 09:24:25,661] Trial 34 finished with value: 0.04362187665425109 and parameters: {'max_depth': 8, 'learning_rate': 0.08424655643026402, 'n_estimators': 135, 'subsample': 0.9156480107980883, 'colsample_bytree': 0.6066184818495203, 'min_child_weight': 2, 'gamma': 0.054245827572737104}. Best is trial 34 with value: 0.04362187665425109.\n",
      "[I 2024-08-01 09:24:27,726] Trial 35 finished with value: 0.043577310495890205 and parameters: {'max_depth': 8, 'learning_rate': 0.07899980815628185, 'n_estimators': 137, 'subsample': 0.9555173150056283, 'colsample_bytree': 0.599005366084967, 'min_child_weight': 2, 'gamma': 0.006335936814178558}. Best is trial 35 with value: 0.043577310495890205.\n",
      "[I 2024-08-01 09:24:29,802] Trial 36 finished with value: 0.04361766102721844 and parameters: {'max_depth': 8, 'learning_rate': 0.0830064807813817, 'n_estimators': 138, 'subsample': 0.9030107310918306, 'colsample_bytree': 0.5903771988298768, 'min_child_weight': 1, 'gamma': 0.008859829945818895}. Best is trial 35 with value: 0.043577310495890205.\n",
      "[I 2024-08-01 09:24:32,016] Trial 37 finished with value: 0.04356755326601533 and parameters: {'max_depth': 8, 'learning_rate': 0.054597411077586505, 'n_estimators': 136, 'subsample': 0.9630547739969857, 'colsample_bytree': 0.5348309818177207, 'min_child_weight': 1, 'gamma': 0.005028250496692033}. Best is trial 37 with value: 0.04356755326601533.\n",
      "[I 2024-08-01 09:24:35,115] Trial 38 finished with value: 0.04358027968316304 and parameters: {'max_depth': 8, 'learning_rate': 0.04841475844500641, 'n_estimators': 174, 'subsample': 0.9506145395677679, 'colsample_bytree': 0.5157750965171921, 'min_child_weight': 1, 'gamma': 0.001124311920816563}. Best is trial 37 with value: 0.04356755326601533.\n",
      "[I 2024-08-01 09:24:38,258] Trial 39 finished with value: 0.043589039901710785 and parameters: {'max_depth': 8, 'learning_rate': 0.04984998589296825, 'n_estimators': 176, 'subsample': 0.957990945782562, 'colsample_bytree': 0.5135922321851019, 'min_child_weight': 1, 'gamma': 0.005554817580665578}. Best is trial 37 with value: 0.04356755326601533.\n",
      "[I 2024-08-01 09:24:40,383] Trial 40 finished with value: 0.04358263189728979 and parameters: {'max_depth': 8, 'learning_rate': 0.05234090916421499, 'n_estimators': 196, 'subsample': 0.9555123292974236, 'colsample_bytree': 0.5171857332198028, 'min_child_weight': 1, 'gamma': 0.2062785509486129}. Best is trial 37 with value: 0.04356755326601533.\n",
      "[I 2024-08-01 09:24:42,606] Trial 41 finished with value: 0.04358084973563388 and parameters: {'max_depth': 8, 'learning_rate': 0.05042268547915368, 'n_estimators': 192, 'subsample': 0.9621334439326015, 'colsample_bytree': 0.5109943858673767, 'min_child_weight': 1, 'gamma': 0.09156165807622552}. Best is trial 37 with value: 0.04356755326601533.\n",
      "[I 2024-08-01 09:24:45,910] Trial 42 finished with value: 0.0441768975741604 and parameters: {'max_depth': 8, 'learning_rate': 0.015161014577194376, 'n_estimators': 202, 'subsample': 0.9711908424426966, 'colsample_bytree': 0.5394523428239132, 'min_child_weight': 1, 'gamma': 0.09458131758271504}. Best is trial 37 with value: 0.04356755326601533.\n",
      "[I 2024-08-01 09:24:48,372] Trial 43 finished with value: 0.043614630648834134 and parameters: {'max_depth': 8, 'learning_rate': 0.035437664076228004, 'n_estimators': 186, 'subsample': 0.9632259397126551, 'colsample_bytree': 0.5378856511049743, 'min_child_weight': 2, 'gamma': 0.20638762428430946}. Best is trial 37 with value: 0.04356755326601533.\n",
      "[I 2024-08-01 09:24:50,248] Trial 44 finished with value: 0.04355901339079025 and parameters: {'max_depth': 8, 'learning_rate': 0.06443753989338827, 'n_estimators': 163, 'subsample': 0.9506650044247629, 'colsample_bytree': 0.5251600689155418, 'min_child_weight': 1, 'gamma': 0.1004774912158361}. Best is trial 44 with value: 0.04355901339079025.\n",
      "[I 2024-08-01 09:24:53,290] Trial 45 finished with value: 0.04359079836535953 and parameters: {'max_depth': 9, 'learning_rate': 0.02946292488904731, 'n_estimators': 163, 'subsample': 0.9764548986553753, 'colsample_bytree': 0.5624498295402969, 'min_child_weight': 1, 'gamma': 0.09944538143879014}. Best is trial 44 with value: 0.04355901339079025.\n",
      "[I 2024-08-01 09:24:55,787] Trial 46 finished with value: 0.04355002148772189 and parameters: {'max_depth': 8, 'learning_rate': 0.06962285107360652, 'n_estimators': 224, 'subsample': 0.9424371421840735, 'colsample_bytree': 0.5365759186418012, 'min_child_weight': 2, 'gamma': 0.16932935779229402}. Best is trial 46 with value: 0.04355002148772189.\n",
      "[I 2024-08-01 09:24:57,887] Trial 47 finished with value: 0.043619792588267224 and parameters: {'max_depth': 8, 'learning_rate': 0.07001545639331559, 'n_estimators': 212, 'subsample': 0.9424875407554609, 'colsample_bytree': 0.5446769844446956, 'min_child_weight': 2, 'gamma': 0.26352827112018284}. Best is trial 46 with value: 0.04355002148772189.\n",
      "[I 2024-08-01 09:25:00,553] Trial 48 finished with value: 0.043940948299226526 and parameters: {'max_depth': 3, 'learning_rate': 0.06412770601983585, 'n_estimators': 280, 'subsample': 0.9259018972023553, 'colsample_bytree': 0.5672105638463477, 'min_child_weight': 3, 'gamma': 0.05593029234440733}. Best is trial 46 with value: 0.04355002148772189.\n",
      "[I 2024-08-01 09:25:04,095] Trial 49 finished with value: 0.043583111322458463 and parameters: {'max_depth': 9, 'learning_rate': 0.026419544170363657, 'n_estimators': 219, 'subsample': 0.9994952796152246, 'colsample_bytree': 0.6089605345508925, 'min_child_weight': 2, 'gamma': 0.14736914546702462}. Best is trial 46 with value: 0.04355002148772189.\n",
      "[I 2024-08-01 09:25:06,495] Trial 50 finished with value: 0.043738695204198645 and parameters: {'max_depth': 6, 'learning_rate': 0.03995123138827024, 'n_estimators': 161, 'subsample': 0.8948725870140245, 'colsample_bytree': 0.5325644874284908, 'min_child_weight': 1, 'gamma': 0.16348442873045402}. Best is trial 46 with value: 0.04355002148772189.\n",
      "[I 2024-08-01 09:25:08,957] Trial 51 finished with value: 0.043580015987131564 and parameters: {'max_depth': 8, 'learning_rate': 0.05687157822258078, 'n_estimators': 169, 'subsample': 0.9541282603167921, 'colsample_bytree': 0.5013755450302319, 'min_child_weight': 1, 'gamma': 0.0928167217872719}. Best is trial 46 with value: 0.04355002148772189.\n",
      "[I 2024-08-01 09:25:11,194] Trial 52 finished with value: 0.043563841293213806 and parameters: {'max_depth': 9, 'learning_rate': 0.09734999974693137, 'n_estimators': 169, 'subsample': 0.9412531857515938, 'colsample_bytree': 0.581028718400249, 'min_child_weight': 2, 'gamma': 0.038566028813727796}. Best is trial 46 with value: 0.04355002148772189.\n",
      "[I 2024-08-01 09:25:12,841] Trial 53 finished with value: 0.04354993330162974 and parameters: {'max_depth': 9, 'learning_rate': 0.09379808896034868, 'n_estimators': 145, 'subsample': 0.9801815054791572, 'colsample_bytree': 0.5880935583587851, 'min_child_weight': 2, 'gamma': 0.109122487848197}. Best is trial 53 with value: 0.04354993330162974.\n",
      "[I 2024-08-01 09:25:14,240] Trial 54 finished with value: 0.04355831286869289 and parameters: {'max_depth': 9, 'learning_rate': 0.09121692339160194, 'n_estimators': 144, 'subsample': 0.9832970928045384, 'colsample_bytree': 0.5892234417556892, 'min_child_weight': 2, 'gamma': 0.239133098003313}. Best is trial 53 with value: 0.04354993330162974.\n",
      "[I 2024-08-01 09:25:15,661] Trial 55 finished with value: 0.04358836120276731 and parameters: {'max_depth': 9, 'learning_rate': 0.09267650532205074, 'n_estimators': 144, 'subsample': 0.9807377084351167, 'colsample_bytree': 0.5748878215880104, 'min_child_weight': 3, 'gamma': 0.2541440343269015}. Best is trial 53 with value: 0.04354993330162974.\n",
      "[I 2024-08-01 09:25:17,082] Trial 56 finished with value: 0.04365470169315892 and parameters: {'max_depth': 9, 'learning_rate': 0.09391230184776, 'n_estimators': 154, 'subsample': 0.9247298534494335, 'colsample_bytree': 0.553418608793357, 'min_child_weight': 2, 'gamma': 0.41428057953305364}. Best is trial 53 with value: 0.04354993330162974.\n",
      "[I 2024-08-01 09:25:18,560] Trial 57 finished with value: 0.04357636507205876 and parameters: {'max_depth': 9, 'learning_rate': 0.07562229928299426, 'n_estimators': 124, 'subsample': 0.9836141054128652, 'colsample_bytree': 0.5863758598984438, 'min_child_weight': 3, 'gamma': 0.19112910893244014}. Best is trial 53 with value: 0.04354993330162974.\n",
      "[I 2024-08-01 09:25:19,800] Trial 58 finished with value: 0.04367249887148348 and parameters: {'max_depth': 10, 'learning_rate': 0.10118797824938394, 'n_estimators': 114, 'subsample': 0.7052718689148404, 'colsample_bytree': 0.6229664801035885, 'min_child_weight': 4, 'gamma': 0.2269616647718411}. Best is trial 53 with value: 0.04354993330162974.\n",
      "[I 2024-08-01 09:25:21,583] Trial 59 finished with value: 0.04362581407127664 and parameters: {'max_depth': 9, 'learning_rate': 0.1342037970298342, 'n_estimators': 147, 'subsample': 0.8938765941762044, 'colsample_bytree': 0.53197509178295, 'min_child_weight': 2, 'gamma': 0.05554576676372918}. Best is trial 53 with value: 0.04354993330162974.\n",
      "[I 2024-08-01 09:25:23,343] Trial 60 finished with value: 0.04359423153733049 and parameters: {'max_depth': 9, 'learning_rate': 0.060373494027949656, 'n_estimators': 130, 'subsample': 0.6278760940444154, 'colsample_bytree': 0.6235795844807487, 'min_child_weight': 2, 'gamma': 0.1674286736444736}. Best is trial 53 with value: 0.04354993330162974.\n",
      "[I 2024-08-01 09:25:24,729] Trial 61 finished with value: 0.043569392541589064 and parameters: {'max_depth': 9, 'learning_rate': 0.08164754219026958, 'n_estimators': 124, 'subsample': 0.9808690450166426, 'colsample_bytree': 0.5820279133900248, 'min_child_weight': 3, 'gamma': 0.18933252301569803}. Best is trial 53 with value: 0.04354993330162974.\n",
      "[I 2024-08-01 09:25:26,604] Trial 62 finished with value: 0.04361136909504305 and parameters: {'max_depth': 10, 'learning_rate': 0.08934449667170738, 'n_estimators': 159, 'subsample': 0.9283643010625445, 'colsample_bytree': 0.5840957758963118, 'min_child_weight': 3, 'gamma': 0.11728096083548432}. Best is trial 53 with value: 0.04354993330162974.\n",
      "[I 2024-08-01 09:25:28,082] Trial 63 finished with value: 0.043558238437537665 and parameters: {'max_depth': 9, 'learning_rate': 0.07387957824144957, 'n_estimators': 113, 'subsample': 0.9787997279333222, 'colsample_bytree': 0.5561340460510884, 'min_child_weight': 2, 'gamma': 0.23840055107336766}. Best is trial 53 with value: 0.04354993330162974.\n",
      "[I 2024-08-01 09:25:29,479] Trial 64 finished with value: 0.043576832373825626 and parameters: {'max_depth': 10, 'learning_rate': 0.071928285171083, 'n_estimators': 111, 'subsample': 0.9761722661717102, 'colsample_bytree': 0.558930152308941, 'min_child_weight': 1, 'gamma': 0.23429868743947707}. Best is trial 53 with value: 0.04354993330162974.\n",
      "[I 2024-08-01 09:25:31,433] Trial 65 finished with value: 0.04361059905476063 and parameters: {'max_depth': 9, 'learning_rate': 0.04158364900243557, 'n_estimators': 142, 'subsample': 0.999994907035066, 'colsample_bytree': 0.5287618870294761, 'min_child_weight': 2, 'gamma': 0.2862100490568914}. Best is trial 53 with value: 0.04354993330162974.\n",
      "[I 2024-08-01 09:25:33,596] Trial 66 finished with value: 0.043545617134323505 and parameters: {'max_depth': 9, 'learning_rate': 0.1056915038216338, 'n_estimators': 234, 'subsample': 0.9393358940623241, 'colsample_bytree': 0.547414582233571, 'min_child_weight': 2, 'gamma': 0.11943515177214609}. Best is trial 66 with value: 0.043545617134323505.\n",
      "[I 2024-08-01 09:25:35,615] Trial 67 finished with value: 0.043656229197090154 and parameters: {'max_depth': 9, 'learning_rate': 0.10213455685332862, 'n_estimators': 235, 'subsample': 0.8517514655212561, 'colsample_bytree': 0.5543168799591263, 'min_child_weight': 2, 'gamma': 0.31691387878083177}. Best is trial 66 with value: 0.043545617134323505.\n",
      "[I 2024-08-01 09:25:37,788] Trial 68 finished with value: 0.043500485195979065 and parameters: {'max_depth': 10, 'learning_rate': 0.10807604639653834, 'n_estimators': 267, 'subsample': 0.9391320738841771, 'colsample_bytree': 0.6279210620945656, 'min_child_weight': 3, 'gamma': 0.12764358309979615}. Best is trial 68 with value: 0.043500485195979065.\n",
      "[I 2024-08-01 09:25:40,959] Trial 69 finished with value: 0.04383868279795976 and parameters: {'max_depth': 10, 'learning_rate': 0.13284571425398473, 'n_estimators': 265, 'subsample': 0.5665401334378151, 'colsample_bytree': 0.6219364290516485, 'min_child_weight': 3, 'gamma': 0.12037176422040864}. Best is trial 68 with value: 0.043500485195979065.\n",
      "[I 2024-08-01 09:25:43,065] Trial 70 finished with value: 0.04360183873834895 and parameters: {'max_depth': 10, 'learning_rate': 0.15558871055243834, 'n_estimators': 297, 'subsample': 0.9195612712036441, 'colsample_bytree': 0.6505311185648772, 'min_child_weight': 3, 'gamma': 0.22765940859195533}. Best is trial 68 with value: 0.043500485195979065.\n",
      "[I 2024-08-01 09:25:45,419] Trial 71 finished with value: 0.04364009065477563 and parameters: {'max_depth': 10, 'learning_rate': 0.10795536701467956, 'n_estimators': 242, 'subsample': 0.9428353933539887, 'colsample_bytree': 0.5674288950509453, 'min_child_weight': 2, 'gamma': 0.0698906457450027}. Best is trial 68 with value: 0.043500485195979065.\n",
      "[I 2024-08-01 09:25:47,447] Trial 72 finished with value: 0.04346965104679464 and parameters: {'max_depth': 9, 'learning_rate': 0.08878809546425714, 'n_estimators': 256, 'subsample': 0.9359986071278197, 'colsample_bytree': 0.5965418014173923, 'min_child_weight': 2, 'gamma': 0.14304932693866368}. Best is trial 72 with value: 0.04346965104679464.\n",
      "[I 2024-08-01 09:25:49,419] Trial 73 finished with value: 0.04359395844838137 and parameters: {'max_depth': 9, 'learning_rate': 0.12063932848914362, 'n_estimators': 260, 'subsample': 0.896169042616594, 'colsample_bytree': 0.598872743632959, 'min_child_weight': 4, 'gamma': 0.16411487007346615}. Best is trial 72 with value: 0.04346965104679464.\n",
      "[I 2024-08-01 09:25:52,323] Trial 74 finished with value: 0.04357480481539551 and parameters: {'max_depth': 10, 'learning_rate': 0.08912468743512686, 'n_estimators': 283, 'subsample': 0.8166988383922844, 'colsample_bytree': 0.5496832104308075, 'min_child_weight': 2, 'gamma': 0.14689243222687132}. Best is trial 72 with value: 0.04346965104679464.\n",
      "[I 2024-08-01 09:25:54,162] Trial 75 finished with value: 0.04369405923805713 and parameters: {'max_depth': 9, 'learning_rate': 0.27518271313173037, 'n_estimators': 252, 'subsample': 0.9889715628970966, 'colsample_bytree': 0.6749074093218922, 'min_child_weight': 1, 'gamma': 0.11998163248199537}. Best is trial 72 with value: 0.04346965104679464.\n",
      "[I 2024-08-01 09:25:56,733] Trial 76 finished with value: 0.043531972591679985 and parameters: {'max_depth': 10, 'learning_rate': 0.06700892744884335, 'n_estimators': 263, 'subsample': 0.9367062914575874, 'colsample_bytree': 0.6192123338957075, 'min_child_weight': 2, 'gamma': 0.25687570008345045}. Best is trial 72 with value: 0.04346965104679464.\n",
      "[I 2024-08-01 09:25:58,455] Trial 77 finished with value: 0.04370165898030511 and parameters: {'max_depth': 10, 'learning_rate': 0.19138032359545276, 'n_estimators': 227, 'subsample': 0.9343346472939206, 'colsample_bytree': 0.6846458899153431, 'min_child_weight': 3, 'gamma': 0.26116714915380934}. Best is trial 72 with value: 0.04346965104679464.\n",
      "[I 2024-08-01 09:26:00,497] Trial 78 finished with value: 0.04359670950518277 and parameters: {'max_depth': 10, 'learning_rate': 0.10984656682472996, 'n_estimators': 270, 'subsample': 0.8569067003521865, 'colsample_bytree': 0.6326924728795812, 'min_child_weight': 4, 'gamma': 0.29434855791331355}. Best is trial 72 with value: 0.04346965104679464.\n",
      "[I 2024-08-01 09:26:02,463] Trial 79 finished with value: 0.04362031121183001 and parameters: {'max_depth': 10, 'learning_rate': 0.07595404918186763, 'n_estimators': 286, 'subsample': 0.9679498089844457, 'colsample_bytree': 0.6149592489449404, 'min_child_weight': 2, 'gamma': 0.3818225925548483}. Best is trial 72 with value: 0.04346965104679464.\n",
      "[I 2024-08-01 09:26:04,083] Trial 80 finished with value: 0.043691529107094555 and parameters: {'max_depth': 9, 'learning_rate': 0.12628056469622206, 'n_estimators': 255, 'subsample': 0.9185567592488453, 'colsample_bytree': 0.5961191972053513, 'min_child_weight': 3, 'gamma': 0.5321858230201373}. Best is trial 72 with value: 0.04346965104679464.\n",
      "[I 2024-08-01 09:26:06,136] Trial 81 finished with value: 0.04358912526711462 and parameters: {'max_depth': 9, 'learning_rate': 0.06571654909112375, 'n_estimators': 243, 'subsample': 0.886396485951539, 'colsample_bytree': 0.5215357080592427, 'min_child_weight': 2, 'gamma': 0.20812911530832628}. Best is trial 72 with value: 0.04346965104679464.\n",
      "[I 2024-08-01 09:26:08,199] Trial 82 finished with value: 0.04356340809487449 and parameters: {'max_depth': 9, 'learning_rate': 0.08796055356480459, 'n_estimators': 271, 'subsample': 0.9526287441065872, 'colsample_bytree': 0.5703412560480301, 'min_child_weight': 2, 'gamma': 0.16964969700796048}. Best is trial 72 with value: 0.04346965104679464.\n",
      "[I 2024-08-01 09:26:10,378] Trial 83 finished with value: 0.04357637036382191 and parameters: {'max_depth': 10, 'learning_rate': 0.0734765812314856, 'n_estimators': 263, 'subsample': 0.9877749599005203, 'colsample_bytree': 0.648621747896159, 'min_child_weight': 1, 'gamma': 0.10383844523231614}. Best is trial 72 with value: 0.04346965104679464.\n",
      "[I 2024-08-01 09:26:12,535] Trial 84 finished with value: 0.04367095305631318 and parameters: {'max_depth': 7, 'learning_rate': 0.061516808113623714, 'n_estimators': 231, 'subsample': 0.9423113647971879, 'colsample_bytree': 0.5437866467003231, 'min_child_weight': 2, 'gamma': 0.33564804605483395}. Best is trial 72 with value: 0.04346965104679464.\n",
      "[I 2024-08-01 09:26:14,978] Trial 85 finished with value: 0.04366847061145341 and parameters: {'max_depth': 10, 'learning_rate': 0.10118040251674999, 'n_estimators': 258, 'subsample': 0.90882978087828, 'colsample_bytree': 0.596348805819066, 'min_child_weight': 2, 'gamma': 0.07472332912954194}. Best is trial 72 with value: 0.04346965104679464.\n",
      "[I 2024-08-01 09:26:16,985] Trial 86 finished with value: 0.04362055524009312 and parameters: {'max_depth': 8, 'learning_rate': 0.08139430264121769, 'n_estimators': 249, 'subsample': 0.9702131880767838, 'colsample_bytree': 0.5031871664710391, 'min_child_weight': 1, 'gamma': 0.1366175689179246}. Best is trial 72 with value: 0.04346965104679464.\n",
      "[I 2024-08-01 09:26:18,909] Trial 87 finished with value: 0.043603668710775985 and parameters: {'max_depth': 9, 'learning_rate': 0.09513718474637983, 'n_estimators': 289, 'subsample': 0.9316558251771019, 'colsample_bytree': 0.6083123414011365, 'min_child_weight': 2, 'gamma': 0.2498273107857777}. Best is trial 72 with value: 0.04346965104679464.\n",
      "[I 2024-08-01 09:26:21,262] Trial 88 finished with value: 0.04362772277983731 and parameters: {'max_depth': 9, 'learning_rate': 0.11173860413468534, 'n_estimators': 237, 'subsample': 0.9658634368032869, 'colsample_bytree': 0.5256284863865173, 'min_child_weight': 1, 'gamma': 0.03530757238925099}. Best is trial 72 with value: 0.04346965104679464.\n",
      "[I 2024-08-01 09:26:23,059] Trial 89 finished with value: 0.04359546957559803 and parameters: {'max_depth': 8, 'learning_rate': 0.06689503513872805, 'n_estimators': 211, 'subsample': 0.9489760022456886, 'colsample_bytree': 0.5597329085107976, 'min_child_weight': 3, 'gamma': 0.20152583863202378}. Best is trial 72 with value: 0.04346965104679464.\n",
      "[I 2024-08-01 09:26:25,380] Trial 90 finished with value: 0.04384504709219587 and parameters: {'max_depth': 4, 'learning_rate': 0.04418118722800789, 'n_estimators': 276, 'subsample': 0.9878377487338412, 'colsample_bytree': 0.7699188848406707, 'min_child_weight': 3, 'gamma': 0.14961355940344173}. Best is trial 72 with value: 0.04346965104679464.\n",
      "[I 2024-08-01 09:26:27,365] Trial 91 finished with value: 0.04354437815487508 and parameters: {'max_depth': 9, 'learning_rate': 0.0870852658506431, 'n_estimators': 270, 'subsample': 0.9502866897831223, 'colsample_bytree': 0.5692980153971082, 'min_child_weight': 2, 'gamma': 0.17094924585422216}. Best is trial 72 with value: 0.04346965104679464.\n",
      "[I 2024-08-01 09:26:29,356] Trial 92 finished with value: 0.04364400991176881 and parameters: {'max_depth': 9, 'learning_rate': 0.07760425583306892, 'n_estimators': 270, 'subsample': 0.9151460492369274, 'colsample_bytree': 0.5699424766426762, 'min_child_weight': 2, 'gamma': 0.22934704205316386}. Best is trial 72 with value: 0.04346965104679464.\n",
      "[I 2024-08-01 09:26:31,424] Trial 93 finished with value: 0.043609557024780476 and parameters: {'max_depth': 9, 'learning_rate': 0.08729854140525442, 'n_estimators': 293, 'subsample': 0.9616084101891871, 'colsample_bytree': 0.548473641886007, 'min_child_weight': 1, 'gamma': 0.17331527412199138}. Best is trial 72 with value: 0.04346965104679464.\n",
      "[I 2024-08-01 09:26:34,008] Trial 94 finished with value: 0.04354804730149372 and parameters: {'max_depth': 10, 'learning_rate': 0.05648624861030731, 'n_estimators': 245, 'subsample': 0.9334925326375021, 'colsample_bytree': 0.6292678688056065, 'min_child_weight': 2, 'gamma': 0.08588771376247922}. Best is trial 72 with value: 0.04346965104679464.\n",
      "[I 2024-08-01 09:26:36,509] Trial 95 finished with value: 0.04348967773024684 and parameters: {'max_depth': 10, 'learning_rate': 0.05727070458357352, 'n_estimators': 221, 'subsample': 0.9304570685949147, 'colsample_bytree': 0.6323247166418238, 'min_child_weight': 2, 'gamma': 0.07648387890182426}. Best is trial 72 with value: 0.04346965104679464.\n",
      "[I 2024-08-01 09:26:39,520] Trial 96 finished with value: 0.04351474381914741 and parameters: {'max_depth': 10, 'learning_rate': 0.03795750606720073, 'n_estimators': 216, 'subsample': 0.9019758685045292, 'colsample_bytree': 0.6366605701571719, 'min_child_weight': 2, 'gamma': 0.07691931509786072}. Best is trial 72 with value: 0.04346965104679464.\n",
      "[I 2024-08-01 09:26:43,065] Trial 97 finished with value: 0.04345320501079739 and parameters: {'max_depth': 10, 'learning_rate': 0.02526721602824744, 'n_estimators': 220, 'subsample': 0.9027010910475677, 'colsample_bytree': 0.6340801908849835, 'min_child_weight': 3, 'gamma': 0.07750413308001167}. Best is trial 97 with value: 0.04345320501079739.\n",
      "[I 2024-08-01 09:26:47,850] Trial 98 finished with value: 0.04351050737144426 and parameters: {'max_depth': 10, 'learning_rate': 0.01994271402135124, 'n_estimators': 218, 'subsample': 0.9053344245547491, 'colsample_bytree': 0.6602822909346986, 'min_child_weight': 3, 'gamma': 0.03242063919103644}. Best is trial 97 with value: 0.04345320501079739.\n",
      "[I 2024-08-01 09:26:51,981] Trial 99 finished with value: 0.04350844854273361 and parameters: {'max_depth': 10, 'learning_rate': 0.024065180404944382, 'n_estimators': 217, 'subsample': 0.9019037641795684, 'colsample_bytree': 0.7167100481107112, 'min_child_weight': 3, 'gamma': 0.03095734854876131}. Best is trial 97 with value: 0.04345320501079739.\n"
     ]
    }
   ],
   "source": [
    "study = optuna.create_study(direction='minimize')\n",
    "study.optimize(objective, n_trials=100)"
   ]
  },
  {
   "cell_type": "code",
   "execution_count": null,
   "metadata": {},
   "outputs": [
    {
     "name": "stdout",
     "output_type": "stream",
     "text": [
      "Best parameters {'max_depth': 10, 'learning_rate': 0.02526721602824744, 'n_estimators': 220, 'subsample': 0.9027010910475677, 'colsample_bytree': 0.6340801908849835, 'min_child_weight': 3, 'gamma': 0.07750413308001167}\n"
     ]
    }
   ],
   "source": [
    "print('Best parameters', study.best_params)"
   ]
  },
  {
   "cell_type": "markdown",
   "metadata": {},
   "source": [
    "Se guardan los hiperparametros de XGBoost para ser usados despues pues al ofrecer un buen resultado de por si al stackearlo con otros modelos podrias mejorar"
   ]
  },
  {
   "cell_type": "code",
   "execution_count": null,
   "metadata": {},
   "outputs": [],
   "source": [
    "paramsxg1 = {\n",
    "    'objective': 'reg:squarederror',  # Objetivo de regresión con error cuadrado\n",
    "    'max_depth': 10,                   # Profundidad máxima de los árboles\n",
    "    'learning_rate': 0.02405465164605032,             # Tasa de aprendizaje\n",
    "    'n_estimators': 180,              # Número de árboles a construir\n",
    "    'subsample':  0.5628425093858869,                 # Submuestra de datos para el entrenamiento de cada árbol\n",
    "    'colsample_bytree': 0.9771032389526358,          # Submuestra de características para el entrenamiento de cada árbol\n",
    "    'min_child_weight': 9,\n",
    "    'gamma':0.09999149057168405\n",
    "}"
   ]
  },
  {
   "cell_type": "markdown",
   "metadata": {},
   "source": [
    "El optimizar los hiperparametros del modelo supone una pequeña mejoria en el modelo "
   ]
  },
  {
   "cell_type": "code",
   "execution_count": null,
   "metadata": {},
   "outputs": [],
   "source": [
    "XGBReg1_Optuna = XGBRegressor(enable_categorical=True,**paramsxg1)\n",
    "\n",
    "XGBReg1_Optuna.fit(X_train,y_train)\n",
    "\n",
    "y_pred = XGBReg1_Optuna.predict(X_test)\n",
    "performance_regression_model(y_test.ravel(), y_pred)"
   ]
  },
  {
   "cell_type": "markdown",
   "metadata": {},
   "source": [
    "Despues de la calibracion por optuna y posteriormente la calibracion manual, este es el mejor resultado obtenido, a continuacion se explicara que implica cada parametro:\n",
    "\n",
    "objective: especifica la función de pérdida que se va a minimizar durante el entrenamiento. En este caso, 'reg:squarederror' indica que se trata de una tarea de regresión con el error cuadrático como la métrica de pérdida, lo anterior significa que el modelo intentará minimizar la diferencia cuadrada entre las predicciones y los valores reales.\n",
    "\n",
    "max_depth: este parámetro define la profundidad máxima de los árboles que se construirán, limitar la profundidad del árbol ayuda a prevenir el sobreajuste, arboles más profundos permiten al modelo aprender relaciones más complejas, pero también pueden capturar ruido en los datos.\n",
    "\n",
    "\n",
    "learning_rate: también conocido como tasa de aprendizaje o \"eta\", controla la contribución de cada arbol al modelo final, un valor bajo hace que el modelo sea más robusto a la estructura específica del árbol, reduciendo el riesgo de sobreajuste, pero requiere más árboles (n_estimators) para ser efectivo.\n",
    "\n",
    "n_estimators: es el número de arboles que se construirán en el modelo, más árboles pueden hacer que el modelo sea más potente, pero también más lento para entrenar y más susceptible al sobreajuste si la tasa de aprendizaje no está bien ajustada.\n",
    "\n",
    "subsample: es la fracción de muestras utilizadas para entrenar cada árbol, si es menor que 1.0, entonces XGBoost utilizará un muestreo aleatorio de los datos, lo que puede ayudar a hacer que el modelo sea más robusto al sobreajuste.\n",
    "\n",
    "colsample_bytree: este parámetro controla la fracción de características (columnas) que se utilizarán para cada árbol, un valor menor que 1.0 significa que cada árbol usará una fracción aleatoria de las características, esto es útil para aumentar la diversidad de los árboles y, por tanto, mejorar el rendimiento del modelo.\n",
    "\n",
    "min_child_weight: es un parámetro que controla el umbral mínimo de suma de pesos de instancias necesarias en un nodo hijo, este se usa para controlar el sobreajuste, valores más altos evitan que el modelo aprenda relaciones demasiado específicas, favoreciendo estructuras de árbol más simples.\n",
    "\n",
    "gamma:  es el parámetro de poda mínima de pérdida, gamma especifica la reducción mínima en la pérdida requerida para hacer una partición adicional en un nodo del árbol, un valor más alto hace que el algoritmo sea más conservador, resultando en árboles más simples y menos complejos."
   ]
  },
  {
   "cell_type": "markdown",
   "metadata": {},
   "source": [
    "### Random Forest"
   ]
  },
  {
   "cell_type": "markdown",
   "metadata": {},
   "source": [
    "La utilidad de random forest radica en que funciona como una union de muchos arboles de decision que funciona de manera mas robusta. Al construir múltiples árboles de decisión y promediar sus resultados, random forests tienden a ser menos susceptibles al sobreajuste (overfitting) que un solo árbol de decisión\n",
    "\n",
    "Alta precisión en comparación con otros algoritmos de aprendizaje automático debido a su capacidad para manejar grandes conjuntos de datos y una variedad de características.\n",
    "\n",
    "El unico problema es su tiempo de corrida, en este caso tomo 88 minutos"
   ]
  },
  {
   "cell_type": "code",
   "execution_count": 20,
   "metadata": {},
   "outputs": [],
   "source": [
    "# crear el modelo Random Forest Regressor\n",
    "rf_regressor = RandomForestRegressor(random_state=42, n_jobs=-1)\n",
    "\n",
    "#  entrenamiento\n",
    "rf_regressor.fit(X_train, y_train)\n",
    "\n",
    "# hacer predicciones con los datos de prueba\n",
    "y_pred_rf = rf_regressor.predict(X_test)\n"
   ]
  },
  {
   "cell_type": "code",
   "execution_count": 22,
   "metadata": {},
   "outputs": [
    {
     "name": "stdout",
     "output_type": "stream",
     "text": [
      "r2: 0.8864075685223176\n",
      "RMSE: 1.065950553629399\n",
      "mse: 1.136250582782822\n",
      "mae: 1.136250582782822\n"
     ]
    },
    {
     "name": "stderr",
     "output_type": "stream",
     "text": [
      "c:\\Users\\WD\\.conda\\envs\\VSCEnv\\lib\\site-packages\\sklearn\\metrics\\_regression.py:483: FutureWarning: 'squared' is deprecated in version 1.4 and will be removed in 1.6. To calculate the root mean squared error, use the function'root_mean_squared_error'.\n",
      "  warnings.warn(\n"
     ]
    },
    {
     "data": {
      "text/plain": [
       "{'r2': 0.8864075685223176,\n",
       " 'rmse': 1.065950553629399,\n",
       " 'mse': 1.136250582782822,\n",
       " 'mae': 0.5890229063360211}"
      ]
     },
     "execution_count": 22,
     "metadata": {},
     "output_type": "execute_result"
    },
    {
     "data": {
      "image/png": "[encoded data removed]",
      "text/plain": [
       "<Figure size 640x480 with 1 Axes>"
      ]
     },
     "metadata": {},
     "output_type": "display_data"
    }
   ],
   "source": [
    "performance_regression_model(y_test.ravel(), y_pred_rf)"
   ]
  },
  {
   "cell_type": "markdown",
   "metadata": {},
   "source": [
    "### Stacking"
   ]
  },
  {
   "cell_type": "markdown",
   "metadata": {},
   "source": [
    "Se stackean los dos modelos que dieron un buen resultado y un CV de 3 por temas de tiempo aunque se utilizaria un CV de 5.\n",
    "\n",
    "CV quiere decir cross validation, este consiste en tomar el conjunto de datos se divide en varias partes o \"folds\".  El modelo se entrena en un subconjunto de los datos (por ejemplo, 9 de los 10 pliegues) y se evalúa en el pliegue restante (el pliegue no utilizado para el entrenamiento). Este proceso se repite varias veces, cada vez con un pliegue diferente como conjunto de prueba y los otros pliegues como conjunto de entrenamiento.\n",
    "\n",
    "En este caso un CV de 3 quiere decir que se entrenara el modelo 3 veces y esas mismas 3 veces se probara su resultado para después realizar la evaluación en cada pliegue, se calculan y promedian las métricas de rendimiento y ese seria el resultado de este modelo final. "
   ]
  },
  {
   "cell_type": "code",
   "execution_count": 23,
   "metadata": {},
   "outputs": [
    {
     "ename": "KeyboardInterrupt",
     "evalue": "",
     "output_type": "error",
     "traceback": [
      "\u001b[1;31m---------------------------------------------------------------------------\u001b[0m",
      "\u001b[1;31mKeyboardInterrupt\u001b[0m                         Traceback (most recent call last)",
      "Cell \u001b[1;32mIn[23], line 33\u001b[0m\n\u001b[0;32m     26\u001b[0m stacking_model \u001b[38;5;241m=\u001b[39m StackingRegressor(\n\u001b[0;32m     27\u001b[0m     estimators\u001b[38;5;241m=\u001b[39mestimators,\n\u001b[0;32m     28\u001b[0m     final_estimator\u001b[38;5;241m=\u001b[39mfinal_estimator,\n\u001b[0;32m     29\u001b[0m     cv\u001b[38;5;241m=\u001b[39m\u001b[38;5;241m3\u001b[39m\n\u001b[0;32m     30\u001b[0m )\n\u001b[0;32m     32\u001b[0m \u001b[38;5;66;03m# entrenar el modelo de stacking\u001b[39;00m\n\u001b[1;32m---> 33\u001b[0m \u001b[43mstacking_model\u001b[49m\u001b[38;5;241;43m.\u001b[39;49m\u001b[43mfit\u001b[49m\u001b[43m(\u001b[49m\u001b[43mX_train\u001b[49m\u001b[43m,\u001b[49m\u001b[43m \u001b[49m\u001b[43my_train\u001b[49m\u001b[43m)\u001b[49m\n\u001b[0;32m     35\u001b[0m \u001b[38;5;66;03m# Hacer predicciones con el modelo de stacking\u001b[39;00m\n\u001b[0;32m     36\u001b[0m y_pred_stack \u001b[38;5;241m=\u001b[39m stacking_model\u001b[38;5;241m.\u001b[39mpredict(X_test)\n",
      "File \u001b[1;32mc:\\Users\\WD\\.conda\\envs\\VSCEnv\\lib\\site-packages\\sklearn\\ensemble\\_stacking.py:962\u001b[0m, in \u001b[0;36mStackingRegressor.fit\u001b[1;34m(self, X, y, sample_weight)\u001b[0m\n\u001b[0;32m    960\u001b[0m _raise_for_unsupported_routing(\u001b[38;5;28mself\u001b[39m, \u001b[38;5;124m\"\u001b[39m\u001b[38;5;124mfit\u001b[39m\u001b[38;5;124m\"\u001b[39m, sample_weight\u001b[38;5;241m=\u001b[39msample_weight)\n\u001b[0;32m    961\u001b[0m y \u001b[38;5;241m=\u001b[39m column_or_1d(y, warn\u001b[38;5;241m=\u001b[39m\u001b[38;5;28;01mTrue\u001b[39;00m)\n\u001b[1;32m--> 962\u001b[0m \u001b[38;5;28;01mreturn\u001b[39;00m \u001b[38;5;28;43msuper\u001b[39;49m\u001b[43m(\u001b[49m\u001b[43m)\u001b[49m\u001b[38;5;241;43m.\u001b[39;49m\u001b[43mfit\u001b[49m\u001b[43m(\u001b[49m\u001b[43mX\u001b[49m\u001b[43m,\u001b[49m\u001b[43m \u001b[49m\u001b[43my\u001b[49m\u001b[43m,\u001b[49m\u001b[43m \u001b[49m\u001b[43msample_weight\u001b[49m\u001b[43m)\u001b[49m\n",
      "File \u001b[1;32mc:\\Users\\WD\\.conda\\envs\\VSCEnv\\lib\\site-packages\\sklearn\\base.py:1351\u001b[0m, in \u001b[0;36m_fit_context.<locals>.decorator.<locals>.wrapper\u001b[1;34m(estimator, *args, **kwargs)\u001b[0m\n\u001b[0;32m   1344\u001b[0m     estimator\u001b[38;5;241m.\u001b[39m_validate_params()\n\u001b[0;32m   1346\u001b[0m \u001b[38;5;28;01mwith\u001b[39;00m config_context(\n\u001b[0;32m   1347\u001b[0m     skip_parameter_validation\u001b[38;5;241m=\u001b[39m(\n\u001b[0;32m   1348\u001b[0m         prefer_skip_nested_validation \u001b[38;5;129;01mor\u001b[39;00m global_skip_validation\n\u001b[0;32m   1349\u001b[0m     )\n\u001b[0;32m   1350\u001b[0m ):\n\u001b[1;32m-> 1351\u001b[0m     \u001b[38;5;28;01mreturn\u001b[39;00m fit_method(estimator, \u001b[38;5;241m*\u001b[39margs, \u001b[38;5;241m*\u001b[39m\u001b[38;5;241m*\u001b[39mkwargs)\n",
      "File \u001b[1;32mc:\\Users\\WD\\.conda\\envs\\VSCEnv\\lib\\site-packages\\sklearn\\ensemble\\_stacking.py:210\u001b[0m, in \u001b[0;36m_BaseStacking.fit\u001b[1;34m(self, X, y, sample_weight)\u001b[0m\n\u001b[0;32m    205\u001b[0m             \u001b[38;5;28mself\u001b[39m\u001b[38;5;241m.\u001b[39mestimators_\u001b[38;5;241m.\u001b[39mappend(estimator)\n\u001b[0;32m    206\u001b[0m \u001b[38;5;28;01melse\u001b[39;00m:\n\u001b[0;32m    207\u001b[0m     \u001b[38;5;66;03m# Fit the base estimators on the whole training data. Those\u001b[39;00m\n\u001b[0;32m    208\u001b[0m     \u001b[38;5;66;03m# base estimators will be used in transform, predict, and\u001b[39;00m\n\u001b[0;32m    209\u001b[0m     \u001b[38;5;66;03m# predict_proba. They are exposed publicly.\u001b[39;00m\n\u001b[1;32m--> 210\u001b[0m     \u001b[38;5;28mself\u001b[39m\u001b[38;5;241m.\u001b[39mestimators_ \u001b[38;5;241m=\u001b[39m \u001b[43mParallel\u001b[49m\u001b[43m(\u001b[49m\u001b[43mn_jobs\u001b[49m\u001b[38;5;241;43m=\u001b[39;49m\u001b[38;5;28;43mself\u001b[39;49m\u001b[38;5;241;43m.\u001b[39;49m\u001b[43mn_jobs\u001b[49m\u001b[43m)\u001b[49m\u001b[43m(\u001b[49m\n\u001b[0;32m    211\u001b[0m \u001b[43m        \u001b[49m\u001b[43mdelayed\u001b[49m\u001b[43m(\u001b[49m\u001b[43m_fit_single_estimator\u001b[49m\u001b[43m)\u001b[49m\u001b[43m(\u001b[49m\u001b[43mclone\u001b[49m\u001b[43m(\u001b[49m\u001b[43mest\u001b[49m\u001b[43m)\u001b[49m\u001b[43m,\u001b[49m\u001b[43m \u001b[49m\u001b[43mX\u001b[49m\u001b[43m,\u001b[49m\u001b[43m \u001b[49m\u001b[43my\u001b[49m\u001b[43m,\u001b[49m\u001b[43m \u001b[49m\u001b[43msample_weight\u001b[49m\u001b[43m)\u001b[49m\n\u001b[0;32m    212\u001b[0m \u001b[43m        \u001b[49m\u001b[38;5;28;43;01mfor\u001b[39;49;00m\u001b[43m \u001b[49m\u001b[43mest\u001b[49m\u001b[43m \u001b[49m\u001b[38;5;129;43;01min\u001b[39;49;00m\u001b[43m \u001b[49m\u001b[43mall_estimators\u001b[49m\n\u001b[0;32m    213\u001b[0m \u001b[43m        \u001b[49m\u001b[38;5;28;43;01mif\u001b[39;49;00m\u001b[43m \u001b[49m\u001b[43mest\u001b[49m\u001b[43m \u001b[49m\u001b[38;5;241;43m!=\u001b[39;49m\u001b[43m \u001b[49m\u001b[38;5;124;43m\"\u001b[39;49m\u001b[38;5;124;43mdrop\u001b[39;49m\u001b[38;5;124;43m\"\u001b[39;49m\n\u001b[0;32m    214\u001b[0m \u001b[43m    \u001b[49m\u001b[43m)\u001b[49m\n\u001b[0;32m    216\u001b[0m \u001b[38;5;28mself\u001b[39m\u001b[38;5;241m.\u001b[39mnamed_estimators_ \u001b[38;5;241m=\u001b[39m Bunch()\n\u001b[0;32m    217\u001b[0m est_fitted_idx \u001b[38;5;241m=\u001b[39m \u001b[38;5;241m0\u001b[39m\n",
      "File \u001b[1;32mc:\\Users\\WD\\.conda\\envs\\VSCEnv\\lib\\site-packages\\sklearn\\utils\\parallel.py:67\u001b[0m, in \u001b[0;36mParallel.__call__\u001b[1;34m(self, iterable)\u001b[0m\n\u001b[0;32m     62\u001b[0m config \u001b[38;5;241m=\u001b[39m get_config()\n\u001b[0;32m     63\u001b[0m iterable_with_config \u001b[38;5;241m=\u001b[39m (\n\u001b[0;32m     64\u001b[0m     (_with_config(delayed_func, config), args, kwargs)\n\u001b[0;32m     65\u001b[0m     \u001b[38;5;28;01mfor\u001b[39;00m delayed_func, args, kwargs \u001b[38;5;129;01min\u001b[39;00m iterable\n\u001b[0;32m     66\u001b[0m )\n\u001b[1;32m---> 67\u001b[0m \u001b[38;5;28;01mreturn\u001b[39;00m \u001b[38;5;28;43msuper\u001b[39;49m\u001b[43m(\u001b[49m\u001b[43m)\u001b[49m\u001b[38;5;241;43m.\u001b[39;49m\u001b[38;5;21;43m__call__\u001b[39;49m\u001b[43m(\u001b[49m\u001b[43miterable_with_config\u001b[49m\u001b[43m)\u001b[49m\n",
      "File \u001b[1;32mc:\\Users\\WD\\.conda\\envs\\VSCEnv\\lib\\site-packages\\joblib\\parallel.py:1863\u001b[0m, in \u001b[0;36mParallel.__call__\u001b[1;34m(self, iterable)\u001b[0m\n\u001b[0;32m   1861\u001b[0m     output \u001b[38;5;241m=\u001b[39m \u001b[38;5;28mself\u001b[39m\u001b[38;5;241m.\u001b[39m_get_sequential_output(iterable)\n\u001b[0;32m   1862\u001b[0m     \u001b[38;5;28mnext\u001b[39m(output)\n\u001b[1;32m-> 1863\u001b[0m     \u001b[38;5;28;01mreturn\u001b[39;00m output \u001b[38;5;28;01mif\u001b[39;00m \u001b[38;5;28mself\u001b[39m\u001b[38;5;241m.\u001b[39mreturn_generator \u001b[38;5;28;01melse\u001b[39;00m \u001b[38;5;28;43mlist\u001b[39;49m\u001b[43m(\u001b[49m\u001b[43moutput\u001b[49m\u001b[43m)\u001b[49m\n\u001b[0;32m   1865\u001b[0m \u001b[38;5;66;03m# Let's create an ID that uniquely identifies the current call. If the\u001b[39;00m\n\u001b[0;32m   1866\u001b[0m \u001b[38;5;66;03m# call is interrupted early and that the same instance is immediately\u001b[39;00m\n\u001b[0;32m   1867\u001b[0m \u001b[38;5;66;03m# re-used, this id will be used to prevent workers that were\u001b[39;00m\n\u001b[0;32m   1868\u001b[0m \u001b[38;5;66;03m# concurrently finalizing a task from the previous call to run the\u001b[39;00m\n\u001b[0;32m   1869\u001b[0m \u001b[38;5;66;03m# callback.\u001b[39;00m\n\u001b[0;32m   1870\u001b[0m \u001b[38;5;28;01mwith\u001b[39;00m \u001b[38;5;28mself\u001b[39m\u001b[38;5;241m.\u001b[39m_lock:\n",
      "File \u001b[1;32mc:\\Users\\WD\\.conda\\envs\\VSCEnv\\lib\\site-packages\\joblib\\parallel.py:1792\u001b[0m, in \u001b[0;36mParallel._get_sequential_output\u001b[1;34m(self, iterable)\u001b[0m\n\u001b[0;32m   1790\u001b[0m \u001b[38;5;28mself\u001b[39m\u001b[38;5;241m.\u001b[39mn_dispatched_batches \u001b[38;5;241m+\u001b[39m\u001b[38;5;241m=\u001b[39m \u001b[38;5;241m1\u001b[39m\n\u001b[0;32m   1791\u001b[0m \u001b[38;5;28mself\u001b[39m\u001b[38;5;241m.\u001b[39mn_dispatched_tasks \u001b[38;5;241m+\u001b[39m\u001b[38;5;241m=\u001b[39m \u001b[38;5;241m1\u001b[39m\n\u001b[1;32m-> 1792\u001b[0m res \u001b[38;5;241m=\u001b[39m func(\u001b[38;5;241m*\u001b[39margs, \u001b[38;5;241m*\u001b[39m\u001b[38;5;241m*\u001b[39mkwargs)\n\u001b[0;32m   1793\u001b[0m \u001b[38;5;28mself\u001b[39m\u001b[38;5;241m.\u001b[39mn_completed_tasks \u001b[38;5;241m+\u001b[39m\u001b[38;5;241m=\u001b[39m \u001b[38;5;241m1\u001b[39m\n\u001b[0;32m   1794\u001b[0m \u001b[38;5;28mself\u001b[39m\u001b[38;5;241m.\u001b[39mprint_progress()\n",
      "File \u001b[1;32mc:\\Users\\WD\\.conda\\envs\\VSCEnv\\lib\\site-packages\\sklearn\\utils\\parallel.py:129\u001b[0m, in \u001b[0;36m_FuncWrapper.__call__\u001b[1;34m(self, *args, **kwargs)\u001b[0m\n\u001b[0;32m    127\u001b[0m     config \u001b[38;5;241m=\u001b[39m {}\n\u001b[0;32m    128\u001b[0m \u001b[38;5;28;01mwith\u001b[39;00m config_context(\u001b[38;5;241m*\u001b[39m\u001b[38;5;241m*\u001b[39mconfig):\n\u001b[1;32m--> 129\u001b[0m     \u001b[38;5;28;01mreturn\u001b[39;00m \u001b[38;5;28mself\u001b[39m\u001b[38;5;241m.\u001b[39mfunction(\u001b[38;5;241m*\u001b[39margs, \u001b[38;5;241m*\u001b[39m\u001b[38;5;241m*\u001b[39mkwargs)\n",
      "File \u001b[1;32mc:\\Users\\WD\\.conda\\envs\\VSCEnv\\lib\\site-packages\\sklearn\\ensemble\\_base.py:36\u001b[0m, in \u001b[0;36m_fit_single_estimator\u001b[1;34m(estimator, X, y, sample_weight, message_clsname, message)\u001b[0m\n\u001b[0;32m     34\u001b[0m \u001b[38;5;28;01melse\u001b[39;00m:\n\u001b[0;32m     35\u001b[0m     \u001b[38;5;28;01mwith\u001b[39;00m _print_elapsed_time(message_clsname, message):\n\u001b[1;32m---> 36\u001b[0m         \u001b[43mestimator\u001b[49m\u001b[38;5;241;43m.\u001b[39;49m\u001b[43mfit\u001b[49m\u001b[43m(\u001b[49m\u001b[43mX\u001b[49m\u001b[43m,\u001b[49m\u001b[43m \u001b[49m\u001b[43my\u001b[49m\u001b[43m)\u001b[49m\n\u001b[0;32m     37\u001b[0m \u001b[38;5;28;01mreturn\u001b[39;00m estimator\n",
      "File \u001b[1;32mc:\\Users\\WD\\.conda\\envs\\VSCEnv\\lib\\site-packages\\sklearn\\base.py:1351\u001b[0m, in \u001b[0;36m_fit_context.<locals>.decorator.<locals>.wrapper\u001b[1;34m(estimator, *args, **kwargs)\u001b[0m\n\u001b[0;32m   1344\u001b[0m     estimator\u001b[38;5;241m.\u001b[39m_validate_params()\n\u001b[0;32m   1346\u001b[0m \u001b[38;5;28;01mwith\u001b[39;00m config_context(\n\u001b[0;32m   1347\u001b[0m     skip_parameter_validation\u001b[38;5;241m=\u001b[39m(\n\u001b[0;32m   1348\u001b[0m         prefer_skip_nested_validation \u001b[38;5;129;01mor\u001b[39;00m global_skip_validation\n\u001b[0;32m   1349\u001b[0m     )\n\u001b[0;32m   1350\u001b[0m ):\n\u001b[1;32m-> 1351\u001b[0m     \u001b[38;5;28;01mreturn\u001b[39;00m fit_method(estimator, \u001b[38;5;241m*\u001b[39margs, \u001b[38;5;241m*\u001b[39m\u001b[38;5;241m*\u001b[39mkwargs)\n",
      "File \u001b[1;32mc:\\Users\\WD\\.conda\\envs\\VSCEnv\\lib\\site-packages\\sklearn\\ensemble\\_forest.py:489\u001b[0m, in \u001b[0;36mBaseForest.fit\u001b[1;34m(self, X, y, sample_weight)\u001b[0m\n\u001b[0;32m    478\u001b[0m trees \u001b[38;5;241m=\u001b[39m [\n\u001b[0;32m    479\u001b[0m     \u001b[38;5;28mself\u001b[39m\u001b[38;5;241m.\u001b[39m_make_estimator(append\u001b[38;5;241m=\u001b[39m\u001b[38;5;28;01mFalse\u001b[39;00m, random_state\u001b[38;5;241m=\u001b[39mrandom_state)\n\u001b[0;32m    480\u001b[0m     \u001b[38;5;28;01mfor\u001b[39;00m i \u001b[38;5;129;01min\u001b[39;00m \u001b[38;5;28mrange\u001b[39m(n_more_estimators)\n\u001b[0;32m    481\u001b[0m ]\n\u001b[0;32m    483\u001b[0m \u001b[38;5;66;03m# Parallel loop: we prefer the threading backend as the Cython code\u001b[39;00m\n\u001b[0;32m    484\u001b[0m \u001b[38;5;66;03m# for fitting the trees is internally releasing the Python GIL\u001b[39;00m\n\u001b[0;32m    485\u001b[0m \u001b[38;5;66;03m# making threading more efficient than multiprocessing in\u001b[39;00m\n\u001b[0;32m    486\u001b[0m \u001b[38;5;66;03m# that case. However, for joblib 0.12+ we respect any\u001b[39;00m\n\u001b[0;32m    487\u001b[0m \u001b[38;5;66;03m# parallel_backend contexts set at a higher level,\u001b[39;00m\n\u001b[0;32m    488\u001b[0m \u001b[38;5;66;03m# since correctness does not rely on using threads.\u001b[39;00m\n\u001b[1;32m--> 489\u001b[0m trees \u001b[38;5;241m=\u001b[39m \u001b[43mParallel\u001b[49m\u001b[43m(\u001b[49m\n\u001b[0;32m    490\u001b[0m \u001b[43m    \u001b[49m\u001b[43mn_jobs\u001b[49m\u001b[38;5;241;43m=\u001b[39;49m\u001b[38;5;28;43mself\u001b[39;49m\u001b[38;5;241;43m.\u001b[39;49m\u001b[43mn_jobs\u001b[49m\u001b[43m,\u001b[49m\n\u001b[0;32m    491\u001b[0m \u001b[43m    \u001b[49m\u001b[43mverbose\u001b[49m\u001b[38;5;241;43m=\u001b[39;49m\u001b[38;5;28;43mself\u001b[39;49m\u001b[38;5;241;43m.\u001b[39;49m\u001b[43mverbose\u001b[49m\u001b[43m,\u001b[49m\n\u001b[0;32m    492\u001b[0m \u001b[43m    \u001b[49m\u001b[43mprefer\u001b[49m\u001b[38;5;241;43m=\u001b[39;49m\u001b[38;5;124;43m\"\u001b[39;49m\u001b[38;5;124;43mthreads\u001b[39;49m\u001b[38;5;124;43m\"\u001b[39;49m\u001b[43m,\u001b[49m\n\u001b[0;32m    493\u001b[0m \u001b[43m\u001b[49m\u001b[43m)\u001b[49m\u001b[43m(\u001b[49m\n\u001b[0;32m    494\u001b[0m \u001b[43m    \u001b[49m\u001b[43mdelayed\u001b[49m\u001b[43m(\u001b[49m\u001b[43m_parallel_build_trees\u001b[49m\u001b[43m)\u001b[49m\u001b[43m(\u001b[49m\n\u001b[0;32m    495\u001b[0m \u001b[43m        \u001b[49m\u001b[43mt\u001b[49m\u001b[43m,\u001b[49m\n\u001b[0;32m    496\u001b[0m \u001b[43m        \u001b[49m\u001b[38;5;28;43mself\u001b[39;49m\u001b[38;5;241;43m.\u001b[39;49m\u001b[43mbootstrap\u001b[49m\u001b[43m,\u001b[49m\n\u001b[0;32m    497\u001b[0m \u001b[43m        \u001b[49m\u001b[43mX\u001b[49m\u001b[43m,\u001b[49m\n\u001b[0;32m    498\u001b[0m \u001b[43m        \u001b[49m\u001b[43my\u001b[49m\u001b[43m,\u001b[49m\n\u001b[0;32m    499\u001b[0m \u001b[43m        \u001b[49m\u001b[43msample_weight\u001b[49m\u001b[43m,\u001b[49m\n\u001b[0;32m    500\u001b[0m \u001b[43m        \u001b[49m\u001b[43mi\u001b[49m\u001b[43m,\u001b[49m\n\u001b[0;32m    501\u001b[0m \u001b[43m        \u001b[49m\u001b[38;5;28;43mlen\u001b[39;49m\u001b[43m(\u001b[49m\u001b[43mtrees\u001b[49m\u001b[43m)\u001b[49m\u001b[43m,\u001b[49m\n\u001b[0;32m    502\u001b[0m \u001b[43m        \u001b[49m\u001b[43mverbose\u001b[49m\u001b[38;5;241;43m=\u001b[39;49m\u001b[38;5;28;43mself\u001b[39;49m\u001b[38;5;241;43m.\u001b[39;49m\u001b[43mverbose\u001b[49m\u001b[43m,\u001b[49m\n\u001b[0;32m    503\u001b[0m \u001b[43m        \u001b[49m\u001b[43mclass_weight\u001b[49m\u001b[38;5;241;43m=\u001b[39;49m\u001b[38;5;28;43mself\u001b[39;49m\u001b[38;5;241;43m.\u001b[39;49m\u001b[43mclass_weight\u001b[49m\u001b[43m,\u001b[49m\n\u001b[0;32m    504\u001b[0m \u001b[43m        \u001b[49m\u001b[43mn_samples_bootstrap\u001b[49m\u001b[38;5;241;43m=\u001b[39;49m\u001b[43mn_samples_bootstrap\u001b[49m\u001b[43m,\u001b[49m\n\u001b[0;32m    505\u001b[0m \u001b[43m        \u001b[49m\u001b[43mmissing_values_in_feature_mask\u001b[49m\u001b[38;5;241;43m=\u001b[39;49m\u001b[43mmissing_values_in_feature_mask\u001b[49m\u001b[43m,\u001b[49m\n\u001b[0;32m    506\u001b[0m \u001b[43m    \u001b[49m\u001b[43m)\u001b[49m\n\u001b[0;32m    507\u001b[0m \u001b[43m    \u001b[49m\u001b[38;5;28;43;01mfor\u001b[39;49;00m\u001b[43m \u001b[49m\u001b[43mi\u001b[49m\u001b[43m,\u001b[49m\u001b[43m \u001b[49m\u001b[43mt\u001b[49m\u001b[43m \u001b[49m\u001b[38;5;129;43;01min\u001b[39;49;00m\u001b[43m \u001b[49m\u001b[38;5;28;43menumerate\u001b[39;49m\u001b[43m(\u001b[49m\u001b[43mtrees\u001b[49m\u001b[43m)\u001b[49m\n\u001b[0;32m    508\u001b[0m \u001b[43m\u001b[49m\u001b[43m)\u001b[49m\n\u001b[0;32m    510\u001b[0m \u001b[38;5;66;03m# Collect newly grown trees\u001b[39;00m\n\u001b[0;32m    511\u001b[0m \u001b[38;5;28mself\u001b[39m\u001b[38;5;241m.\u001b[39mestimators_\u001b[38;5;241m.\u001b[39mextend(trees)\n",
      "File \u001b[1;32mc:\\Users\\WD\\.conda\\envs\\VSCEnv\\lib\\site-packages\\sklearn\\utils\\parallel.py:67\u001b[0m, in \u001b[0;36mParallel.__call__\u001b[1;34m(self, iterable)\u001b[0m\n\u001b[0;32m     62\u001b[0m config \u001b[38;5;241m=\u001b[39m get_config()\n\u001b[0;32m     63\u001b[0m iterable_with_config \u001b[38;5;241m=\u001b[39m (\n\u001b[0;32m     64\u001b[0m     (_with_config(delayed_func, config), args, kwargs)\n\u001b[0;32m     65\u001b[0m     \u001b[38;5;28;01mfor\u001b[39;00m delayed_func, args, kwargs \u001b[38;5;129;01min\u001b[39;00m iterable\n\u001b[0;32m     66\u001b[0m )\n\u001b[1;32m---> 67\u001b[0m \u001b[38;5;28;01mreturn\u001b[39;00m \u001b[38;5;28;43msuper\u001b[39;49m\u001b[43m(\u001b[49m\u001b[43m)\u001b[49m\u001b[38;5;241;43m.\u001b[39;49m\u001b[38;5;21;43m__call__\u001b[39;49m\u001b[43m(\u001b[49m\u001b[43miterable_with_config\u001b[49m\u001b[43m)\u001b[49m\n",
      "File \u001b[1;32mc:\\Users\\WD\\.conda\\envs\\VSCEnv\\lib\\site-packages\\joblib\\parallel.py:1952\u001b[0m, in \u001b[0;36mParallel.__call__\u001b[1;34m(self, iterable)\u001b[0m\n\u001b[0;32m   1946\u001b[0m \u001b[38;5;66;03m# The first item from the output is blank, but it makes the interpreter\u001b[39;00m\n\u001b[0;32m   1947\u001b[0m \u001b[38;5;66;03m# progress until it enters the Try/Except block of the generator and\u001b[39;00m\n\u001b[0;32m   1948\u001b[0m \u001b[38;5;66;03m# reach the first `yield` statement. This starts the aynchronous\u001b[39;00m\n\u001b[0;32m   1949\u001b[0m \u001b[38;5;66;03m# dispatch of the tasks to the workers.\u001b[39;00m\n\u001b[0;32m   1950\u001b[0m \u001b[38;5;28mnext\u001b[39m(output)\n\u001b[1;32m-> 1952\u001b[0m \u001b[38;5;28;01mreturn\u001b[39;00m output \u001b[38;5;28;01mif\u001b[39;00m \u001b[38;5;28mself\u001b[39m\u001b[38;5;241m.\u001b[39mreturn_generator \u001b[38;5;28;01melse\u001b[39;00m \u001b[38;5;28;43mlist\u001b[39;49m\u001b[43m(\u001b[49m\u001b[43moutput\u001b[49m\u001b[43m)\u001b[49m\n",
      "File \u001b[1;32mc:\\Users\\WD\\.conda\\envs\\VSCEnv\\lib\\site-packages\\joblib\\parallel.py:1595\u001b[0m, in \u001b[0;36mParallel._get_outputs\u001b[1;34m(self, iterator, pre_dispatch)\u001b[0m\n\u001b[0;32m   1592\u001b[0m     \u001b[38;5;28;01myield\u001b[39;00m\n\u001b[0;32m   1594\u001b[0m     \u001b[38;5;28;01mwith\u001b[39;00m \u001b[38;5;28mself\u001b[39m\u001b[38;5;241m.\u001b[39m_backend\u001b[38;5;241m.\u001b[39mretrieval_context():\n\u001b[1;32m-> 1595\u001b[0m         \u001b[38;5;28;01myield from\u001b[39;00m \u001b[38;5;28mself\u001b[39m\u001b[38;5;241m.\u001b[39m_retrieve()\n\u001b[0;32m   1597\u001b[0m \u001b[38;5;28;01mexcept\u001b[39;00m \u001b[38;5;167;01mGeneratorExit\u001b[39;00m:\n\u001b[0;32m   1598\u001b[0m     \u001b[38;5;66;03m# The generator has been garbage collected before being fully\u001b[39;00m\n\u001b[0;32m   1599\u001b[0m     \u001b[38;5;66;03m# consumed. This aborts the remaining tasks if possible and warn\u001b[39;00m\n\u001b[0;32m   1600\u001b[0m     \u001b[38;5;66;03m# the user if necessary.\u001b[39;00m\n\u001b[0;32m   1601\u001b[0m     \u001b[38;5;28mself\u001b[39m\u001b[38;5;241m.\u001b[39m_exception \u001b[38;5;241m=\u001b[39m \u001b[38;5;28;01mTrue\u001b[39;00m\n",
      "File \u001b[1;32mc:\\Users\\WD\\.conda\\envs\\VSCEnv\\lib\\site-packages\\joblib\\parallel.py:1707\u001b[0m, in \u001b[0;36mParallel._retrieve\u001b[1;34m(self)\u001b[0m\n\u001b[0;32m   1702\u001b[0m \u001b[38;5;66;03m# If the next job is not ready for retrieval yet, we just wait for\u001b[39;00m\n\u001b[0;32m   1703\u001b[0m \u001b[38;5;66;03m# async callbacks to progress.\u001b[39;00m\n\u001b[0;32m   1704\u001b[0m \u001b[38;5;28;01mif\u001b[39;00m ((\u001b[38;5;28mlen\u001b[39m(\u001b[38;5;28mself\u001b[39m\u001b[38;5;241m.\u001b[39m_jobs) \u001b[38;5;241m==\u001b[39m \u001b[38;5;241m0\u001b[39m) \u001b[38;5;129;01mor\u001b[39;00m\n\u001b[0;32m   1705\u001b[0m     (\u001b[38;5;28mself\u001b[39m\u001b[38;5;241m.\u001b[39m_jobs[\u001b[38;5;241m0\u001b[39m]\u001b[38;5;241m.\u001b[39mget_status(\n\u001b[0;32m   1706\u001b[0m         timeout\u001b[38;5;241m=\u001b[39m\u001b[38;5;28mself\u001b[39m\u001b[38;5;241m.\u001b[39mtimeout) \u001b[38;5;241m==\u001b[39m TASK_PENDING)):\n\u001b[1;32m-> 1707\u001b[0m     \u001b[43mtime\u001b[49m\u001b[38;5;241;43m.\u001b[39;49m\u001b[43msleep\u001b[49m\u001b[43m(\u001b[49m\u001b[38;5;241;43m0.01\u001b[39;49m\u001b[43m)\u001b[49m\n\u001b[0;32m   1708\u001b[0m     \u001b[38;5;28;01mcontinue\u001b[39;00m\n\u001b[0;32m   1710\u001b[0m \u001b[38;5;66;03m# We need to be careful: the job list can be filling up as\u001b[39;00m\n\u001b[0;32m   1711\u001b[0m \u001b[38;5;66;03m# we empty it and Python list are not thread-safe by\u001b[39;00m\n\u001b[0;32m   1712\u001b[0m \u001b[38;5;66;03m# default hence the use of the lock\u001b[39;00m\n",
      "\u001b[1;31mKeyboardInterrupt\u001b[0m: "
     ]
    }
   ],
   "source": [
    "estimators = [\n",
    "    ('xgb', XGBRegressor(\n",
    "        n_estimators=180,\n",
    "        max_depth=10,\n",
    "        learning_rate=0.02405465164605032,\n",
    "        subsample=0.5628425093858869,\n",
    "        colsample_bytree=0.9771032389526358,\n",
    "        min_child_weight=9,\n",
    "        gamma=0.09999149057168405,\n",
    "        random_state=42,\n",
    "        n_jobs=-1\n",
    "    )),\n",
    "     ('rf', RandomForestRegressor(\n",
    "         random_state=42,\n",
    "         n_jobs=-1\n",
    "    ))\n",
    "\n",
    "]\n",
    "\n",
    "\n",
    "\n",
    "# definir el meta-modelo\n",
    "final_estimator = LinearRegression()\n",
    "\n",
    "# crear el modelo de stacking\n",
    "stacking_model = StackingRegressor(\n",
    "    estimators=estimators,\n",
    "    final_estimator=final_estimator,\n",
    "    cv=3\n",
    ")\n",
    "\n",
    "# entrenar el modelo de stacking\n",
    "stacking_model.fit(X_train, y_train)\n",
    "\n",
    "# Hacer predicciones con el modelo de stacking\n",
    "y_pred_stack = stacking_model.predict(X_test)\n"
   ]
  },
  {
   "cell_type": "markdown",
   "metadata": {},
   "source": [
    "Por temas de tiempo no fue posible correr el modelo sampleado completo ni mostrar resultados, pero al hacer uso de el stacking para ensamblar dos modelos para usar un meta modelo de regresion lineal final que toma en cuenta los resultados de ambos modelos suele presentar mejores resultados.\n",
    "\n",
    "\n",
    "El modelo de ensamble suele proporcionar el mejor rendimiento general al combinar las predicciones de múltiples modelos, lo que lleva a un mejor ajuste y una generalización más fuerte. Se suele observar mayor eficacia al combinar modelos con diferentes fortalezas y patrones de aprendizaje, lo que a menudo puede producir un modelo compuesto que es superior a cualquiera de sus componentes individuales.\n",
    "\n",
    "\n",
    "Lastimosamente el tiempo que toma poder ensamblar estos modelos es mas alto, lo que ocasiono que en esta ocasion no se tuviera el resultado.\n",
    "\n"
   ]
  },
  {
   "cell_type": "markdown",
   "metadata": {},
   "source": [
    "Sin embargo aunque tuviera mejor resultado podria haber sido dificil ofrecer interpretabilidad con este modelo"
   ]
  },
  {
   "cell_type": "markdown",
   "metadata": {},
   "source": [
    "# Clasificacion"
   ]
  },
  {
   "cell_type": "markdown",
   "metadata": {},
   "source": [
    "Ademas de esto tambien se intento resolver el problema por medio de un modelo de clasificacion que inicialmente tambien presentaba problemas por desbalanceo"
   ]
  },
  {
   "cell_type": "markdown",
   "metadata": {},
   "source": [
    "Haciendo pruebas antes de usar resampleo se encontro lo siguiente usando classification_report, lo cual era esperado, cuando se tienen 0 claims la precision es 0.95."
   ]
  },
  {
   "cell_type": "markdown",
   "metadata": {},
   "source": [
    "Los resultados en el caso de clasificacion se miden como se ve a continuacion:\n",
    "\n",
    "Es decir verdaderos positivos (TP), falsos positivos (FP), Falsos Negativos (FN)  y verdaderos neegativos (TN)\n"
   ]
  },
  {
   "cell_type": "markdown",
   "metadata": {},
   "source": [
    "#### Precision\n",
    "Es la proporción de predicciones positivas correctas (positivos verdaderos) entre todas las predicciones positivas realizadas por el modelo\n",
    "$$Precision=\\frac{TP}{TP+FP}=\\frac{Aciertos positivos}{Asignaciones positivas}$$"
   ]
  },
  {
   "cell_type": "markdown",
   "metadata": {},
   "source": [
    "#### Accuracy\n",
    "\n",
    " Es la proporción de predicciones correctas (tanto positivas como negativas) realizadas por el modelo sobre el total de predicciones realizadas.\n",
    "\n",
    "$$Accuracy=\\frac{TP+TN}{TP+TN+FN+FP}=\\frac{Aciertos}{n}$$\n",
    "\n",
    "##### Error\n",
    "$$Error=1-{Accuracy}$$"
   ]
  },
  {
   "cell_type": "markdown",
   "metadata": {},
   "source": [
    "                  precision    recall  f1-score   support\n",
    "\n",
    "           0       0.95      0.99      0.97    212576\n",
    "           1       0.25      0.09      0.13     10539\n",
    "           2       0.02      0.01      0.01       587\n",
    "           3       0.00      0.00      0.00        26\n",
    "           4       0.00      0.00      0.00         1\n",
    "           5       0.00      0.00      0.00         1\n",
    "           9       0.00      0.00      0.00         1\n",
    "          11       0.00      0.00      0.00         1\n",
    "          16       0.00      0.00      0.00         1\n",
    "\n",
    "\n",
    "    accuracy                           0.94    223733\n",
    "\n",
    "\n",
    "   macro avg       0.14        0.12        0.12       223733\n",
    "\n",
    "\n",
    "weighted avg       0.92       0.94         0.93     223733\n",
    "\n"
   ]
  },
  {
   "cell_type": "markdown",
   "metadata": {},
   "source": [
    "Con este modelo de random forest classifier se encuentra nuevamente un modelo random forest que podria llegar a ser muy robusto pero nuevamente es mas demorado de correr y tiene una interpretabilidad limitada. "
   ]
  },
  {
   "cell_type": "code",
   "execution_count": 29,
   "metadata": {},
   "outputs": [
    {
     "ename": "KeyboardInterrupt",
     "evalue": "",
     "output_type": "error",
     "traceback": [
      "\u001b[1;31m---------------------------------------------------------------------------\u001b[0m",
      "\u001b[1;31mKeyboardInterrupt\u001b[0m                         Traceback (most recent call last)",
      "Cell \u001b[1;32mIn[29], line 3\u001b[0m\n\u001b[0;32m      1\u001b[0m model\u001b[38;5;241m=\u001b[39mRandomForestClassifier(n_estimators\u001b[38;5;241m=\u001b[39m\u001b[38;5;241m100\u001b[39m, random_state\u001b[38;5;241m=\u001b[39m\u001b[38;5;241m0\u001b[39m, class_weight\u001b[38;5;241m=\u001b[39m\u001b[38;5;124m'\u001b[39m\u001b[38;5;124mbalanced\u001b[39m\u001b[38;5;124m'\u001b[39m)\n\u001b[1;32m----> 3\u001b[0m \u001b[43mmodel\u001b[49m\u001b[38;5;241;43m.\u001b[39;49m\u001b[43mfit\u001b[49m\u001b[43m(\u001b[49m\u001b[43mX_train\u001b[49m\u001b[43m,\u001b[49m\u001b[43m \u001b[49m\u001b[43my_train\u001b[49m\u001b[43m)\u001b[49m\n\u001b[0;32m      4\u001b[0m y_pred \u001b[38;5;241m=\u001b[39m model\u001b[38;5;241m.\u001b[39mpredict(X_test)\n\u001b[0;32m      5\u001b[0m \u001b[38;5;28mprint\u001b[39m(classification_report(y_test, y_pred))\n",
      "File \u001b[1;32mc:\\Users\\WD\\.conda\\envs\\VSCEnv\\lib\\site-packages\\sklearn\\base.py:1351\u001b[0m, in \u001b[0;36m_fit_context.<locals>.decorator.<locals>.wrapper\u001b[1;34m(estimator, *args, **kwargs)\u001b[0m\n\u001b[0;32m   1344\u001b[0m     estimator\u001b[38;5;241m.\u001b[39m_validate_params()\n\u001b[0;32m   1346\u001b[0m \u001b[38;5;28;01mwith\u001b[39;00m config_context(\n\u001b[0;32m   1347\u001b[0m     skip_parameter_validation\u001b[38;5;241m=\u001b[39m(\n\u001b[0;32m   1348\u001b[0m         prefer_skip_nested_validation \u001b[38;5;129;01mor\u001b[39;00m global_skip_validation\n\u001b[0;32m   1349\u001b[0m     )\n\u001b[0;32m   1350\u001b[0m ):\n\u001b[1;32m-> 1351\u001b[0m     \u001b[38;5;28;01mreturn\u001b[39;00m fit_method(estimator, \u001b[38;5;241m*\u001b[39margs, \u001b[38;5;241m*\u001b[39m\u001b[38;5;241m*\u001b[39mkwargs)\n",
      "File \u001b[1;32mc:\\Users\\WD\\.conda\\envs\\VSCEnv\\lib\\site-packages\\sklearn\\ensemble\\_forest.py:489\u001b[0m, in \u001b[0;36mBaseForest.fit\u001b[1;34m(self, X, y, sample_weight)\u001b[0m\n\u001b[0;32m    478\u001b[0m trees \u001b[38;5;241m=\u001b[39m [\n\u001b[0;32m    479\u001b[0m     \u001b[38;5;28mself\u001b[39m\u001b[38;5;241m.\u001b[39m_make_estimator(append\u001b[38;5;241m=\u001b[39m\u001b[38;5;28;01mFalse\u001b[39;00m, random_state\u001b[38;5;241m=\u001b[39mrandom_state)\n\u001b[0;32m    480\u001b[0m     \u001b[38;5;28;01mfor\u001b[39;00m i \u001b[38;5;129;01min\u001b[39;00m \u001b[38;5;28mrange\u001b[39m(n_more_estimators)\n\u001b[0;32m    481\u001b[0m ]\n\u001b[0;32m    483\u001b[0m \u001b[38;5;66;03m# Parallel loop: we prefer the threading backend as the Cython code\u001b[39;00m\n\u001b[0;32m    484\u001b[0m \u001b[38;5;66;03m# for fitting the trees is internally releasing the Python GIL\u001b[39;00m\n\u001b[0;32m    485\u001b[0m \u001b[38;5;66;03m# making threading more efficient than multiprocessing in\u001b[39;00m\n\u001b[0;32m    486\u001b[0m \u001b[38;5;66;03m# that case. However, for joblib 0.12+ we respect any\u001b[39;00m\n\u001b[0;32m    487\u001b[0m \u001b[38;5;66;03m# parallel_backend contexts set at a higher level,\u001b[39;00m\n\u001b[0;32m    488\u001b[0m \u001b[38;5;66;03m# since correctness does not rely on using threads.\u001b[39;00m\n\u001b[1;32m--> 489\u001b[0m trees \u001b[38;5;241m=\u001b[39m \u001b[43mParallel\u001b[49m\u001b[43m(\u001b[49m\n\u001b[0;32m    490\u001b[0m \u001b[43m    \u001b[49m\u001b[43mn_jobs\u001b[49m\u001b[38;5;241;43m=\u001b[39;49m\u001b[38;5;28;43mself\u001b[39;49m\u001b[38;5;241;43m.\u001b[39;49m\u001b[43mn_jobs\u001b[49m\u001b[43m,\u001b[49m\n\u001b[0;32m    491\u001b[0m \u001b[43m    \u001b[49m\u001b[43mverbose\u001b[49m\u001b[38;5;241;43m=\u001b[39;49m\u001b[38;5;28;43mself\u001b[39;49m\u001b[38;5;241;43m.\u001b[39;49m\u001b[43mverbose\u001b[49m\u001b[43m,\u001b[49m\n\u001b[0;32m    492\u001b[0m \u001b[43m    \u001b[49m\u001b[43mprefer\u001b[49m\u001b[38;5;241;43m=\u001b[39;49m\u001b[38;5;124;43m\"\u001b[39;49m\u001b[38;5;124;43mthreads\u001b[39;49m\u001b[38;5;124;43m\"\u001b[39;49m\u001b[43m,\u001b[49m\n\u001b[0;32m    493\u001b[0m \u001b[43m\u001b[49m\u001b[43m)\u001b[49m\u001b[43m(\u001b[49m\n\u001b[0;32m    494\u001b[0m \u001b[43m    \u001b[49m\u001b[43mdelayed\u001b[49m\u001b[43m(\u001b[49m\u001b[43m_parallel_build_trees\u001b[49m\u001b[43m)\u001b[49m\u001b[43m(\u001b[49m\n\u001b[0;32m    495\u001b[0m \u001b[43m        \u001b[49m\u001b[43mt\u001b[49m\u001b[43m,\u001b[49m\n\u001b[0;32m    496\u001b[0m \u001b[43m        \u001b[49m\u001b[38;5;28;43mself\u001b[39;49m\u001b[38;5;241;43m.\u001b[39;49m\u001b[43mbootstrap\u001b[49m\u001b[43m,\u001b[49m\n\u001b[0;32m    497\u001b[0m \u001b[43m        \u001b[49m\u001b[43mX\u001b[49m\u001b[43m,\u001b[49m\n\u001b[0;32m    498\u001b[0m \u001b[43m        \u001b[49m\u001b[43my\u001b[49m\u001b[43m,\u001b[49m\n\u001b[0;32m    499\u001b[0m \u001b[43m        \u001b[49m\u001b[43msample_weight\u001b[49m\u001b[43m,\u001b[49m\n\u001b[0;32m    500\u001b[0m \u001b[43m        \u001b[49m\u001b[43mi\u001b[49m\u001b[43m,\u001b[49m\n\u001b[0;32m    501\u001b[0m \u001b[43m        \u001b[49m\u001b[38;5;28;43mlen\u001b[39;49m\u001b[43m(\u001b[49m\u001b[43mtrees\u001b[49m\u001b[43m)\u001b[49m\u001b[43m,\u001b[49m\n\u001b[0;32m    502\u001b[0m \u001b[43m        \u001b[49m\u001b[43mverbose\u001b[49m\u001b[38;5;241;43m=\u001b[39;49m\u001b[38;5;28;43mself\u001b[39;49m\u001b[38;5;241;43m.\u001b[39;49m\u001b[43mverbose\u001b[49m\u001b[43m,\u001b[49m\n\u001b[0;32m    503\u001b[0m \u001b[43m        \u001b[49m\u001b[43mclass_weight\u001b[49m\u001b[38;5;241;43m=\u001b[39;49m\u001b[38;5;28;43mself\u001b[39;49m\u001b[38;5;241;43m.\u001b[39;49m\u001b[43mclass_weight\u001b[49m\u001b[43m,\u001b[49m\n\u001b[0;32m    504\u001b[0m \u001b[43m        \u001b[49m\u001b[43mn_samples_bootstrap\u001b[49m\u001b[38;5;241;43m=\u001b[39;49m\u001b[43mn_samples_bootstrap\u001b[49m\u001b[43m,\u001b[49m\n\u001b[0;32m    505\u001b[0m \u001b[43m        \u001b[49m\u001b[43mmissing_values_in_feature_mask\u001b[49m\u001b[38;5;241;43m=\u001b[39;49m\u001b[43mmissing_values_in_feature_mask\u001b[49m\u001b[43m,\u001b[49m\n\u001b[0;32m    506\u001b[0m \u001b[43m    \u001b[49m\u001b[43m)\u001b[49m\n\u001b[0;32m    507\u001b[0m \u001b[43m    \u001b[49m\u001b[38;5;28;43;01mfor\u001b[39;49;00m\u001b[43m \u001b[49m\u001b[43mi\u001b[49m\u001b[43m,\u001b[49m\u001b[43m \u001b[49m\u001b[43mt\u001b[49m\u001b[43m \u001b[49m\u001b[38;5;129;43;01min\u001b[39;49;00m\u001b[43m \u001b[49m\u001b[38;5;28;43menumerate\u001b[39;49m\u001b[43m(\u001b[49m\u001b[43mtrees\u001b[49m\u001b[43m)\u001b[49m\n\u001b[0;32m    508\u001b[0m \u001b[43m\u001b[49m\u001b[43m)\u001b[49m\n\u001b[0;32m    510\u001b[0m \u001b[38;5;66;03m# Collect newly grown trees\u001b[39;00m\n\u001b[0;32m    511\u001b[0m \u001b[38;5;28mself\u001b[39m\u001b[38;5;241m.\u001b[39mestimators_\u001b[38;5;241m.\u001b[39mextend(trees)\n",
      "File \u001b[1;32mc:\\Users\\WD\\.conda\\envs\\VSCEnv\\lib\\site-packages\\sklearn\\utils\\parallel.py:67\u001b[0m, in \u001b[0;36mParallel.__call__\u001b[1;34m(self, iterable)\u001b[0m\n\u001b[0;32m     62\u001b[0m config \u001b[38;5;241m=\u001b[39m get_config()\n\u001b[0;32m     63\u001b[0m iterable_with_config \u001b[38;5;241m=\u001b[39m (\n\u001b[0;32m     64\u001b[0m     (_with_config(delayed_func, config), args, kwargs)\n\u001b[0;32m     65\u001b[0m     \u001b[38;5;28;01mfor\u001b[39;00m delayed_func, args, kwargs \u001b[38;5;129;01min\u001b[39;00m iterable\n\u001b[0;32m     66\u001b[0m )\n\u001b[1;32m---> 67\u001b[0m \u001b[38;5;28;01mreturn\u001b[39;00m \u001b[38;5;28;43msuper\u001b[39;49m\u001b[43m(\u001b[49m\u001b[43m)\u001b[49m\u001b[38;5;241;43m.\u001b[39;49m\u001b[38;5;21;43m__call__\u001b[39;49m\u001b[43m(\u001b[49m\u001b[43miterable_with_config\u001b[49m\u001b[43m)\u001b[49m\n",
      "File \u001b[1;32mc:\\Users\\WD\\.conda\\envs\\VSCEnv\\lib\\site-packages\\joblib\\parallel.py:1863\u001b[0m, in \u001b[0;36mParallel.__call__\u001b[1;34m(self, iterable)\u001b[0m\n\u001b[0;32m   1861\u001b[0m     output \u001b[38;5;241m=\u001b[39m \u001b[38;5;28mself\u001b[39m\u001b[38;5;241m.\u001b[39m_get_sequential_output(iterable)\n\u001b[0;32m   1862\u001b[0m     \u001b[38;5;28mnext\u001b[39m(output)\n\u001b[1;32m-> 1863\u001b[0m     \u001b[38;5;28;01mreturn\u001b[39;00m output \u001b[38;5;28;01mif\u001b[39;00m \u001b[38;5;28mself\u001b[39m\u001b[38;5;241m.\u001b[39mreturn_generator \u001b[38;5;28;01melse\u001b[39;00m \u001b[38;5;28;43mlist\u001b[39;49m\u001b[43m(\u001b[49m\u001b[43moutput\u001b[49m\u001b[43m)\u001b[49m\n\u001b[0;32m   1865\u001b[0m \u001b[38;5;66;03m# Let's create an ID that uniquely identifies the current call. If the\u001b[39;00m\n\u001b[0;32m   1866\u001b[0m \u001b[38;5;66;03m# call is interrupted early and that the same instance is immediately\u001b[39;00m\n\u001b[0;32m   1867\u001b[0m \u001b[38;5;66;03m# re-used, this id will be used to prevent workers that were\u001b[39;00m\n\u001b[0;32m   1868\u001b[0m \u001b[38;5;66;03m# concurrently finalizing a task from the previous call to run the\u001b[39;00m\n\u001b[0;32m   1869\u001b[0m \u001b[38;5;66;03m# callback.\u001b[39;00m\n\u001b[0;32m   1870\u001b[0m \u001b[38;5;28;01mwith\u001b[39;00m \u001b[38;5;28mself\u001b[39m\u001b[38;5;241m.\u001b[39m_lock:\n",
      "File \u001b[1;32mc:\\Users\\WD\\.conda\\envs\\VSCEnv\\lib\\site-packages\\joblib\\parallel.py:1792\u001b[0m, in \u001b[0;36mParallel._get_sequential_output\u001b[1;34m(self, iterable)\u001b[0m\n\u001b[0;32m   1790\u001b[0m \u001b[38;5;28mself\u001b[39m\u001b[38;5;241m.\u001b[39mn_dispatched_batches \u001b[38;5;241m+\u001b[39m\u001b[38;5;241m=\u001b[39m \u001b[38;5;241m1\u001b[39m\n\u001b[0;32m   1791\u001b[0m \u001b[38;5;28mself\u001b[39m\u001b[38;5;241m.\u001b[39mn_dispatched_tasks \u001b[38;5;241m+\u001b[39m\u001b[38;5;241m=\u001b[39m \u001b[38;5;241m1\u001b[39m\n\u001b[1;32m-> 1792\u001b[0m res \u001b[38;5;241m=\u001b[39m func(\u001b[38;5;241m*\u001b[39margs, \u001b[38;5;241m*\u001b[39m\u001b[38;5;241m*\u001b[39mkwargs)\n\u001b[0;32m   1793\u001b[0m \u001b[38;5;28mself\u001b[39m\u001b[38;5;241m.\u001b[39mn_completed_tasks \u001b[38;5;241m+\u001b[39m\u001b[38;5;241m=\u001b[39m \u001b[38;5;241m1\u001b[39m\n\u001b[0;32m   1794\u001b[0m \u001b[38;5;28mself\u001b[39m\u001b[38;5;241m.\u001b[39mprint_progress()\n",
      "File \u001b[1;32mc:\\Users\\WD\\.conda\\envs\\VSCEnv\\lib\\site-packages\\sklearn\\utils\\parallel.py:129\u001b[0m, in \u001b[0;36m_FuncWrapper.__call__\u001b[1;34m(self, *args, **kwargs)\u001b[0m\n\u001b[0;32m    127\u001b[0m     config \u001b[38;5;241m=\u001b[39m {}\n\u001b[0;32m    128\u001b[0m \u001b[38;5;28;01mwith\u001b[39;00m config_context(\u001b[38;5;241m*\u001b[39m\u001b[38;5;241m*\u001b[39mconfig):\n\u001b[1;32m--> 129\u001b[0m     \u001b[38;5;28;01mreturn\u001b[39;00m \u001b[38;5;28mself\u001b[39m\u001b[38;5;241m.\u001b[39mfunction(\u001b[38;5;241m*\u001b[39margs, \u001b[38;5;241m*\u001b[39m\u001b[38;5;241m*\u001b[39mkwargs)\n",
      "File \u001b[1;32mc:\\Users\\WD\\.conda\\envs\\VSCEnv\\lib\\site-packages\\sklearn\\ensemble\\_forest.py:192\u001b[0m, in \u001b[0;36m_parallel_build_trees\u001b[1;34m(tree, bootstrap, X, y, sample_weight, tree_idx, n_trees, verbose, class_weight, n_samples_bootstrap, missing_values_in_feature_mask)\u001b[0m\n\u001b[0;32m    189\u001b[0m     \u001b[38;5;28;01melif\u001b[39;00m class_weight \u001b[38;5;241m==\u001b[39m \u001b[38;5;124m\"\u001b[39m\u001b[38;5;124mbalanced_subsample\u001b[39m\u001b[38;5;124m\"\u001b[39m:\n\u001b[0;32m    190\u001b[0m         curr_sample_weight \u001b[38;5;241m*\u001b[39m\u001b[38;5;241m=\u001b[39m compute_sample_weight(\u001b[38;5;124m\"\u001b[39m\u001b[38;5;124mbalanced\u001b[39m\u001b[38;5;124m\"\u001b[39m, y, indices\u001b[38;5;241m=\u001b[39mindices)\n\u001b[1;32m--> 192\u001b[0m     \u001b[43mtree\u001b[49m\u001b[38;5;241;43m.\u001b[39;49m\u001b[43m_fit\u001b[49m\u001b[43m(\u001b[49m\n\u001b[0;32m    193\u001b[0m \u001b[43m        \u001b[49m\u001b[43mX\u001b[49m\u001b[43m,\u001b[49m\n\u001b[0;32m    194\u001b[0m \u001b[43m        \u001b[49m\u001b[43my\u001b[49m\u001b[43m,\u001b[49m\n\u001b[0;32m    195\u001b[0m \u001b[43m        \u001b[49m\u001b[43msample_weight\u001b[49m\u001b[38;5;241;43m=\u001b[39;49m\u001b[43mcurr_sample_weight\u001b[49m\u001b[43m,\u001b[49m\n\u001b[0;32m    196\u001b[0m \u001b[43m        \u001b[49m\u001b[43mcheck_input\u001b[49m\u001b[38;5;241;43m=\u001b[39;49m\u001b[38;5;28;43;01mFalse\u001b[39;49;00m\u001b[43m,\u001b[49m\n\u001b[0;32m    197\u001b[0m \u001b[43m        \u001b[49m\u001b[43mmissing_values_in_feature_mask\u001b[49m\u001b[38;5;241;43m=\u001b[39;49m\u001b[43mmissing_values_in_feature_mask\u001b[49m\u001b[43m,\u001b[49m\n\u001b[0;32m    198\u001b[0m \u001b[43m    \u001b[49m\u001b[43m)\u001b[49m\n\u001b[0;32m    199\u001b[0m \u001b[38;5;28;01melse\u001b[39;00m:\n\u001b[0;32m    200\u001b[0m     tree\u001b[38;5;241m.\u001b[39m_fit(\n\u001b[0;32m    201\u001b[0m         X,\n\u001b[0;32m    202\u001b[0m         y,\n\u001b[1;32m   (...)\u001b[0m\n\u001b[0;32m    205\u001b[0m         missing_values_in_feature_mask\u001b[38;5;241m=\u001b[39mmissing_values_in_feature_mask,\n\u001b[0;32m    206\u001b[0m     )\n",
      "File \u001b[1;32mc:\\Users\\WD\\.conda\\envs\\VSCEnv\\lib\\site-packages\\sklearn\\tree\\_classes.py:472\u001b[0m, in \u001b[0;36mBaseDecisionTree._fit\u001b[1;34m(self, X, y, sample_weight, check_input, missing_values_in_feature_mask)\u001b[0m\n\u001b[0;32m    461\u001b[0m \u001b[38;5;28;01melse\u001b[39;00m:\n\u001b[0;32m    462\u001b[0m     builder \u001b[38;5;241m=\u001b[39m BestFirstTreeBuilder(\n\u001b[0;32m    463\u001b[0m         splitter,\n\u001b[0;32m    464\u001b[0m         min_samples_split,\n\u001b[1;32m   (...)\u001b[0m\n\u001b[0;32m    469\u001b[0m         \u001b[38;5;28mself\u001b[39m\u001b[38;5;241m.\u001b[39mmin_impurity_decrease,\n\u001b[0;32m    470\u001b[0m     )\n\u001b[1;32m--> 472\u001b[0m \u001b[43mbuilder\u001b[49m\u001b[38;5;241;43m.\u001b[39;49m\u001b[43mbuild\u001b[49m\u001b[43m(\u001b[49m\u001b[38;5;28;43mself\u001b[39;49m\u001b[38;5;241;43m.\u001b[39;49m\u001b[43mtree_\u001b[49m\u001b[43m,\u001b[49m\u001b[43m \u001b[49m\u001b[43mX\u001b[49m\u001b[43m,\u001b[49m\u001b[43m \u001b[49m\u001b[43my\u001b[49m\u001b[43m,\u001b[49m\u001b[43m \u001b[49m\u001b[43msample_weight\u001b[49m\u001b[43m,\u001b[49m\u001b[43m \u001b[49m\u001b[43mmissing_values_in_feature_mask\u001b[49m\u001b[43m)\u001b[49m\n\u001b[0;32m    474\u001b[0m \u001b[38;5;28;01mif\u001b[39;00m \u001b[38;5;28mself\u001b[39m\u001b[38;5;241m.\u001b[39mn_outputs_ \u001b[38;5;241m==\u001b[39m \u001b[38;5;241m1\u001b[39m \u001b[38;5;129;01mand\u001b[39;00m is_classifier(\u001b[38;5;28mself\u001b[39m):\n\u001b[0;32m    475\u001b[0m     \u001b[38;5;28mself\u001b[39m\u001b[38;5;241m.\u001b[39mn_classes_ \u001b[38;5;241m=\u001b[39m \u001b[38;5;28mself\u001b[39m\u001b[38;5;241m.\u001b[39mn_classes_[\u001b[38;5;241m0\u001b[39m]\n",
      "\u001b[1;31mKeyboardInterrupt\u001b[0m: "
     ]
    }
   ],
   "source": [
    "#Modelo con balanceo de muestras\n",
    "model=RandomForestClassifier(n_estimators=100, random_state=0, class_weight='balanced')\n",
    "\n",
    "model.fit(X_train, y_train)\n",
    "y_pred = model.predict(X_test)\n",
    "print(classification_report(y_test, y_pred))"
   ]
  },
  {
   "cell_type": "code",
   "execution_count": 25,
   "metadata": {},
   "outputs": [
    {
     "ename": "KeyboardInterrupt",
     "evalue": "",
     "output_type": "error",
     "traceback": [
      "\u001b[1;31m---------------------------------------------------------------------------\u001b[0m",
      "\u001b[1;31mKeyboardInterrupt\u001b[0m                         Traceback (most recent call last)",
      "Cell \u001b[1;32mIn[25], line 42\u001b[0m\n\u001b[0;32m     39\u001b[0m X_train, X_test, y_train, y_test \u001b[38;5;241m=\u001b[39m train_test_split(X, y, test_size\u001b[38;5;241m=\u001b[39m\u001b[38;5;241m0.33\u001b[39m, random_state\u001b[38;5;241m=\u001b[39m\u001b[38;5;241m0\u001b[39m)\n\u001b[0;32m     41\u001b[0m \u001b[38;5;66;03m# Entrenamiento y evaluación\u001b[39;00m\n\u001b[1;32m---> 42\u001b[0m \u001b[43mmodel\u001b[49m\u001b[38;5;241;43m.\u001b[39;49m\u001b[43mfit\u001b[49m\u001b[43m(\u001b[49m\u001b[43mX_train\u001b[49m\u001b[43m,\u001b[49m\u001b[43m \u001b[49m\u001b[43my_train\u001b[49m\u001b[43m)\u001b[49m\n\u001b[0;32m     43\u001b[0m y_pred \u001b[38;5;241m=\u001b[39m model\u001b[38;5;241m.\u001b[39mpredict(X_test)\n\u001b[0;32m     44\u001b[0m \u001b[38;5;28mprint\u001b[39m(classification_report(y_test, y_pred))\n",
      "File \u001b[1;32mc:\\Users\\WD\\.conda\\envs\\VSCEnv\\lib\\site-packages\\sklearn\\base.py:1351\u001b[0m, in \u001b[0;36m_fit_context.<locals>.decorator.<locals>.wrapper\u001b[1;34m(estimator, *args, **kwargs)\u001b[0m\n\u001b[0;32m   1344\u001b[0m     estimator\u001b[38;5;241m.\u001b[39m_validate_params()\n\u001b[0;32m   1346\u001b[0m \u001b[38;5;28;01mwith\u001b[39;00m config_context(\n\u001b[0;32m   1347\u001b[0m     skip_parameter_validation\u001b[38;5;241m=\u001b[39m(\n\u001b[0;32m   1348\u001b[0m         prefer_skip_nested_validation \u001b[38;5;129;01mor\u001b[39;00m global_skip_validation\n\u001b[0;32m   1349\u001b[0m     )\n\u001b[0;32m   1350\u001b[0m ):\n\u001b[1;32m-> 1351\u001b[0m     \u001b[38;5;28;01mreturn\u001b[39;00m fit_method(estimator, \u001b[38;5;241m*\u001b[39margs, \u001b[38;5;241m*\u001b[39m\u001b[38;5;241m*\u001b[39mkwargs)\n",
      "File \u001b[1;32mc:\\Users\\WD\\.conda\\envs\\VSCEnv\\lib\\site-packages\\imblearn\\pipeline.py:326\u001b[0m, in \u001b[0;36mPipeline.fit\u001b[1;34m(self, X, y, **params)\u001b[0m\n\u001b[0;32m    324\u001b[0m     \u001b[38;5;28;01mif\u001b[39;00m \u001b[38;5;28mself\u001b[39m\u001b[38;5;241m.\u001b[39m_final_estimator \u001b[38;5;241m!=\u001b[39m \u001b[38;5;124m\"\u001b[39m\u001b[38;5;124mpassthrough\u001b[39m\u001b[38;5;124m\"\u001b[39m:\n\u001b[0;32m    325\u001b[0m         last_step_params \u001b[38;5;241m=\u001b[39m routed_params[\u001b[38;5;28mself\u001b[39m\u001b[38;5;241m.\u001b[39msteps[\u001b[38;5;241m-\u001b[39m\u001b[38;5;241m1\u001b[39m][\u001b[38;5;241m0\u001b[39m]]\n\u001b[1;32m--> 326\u001b[0m         \u001b[38;5;28mself\u001b[39m\u001b[38;5;241m.\u001b[39m_final_estimator\u001b[38;5;241m.\u001b[39mfit(Xt, yt, \u001b[38;5;241m*\u001b[39m\u001b[38;5;241m*\u001b[39mlast_step_params[\u001b[38;5;124m\"\u001b[39m\u001b[38;5;124mfit\u001b[39m\u001b[38;5;124m\"\u001b[39m])\n\u001b[0;32m    327\u001b[0m \u001b[38;5;28;01mreturn\u001b[39;00m \u001b[38;5;28mself\u001b[39m\n",
      "File \u001b[1;32mc:\\Users\\WD\\.conda\\envs\\VSCEnv\\lib\\site-packages\\sklearn\\base.py:1351\u001b[0m, in \u001b[0;36m_fit_context.<locals>.decorator.<locals>.wrapper\u001b[1;34m(estimator, *args, **kwargs)\u001b[0m\n\u001b[0;32m   1344\u001b[0m     estimator\u001b[38;5;241m.\u001b[39m_validate_params()\n\u001b[0;32m   1346\u001b[0m \u001b[38;5;28;01mwith\u001b[39;00m config_context(\n\u001b[0;32m   1347\u001b[0m     skip_parameter_validation\u001b[38;5;241m=\u001b[39m(\n\u001b[0;32m   1348\u001b[0m         prefer_skip_nested_validation \u001b[38;5;129;01mor\u001b[39;00m global_skip_validation\n\u001b[0;32m   1349\u001b[0m     )\n\u001b[0;32m   1350\u001b[0m ):\n\u001b[1;32m-> 1351\u001b[0m     \u001b[38;5;28;01mreturn\u001b[39;00m fit_method(estimator, \u001b[38;5;241m*\u001b[39margs, \u001b[38;5;241m*\u001b[39m\u001b[38;5;241m*\u001b[39mkwargs)\n",
      "File \u001b[1;32mc:\\Users\\WD\\.conda\\envs\\VSCEnv\\lib\\site-packages\\sklearn\\ensemble\\_forest.py:489\u001b[0m, in \u001b[0;36mBaseForest.fit\u001b[1;34m(self, X, y, sample_weight)\u001b[0m\n\u001b[0;32m    478\u001b[0m trees \u001b[38;5;241m=\u001b[39m [\n\u001b[0;32m    479\u001b[0m     \u001b[38;5;28mself\u001b[39m\u001b[38;5;241m.\u001b[39m_make_estimator(append\u001b[38;5;241m=\u001b[39m\u001b[38;5;28;01mFalse\u001b[39;00m, random_state\u001b[38;5;241m=\u001b[39mrandom_state)\n\u001b[0;32m    480\u001b[0m     \u001b[38;5;28;01mfor\u001b[39;00m i \u001b[38;5;129;01min\u001b[39;00m \u001b[38;5;28mrange\u001b[39m(n_more_estimators)\n\u001b[0;32m    481\u001b[0m ]\n\u001b[0;32m    483\u001b[0m \u001b[38;5;66;03m# Parallel loop: we prefer the threading backend as the Cython code\u001b[39;00m\n\u001b[0;32m    484\u001b[0m \u001b[38;5;66;03m# for fitting the trees is internally releasing the Python GIL\u001b[39;00m\n\u001b[0;32m    485\u001b[0m \u001b[38;5;66;03m# making threading more efficient than multiprocessing in\u001b[39;00m\n\u001b[0;32m    486\u001b[0m \u001b[38;5;66;03m# that case. However, for joblib 0.12+ we respect any\u001b[39;00m\n\u001b[0;32m    487\u001b[0m \u001b[38;5;66;03m# parallel_backend contexts set at a higher level,\u001b[39;00m\n\u001b[0;32m    488\u001b[0m \u001b[38;5;66;03m# since correctness does not rely on using threads.\u001b[39;00m\n\u001b[1;32m--> 489\u001b[0m trees \u001b[38;5;241m=\u001b[39m \u001b[43mParallel\u001b[49m\u001b[43m(\u001b[49m\n\u001b[0;32m    490\u001b[0m \u001b[43m    \u001b[49m\u001b[43mn_jobs\u001b[49m\u001b[38;5;241;43m=\u001b[39;49m\u001b[38;5;28;43mself\u001b[39;49m\u001b[38;5;241;43m.\u001b[39;49m\u001b[43mn_jobs\u001b[49m\u001b[43m,\u001b[49m\n\u001b[0;32m    491\u001b[0m \u001b[43m    \u001b[49m\u001b[43mverbose\u001b[49m\u001b[38;5;241;43m=\u001b[39;49m\u001b[38;5;28;43mself\u001b[39;49m\u001b[38;5;241;43m.\u001b[39;49m\u001b[43mverbose\u001b[49m\u001b[43m,\u001b[49m\n\u001b[0;32m    492\u001b[0m \u001b[43m    \u001b[49m\u001b[43mprefer\u001b[49m\u001b[38;5;241;43m=\u001b[39;49m\u001b[38;5;124;43m\"\u001b[39;49m\u001b[38;5;124;43mthreads\u001b[39;49m\u001b[38;5;124;43m\"\u001b[39;49m\u001b[43m,\u001b[49m\n\u001b[0;32m    493\u001b[0m \u001b[43m\u001b[49m\u001b[43m)\u001b[49m\u001b[43m(\u001b[49m\n\u001b[0;32m    494\u001b[0m \u001b[43m    \u001b[49m\u001b[43mdelayed\u001b[49m\u001b[43m(\u001b[49m\u001b[43m_parallel_build_trees\u001b[49m\u001b[43m)\u001b[49m\u001b[43m(\u001b[49m\n\u001b[0;32m    495\u001b[0m \u001b[43m        \u001b[49m\u001b[43mt\u001b[49m\u001b[43m,\u001b[49m\n\u001b[0;32m    496\u001b[0m \u001b[43m        \u001b[49m\u001b[38;5;28;43mself\u001b[39;49m\u001b[38;5;241;43m.\u001b[39;49m\u001b[43mbootstrap\u001b[49m\u001b[43m,\u001b[49m\n\u001b[0;32m    497\u001b[0m \u001b[43m        \u001b[49m\u001b[43mX\u001b[49m\u001b[43m,\u001b[49m\n\u001b[0;32m    498\u001b[0m \u001b[43m        \u001b[49m\u001b[43my\u001b[49m\u001b[43m,\u001b[49m\n\u001b[0;32m    499\u001b[0m \u001b[43m        \u001b[49m\u001b[43msample_weight\u001b[49m\u001b[43m,\u001b[49m\n\u001b[0;32m    500\u001b[0m \u001b[43m        \u001b[49m\u001b[43mi\u001b[49m\u001b[43m,\u001b[49m\n\u001b[0;32m    501\u001b[0m \u001b[43m        \u001b[49m\u001b[38;5;28;43mlen\u001b[39;49m\u001b[43m(\u001b[49m\u001b[43mtrees\u001b[49m\u001b[43m)\u001b[49m\u001b[43m,\u001b[49m\n\u001b[0;32m    502\u001b[0m \u001b[43m        \u001b[49m\u001b[43mverbose\u001b[49m\u001b[38;5;241;43m=\u001b[39;49m\u001b[38;5;28;43mself\u001b[39;49m\u001b[38;5;241;43m.\u001b[39;49m\u001b[43mverbose\u001b[49m\u001b[43m,\u001b[49m\n\u001b[0;32m    503\u001b[0m \u001b[43m        \u001b[49m\u001b[43mclass_weight\u001b[49m\u001b[38;5;241;43m=\u001b[39;49m\u001b[38;5;28;43mself\u001b[39;49m\u001b[38;5;241;43m.\u001b[39;49m\u001b[43mclass_weight\u001b[49m\u001b[43m,\u001b[49m\n\u001b[0;32m    504\u001b[0m \u001b[43m        \u001b[49m\u001b[43mn_samples_bootstrap\u001b[49m\u001b[38;5;241;43m=\u001b[39;49m\u001b[43mn_samples_bootstrap\u001b[49m\u001b[43m,\u001b[49m\n\u001b[0;32m    505\u001b[0m \u001b[43m        \u001b[49m\u001b[43mmissing_values_in_feature_mask\u001b[49m\u001b[38;5;241;43m=\u001b[39;49m\u001b[43mmissing_values_in_feature_mask\u001b[49m\u001b[43m,\u001b[49m\n\u001b[0;32m    506\u001b[0m \u001b[43m    \u001b[49m\u001b[43m)\u001b[49m\n\u001b[0;32m    507\u001b[0m \u001b[43m    \u001b[49m\u001b[38;5;28;43;01mfor\u001b[39;49;00m\u001b[43m \u001b[49m\u001b[43mi\u001b[49m\u001b[43m,\u001b[49m\u001b[43m \u001b[49m\u001b[43mt\u001b[49m\u001b[43m \u001b[49m\u001b[38;5;129;43;01min\u001b[39;49;00m\u001b[43m \u001b[49m\u001b[38;5;28;43menumerate\u001b[39;49m\u001b[43m(\u001b[49m\u001b[43mtrees\u001b[49m\u001b[43m)\u001b[49m\n\u001b[0;32m    508\u001b[0m \u001b[43m\u001b[49m\u001b[43m)\u001b[49m\n\u001b[0;32m    510\u001b[0m \u001b[38;5;66;03m# Collect newly grown trees\u001b[39;00m\n\u001b[0;32m    511\u001b[0m \u001b[38;5;28mself\u001b[39m\u001b[38;5;241m.\u001b[39mestimators_\u001b[38;5;241m.\u001b[39mextend(trees)\n",
      "File \u001b[1;32mc:\\Users\\WD\\.conda\\envs\\VSCEnv\\lib\\site-packages\\sklearn\\utils\\parallel.py:67\u001b[0m, in \u001b[0;36mParallel.__call__\u001b[1;34m(self, iterable)\u001b[0m\n\u001b[0;32m     62\u001b[0m config \u001b[38;5;241m=\u001b[39m get_config()\n\u001b[0;32m     63\u001b[0m iterable_with_config \u001b[38;5;241m=\u001b[39m (\n\u001b[0;32m     64\u001b[0m     (_with_config(delayed_func, config), args, kwargs)\n\u001b[0;32m     65\u001b[0m     \u001b[38;5;28;01mfor\u001b[39;00m delayed_func, args, kwargs \u001b[38;5;129;01min\u001b[39;00m iterable\n\u001b[0;32m     66\u001b[0m )\n\u001b[1;32m---> 67\u001b[0m \u001b[38;5;28;01mreturn\u001b[39;00m \u001b[38;5;28;43msuper\u001b[39;49m\u001b[43m(\u001b[49m\u001b[43m)\u001b[49m\u001b[38;5;241;43m.\u001b[39;49m\u001b[38;5;21;43m__call__\u001b[39;49m\u001b[43m(\u001b[49m\u001b[43miterable_with_config\u001b[49m\u001b[43m)\u001b[49m\n",
      "File \u001b[1;32mc:\\Users\\WD\\.conda\\envs\\VSCEnv\\lib\\site-packages\\joblib\\parallel.py:1863\u001b[0m, in \u001b[0;36mParallel.__call__\u001b[1;34m(self, iterable)\u001b[0m\n\u001b[0;32m   1861\u001b[0m     output \u001b[38;5;241m=\u001b[39m \u001b[38;5;28mself\u001b[39m\u001b[38;5;241m.\u001b[39m_get_sequential_output(iterable)\n\u001b[0;32m   1862\u001b[0m     \u001b[38;5;28mnext\u001b[39m(output)\n\u001b[1;32m-> 1863\u001b[0m     \u001b[38;5;28;01mreturn\u001b[39;00m output \u001b[38;5;28;01mif\u001b[39;00m \u001b[38;5;28mself\u001b[39m\u001b[38;5;241m.\u001b[39mreturn_generator \u001b[38;5;28;01melse\u001b[39;00m \u001b[38;5;28;43mlist\u001b[39;49m\u001b[43m(\u001b[49m\u001b[43moutput\u001b[49m\u001b[43m)\u001b[49m\n\u001b[0;32m   1865\u001b[0m \u001b[38;5;66;03m# Let's create an ID that uniquely identifies the current call. If the\u001b[39;00m\n\u001b[0;32m   1866\u001b[0m \u001b[38;5;66;03m# call is interrupted early and that the same instance is immediately\u001b[39;00m\n\u001b[0;32m   1867\u001b[0m \u001b[38;5;66;03m# re-used, this id will be used to prevent workers that were\u001b[39;00m\n\u001b[0;32m   1868\u001b[0m \u001b[38;5;66;03m# concurrently finalizing a task from the previous call to run the\u001b[39;00m\n\u001b[0;32m   1869\u001b[0m \u001b[38;5;66;03m# callback.\u001b[39;00m\n\u001b[0;32m   1870\u001b[0m \u001b[38;5;28;01mwith\u001b[39;00m \u001b[38;5;28mself\u001b[39m\u001b[38;5;241m.\u001b[39m_lock:\n",
      "File \u001b[1;32mc:\\Users\\WD\\.conda\\envs\\VSCEnv\\lib\\site-packages\\joblib\\parallel.py:1792\u001b[0m, in \u001b[0;36mParallel._get_sequential_output\u001b[1;34m(self, iterable)\u001b[0m\n\u001b[0;32m   1790\u001b[0m \u001b[38;5;28mself\u001b[39m\u001b[38;5;241m.\u001b[39mn_dispatched_batches \u001b[38;5;241m+\u001b[39m\u001b[38;5;241m=\u001b[39m \u001b[38;5;241m1\u001b[39m\n\u001b[0;32m   1791\u001b[0m \u001b[38;5;28mself\u001b[39m\u001b[38;5;241m.\u001b[39mn_dispatched_tasks \u001b[38;5;241m+\u001b[39m\u001b[38;5;241m=\u001b[39m \u001b[38;5;241m1\u001b[39m\n\u001b[1;32m-> 1792\u001b[0m res \u001b[38;5;241m=\u001b[39m func(\u001b[38;5;241m*\u001b[39margs, \u001b[38;5;241m*\u001b[39m\u001b[38;5;241m*\u001b[39mkwargs)\n\u001b[0;32m   1793\u001b[0m \u001b[38;5;28mself\u001b[39m\u001b[38;5;241m.\u001b[39mn_completed_tasks \u001b[38;5;241m+\u001b[39m\u001b[38;5;241m=\u001b[39m \u001b[38;5;241m1\u001b[39m\n\u001b[0;32m   1794\u001b[0m \u001b[38;5;28mself\u001b[39m\u001b[38;5;241m.\u001b[39mprint_progress()\n",
      "File \u001b[1;32mc:\\Users\\WD\\.conda\\envs\\VSCEnv\\lib\\site-packages\\sklearn\\utils\\parallel.py:129\u001b[0m, in \u001b[0;36m_FuncWrapper.__call__\u001b[1;34m(self, *args, **kwargs)\u001b[0m\n\u001b[0;32m    127\u001b[0m     config \u001b[38;5;241m=\u001b[39m {}\n\u001b[0;32m    128\u001b[0m \u001b[38;5;28;01mwith\u001b[39;00m config_context(\u001b[38;5;241m*\u001b[39m\u001b[38;5;241m*\u001b[39mconfig):\n\u001b[1;32m--> 129\u001b[0m     \u001b[38;5;28;01mreturn\u001b[39;00m \u001b[38;5;28mself\u001b[39m\u001b[38;5;241m.\u001b[39mfunction(\u001b[38;5;241m*\u001b[39margs, \u001b[38;5;241m*\u001b[39m\u001b[38;5;241m*\u001b[39mkwargs)\n",
      "File \u001b[1;32mc:\\Users\\WD\\.conda\\envs\\VSCEnv\\lib\\site-packages\\sklearn\\ensemble\\_forest.py:192\u001b[0m, in \u001b[0;36m_parallel_build_trees\u001b[1;34m(tree, bootstrap, X, y, sample_weight, tree_idx, n_trees, verbose, class_weight, n_samples_bootstrap, missing_values_in_feature_mask)\u001b[0m\n\u001b[0;32m    189\u001b[0m     \u001b[38;5;28;01melif\u001b[39;00m class_weight \u001b[38;5;241m==\u001b[39m \u001b[38;5;124m\"\u001b[39m\u001b[38;5;124mbalanced_subsample\u001b[39m\u001b[38;5;124m\"\u001b[39m:\n\u001b[0;32m    190\u001b[0m         curr_sample_weight \u001b[38;5;241m*\u001b[39m\u001b[38;5;241m=\u001b[39m compute_sample_weight(\u001b[38;5;124m\"\u001b[39m\u001b[38;5;124mbalanced\u001b[39m\u001b[38;5;124m\"\u001b[39m, y, indices\u001b[38;5;241m=\u001b[39mindices)\n\u001b[1;32m--> 192\u001b[0m     \u001b[43mtree\u001b[49m\u001b[38;5;241;43m.\u001b[39;49m\u001b[43m_fit\u001b[49m\u001b[43m(\u001b[49m\n\u001b[0;32m    193\u001b[0m \u001b[43m        \u001b[49m\u001b[43mX\u001b[49m\u001b[43m,\u001b[49m\n\u001b[0;32m    194\u001b[0m \u001b[43m        \u001b[49m\u001b[43my\u001b[49m\u001b[43m,\u001b[49m\n\u001b[0;32m    195\u001b[0m \u001b[43m        \u001b[49m\u001b[43msample_weight\u001b[49m\u001b[38;5;241;43m=\u001b[39;49m\u001b[43mcurr_sample_weight\u001b[49m\u001b[43m,\u001b[49m\n\u001b[0;32m    196\u001b[0m \u001b[43m        \u001b[49m\u001b[43mcheck_input\u001b[49m\u001b[38;5;241;43m=\u001b[39;49m\u001b[38;5;28;43;01mFalse\u001b[39;49;00m\u001b[43m,\u001b[49m\n\u001b[0;32m    197\u001b[0m \u001b[43m        \u001b[49m\u001b[43mmissing_values_in_feature_mask\u001b[49m\u001b[38;5;241;43m=\u001b[39;49m\u001b[43mmissing_values_in_feature_mask\u001b[49m\u001b[43m,\u001b[49m\n\u001b[0;32m    198\u001b[0m \u001b[43m    \u001b[49m\u001b[43m)\u001b[49m\n\u001b[0;32m    199\u001b[0m \u001b[38;5;28;01melse\u001b[39;00m:\n\u001b[0;32m    200\u001b[0m     tree\u001b[38;5;241m.\u001b[39m_fit(\n\u001b[0;32m    201\u001b[0m         X,\n\u001b[0;32m    202\u001b[0m         y,\n\u001b[1;32m   (...)\u001b[0m\n\u001b[0;32m    205\u001b[0m         missing_values_in_feature_mask\u001b[38;5;241m=\u001b[39mmissing_values_in_feature_mask,\n\u001b[0;32m    206\u001b[0m     )\n",
      "File \u001b[1;32mc:\\Users\\WD\\.conda\\envs\\VSCEnv\\lib\\site-packages\\sklearn\\tree\\_classes.py:472\u001b[0m, in \u001b[0;36mBaseDecisionTree._fit\u001b[1;34m(self, X, y, sample_weight, check_input, missing_values_in_feature_mask)\u001b[0m\n\u001b[0;32m    461\u001b[0m \u001b[38;5;28;01melse\u001b[39;00m:\n\u001b[0;32m    462\u001b[0m     builder \u001b[38;5;241m=\u001b[39m BestFirstTreeBuilder(\n\u001b[0;32m    463\u001b[0m         splitter,\n\u001b[0;32m    464\u001b[0m         min_samples_split,\n\u001b[1;32m   (...)\u001b[0m\n\u001b[0;32m    469\u001b[0m         \u001b[38;5;28mself\u001b[39m\u001b[38;5;241m.\u001b[39mmin_impurity_decrease,\n\u001b[0;32m    470\u001b[0m     )\n\u001b[1;32m--> 472\u001b[0m \u001b[43mbuilder\u001b[49m\u001b[38;5;241;43m.\u001b[39;49m\u001b[43mbuild\u001b[49m\u001b[43m(\u001b[49m\u001b[38;5;28;43mself\u001b[39;49m\u001b[38;5;241;43m.\u001b[39;49m\u001b[43mtree_\u001b[49m\u001b[43m,\u001b[49m\u001b[43m \u001b[49m\u001b[43mX\u001b[49m\u001b[43m,\u001b[49m\u001b[43m \u001b[49m\u001b[43my\u001b[49m\u001b[43m,\u001b[49m\u001b[43m \u001b[49m\u001b[43msample_weight\u001b[49m\u001b[43m,\u001b[49m\u001b[43m \u001b[49m\u001b[43mmissing_values_in_feature_mask\u001b[49m\u001b[43m)\u001b[49m\n\u001b[0;32m    474\u001b[0m \u001b[38;5;28;01mif\u001b[39;00m \u001b[38;5;28mself\u001b[39m\u001b[38;5;241m.\u001b[39mn_outputs_ \u001b[38;5;241m==\u001b[39m \u001b[38;5;241m1\u001b[39m \u001b[38;5;129;01mand\u001b[39;00m is_classifier(\u001b[38;5;28mself\u001b[39m):\n\u001b[0;32m    475\u001b[0m     \u001b[38;5;28mself\u001b[39m\u001b[38;5;241m.\u001b[39mn_classes_ \u001b[38;5;241m=\u001b[39m \u001b[38;5;28mself\u001b[39m\u001b[38;5;241m.\u001b[39mn_classes_[\u001b[38;5;241m0\u001b[39m]\n",
      "\u001b[1;31mKeyboardInterrupt\u001b[0m: "
     ]
    }
   ],
   "source": [
    "#Prueba de modelo sin balanceo de clases\n",
    "\n",
    "from sklearn.ensemble import RandomForestClassifier\n",
    "from imblearn.over_sampling import SMOTE\n",
    "from imblearn.pipeline import Pipeline\n",
    "from sklearn.preprocessing import StandardScaler, OneHotEncoder\n",
    "from sklearn.compose import ColumnTransformer\n",
    "from sklearn.model_selection import train_test_split\n",
    "from sklearn.metrics import classification_report\n",
    "import pandas as pd\n",
    "\n",
    "\n",
    "\n",
    "num_cols = [col for col in dataTraining.select_dtypes(include='int64').columns if col != 'claim_count']\n",
    "cat_cols = dataTraining.select_dtypes(include='object').columns.tolist()\n",
    "target_col = 'claim_count' if 'claim_count' in dataTraining.columns else None\n",
    "\n",
    "\n",
    "X = pd.concat([dataTraining[num_cols], dataTraining[cat_cols].astype('category')], axis=1)\n",
    "y = dataTraining[target_col]\n",
    "\n",
    "# Preprocesamiento\n",
    "numeric_pipe = make_pipeline(StandardScaler())\n",
    "categorical_pipe = make_pipeline(OneHotEncoder(handle_unknown='ignore'))\n",
    "preprocessor = ColumnTransformer(\n",
    "    transformers=[\n",
    "        ('num', numeric_pipe, num_cols),\n",
    "        ('cat', categorical_pipe, cat_cols)\n",
    "    ]\n",
    ")\n",
    "\n",
    "\n",
    "model = Pipeline(steps=[\n",
    "    ('preprocessor', preprocessor),\n",
    "    ('classifier', RandomForestClassifier(n_estimators=100, random_state=0, class_weight='balanced'))\n",
    "])\n",
    "\n",
    "# División de datos\n",
    "X_train, X_test, y_train, y_test = train_test_split(X, y, test_size=0.33, random_state=0)\n",
    "\n",
    "# Entrenamiento y evaluación\n",
    "model.fit(X_train, y_train)\n",
    "y_pred = model.predict(X_test)\n",
    "print(classification_report(y_test, y_pred))"
   ]
  },
  {
   "cell_type": "markdown",
   "metadata": {},
   "source": [
    "Finalmente se presento realmente 2 modelos de regresion con balanceo de clases XGBoost y Random Forest, el resultado de estos fue:\n",
    "\n",
    "XGBoost:\n",
    "{'r2': 0.873673547380727,\n",
    " 'rmse': 1.1241118137139992}\n",
    "\n",
    "Random Forest:\n",
    "{'r2': 0.8864075685223176,\n",
    " 'rmse': 1.065950553629399}\n",
    "\n",
    "\n",
    " \n",
    "MSE proporciona una medida de la magnitud del error en las mismas unidades que la variable de interés, en este caso, el numero de claims, para XGBoost es 1.26 claims de desviacion y Random Forest 1.136. \n",
    "\n",
    "Un R² cercano a 1 indica que el modelo puede explicar muy bien la variabilidad de los precios de los vehículos basado en las características, en este caso el mejor modelo  (Random Forest) 0,886 que es cercano a 1, y se considera bueno (con posibilidad de mejorar)\n",
    "\n",
    "Sin embargo habria que seguir revisando el problema de las predicciones vs residuales pues se puede ver no estan aleatoriamente distribuidos. Esto puede pasar por muchas razones como Multicolinealidad o un error en la trasnformacion de datos.\n"
   ]
  }
 ],
 "metadata": {
  "kernelspec": {
   "display_name": "VSCEnv",
   "language": "python",
   "name": "python3"
  },
  "language_info": {
   "codemirror_mode": {
    "name": "ipython",
    "version": 3
   },
   "file_extension": ".py",
   "mimetype": "text/x-python",
   "name": "python",
   "nbconvert_exporter": "python",
   "pygments_lexer": "ipython3",
   "version": "3.10.13"
  }
 },
 "nbformat": 4,
 "nbformat_minor": 2
}
