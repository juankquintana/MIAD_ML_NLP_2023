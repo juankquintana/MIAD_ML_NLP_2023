{
 "cells": [
  {
   "cell_type": "code",
   "execution_count": 5,
   "metadata": {},
   "outputs": [
    {
     "data": {
      "text/plain": [
       "0.952"
      ]
     },
     "execution_count": 5,
     "metadata": {},
     "output_type": "execute_result"
    }
   ],
   "source": [
    "Megustaelmachinelearning= 0.11\n",
    "Me=0.8\n",
    "gusta_Me=0.35\n",
    "el_Megusta=0.55\n",
    "learniung_Megustaelmachine=0.75\n",
    "\n",
    "machinbe_megistael=Megustaelmachinelearning/(Me*gusta_Me*el_Megusta*learniung_Megustaelmachine)\n",
    "round(machinbe_megistael,3)"
   ]
  },
  {
   "cell_type": "code",
   "execution_count": null,
   "metadata": {},
   "outputs": [],
   "source": []
  },
  {
   "cell_type": "markdown",
   "metadata": {},
   "source": [
    "\n",
    "P(Me gusta el machine)⋅P(machine∣Me gusta el)/P(Me gusta el)\n",
    "​\n",
    " \n",
    "\n"
   ]
  }
 ],
 "metadata": {
  "kernelspec": {
   "display_name": "VSCEnv",
   "language": "python",
   "name": "python3"
  },
  "language_info": {
   "codemirror_mode": {
    "name": "ipython",
    "version": 3
   },
   "file_extension": ".py",
   "mimetype": "text/x-python",
   "name": "python",
   "nbconvert_exporter": "python",
   "pygments_lexer": "ipython3",
   "version": "3.10.13"
  }
 },
 "nbformat": 4,
 "nbformat_minor": 2
}
