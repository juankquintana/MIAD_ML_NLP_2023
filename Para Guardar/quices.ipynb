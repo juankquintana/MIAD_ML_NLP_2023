{
 "cells": [
  {
   "cell_type": "code",
   "execution_count": 5,
   "metadata": {},
   "outputs": [
    {
     "data": {
      "text/plain": [
       "0.952"
      ]
     },
     "execution_count": 5,
     "metadata": {},
     "output_type": "execute_result"
    }
   ],
   "source": [
    "Megustaelmachinelearning= 0.11\n",
    "Me=0.8\n",
    "gusta_Me=0.35\n",
    "el_Megusta=0.55\n",
    "learniung_Megustaelmachine=0.75\n",
    "\n",
    "machinbe_megistael=Megustaelmachinelearning/(Me*gusta_Me*el_Megusta*learniung_Megustaelmachine)\n",
    "round(machinbe_megistael,3)"
   ]
  },
  {
   "cell_type": "code",
   "execution_count": null,
   "metadata": {},
   "outputs": [],
   "source": []
  },
  {
   "cell_type": "markdown",
   "metadata": {},
   "source": [
    "\n",
    "P(Me gusta el machine)⋅P(machine∣Me gusta el)/P(Me gusta el)\n",
    "​\n",
    " \n",
    "\n"
   ]
  },
  {
   "cell_type": "code",
   "execution_count": 2,
   "metadata": {},
   "outputs": [],
   "source": [
    "from sklearn.feature_extraction.text import CountVectorizer\n",
    "from sklearn.metrics.pairwise import cosine_similarity"
   ]
  },
  {
   "cell_type": "code",
   "execution_count": 3,
   "metadata": {},
   "outputs": [
    {
     "name": "stdout",
     "output_type": "stream",
     "text": [
      "La similitud del coseno entre las frases es: 0.4623\n"
     ]
    }
   ],
   "source": [
    "def calcular_similitud_coseno(frase1, frase2):\n",
    "    # Crear un objeto CountVectorizer\n",
    "    vectorizer = CountVectorizer()\n",
    "\n",
    "    # Convertir las frases en vectores de frecuencia de palabras\n",
    "    vectores = vectorizer.fit_transform([frase1, frase2])\n",
    "\n",
    "    # Calcular la similitud del coseno\n",
    "    similitud_coseno = cosine_similarity(vectores)[0, 1]\n",
    "    return similitud_coseno\n",
    "\n",
    "# Definir las frases\n",
    "frase1 = \"El preprocesamiento de texto es importante para los modelos de NLP\"\n",
    "frase2 = \"El NLP es importante para diferentes problemas en organizaciones\"\n",
    "\n",
    "# Calcular y mostrar la similitud del coseno\n",
    "similitud = calcular_similitud_coseno(frase1, frase2)\n",
    "print(f\"La similitud del coseno entre las frases es: {similitud:.4f}\")"
   ]
  }
 ],
 "metadata": {
  "kernelspec": {
   "display_name": "VSCEnv",
   "language": "python",
   "name": "python3"
  },
  "language_info": {
   "codemirror_mode": {
    "name": "ipython",
    "version": 3
   },
   "file_extension": ".py",
   "mimetype": "text/x-python",
   "name": "python",
   "nbconvert_exporter": "python",
   "pygments_lexer": "ipython3",
   "version": "3.10.13"
  }
 },
 "nbformat": 4,
 "nbformat_minor": 2
}
