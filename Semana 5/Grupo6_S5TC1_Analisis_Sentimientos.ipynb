{
  "cells": [
    {
      "cell_type": "markdown",
      "metadata": {
        "id": "MNExvdOw77Ex"
      },
      "source": [
        "![image info](https://raw.githubusercontent.com/albahnsen/MIAD_ML_and_NLP/main/images/banner_1.png)"
      ]
    },
    {
      "cell_type": "markdown",
      "metadata": {
        "id": "Ls8-JBb177E0"
      },
      "source": [
        "# Taller: Análisis de sentimientos y técnicas de NLP\n",
        "\n",
        "En este taller podrán poner en práctica sus conocimientos sobre las diferentes técnicas para el procesamiento de lenguaje natural. El taller está constituido por 5 puntos, en los cuales deberan seguir las intrucciones de cada numeral para su desarrollo."
      ]
    },
    {
      "cell_type": "markdown",
      "metadata": {
        "id": "tTqKonjx77E1"
      },
      "source": [
        "## Datos predicción sentimientos de viajeros en Twitter\n",
        "\n",
        "En este taller se usará el conjunto de datos de sentimientos sobre distintas aerolíneas de EE.UU. provenientes de Twitter. Cada observación contiene si el sentimiento de los tweets es positivo, neutral o negativo teniendo en cuenta distintas variables como aerolínea y las razones de los sentimientos negativos (como \"retraso en el vuelo\" o \"servicio grosero\"). El objetivo es predecir el sentimiento asociado a cada tweet. Para más detalles pueden visitar el siguiente enlace: [datos](https://www.kaggle.com/crowdflower/twitter-airline-sentiment)."
      ]
    },
    {
      "cell_type": "code",
      "execution_count": null,
      "metadata": {
        "id": "CPeCOyHk77E2"
      },
      "outputs": [],
      "source": [
        "import warnings\n",
        "warnings.filterwarnings('ignore')"
      ]
    },
    {
      "cell_type": "code",
      "execution_count": null,
      "metadata": {
        "id": "8uN-rgnS77E2"
      },
      "outputs": [],
      "source": [
        "# Importación de librerías\n",
        "import pandas as pd\n",
        "import numpy as np\n",
        "%matplotlib inline\n",
        "import matplotlib.pyplot as plt\n",
        "\n",
        "# Metricas Modelos\n",
        "from sklearn import metrics\n",
        "from sklearn.metrics import accuracy_score\n",
        "from sklearn.metrics import precision_score\n",
        "from sklearn.metrics import confusion_matrix\n",
        "from sklearn.metrics import classification_report\n",
        "\n",
        "# typing\n",
        "from typing import Union, Dict, List, Tuple\n",
        "from pandas import DataFrame as PandasDF\n",
        "from numpy import ndarray\n"
      ]
    },
    {
      "cell_type": "code",
      "execution_count": null,
      "metadata": {
        "id": "hrCUmR_z77E3"
      },
      "outputs": [],
      "source": [
        "# setup\n",
        "plt.style.use('seaborn-v0_8')\n",
        "plt.rcParams[\"figure.figsize\"] = (5, 4)\n",
        "pd.set_option('display.max_rows', 200)\n",
        "pd.set_option('display.max_columns', None)\n",
        "pd.set_option('display.width', None)\n",
        "pd.set_option('max_colwidth', None)"
      ]
    },
    {
      "cell_type": "markdown",
      "source": [
        "## Utils"
      ],
      "metadata": {
        "id": "Bjua7kXpgP6F"
      }
    },
    {
      "cell_type": "code",
      "execution_count": null,
      "metadata": {
        "id": "6L-pp3Tm77E3"
      },
      "outputs": [],
      "source": [
        "# Utils\n",
        "def performance_clasification_model(\n",
        "        y_true: np.array,\n",
        "        y_pred: np.array,\n",
        "        y_score: np.array,\n",
        "        pos_label: Union[int,str]=1,\n",
        "        view_plot: bool=True,\n",
        "        view_stats: bool=True,\n",
        "#        figsize: Tuple=(6, 6),\n",
        "        label:str='',\n",
        "        color:str='dodgerblue',\n",
        "        linestyle:str='--',\n",
        "        prop:Dict=dict(size=12)\n",
        "    )->Dict:\n",
        "    \"\"\"\"\"\"\n",
        "\n",
        "    # matriz de confusion, accurancy,  precision\n",
        "    # y error: 1 - accurancy\n",
        "    # https://stackoverflow.com/questions/52269187/facing-valueerror-target-is-multiclass-but-average-binary\n",
        "    model_score: Dict = dict(\n",
        "        matrix=confusion_matrix(y_true, y_pred),\n",
        "        accuracy=accuracy_score(y_true, y_pred),\n",
        "        precision=precision_score(y_true, y_pred),\n",
        "        error=1-accuracy_score(y_true, y_pred)\n",
        "    )\n",
        "\n",
        "    # curva ROC y AUC\n",
        "    fpr, tpr, thresholds = metrics.roc_curve(\n",
        "        y_true=y_true,\n",
        "        y_score=y_score,\n",
        "        pos_label=pos_label\n",
        "    )\n",
        "    AUCvalue = metrics.auc(fpr, tpr)\n",
        "    model_score = {**model_score, 'auc':AUCvalue}\n",
        "\n",
        "    if view_plot:\n",
        "        # plt.figure(figsize = figsize)\n",
        "        plt.title('Receiver Operating Characteristic')\n",
        "        plt.plot(fpr, tpr, color, label = f'AUC {label} = {AUCvalue:0.2f}', linestyle=linestyle)\n",
        "        plt.legend(loc = 'lower right', prop=prop)\n",
        "        plt.plot([0, 1], [0, 1], color='#CCC', linestyle='--')\n",
        "        plt.xlim([-0.01, 1])\n",
        "        plt.ylim([0, 1.05])\n",
        "        plt.ylabel('True Positive Rate')\n",
        "        plt.xlabel('False Positive Rate')\n",
        "\n",
        "    if view_stats:\n",
        "        print('Matriz de Confusion\\n', model_score.get('matrix'))\n",
        "        print('Accuracy:', model_score.get('accuracy'))\n",
        "        print('Precision:', model_score.get('precision'))\n",
        "        print('Error:', model_score.get('error'))\n",
        "        print('AUC:', model_score.get('auc'))\n",
        "\n",
        "    return model_score\n",
        "\n",
        "\n",
        "def performance_multiclass_clasification_model(\n",
        "    y_true:Union[PandasDF, ndarray],\n",
        "    y_pred:Union[PandasDF, ndarray],\n",
        "    y_score:ndarray,\n",
        "    classes:Union[ndarray, List],\n",
        "    classnames:List=list(),\n",
        "    figsize:Tuple[int,int]=(8,8),\n",
        "    prop:Dict=dict(size=7)\n",
        ")->Union[Dict, Dict]:\n",
        "    \"\"\"\"\"\"\n",
        "    total: str = 'total' # summary\n",
        "    model_scores: Dict = {clase: dict(\n",
        "        accuracy=list(),\n",
        "        precision=list(),\n",
        "        error=list(),\n",
        "        auc=list()\n",
        "    )\n",
        "    for clase in list(classes)+[total]}\n",
        "\n",
        "    plt.figure(figsize = figsize)\n",
        "    for i, clase in enumerate(classes):\n",
        "        if len(classnames)==len(classes):\n",
        "            label=classnames[i]\n",
        "        else:\n",
        "            label=clase,\n",
        "        _metrics = performance_clasification_model(\n",
        "            y_true=(y_true==clase)*1,\n",
        "            y_pred=(y_pred==clase)*1,\n",
        "            y_score=y_score[:,i],\n",
        "            pos_label=1,\n",
        "            view_plot=False, # ver graficas\n",
        "            view_stats=False,\n",
        "            label=label,\n",
        "            color=[\n",
        "                'purple','#FF8D1E','dodgerblue','#FF1E90','#90FF1E','#135A9F','#FD1EFF','#FF8D1E'\n",
        "            ][i],\n",
        "            linestyle=['--','-.',':','-'][i],\n",
        "            prop=prop\n",
        "        )\n",
        "\n",
        "        for _metric in model_scores.get(clase).keys():\n",
        "            (\n",
        "                model_scores\n",
        "                    .get(clase)\n",
        "                    .get(_metric)\n",
        "                    .append(_metrics.get(_metric))\n",
        "            )\n",
        "\n",
        "    for _metric in model_scores.get(classes[0]).keys():\n",
        "        values: List = list()\n",
        "        for _metrics in model_scores.values():\n",
        "            #print(_metric, _metrics)\n",
        "            values.extend(_metrics.get(_metric))\n",
        "\n",
        "    model_score_total: Dict = dict(\n",
        "        accuracy=accuracy_score(y_true, y_pred),\n",
        "        error=1-accuracy_score(y_true, y_pred)\n",
        "    )\n",
        "\n",
        "    print('Accuracy:', model_score_total.get('accuracy'))\n",
        "    print('Error:', model_score_total.get('error'))\n",
        "    if len(classnames)==len(classes):\n",
        "        print(classification_report(y_true, y_pred, target_names=classnames))\n",
        "    else:\n",
        "        print(classification_report(y_true, y_pred))\n",
        "\n",
        "\n",
        "    return  model_score_total,  model_scores\n",
        "\n",
        "\n",
        "def getscores(\n",
        "        target_variable_prefix:str,\n",
        "        metric:str,\n",
        "        color:str\n",
        "    )->PandasDF:\n",
        "    \"\"\"\"\"\"\n",
        "    # Se busca los scores efectuados a lo largo de las preguntas\n",
        "    # su scope es global en el presente notebook\n",
        "    def search_global(var:str)->List:\n",
        "        return [v for v in globals() if var in v]\n",
        "\n",
        "    scores: List = search_global(target_variable_prefix)\n",
        "\n",
        "    df_rank_models: PandasDF = pd.DataFrame({\n",
        "        'model_name': scores,\n",
        "        metric: [globals().get(score).get(metric) for score in scores]\n",
        "    }).sort_values(by=[metric], ascending=metric!=\"error\")\n",
        "\n",
        "    ax = df_rank_models.plot.barh(y=metric, x='model_name',color=color)\n",
        "\n",
        "    for container in ax.containers:\n",
        "        ax.bar_label(container)\n",
        "\n",
        "    ax.set_title(f'Ranking de {\"Menor\" if metric==\"error\" else \"Mayor\"} {metric.upper()} por modelo')\n",
        "    ax.set_xlabel(f'{metric.upper()} para los Modelos')\n",
        "    ax.set_ylabel('Modelos')\n",
        "    ax.get_legend().set_visible(False)\n",
        "\n",
        "    return df_rank_models # .sort_values(by=['model_name'], ascending=True\n"
      ]
    },
    {
      "cell_type": "markdown",
      "source": [
        "## Lectura de Datos"
      ],
      "metadata": {
        "id": "0BsgRVJsgXXW"
      }
    },
    {
      "cell_type": "code",
      "execution_count": null,
      "metadata": {
        "id": "DPsRqZ8A77E4",
        "outputId": "90e65a91-7f56-48a6-c2b6-51f5be1f330f",
        "colab": {
          "base_uri": "https://localhost:8080/",
          "height": 674
        }
      },
      "outputs": [
        {
          "output_type": "execute_result",
          "data": {
            "text/plain": [
              "                   airline_sentiment  airline_sentiment_confidence negativereason  \\\n",
              "tweet_id                                                                            \n",
              "570306133677760513           neutral                        1.0000            NaN   \n",
              "570301130888122368          positive                        0.3486            NaN   \n",
              "570301083672813571           neutral                        0.6837            NaN   \n",
              "570301031407624196          negative                        1.0000     Bad Flight   \n",
              "570300817074462722          negative                        1.0000     Can't Tell   \n",
              "\n",
              "                    negativereason_confidence         airline airline_sentiment_gold        name  \\\n",
              "tweet_id                                                                                           \n",
              "570306133677760513                        NaN  Virgin America                    NaN     cairdin   \n",
              "570301130888122368                     0.0000  Virgin America                    NaN    jnardino   \n",
              "570301083672813571                        NaN  Virgin America                    NaN  yvonnalynn   \n",
              "570301031407624196                     0.7033  Virgin America                    NaN    jnardino   \n",
              "570300817074462722                     1.0000  Virgin America                    NaN    jnardino   \n",
              "\n",
              "                   negativereason_gold  retweet_count  \\\n",
              "tweet_id                                                \n",
              "570306133677760513                 NaN              0   \n",
              "570301130888122368                 NaN              0   \n",
              "570301083672813571                 NaN              0   \n",
              "570301031407624196                 NaN              0   \n",
              "570300817074462722                 NaN              0   \n",
              "\n",
              "                                                                                                                                              text  \\\n",
              "tweet_id                                                                                                                                             \n",
              "570306133677760513                                                                                             @VirginAmerica What @dhepburn said.   \n",
              "570301130888122368                                                        @VirginAmerica plus you've added commercials to the experience... tacky.   \n",
              "570301083672813571                                                         @VirginAmerica I didn't today... Must mean I need to take another trip!   \n",
              "570301031407624196  @VirginAmerica it's really aggressive to blast obnoxious \"entertainment\" in your guests' faces &amp; they have little recourse   \n",
              "570300817074462722                                                                         @VirginAmerica and it's a really big bad thing about it   \n",
              "\n",
              "                   tweet_coord              tweet_created tweet_location  \\\n",
              "tweet_id                                                                   \n",
              "570306133677760513         NaN  2015-02-24 11:35:52 -0800            NaN   \n",
              "570301130888122368         NaN  2015-02-24 11:15:59 -0800            NaN   \n",
              "570301083672813571         NaN  2015-02-24 11:15:48 -0800      Lets Play   \n",
              "570301031407624196         NaN  2015-02-24 11:15:36 -0800            NaN   \n",
              "570300817074462722         NaN  2015-02-24 11:14:45 -0800            NaN   \n",
              "\n",
              "                                 user_timezone  \n",
              "tweet_id                                        \n",
              "570306133677760513  Eastern Time (US & Canada)  \n",
              "570301130888122368  Pacific Time (US & Canada)  \n",
              "570301083672813571  Central Time (US & Canada)  \n",
              "570301031407624196  Pacific Time (US & Canada)  \n",
              "570300817074462722  Pacific Time (US & Canada)  "
            ],
            "text/html": [
              "\n",
              "  <div id=\"df-bb313753-d3c9-43b6-a809-7466854e7569\" class=\"colab-df-container\">\n",
              "    <div>\n",
              "<style scoped>\n",
              "    .dataframe tbody tr th:only-of-type {\n",
              "        vertical-align: middle;\n",
              "    }\n",
              "\n",
              "    .dataframe tbody tr th {\n",
              "        vertical-align: top;\n",
              "    }\n",
              "\n",
              "    .dataframe thead th {\n",
              "        text-align: right;\n",
              "    }\n",
              "</style>\n",
              "<table border=\"1\" class=\"dataframe\">\n",
              "  <thead>\n",
              "    <tr style=\"text-align: right;\">\n",
              "      <th></th>\n",
              "      <th>airline_sentiment</th>\n",
              "      <th>airline_sentiment_confidence</th>\n",
              "      <th>negativereason</th>\n",
              "      <th>negativereason_confidence</th>\n",
              "      <th>airline</th>\n",
              "      <th>airline_sentiment_gold</th>\n",
              "      <th>name</th>\n",
              "      <th>negativereason_gold</th>\n",
              "      <th>retweet_count</th>\n",
              "      <th>text</th>\n",
              "      <th>tweet_coord</th>\n",
              "      <th>tweet_created</th>\n",
              "      <th>tweet_location</th>\n",
              "      <th>user_timezone</th>\n",
              "    </tr>\n",
              "    <tr>\n",
              "      <th>tweet_id</th>\n",
              "      <th></th>\n",
              "      <th></th>\n",
              "      <th></th>\n",
              "      <th></th>\n",
              "      <th></th>\n",
              "      <th></th>\n",
              "      <th></th>\n",
              "      <th></th>\n",
              "      <th></th>\n",
              "      <th></th>\n",
              "      <th></th>\n",
              "      <th></th>\n",
              "      <th></th>\n",
              "      <th></th>\n",
              "    </tr>\n",
              "  </thead>\n",
              "  <tbody>\n",
              "    <tr>\n",
              "      <th>570306133677760513</th>\n",
              "      <td>neutral</td>\n",
              "      <td>1.0000</td>\n",
              "      <td>NaN</td>\n",
              "      <td>NaN</td>\n",
              "      <td>Virgin America</td>\n",
              "      <td>NaN</td>\n",
              "      <td>cairdin</td>\n",
              "      <td>NaN</td>\n",
              "      <td>0</td>\n",
              "      <td>@VirginAmerica What @dhepburn said.</td>\n",
              "      <td>NaN</td>\n",
              "      <td>2015-02-24 11:35:52 -0800</td>\n",
              "      <td>NaN</td>\n",
              "      <td>Eastern Time (US &amp; Canada)</td>\n",
              "    </tr>\n",
              "    <tr>\n",
              "      <th>570301130888122368</th>\n",
              "      <td>positive</td>\n",
              "      <td>0.3486</td>\n",
              "      <td>NaN</td>\n",
              "      <td>0.0000</td>\n",
              "      <td>Virgin America</td>\n",
              "      <td>NaN</td>\n",
              "      <td>jnardino</td>\n",
              "      <td>NaN</td>\n",
              "      <td>0</td>\n",
              "      <td>@VirginAmerica plus you've added commercials to the experience... tacky.</td>\n",
              "      <td>NaN</td>\n",
              "      <td>2015-02-24 11:15:59 -0800</td>\n",
              "      <td>NaN</td>\n",
              "      <td>Pacific Time (US &amp; Canada)</td>\n",
              "    </tr>\n",
              "    <tr>\n",
              "      <th>570301083672813571</th>\n",
              "      <td>neutral</td>\n",
              "      <td>0.6837</td>\n",
              "      <td>NaN</td>\n",
              "      <td>NaN</td>\n",
              "      <td>Virgin America</td>\n",
              "      <td>NaN</td>\n",
              "      <td>yvonnalynn</td>\n",
              "      <td>NaN</td>\n",
              "      <td>0</td>\n",
              "      <td>@VirginAmerica I didn't today... Must mean I need to take another trip!</td>\n",
              "      <td>NaN</td>\n",
              "      <td>2015-02-24 11:15:48 -0800</td>\n",
              "      <td>Lets Play</td>\n",
              "      <td>Central Time (US &amp; Canada)</td>\n",
              "    </tr>\n",
              "    <tr>\n",
              "      <th>570301031407624196</th>\n",
              "      <td>negative</td>\n",
              "      <td>1.0000</td>\n",
              "      <td>Bad Flight</td>\n",
              "      <td>0.7033</td>\n",
              "      <td>Virgin America</td>\n",
              "      <td>NaN</td>\n",
              "      <td>jnardino</td>\n",
              "      <td>NaN</td>\n",
              "      <td>0</td>\n",
              "      <td>@VirginAmerica it's really aggressive to blast obnoxious \"entertainment\" in your guests' faces &amp;amp; they have little recourse</td>\n",
              "      <td>NaN</td>\n",
              "      <td>2015-02-24 11:15:36 -0800</td>\n",
              "      <td>NaN</td>\n",
              "      <td>Pacific Time (US &amp; Canada)</td>\n",
              "    </tr>\n",
              "    <tr>\n",
              "      <th>570300817074462722</th>\n",
              "      <td>negative</td>\n",
              "      <td>1.0000</td>\n",
              "      <td>Can't Tell</td>\n",
              "      <td>1.0000</td>\n",
              "      <td>Virgin America</td>\n",
              "      <td>NaN</td>\n",
              "      <td>jnardino</td>\n",
              "      <td>NaN</td>\n",
              "      <td>0</td>\n",
              "      <td>@VirginAmerica and it's a really big bad thing about it</td>\n",
              "      <td>NaN</td>\n",
              "      <td>2015-02-24 11:14:45 -0800</td>\n",
              "      <td>NaN</td>\n",
              "      <td>Pacific Time (US &amp; Canada)</td>\n",
              "    </tr>\n",
              "  </tbody>\n",
              "</table>\n",
              "</div>\n",
              "    <div class=\"colab-df-buttons\">\n",
              "\n",
              "  <div class=\"colab-df-container\">\n",
              "    <button class=\"colab-df-convert\" onclick=\"convertToInteractive('df-bb313753-d3c9-43b6-a809-7466854e7569')\"\n",
              "            title=\"Convert this dataframe to an interactive table.\"\n",
              "            style=\"display:none;\">\n",
              "\n",
              "  <svg xmlns=\"http://www.w3.org/2000/svg\" height=\"24px\" viewBox=\"0 -960 960 960\">\n",
              "    <path d=\"M120-120v-720h720v720H120Zm60-500h600v-160H180v160Zm220 220h160v-160H400v160Zm0 220h160v-160H400v160ZM180-400h160v-160H180v160Zm440 0h160v-160H620v160ZM180-180h160v-160H180v160Zm440 0h160v-160H620v160Z\"/>\n",
              "  </svg>\n",
              "    </button>\n",
              "\n",
              "  <style>\n",
              "    .colab-df-container {\n",
              "      display:flex;\n",
              "      gap: 12px;\n",
              "    }\n",
              "\n",
              "    .colab-df-convert {\n",
              "      background-color: #E8F0FE;\n",
              "      border: none;\n",
              "      border-radius: 50%;\n",
              "      cursor: pointer;\n",
              "      display: none;\n",
              "      fill: #1967D2;\n",
              "      height: 32px;\n",
              "      padding: 0 0 0 0;\n",
              "      width: 32px;\n",
              "    }\n",
              "\n",
              "    .colab-df-convert:hover {\n",
              "      background-color: #E2EBFA;\n",
              "      box-shadow: 0px 1px 2px rgba(60, 64, 67, 0.3), 0px 1px 3px 1px rgba(60, 64, 67, 0.15);\n",
              "      fill: #174EA6;\n",
              "    }\n",
              "\n",
              "    .colab-df-buttons div {\n",
              "      margin-bottom: 4px;\n",
              "    }\n",
              "\n",
              "    [theme=dark] .colab-df-convert {\n",
              "      background-color: #3B4455;\n",
              "      fill: #D2E3FC;\n",
              "    }\n",
              "\n",
              "    [theme=dark] .colab-df-convert:hover {\n",
              "      background-color: #434B5C;\n",
              "      box-shadow: 0px 1px 3px 1px rgba(0, 0, 0, 0.15);\n",
              "      filter: drop-shadow(0px 1px 2px rgba(0, 0, 0, 0.3));\n",
              "      fill: #FFFFFF;\n",
              "    }\n",
              "  </style>\n",
              "\n",
              "    <script>\n",
              "      const buttonEl =\n",
              "        document.querySelector('#df-bb313753-d3c9-43b6-a809-7466854e7569 button.colab-df-convert');\n",
              "      buttonEl.style.display =\n",
              "        google.colab.kernel.accessAllowed ? 'block' : 'none';\n",
              "\n",
              "      async function convertToInteractive(key) {\n",
              "        const element = document.querySelector('#df-bb313753-d3c9-43b6-a809-7466854e7569');\n",
              "        const dataTable =\n",
              "          await google.colab.kernel.invokeFunction('convertToInteractive',\n",
              "                                                    [key], {});\n",
              "        if (!dataTable) return;\n",
              "\n",
              "        const docLinkHtml = 'Like what you see? Visit the ' +\n",
              "          '<a target=\"_blank\" href=https://colab.research.google.com/notebooks/data_table.ipynb>data table notebook</a>'\n",
              "          + ' to learn more about interactive tables.';\n",
              "        element.innerHTML = '';\n",
              "        dataTable['output_type'] = 'display_data';\n",
              "        await google.colab.output.renderOutput(dataTable, element);\n",
              "        const docLink = document.createElement('div');\n",
              "        docLink.innerHTML = docLinkHtml;\n",
              "        element.appendChild(docLink);\n",
              "      }\n",
              "    </script>\n",
              "  </div>\n",
              "\n",
              "\n",
              "<div id=\"df-8c126f4e-6e2b-44c7-87e0-835ca91740b7\">\n",
              "  <button class=\"colab-df-quickchart\" onclick=\"quickchart('df-8c126f4e-6e2b-44c7-87e0-835ca91740b7')\"\n",
              "            title=\"Suggest charts\"\n",
              "            style=\"display:none;\">\n",
              "\n",
              "<svg xmlns=\"http://www.w3.org/2000/svg\" height=\"24px\"viewBox=\"0 0 24 24\"\n",
              "     width=\"24px\">\n",
              "    <g>\n",
              "        <path d=\"M19 3H5c-1.1 0-2 .9-2 2v14c0 1.1.9 2 2 2h14c1.1 0 2-.9 2-2V5c0-1.1-.9-2-2-2zM9 17H7v-7h2v7zm4 0h-2V7h2v10zm4 0h-2v-4h2v4z\"/>\n",
              "    </g>\n",
              "</svg>\n",
              "  </button>\n",
              "\n",
              "<style>\n",
              "  .colab-df-quickchart {\n",
              "      --bg-color: #E8F0FE;\n",
              "      --fill-color: #1967D2;\n",
              "      --hover-bg-color: #E2EBFA;\n",
              "      --hover-fill-color: #174EA6;\n",
              "      --disabled-fill-color: #AAA;\n",
              "      --disabled-bg-color: #DDD;\n",
              "  }\n",
              "\n",
              "  [theme=dark] .colab-df-quickchart {\n",
              "      --bg-color: #3B4455;\n",
              "      --fill-color: #D2E3FC;\n",
              "      --hover-bg-color: #434B5C;\n",
              "      --hover-fill-color: #FFFFFF;\n",
              "      --disabled-bg-color: #3B4455;\n",
              "      --disabled-fill-color: #666;\n",
              "  }\n",
              "\n",
              "  .colab-df-quickchart {\n",
              "    background-color: var(--bg-color);\n",
              "    border: none;\n",
              "    border-radius: 50%;\n",
              "    cursor: pointer;\n",
              "    display: none;\n",
              "    fill: var(--fill-color);\n",
              "    height: 32px;\n",
              "    padding: 0;\n",
              "    width: 32px;\n",
              "  }\n",
              "\n",
              "  .colab-df-quickchart:hover {\n",
              "    background-color: var(--hover-bg-color);\n",
              "    box-shadow: 0 1px 2px rgba(60, 64, 67, 0.3), 0 1px 3px 1px rgba(60, 64, 67, 0.15);\n",
              "    fill: var(--button-hover-fill-color);\n",
              "  }\n",
              "\n",
              "  .colab-df-quickchart-complete:disabled,\n",
              "  .colab-df-quickchart-complete:disabled:hover {\n",
              "    background-color: var(--disabled-bg-color);\n",
              "    fill: var(--disabled-fill-color);\n",
              "    box-shadow: none;\n",
              "  }\n",
              "\n",
              "  .colab-df-spinner {\n",
              "    border: 2px solid var(--fill-color);\n",
              "    border-color: transparent;\n",
              "    border-bottom-color: var(--fill-color);\n",
              "    animation:\n",
              "      spin 1s steps(1) infinite;\n",
              "  }\n",
              "\n",
              "  @keyframes spin {\n",
              "    0% {\n",
              "      border-color: transparent;\n",
              "      border-bottom-color: var(--fill-color);\n",
              "      border-left-color: var(--fill-color);\n",
              "    }\n",
              "    20% {\n",
              "      border-color: transparent;\n",
              "      border-left-color: var(--fill-color);\n",
              "      border-top-color: var(--fill-color);\n",
              "    }\n",
              "    30% {\n",
              "      border-color: transparent;\n",
              "      border-left-color: var(--fill-color);\n",
              "      border-top-color: var(--fill-color);\n",
              "      border-right-color: var(--fill-color);\n",
              "    }\n",
              "    40% {\n",
              "      border-color: transparent;\n",
              "      border-right-color: var(--fill-color);\n",
              "      border-top-color: var(--fill-color);\n",
              "    }\n",
              "    60% {\n",
              "      border-color: transparent;\n",
              "      border-right-color: var(--fill-color);\n",
              "    }\n",
              "    80% {\n",
              "      border-color: transparent;\n",
              "      border-right-color: var(--fill-color);\n",
              "      border-bottom-color: var(--fill-color);\n",
              "    }\n",
              "    90% {\n",
              "      border-color: transparent;\n",
              "      border-bottom-color: var(--fill-color);\n",
              "    }\n",
              "  }\n",
              "</style>\n",
              "\n",
              "  <script>\n",
              "    async function quickchart(key) {\n",
              "      const quickchartButtonEl =\n",
              "        document.querySelector('#' + key + ' button');\n",
              "      quickchartButtonEl.disabled = true;  // To prevent multiple clicks.\n",
              "      quickchartButtonEl.classList.add('colab-df-spinner');\n",
              "      try {\n",
              "        const charts = await google.colab.kernel.invokeFunction(\n",
              "            'suggestCharts', [key], {});\n",
              "      } catch (error) {\n",
              "        console.error('Error during call to suggestCharts:', error);\n",
              "      }\n",
              "      quickchartButtonEl.classList.remove('colab-df-spinner');\n",
              "      quickchartButtonEl.classList.add('colab-df-quickchart-complete');\n",
              "    }\n",
              "    (() => {\n",
              "      let quickchartButtonEl =\n",
              "        document.querySelector('#df-8c126f4e-6e2b-44c7-87e0-835ca91740b7 button');\n",
              "      quickchartButtonEl.style.display =\n",
              "        google.colab.kernel.accessAllowed ? 'block' : 'none';\n",
              "    })();\n",
              "  </script>\n",
              "</div>\n",
              "\n",
              "    </div>\n",
              "  </div>\n"
            ],
            "application/vnd.google.colaboratory.intrinsic+json": {
              "type": "dataframe",
              "variable_name": "tweets",
              "summary": "{\n  \"name\": \"tweets\",\n  \"rows\": 14640,\n  \"fields\": [\n    {\n      \"column\": \"tweet_id\",\n      \"properties\": {\n        \"dtype\": \"number\",\n        \"std\": 779111158481835,\n        \"min\": 567588278875213824,\n        \"max\": 570310600460525568,\n        \"num_unique_values\": 14485,\n        \"samples\": [\n          567917894144770049,\n          567813976492417024,\n          569243676594941953\n        ],\n        \"semantic_type\": \"\",\n        \"description\": \"\"\n      }\n    },\n    {\n      \"column\": \"airline_sentiment\",\n      \"properties\": {\n        \"dtype\": \"category\",\n        \"num_unique_values\": 3,\n        \"samples\": [\n          \"neutral\",\n          \"positive\",\n          \"negative\"\n        ],\n        \"semantic_type\": \"\",\n        \"description\": \"\"\n      }\n    },\n    {\n      \"column\": \"airline_sentiment_confidence\",\n      \"properties\": {\n        \"dtype\": \"number\",\n        \"std\": 0.16282995909867212,\n        \"min\": 0.335,\n        \"max\": 1.0,\n        \"num_unique_values\": 1023,\n        \"samples\": [\n          0.6723,\n          0.3551,\n          0.6498\n        ],\n        \"semantic_type\": \"\",\n        \"description\": \"\"\n      }\n    },\n    {\n      \"column\": \"negativereason\",\n      \"properties\": {\n        \"dtype\": \"category\",\n        \"num_unique_values\": 10,\n        \"samples\": [\n          \"Damaged Luggage\",\n          \"Can't Tell\",\n          \"Lost Luggage\"\n        ],\n        \"semantic_type\": \"\",\n        \"description\": \"\"\n      }\n    },\n    {\n      \"column\": \"negativereason_confidence\",\n      \"properties\": {\n        \"dtype\": \"number\",\n        \"std\": 0.3304397596377297,\n        \"min\": 0.0,\n        \"max\": 1.0,\n        \"num_unique_values\": 1410,\n        \"samples\": [\n          0.6677,\n          0.6622,\n          0.6905\n        ],\n        \"semantic_type\": \"\",\n        \"description\": \"\"\n      }\n    },\n    {\n      \"column\": \"airline\",\n      \"properties\": {\n        \"dtype\": \"category\",\n        \"num_unique_values\": 6,\n        \"samples\": [\n          \"Virgin America\",\n          \"United\",\n          \"American\"\n        ],\n        \"semantic_type\": \"\",\n        \"description\": \"\"\n      }\n    },\n    {\n      \"column\": \"airline_sentiment_gold\",\n      \"properties\": {\n        \"dtype\": \"category\",\n        \"num_unique_values\": 3,\n        \"samples\": [\n          \"negative\",\n          \"neutral\",\n          \"positive\"\n        ],\n        \"semantic_type\": \"\",\n        \"description\": \"\"\n      }\n    },\n    {\n      \"column\": \"name\",\n      \"properties\": {\n        \"dtype\": \"string\",\n        \"num_unique_values\": 7701,\n        \"samples\": [\n          \"smckenna719\",\n          \"thisAnneM\",\n          \"jmspool\"\n        ],\n        \"semantic_type\": \"\",\n        \"description\": \"\"\n      }\n    },\n    {\n      \"column\": \"negativereason_gold\",\n      \"properties\": {\n        \"dtype\": \"category\",\n        \"num_unique_values\": 13,\n        \"samples\": [\n          \"Customer Service Issue\\nLost Luggage\",\n          \"Late Flight\\nCancelled Flight\",\n          \"Late Flight\\nFlight Attendant Complaints\"\n        ],\n        \"semantic_type\": \"\",\n        \"description\": \"\"\n      }\n    },\n    {\n      \"column\": \"retweet_count\",\n      \"properties\": {\n        \"dtype\": \"number\",\n        \"std\": 0,\n        \"min\": 0,\n        \"max\": 44,\n        \"num_unique_values\": 18,\n        \"samples\": [\n          0,\n          1,\n          6\n        ],\n        \"semantic_type\": \"\",\n        \"description\": \"\"\n      }\n    },\n    {\n      \"column\": \"text\",\n      \"properties\": {\n        \"dtype\": \"string\",\n        \"num_unique_values\": 14427,\n        \"samples\": [\n          \"@JetBlue so technically I could drive to JFK now and put in. Request for tomorrow's flight?\",\n          \"@united why I won't check my carry on. Watched a handler throw this bag -- miss the conveyer belt -- sat there 10 min http://t.co/lyoocx5mSH\",\n          \"@SouthwestAir you guys are so clever \\ud83d\\ude03 http://t.co/qn5odUGFqK\"\n        ],\n        \"semantic_type\": \"\",\n        \"description\": \"\"\n      }\n    },\n    {\n      \"column\": \"tweet_coord\",\n      \"properties\": {\n        \"dtype\": \"category\",\n        \"num_unique_values\": 832,\n        \"samples\": [\n          \"[40.04915451, -75.10364317]\",\n          \"[32.97609561, -96.53349238]\",\n          \"[26.37852293, -81.78472152]\"\n        ],\n        \"semantic_type\": \"\",\n        \"description\": \"\"\n      }\n    },\n    {\n      \"column\": \"tweet_created\",\n      \"properties\": {\n        \"dtype\": \"object\",\n        \"num_unique_values\": 14247,\n        \"samples\": [\n          \"2015-02-23 07:40:55 -0800\",\n          \"2015-02-21 16:20:09 -0800\",\n          \"2015-02-21 21:33:21 -0800\"\n        ],\n        \"semantic_type\": \"\",\n        \"description\": \"\"\n      }\n    },\n    {\n      \"column\": \"tweet_location\",\n      \"properties\": {\n        \"dtype\": \"category\",\n        \"num_unique_values\": 3081,\n        \"samples\": [\n          \"Oakland, California\",\n          \"Beverly Hills, CA\",\n          \"Austin, TX/NY, NY\"\n        ],\n        \"semantic_type\": \"\",\n        \"description\": \"\"\n      }\n    },\n    {\n      \"column\": \"user_timezone\",\n      \"properties\": {\n        \"dtype\": \"category\",\n        \"num_unique_values\": 85,\n        \"samples\": [\n          \"Helsinki\",\n          \"Eastern Time (US & Canada)\",\n          \"America/Detroit\"\n        ],\n        \"semantic_type\": \"\",\n        \"description\": \"\"\n      }\n    }\n  ]\n}"
            }
          },
          "metadata": {},
          "execution_count": 5
        }
      ],
      "source": [
        "# Lectura de la información de archivo .zip\n",
        "tweets = pd.read_csv('https://raw.githubusercontent.com/albahnsen/MIAD_ML_and_NLP/main/datasets/Tweets.zip', index_col=0)\n",
        "\n",
        "# Visualización dataset\n",
        "tweets.head()"
      ]
    },
    {
      "cell_type": "code",
      "execution_count": null,
      "metadata": {
        "id": "1P1ffRig77E5",
        "outputId": "e3811d60-0c77-4f57-c75a-9bd5d620833b",
        "colab": {
          "base_uri": "https://localhost:8080/"
        }
      },
      "outputs": [
        {
          "output_type": "execute_result",
          "data": {
            "text/plain": [
              "(14640, 14)"
            ]
          },
          "metadata": {},
          "execution_count": 6
        }
      ],
      "source": [
        "# Impresión tamaño del cojunto de datos\n",
        "tweets.shape"
      ]
    },
    {
      "cell_type": "markdown",
      "metadata": {
        "id": "oCVYyanF77E6"
      },
      "source": [
        "### Análisis descriptivo"
      ]
    },
    {
      "cell_type": "code",
      "execution_count": null,
      "metadata": {
        "id": "4IVQ1B9l77E6",
        "outputId": "00eb1a6d-cb2e-4c81-d3eb-73ffce7dc063",
        "colab": {
          "base_uri": "https://localhost:8080/"
        }
      },
      "outputs": [
        {
          "output_type": "execute_result",
          "data": {
            "text/plain": [
              "airline_sentiment\n",
              "negative    9178\n",
              "neutral     3099\n",
              "positive    2363\n",
              "Name: count, dtype: int64"
            ]
          },
          "metadata": {},
          "execution_count": 7
        }
      ],
      "source": [
        "# Cuenta de tweets por cada sentimiento\n",
        "tweets['airline_sentiment'].value_counts()"
      ]
    },
    {
      "cell_type": "code",
      "execution_count": null,
      "metadata": {
        "id": "Al6yAp6977E7",
        "outputId": "7538d0bc-6be5-4bf5-b861-1adb679e822b",
        "colab": {
          "base_uri": "https://localhost:8080/"
        }
      },
      "outputs": [
        {
          "output_type": "execute_result",
          "data": {
            "text/plain": [
              "airline\n",
              "United            3822\n",
              "US Airways        2913\n",
              "American          2759\n",
              "Southwest         2420\n",
              "Delta             2222\n",
              "Virgin America     504\n",
              "Name: count, dtype: int64"
            ]
          },
          "metadata": {},
          "execution_count": 8
        }
      ],
      "source": [
        "# Cuenta de tweets por cada aerolínea\n",
        "tweets['airline'].value_counts()"
      ]
    },
    {
      "cell_type": "code",
      "execution_count": null,
      "metadata": {
        "id": "IA0zqO9n77E7",
        "outputId": "8727e57d-db3f-4b14-c8ba-2709eb0da87a",
        "colab": {
          "base_uri": "https://localhost:8080/",
          "height": 562
        }
      },
      "outputs": [
        {
          "output_type": "display_data",
          "data": {
            "text/plain": [
              "<Figure size 1000x600 with 1 Axes>"
            ],
            "image/png": "[encoded data removed]"
          },
          "metadata": {}
        }
      ],
      "source": [
        "# Plot con cuenta de tweets por cada aerolínea y sentimiento\n",
        "pd.crosstab(\n",
        "    index=tweets[\"airline\"],\n",
        "    columns=tweets[\"airline_sentiment\"]\n",
        ").plot(\n",
        "    kind='bar',\n",
        "    figsize=(10, 6),\n",
        "    #alpha=0.5,\n",
        "    rot=0,\n",
        "    stacked=True,\n",
        "    title=\"Sentiminetos por aerolínea\",\n",
        "    color=['dodgerblue','#FF8D1E','purple'][::-1]\n",
        ")\n",
        "plt.show()"
      ]
    },
    {
      "cell_type": "markdown",
      "metadata": {
        "id": "31SrtUMu77E7"
      },
      "source": [
        "### Liberias y Variables de interés y predicción"
      ]
    },
    {
      "cell_type": "code",
      "execution_count": null,
      "metadata": {
        "id": "Wymkn9Zs77E7"
      },
      "outputs": [],
      "source": [
        "from sklearn.model_selection import train_test_split, cross_val_score\n",
        "from sklearn.feature_extraction.text import CountVectorizer, TfidfVectorizer\n",
        "from sklearn.ensemble import RandomForestClassifier\n",
        "from nltk.stem.snowball import SnowballStemmer\n",
        "from nltk.stem import WordNetLemmatizer\n",
        "from sklearn.naive_bayes import MultinomialNB"
      ]
    },
    {
      "cell_type": "code",
      "execution_count": null,
      "metadata": {
        "id": "_fQ2DvO377E7"
      },
      "outputs": [],
      "source": [
        "# Separación de variables predictoras (X) y de variable de interés (y)\n",
        "target_names=['negative', 'neutral', 'positive']\n",
        "X = tweets['text']\n",
        "y = tweets['airline_sentiment'].map({'negative':-1,'neutral':0,'positive':1})"
      ]
    },
    {
      "cell_type": "code",
      "execution_count": null,
      "metadata": {
        "id": "QRiwtc4E77E8"
      },
      "outputs": [],
      "source": [
        "# Separación de datos en set de entrenamiento y test\n",
        "X_train, X_test, y_train, y_test = train_test_split(X, y, test_size=0.33, random_state=42)"
      ]
    },
    {
      "cell_type": "markdown",
      "metadata": {
        "id": "OoPr1oLM77E8"
      },
      "source": [
        "### Punto 1 - Uso de CountVectorizer\n",
        "\n",
        "En la celda 1 creen un modelo de random forest con la libreria sklearn que prediga el sentimiento de los tweets usando los set de entrenamiento y test definidos anteriormente. Usen la función **CountVectorizer** y presenten el desempeño del modelo con la métrica del acurracy.\n",
        "\n",
        "Recuerden que el preprocesamiento que se haga sobre los datos de entrenamiento  (*.fit_transform()*) deben ser aplicado al set de test (*.transform()*)."
      ]
    },
    {
      "cell_type": "code",
      "execution_count": null,
      "metadata": {
        "id": "lGCSqd9H77E8",
        "outputId": "4849bca3-d7dc-402c-aebb-610a107a26d7",
        "colab": {
          "base_uri": "https://localhost:8080/",
          "height": 75
        }
      },
      "outputs": [
        {
          "output_type": "execute_result",
          "data": {
            "text/plain": [
              "RandomForestClassifier(random_state=42)"
            ],
            "text/html": [
              "<style>#sk-container-id-1 {color: black;background-color: white;}#sk-container-id-1 pre{padding: 0;}#sk-container-id-1 div.sk-toggleable {background-color: white;}#sk-container-id-1 label.sk-toggleable__label {cursor: pointer;display: block;width: 100%;margin-bottom: 0;padding: 0.3em;box-sizing: border-box;text-align: center;}#sk-container-id-1 label.sk-toggleable__label-arrow:before {content: \"▸\";float: left;margin-right: 0.25em;color: #696969;}#sk-container-id-1 label.sk-toggleable__label-arrow:hover:before {color: black;}#sk-container-id-1 div.sk-estimator:hover label.sk-toggleable__label-arrow:before {color: black;}#sk-container-id-1 div.sk-toggleable__content {max-height: 0;max-width: 0;overflow: hidden;text-align: left;background-color: #f0f8ff;}#sk-container-id-1 div.sk-toggleable__content pre {margin: 0.2em;color: black;border-radius: 0.25em;background-color: #f0f8ff;}#sk-container-id-1 input.sk-toggleable__control:checked~div.sk-toggleable__content {max-height: 200px;max-width: 100%;overflow: auto;}#sk-container-id-1 input.sk-toggleable__control:checked~label.sk-toggleable__label-arrow:before {content: \"▾\";}#sk-container-id-1 div.sk-estimator input.sk-toggleable__control:checked~label.sk-toggleable__label {background-color: #d4ebff;}#sk-container-id-1 div.sk-label input.sk-toggleable__control:checked~label.sk-toggleable__label {background-color: #d4ebff;}#sk-container-id-1 input.sk-hidden--visually {border: 0;clip: rect(1px 1px 1px 1px);clip: rect(1px, 1px, 1px, 1px);height: 1px;margin: -1px;overflow: hidden;padding: 0;position: absolute;width: 1px;}#sk-container-id-1 div.sk-estimator {font-family: monospace;background-color: #f0f8ff;border: 1px dotted black;border-radius: 0.25em;box-sizing: border-box;margin-bottom: 0.5em;}#sk-container-id-1 div.sk-estimator:hover {background-color: #d4ebff;}#sk-container-id-1 div.sk-parallel-item::after {content: \"\";width: 100%;border-bottom: 1px solid gray;flex-grow: 1;}#sk-container-id-1 div.sk-label:hover label.sk-toggleable__label {background-color: #d4ebff;}#sk-container-id-1 div.sk-serial::before {content: \"\";position: absolute;border-left: 1px solid gray;box-sizing: border-box;top: 0;bottom: 0;left: 50%;z-index: 0;}#sk-container-id-1 div.sk-serial {display: flex;flex-direction: column;align-items: center;background-color: white;padding-right: 0.2em;padding-left: 0.2em;position: relative;}#sk-container-id-1 div.sk-item {position: relative;z-index: 1;}#sk-container-id-1 div.sk-parallel {display: flex;align-items: stretch;justify-content: center;background-color: white;position: relative;}#sk-container-id-1 div.sk-item::before, #sk-container-id-1 div.sk-parallel-item::before {content: \"\";position: absolute;border-left: 1px solid gray;box-sizing: border-box;top: 0;bottom: 0;left: 50%;z-index: -1;}#sk-container-id-1 div.sk-parallel-item {display: flex;flex-direction: column;z-index: 1;position: relative;background-color: white;}#sk-container-id-1 div.sk-parallel-item:first-child::after {align-self: flex-end;width: 50%;}#sk-container-id-1 div.sk-parallel-item:last-child::after {align-self: flex-start;width: 50%;}#sk-container-id-1 div.sk-parallel-item:only-child::after {width: 0;}#sk-container-id-1 div.sk-dashed-wrapped {border: 1px dashed gray;margin: 0 0.4em 0.5em 0.4em;box-sizing: border-box;padding-bottom: 0.4em;background-color: white;}#sk-container-id-1 div.sk-label label {font-family: monospace;font-weight: bold;display: inline-block;line-height: 1.2em;}#sk-container-id-1 div.sk-label-container {text-align: center;}#sk-container-id-1 div.sk-container {/* jupyter's `normalize.less` sets `[hidden] { display: none; }` but bootstrap.min.css set `[hidden] { display: none !important; }` so we also need the `!important` here to be able to override the default hidden behavior on the sphinx rendered scikit-learn.org. See: https://github.com/scikit-learn/scikit-learn/issues/21755 */display: inline-block !important;position: relative;}#sk-container-id-1 div.sk-text-repr-fallback {display: none;}</style><div id=\"sk-container-id-1\" class=\"sk-top-container\"><div class=\"sk-text-repr-fallback\"><pre>RandomForestClassifier(random_state=42)</pre><b>In a Jupyter environment, please rerun this cell to show the HTML representation or trust the notebook. <br />On GitHub, the HTML representation is unable to render, please try loading this page with nbviewer.org.</b></div><div class=\"sk-container\" hidden><div class=\"sk-item\"><div class=\"sk-estimator sk-toggleable\"><input class=\"sk-toggleable__control sk-hidden--visually\" id=\"sk-estimator-id-1\" type=\"checkbox\" checked><label for=\"sk-estimator-id-1\" class=\"sk-toggleable__label sk-toggleable__label-arrow\">RandomForestClassifier</label><div class=\"sk-toggleable__content\"><pre>RandomForestClassifier(random_state=42)</pre></div></div></div></div></div>"
            ]
          },
          "metadata": {},
          "execution_count": 13
        }
      ],
      "source": [
        "# Celda 1\n",
        "vect = CountVectorizer()\n",
        "X_dtm_train = vect.fit_transform(X_train)\n",
        "X_dtm_test = vect.transform(X_test)\n",
        "\n",
        "rfc = RandomForestClassifier(random_state=42)\n",
        "rfc.fit(X_dtm_train, y_train)"
      ]
    },
    {
      "cell_type": "code",
      "execution_count": null,
      "metadata": {
        "id": "c8kTakHM77E8",
        "outputId": "4abaf635-73ac-4a27-acd7-e28154db5f05",
        "colab": {
          "base_uri": "https://localhost:8080/",
          "height": 261
        }
      },
      "outputs": [
        {
          "output_type": "stream",
          "name": "stdout",
          "text": [
            "Accuracy: 0.7711092715231788\n",
            "Error: 0.22889072847682124\n",
            "              precision    recall  f1-score   support\n",
            "\n",
            "    negative       0.78      0.96      0.86      3085\n",
            "     neutral       0.69      0.41      0.51       984\n",
            "    positive       0.84      0.47      0.60       763\n",
            "\n",
            "    accuracy                           0.77      4832\n",
            "   macro avg       0.77      0.61      0.66      4832\n",
            "weighted avg       0.77      0.77      0.75      4832\n",
            "\n"
          ]
        },
        {
          "output_type": "display_data",
          "data": {
            "text/plain": [
              "<Figure size 500x500 with 0 Axes>"
            ]
          },
          "metadata": {}
        }
      ],
      "source": [
        "prediccionesRFC=rfc.predict(X_dtm_test)\n",
        "prediccionesProbRFC=rfc.predict_proba(X_dtm_test)\n",
        "\n",
        "model_score_rfc_pto1, model_scores_rfc_pto1 = \\\n",
        "    performance_multiclass_clasification_model(\n",
        "        y_true=y_test,\n",
        "        y_pred=prediccionesRFC,\n",
        "        y_score=prediccionesProbRFC,\n",
        "        classes=rfc.classes_,\n",
        "        classnames=target_names,\n",
        "        figsize=(5,5),                  # tamanio de grafica\n",
        "        prop=dict(size=6)               # tamanio de leyenda\n",
        "    )"
      ]
    },
    {
      "cell_type": "markdown",
      "source": [
        "En este caso fue posible ver que con un modelo usando CountVectorizer el accuracy es igual a 77.11%, es decir que al 77.25% de los casos se clasifica correctamente y con un error del 22.89% los datos de la muestra se clasifican incorrectamente.\n",
        "\n",
        "# $Accuracy = \\frac{\\text{Datos Clasificados correctamente}}{\\text{Numero total de muestras}}\\times 100\\%$\n",
        "\n",
        "# $Error = 100\\% - Accuracy$\n",
        "\n",
        "El modelo por tanto, ha predicho correctamente el sentimiento de los tweets 77% de las veces en el conjunto de datos de prueba, lo cual indica que el modelo es generalmente capaz de distinguir entre sentimientos positivos, negativos y neutrales en los tweets de manera efectiva en la mayoría de los casos.\n",
        "\n",
        "Complementando lo anterior, el Análisis de Resultados a nivel Clase para la precisión es el siguiente:\n",
        "\n",
        "Negativo:\n",
        "\n",
        "Precisión: 0.78, indica que cuando el modelo predice un tweet como negativo, es correcto el 78% de las veces, recall: 0.96, significa que el modelo identifica correctamente el 96% de todos los tweets negativos reales, F1-score: 0.86, F1-score alto sugiere un buen equilibrio entre precisión y recall, lo cual es positivo para la clase de tweets negativos\n",
        "\n",
        "Neutral:\n",
        "\n",
        "Precisión: 0.69, La precisión es más baja en comparación con la clase negativa, lo que indica más falsos positivos para esta clase, recall: 0.41, es bajo, indicando que muchos tweets neutrales no son identificados correctamente por el modelo, F1-score 0.51, bajo, refleja la dificultad del modelo para equilibrar precisión y recall en esta clase.\n",
        "\n",
        "Positivo:\n",
        "\n",
        "Precisión: 0.84, buena precisión, lo que sugiere que las predicciones positivas son confiables, recall: 0.47, similar al caso neutral, el recall bajo muestra que muchos tweets positivos no son detectados, F1-score: 0.60, moderado, refleja los retos en la detección efectiva de tweets positivos."
      ],
      "metadata": {
        "id": "wv3d-s1f-mit"
      }
    },
    {
      "cell_type": "markdown",
      "metadata": {
        "id": "6DcdQV5k77E9"
      },
      "source": [
        "### Punto 2 - Eliminación de Stopwords\n",
        "\n",
        "En la celda 2 creen un modelo de random forest con la libreria sklearn que prediga el sentimiento de los tweets usando los set de entrenamiento y test definidos anteriormente. Usen la función CountVectorizer, **eliminen stopwords** y presenten el desempeño del modelo con la métrica del acurracy.\n",
        "\n",
        "Recuerden que el preprocesamiento que se haga sobre los datos de entrenamiento  (*.fit_transform()*) deben ser aplicado al set de test (*.transform()*)."
      ]
    },
    {
      "cell_type": "code",
      "execution_count": null,
      "metadata": {
        "id": "gIAa3Zf077E9",
        "outputId": "e33e4aec-7b87-4b23-bb7d-f84f39b3078d",
        "colab": {
          "base_uri": "https://localhost:8080/",
          "height": 75
        }
      },
      "outputs": [
        {
          "output_type": "execute_result",
          "data": {
            "text/plain": [
              "RandomForestClassifier(random_state=42)"
            ],
            "text/html": [
              "<style>#sk-container-id-2 {color: black;background-color: white;}#sk-container-id-2 pre{padding: 0;}#sk-container-id-2 div.sk-toggleable {background-color: white;}#sk-container-id-2 label.sk-toggleable__label {cursor: pointer;display: block;width: 100%;margin-bottom: 0;padding: 0.3em;box-sizing: border-box;text-align: center;}#sk-container-id-2 label.sk-toggleable__label-arrow:before {content: \"▸\";float: left;margin-right: 0.25em;color: #696969;}#sk-container-id-2 label.sk-toggleable__label-arrow:hover:before {color: black;}#sk-container-id-2 div.sk-estimator:hover label.sk-toggleable__label-arrow:before {color: black;}#sk-container-id-2 div.sk-toggleable__content {max-height: 0;max-width: 0;overflow: hidden;text-align: left;background-color: #f0f8ff;}#sk-container-id-2 div.sk-toggleable__content pre {margin: 0.2em;color: black;border-radius: 0.25em;background-color: #f0f8ff;}#sk-container-id-2 input.sk-toggleable__control:checked~div.sk-toggleable__content {max-height: 200px;max-width: 100%;overflow: auto;}#sk-container-id-2 input.sk-toggleable__control:checked~label.sk-toggleable__label-arrow:before {content: \"▾\";}#sk-container-id-2 div.sk-estimator input.sk-toggleable__control:checked~label.sk-toggleable__label {background-color: #d4ebff;}#sk-container-id-2 div.sk-label input.sk-toggleable__control:checked~label.sk-toggleable__label {background-color: #d4ebff;}#sk-container-id-2 input.sk-hidden--visually {border: 0;clip: rect(1px 1px 1px 1px);clip: rect(1px, 1px, 1px, 1px);height: 1px;margin: -1px;overflow: hidden;padding: 0;position: absolute;width: 1px;}#sk-container-id-2 div.sk-estimator {font-family: monospace;background-color: #f0f8ff;border: 1px dotted black;border-radius: 0.25em;box-sizing: border-box;margin-bottom: 0.5em;}#sk-container-id-2 div.sk-estimator:hover {background-color: #d4ebff;}#sk-container-id-2 div.sk-parallel-item::after {content: \"\";width: 100%;border-bottom: 1px solid gray;flex-grow: 1;}#sk-container-id-2 div.sk-label:hover label.sk-toggleable__label {background-color: #d4ebff;}#sk-container-id-2 div.sk-serial::before {content: \"\";position: absolute;border-left: 1px solid gray;box-sizing: border-box;top: 0;bottom: 0;left: 50%;z-index: 0;}#sk-container-id-2 div.sk-serial {display: flex;flex-direction: column;align-items: center;background-color: white;padding-right: 0.2em;padding-left: 0.2em;position: relative;}#sk-container-id-2 div.sk-item {position: relative;z-index: 1;}#sk-container-id-2 div.sk-parallel {display: flex;align-items: stretch;justify-content: center;background-color: white;position: relative;}#sk-container-id-2 div.sk-item::before, #sk-container-id-2 div.sk-parallel-item::before {content: \"\";position: absolute;border-left: 1px solid gray;box-sizing: border-box;top: 0;bottom: 0;left: 50%;z-index: -1;}#sk-container-id-2 div.sk-parallel-item {display: flex;flex-direction: column;z-index: 1;position: relative;background-color: white;}#sk-container-id-2 div.sk-parallel-item:first-child::after {align-self: flex-end;width: 50%;}#sk-container-id-2 div.sk-parallel-item:last-child::after {align-self: flex-start;width: 50%;}#sk-container-id-2 div.sk-parallel-item:only-child::after {width: 0;}#sk-container-id-2 div.sk-dashed-wrapped {border: 1px dashed gray;margin: 0 0.4em 0.5em 0.4em;box-sizing: border-box;padding-bottom: 0.4em;background-color: white;}#sk-container-id-2 div.sk-label label {font-family: monospace;font-weight: bold;display: inline-block;line-height: 1.2em;}#sk-container-id-2 div.sk-label-container {text-align: center;}#sk-container-id-2 div.sk-container {/* jupyter's `normalize.less` sets `[hidden] { display: none; }` but bootstrap.min.css set `[hidden] { display: none !important; }` so we also need the `!important` here to be able to override the default hidden behavior on the sphinx rendered scikit-learn.org. See: https://github.com/scikit-learn/scikit-learn/issues/21755 */display: inline-block !important;position: relative;}#sk-container-id-2 div.sk-text-repr-fallback {display: none;}</style><div id=\"sk-container-id-2\" class=\"sk-top-container\"><div class=\"sk-text-repr-fallback\"><pre>RandomForestClassifier(random_state=42)</pre><b>In a Jupyter environment, please rerun this cell to show the HTML representation or trust the notebook. <br />On GitHub, the HTML representation is unable to render, please try loading this page with nbviewer.org.</b></div><div class=\"sk-container\" hidden><div class=\"sk-item\"><div class=\"sk-estimator sk-toggleable\"><input class=\"sk-toggleable__control sk-hidden--visually\" id=\"sk-estimator-id-2\" type=\"checkbox\" checked><label for=\"sk-estimator-id-2\" class=\"sk-toggleable__label sk-toggleable__label-arrow\">RandomForestClassifier</label><div class=\"sk-toggleable__content\"><pre>RandomForestClassifier(random_state=42)</pre></div></div></div></div></div>"
            ]
          },
          "metadata": {},
          "execution_count": 16
        }
      ],
      "source": [
        "# Celda 2\n",
        "vect_no_stop_words = CountVectorizer(stop_words='english')\n",
        "X_dtm_train_nsw = vect_no_stop_words.fit_transform(X_train)\n",
        "X_dtm_test_nsw = vect_no_stop_words.transform(X_test)\n",
        "\n",
        "rfc_nsw = RandomForestClassifier(random_state=42)\n",
        "rfc_nsw.fit(X_dtm_train_nsw, y_train)"
      ]
    },
    {
      "cell_type": "code",
      "execution_count": null,
      "metadata": {
        "id": "3o9ezdbT77E9",
        "outputId": "cbec1ba5-6910-4152-c590-dc2a409621a6",
        "colab": {
          "base_uri": "https://localhost:8080/",
          "height": 261
        }
      },
      "outputs": [
        {
          "output_type": "stream",
          "name": "stdout",
          "text": [
            "Accuracy: 0.761796357615894\n",
            "Error: 0.23820364238410596\n",
            "              precision    recall  f1-score   support\n",
            "\n",
            "    negative       0.82      0.89      0.85      3085\n",
            "     neutral       0.57      0.49      0.53       984\n",
            "    positive       0.71      0.60      0.65       763\n",
            "\n",
            "    accuracy                           0.76      4832\n",
            "   macro avg       0.70      0.66      0.68      4832\n",
            "weighted avg       0.75      0.76      0.75      4832\n",
            "\n"
          ]
        },
        {
          "output_type": "display_data",
          "data": {
            "text/plain": [
              "<Figure size 500x500 with 0 Axes>"
            ]
          },
          "metadata": {}
        }
      ],
      "source": [
        "prediccionesRFC_NSW=rfc_nsw.predict(X_dtm_test_nsw)\n",
        "prediccionesProbRFC_NSW=rfc_nsw.predict_proba(X_dtm_test_nsw)\n",
        "\n",
        "model_score_rfc_nsw_pto2, model_scores_rfc_nsw_pto2 = \\\n",
        "    performance_multiclass_clasification_model(\n",
        "        y_true=y_test,\n",
        "        y_pred=prediccionesRFC_NSW,\n",
        "        y_score=prediccionesProbRFC_NSW,\n",
        "        classes=rfc_nsw.classes_,\n",
        "        classnames=target_names,\n",
        "        figsize=(5,5),                  # tamanio de grafica\n",
        "        prop=dict(size=6)               # tamanio de leyenda\n",
        "    )"
      ]
    },
    {
      "cell_type": "markdown",
      "source": [
        "En este caso nuevamente se utilizó CountVectorizer sin embargo, en este caso se eliminan *stop words* como palabras intermedias en frases como *y, al, del, mas, por* entre otras\n",
        "\n",
        "En este caso el Accuracy fue del 76.18% lo que es un poco más bajo al que se habia definido anteriormente, y con un error mayor del 23.82%.\n",
        "\n",
        "# $Accuracy = \\frac{\\text{Datos Clasificados correctamente}}{\\text{Numero total de muestras}}\\times 100\\%$\n",
        "\n",
        "# $Error = 100\\% - Accuracy$\n",
        "\n",
        "El modelo por tanto, ha sido capaz de predecir correctamente el sentimiento de los tweets el 76% de las veces comparando con el modelo del punto 1, sin eliminar stopwords que tenía un accuracy de 0.77, se observa una ligera disminución en el rendimiento general.\n",
        "\n",
        "Complementando lo anterior, el Análisis de Resultados a nivel Clase para la precisión es el siguiente:\n",
        "\n",
        "Negativos:\n",
        "\n",
        "Precisión: 0.82, esto indica que el modelo es bastante preciso al identificar tweets negativos, recall: 0.89, el modelo tiene un buen rendimiento en identificar correctamente la mayoría de los tweets negativos reales, F1-score: 0.85, bueno sugiere un buen equilibrio entre precisión y recall para tweets negativos.\n",
        "\n",
        "Neutrales:\n",
        "\n",
        "Precisión: 0.57, la precisión es baja, indicando que el modelo confunde otros sentimientos como neutrales, recall: 0.49, menos de la mitad de los tweets neutrales reales son identificados correctamente, lo que muestra dificultades en esta clase, F1-score: 0.53, bajo refleja los desafíos en equilibrar precisión y recall para esta categoría.\n",
        "\n",
        "Positivos:\n",
        "\n",
        "Precisión: 0.71, indica una precisión decente para identificar tweets positivos, recall: 0.60, sugiera que se pierden algunos tweets positivos reales, F1-score: 0.65, moderado, requiere mejoras necesarias para equilibrar la precisión y el recall\n",
        "\n",
        "La eliminación de stopwords ha tenido un impacto marginal en la precisión general del modelo y ha variado ligeramente las métricas de precisión, recall y F1-score para las diferentes clases.\n"
      ],
      "metadata": {
        "id": "TZIVsAYcBick"
      }
    },
    {
      "cell_type": "markdown",
      "metadata": {
        "id": "xYMM4FJm77E-"
      },
      "source": [
        "### Punto 3 - Lematización con verbos\n",
        "\n",
        "En la celda 3 creen un modelo de random forest con la libreria sklearn que prediga el sentimiento de los tweets usando los set de entrenamiento y test definidos anteriormente. Usen la función CountVectorizer, **lematizen el texto con verbos** y presenten el desempeño del modelo con la métrica del acurracy.\n",
        "\n",
        "Recuerden que el preprocesamiento que se haga sobre los datos de entrenamiento  (*.fit_transform()*) deben ser aplicado al set de test (*.transform()*)."
      ]
    },
    {
      "cell_type": "code",
      "execution_count": null,
      "metadata": {
        "id": "lCyENksz77E-",
        "outputId": "c2f4f844-f67b-420e-d28d-889d4298bbb7",
        "colab": {
          "base_uri": "https://localhost:8080/"
        }
      },
      "outputs": [
        {
          "output_type": "stream",
          "name": "stderr",
          "text": [
            "[nltk_data] Downloading package wordnet to /root/nltk_data...\n",
            "[nltk_data]   Package wordnet is already up-to-date!\n"
          ]
        }
      ],
      "source": [
        "# Celda 3\n",
        "import nltk\n",
        "nltk.download('wordnet')\n",
        "\n",
        "def split_into_lemmas(text):\n",
        "    wordnet_lemmatizer = WordNetLemmatizer()\n",
        "    text = text.lower()\n",
        "    words = text.split()\n",
        "    return [wordnet_lemmatizer.lemmatize(word ,pos='v') for word in words]"
      ]
    },
    {
      "cell_type": "code",
      "execution_count": null,
      "metadata": {
        "id": "-5zHXZWD77E-",
        "outputId": "c8cfa89c-0ada-4bfc-a382-774068aaea39",
        "colab": {
          "base_uri": "https://localhost:8080/",
          "height": 75
        }
      },
      "outputs": [
        {
          "output_type": "execute_result",
          "data": {
            "text/plain": [
              "RandomForestClassifier(random_state=42)"
            ],
            "text/html": [
              "<style>#sk-container-id-3 {color: black;background-color: white;}#sk-container-id-3 pre{padding: 0;}#sk-container-id-3 div.sk-toggleable {background-color: white;}#sk-container-id-3 label.sk-toggleable__label {cursor: pointer;display: block;width: 100%;margin-bottom: 0;padding: 0.3em;box-sizing: border-box;text-align: center;}#sk-container-id-3 label.sk-toggleable__label-arrow:before {content: \"▸\";float: left;margin-right: 0.25em;color: #696969;}#sk-container-id-3 label.sk-toggleable__label-arrow:hover:before {color: black;}#sk-container-id-3 div.sk-estimator:hover label.sk-toggleable__label-arrow:before {color: black;}#sk-container-id-3 div.sk-toggleable__content {max-height: 0;max-width: 0;overflow: hidden;text-align: left;background-color: #f0f8ff;}#sk-container-id-3 div.sk-toggleable__content pre {margin: 0.2em;color: black;border-radius: 0.25em;background-color: #f0f8ff;}#sk-container-id-3 input.sk-toggleable__control:checked~div.sk-toggleable__content {max-height: 200px;max-width: 100%;overflow: auto;}#sk-container-id-3 input.sk-toggleable__control:checked~label.sk-toggleable__label-arrow:before {content: \"▾\";}#sk-container-id-3 div.sk-estimator input.sk-toggleable__control:checked~label.sk-toggleable__label {background-color: #d4ebff;}#sk-container-id-3 div.sk-label input.sk-toggleable__control:checked~label.sk-toggleable__label {background-color: #d4ebff;}#sk-container-id-3 input.sk-hidden--visually {border: 0;clip: rect(1px 1px 1px 1px);clip: rect(1px, 1px, 1px, 1px);height: 1px;margin: -1px;overflow: hidden;padding: 0;position: absolute;width: 1px;}#sk-container-id-3 div.sk-estimator {font-family: monospace;background-color: #f0f8ff;border: 1px dotted black;border-radius: 0.25em;box-sizing: border-box;margin-bottom: 0.5em;}#sk-container-id-3 div.sk-estimator:hover {background-color: #d4ebff;}#sk-container-id-3 div.sk-parallel-item::after {content: \"\";width: 100%;border-bottom: 1px solid gray;flex-grow: 1;}#sk-container-id-3 div.sk-label:hover label.sk-toggleable__label {background-color: #d4ebff;}#sk-container-id-3 div.sk-serial::before {content: \"\";position: absolute;border-left: 1px solid gray;box-sizing: border-box;top: 0;bottom: 0;left: 50%;z-index: 0;}#sk-container-id-3 div.sk-serial {display: flex;flex-direction: column;align-items: center;background-color: white;padding-right: 0.2em;padding-left: 0.2em;position: relative;}#sk-container-id-3 div.sk-item {position: relative;z-index: 1;}#sk-container-id-3 div.sk-parallel {display: flex;align-items: stretch;justify-content: center;background-color: white;position: relative;}#sk-container-id-3 div.sk-item::before, #sk-container-id-3 div.sk-parallel-item::before {content: \"\";position: absolute;border-left: 1px solid gray;box-sizing: border-box;top: 0;bottom: 0;left: 50%;z-index: -1;}#sk-container-id-3 div.sk-parallel-item {display: flex;flex-direction: column;z-index: 1;position: relative;background-color: white;}#sk-container-id-3 div.sk-parallel-item:first-child::after {align-self: flex-end;width: 50%;}#sk-container-id-3 div.sk-parallel-item:last-child::after {align-self: flex-start;width: 50%;}#sk-container-id-3 div.sk-parallel-item:only-child::after {width: 0;}#sk-container-id-3 div.sk-dashed-wrapped {border: 1px dashed gray;margin: 0 0.4em 0.5em 0.4em;box-sizing: border-box;padding-bottom: 0.4em;background-color: white;}#sk-container-id-3 div.sk-label label {font-family: monospace;font-weight: bold;display: inline-block;line-height: 1.2em;}#sk-container-id-3 div.sk-label-container {text-align: center;}#sk-container-id-3 div.sk-container {/* jupyter's `normalize.less` sets `[hidden] { display: none; }` but bootstrap.min.css set `[hidden] { display: none !important; }` so we also need the `!important` here to be able to override the default hidden behavior on the sphinx rendered scikit-learn.org. See: https://github.com/scikit-learn/scikit-learn/issues/21755 */display: inline-block !important;position: relative;}#sk-container-id-3 div.sk-text-repr-fallback {display: none;}</style><div id=\"sk-container-id-3\" class=\"sk-top-container\"><div class=\"sk-text-repr-fallback\"><pre>RandomForestClassifier(random_state=42)</pre><b>In a Jupyter environment, please rerun this cell to show the HTML representation or trust the notebook. <br />On GitHub, the HTML representation is unable to render, please try loading this page with nbviewer.org.</b></div><div class=\"sk-container\" hidden><div class=\"sk-item\"><div class=\"sk-estimator sk-toggleable\"><input class=\"sk-toggleable__control sk-hidden--visually\" id=\"sk-estimator-id-3\" type=\"checkbox\" checked><label for=\"sk-estimator-id-3\" class=\"sk-toggleable__label sk-toggleable__label-arrow\">RandomForestClassifier</label><div class=\"sk-toggleable__content\"><pre>RandomForestClassifier(random_state=42)</pre></div></div></div></div></div>"
            ]
          },
          "metadata": {},
          "execution_count": 20
        }
      ],
      "source": [
        "vect_lemas = CountVectorizer(analyzer=split_into_lemmas)\n",
        "X_dtm_train_lemas = vect_lemas.fit_transform(X_train)\n",
        "X_dtm_test_lemas = vect_lemas.transform(X_test)\n",
        "\n",
        "rfc_lemas = RandomForestClassifier(random_state=42)\n",
        "rfc_lemas.fit(X_dtm_train_lemas, y_train)"
      ]
    },
    {
      "cell_type": "code",
      "execution_count": null,
      "metadata": {
        "id": "7CWdQDCx77E_",
        "outputId": "18f9b374-ac19-45e1-87c7-6d0ef0fdbc5d",
        "colab": {
          "base_uri": "https://localhost:8080/",
          "height": 261
        }
      },
      "outputs": [
        {
          "output_type": "stream",
          "name": "stdout",
          "text": [
            "Accuracy: 0.7595198675496688\n",
            "Error: 0.24048013245033117\n",
            "              precision    recall  f1-score   support\n",
            "\n",
            "    negative       0.76      0.97      0.85      3085\n",
            "     neutral       0.69      0.37      0.48       984\n",
            "    positive       0.84      0.41      0.55       763\n",
            "\n",
            "    accuracy                           0.76      4832\n",
            "   macro avg       0.76      0.58      0.63      4832\n",
            "weighted avg       0.76      0.76      0.73      4832\n",
            "\n"
          ]
        },
        {
          "output_type": "display_data",
          "data": {
            "text/plain": [
              "<Figure size 500x500 with 0 Axes>"
            ]
          },
          "metadata": {}
        }
      ],
      "source": [
        "prediccionesRFC_LEMAS=rfc_lemas.predict(X_dtm_test_lemas)\n",
        "prediccionesProbRFC_LEMAS=rfc_lemas.predict_proba(X_dtm_test_lemas)\n",
        "\n",
        "model_score_rfc_lemas_pto3, model_scores_rfc_lemas_pto3 = \\\n",
        "    performance_multiclass_clasification_model(\n",
        "        y_true=y_test,\n",
        "        y_pred=prediccionesRFC_LEMAS,\n",
        "        y_score=prediccionesProbRFC_LEMAS,\n",
        "        classes=rfc_lemas.classes_,\n",
        "        classnames=target_names,\n",
        "        figsize=(5,5),                  # tamanio de grafica\n",
        "        prop=dict(size=6)               # tamanio de leyenda\n",
        "    )"
      ]
    },
    {
      "cell_type": "markdown",
      "source": [
        "Nuevamente se uso CountVectorizer pero esta vez usando lematizacion o lemming, qu se basa en el lema de una palabra o su forma base, como por ejemplo pasar dije, diré y dijieramos a el lema decir.\n",
        "\n",
        "En este caso el Accuracy fue del 75.95% lo que es un poco peor al que se había definido anteriormente tanto con eliminacion de *stop words* y con la tokenizacionn completa, y con un error mayor del 24.05%.\n",
        "\n",
        "# $Accuracy = \\frac{\\text{Datos Clasificados correctamente}}{\\text{Numero total de muestras}}\\times 100\\%$\n",
        "\n",
        "# $Error = 100\\% - Accuracy$\n",
        "\n",
        "Complementando lo anterior, el Análisis de Resultados a nivel Clase para la precisión es el siguiente:\n",
        "\n",
        "Negativo:\n",
        "\n",
        "Precisión: 0.76, el modelo es preciso al identificar tweets negativos ,recall 0.97, el modelo es muy efectivo al capturar la gran mayoría de tweets negativos, lo cual es positivo, considerando que esta es la clase predominante. F1-score: 0.85, un buen equilibrio entre precisión y recall, indicando un rendimiento sólido para esta categoría.\n",
        "\n",
        "Neutral:\n",
        "\n",
        "Precisión: 0.69, la precisión es moderada; el modelo aún confunde otras categorías como neutrales, recall: 0.37, el modelo tiene dificultades para identificar correctamente los tweets neutrales, perdiendo más de la mitad de ellos. F1-score: 0.48, refleja el rendimiento mediocre en la identificación de tweets neutrales.\n",
        "\n",
        "Positivo:\n",
        "\n",
        "Precisión: 0.84, alta precisión, indicando que cuando el modelo predice un tweet como positivo, es muy probable que sea correcto, por otro lado recall: 0.41, similar a los neutrales, el modelo no es efectivo al identificar todos los tweets positivos, F1-score: 0.55, el F1-score es relativamente bajo, lo que refleja la dificultad en equilibrar precisión y recall para esta clase.\n",
        "\n",
        "La lematización de verbos no ha mejorado significativamente el rendimiento general del modelo en comparación con los modelos anteriores, esto podría sugerir que el contexto verbal por sí solo no es suficiente para capturar en el análisis de sentimientos o que la precisión en las clases neutral y positiva necesita enfoques adicionales."
      ],
      "metadata": {
        "id": "Bbc_bwKREnbL"
      }
    },
    {
      "cell_type": "markdown",
      "metadata": {
        "id": "sWA7w5fo77E_"
      },
      "source": [
        "### Punto 4 - Multiples técnicas\n",
        "\n",
        "En la celda 4 creen un modelo de random forest con la libreria sklearn que prediga el sentimiento de los tweets usando los set de entrenamiento y test definidos anteriormente. Usen la función **CountVectorizer, eliminen stopwords, lematizen el texto con verbos** y presenten el desempeño del modelo con la métrica del acurracy.\n",
        "\n",
        "Recuerden que el preprocesamiento que se haga sobre los datos de entrenamiento  (*.fit_transform()*) deben ser aplicado al set de test (*.transform()*)."
      ]
    },
    {
      "cell_type": "code",
      "execution_count": null,
      "metadata": {
        "id": "w42ojLdI77E_",
        "outputId": "a9b4e793-e66a-4dc2-bc36-3112a8195654",
        "colab": {
          "base_uri": "https://localhost:8080/",
          "height": 75
        }
      },
      "outputs": [
        {
          "output_type": "execute_result",
          "data": {
            "text/plain": [
              "RandomForestClassifier(random_state=42)"
            ],
            "text/html": [
              "<style>#sk-container-id-4 {color: black;background-color: white;}#sk-container-id-4 pre{padding: 0;}#sk-container-id-4 div.sk-toggleable {background-color: white;}#sk-container-id-4 label.sk-toggleable__label {cursor: pointer;display: block;width: 100%;margin-bottom: 0;padding: 0.3em;box-sizing: border-box;text-align: center;}#sk-container-id-4 label.sk-toggleable__label-arrow:before {content: \"▸\";float: left;margin-right: 0.25em;color: #696969;}#sk-container-id-4 label.sk-toggleable__label-arrow:hover:before {color: black;}#sk-container-id-4 div.sk-estimator:hover label.sk-toggleable__label-arrow:before {color: black;}#sk-container-id-4 div.sk-toggleable__content {max-height: 0;max-width: 0;overflow: hidden;text-align: left;background-color: #f0f8ff;}#sk-container-id-4 div.sk-toggleable__content pre {margin: 0.2em;color: black;border-radius: 0.25em;background-color: #f0f8ff;}#sk-container-id-4 input.sk-toggleable__control:checked~div.sk-toggleable__content {max-height: 200px;max-width: 100%;overflow: auto;}#sk-container-id-4 input.sk-toggleable__control:checked~label.sk-toggleable__label-arrow:before {content: \"▾\";}#sk-container-id-4 div.sk-estimator input.sk-toggleable__control:checked~label.sk-toggleable__label {background-color: #d4ebff;}#sk-container-id-4 div.sk-label input.sk-toggleable__control:checked~label.sk-toggleable__label {background-color: #d4ebff;}#sk-container-id-4 input.sk-hidden--visually {border: 0;clip: rect(1px 1px 1px 1px);clip: rect(1px, 1px, 1px, 1px);height: 1px;margin: -1px;overflow: hidden;padding: 0;position: absolute;width: 1px;}#sk-container-id-4 div.sk-estimator {font-family: monospace;background-color: #f0f8ff;border: 1px dotted black;border-radius: 0.25em;box-sizing: border-box;margin-bottom: 0.5em;}#sk-container-id-4 div.sk-estimator:hover {background-color: #d4ebff;}#sk-container-id-4 div.sk-parallel-item::after {content: \"\";width: 100%;border-bottom: 1px solid gray;flex-grow: 1;}#sk-container-id-4 div.sk-label:hover label.sk-toggleable__label {background-color: #d4ebff;}#sk-container-id-4 div.sk-serial::before {content: \"\";position: absolute;border-left: 1px solid gray;box-sizing: border-box;top: 0;bottom: 0;left: 50%;z-index: 0;}#sk-container-id-4 div.sk-serial {display: flex;flex-direction: column;align-items: center;background-color: white;padding-right: 0.2em;padding-left: 0.2em;position: relative;}#sk-container-id-4 div.sk-item {position: relative;z-index: 1;}#sk-container-id-4 div.sk-parallel {display: flex;align-items: stretch;justify-content: center;background-color: white;position: relative;}#sk-container-id-4 div.sk-item::before, #sk-container-id-4 div.sk-parallel-item::before {content: \"\";position: absolute;border-left: 1px solid gray;box-sizing: border-box;top: 0;bottom: 0;left: 50%;z-index: -1;}#sk-container-id-4 div.sk-parallel-item {display: flex;flex-direction: column;z-index: 1;position: relative;background-color: white;}#sk-container-id-4 div.sk-parallel-item:first-child::after {align-self: flex-end;width: 50%;}#sk-container-id-4 div.sk-parallel-item:last-child::after {align-self: flex-start;width: 50%;}#sk-container-id-4 div.sk-parallel-item:only-child::after {width: 0;}#sk-container-id-4 div.sk-dashed-wrapped {border: 1px dashed gray;margin: 0 0.4em 0.5em 0.4em;box-sizing: border-box;padding-bottom: 0.4em;background-color: white;}#sk-container-id-4 div.sk-label label {font-family: monospace;font-weight: bold;display: inline-block;line-height: 1.2em;}#sk-container-id-4 div.sk-label-container {text-align: center;}#sk-container-id-4 div.sk-container {/* jupyter's `normalize.less` sets `[hidden] { display: none; }` but bootstrap.min.css set `[hidden] { display: none !important; }` so we also need the `!important` here to be able to override the default hidden behavior on the sphinx rendered scikit-learn.org. See: https://github.com/scikit-learn/scikit-learn/issues/21755 */display: inline-block !important;position: relative;}#sk-container-id-4 div.sk-text-repr-fallback {display: none;}</style><div id=\"sk-container-id-4\" class=\"sk-top-container\"><div class=\"sk-text-repr-fallback\"><pre>RandomForestClassifier(random_state=42)</pre><b>In a Jupyter environment, please rerun this cell to show the HTML representation or trust the notebook. <br />On GitHub, the HTML representation is unable to render, please try loading this page with nbviewer.org.</b></div><div class=\"sk-container\" hidden><div class=\"sk-item\"><div class=\"sk-estimator sk-toggleable\"><input class=\"sk-toggleable__control sk-hidden--visually\" id=\"sk-estimator-id-4\" type=\"checkbox\" checked><label for=\"sk-estimator-id-4\" class=\"sk-toggleable__label sk-toggleable__label-arrow\">RandomForestClassifier</label><div class=\"sk-toggleable__content\"><pre>RandomForestClassifier(random_state=42)</pre></div></div></div></div></div>"
            ]
          },
          "metadata": {},
          "execution_count": 23
        }
      ],
      "source": [
        "# Celda 4\n",
        "def split_into_lemmas2(text):\n",
        "    wordnet_lemmatizer = WordNetLemmatizer()\n",
        "    text = text.lower()\n",
        "    words = text.split()\n",
        "    return [wordnet_lemmatizer.lemmatize(word, pos='v') for word in words]\n",
        "\n",
        "vect_custom = CountVectorizer(\n",
        "    stop_words='english',\n",
        "    analyzer=split_into_lemmas2\n",
        ")\n",
        "\n",
        "X_dtm_train_custom = vect_custom.fit_transform(X_train)\n",
        "X_dtm_test_custom = vect_custom.transform(X_test)\n",
        "\n",
        "rfc_custom = RandomForestClassifier(random_state=42)\n",
        "rfc_custom.fit(X_dtm_train_custom, y_train)"
      ]
    },
    {
      "cell_type": "code",
      "execution_count": null,
      "metadata": {
        "id": "hp-mljxl77FA",
        "outputId": "cb050a58-02a2-46d6-a3e4-a3bea26b19b7",
        "colab": {
          "base_uri": "https://localhost:8080/",
          "height": 261
        }
      },
      "outputs": [
        {
          "output_type": "stream",
          "name": "stdout",
          "text": [
            "Accuracy: 0.7595198675496688\n",
            "Error: 0.24048013245033117\n",
            "              precision    recall  f1-score   support\n",
            "\n",
            "    negative       0.76      0.97      0.85      3085\n",
            "     neutral       0.69      0.37      0.48       984\n",
            "    positive       0.84      0.41      0.55       763\n",
            "\n",
            "    accuracy                           0.76      4832\n",
            "   macro avg       0.76      0.58      0.63      4832\n",
            "weighted avg       0.76      0.76      0.73      4832\n",
            "\n"
          ]
        },
        {
          "output_type": "display_data",
          "data": {
            "text/plain": [
              "<Figure size 500x500 with 0 Axes>"
            ]
          },
          "metadata": {}
        }
      ],
      "source": [
        "prediccionesRFC_CUSTOM=rfc_custom.predict(X_dtm_test_custom)\n",
        "prediccionesProbRFC_CUSTOM=rfc_custom.predict_proba(X_dtm_test_custom)\n",
        "\n",
        "model_score_rfc_custom_pto4, model_scores_rfc_custom_pto4 = \\\n",
        "    performance_multiclass_clasification_model(\n",
        "        y_true=y_test,\n",
        "        y_pred=prediccionesRFC_CUSTOM,\n",
        "        y_score=prediccionesProbRFC_CUSTOM,\n",
        "        classes=rfc_custom.classes_,\n",
        "        classnames=target_names,\n",
        "        figsize=(5,5),                  # tamanio de grafica\n",
        "        prop=dict(size=6)               # tamanio de leyenda\n",
        "    )"
      ]
    },
    {
      "cell_type": "markdown",
      "source": [
        "Finalmente se utilizan las dos formas de tokenizacion como quitar las *stop words* y la lematizacion\n",
        "\n",
        "En este caso el Accuracy fue del 75.95% lo que es igual al que se habia definido anteriormente con lematizacion, y con un error igual del 24.05%. Esto porque los textos son inglés, adicional a ello, se lleva el texto a minúsculas y el CounterVectorizer por defecto, toma el parametro `True` para vectorizar las palabras considerandolas como minúsculas (si se obviera esta linea `text = text.lower()` de la función `split_into_lemmas2`)\n",
        "\n",
        "# $Accuracy = \\frac{\\text{Datos Clasificados correctamente}}{\\text{Numero total de muestras}}\\times 100\\%$\n",
        "\n",
        "# $Error = 100\\% - Accuracy$\n",
        "\n",
        "Complementando lo anterior, el Análisis de Resultados a nivel Clase para la precisión es el siguiente:\n",
        "\n",
        "Negativo:\n",
        "\n",
        "Precisión: 0.76, el modelo es preciso al identificar tweets negativos ,recall 0.97, el modelo es muy efectivo al capturar la gran mayoría de tweets negativos, lo cual es positivo, considerando que esta es la clase predominante. F1-score: 0.85, un buen equilibrio entre precisión y recall, indicando un rendimiento sólido para esta categoría.\n",
        "\n",
        "Neutral:\n",
        "\n",
        "Precisión: 0.69, la precisión es moderada; el modelo aún confunde otras categorías como neutrales, recall: 0.37, el modelo tiene dificultades para identificar correctamente los tweets neutrales, perdiendo más de la mitad de ellos. F1-score: 0.48, refleja el rendimiento mediocre en la identificación de tweets neutrales.\n",
        "\n",
        "Positivo:\n",
        "\n",
        "Precisión: 0.84, alta precisión, indicando que cuando el modelo predice un tweet como positivo, es muy probable que sea correcto, por otro lado recall: 0.41, similar a los neutrales, el modelo no es efectivo al identificar todos los tweets positivos, F1-score: 0.55, el F1-score es relativamente bajo, lo que refleja la dificultad en equilibrar precisión y recall para esta clase.\n",
        "\n",
        "No se ha conseguido mejorar significativamente el rendimiento general del modelo en comparación con los modelos anteriores, esto podría sugerir que el contexto verbal por sí solo no es suficiente para capturar en el análisis de sentimientos o que la precisión en las clases neutral y positiva necesita enfoques adicionales."
      ],
      "metadata": {
        "id": "s7tTKww2HNGw"
      }
    },
    {
      "cell_type": "markdown",
      "metadata": {
        "id": "Yvi0-ygS77FA"
      },
      "source": [
        "### Punto 5 - Comparación y análisis de resultados\n",
        "\n",
        "En la celda 5 comparen los resultados obtenidos de los diferentes modelos (random forest) y comenten las ventajas del mejor modelo y las desventajas del modelo con el menor desempeño."
      ]
    },
    {
      "cell_type": "code",
      "execution_count": null,
      "metadata": {
        "id": "07qMRCgY77FB",
        "outputId": "e24cf081-fe87-43d5-f2f8-b3bdbfcb5ab2",
        "colab": {
          "base_uri": "https://localhost:8080/",
          "height": 957
        }
      },
      "outputs": [
        {
          "output_type": "execute_result",
          "data": {
            "text/plain": [
              "<pandas.io.formats.style.Styler at 0x7e30950bb7f0>"
            ],
            "text/html": [
              "<style type=\"text/css\">\n",
              "</style>\n",
              "<table id=\"T_5143e\" class=\"dataframe\">\n",
              "  <thead>\n",
              "    <tr>\n",
              "      <th class=\"blank level0\" >&nbsp;</th>\n",
              "      <th id=\"T_5143e_level0_col0\" class=\"col_heading level0 col0\" >model_name</th>\n",
              "      <th id=\"T_5143e_level0_col1\" class=\"col_heading level0 col1\" >accuracy</th>\n",
              "      <th id=\"T_5143e_level0_col2\" class=\"col_heading level0 col2\" >error</th>\n",
              "    </tr>\n",
              "  </thead>\n",
              "  <tbody>\n",
              "    <tr>\n",
              "      <th id=\"T_5143e_level0_row0\" class=\"row_heading level0 row0\" >0</th>\n",
              "      <td id=\"T_5143e_row0_col0\" class=\"data row0 col0\" >model_score_rfc_pto1</td>\n",
              "      <td id=\"T_5143e_row0_col1\" class=\"data row0 col1\" >0.771</td>\n",
              "      <td id=\"T_5143e_row0_col2\" class=\"data row0 col2\" >0.229</td>\n",
              "    </tr>\n",
              "    <tr>\n",
              "      <th id=\"T_5143e_level0_row1\" class=\"row_heading level0 row1\" >1</th>\n",
              "      <td id=\"T_5143e_row1_col0\" class=\"data row1 col0\" >model_score_rfc_nsw_pto2</td>\n",
              "      <td id=\"T_5143e_row1_col1\" class=\"data row1 col1\" >0.762</td>\n",
              "      <td id=\"T_5143e_row1_col2\" class=\"data row1 col2\" >0.238</td>\n",
              "    </tr>\n",
              "    <tr>\n",
              "      <th id=\"T_5143e_level0_row2\" class=\"row_heading level0 row2\" >2</th>\n",
              "      <td id=\"T_5143e_row2_col0\" class=\"data row2 col0\" >model_score_rfc_lemas_pto3</td>\n",
              "      <td id=\"T_5143e_row2_col1\" class=\"data row2 col1\" >0.760</td>\n",
              "      <td id=\"T_5143e_row2_col2\" class=\"data row2 col2\" >0.240</td>\n",
              "    </tr>\n",
              "    <tr>\n",
              "      <th id=\"T_5143e_level0_row3\" class=\"row_heading level0 row3\" >3</th>\n",
              "      <td id=\"T_5143e_row3_col0\" class=\"data row3 col0\" >model_score_rfc_custom_pto4</td>\n",
              "      <td id=\"T_5143e_row3_col1\" class=\"data row3 col1\" >0.760</td>\n",
              "      <td id=\"T_5143e_row3_col2\" class=\"data row3 col2\" >0.240</td>\n",
              "    </tr>\n",
              "  </tbody>\n",
              "</table>\n"
            ]
          },
          "metadata": {},
          "execution_count": 26
        },
        {
          "output_type": "display_data",
          "data": {
            "text/plain": [
              "<Figure size 500x400 with 1 Axes>"
            ],
            "image/png": "[encoded data removed]"
          },
          "metadata": {}
        },
        {
          "output_type": "display_data",
          "data": {
            "text/plain": [
              "<Figure size 500x400 with 1 Axes>"
            ],
            "image/png": "[encoded data removed]"
          },
          "metadata": {}
        }
      ],
      "source": [
        "# Celda 5\n",
        "target_variable: str = 'model_score_rfc'\n",
        "\n",
        "# Se arma el dataframe con el ranking de los AUC por modelo\n",
        "# Disponibles: ''accuracy', 'precision', 'error'\n",
        "metricas = ['accuracy', 'error']\n",
        "colors = [\"#00BE67\", \"#00A9FF\"][::-1]\n",
        "df: PandasDF = pd.DataFrame()\n",
        "\n",
        "for metrica, color in zip(metricas, colors):\n",
        "    scores_df = getscores(target_variable, metrica, color)\n",
        "    df = pd.concat([df, scores_df], axis=1)\n",
        "\n",
        "df = pd.concat(\n",
        "        [df.iloc[:,[0]] , df.loc[:,metricas]],\n",
        "        axis=1\n",
        "    ).sort_values(by='accuracy',  ascending=False)\n",
        "\n",
        "df.style.format({metrica: \"{:.3f}\" for metrica in metricas}) # 3 decimales"
      ]
    },
    {
      "cell_type": "markdown",
      "source": [
        "Como se puede ver el modelo con mayor accuracy fue el modelo del punto 1, sin lematizacion ni quitar stop words.\n",
        "\n",
        "En algunos casos, las palabras que normalmente se eliminarían como stopwords pueden ser informativas para la tarea de clasificación. Por ejemplo, en análisis de sentimientos, las stopwords como \"no\" o \"pero\" pueden ser cruciales para determinar el sentimiento de una oración.\n",
        "\n",
        "#Ventajas mejor modelo *CountVectorizer Original*\n",
        "Velocidad de entrenamiento y predicción: Al no incluir etapas adicionales de procesamiento de texto como lematización o eliminación de stopwords, el modelo puede entrenarse y hacer predicciones más rápidamente, lo que lo hace eficiente en términos de recursos computacionales.\n",
        "\n",
        "Flexibilidad: Al no restringir el vocabulario mediante la eliminación de stopwords, el modelo puede capturar matices en el lenguaje que podrían perderse de otro modo.\n",
        "\n",
        "Desempeño aceptable: Aunque las técnicas más avanzadas como la lematización y la eliminación de stopwords pueden mejorar el rendimiento en ciertos casos, un modelo simple basado en CountVectorizer puede proporcionar resultados aceptables en una amplia variedad de aplicaciones, especialmente cuando se combinan con algoritmos de aprendizaje más poderosos como Random Forests\n",
        "\n",
        "#Desventajas peor modelo *CountVectorizer Lematizacion*\n",
        "En algunos casos, tener las palabras originales sin lematización puede facilitar la interpretación de los resultados del modelo. Esto es especialmente cierto si se necesita entender qué palabras o términos están contribuyendo más a las predicciones del modelo.\n",
        "\n",
        "#Sentimientos Positivos, Negativos y Neutros\n",
        "Finalmente que se pudo observar en los puntos anteriores los modelos tienen un accuracy más alto a la hora de identificar sentimientos positivos y negativos, que los sentimientos neutrales, debido a que es más fácil identificar palabras que denotan estos sentimientos como por ejemplo Bueno, excelente o  feliz para el caso de los positivos o palabras como decepcionado, no me gustó, pésimo indican claramente sentimientos negativos, mientras que para los sentimientos neutrales son aquellas palabras que no son positivas y negativas por lo que es más difícil identificar este sentimiento, sin embargo hay que tener en cuenta algunos desafíos en el análisis de sentimientos como la ironía y el sarcasmo pues existen casos en los que las personas usan palabras positivas para denotar sentimientos negativos lo que hace más difícil clasificar correctamente los sentimientos.\n",
        "\n",
        "¿Qué es el análisis de sentimiento? https://www.elastic.co/es/what-is/sentiment-analysis\n"
      ],
      "metadata": {
        "id": "WsW03IR4Hxor"
      }
    },
    {
      "cell_type": "code",
      "source": [],
      "metadata": {
        "id": "W1WI4BGmUhGf"
      },
      "execution_count": null,
      "outputs": []
    }
  ],
  "metadata": {
    "kernelspec": {
      "display_name": "Python 3",
      "language": "python",
      "name": "python3"
    },
    "language_info": {
      "codemirror_mode": {
        "name": "ipython",
        "version": 3
      },
      "file_extension": ".py",
      "mimetype": "text/x-python",
      "name": "python",
      "nbconvert_exporter": "python",
      "pygments_lexer": "ipython3",
      "version": "3.10.12"
    },
    "vscode": {
      "interpreter": {
        "hash": "31f2aee4e71d21fbe5cf8b01ff0e069b9275f58929596ceb00d14d90e3e16cd6"
      }
    },
    "colab": {
      "provenance": [],
      "collapsed_sections": [
        "Bjua7kXpgP6F"
      ]
    }
  },
  "nbformat": 4,
  "nbformat_minor": 0
}