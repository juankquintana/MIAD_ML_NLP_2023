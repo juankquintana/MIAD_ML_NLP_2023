{
  "cells": [
    {
      "cell_type": "markdown",
      "metadata": {
        "id": "YEogySvv4nH3"
      },
      "source": [
        "![image info](https://raw.githubusercontent.com/albahnsen/MIAD_ML_and_NLP/main/images/banner_1.png)"
      ]
    },
    {
      "cell_type": "markdown",
      "metadata": {
        "id": "Q_uHlCC_4nH5"
      },
      "source": [
        "# Taller: Construcción e implementación de modelos Bagging, Random Forest y XGBoost\n",
        "\n",
        "En este taller podrán poner en práctica sus conocimientos sobre la construcción e implementación de modelos de Bagging, Random Forest y XGBoost. El taller está constituido por 8 puntos, en los cuales deberan seguir las intrucciones de cada numeral para su desarrollo."
      ]
    },
    {
      "cell_type": "markdown",
      "metadata": {
        "id": "K4qk6E7g4nH6"
      },
      "source": [
        "## Datos predicción precio de automóviles\n",
        "\n",
        "En este taller se usará el conjunto de datos de Car Listings de Kaggle donde cada observación representa el precio de un automóvil teniendo en cuenta distintas variables como año, marca, modelo, entre otras. El objetivo es predecir el precio del automóvil. Para más detalles puede visitar el siguiente enlace: [datos](https://www.kaggle.com/jpayne/852k-used-car-listings)."
      ]
    },
    {
      "cell_type": "code",
      "execution_count": null,
      "metadata": {
        "id": "CYHljh2U4nH6"
      },
      "outputs": [],
      "source": [
        "import warnings\n",
        "warnings.filterwarnings('ignore')"
      ]
    },
    {
      "cell_type": "code",
      "execution_count": null,
      "metadata": {
        "colab": {
          "base_uri": "https://localhost:8080/",
          "height": 206
        },
        "id": "83HUjhXK4nH7",
        "outputId": "204bbe08-9c40-4fc7-e139-efcd9d1cb9a4"
      },
      "outputs": [
        {
          "output_type": "execute_result",
          "data": {
            "text/plain": [
              "     Price  Year  Mileage  M_Camry  M_Camry4dr  M_CamryBase  M_CamryL  \\\n",
              "7    21995  2014     6480    False       False        False      True   \n",
              "11   13995  2014    39972    False       False        False     False   \n",
              "167  17941  2016    18989    False       False        False     False   \n",
              "225  12493  2014    51330    False       False        False      True   \n",
              "270   7994  2007   116065    False        True        False     False   \n",
              "\n",
              "     M_CamryLE  M_CamrySE  M_CamryXLE  \n",
              "7        False      False       False  \n",
              "11        True      False       False  \n",
              "167      False       True       False  \n",
              "225      False      False       False  \n",
              "270      False      False       False  "
            ],
            "text/html": [
              "\n",
              "  <div id=\"df-82c3462a-b59e-4e04-b64f-29864c2533eb\" class=\"colab-df-container\">\n",
              "    <div>\n",
              "<style scoped>\n",
              "    .dataframe tbody tr th:only-of-type {\n",
              "        vertical-align: middle;\n",
              "    }\n",
              "\n",
              "    .dataframe tbody tr th {\n",
              "        vertical-align: top;\n",
              "    }\n",
              "\n",
              "    .dataframe thead th {\n",
              "        text-align: right;\n",
              "    }\n",
              "</style>\n",
              "<table border=\"1\" class=\"dataframe\">\n",
              "  <thead>\n",
              "    <tr style=\"text-align: right;\">\n",
              "      <th></th>\n",
              "      <th>Price</th>\n",
              "      <th>Year</th>\n",
              "      <th>Mileage</th>\n",
              "      <th>M_Camry</th>\n",
              "      <th>M_Camry4dr</th>\n",
              "      <th>M_CamryBase</th>\n",
              "      <th>M_CamryL</th>\n",
              "      <th>M_CamryLE</th>\n",
              "      <th>M_CamrySE</th>\n",
              "      <th>M_CamryXLE</th>\n",
              "    </tr>\n",
              "  </thead>\n",
              "  <tbody>\n",
              "    <tr>\n",
              "      <th>7</th>\n",
              "      <td>21995</td>\n",
              "      <td>2014</td>\n",
              "      <td>6480</td>\n",
              "      <td>False</td>\n",
              "      <td>False</td>\n",
              "      <td>False</td>\n",
              "      <td>True</td>\n",
              "      <td>False</td>\n",
              "      <td>False</td>\n",
              "      <td>False</td>\n",
              "    </tr>\n",
              "    <tr>\n",
              "      <th>11</th>\n",
              "      <td>13995</td>\n",
              "      <td>2014</td>\n",
              "      <td>39972</td>\n",
              "      <td>False</td>\n",
              "      <td>False</td>\n",
              "      <td>False</td>\n",
              "      <td>False</td>\n",
              "      <td>True</td>\n",
              "      <td>False</td>\n",
              "      <td>False</td>\n",
              "    </tr>\n",
              "    <tr>\n",
              "      <th>167</th>\n",
              "      <td>17941</td>\n",
              "      <td>2016</td>\n",
              "      <td>18989</td>\n",
              "      <td>False</td>\n",
              "      <td>False</td>\n",
              "      <td>False</td>\n",
              "      <td>False</td>\n",
              "      <td>False</td>\n",
              "      <td>True</td>\n",
              "      <td>False</td>\n",
              "    </tr>\n",
              "    <tr>\n",
              "      <th>225</th>\n",
              "      <td>12493</td>\n",
              "      <td>2014</td>\n",
              "      <td>51330</td>\n",
              "      <td>False</td>\n",
              "      <td>False</td>\n",
              "      <td>False</td>\n",
              "      <td>True</td>\n",
              "      <td>False</td>\n",
              "      <td>False</td>\n",
              "      <td>False</td>\n",
              "    </tr>\n",
              "    <tr>\n",
              "      <th>270</th>\n",
              "      <td>7994</td>\n",
              "      <td>2007</td>\n",
              "      <td>116065</td>\n",
              "      <td>False</td>\n",
              "      <td>True</td>\n",
              "      <td>False</td>\n",
              "      <td>False</td>\n",
              "      <td>False</td>\n",
              "      <td>False</td>\n",
              "      <td>False</td>\n",
              "    </tr>\n",
              "  </tbody>\n",
              "</table>\n",
              "</div>\n",
              "    <div class=\"colab-df-buttons\">\n",
              "\n",
              "  <div class=\"colab-df-container\">\n",
              "    <button class=\"colab-df-convert\" onclick=\"convertToInteractive('df-82c3462a-b59e-4e04-b64f-29864c2533eb')\"\n",
              "            title=\"Convert this dataframe to an interactive table.\"\n",
              "            style=\"display:none;\">\n",
              "\n",
              "  <svg xmlns=\"http://www.w3.org/2000/svg\" height=\"24px\" viewBox=\"0 -960 960 960\">\n",
              "    <path d=\"M120-120v-720h720v720H120Zm60-500h600v-160H180v160Zm220 220h160v-160H400v160Zm0 220h160v-160H400v160ZM180-400h160v-160H180v160Zm440 0h160v-160H620v160ZM180-180h160v-160H180v160Zm440 0h160v-160H620v160Z\"/>\n",
              "  </svg>\n",
              "    </button>\n",
              "\n",
              "  <style>\n",
              "    .colab-df-container {\n",
              "      display:flex;\n",
              "      gap: 12px;\n",
              "    }\n",
              "\n",
              "    .colab-df-convert {\n",
              "      background-color: #E8F0FE;\n",
              "      border: none;\n",
              "      border-radius: 50%;\n",
              "      cursor: pointer;\n",
              "      display: none;\n",
              "      fill: #1967D2;\n",
              "      height: 32px;\n",
              "      padding: 0 0 0 0;\n",
              "      width: 32px;\n",
              "    }\n",
              "\n",
              "    .colab-df-convert:hover {\n",
              "      background-color: #E2EBFA;\n",
              "      box-shadow: 0px 1px 2px rgba(60, 64, 67, 0.3), 0px 1px 3px 1px rgba(60, 64, 67, 0.15);\n",
              "      fill: #174EA6;\n",
              "    }\n",
              "\n",
              "    .colab-df-buttons div {\n",
              "      margin-bottom: 4px;\n",
              "    }\n",
              "\n",
              "    [theme=dark] .colab-df-convert {\n",
              "      background-color: #3B4455;\n",
              "      fill: #D2E3FC;\n",
              "    }\n",
              "\n",
              "    [theme=dark] .colab-df-convert:hover {\n",
              "      background-color: #434B5C;\n",
              "      box-shadow: 0px 1px 3px 1px rgba(0, 0, 0, 0.15);\n",
              "      filter: drop-shadow(0px 1px 2px rgba(0, 0, 0, 0.3));\n",
              "      fill: #FFFFFF;\n",
              "    }\n",
              "  </style>\n",
              "\n",
              "    <script>\n",
              "      const buttonEl =\n",
              "        document.querySelector('#df-82c3462a-b59e-4e04-b64f-29864c2533eb button.colab-df-convert');\n",
              "      buttonEl.style.display =\n",
              "        google.colab.kernel.accessAllowed ? 'block' : 'none';\n",
              "\n",
              "      async function convertToInteractive(key) {\n",
              "        const element = document.querySelector('#df-82c3462a-b59e-4e04-b64f-29864c2533eb');\n",
              "        const dataTable =\n",
              "          await google.colab.kernel.invokeFunction('convertToInteractive',\n",
              "                                                    [key], {});\n",
              "        if (!dataTable) return;\n",
              "\n",
              "        const docLinkHtml = 'Like what you see? Visit the ' +\n",
              "          '<a target=\"_blank\" href=https://colab.research.google.com/notebooks/data_table.ipynb>data table notebook</a>'\n",
              "          + ' to learn more about interactive tables.';\n",
              "        element.innerHTML = '';\n",
              "        dataTable['output_type'] = 'display_data';\n",
              "        await google.colab.output.renderOutput(dataTable, element);\n",
              "        const docLink = document.createElement('div');\n",
              "        docLink.innerHTML = docLinkHtml;\n",
              "        element.appendChild(docLink);\n",
              "      }\n",
              "    </script>\n",
              "  </div>\n",
              "\n",
              "\n",
              "<div id=\"df-7cfaf3f7-9386-4ba8-9096-8f3bcd8dae1a\">\n",
              "  <button class=\"colab-df-quickchart\" onclick=\"quickchart('df-7cfaf3f7-9386-4ba8-9096-8f3bcd8dae1a')\"\n",
              "            title=\"Suggest charts\"\n",
              "            style=\"display:none;\">\n",
              "\n",
              "<svg xmlns=\"http://www.w3.org/2000/svg\" height=\"24px\"viewBox=\"0 0 24 24\"\n",
              "     width=\"24px\">\n",
              "    <g>\n",
              "        <path d=\"M19 3H5c-1.1 0-2 .9-2 2v14c0 1.1.9 2 2 2h14c1.1 0 2-.9 2-2V5c0-1.1-.9-2-2-2zM9 17H7v-7h2v7zm4 0h-2V7h2v10zm4 0h-2v-4h2v4z\"/>\n",
              "    </g>\n",
              "</svg>\n",
              "  </button>\n",
              "\n",
              "<style>\n",
              "  .colab-df-quickchart {\n",
              "      --bg-color: #E8F0FE;\n",
              "      --fill-color: #1967D2;\n",
              "      --hover-bg-color: #E2EBFA;\n",
              "      --hover-fill-color: #174EA6;\n",
              "      --disabled-fill-color: #AAA;\n",
              "      --disabled-bg-color: #DDD;\n",
              "  }\n",
              "\n",
              "  [theme=dark] .colab-df-quickchart {\n",
              "      --bg-color: #3B4455;\n",
              "      --fill-color: #D2E3FC;\n",
              "      --hover-bg-color: #434B5C;\n",
              "      --hover-fill-color: #FFFFFF;\n",
              "      --disabled-bg-color: #3B4455;\n",
              "      --disabled-fill-color: #666;\n",
              "  }\n",
              "\n",
              "  .colab-df-quickchart {\n",
              "    background-color: var(--bg-color);\n",
              "    border: none;\n",
              "    border-radius: 50%;\n",
              "    cursor: pointer;\n",
              "    display: none;\n",
              "    fill: var(--fill-color);\n",
              "    height: 32px;\n",
              "    padding: 0;\n",
              "    width: 32px;\n",
              "  }\n",
              "\n",
              "  .colab-df-quickchart:hover {\n",
              "    background-color: var(--hover-bg-color);\n",
              "    box-shadow: 0 1px 2px rgba(60, 64, 67, 0.3), 0 1px 3px 1px rgba(60, 64, 67, 0.15);\n",
              "    fill: var(--button-hover-fill-color);\n",
              "  }\n",
              "\n",
              "  .colab-df-quickchart-complete:disabled,\n",
              "  .colab-df-quickchart-complete:disabled:hover {\n",
              "    background-color: var(--disabled-bg-color);\n",
              "    fill: var(--disabled-fill-color);\n",
              "    box-shadow: none;\n",
              "  }\n",
              "\n",
              "  .colab-df-spinner {\n",
              "    border: 2px solid var(--fill-color);\n",
              "    border-color: transparent;\n",
              "    border-bottom-color: var(--fill-color);\n",
              "    animation:\n",
              "      spin 1s steps(1) infinite;\n",
              "  }\n",
              "\n",
              "  @keyframes spin {\n",
              "    0% {\n",
              "      border-color: transparent;\n",
              "      border-bottom-color: var(--fill-color);\n",
              "      border-left-color: var(--fill-color);\n",
              "    }\n",
              "    20% {\n",
              "      border-color: transparent;\n",
              "      border-left-color: var(--fill-color);\n",
              "      border-top-color: var(--fill-color);\n",
              "    }\n",
              "    30% {\n",
              "      border-color: transparent;\n",
              "      border-left-color: var(--fill-color);\n",
              "      border-top-color: var(--fill-color);\n",
              "      border-right-color: var(--fill-color);\n",
              "    }\n",
              "    40% {\n",
              "      border-color: transparent;\n",
              "      border-right-color: var(--fill-color);\n",
              "      border-top-color: var(--fill-color);\n",
              "    }\n",
              "    60% {\n",
              "      border-color: transparent;\n",
              "      border-right-color: var(--fill-color);\n",
              "    }\n",
              "    80% {\n",
              "      border-color: transparent;\n",
              "      border-right-color: var(--fill-color);\n",
              "      border-bottom-color: var(--fill-color);\n",
              "    }\n",
              "    90% {\n",
              "      border-color: transparent;\n",
              "      border-bottom-color: var(--fill-color);\n",
              "    }\n",
              "  }\n",
              "</style>\n",
              "\n",
              "  <script>\n",
              "    async function quickchart(key) {\n",
              "      const quickchartButtonEl =\n",
              "        document.querySelector('#' + key + ' button');\n",
              "      quickchartButtonEl.disabled = true;  // To prevent multiple clicks.\n",
              "      quickchartButtonEl.classList.add('colab-df-spinner');\n",
              "      try {\n",
              "        const charts = await google.colab.kernel.invokeFunction(\n",
              "            'suggestCharts', [key], {});\n",
              "      } catch (error) {\n",
              "        console.error('Error during call to suggestCharts:', error);\n",
              "      }\n",
              "      quickchartButtonEl.classList.remove('colab-df-spinner');\n",
              "      quickchartButtonEl.classList.add('colab-df-quickchart-complete');\n",
              "    }\n",
              "    (() => {\n",
              "      let quickchartButtonEl =\n",
              "        document.querySelector('#df-7cfaf3f7-9386-4ba8-9096-8f3bcd8dae1a button');\n",
              "      quickchartButtonEl.style.display =\n",
              "        google.colab.kernel.accessAllowed ? 'block' : 'none';\n",
              "    })();\n",
              "  </script>\n",
              "</div>\n",
              "\n",
              "    </div>\n",
              "  </div>\n"
            ],
            "application/vnd.google.colaboratory.intrinsic+json": {
              "type": "dataframe",
              "variable_name": "data",
              "summary": "{\n  \"name\": \"data\",\n  \"rows\": 10495,\n  \"fields\": [\n    {\n      \"column\": \"Price\",\n      \"properties\": {\n        \"dtype\": \"number\",\n        \"std\": 3922,\n        \"min\": 5002,\n        \"max\": 32444,\n        \"num_unique_values\": 3660,\n        \"samples\": [\n          15285,\n          17966,\n          13787\n        ],\n        \"semantic_type\": \"\",\n        \"description\": \"\"\n      }\n    },\n    {\n      \"column\": \"Year\",\n      \"properties\": {\n        \"dtype\": \"number\",\n        \"std\": 3,\n        \"min\": 1998,\n        \"max\": 2018,\n        \"num_unique_values\": 20,\n        \"samples\": [\n          2014,\n          2018,\n          2002\n        ],\n        \"semantic_type\": \"\",\n        \"description\": \"\"\n      }\n    },\n    {\n      \"column\": \"Mileage\",\n      \"properties\": {\n        \"dtype\": \"number\",\n        \"std\": 36791,\n        \"min\": 5,\n        \"max\": 232658,\n        \"num_unique_values\": 9913,\n        \"samples\": [\n          91918,\n          24261,\n          100093\n        ],\n        \"semantic_type\": \"\",\n        \"description\": \"\"\n      }\n    },\n    {\n      \"column\": \"M_Camry\",\n      \"properties\": {\n        \"dtype\": \"boolean\",\n        \"num_unique_values\": 2,\n        \"samples\": [\n          true,\n          false\n        ],\n        \"semantic_type\": \"\",\n        \"description\": \"\"\n      }\n    },\n    {\n      \"column\": \"M_Camry4dr\",\n      \"properties\": {\n        \"dtype\": \"boolean\",\n        \"num_unique_values\": 2,\n        \"samples\": [\n          true,\n          false\n        ],\n        \"semantic_type\": \"\",\n        \"description\": \"\"\n      }\n    },\n    {\n      \"column\": \"M_CamryBase\",\n      \"properties\": {\n        \"dtype\": \"boolean\",\n        \"num_unique_values\": 2,\n        \"samples\": [\n          true,\n          false\n        ],\n        \"semantic_type\": \"\",\n        \"description\": \"\"\n      }\n    },\n    {\n      \"column\": \"M_CamryL\",\n      \"properties\": {\n        \"dtype\": \"boolean\",\n        \"num_unique_values\": 2,\n        \"samples\": [\n          false,\n          true\n        ],\n        \"semantic_type\": \"\",\n        \"description\": \"\"\n      }\n    },\n    {\n      \"column\": \"M_CamryLE\",\n      \"properties\": {\n        \"dtype\": \"boolean\",\n        \"num_unique_values\": 2,\n        \"samples\": [\n          true,\n          false\n        ],\n        \"semantic_type\": \"\",\n        \"description\": \"\"\n      }\n    },\n    {\n      \"column\": \"M_CamrySE\",\n      \"properties\": {\n        \"dtype\": \"boolean\",\n        \"num_unique_values\": 2,\n        \"samples\": [\n          true,\n          false\n        ],\n        \"semantic_type\": \"\",\n        \"description\": \"\"\n      }\n    },\n    {\n      \"column\": \"M_CamryXLE\",\n      \"properties\": {\n        \"dtype\": \"boolean\",\n        \"num_unique_values\": 2,\n        \"samples\": [\n          true,\n          false\n        ],\n        \"semantic_type\": \"\",\n        \"description\": \"\"\n      }\n    }\n  ]\n}"
            }
          },
          "metadata": {},
          "execution_count": 64
        }
      ],
      "source": [
        "# Importación de librerías\n",
        "\n",
        "# plot\n",
        "%matplotlib inline\n",
        "import matplotlib.pyplot as plt\n",
        "from sklearn.tree import export_graphviz\n",
        "from sklearn.tree import plot_tree\n",
        "\n",
        "# python\n",
        "import math\n",
        "import pandas as pd\n",
        "import numpy as np\n",
        "\n",
        "# regressor models\n",
        "from sklearn.tree import DecisionTreeRegressor\n",
        "from sklearn.ensemble import BaggingRegressor\n",
        "from sklearn.ensemble import RandomForestRegressor\n",
        "from xgboost import XGBRegressor\n",
        "\n",
        "# sklearn\n",
        "from sklearn.model_selection import KFold, cross_val_score\n",
        "from sklearn.model_selection import train_test_split\n",
        "from sklearn.model_selection import GridSearchCV\n",
        "from sklearn.feature_selection import RFE\n",
        "\n",
        "# data processing\n",
        "from sklearn import metrics\n",
        "from sklearn.metrics import (\n",
        "    mean_squared_error,\n",
        "    mean_absolute_error,\n",
        "    r2_score\n",
        ")\n",
        "\n",
        "# Lectura de la información de archivo .csv\n",
        "data = pd.read_csv('https://raw.githubusercontent.com/albahnsen/MIAD_ML_and_NLP/main/datasets/dataTrain_carListings.zip')\n",
        "\n",
        "# Preprocesamiento de datos para el taller\n",
        "data = data.loc[data['Model'].str.contains('Camry')].drop(['Make', 'State'], axis=1)\n",
        "data = data.join(pd.get_dummies(data['Model'], prefix='M'))\n",
        "data = data.drop(['Model'], axis=1)\n",
        "\n",
        "# Visualización dataset\n",
        "data.head()"
      ]
    },
    {
      "cell_type": "code",
      "execution_count": null,
      "metadata": {
        "id": "L6xkKr5m4nH7"
      },
      "outputs": [],
      "source": [
        "# Separación de variables predictoras (X) y variable de interés (y)\n",
        "y = data['Price']\n",
        "X = data.drop(['Price'], axis=1)"
      ]
    },
    {
      "cell_type": "code",
      "execution_count": null,
      "metadata": {
        "id": "K9Ld0-fr4nH8"
      },
      "outputs": [],
      "source": [
        "# Separación de datos en set de entrenamiento y test\n",
        "from sklearn.model_selection import train_test_split\n",
        "X_train, X_test, y_train, y_test = train_test_split(X, y, test_size=0.33, random_state=42)"
      ]
    },
    {
      "cell_type": "code",
      "source": [
        "#Analisis descriptivo de la variable predictora\n",
        "y_test.describe()"
      ],
      "metadata": {
        "colab": {
          "base_uri": "https://localhost:8080/"
        },
        "id": "j47VNhTZsLe9",
        "outputId": "dd5231ef-68d8-4241-edb7-587ee62d6264"
      },
      "execution_count": null,
      "outputs": [
        {
          "output_type": "execute_result",
          "data": {
            "text/plain": [
              "count     3464.000000\n",
              "mean     14599.966224\n",
              "std       3911.593385\n",
              "min       5200.000000\n",
              "25%      11999.000000\n",
              "50%      15144.500000\n",
              "75%      17000.000000\n",
              "max      29975.000000\n",
              "Name: Price, dtype: float64"
            ]
          },
          "metadata": {},
          "execution_count": 6
        }
      ]
    },
    {
      "cell_type": "markdown",
      "metadata": {
        "id": "D1BOSZvN4nH8"
      },
      "source": [
        "### Punto 1 - Árbol de decisión manual\n",
        "\n",
        "En la celda 1 creen un árbol de decisión **manualmente**  que considere los set de entrenamiento y test definidos anteriormente y presenten el RMSE y MAE del modelo en el set de test."
      ]
    },
    {
      "cell_type": "code",
      "source": [
        "X_train.head()"
      ],
      "metadata": {
        "colab": {
          "base_uri": "https://localhost:8080/",
          "height": 206
        },
        "id": "nV6w_tvXih8L",
        "outputId": "3f1bf262-e920-47c9-9ec4-44ce2dfe9d25"
      },
      "execution_count": null,
      "outputs": [
        {
          "output_type": "execute_result",
          "data": {
            "text/plain": [
              "        Year  Mileage  M_Camry  M_Camry4dr  M_CamryBase  M_CamryL  M_CamryLE  \\\n",
              "318288  2014    39988    False       False        False     False      False   \n",
              "333638  2007    38904    False       False        False     False       True   \n",
              "234716  2016    29607    False       False        False     False      False   \n",
              "208752  2014    50756    False       False        False     False      False   \n",
              "348892  2017    10506    False       False        False     False      False   \n",
              "\n",
              "        M_CamrySE  M_CamryXLE  \n",
              "318288       True       False  \n",
              "333638      False       False  \n",
              "234716       True       False  \n",
              "208752       True       False  \n",
              "348892       True       False  "
            ],
            "text/html": [
              "\n",
              "  <div id=\"df-6f1cb749-c079-4cec-843a-4aadf2d91a3f\" class=\"colab-df-container\">\n",
              "    <div>\n",
              "<style scoped>\n",
              "    .dataframe tbody tr th:only-of-type {\n",
              "        vertical-align: middle;\n",
              "    }\n",
              "\n",
              "    .dataframe tbody tr th {\n",
              "        vertical-align: top;\n",
              "    }\n",
              "\n",
              "    .dataframe thead th {\n",
              "        text-align: right;\n",
              "    }\n",
              "</style>\n",
              "<table border=\"1\" class=\"dataframe\">\n",
              "  <thead>\n",
              "    <tr style=\"text-align: right;\">\n",
              "      <th></th>\n",
              "      <th>Year</th>\n",
              "      <th>Mileage</th>\n",
              "      <th>M_Camry</th>\n",
              "      <th>M_Camry4dr</th>\n",
              "      <th>M_CamryBase</th>\n",
              "      <th>M_CamryL</th>\n",
              "      <th>M_CamryLE</th>\n",
              "      <th>M_CamrySE</th>\n",
              "      <th>M_CamryXLE</th>\n",
              "    </tr>\n",
              "  </thead>\n",
              "  <tbody>\n",
              "    <tr>\n",
              "      <th>318288</th>\n",
              "      <td>2014</td>\n",
              "      <td>39988</td>\n",
              "      <td>False</td>\n",
              "      <td>False</td>\n",
              "      <td>False</td>\n",
              "      <td>False</td>\n",
              "      <td>False</td>\n",
              "      <td>True</td>\n",
              "      <td>False</td>\n",
              "    </tr>\n",
              "    <tr>\n",
              "      <th>333638</th>\n",
              "      <td>2007</td>\n",
              "      <td>38904</td>\n",
              "      <td>False</td>\n",
              "      <td>False</td>\n",
              "      <td>False</td>\n",
              "      <td>False</td>\n",
              "      <td>True</td>\n",
              "      <td>False</td>\n",
              "      <td>False</td>\n",
              "    </tr>\n",
              "    <tr>\n",
              "      <th>234716</th>\n",
              "      <td>2016</td>\n",
              "      <td>29607</td>\n",
              "      <td>False</td>\n",
              "      <td>False</td>\n",
              "      <td>False</td>\n",
              "      <td>False</td>\n",
              "      <td>False</td>\n",
              "      <td>True</td>\n",
              "      <td>False</td>\n",
              "    </tr>\n",
              "    <tr>\n",
              "      <th>208752</th>\n",
              "      <td>2014</td>\n",
              "      <td>50756</td>\n",
              "      <td>False</td>\n",
              "      <td>False</td>\n",
              "      <td>False</td>\n",
              "      <td>False</td>\n",
              "      <td>False</td>\n",
              "      <td>True</td>\n",
              "      <td>False</td>\n",
              "    </tr>\n",
              "    <tr>\n",
              "      <th>348892</th>\n",
              "      <td>2017</td>\n",
              "      <td>10506</td>\n",
              "      <td>False</td>\n",
              "      <td>False</td>\n",
              "      <td>False</td>\n",
              "      <td>False</td>\n",
              "      <td>False</td>\n",
              "      <td>True</td>\n",
              "      <td>False</td>\n",
              "    </tr>\n",
              "  </tbody>\n",
              "</table>\n",
              "</div>\n",
              "    <div class=\"colab-df-buttons\">\n",
              "\n",
              "  <div class=\"colab-df-container\">\n",
              "    <button class=\"colab-df-convert\" onclick=\"convertToInteractive('df-6f1cb749-c079-4cec-843a-4aadf2d91a3f')\"\n",
              "            title=\"Convert this dataframe to an interactive table.\"\n",
              "            style=\"display:none;\">\n",
              "\n",
              "  <svg xmlns=\"http://www.w3.org/2000/svg\" height=\"24px\" viewBox=\"0 -960 960 960\">\n",
              "    <path d=\"M120-120v-720h720v720H120Zm60-500h600v-160H180v160Zm220 220h160v-160H400v160Zm0 220h160v-160H400v160ZM180-400h160v-160H180v160Zm440 0h160v-160H620v160ZM180-180h160v-160H180v160Zm440 0h160v-160H620v160Z\"/>\n",
              "  </svg>\n",
              "    </button>\n",
              "\n",
              "  <style>\n",
              "    .colab-df-container {\n",
              "      display:flex;\n",
              "      gap: 12px;\n",
              "    }\n",
              "\n",
              "    .colab-df-convert {\n",
              "      background-color: #E8F0FE;\n",
              "      border: none;\n",
              "      border-radius: 50%;\n",
              "      cursor: pointer;\n",
              "      display: none;\n",
              "      fill: #1967D2;\n",
              "      height: 32px;\n",
              "      padding: 0 0 0 0;\n",
              "      width: 32px;\n",
              "    }\n",
              "\n",
              "    .colab-df-convert:hover {\n",
              "      background-color: #E2EBFA;\n",
              "      box-shadow: 0px 1px 2px rgba(60, 64, 67, 0.3), 0px 1px 3px 1px rgba(60, 64, 67, 0.15);\n",
              "      fill: #174EA6;\n",
              "    }\n",
              "\n",
              "    .colab-df-buttons div {\n",
              "      margin-bottom: 4px;\n",
              "    }\n",
              "\n",
              "    [theme=dark] .colab-df-convert {\n",
              "      background-color: #3B4455;\n",
              "      fill: #D2E3FC;\n",
              "    }\n",
              "\n",
              "    [theme=dark] .colab-df-convert:hover {\n",
              "      background-color: #434B5C;\n",
              "      box-shadow: 0px 1px 3px 1px rgba(0, 0, 0, 0.15);\n",
              "      filter: drop-shadow(0px 1px 2px rgba(0, 0, 0, 0.3));\n",
              "      fill: #FFFFFF;\n",
              "    }\n",
              "  </style>\n",
              "\n",
              "    <script>\n",
              "      const buttonEl =\n",
              "        document.querySelector('#df-6f1cb749-c079-4cec-843a-4aadf2d91a3f button.colab-df-convert');\n",
              "      buttonEl.style.display =\n",
              "        google.colab.kernel.accessAllowed ? 'block' : 'none';\n",
              "\n",
              "      async function convertToInteractive(key) {\n",
              "        const element = document.querySelector('#df-6f1cb749-c079-4cec-843a-4aadf2d91a3f');\n",
              "        const dataTable =\n",
              "          await google.colab.kernel.invokeFunction('convertToInteractive',\n",
              "                                                    [key], {});\n",
              "        if (!dataTable) return;\n",
              "\n",
              "        const docLinkHtml = 'Like what you see? Visit the ' +\n",
              "          '<a target=\"_blank\" href=https://colab.research.google.com/notebooks/data_table.ipynb>data table notebook</a>'\n",
              "          + ' to learn more about interactive tables.';\n",
              "        element.innerHTML = '';\n",
              "        dataTable['output_type'] = 'display_data';\n",
              "        await google.colab.output.renderOutput(dataTable, element);\n",
              "        const docLink = document.createElement('div');\n",
              "        docLink.innerHTML = docLinkHtml;\n",
              "        element.appendChild(docLink);\n",
              "      }\n",
              "    </script>\n",
              "  </div>\n",
              "\n",
              "\n",
              "<div id=\"df-808618f4-693c-4c69-bac0-886dcb8337ea\">\n",
              "  <button class=\"colab-df-quickchart\" onclick=\"quickchart('df-808618f4-693c-4c69-bac0-886dcb8337ea')\"\n",
              "            title=\"Suggest charts\"\n",
              "            style=\"display:none;\">\n",
              "\n",
              "<svg xmlns=\"http://www.w3.org/2000/svg\" height=\"24px\"viewBox=\"0 0 24 24\"\n",
              "     width=\"24px\">\n",
              "    <g>\n",
              "        <path d=\"M19 3H5c-1.1 0-2 .9-2 2v14c0 1.1.9 2 2 2h14c1.1 0 2-.9 2-2V5c0-1.1-.9-2-2-2zM9 17H7v-7h2v7zm4 0h-2V7h2v10zm4 0h-2v-4h2v4z\"/>\n",
              "    </g>\n",
              "</svg>\n",
              "  </button>\n",
              "\n",
              "<style>\n",
              "  .colab-df-quickchart {\n",
              "      --bg-color: #E8F0FE;\n",
              "      --fill-color: #1967D2;\n",
              "      --hover-bg-color: #E2EBFA;\n",
              "      --hover-fill-color: #174EA6;\n",
              "      --disabled-fill-color: #AAA;\n",
              "      --disabled-bg-color: #DDD;\n",
              "  }\n",
              "\n",
              "  [theme=dark] .colab-df-quickchart {\n",
              "      --bg-color: #3B4455;\n",
              "      --fill-color: #D2E3FC;\n",
              "      --hover-bg-color: #434B5C;\n",
              "      --hover-fill-color: #FFFFFF;\n",
              "      --disabled-bg-color: #3B4455;\n",
              "      --disabled-fill-color: #666;\n",
              "  }\n",
              "\n",
              "  .colab-df-quickchart {\n",
              "    background-color: var(--bg-color);\n",
              "    border: none;\n",
              "    border-radius: 50%;\n",
              "    cursor: pointer;\n",
              "    display: none;\n",
              "    fill: var(--fill-color);\n",
              "    height: 32px;\n",
              "    padding: 0;\n",
              "    width: 32px;\n",
              "  }\n",
              "\n",
              "  .colab-df-quickchart:hover {\n",
              "    background-color: var(--hover-bg-color);\n",
              "    box-shadow: 0 1px 2px rgba(60, 64, 67, 0.3), 0 1px 3px 1px rgba(60, 64, 67, 0.15);\n",
              "    fill: var(--button-hover-fill-color);\n",
              "  }\n",
              "\n",
              "  .colab-df-quickchart-complete:disabled,\n",
              "  .colab-df-quickchart-complete:disabled:hover {\n",
              "    background-color: var(--disabled-bg-color);\n",
              "    fill: var(--disabled-fill-color);\n",
              "    box-shadow: none;\n",
              "  }\n",
              "\n",
              "  .colab-df-spinner {\n",
              "    border: 2px solid var(--fill-color);\n",
              "    border-color: transparent;\n",
              "    border-bottom-color: var(--fill-color);\n",
              "    animation:\n",
              "      spin 1s steps(1) infinite;\n",
              "  }\n",
              "\n",
              "  @keyframes spin {\n",
              "    0% {\n",
              "      border-color: transparent;\n",
              "      border-bottom-color: var(--fill-color);\n",
              "      border-left-color: var(--fill-color);\n",
              "    }\n",
              "    20% {\n",
              "      border-color: transparent;\n",
              "      border-left-color: var(--fill-color);\n",
              "      border-top-color: var(--fill-color);\n",
              "    }\n",
              "    30% {\n",
              "      border-color: transparent;\n",
              "      border-left-color: var(--fill-color);\n",
              "      border-top-color: var(--fill-color);\n",
              "      border-right-color: var(--fill-color);\n",
              "    }\n",
              "    40% {\n",
              "      border-color: transparent;\n",
              "      border-right-color: var(--fill-color);\n",
              "      border-top-color: var(--fill-color);\n",
              "    }\n",
              "    60% {\n",
              "      border-color: transparent;\n",
              "      border-right-color: var(--fill-color);\n",
              "    }\n",
              "    80% {\n",
              "      border-color: transparent;\n",
              "      border-right-color: var(--fill-color);\n",
              "      border-bottom-color: var(--fill-color);\n",
              "    }\n",
              "    90% {\n",
              "      border-color: transparent;\n",
              "      border-bottom-color: var(--fill-color);\n",
              "    }\n",
              "  }\n",
              "</style>\n",
              "\n",
              "  <script>\n",
              "    async function quickchart(key) {\n",
              "      const quickchartButtonEl =\n",
              "        document.querySelector('#' + key + ' button');\n",
              "      quickchartButtonEl.disabled = true;  // To prevent multiple clicks.\n",
              "      quickchartButtonEl.classList.add('colab-df-spinner');\n",
              "      try {\n",
              "        const charts = await google.colab.kernel.invokeFunction(\n",
              "            'suggestCharts', [key], {});\n",
              "      } catch (error) {\n",
              "        console.error('Error during call to suggestCharts:', error);\n",
              "      }\n",
              "      quickchartButtonEl.classList.remove('colab-df-spinner');\n",
              "      quickchartButtonEl.classList.add('colab-df-quickchart-complete');\n",
              "    }\n",
              "    (() => {\n",
              "      let quickchartButtonEl =\n",
              "        document.querySelector('#df-808618f4-693c-4c69-bac0-886dcb8337ea button');\n",
              "      quickchartButtonEl.style.display =\n",
              "        google.colab.kernel.accessAllowed ? 'block' : 'none';\n",
              "    })();\n",
              "  </script>\n",
              "</div>\n",
              "\n",
              "    </div>\n",
              "  </div>\n"
            ],
            "application/vnd.google.colaboratory.intrinsic+json": {
              "type": "dataframe",
              "variable_name": "X_train",
              "summary": "{\n  \"name\": \"X_train\",\n  \"rows\": 7031,\n  \"fields\": [\n    {\n      \"column\": \"Year\",\n      \"properties\": {\n        \"dtype\": \"number\",\n        \"std\": 3,\n        \"min\": 1998,\n        \"max\": 2018,\n        \"num_unique_values\": 20,\n        \"samples\": [\n          2014,\n          2002,\n          2003\n        ],\n        \"semantic_type\": \"\",\n        \"description\": \"\"\n      }\n    },\n    {\n      \"column\": \"Mileage\",\n      \"properties\": {\n        \"dtype\": \"number\",\n        \"std\": 37110,\n        \"min\": 5,\n        \"max\": 232658,\n        \"num_unique_values\": 6759,\n        \"samples\": [\n          58590,\n          79919,\n          43752\n        ],\n        \"semantic_type\": \"\",\n        \"description\": \"\"\n      }\n    },\n    {\n      \"column\": \"M_Camry\",\n      \"properties\": {\n        \"dtype\": \"boolean\",\n        \"num_unique_values\": 2,\n        \"samples\": [\n          true,\n          false\n        ],\n        \"semantic_type\": \"\",\n        \"description\": \"\"\n      }\n    },\n    {\n      \"column\": \"M_Camry4dr\",\n      \"properties\": {\n        \"dtype\": \"boolean\",\n        \"num_unique_values\": 2,\n        \"samples\": [\n          true,\n          false\n        ],\n        \"semantic_type\": \"\",\n        \"description\": \"\"\n      }\n    },\n    {\n      \"column\": \"M_CamryBase\",\n      \"properties\": {\n        \"dtype\": \"boolean\",\n        \"num_unique_values\": 2,\n        \"samples\": [\n          true,\n          false\n        ],\n        \"semantic_type\": \"\",\n        \"description\": \"\"\n      }\n    },\n    {\n      \"column\": \"M_CamryL\",\n      \"properties\": {\n        \"dtype\": \"boolean\",\n        \"num_unique_values\": 2,\n        \"samples\": [\n          true,\n          false\n        ],\n        \"semantic_type\": \"\",\n        \"description\": \"\"\n      }\n    },\n    {\n      \"column\": \"M_CamryLE\",\n      \"properties\": {\n        \"dtype\": \"boolean\",\n        \"num_unique_values\": 2,\n        \"samples\": [\n          true,\n          false\n        ],\n        \"semantic_type\": \"\",\n        \"description\": \"\"\n      }\n    },\n    {\n      \"column\": \"M_CamrySE\",\n      \"properties\": {\n        \"dtype\": \"boolean\",\n        \"num_unique_values\": 2,\n        \"samples\": [\n          false,\n          true\n        ],\n        \"semantic_type\": \"\",\n        \"description\": \"\"\n      }\n    },\n    {\n      \"column\": \"M_CamryXLE\",\n      \"properties\": {\n        \"dtype\": \"boolean\",\n        \"num_unique_values\": 2,\n        \"samples\": [\n          true,\n          false\n        ],\n        \"semantic_type\": \"\",\n        \"description\": \"\"\n      }\n    }\n  ]\n}"
            }
          },
          "metadata": {},
          "execution_count": 7
        }
      ]
    },
    {
      "cell_type": "code",
      "execution_count": null,
      "metadata": {
        "id": "81RcPvaY4nH8"
      },
      "outputs": [],
      "source": [
        "# Celda 1\n",
        "def tree_nicely(tree):\n",
        "    import json\n",
        "    print(json.dumps(tree, indent=4, sort_keys=False))\n",
        "\n",
        "def mse(y):\n",
        "    return ((y.mean() - y)**2).mean()\n",
        "\n",
        "def mse_gain(X_col, y, split):\n",
        "    # adaptado de\n",
        "    # https://www.codecademy.com/article/mlfun-decision-trees-article\n",
        "    filter_l = X_col < split\n",
        "    y_l = y.loc[filter_l]\n",
        "    y_r = y.loc[~filter_l]\n",
        "\n",
        "    n_l = y_l.shape[0]\n",
        "    n_r = y_r.shape[0]\n",
        "    n = n_l + n_r\n",
        "    w = n_l / n\n",
        "\n",
        "    current_mse = mse(y)\n",
        "    mse_l = mse(y_l)\n",
        "    mse_r = mse(y_r)\n",
        "\n",
        "    return current_mse - w * mse_l - (1 - w) * mse_r\n",
        "\n",
        "\n",
        "def best_split(X, y, num_pct=10):\n",
        "    import math\n",
        "    features = range(X.shape[1])\n",
        "    best_split = [0, 0, math.inf]  # j, split, mse\n",
        "\n",
        "    # Para todas las variables\n",
        "    for j in features:\n",
        "        splits = np.linspace(X.iloc[:, j].min(), X.iloc[:, j].max(), num_pct)\n",
        "        splits = np.unique(splits)[1:]\n",
        "\n",
        "        # Para cada partición\n",
        "        for split in splits:\n",
        "            mse = mse_gain(X.iloc[:, j], y, split)\n",
        "\n",
        "            if mse < best_split[2]:\n",
        "                best_split = [j, split, mse]\n",
        "\n",
        "    return best_split"
      ]
    },
    {
      "cell_type": "code",
      "execution_count": null,
      "metadata": {
        "id": "rJ6uDhai4nH8"
      },
      "outputs": [],
      "source": [
        "def tree_grow(X, y, level=0, max_depth=1, num_pct=10):\n",
        "    import math\n",
        "    # Si solo es una observación\n",
        "    if X.shape[0] == 1:\n",
        "        tree = dict(y_pred=y.iloc[:1].values[0], level=level, split=-1, n_samples=1, rmse=math.inf)\n",
        "        return tree\n",
        "\n",
        "    # Calcular la mejor división\n",
        "    j, split, sc_rmse = best_split(X, y, num_pct)\n",
        "\n",
        "    # Guardar el árbol y estimar la predicción\n",
        "    y_pred = y.mean()\n",
        "\n",
        "    tree = dict(y_pred=y_pred, level=level, split=-1, n_samples=X.shape[0], rmse=sc_rmse)\n",
        "    # Revisar el criterio de parada\n",
        "    if max_depth is not None:\n",
        "        if level >= max_depth:\n",
        "            return tree\n",
        "\n",
        "    # Continuar creando la partición\n",
        "    filter_l = X.iloc[:, j] < split\n",
        "    X_l, y_l = X.loc[filter_l], y.loc[filter_l]\n",
        "    X_r, y_r = X.loc[~filter_l], y.loc[~filter_l]\n",
        "    tree['split'] = [j, split]\n",
        "\n",
        "    # Siguiente iteración para cada partición\n",
        "    tree['sl'] = tree_grow(X_l, y_l, level + 1, max_depth=max_depth, num_pct=num_pct)\n",
        "    tree['sr'] = tree_grow(X_r, y_r, level + 1, max_depth=max_depth, num_pct=num_pct)\n",
        "\n",
        "    return tree"
      ]
    },
    {
      "cell_type": "code",
      "source": [
        "# Definición de la función tree_predict para hacer predicciones según las variables 'X' y el árbol 'tree'\n",
        "def tree_predict(X, tree):\n",
        "    \"\"\"\n",
        "    \"\"\"\n",
        "    predicted = np.ones(X.shape[0])\n",
        "\n",
        "    # Revisar si es el nodo final\n",
        "    if tree['split'] == -1:\n",
        "        predicted = predicted * tree['y_pred']\n",
        "\n",
        "    else:\n",
        "        j, split = tree['split']\n",
        "        filter_l = (X.iloc[:, j] < split)\n",
        "        X_l = X.loc[filter_l]\n",
        "        X_r = X.loc[~filter_l]\n",
        "\n",
        "        if X_l.shape[0] == 0:  # Si el nodo izquierdo está vacio solo continua con el derecho\n",
        "            predicted[~filter_l] = tree_predict(X_r, tree['sr'])\n",
        "        elif X_r.shape[0] == 0:  #  Si el nodo derecho está vacio solo continua con el izquierdo\n",
        "            predicted[filter_l] = tree_predict(X_l, tree['sl'])\n",
        "        else:\n",
        "            predicted[filter_l] = tree_predict(X_l, tree['sl'])\n",
        "            predicted[~filter_l] = tree_predict(X_r, tree['sr'])\n",
        "\n",
        "    return predicted"
      ],
      "metadata": {
        "id": "-jx8JdXOUuCI"
      },
      "execution_count": null,
      "outputs": []
    },
    {
      "cell_type": "code",
      "execution_count": null,
      "metadata": {
        "id": "Ff6se3Jl4nH9"
      },
      "outputs": [],
      "source": [
        "# Modelo Arbol Manual\n",
        "treg = tree_grow(X_train, y_train, level=0, max_depth=5, num_pct=3)"
      ]
    },
    {
      "cell_type": "code",
      "source": [
        "# Prediccion y Metricas Arbol Manual\n",
        "y_pred = tree_predict(X_test, treg)\n",
        "rmse = metrics.mean_squared_error(y_test, y_pred)**.5\n",
        "mae = metrics.mean_absolute_error(y_test, y_pred)\n",
        "rmse, mae"
      ],
      "metadata": {
        "id": "Z_0vufq3U0G9",
        "colab": {
          "base_uri": "https://localhost:8080/"
        },
        "outputId": "3ca88235-21ce-4141-a3a0-3fb8719a6051"
      },
      "execution_count": null,
      "outputs": [
        {
          "output_type": "execute_result",
          "data": {
            "text/plain": [
              "(3906.6898591446447, 3105.392727255433)"
            ]
          },
          "metadata": {},
          "execution_count": 12
        }
      ]
    },
    {
      "cell_type": "code",
      "source": [
        "# Benchmark sklearn\n",
        "from sklearn.tree import DecisionTreeRegressor\n",
        "\n",
        "dtr = DecisionTreeRegressor(max_features=\"sqrt\", max_depth=3)\n",
        "dtr.fit(X_train, y_train)\n",
        "y_pred_ = dtr.predict(X_test)\n",
        "rmse_ = metrics.mean_squared_error(y_test, y_pred)**.5\n",
        "mae_ = metrics.mean_absolute_error(y_test, y_pred)\n",
        "rmse_, mae_"
      ],
      "metadata": {
        "id": "gxfVNB5NVH3B",
        "colab": {
          "base_uri": "https://localhost:8080/"
        },
        "outputId": "c203dadc-2614-4724-e577-2da51ed9f26b"
      },
      "execution_count": null,
      "outputs": [
        {
          "output_type": "execute_result",
          "data": {
            "text/plain": [
              "(3906.6898591446447, 3105.392727255433)"
            ]
          },
          "metadata": {},
          "execution_count": 13
        }
      ]
    },
    {
      "cell_type": "code",
      "source": [
        "from sklearn.tree import plot_tree\n",
        "fig, ax = plt.subplots(figsize=(16, 7))\n",
        "plot_tree(\n",
        "    dtr,\n",
        "    feature_names = X_train.columns.tolist(),\n",
        "    filled        = True,\n",
        "    impurity      = False,\n",
        "    fontsize      = 10,\n",
        "    precision     = 2,\n",
        "    ax            = ax\n",
        ")\n",
        "plt.show()"
      ],
      "metadata": {
        "colab": {
          "base_uri": "https://localhost:8080/",
          "height": 576
        },
        "id": "JYlp2-v_s4qB",
        "outputId": "3e25e6dd-9c54-4712-e64c-799633f47fa2"
      },
      "execution_count": null,
      "outputs": [
        {
          "output_type": "display_data",
          "data": {
            "text/plain": [
              "<Figure size 1600x700 with 1 Axes>"
            ],
            "image/png": "[encoded data removed]"
          },
          "metadata": {}
        }
      ]
    },
    {
      "cell_type": "markdown",
      "source": [
        "Según los resultado del modelo del arbol de regresion RMSE=3906 y MAE=3105 se puede considerar que este modelo no presenta un buen desempeño pues estos resultados tienen valores muy cercanos a la desviacion de esta variable"
      ],
      "metadata": {
        "id": "yy4S2tPv2_Bi"
      }
    },
    {
      "cell_type": "markdown",
      "metadata": {
        "id": "uRazrz2m4nH9"
      },
      "source": [
        "### Punto 2 - Bagging manual\n",
        "\n",
        "En la celda 2 creen un modelo bagging **manualmente** con 10 árboles de regresión y comenten sobre el desempeño del modelo."
      ]
    },
    {
      "cell_type": "code",
      "execution_count": null,
      "metadata": {
        "colab": {
          "base_uri": "https://localhost:8080/"
        },
        "id": "--o2q05T4nH9",
        "outputId": "912d9e24-4516-4413-b6f9-825d7f7e8aca"
      },
      "outputs": [
        {
          "output_type": "execute_result",
          "data": {
            "text/plain": [
              "[array([3582, 3454, 1346, ...,  826,  801, 5657]),\n",
              " array([6962, 3408, 2553, ..., 6611,  877, 6412]),\n",
              " array([1917, 3131,  384, ..., 2876, 6449, 6557]),\n",
              " array([3849, 4565, 6820, ..., 6835, 4643,  639]),\n",
              " array([2468, 3608, 1367, ..., 3108, 2961, 4357]),\n",
              " array([3142, 1537, 5966, ..., 3224, 6922, 3396]),\n",
              " array([6588, 3753, 1786, ..., 2131, 4627, 5672]),\n",
              " array([1289, 3776,  981, ..., 1891, 6034, 6165]),\n",
              " array([6079, 3819, 6976, ..., 6478, 2225, 5072]),\n",
              " array([3952, 3276,  896, ..., 4589, 1964,  893])]"
            ]
          },
          "metadata": {},
          "execution_count": 13
        }
      ],
      "source": [
        "# Celda 2\n",
        "# Se crea un arreglo de 1 a 20\n",
        "#np.random.seed(1)\n",
        "\n",
        "# Impresión de arreglo y muestreo aleatorio\n",
        "#nums = np.arange(1, 21)\n",
        "#print('Arreglo:', nums)\n",
        "#print('Muestreo aleatorio: ', np.random.choice(a=nums, size=20, replace=True))\n",
        "\n",
        "# Creación de 10 muestras de bootstrap\n",
        "np.random.seed(123)\n",
        "\n",
        "n_samples = X_train.shape[0]\n",
        "n_B = 10\n",
        "\n",
        "samples = [np.random.choice(a=n_samples, size=n_samples, replace=True) for _ in range(1, n_B +1 )]\n",
        "samples"
      ]
    },
    {
      "cell_type": "code",
      "execution_count": null,
      "metadata": {
        "colab": {
          "base_uri": "https://localhost:8080/",
          "height": 423
        },
        "id": "tgxLG5HQ4nH9",
        "outputId": "f3a691b4-dcc5-4eb9-e557-8f59fe0b9367"
      },
      "outputs": [
        {
          "output_type": "execute_result",
          "data": {
            "text/plain": [
              "        Year  Mileage  M_Camry  M_Camry4dr  M_CamryBase  M_CamryL  M_CamryLE  \\\n",
              "151599  2016    40999    False       False        False     False      False   \n",
              "171999  2014    52527    False       False        False     False      False   \n",
              "304172  2009   123202    False        True        False     False      False   \n",
              "74828   2015    38807    False       False        False     False      False   \n",
              "192974  2005    51260    False       False        False     False      False   \n",
              "...      ...      ...      ...         ...          ...       ...        ...   \n",
              "134843  2014    22221    False       False        False     False       True   \n",
              "325075  2013    86593    False       False        False     False      False   \n",
              "61213   2014    28044    False       False        False     False      False   \n",
              "181222  2016    49368    False       False        False     False      False   \n",
              "275601  2015    32069     True       False        False     False      False   \n",
              "\n",
              "        M_CamrySE  M_CamryXLE  \n",
              "151599       True       False  \n",
              "171999       True       False  \n",
              "304172      False       False  \n",
              "74828        True       False  \n",
              "192974      False        True  \n",
              "...           ...         ...  \n",
              "134843      False       False  \n",
              "325075       True       False  \n",
              "61213        True       False  \n",
              "181222      False        True  \n",
              "275601      False       False  \n",
              "\n",
              "[7031 rows x 9 columns]"
            ],
            "text/html": [
              "\n",
              "  <div id=\"df-24c45801-4435-443c-a972-5afc54f825ed\" class=\"colab-df-container\">\n",
              "    <div>\n",
              "<style scoped>\n",
              "    .dataframe tbody tr th:only-of-type {\n",
              "        vertical-align: middle;\n",
              "    }\n",
              "\n",
              "    .dataframe tbody tr th {\n",
              "        vertical-align: top;\n",
              "    }\n",
              "\n",
              "    .dataframe thead th {\n",
              "        text-align: right;\n",
              "    }\n",
              "</style>\n",
              "<table border=\"1\" class=\"dataframe\">\n",
              "  <thead>\n",
              "    <tr style=\"text-align: right;\">\n",
              "      <th></th>\n",
              "      <th>Year</th>\n",
              "      <th>Mileage</th>\n",
              "      <th>M_Camry</th>\n",
              "      <th>M_Camry4dr</th>\n",
              "      <th>M_CamryBase</th>\n",
              "      <th>M_CamryL</th>\n",
              "      <th>M_CamryLE</th>\n",
              "      <th>M_CamrySE</th>\n",
              "      <th>M_CamryXLE</th>\n",
              "    </tr>\n",
              "  </thead>\n",
              "  <tbody>\n",
              "    <tr>\n",
              "      <th>151599</th>\n",
              "      <td>2016</td>\n",
              "      <td>40999</td>\n",
              "      <td>False</td>\n",
              "      <td>False</td>\n",
              "      <td>False</td>\n",
              "      <td>False</td>\n",
              "      <td>False</td>\n",
              "      <td>True</td>\n",
              "      <td>False</td>\n",
              "    </tr>\n",
              "    <tr>\n",
              "      <th>171999</th>\n",
              "      <td>2014</td>\n",
              "      <td>52527</td>\n",
              "      <td>False</td>\n",
              "      <td>False</td>\n",
              "      <td>False</td>\n",
              "      <td>False</td>\n",
              "      <td>False</td>\n",
              "      <td>True</td>\n",
              "      <td>False</td>\n",
              "    </tr>\n",
              "    <tr>\n",
              "      <th>304172</th>\n",
              "      <td>2009</td>\n",
              "      <td>123202</td>\n",
              "      <td>False</td>\n",
              "      <td>True</td>\n",
              "      <td>False</td>\n",
              "      <td>False</td>\n",
              "      <td>False</td>\n",
              "      <td>False</td>\n",
              "      <td>False</td>\n",
              "    </tr>\n",
              "    <tr>\n",
              "      <th>74828</th>\n",
              "      <td>2015</td>\n",
              "      <td>38807</td>\n",
              "      <td>False</td>\n",
              "      <td>False</td>\n",
              "      <td>False</td>\n",
              "      <td>False</td>\n",
              "      <td>False</td>\n",
              "      <td>True</td>\n",
              "      <td>False</td>\n",
              "    </tr>\n",
              "    <tr>\n",
              "      <th>192974</th>\n",
              "      <td>2005</td>\n",
              "      <td>51260</td>\n",
              "      <td>False</td>\n",
              "      <td>False</td>\n",
              "      <td>False</td>\n",
              "      <td>False</td>\n",
              "      <td>False</td>\n",
              "      <td>False</td>\n",
              "      <td>True</td>\n",
              "    </tr>\n",
              "    <tr>\n",
              "      <th>...</th>\n",
              "      <td>...</td>\n",
              "      <td>...</td>\n",
              "      <td>...</td>\n",
              "      <td>...</td>\n",
              "      <td>...</td>\n",
              "      <td>...</td>\n",
              "      <td>...</td>\n",
              "      <td>...</td>\n",
              "      <td>...</td>\n",
              "    </tr>\n",
              "    <tr>\n",
              "      <th>134843</th>\n",
              "      <td>2014</td>\n",
              "      <td>22221</td>\n",
              "      <td>False</td>\n",
              "      <td>False</td>\n",
              "      <td>False</td>\n",
              "      <td>False</td>\n",
              "      <td>True</td>\n",
              "      <td>False</td>\n",
              "      <td>False</td>\n",
              "    </tr>\n",
              "    <tr>\n",
              "      <th>325075</th>\n",
              "      <td>2013</td>\n",
              "      <td>86593</td>\n",
              "      <td>False</td>\n",
              "      <td>False</td>\n",
              "      <td>False</td>\n",
              "      <td>False</td>\n",
              "      <td>False</td>\n",
              "      <td>True</td>\n",
              "      <td>False</td>\n",
              "    </tr>\n",
              "    <tr>\n",
              "      <th>61213</th>\n",
              "      <td>2014</td>\n",
              "      <td>28044</td>\n",
              "      <td>False</td>\n",
              "      <td>False</td>\n",
              "      <td>False</td>\n",
              "      <td>False</td>\n",
              "      <td>False</td>\n",
              "      <td>True</td>\n",
              "      <td>False</td>\n",
              "    </tr>\n",
              "    <tr>\n",
              "      <th>181222</th>\n",
              "      <td>2016</td>\n",
              "      <td>49368</td>\n",
              "      <td>False</td>\n",
              "      <td>False</td>\n",
              "      <td>False</td>\n",
              "      <td>False</td>\n",
              "      <td>False</td>\n",
              "      <td>False</td>\n",
              "      <td>True</td>\n",
              "    </tr>\n",
              "    <tr>\n",
              "      <th>275601</th>\n",
              "      <td>2015</td>\n",
              "      <td>32069</td>\n",
              "      <td>True</td>\n",
              "      <td>False</td>\n",
              "      <td>False</td>\n",
              "      <td>False</td>\n",
              "      <td>False</td>\n",
              "      <td>False</td>\n",
              "      <td>False</td>\n",
              "    </tr>\n",
              "  </tbody>\n",
              "</table>\n",
              "<p>7031 rows × 9 columns</p>\n",
              "</div>\n",
              "    <div class=\"colab-df-buttons\">\n",
              "\n",
              "  <div class=\"colab-df-container\">\n",
              "    <button class=\"colab-df-convert\" onclick=\"convertToInteractive('df-24c45801-4435-443c-a972-5afc54f825ed')\"\n",
              "            title=\"Convert this dataframe to an interactive table.\"\n",
              "            style=\"display:none;\">\n",
              "\n",
              "  <svg xmlns=\"http://www.w3.org/2000/svg\" height=\"24px\" viewBox=\"0 -960 960 960\">\n",
              "    <path d=\"M120-120v-720h720v720H120Zm60-500h600v-160H180v160Zm220 220h160v-160H400v160Zm0 220h160v-160H400v160ZM180-400h160v-160H180v160Zm440 0h160v-160H620v160ZM180-180h160v-160H180v160Zm440 0h160v-160H620v160Z\"/>\n",
              "  </svg>\n",
              "    </button>\n",
              "\n",
              "  <style>\n",
              "    .colab-df-container {\n",
              "      display:flex;\n",
              "      gap: 12px;\n",
              "    }\n",
              "\n",
              "    .colab-df-convert {\n",
              "      background-color: #E8F0FE;\n",
              "      border: none;\n",
              "      border-radius: 50%;\n",
              "      cursor: pointer;\n",
              "      display: none;\n",
              "      fill: #1967D2;\n",
              "      height: 32px;\n",
              "      padding: 0 0 0 0;\n",
              "      width: 32px;\n",
              "    }\n",
              "\n",
              "    .colab-df-convert:hover {\n",
              "      background-color: #E2EBFA;\n",
              "      box-shadow: 0px 1px 2px rgba(60, 64, 67, 0.3), 0px 1px 3px 1px rgba(60, 64, 67, 0.15);\n",
              "      fill: #174EA6;\n",
              "    }\n",
              "\n",
              "    .colab-df-buttons div {\n",
              "      margin-bottom: 4px;\n",
              "    }\n",
              "\n",
              "    [theme=dark] .colab-df-convert {\n",
              "      background-color: #3B4455;\n",
              "      fill: #D2E3FC;\n",
              "    }\n",
              "\n",
              "    [theme=dark] .colab-df-convert:hover {\n",
              "      background-color: #434B5C;\n",
              "      box-shadow: 0px 1px 3px 1px rgba(0, 0, 0, 0.15);\n",
              "      filter: drop-shadow(0px 1px 2px rgba(0, 0, 0, 0.3));\n",
              "      fill: #FFFFFF;\n",
              "    }\n",
              "  </style>\n",
              "\n",
              "    <script>\n",
              "      const buttonEl =\n",
              "        document.querySelector('#df-24c45801-4435-443c-a972-5afc54f825ed button.colab-df-convert');\n",
              "      buttonEl.style.display =\n",
              "        google.colab.kernel.accessAllowed ? 'block' : 'none';\n",
              "\n",
              "      async function convertToInteractive(key) {\n",
              "        const element = document.querySelector('#df-24c45801-4435-443c-a972-5afc54f825ed');\n",
              "        const dataTable =\n",
              "          await google.colab.kernel.invokeFunction('convertToInteractive',\n",
              "                                                    [key], {});\n",
              "        if (!dataTable) return;\n",
              "\n",
              "        const docLinkHtml = 'Like what you see? Visit the ' +\n",
              "          '<a target=\"_blank\" href=https://colab.research.google.com/notebooks/data_table.ipynb>data table notebook</a>'\n",
              "          + ' to learn more about interactive tables.';\n",
              "        element.innerHTML = '';\n",
              "        dataTable['output_type'] = 'display_data';\n",
              "        await google.colab.output.renderOutput(dataTable, element);\n",
              "        const docLink = document.createElement('div');\n",
              "        docLink.innerHTML = docLinkHtml;\n",
              "        element.appendChild(docLink);\n",
              "      }\n",
              "    </script>\n",
              "  </div>\n",
              "\n",
              "\n",
              "<div id=\"df-5865cf0e-79cf-41f1-aa7e-2306c7c43aef\">\n",
              "  <button class=\"colab-df-quickchart\" onclick=\"quickchart('df-5865cf0e-79cf-41f1-aa7e-2306c7c43aef')\"\n",
              "            title=\"Suggest charts\"\n",
              "            style=\"display:none;\">\n",
              "\n",
              "<svg xmlns=\"http://www.w3.org/2000/svg\" height=\"24px\"viewBox=\"0 0 24 24\"\n",
              "     width=\"24px\">\n",
              "    <g>\n",
              "        <path d=\"M19 3H5c-1.1 0-2 .9-2 2v14c0 1.1.9 2 2 2h14c1.1 0 2-.9 2-2V5c0-1.1-.9-2-2-2zM9 17H7v-7h2v7zm4 0h-2V7h2v10zm4 0h-2v-4h2v4z\"/>\n",
              "    </g>\n",
              "</svg>\n",
              "  </button>\n",
              "\n",
              "<style>\n",
              "  .colab-df-quickchart {\n",
              "      --bg-color: #E8F0FE;\n",
              "      --fill-color: #1967D2;\n",
              "      --hover-bg-color: #E2EBFA;\n",
              "      --hover-fill-color: #174EA6;\n",
              "      --disabled-fill-color: #AAA;\n",
              "      --disabled-bg-color: #DDD;\n",
              "  }\n",
              "\n",
              "  [theme=dark] .colab-df-quickchart {\n",
              "      --bg-color: #3B4455;\n",
              "      --fill-color: #D2E3FC;\n",
              "      --hover-bg-color: #434B5C;\n",
              "      --hover-fill-color: #FFFFFF;\n",
              "      --disabled-bg-color: #3B4455;\n",
              "      --disabled-fill-color: #666;\n",
              "  }\n",
              "\n",
              "  .colab-df-quickchart {\n",
              "    background-color: var(--bg-color);\n",
              "    border: none;\n",
              "    border-radius: 50%;\n",
              "    cursor: pointer;\n",
              "    display: none;\n",
              "    fill: var(--fill-color);\n",
              "    height: 32px;\n",
              "    padding: 0;\n",
              "    width: 32px;\n",
              "  }\n",
              "\n",
              "  .colab-df-quickchart:hover {\n",
              "    background-color: var(--hover-bg-color);\n",
              "    box-shadow: 0 1px 2px rgba(60, 64, 67, 0.3), 0 1px 3px 1px rgba(60, 64, 67, 0.15);\n",
              "    fill: var(--button-hover-fill-color);\n",
              "  }\n",
              "\n",
              "  .colab-df-quickchart-complete:disabled,\n",
              "  .colab-df-quickchart-complete:disabled:hover {\n",
              "    background-color: var(--disabled-bg-color);\n",
              "    fill: var(--disabled-fill-color);\n",
              "    box-shadow: none;\n",
              "  }\n",
              "\n",
              "  .colab-df-spinner {\n",
              "    border: 2px solid var(--fill-color);\n",
              "    border-color: transparent;\n",
              "    border-bottom-color: var(--fill-color);\n",
              "    animation:\n",
              "      spin 1s steps(1) infinite;\n",
              "  }\n",
              "\n",
              "  @keyframes spin {\n",
              "    0% {\n",
              "      border-color: transparent;\n",
              "      border-bottom-color: var(--fill-color);\n",
              "      border-left-color: var(--fill-color);\n",
              "    }\n",
              "    20% {\n",
              "      border-color: transparent;\n",
              "      border-left-color: var(--fill-color);\n",
              "      border-top-color: var(--fill-color);\n",
              "    }\n",
              "    30% {\n",
              "      border-color: transparent;\n",
              "      border-left-color: var(--fill-color);\n",
              "      border-top-color: var(--fill-color);\n",
              "      border-right-color: var(--fill-color);\n",
              "    }\n",
              "    40% {\n",
              "      border-color: transparent;\n",
              "      border-right-color: var(--fill-color);\n",
              "      border-top-color: var(--fill-color);\n",
              "    }\n",
              "    60% {\n",
              "      border-color: transparent;\n",
              "      border-right-color: var(--fill-color);\n",
              "    }\n",
              "    80% {\n",
              "      border-color: transparent;\n",
              "      border-right-color: var(--fill-color);\n",
              "      border-bottom-color: var(--fill-color);\n",
              "    }\n",
              "    90% {\n",
              "      border-color: transparent;\n",
              "      border-bottom-color: var(--fill-color);\n",
              "    }\n",
              "  }\n",
              "</style>\n",
              "\n",
              "  <script>\n",
              "    async function quickchart(key) {\n",
              "      const quickchartButtonEl =\n",
              "        document.querySelector('#' + key + ' button');\n",
              "      quickchartButtonEl.disabled = true;  // To prevent multiple clicks.\n",
              "      quickchartButtonEl.classList.add('colab-df-spinner');\n",
              "      try {\n",
              "        const charts = await google.colab.kernel.invokeFunction(\n",
              "            'suggestCharts', [key], {});\n",
              "      } catch (error) {\n",
              "        console.error('Error during call to suggestCharts:', error);\n",
              "      }\n",
              "      quickchartButtonEl.classList.remove('colab-df-spinner');\n",
              "      quickchartButtonEl.classList.add('colab-df-quickchart-complete');\n",
              "    }\n",
              "    (() => {\n",
              "      let quickchartButtonEl =\n",
              "        document.querySelector('#df-5865cf0e-79cf-41f1-aa7e-2306c7c43aef button');\n",
              "      quickchartButtonEl.style.display =\n",
              "        google.colab.kernel.accessAllowed ? 'block' : 'none';\n",
              "    })();\n",
              "  </script>\n",
              "</div>\n",
              "\n",
              "    </div>\n",
              "  </div>\n"
            ],
            "application/vnd.google.colaboratory.intrinsic+json": {
              "type": "dataframe",
              "summary": "{\n  \"name\": \"X_train\",\n  \"rows\": 7031,\n  \"fields\": [\n    {\n      \"column\": \"Year\",\n      \"properties\": {\n        \"dtype\": \"number\",\n        \"std\": 3,\n        \"min\": 1998,\n        \"max\": 2018,\n        \"num_unique_values\": 20,\n        \"samples\": [\n          2016,\n          2000,\n          2002\n        ],\n        \"semantic_type\": \"\",\n        \"description\": \"\"\n      }\n    },\n    {\n      \"column\": \"Mileage\",\n      \"properties\": {\n        \"dtype\": \"number\",\n        \"std\": 36513,\n        \"min\": 5,\n        \"max\": 228953,\n        \"num_unique_values\": 4351,\n        \"samples\": [\n          917,\n          34755,\n          64597\n        ],\n        \"semantic_type\": \"\",\n        \"description\": \"\"\n      }\n    },\n    {\n      \"column\": \"M_Camry\",\n      \"properties\": {\n        \"dtype\": \"boolean\",\n        \"num_unique_values\": 2,\n        \"samples\": [\n          true,\n          false\n        ],\n        \"semantic_type\": \"\",\n        \"description\": \"\"\n      }\n    },\n    {\n      \"column\": \"M_Camry4dr\",\n      \"properties\": {\n        \"dtype\": \"boolean\",\n        \"num_unique_values\": 2,\n        \"samples\": [\n          true,\n          false\n        ],\n        \"semantic_type\": \"\",\n        \"description\": \"\"\n      }\n    },\n    {\n      \"column\": \"M_CamryBase\",\n      \"properties\": {\n        \"dtype\": \"boolean\",\n        \"num_unique_values\": 2,\n        \"samples\": [\n          true,\n          false\n        ],\n        \"semantic_type\": \"\",\n        \"description\": \"\"\n      }\n    },\n    {\n      \"column\": \"M_CamryL\",\n      \"properties\": {\n        \"dtype\": \"boolean\",\n        \"num_unique_values\": 2,\n        \"samples\": [\n          true,\n          false\n        ],\n        \"semantic_type\": \"\",\n        \"description\": \"\"\n      }\n    },\n    {\n      \"column\": \"M_CamryLE\",\n      \"properties\": {\n        \"dtype\": \"boolean\",\n        \"num_unique_values\": 2,\n        \"samples\": [\n          true,\n          false\n        ],\n        \"semantic_type\": \"\",\n        \"description\": \"\"\n      }\n    },\n    {\n      \"column\": \"M_CamrySE\",\n      \"properties\": {\n        \"dtype\": \"boolean\",\n        \"num_unique_values\": 2,\n        \"samples\": [\n          false,\n          true\n        ],\n        \"semantic_type\": \"\",\n        \"description\": \"\"\n      }\n    },\n    {\n      \"column\": \"M_CamryXLE\",\n      \"properties\": {\n        \"dtype\": \"boolean\",\n        \"num_unique_values\": 2,\n        \"samples\": [\n          true,\n          false\n        ],\n        \"semantic_type\": \"\",\n        \"description\": \"\"\n      }\n    }\n  ]\n}"
            }
          },
          "metadata": {},
          "execution_count": 14
        }
      ],
      "source": [
        "# Visualización muestra boostrap #1 para entremiento\n",
        "X_train.iloc[samples[0], :]"
      ]
    },
    {
      "cell_type": "code",
      "source": [
        "# Definición del modelo usando DecisionTreeRegressor de sklearn\n",
        "treereg = DecisionTreeRegressor(max_depth=None, random_state=123)\n",
        "\n",
        "# DataFrame para guardar las predicciones de cada árbol\n",
        "y_pred_Bag = pd.DataFrame(index=X_test.index, columns=[list(range(n_B))])\n",
        "\n",
        "# Entrenamiento de un árbol sobre cada muestra boostrap y predicción sobre los datos de test\n",
        "for i, sample in enumerate(samples):\n",
        "    X_trainBag = X_train.iloc[sample,:]\n",
        "    y_trainBag = y_train.iloc[sample,]\n",
        "    treereg.fit(X_trainBag, y_trainBag)\n",
        "    y_pred_Bag.iloc[:,i] = treereg.predict(X_test)\n",
        "\n",
        "y_pred_Bag"
      ],
      "metadata": {
        "colab": {
          "base_uri": "https://localhost:8080/",
          "height": 423
        },
        "id": "JqAA9takXXr9",
        "outputId": "a49ba4cc-6c48-455d-cf0c-49b41db618f4"
      },
      "execution_count": null,
      "outputs": [
        {
          "output_type": "execute_result",
          "data": {
            "text/plain": [
              "              0        1        2        3        4        5        6  \\\n",
              "257343  14980.0  13993.0  13649.0  13649.0  11788.0  13649.0  13993.0   \n",
              "326011   6492.0   5995.0   5995.0   6987.0   5995.0   5995.0   5995.0   \n",
              "242354  16491.0  16995.0  16491.0  15997.0  15997.0  16491.0  17591.0   \n",
              "266376  21990.0  21990.0  22500.0  21990.0  15900.0  21990.0  22500.0   \n",
              "396954  15988.0  16951.0  15988.0  15988.0  15988.0  17900.0  16951.0   \n",
              "...         ...      ...      ...      ...      ...      ...      ...   \n",
              "144298  13836.0  14800.0  14800.0  14800.0  14800.0  14681.0  14800.0   \n",
              "364521  15999.0  14995.0  15999.0  16900.0  15999.0  15999.0  17300.0   \n",
              "120072  23533.0  23533.0  20000.0  17700.0  17700.0  23533.0  17700.0   \n",
              "99878   12989.0  12995.0  12989.0  12995.0  12991.0  12991.0  10995.0   \n",
              "387162  10991.0  11314.0  12999.0  12995.0   9995.0  11995.0  11985.0   \n",
              "\n",
              "              7        8        9  \n",
              "257343  13990.0  13990.0  13993.0  \n",
              "326011   6987.0   5995.0   5995.0  \n",
              "242354  16995.0  17404.0  16491.0  \n",
              "266376  21990.0  15813.0  21990.0  \n",
              "396954  16951.0  15988.0  15988.0  \n",
              "...         ...      ...      ...  \n",
              "144298  14800.0  13836.0  13836.0  \n",
              "364521  15999.0  16900.0  15000.0  \n",
              "120072  23533.0  23533.0  20000.0  \n",
              "99878   12991.0  12991.0  12893.0  \n",
              "387162  10991.0  11314.0  14995.0  \n",
              "\n",
              "[3464 rows x 10 columns]"
            ],
            "text/html": [
              "\n",
              "  <div id=\"df-ad6ce65e-e2a6-41eb-92d5-6f93cdc05559\" class=\"colab-df-container\">\n",
              "    <div>\n",
              "<style scoped>\n",
              "    .dataframe tbody tr th:only-of-type {\n",
              "        vertical-align: middle;\n",
              "    }\n",
              "\n",
              "    .dataframe tbody tr th {\n",
              "        vertical-align: top;\n",
              "    }\n",
              "\n",
              "    .dataframe thead tr th {\n",
              "        text-align: left;\n",
              "    }\n",
              "</style>\n",
              "<table border=\"1\" class=\"dataframe\">\n",
              "  <thead>\n",
              "    <tr>\n",
              "      <th></th>\n",
              "      <th>0</th>\n",
              "      <th>1</th>\n",
              "      <th>2</th>\n",
              "      <th>3</th>\n",
              "      <th>4</th>\n",
              "      <th>5</th>\n",
              "      <th>6</th>\n",
              "      <th>7</th>\n",
              "      <th>8</th>\n",
              "      <th>9</th>\n",
              "    </tr>\n",
              "  </thead>\n",
              "  <tbody>\n",
              "    <tr>\n",
              "      <th>257343</th>\n",
              "      <td>14980.0</td>\n",
              "      <td>13993.0</td>\n",
              "      <td>13649.0</td>\n",
              "      <td>13649.0</td>\n",
              "      <td>11788.0</td>\n",
              "      <td>13649.0</td>\n",
              "      <td>13993.0</td>\n",
              "      <td>13990.0</td>\n",
              "      <td>13990.0</td>\n",
              "      <td>13993.0</td>\n",
              "    </tr>\n",
              "    <tr>\n",
              "      <th>326011</th>\n",
              "      <td>6492.0</td>\n",
              "      <td>5995.0</td>\n",
              "      <td>5995.0</td>\n",
              "      <td>6987.0</td>\n",
              "      <td>5995.0</td>\n",
              "      <td>5995.0</td>\n",
              "      <td>5995.0</td>\n",
              "      <td>6987.0</td>\n",
              "      <td>5995.0</td>\n",
              "      <td>5995.0</td>\n",
              "    </tr>\n",
              "    <tr>\n",
              "      <th>242354</th>\n",
              "      <td>16491.0</td>\n",
              "      <td>16995.0</td>\n",
              "      <td>16491.0</td>\n",
              "      <td>15997.0</td>\n",
              "      <td>15997.0</td>\n",
              "      <td>16491.0</td>\n",
              "      <td>17591.0</td>\n",
              "      <td>16995.0</td>\n",
              "      <td>17404.0</td>\n",
              "      <td>16491.0</td>\n",
              "    </tr>\n",
              "    <tr>\n",
              "      <th>266376</th>\n",
              "      <td>21990.0</td>\n",
              "      <td>21990.0</td>\n",
              "      <td>22500.0</td>\n",
              "      <td>21990.0</td>\n",
              "      <td>15900.0</td>\n",
              "      <td>21990.0</td>\n",
              "      <td>22500.0</td>\n",
              "      <td>21990.0</td>\n",
              "      <td>15813.0</td>\n",
              "      <td>21990.0</td>\n",
              "    </tr>\n",
              "    <tr>\n",
              "      <th>396954</th>\n",
              "      <td>15988.0</td>\n",
              "      <td>16951.0</td>\n",
              "      <td>15988.0</td>\n",
              "      <td>15988.0</td>\n",
              "      <td>15988.0</td>\n",
              "      <td>17900.0</td>\n",
              "      <td>16951.0</td>\n",
              "      <td>16951.0</td>\n",
              "      <td>15988.0</td>\n",
              "      <td>15988.0</td>\n",
              "    </tr>\n",
              "    <tr>\n",
              "      <th>...</th>\n",
              "      <td>...</td>\n",
              "      <td>...</td>\n",
              "      <td>...</td>\n",
              "      <td>...</td>\n",
              "      <td>...</td>\n",
              "      <td>...</td>\n",
              "      <td>...</td>\n",
              "      <td>...</td>\n",
              "      <td>...</td>\n",
              "      <td>...</td>\n",
              "    </tr>\n",
              "    <tr>\n",
              "      <th>144298</th>\n",
              "      <td>13836.0</td>\n",
              "      <td>14800.0</td>\n",
              "      <td>14800.0</td>\n",
              "      <td>14800.0</td>\n",
              "      <td>14800.0</td>\n",
              "      <td>14681.0</td>\n",
              "      <td>14800.0</td>\n",
              "      <td>14800.0</td>\n",
              "      <td>13836.0</td>\n",
              "      <td>13836.0</td>\n",
              "    </tr>\n",
              "    <tr>\n",
              "      <th>364521</th>\n",
              "      <td>15999.0</td>\n",
              "      <td>14995.0</td>\n",
              "      <td>15999.0</td>\n",
              "      <td>16900.0</td>\n",
              "      <td>15999.0</td>\n",
              "      <td>15999.0</td>\n",
              "      <td>17300.0</td>\n",
              "      <td>15999.0</td>\n",
              "      <td>16900.0</td>\n",
              "      <td>15000.0</td>\n",
              "    </tr>\n",
              "    <tr>\n",
              "      <th>120072</th>\n",
              "      <td>23533.0</td>\n",
              "      <td>23533.0</td>\n",
              "      <td>20000.0</td>\n",
              "      <td>17700.0</td>\n",
              "      <td>17700.0</td>\n",
              "      <td>23533.0</td>\n",
              "      <td>17700.0</td>\n",
              "      <td>23533.0</td>\n",
              "      <td>23533.0</td>\n",
              "      <td>20000.0</td>\n",
              "    </tr>\n",
              "    <tr>\n",
              "      <th>99878</th>\n",
              "      <td>12989.0</td>\n",
              "      <td>12995.0</td>\n",
              "      <td>12989.0</td>\n",
              "      <td>12995.0</td>\n",
              "      <td>12991.0</td>\n",
              "      <td>12991.0</td>\n",
              "      <td>10995.0</td>\n",
              "      <td>12991.0</td>\n",
              "      <td>12991.0</td>\n",
              "      <td>12893.0</td>\n",
              "    </tr>\n",
              "    <tr>\n",
              "      <th>387162</th>\n",
              "      <td>10991.0</td>\n",
              "      <td>11314.0</td>\n",
              "      <td>12999.0</td>\n",
              "      <td>12995.0</td>\n",
              "      <td>9995.0</td>\n",
              "      <td>11995.0</td>\n",
              "      <td>11985.0</td>\n",
              "      <td>10991.0</td>\n",
              "      <td>11314.0</td>\n",
              "      <td>14995.0</td>\n",
              "    </tr>\n",
              "  </tbody>\n",
              "</table>\n",
              "<p>3464 rows × 10 columns</p>\n",
              "</div>\n",
              "    <div class=\"colab-df-buttons\">\n",
              "\n",
              "  <div class=\"colab-df-container\">\n",
              "    <button class=\"colab-df-convert\" onclick=\"convertToInteractive('df-ad6ce65e-e2a6-41eb-92d5-6f93cdc05559')\"\n",
              "            title=\"Convert this dataframe to an interactive table.\"\n",
              "            style=\"display:none;\">\n",
              "\n",
              "  <svg xmlns=\"http://www.w3.org/2000/svg\" height=\"24px\" viewBox=\"0 -960 960 960\">\n",
              "    <path d=\"M120-120v-720h720v720H120Zm60-500h600v-160H180v160Zm220 220h160v-160H400v160Zm0 220h160v-160H400v160ZM180-400h160v-160H180v160Zm440 0h160v-160H620v160ZM180-180h160v-160H180v160Zm440 0h160v-160H620v160Z\"/>\n",
              "  </svg>\n",
              "    </button>\n",
              "\n",
              "  <style>\n",
              "    .colab-df-container {\n",
              "      display:flex;\n",
              "      gap: 12px;\n",
              "    }\n",
              "\n",
              "    .colab-df-convert {\n",
              "      background-color: #E8F0FE;\n",
              "      border: none;\n",
              "      border-radius: 50%;\n",
              "      cursor: pointer;\n",
              "      display: none;\n",
              "      fill: #1967D2;\n",
              "      height: 32px;\n",
              "      padding: 0 0 0 0;\n",
              "      width: 32px;\n",
              "    }\n",
              "\n",
              "    .colab-df-convert:hover {\n",
              "      background-color: #E2EBFA;\n",
              "      box-shadow: 0px 1px 2px rgba(60, 64, 67, 0.3), 0px 1px 3px 1px rgba(60, 64, 67, 0.15);\n",
              "      fill: #174EA6;\n",
              "    }\n",
              "\n",
              "    .colab-df-buttons div {\n",
              "      margin-bottom: 4px;\n",
              "    }\n",
              "\n",
              "    [theme=dark] .colab-df-convert {\n",
              "      background-color: #3B4455;\n",
              "      fill: #D2E3FC;\n",
              "    }\n",
              "\n",
              "    [theme=dark] .colab-df-convert:hover {\n",
              "      background-color: #434B5C;\n",
              "      box-shadow: 0px 1px 3px 1px rgba(0, 0, 0, 0.15);\n",
              "      filter: drop-shadow(0px 1px 2px rgba(0, 0, 0, 0.3));\n",
              "      fill: #FFFFFF;\n",
              "    }\n",
              "  </style>\n",
              "\n",
              "    <script>\n",
              "      const buttonEl =\n",
              "        document.querySelector('#df-ad6ce65e-e2a6-41eb-92d5-6f93cdc05559 button.colab-df-convert');\n",
              "      buttonEl.style.display =\n",
              "        google.colab.kernel.accessAllowed ? 'block' : 'none';\n",
              "\n",
              "      async function convertToInteractive(key) {\n",
              "        const element = document.querySelector('#df-ad6ce65e-e2a6-41eb-92d5-6f93cdc05559');\n",
              "        const dataTable =\n",
              "          await google.colab.kernel.invokeFunction('convertToInteractive',\n",
              "                                                    [key], {});\n",
              "        if (!dataTable) return;\n",
              "\n",
              "        const docLinkHtml = 'Like what you see? Visit the ' +\n",
              "          '<a target=\"_blank\" href=https://colab.research.google.com/notebooks/data_table.ipynb>data table notebook</a>'\n",
              "          + ' to learn more about interactive tables.';\n",
              "        element.innerHTML = '';\n",
              "        dataTable['output_type'] = 'display_data';\n",
              "        await google.colab.output.renderOutput(dataTable, element);\n",
              "        const docLink = document.createElement('div');\n",
              "        docLink.innerHTML = docLinkHtml;\n",
              "        element.appendChild(docLink);\n",
              "      }\n",
              "    </script>\n",
              "  </div>\n",
              "\n",
              "\n",
              "<div id=\"df-bf729c0d-8abb-4126-b6c3-c76ce2ddb920\">\n",
              "  <button class=\"colab-df-quickchart\" onclick=\"quickchart('df-bf729c0d-8abb-4126-b6c3-c76ce2ddb920')\"\n",
              "            title=\"Suggest charts\"\n",
              "            style=\"display:none;\">\n",
              "\n",
              "<svg xmlns=\"http://www.w3.org/2000/svg\" height=\"24px\"viewBox=\"0 0 24 24\"\n",
              "     width=\"24px\">\n",
              "    <g>\n",
              "        <path d=\"M19 3H5c-1.1 0-2 .9-2 2v14c0 1.1.9 2 2 2h14c1.1 0 2-.9 2-2V5c0-1.1-.9-2-2-2zM9 17H7v-7h2v7zm4 0h-2V7h2v10zm4 0h-2v-4h2v4z\"/>\n",
              "    </g>\n",
              "</svg>\n",
              "  </button>\n",
              "\n",
              "<style>\n",
              "  .colab-df-quickchart {\n",
              "      --bg-color: #E8F0FE;\n",
              "      --fill-color: #1967D2;\n",
              "      --hover-bg-color: #E2EBFA;\n",
              "      --hover-fill-color: #174EA6;\n",
              "      --disabled-fill-color: #AAA;\n",
              "      --disabled-bg-color: #DDD;\n",
              "  }\n",
              "\n",
              "  [theme=dark] .colab-df-quickchart {\n",
              "      --bg-color: #3B4455;\n",
              "      --fill-color: #D2E3FC;\n",
              "      --hover-bg-color: #434B5C;\n",
              "      --hover-fill-color: #FFFFFF;\n",
              "      --disabled-bg-color: #3B4455;\n",
              "      --disabled-fill-color: #666;\n",
              "  }\n",
              "\n",
              "  .colab-df-quickchart {\n",
              "    background-color: var(--bg-color);\n",
              "    border: none;\n",
              "    border-radius: 50%;\n",
              "    cursor: pointer;\n",
              "    display: none;\n",
              "    fill: var(--fill-color);\n",
              "    height: 32px;\n",
              "    padding: 0;\n",
              "    width: 32px;\n",
              "  }\n",
              "\n",
              "  .colab-df-quickchart:hover {\n",
              "    background-color: var(--hover-bg-color);\n",
              "    box-shadow: 0 1px 2px rgba(60, 64, 67, 0.3), 0 1px 3px 1px rgba(60, 64, 67, 0.15);\n",
              "    fill: var(--button-hover-fill-color);\n",
              "  }\n",
              "\n",
              "  .colab-df-quickchart-complete:disabled,\n",
              "  .colab-df-quickchart-complete:disabled:hover {\n",
              "    background-color: var(--disabled-bg-color);\n",
              "    fill: var(--disabled-fill-color);\n",
              "    box-shadow: none;\n",
              "  }\n",
              "\n",
              "  .colab-df-spinner {\n",
              "    border: 2px solid var(--fill-color);\n",
              "    border-color: transparent;\n",
              "    border-bottom-color: var(--fill-color);\n",
              "    animation:\n",
              "      spin 1s steps(1) infinite;\n",
              "  }\n",
              "\n",
              "  @keyframes spin {\n",
              "    0% {\n",
              "      border-color: transparent;\n",
              "      border-bottom-color: var(--fill-color);\n",
              "      border-left-color: var(--fill-color);\n",
              "    }\n",
              "    20% {\n",
              "      border-color: transparent;\n",
              "      border-left-color: var(--fill-color);\n",
              "      border-top-color: var(--fill-color);\n",
              "    }\n",
              "    30% {\n",
              "      border-color: transparent;\n",
              "      border-left-color: var(--fill-color);\n",
              "      border-top-color: var(--fill-color);\n",
              "      border-right-color: var(--fill-color);\n",
              "    }\n",
              "    40% {\n",
              "      border-color: transparent;\n",
              "      border-right-color: var(--fill-color);\n",
              "      border-top-color: var(--fill-color);\n",
              "    }\n",
              "    60% {\n",
              "      border-color: transparent;\n",
              "      border-right-color: var(--fill-color);\n",
              "    }\n",
              "    80% {\n",
              "      border-color: transparent;\n",
              "      border-right-color: var(--fill-color);\n",
              "      border-bottom-color: var(--fill-color);\n",
              "    }\n",
              "    90% {\n",
              "      border-color: transparent;\n",
              "      border-bottom-color: var(--fill-color);\n",
              "    }\n",
              "  }\n",
              "</style>\n",
              "\n",
              "  <script>\n",
              "    async function quickchart(key) {\n",
              "      const quickchartButtonEl =\n",
              "        document.querySelector('#' + key + ' button');\n",
              "      quickchartButtonEl.disabled = true;  // To prevent multiple clicks.\n",
              "      quickchartButtonEl.classList.add('colab-df-spinner');\n",
              "      try {\n",
              "        const charts = await google.colab.kernel.invokeFunction(\n",
              "            'suggestCharts', [key], {});\n",
              "      } catch (error) {\n",
              "        console.error('Error during call to suggestCharts:', error);\n",
              "      }\n",
              "      quickchartButtonEl.classList.remove('colab-df-spinner');\n",
              "      quickchartButtonEl.classList.add('colab-df-quickchart-complete');\n",
              "    }\n",
              "    (() => {\n",
              "      let quickchartButtonEl =\n",
              "        document.querySelector('#df-bf729c0d-8abb-4126-b6c3-c76ce2ddb920 button');\n",
              "      quickchartButtonEl.style.display =\n",
              "        google.colab.kernel.accessAllowed ? 'block' : 'none';\n",
              "    })();\n",
              "  </script>\n",
              "</div>\n",
              "\n",
              "  <div id=\"id_c64b9789-83dd-45f1-9854-f447f89c73aa\">\n",
              "    <style>\n",
              "      .colab-df-generate {\n",
              "        background-color: #E8F0FE;\n",
              "        border: none;\n",
              "        border-radius: 50%;\n",
              "        cursor: pointer;\n",
              "        display: none;\n",
              "        fill: #1967D2;\n",
              "        height: 32px;\n",
              "        padding: 0 0 0 0;\n",
              "        width: 32px;\n",
              "      }\n",
              "\n",
              "      .colab-df-generate:hover {\n",
              "        background-color: #E2EBFA;\n",
              "        box-shadow: 0px 1px 2px rgba(60, 64, 67, 0.3), 0px 1px 3px 1px rgba(60, 64, 67, 0.15);\n",
              "        fill: #174EA6;\n",
              "      }\n",
              "\n",
              "      [theme=dark] .colab-df-generate {\n",
              "        background-color: #3B4455;\n",
              "        fill: #D2E3FC;\n",
              "      }\n",
              "\n",
              "      [theme=dark] .colab-df-generate:hover {\n",
              "        background-color: #434B5C;\n",
              "        box-shadow: 0px 1px 3px 1px rgba(0, 0, 0, 0.15);\n",
              "        filter: drop-shadow(0px 1px 2px rgba(0, 0, 0, 0.3));\n",
              "        fill: #FFFFFF;\n",
              "      }\n",
              "    </style>\n",
              "    <button class=\"colab-df-generate\" onclick=\"generateWithVariable('y_pred_Bag')\"\n",
              "            title=\"Generate code using this dataframe.\"\n",
              "            style=\"display:none;\">\n",
              "\n",
              "  <svg xmlns=\"http://www.w3.org/2000/svg\" height=\"24px\"viewBox=\"0 0 24 24\"\n",
              "       width=\"24px\">\n",
              "    <path d=\"M7,19H8.4L18.45,9,17,7.55,7,17.6ZM5,21V16.75L18.45,3.32a2,2,0,0,1,2.83,0l1.4,1.43a1.91,1.91,0,0,1,.58,1.4,1.91,1.91,0,0,1-.58,1.4L9.25,21ZM18.45,9,17,7.55Zm-12,3A5.31,5.31,0,0,0,4.9,8.1,5.31,5.31,0,0,0,1,6.5,5.31,5.31,0,0,0,4.9,4.9,5.31,5.31,0,0,0,6.5,1,5.31,5.31,0,0,0,8.1,4.9,5.31,5.31,0,0,0,12,6.5,5.46,5.46,0,0,0,6.5,12Z\"/>\n",
              "  </svg>\n",
              "    </button>\n",
              "    <script>\n",
              "      (() => {\n",
              "      const buttonEl =\n",
              "        document.querySelector('#id_c64b9789-83dd-45f1-9854-f447f89c73aa button.colab-df-generate');\n",
              "      buttonEl.style.display =\n",
              "        google.colab.kernel.accessAllowed ? 'block' : 'none';\n",
              "\n",
              "      buttonEl.onclick = () => {\n",
              "        google.colab.notebook.generateWithVariable('y_pred_Bag');\n",
              "      }\n",
              "      })();\n",
              "    </script>\n",
              "  </div>\n",
              "\n",
              "    </div>\n",
              "  </div>\n"
            ],
            "application/vnd.google.colaboratory.intrinsic+json": {
              "type": "dataframe",
              "variable_name": "y_pred_Bag",
              "repr_error": "0"
            }
          },
          "metadata": {},
          "execution_count": 15
        }
      ]
    },
    {
      "cell_type": "code",
      "source": [
        "# Desempeño de cada árbol\n",
        "for i in range(n_B):\n",
        "    print('Árbol ', i, 'tiene un RMSE: ', np.sqrt(mean_squared_error(y_test, y_pred_Bag.iloc[:,i])), ' y MAE: ', metrics.mean_absolute_error(y_test, y_pred_Bag.iloc[:,i]))\n"
      ],
      "metadata": {
        "colab": {
          "base_uri": "https://localhost:8080/"
        },
        "id": "0b-PvIw-XYDM",
        "outputId": "4b8e3a55-d648-4731-de92-614248bdb346"
      },
      "execution_count": null,
      "outputs": [
        {
          "output_type": "stream",
          "name": "stdout",
          "text": [
            "Árbol  0 tiene un RMSE:  2141.613353645869  y MAE:  1605.3012605850654\n",
            "Árbol  1 tiene un RMSE:  2136.3519863123465  y MAE:  1589.8544072363356\n",
            "Árbol  2 tiene un RMSE:  2122.718759132052  y MAE:  1577.7323421862973\n",
            "Árbol  3 tiene un RMSE:  2087.278992468617  y MAE:  1569.6103493071594\n",
            "Árbol  4 tiene un RMSE:  2168.518742842026  y MAE:  1614.8178695150114\n",
            "Árbol  5 tiene un RMSE:  2113.8811455834793  y MAE:  1576.055638953041\n",
            "Árbol  6 tiene un RMSE:  2127.933470769012  y MAE:  1582.1453521939954\n",
            "Árbol  7 tiene un RMSE:  2184.414847251443  y MAE:  1606.3077848344878\n",
            "Árbol  8 tiene un RMSE:  2138.1071697514985  y MAE:  1586.4345169361045\n",
            "Árbol  9 tiene un RMSE:  2132.097520859104  y MAE:  1587.769866243264\n"
          ]
        }
      ]
    },
    {
      "cell_type": "code",
      "source": [
        "# Predicciones promedio para cada observación del set de test\n",
        "y_pred_Bag.mean(axis=1)"
      ],
      "metadata": {
        "colab": {
          "base_uri": "https://localhost:8080/"
        },
        "id": "o5dkeDPcXYY8",
        "outputId": "4a09bcb9-e335-40fc-ca2f-b400697db390"
      },
      "execution_count": null,
      "outputs": [
        {
          "output_type": "execute_result",
          "data": {
            "text/plain": [
              "257343    13767.4\n",
              "326011     6243.1\n",
              "242354    16694.3\n",
              "266376    20865.3\n",
              "396954    16468.1\n",
              "           ...   \n",
              "144298    14498.9\n",
              "364521    16109.0\n",
              "120072    21076.5\n",
              "99878     12782.0\n",
              "387162    11957.4\n",
              "Length: 3464, dtype: object"
            ]
          },
          "metadata": {},
          "execution_count": 17
        }
      ]
    },
    {
      "cell_type": "code",
      "source": [
        "# Error al promediar las predicciones de todos los árboles\n",
        "rmse_Bag= np.sqrt(mean_squared_error(y_test, y_pred_Bag.mean(axis=1)))\n",
        "mae_Bag= metrics.mean_absolute_error(y_test, y_pred_Bag.mean(axis=1))\n",
        "\n",
        "rmse_Bag, mae_Bag"
      ],
      "metadata": {
        "colab": {
          "base_uri": "https://localhost:8080/"
        },
        "id": "ImSpouzBwP81",
        "outputId": "e954eb6d-cc27-4b93-e41f-ad03ca23d9e8"
      },
      "execution_count": null,
      "outputs": [
        {
          "output_type": "execute_result",
          "data": {
            "text/plain": [
              "(1796.4355868399332, 1340.0160739030025)"
            ]
          },
          "metadata": {},
          "execution_count": 18
        }
      ]
    },
    {
      "cell_type": "markdown",
      "source": [
        "Se puede ver el RMSE y el MAE, por si solos no nos dicen mucho, sin embargo, sabemos que entre más bajos sean ambos mejor será el modelo. Con el RMSE que es la raíz cuadrada del promedio de los cuadrados de las diferencias entre los valores predichos y los valores reales. Y el MAE que es la media de las diferencias absolutas entre las predicciones del modelo y los valores reales. Sin embargo, en este contexto donde la variable a predecir es el precio de los carros y presenta una media de 14599 y una desviación de 3911 podríamos considerar que este modelo presenta un buen desempeño pues el RMSE y el MAE tiene valores de 1796 y 1340 respectivamente por lo que esto indica que las predicciones se desvían en promedio del precio real en valores que son menores que la desviación"
      ],
      "metadata": {
        "id": "W3fMFtzhM2Gy"
      }
    },
    {
      "cell_type": "markdown",
      "metadata": {
        "id": "mvmzPeGi4nH9"
      },
      "source": [
        "### Punto 3 - Bagging con librería\n",
        "\n",
        "En la celda 3, con la librería sklearn, entrenen un modelo bagging con 10 árboles de regresión y el parámetro `max_features` igual a `log(n_features)` y comenten sobre el desempeño del modelo."
      ]
    },
    {
      "cell_type": "code",
      "execution_count": null,
      "metadata": {
        "id": "CyZ-6CZr4nH9",
        "colab": {
          "base_uri": "https://localhost:8080/"
        },
        "outputId": "3299aea6-9668-4ee8-fb05-ad09657bd588"
      },
      "outputs": [
        {
          "output_type": "stream",
          "name": "stdout",
          "text": [
            "0.0\n",
            "0.6931471805599453\n",
            "1.0986122886681098\n",
            "1.3862943611198906\n",
            "1.6094379124341003\n",
            "1.791759469228055\n",
            "1.9459101490553132\n",
            "2.0794415416798357\n",
            "2.1972245773362196\n"
          ]
        }
      ],
      "source": [
        "# Celda 3\n",
        "\n",
        "# Creación de lista de valores para iterar sobre diferentes valores de max_features\n",
        "feature_range = range(1, X_train.shape[1]+1)\n",
        "\n",
        "rmse_Bag_scores=[]\n",
        "msa_Bag_scores=[]\n",
        "\n",
        "for n_features in feature_range:\n",
        "  max_features=max(1,int(np.log(n_features)))\n",
        "  print(np.log(n_features))\n",
        "\n",
        "  bagreg = BaggingRegressor(DecisionTreeRegressor(), n_estimators=10, max_features=max_features, bootstrap=True, oob_score=True, random_state=1)\n",
        "  # Entrenemiento del modelo con set de entrenamiento y predicción en el set de test\n",
        "  bagreg.fit(X_train, y_train)\n",
        "  y_pred_Bag2 = bagreg.predict(X_test)\n",
        "  rmse_Bag_scores.append(np.sqrt(mean_squared_error(y_test, y_pred_Bag2)))\n",
        "  msa_Bag_scores.append(metrics.mean_absolute_error(y_test, y_pred_Bag2))\n"
      ]
    },
    {
      "cell_type": "code",
      "source": [
        "# Gráfica del desempeño del modelo vs la cantidad de max_features\n",
        "plt.plot(feature_range, rmse_Bag_scores)\n",
        "plt.xlabel('max_features')\n",
        "plt.ylabel('RMSE')"
      ],
      "metadata": {
        "colab": {
          "base_uri": "https://localhost:8080/",
          "height": 467
        },
        "id": "piL7w0bG2wQe",
        "outputId": "48675021-5489-4c48-f751-0e066eead5a8"
      },
      "execution_count": null,
      "outputs": [
        {
          "output_type": "execute_result",
          "data": {
            "text/plain": [
              "Text(0, 0.5, 'RMSE')"
            ]
          },
          "metadata": {},
          "execution_count": 20
        },
        {
          "output_type": "display_data",
          "data": {
            "text/plain": [
              "<Figure size 640x480 with 1 Axes>"
            ],
            "image/png": "[encoded data removed]"
          },
          "metadata": {}
        }
      ]
    },
    {
      "cell_type": "code",
      "source": [
        "#Seleccion del numero optimo de max features\n",
        "max_features = max(1,int(np.log(8)))\n",
        "\n",
        "bagreg = BaggingRegressor(DecisionTreeRegressor(), n_estimators=10, max_features=max_features, bootstrap=True, oob_score=True, random_state=1)\n",
        "# Entrenemiento del modelo con set de entrenamiento y predicción en el set de test\n",
        "bagreg.fit(X_train, y_train)\n",
        "y_pred_Bag2 = bagreg.predict(X_test)\n",
        "rmse_Bag2=np.sqrt(mean_squared_error(y_test, y_pred_Bag2))\n",
        "mae_Bag2=metrics.mean_absolute_error(y_test, y_pred_Bag2)\n",
        "\n",
        "rmse_Bag2, mae_Bag2"
      ],
      "metadata": {
        "colab": {
          "base_uri": "https://localhost:8080/"
        },
        "id": "10uKrVHd9Ide",
        "outputId": "e62f71b3-975e-49b6-dbe1-7b184b5346cb"
      },
      "execution_count": null,
      "outputs": [
        {
          "output_type": "execute_result",
          "data": {
            "text/plain": [
              "(2671.0127988157697, 2074.9760882251453)"
            ]
          },
          "metadata": {},
          "execution_count": 21
        }
      ]
    },
    {
      "cell_type": "markdown",
      "source": [
        "Como se puede observar en la grafica, al usar usando logaritmo en la seleccion de la cantidad de variables a usar, el RMSE en el rango de max_features: 1 a 7 es igual ya que para este el resultado del logaritmo es 1, mientras que en el rango de 8-9 el RMSE disminuye pues el resultado del logaritmo cambia a 2, por lo que el por lo que el numero de variables optimo es 8 pues este es el punto en donde si se selecciona un numero mayor de variables no brindaria ninguna mejora en los resultados del modelo."
      ],
      "metadata": {
        "id": "4yf9tvQe6QyI"
      }
    },
    {
      "cell_type": "markdown",
      "metadata": {
        "id": "USQZLSmJ4nH-"
      },
      "source": [
        "### Punto 4 - Random forest con librería\n",
        "\n",
        "En la celda 4, usando la librería sklearn entrenen un modelo de Randon Forest para regresión  y comenten sobre el desempeño del modelo."
      ]
    },
    {
      "cell_type": "code",
      "execution_count": null,
      "metadata": {
        "colab": {
          "base_uri": "https://localhost:8080/"
        },
        "id": "AUUrP6Dg4nH-",
        "outputId": "d806c9a6-f893-4984-b6bb-2d1c569bf957"
      },
      "outputs": [
        {
          "output_type": "stream",
          "name": "stdout",
          "text": [
            "RMSE: 1760.8377893184654, MAE: 1311.3960857495163, R2 Score: 0.7972986291253501\n"
          ]
        }
      ],
      "source": [
        "# Celda 4\n",
        "# Random Forest: Sin calibrar\n",
        "rfreg = RandomForestRegressor()\n",
        "rfreg.fit(X_train, y_train)\n",
        "y_pred_rfreg = rfreg.predict(X_test)\n",
        "\n",
        "rmse_rfreg = metrics.mean_squared_error(y_test, y_pred_rfreg)**.5\n",
        "mae_rfreg = metrics.mean_absolute_error(y_test, y_pred_rfreg)\n",
        "r2_rfreg = r2_score(y_test, y_pred_rfreg)\n",
        "\n",
        "print(f'RMSE: {rmse_rfreg}, MAE: {mae_rfreg}, R2 Score: {r2_rfreg}')"
      ]
    },
    {
      "cell_type": "markdown",
      "source": [
        "Se aprecia que el modelo tiene un RMSE de 1760.83, por si sola esta una metrica no indica mucho. Un RMSE más bajo acota un mejor ajuste del modelo a los datos, en ese sentido resulta mejor que el bagging y el arbol de decision de los puntos anteriores (cuantan con un RMSE mayor)\n",
        "\n",
        "Por otro lado el $R^2$ de 0.797 sugiere que alrededor del 79.7% de la variabilidad en la variable dependiente está explicada por el modelo.\n",
        "\n",
        "Finalmente el MAE de 1311.39, al medir la media de las diferencias absolutas entre las predicciones del modelo y los valores reales, sugiere que si tiende a cero es mejor, en este caso el MAE, en ese sentido resulta mejor que el bagging y el arbol de decision de los puntos anteriores (cuantan con un MAE mayor o más lejano al cero)\n"
      ],
      "metadata": {
        "id": "JZtU6qd4FKaF"
      }
    },
    {
      "cell_type": "markdown",
      "metadata": {
        "id": "rBiEzeFZ4nH-"
      },
      "source": [
        "### Punto 5 - Calibración de parámetros Random forest\n",
        "\n",
        "En la celda 5, calibren los parámetros max_depth, max_features y n_estimators del modelo de Randon Forest para regresión, comenten sobre el desempeño del modelo y describan cómo cada parámetro afecta el desempeño del modelo."
      ]
    },
    {
      "cell_type": "code",
      "execution_count": null,
      "metadata": {
        "id": "Ihwf88cM4nH-"
      },
      "outputs": [],
      "source": [
        "# Random Forest: Calibrar\n",
        "# buscar mediante una grilla los hiperparametros del modelo\n",
        "seed = 123\n",
        "n_features = X_train.shape[1]\n",
        "hyper_params=dict(\n",
        "    estimator__max_depth=[3, 4, 5],\n",
        "    estimator__max_features=range(int(n_features/3), n_features+1), # p/3 > m > p\n",
        "    estimator__n_estimators=[100, 200, 300]\n",
        ")\n",
        "\n",
        "model_cv_rfreg = GridSearchCV(\n",
        "    estimator=RFE(RandomForestRegressor()),\n",
        "    param_grid=hyper_params,\n",
        "    cv=KFold(n_splits=5, shuffle=True, random_state=seed),\n",
        "    scoring='neg_mean_squared_error',\n",
        "    verbose=1,\n",
        "    return_train_score=True\n",
        ")\n",
        "\n",
        "# ver como se sobreescribiran los paramatros\n",
        "# del modelo RandomForestRegressor mediante el GridSearchCV\n",
        "# model_cv_rfreg.get_params()"
      ]
    },
    {
      "cell_type": "code",
      "source": [
        "# lanzar proceso entrenamiento para la busqueda de parametros en la grilla\n",
        "# Fitting 5 folds for each of 63 candidates, totalling 315=3*7*3*5 fits\n",
        "model_cv_rfreg.fit(X_train, y_train)"
      ],
      "metadata": {
        "colab": {
          "base_uri": "https://localhost:8080/",
          "height": 177
        },
        "id": "rPfeP-Bj75Kz",
        "outputId": "9b2e1896-eb10-450b-f48b-07a9e0916e10"
      },
      "execution_count": null,
      "outputs": [
        {
          "output_type": "stream",
          "name": "stdout",
          "text": [
            "Fitting 5 folds for each of 63 candidates, totalling 315 fits\n"
          ]
        },
        {
          "output_type": "execute_result",
          "data": {
            "text/plain": [
              "GridSearchCV(cv=KFold(n_splits=5, random_state=123, shuffle=True),\n",
              "             estimator=RFE(estimator=RandomForestRegressor()),\n",
              "             param_grid={'estimator__max_depth': [3, 4, 5],\n",
              "                         'estimator__max_features': range(3, 10),\n",
              "                         'estimator__n_estimators': [100, 200, 300]},\n",
              "             return_train_score=True, scoring='neg_mean_squared_error',\n",
              "             verbose=1)"
            ],
            "text/html": [
              "<style>#sk-container-id-1 {color: black;background-color: white;}#sk-container-id-1 pre{padding: 0;}#sk-container-id-1 div.sk-toggleable {background-color: white;}#sk-container-id-1 label.sk-toggleable__label {cursor: pointer;display: block;width: 100%;margin-bottom: 0;padding: 0.3em;box-sizing: border-box;text-align: center;}#sk-container-id-1 label.sk-toggleable__label-arrow:before {content: \"▸\";float: left;margin-right: 0.25em;color: #696969;}#sk-container-id-1 label.sk-toggleable__label-arrow:hover:before {color: black;}#sk-container-id-1 div.sk-estimator:hover label.sk-toggleable__label-arrow:before {color: black;}#sk-container-id-1 div.sk-toggleable__content {max-height: 0;max-width: 0;overflow: hidden;text-align: left;background-color: #f0f8ff;}#sk-container-id-1 div.sk-toggleable__content pre {margin: 0.2em;color: black;border-radius: 0.25em;background-color: #f0f8ff;}#sk-container-id-1 input.sk-toggleable__control:checked~div.sk-toggleable__content {max-height: 200px;max-width: 100%;overflow: auto;}#sk-container-id-1 input.sk-toggleable__control:checked~label.sk-toggleable__label-arrow:before {content: \"▾\";}#sk-container-id-1 div.sk-estimator input.sk-toggleable__control:checked~label.sk-toggleable__label {background-color: #d4ebff;}#sk-container-id-1 div.sk-label input.sk-toggleable__control:checked~label.sk-toggleable__label {background-color: #d4ebff;}#sk-container-id-1 input.sk-hidden--visually {border: 0;clip: rect(1px 1px 1px 1px);clip: rect(1px, 1px, 1px, 1px);height: 1px;margin: -1px;overflow: hidden;padding: 0;position: absolute;width: 1px;}#sk-container-id-1 div.sk-estimator {font-family: monospace;background-color: #f0f8ff;border: 1px dotted black;border-radius: 0.25em;box-sizing: border-box;margin-bottom: 0.5em;}#sk-container-id-1 div.sk-estimator:hover {background-color: #d4ebff;}#sk-container-id-1 div.sk-parallel-item::after {content: \"\";width: 100%;border-bottom: 1px solid gray;flex-grow: 1;}#sk-container-id-1 div.sk-label:hover label.sk-toggleable__label {background-color: #d4ebff;}#sk-container-id-1 div.sk-serial::before {content: \"\";position: absolute;border-left: 1px solid gray;box-sizing: border-box;top: 0;bottom: 0;left: 50%;z-index: 0;}#sk-container-id-1 div.sk-serial {display: flex;flex-direction: column;align-items: center;background-color: white;padding-right: 0.2em;padding-left: 0.2em;position: relative;}#sk-container-id-1 div.sk-item {position: relative;z-index: 1;}#sk-container-id-1 div.sk-parallel {display: flex;align-items: stretch;justify-content: center;background-color: white;position: relative;}#sk-container-id-1 div.sk-item::before, #sk-container-id-1 div.sk-parallel-item::before {content: \"\";position: absolute;border-left: 1px solid gray;box-sizing: border-box;top: 0;bottom: 0;left: 50%;z-index: -1;}#sk-container-id-1 div.sk-parallel-item {display: flex;flex-direction: column;z-index: 1;position: relative;background-color: white;}#sk-container-id-1 div.sk-parallel-item:first-child::after {align-self: flex-end;width: 50%;}#sk-container-id-1 div.sk-parallel-item:last-child::after {align-self: flex-start;width: 50%;}#sk-container-id-1 div.sk-parallel-item:only-child::after {width: 0;}#sk-container-id-1 div.sk-dashed-wrapped {border: 1px dashed gray;margin: 0 0.4em 0.5em 0.4em;box-sizing: border-box;padding-bottom: 0.4em;background-color: white;}#sk-container-id-1 div.sk-label label {font-family: monospace;font-weight: bold;display: inline-block;line-height: 1.2em;}#sk-container-id-1 div.sk-label-container {text-align: center;}#sk-container-id-1 div.sk-container {/* jupyter's `normalize.less` sets `[hidden] { display: none; }` but bootstrap.min.css set `[hidden] { display: none !important; }` so we also need the `!important` here to be able to override the default hidden behavior on the sphinx rendered scikit-learn.org. See: https://github.com/scikit-learn/scikit-learn/issues/21755 */display: inline-block !important;position: relative;}#sk-container-id-1 div.sk-text-repr-fallback {display: none;}</style><div id=\"sk-container-id-1\" class=\"sk-top-container\"><div class=\"sk-text-repr-fallback\"><pre>GridSearchCV(cv=KFold(n_splits=5, random_state=123, shuffle=True),\n",
              "             estimator=RFE(estimator=RandomForestRegressor()),\n",
              "             param_grid={&#x27;estimator__max_depth&#x27;: [3, 4, 5],\n",
              "                         &#x27;estimator__max_features&#x27;: range(3, 10),\n",
              "                         &#x27;estimator__n_estimators&#x27;: [100, 200, 300]},\n",
              "             return_train_score=True, scoring=&#x27;neg_mean_squared_error&#x27;,\n",
              "             verbose=1)</pre><b>In a Jupyter environment, please rerun this cell to show the HTML representation or trust the notebook. <br />On GitHub, the HTML representation is unable to render, please try loading this page with nbviewer.org.</b></div><div class=\"sk-container\" hidden><div class=\"sk-item sk-dashed-wrapped\"><div class=\"sk-label-container\"><div class=\"sk-label sk-toggleable\"><input class=\"sk-toggleable__control sk-hidden--visually\" id=\"sk-estimator-id-1\" type=\"checkbox\" ><label for=\"sk-estimator-id-1\" class=\"sk-toggleable__label sk-toggleable__label-arrow\">GridSearchCV</label><div class=\"sk-toggleable__content\"><pre>GridSearchCV(cv=KFold(n_splits=5, random_state=123, shuffle=True),\n",
              "             estimator=RFE(estimator=RandomForestRegressor()),\n",
              "             param_grid={&#x27;estimator__max_depth&#x27;: [3, 4, 5],\n",
              "                         &#x27;estimator__max_features&#x27;: range(3, 10),\n",
              "                         &#x27;estimator__n_estimators&#x27;: [100, 200, 300]},\n",
              "             return_train_score=True, scoring=&#x27;neg_mean_squared_error&#x27;,\n",
              "             verbose=1)</pre></div></div></div><div class=\"sk-parallel\"><div class=\"sk-parallel-item\"><div class=\"sk-item\"><div class=\"sk-label-container\"><div class=\"sk-label sk-toggleable\"><input class=\"sk-toggleable__control sk-hidden--visually\" id=\"sk-estimator-id-2\" type=\"checkbox\" ><label for=\"sk-estimator-id-2\" class=\"sk-toggleable__label sk-toggleable__label-arrow\">estimator: RFE</label><div class=\"sk-toggleable__content\"><pre>RFE(estimator=RandomForestRegressor())</pre></div></div></div><div class=\"sk-serial\"><div class=\"sk-item sk-dashed-wrapped\"><div class=\"sk-parallel\"><div class=\"sk-parallel-item\"><div class=\"sk-item\"><div class=\"sk-label-container\"><div class=\"sk-label sk-toggleable\"><input class=\"sk-toggleable__control sk-hidden--visually\" id=\"sk-estimator-id-3\" type=\"checkbox\" ><label for=\"sk-estimator-id-3\" class=\"sk-toggleable__label sk-toggleable__label-arrow\">estimator: RandomForestRegressor</label><div class=\"sk-toggleable__content\"><pre>RandomForestRegressor()</pre></div></div></div><div class=\"sk-serial\"><div class=\"sk-item\"><div class=\"sk-estimator sk-toggleable\"><input class=\"sk-toggleable__control sk-hidden--visually\" id=\"sk-estimator-id-4\" type=\"checkbox\" ><label for=\"sk-estimator-id-4\" class=\"sk-toggleable__label sk-toggleable__label-arrow\">RandomForestRegressor</label><div class=\"sk-toggleable__content\"><pre>RandomForestRegressor()</pre></div></div></div></div></div></div></div></div></div></div></div></div></div></div></div>"
            ]
          },
          "metadata": {},
          "execution_count": 20
        }
      ]
    },
    {
      "cell_type": "code",
      "source": [
        "# se genera un reporte con las métricas correspondietes al proceso anterior\n",
        "cv_rfreg_results = pd.DataFrame(model_cv_rfreg.cv_results_)\n",
        "\n",
        "# se indica los campos que tiene el reporte de interes\n",
        "# cv_rfreg_results.columns"
      ],
      "metadata": {
        "id": "NiKOTT3j8DsO"
      },
      "execution_count": null,
      "outputs": []
    },
    {
      "cell_type": "code",
      "source": [
        "# se renderiza el numero de estimadores, profundidad maxima y\n",
        "# cantidad maxima de caracteristicas vs RMSE para ver cuales\n",
        "# son los parametros que la minimizan (RMSE) en este caso\n",
        "# solo para el test\n",
        "def plot_line(df,param,xlabel):\n",
        "    (\n",
        "        df\n",
        "            .loc[:, [param, \"mean_test_score\"]]\n",
        "            .reset_index()\n",
        "            .assign(sqrt_mean_test_score=lambda col:np.sqrt(col.mean_test_score*-1))\n",
        "    ).plot(\n",
        "        x=param,\n",
        "        y='sqrt_mean_test_score',\n",
        "        title=f'RMSE vs {xlabel.title()}',\n",
        "        xlabel=xlabel,\n",
        "        ylabel='RMSE',\n",
        "        color='dodgerblue'\n",
        "    )\n",
        "\n",
        "plot_line(cv_rfreg_results, 'param_estimator__n_estimators', 'number of estimators')\n",
        "plot_line(cv_rfreg_results, 'param_estimator__max_depth', 'max depth')\n",
        "plot_line(cv_rfreg_results, 'param_estimator__max_features', 'max features')"
      ],
      "metadata": {
        "colab": {
          "base_uri": "https://localhost:8080/",
          "height": 1000
        },
        "id": "i8KSQut78wpK",
        "outputId": "766bdca1-e608-42ba-959c-88c6c9fbd23f"
      },
      "execution_count": null,
      "outputs": [
        {
          "output_type": "display_data",
          "data": {
            "text/plain": [
              "<Figure size 640x480 with 1 Axes>"
            ],
            "image/png": "[encoded data removed]"
          },
          "metadata": {}
        },
        {
          "output_type": "display_data",
          "data": {
            "text/plain": [
              "<Figure size 640x480 with 1 Axes>"
            ],
            "image/png": "[encoded data removed]"
          },
          "metadata": {}
        },
        {
          "output_type": "display_data",
          "data": {
            "text/plain": [
              "<Figure size 640x480 with 1 Axes>"
            ],
            "image/png": "[encoded data removed]"
          },
          "metadata": {}
        }
      ]
    },
    {
      "cell_type": "code",
      "source": [
        "# seleccionar los mejores paramatros\n",
        "# que se evidenciaron previamente en los 3 graficos de arriba\n",
        "# Estos son la mezcla de los 315 ajustes que se hicieron\n",
        "model_cv_rfreg.best_params_\n",
        "best_params = {\n",
        "    k.replace('estimator__', ''):v\n",
        "    for k, v in model_cv_rfreg.best_params_.items()\n",
        "}\n",
        "best_params"
      ],
      "metadata": {
        "colab": {
          "base_uri": "https://localhost:8080/"
        },
        "id": "jrYRCGjo96Sl",
        "outputId": "280ca0b8-d15d-40b8-8b19-c6250ef8209b"
      },
      "execution_count": null,
      "outputs": [
        {
          "output_type": "execute_result",
          "data": {
            "text/plain": [
              "{'max_depth': 5, 'max_features': 6, 'n_estimators': 100}"
            ]
          },
          "metadata": {},
          "execution_count": 26
        }
      ]
    },
    {
      "cell_type": "code",
      "source": [
        "# Random Forest Calibrado con los Mejores Parametros Encontrados en la Grilla\n",
        "rfregTuning = RandomForestRegressor(**best_params)\n",
        "rfregTuning.fit(X_train, y_train)\n",
        "y_pred_rfregt = rfregTuning.predict(X_test)\n",
        "\n",
        "rmse_rfregt = metrics.mean_squared_error(y_test, y_pred_rfregt)**.5\n",
        "mae_rfregt = metrics.mean_absolute_error(y_test, y_pred_rfregt)\n",
        "r2_rfregt = r2_score(y_test, y_pred_rfregt)\n",
        "\n",
        "print(f'RMSE: {rmse_rfregt}, MAE: {mae_rfregt}, R2 Score: {r2_rfregt}')"
      ],
      "metadata": {
        "colab": {
          "base_uri": "https://localhost:8080/"
        },
        "id": "6FBu2d8J-DVw",
        "outputId": "198bfd22-13a6-4126-971d-2f67d822277e"
      },
      "execution_count": null,
      "outputs": [
        {
          "output_type": "stream",
          "name": "stdout",
          "text": [
            "RMSE: 1610.5695125731345, MAE: 1193.9618274476256, R2 Score: 0.8304191009415186\n"
          ]
        }
      ]
    },
    {
      "cell_type": "markdown",
      "source": [
        "Las 2 metricas RMSE, MAE del random forest calibraro tuvieron una mejora con respecto al random forest sin calibrar (el $R^2$ se mantuvo). Pero es importante acotar que estos resultados no necesariamente son los óptimos, porque están condicionadas al rango que se le dio inicialmente a los parámetros max_depth (3 configuraciones), max_features (7 configuraciones) y n_estimators (3 configuraciones).\n",
        "\n",
        "Lo anterior implica que efecturaron 315 ajustes de las 63 (3 * 7 * 3) combinaciones (o candidatos) previamente acotados, en tal sentido podría existir otro conjunto de candidatos que mejore las métricas RMSE, MAE, por tanto la calibración termina siendo costosa computacionalmente hablando.\n",
        "\n",
        ">Nota: En el caso de `max_features` se empleo lo siguiente $p/3 \\geq m \\geq p$, esto ayuda a limitar la busqueda también de parámetros"
      ],
      "metadata": {
        "id": "KKsgzOW6I-Kj"
      }
    },
    {
      "cell_type": "markdown",
      "metadata": {
        "id": "UcXT9jAV4nH-"
      },
      "source": [
        "### Manera Manual"
      ]
    },
    {
      "cell_type": "markdown",
      "metadata": {
        "id": "8EYqL6rs4nH-"
      },
      "source": [
        "#### Calibracion estimators"
      ]
    },
    {
      "cell_type": "code",
      "execution_count": null,
      "metadata": {
        "id": "s1k9BrYp4nH-"
      },
      "outputs": [],
      "source": [
        "\n",
        "estimator_range = range(10, 310, 10)\n",
        "\n",
        "# Definición de lista para almacenar la exactitud (accuracy) promedio para cada valor de n_estimators\n",
        "mse_scores_n_estimators = []\n",
        "\n",
        "# Uso de un 5-fold cross-validation para cada valor de n_estimators\n",
        "for estimator in estimator_range:\n",
        "    RF_Reg = RandomForestRegressor(n_estimators=estimator, random_state=1, n_jobs=-1)\n",
        "    cross_val=cross_val_score(RF_Reg, X_train, y_train, cv=5, scoring='neg_mean_squared_error').mean()\n",
        "    mse_scores_n_estimators.append(cross_val)"
      ]
    },
    {
      "cell_type": "code",
      "execution_count": null,
      "metadata": {
        "id": "kaUqz8a14nH-",
        "colab": {
          "base_uri": "https://localhost:8080/",
          "height": 482
        },
        "outputId": "dcf316e5-5b26-4de0-a3f6-1f9648dad797"
      },
      "outputs": [
        {
          "output_type": "execute_result",
          "data": {
            "text/plain": [
              "Text(0, 0.5, 'Negative MSE')"
            ]
          },
          "metadata": {},
          "execution_count": 8
        },
        {
          "output_type": "display_data",
          "data": {
            "text/plain": [
              "<Figure size 640x480 with 1 Axes>"
            ],
            "image/png": "[encoded data removed]"
          },
          "metadata": {}
        }
      ],
      "source": [
        "# Gráfica del desempeño del modelo vs la cantidad de n_estimators\n",
        "plt.plot(estimator_range, mse_scores_n_estimators)\n",
        "plt.xlabel('n_estimators')\n",
        "plt.ylabel('Negative MSE')"
      ]
    },
    {
      "cell_type": "markdown",
      "metadata": {
        "id": "HuUHA8lj4nH-"
      },
      "source": [
        "Al parecer viendo la grafica se llega a un punto maximo en 50 o mas adelante, pero pasando 50 no se ve una mejora significativa"
      ]
    },
    {
      "cell_type": "markdown",
      "metadata": {
        "id": "5VVswfOM4nH-"
      },
      "source": [
        "#### Calibracion max_features"
      ]
    },
    {
      "cell_type": "code",
      "execution_count": null,
      "metadata": {
        "id": "rQkooj374nH_"
      },
      "outputs": [],
      "source": [
        "feature_cols=X.columns\n",
        "# Creación de lista de valores para iterar sobre diferentes valores de max_features\n",
        "feature_range = range(1, len(feature_cols)+1)\n",
        "\n",
        "# Definición de lista para almacenar la exactitud (accuracy) promedio para cada valor de max_features\n",
        "mse_scores_max_features = []\n",
        "\n",
        "# Uso de un 10-fold cross-validation para cada valor de max_features\n",
        "for feature in feature_range:\n",
        "    clf = RandomForestRegressor(n_estimators=200, max_features=feature, random_state=1, n_jobs=-1)\n",
        "    cross_val=cross_val_score(clf, X, y, cv=5, scoring='neg_mean_squared_error').mean()\n",
        "    mse_scores_max_features.append(cross_val)"
      ]
    },
    {
      "cell_type": "code",
      "execution_count": null,
      "metadata": {
        "id": "W2Lmj8q74nH_",
        "colab": {
          "base_uri": "https://localhost:8080/",
          "height": 482
        },
        "outputId": "f0432bdb-9e96-4a76-c939-521a0bd0c7fb"
      },
      "outputs": [
        {
          "output_type": "execute_result",
          "data": {
            "text/plain": [
              "Text(0, 0.5, 'Accuracy')"
            ]
          },
          "metadata": {},
          "execution_count": 10
        },
        {
          "output_type": "display_data",
          "data": {
            "text/plain": [
              "<Figure size 640x480 with 1 Axes>"
            ],
            "image/png": "[encoded data removed]"
          },
          "metadata": {}
        }
      ],
      "source": [
        "# Gráfica del desempeño del modelo vs la cantidad de max_features\n",
        "plt.plot(feature_range, mse_scores_max_features)\n",
        "plt.xlabel('max_features')\n",
        "plt.ylabel('Accuracy')"
      ]
    },
    {
      "cell_type": "markdown",
      "metadata": {
        "id": "giss75n-4nH_"
      },
      "source": [
        "### Punto 6 - XGBoost con librería\n",
        "\n",
        "En la celda 6 implementen un modelo XGBoost de regresión con la librería sklearn y comenten sobre el desempeño del modelo."
      ]
    },
    {
      "cell_type": "code",
      "execution_count": null,
      "metadata": {
        "colab": {
          "base_uri": "https://localhost:8080/",
          "height": 248
        },
        "id": "yISmWjwj4nH_",
        "outputId": "4ec1e005-3ae4-4a99-f65f-d464ece0e95f"
      },
      "outputs": [
        {
          "output_type": "execute_result",
          "data": {
            "text/plain": [
              "XGBRegressor(base_score=None, booster=None, callbacks=None,\n",
              "             colsample_bylevel=None, colsample_bynode=None,\n",
              "             colsample_bytree=None, device=None, early_stopping_rounds=None,\n",
              "             enable_categorical=False, eval_metric=None, feature_types=None,\n",
              "             gamma=None, grow_policy=None, importance_type=None,\n",
              "             interaction_constraints=None, learning_rate=None, max_bin=None,\n",
              "             max_cat_threshold=None, max_cat_to_onehot=None,\n",
              "             max_delta_step=None, max_depth=None, max_leaves=None,\n",
              "             min_child_weight=None, missing=nan, monotone_constraints=None,\n",
              "             multi_strategy=None, n_estimators=None, n_jobs=None,\n",
              "             num_parallel_tree=None, random_state=None, ...)"
            ],
            "text/html": [
              "<style>#sk-container-id-2 {color: black;background-color: white;}#sk-container-id-2 pre{padding: 0;}#sk-container-id-2 div.sk-toggleable {background-color: white;}#sk-container-id-2 label.sk-toggleable__label {cursor: pointer;display: block;width: 100%;margin-bottom: 0;padding: 0.3em;box-sizing: border-box;text-align: center;}#sk-container-id-2 label.sk-toggleable__label-arrow:before {content: \"▸\";float: left;margin-right: 0.25em;color: #696969;}#sk-container-id-2 label.sk-toggleable__label-arrow:hover:before {color: black;}#sk-container-id-2 div.sk-estimator:hover label.sk-toggleable__label-arrow:before {color: black;}#sk-container-id-2 div.sk-toggleable__content {max-height: 0;max-width: 0;overflow: hidden;text-align: left;background-color: #f0f8ff;}#sk-container-id-2 div.sk-toggleable__content pre {margin: 0.2em;color: black;border-radius: 0.25em;background-color: #f0f8ff;}#sk-container-id-2 input.sk-toggleable__control:checked~div.sk-toggleable__content {max-height: 200px;max-width: 100%;overflow: auto;}#sk-container-id-2 input.sk-toggleable__control:checked~label.sk-toggleable__label-arrow:before {content: \"▾\";}#sk-container-id-2 div.sk-estimator input.sk-toggleable__control:checked~label.sk-toggleable__label {background-color: #d4ebff;}#sk-container-id-2 div.sk-label input.sk-toggleable__control:checked~label.sk-toggleable__label {background-color: #d4ebff;}#sk-container-id-2 input.sk-hidden--visually {border: 0;clip: rect(1px 1px 1px 1px);clip: rect(1px, 1px, 1px, 1px);height: 1px;margin: -1px;overflow: hidden;padding: 0;position: absolute;width: 1px;}#sk-container-id-2 div.sk-estimator {font-family: monospace;background-color: #f0f8ff;border: 1px dotted black;border-radius: 0.25em;box-sizing: border-box;margin-bottom: 0.5em;}#sk-container-id-2 div.sk-estimator:hover {background-color: #d4ebff;}#sk-container-id-2 div.sk-parallel-item::after {content: \"\";width: 100%;border-bottom: 1px solid gray;flex-grow: 1;}#sk-container-id-2 div.sk-label:hover label.sk-toggleable__label {background-color: #d4ebff;}#sk-container-id-2 div.sk-serial::before {content: \"\";position: absolute;border-left: 1px solid gray;box-sizing: border-box;top: 0;bottom: 0;left: 50%;z-index: 0;}#sk-container-id-2 div.sk-serial {display: flex;flex-direction: column;align-items: center;background-color: white;padding-right: 0.2em;padding-left: 0.2em;position: relative;}#sk-container-id-2 div.sk-item {position: relative;z-index: 1;}#sk-container-id-2 div.sk-parallel {display: flex;align-items: stretch;justify-content: center;background-color: white;position: relative;}#sk-container-id-2 div.sk-item::before, #sk-container-id-2 div.sk-parallel-item::before {content: \"\";position: absolute;border-left: 1px solid gray;box-sizing: border-box;top: 0;bottom: 0;left: 50%;z-index: -1;}#sk-container-id-2 div.sk-parallel-item {display: flex;flex-direction: column;z-index: 1;position: relative;background-color: white;}#sk-container-id-2 div.sk-parallel-item:first-child::after {align-self: flex-end;width: 50%;}#sk-container-id-2 div.sk-parallel-item:last-child::after {align-self: flex-start;width: 50%;}#sk-container-id-2 div.sk-parallel-item:only-child::after {width: 0;}#sk-container-id-2 div.sk-dashed-wrapped {border: 1px dashed gray;margin: 0 0.4em 0.5em 0.4em;box-sizing: border-box;padding-bottom: 0.4em;background-color: white;}#sk-container-id-2 div.sk-label label {font-family: monospace;font-weight: bold;display: inline-block;line-height: 1.2em;}#sk-container-id-2 div.sk-label-container {text-align: center;}#sk-container-id-2 div.sk-container {/* jupyter's `normalize.less` sets `[hidden] { display: none; }` but bootstrap.min.css set `[hidden] { display: none !important; }` so we also need the `!important` here to be able to override the default hidden behavior on the sphinx rendered scikit-learn.org. See: https://github.com/scikit-learn/scikit-learn/issues/21755 */display: inline-block !important;position: relative;}#sk-container-id-2 div.sk-text-repr-fallback {display: none;}</style><div id=\"sk-container-id-2\" class=\"sk-top-container\"><div class=\"sk-text-repr-fallback\"><pre>XGBRegressor(base_score=None, booster=None, callbacks=None,\n",
              "             colsample_bylevel=None, colsample_bynode=None,\n",
              "             colsample_bytree=None, device=None, early_stopping_rounds=None,\n",
              "             enable_categorical=False, eval_metric=None, feature_types=None,\n",
              "             gamma=None, grow_policy=None, importance_type=None,\n",
              "             interaction_constraints=None, learning_rate=None, max_bin=None,\n",
              "             max_cat_threshold=None, max_cat_to_onehot=None,\n",
              "             max_delta_step=None, max_depth=None, max_leaves=None,\n",
              "             min_child_weight=None, missing=nan, monotone_constraints=None,\n",
              "             multi_strategy=None, n_estimators=None, n_jobs=None,\n",
              "             num_parallel_tree=None, random_state=None, ...)</pre><b>In a Jupyter environment, please rerun this cell to show the HTML representation or trust the notebook. <br />On GitHub, the HTML representation is unable to render, please try loading this page with nbviewer.org.</b></div><div class=\"sk-container\" hidden><div class=\"sk-item\"><div class=\"sk-estimator sk-toggleable\"><input class=\"sk-toggleable__control sk-hidden--visually\" id=\"sk-estimator-id-5\" type=\"checkbox\" checked><label for=\"sk-estimator-id-5\" class=\"sk-toggleable__label sk-toggleable__label-arrow\">XGBRegressor</label><div class=\"sk-toggleable__content\"><pre>XGBRegressor(base_score=None, booster=None, callbacks=None,\n",
              "             colsample_bylevel=None, colsample_bynode=None,\n",
              "             colsample_bytree=None, device=None, early_stopping_rounds=None,\n",
              "             enable_categorical=False, eval_metric=None, feature_types=None,\n",
              "             gamma=None, grow_policy=None, importance_type=None,\n",
              "             interaction_constraints=None, learning_rate=None, max_bin=None,\n",
              "             max_cat_threshold=None, max_cat_to_onehot=None,\n",
              "             max_delta_step=None, max_depth=None, max_leaves=None,\n",
              "             min_child_weight=None, missing=nan, monotone_constraints=None,\n",
              "             multi_strategy=None, n_estimators=None, n_jobs=None,\n",
              "             num_parallel_tree=None, random_state=None, ...)</pre></div></div></div></div></div>"
            ]
          },
          "metadata": {},
          "execution_count": 34
        }
      ],
      "source": [
        "# Celda 6\n",
        "from xgboost import XGBRegressor\n",
        "xgb_reg = XGBRegressor()\n",
        "xgb_reg"
      ]
    },
    {
      "cell_type": "code",
      "execution_count": null,
      "metadata": {
        "colab": {
          "base_uri": "https://localhost:8080/"
        },
        "id": "cFbANiZl4nH_",
        "outputId": "abaef748-411e-41dd-cb48-5f321c81a597"
      },
      "outputs": [
        {
          "output_type": "stream",
          "name": "stdout",
          "text": [
            "MSE: 2576781.074646859, R2 Score: 0.8038713350750613, MAE: 1185.2272991506386\n"
          ]
        }
      ],
      "source": [
        "xgb_reg.fit(X_train, y_train)\n",
        "y_pred=xgb_reg.predict(X_test)\n",
        "XGb_sin_mse=mean_squared_error(y_pred, y_test.values)\n",
        "XGb_sin_r2=r2_score(y_pred, y_test.values)\n",
        "XGb_sin_mae=mean_absolute_error(y_pred, y_test.values)\n",
        "\n",
        "print(f'MSE: {XGb_sin_mse}, R2 Score: {XGb_sin_r2}, MAE: {XGb_sin_mae}')"
      ]
    },
    {
      "cell_type": "markdown",
      "source": [
        "Como se puede ver el modelo tiene un MSE de 2576781.07, lo que por si solo no dice mucho pero es una metrica que mide el promedio de los cuadrados de las diferencias entre los valores predichos y los valores reales. Un MSE más bajo indica un mejor ajuste del modelo a los datos.,\n",
        "\n",
        " Tambien vemos un $R^2$ de 0.8039 esto sugiere que alrededor del 80.39% de la variabilidad en la variable dependiente está explicada por el modelo.\n",
        "\n",
        "Finalmente se ve un MAE de 1185.23, el MAE es la media de las diferencias absolutas entre las predicciones del modelo y los valores reales. Al igual que el MSE, un MAE más bajo indica un mejor ajuste del modelo a los datos."
      ],
      "metadata": {
        "id": "3-YHS3Zb9n6-"
      }
    },
    {
      "cell_type": "markdown",
      "metadata": {
        "id": "iYrkHww24nH_"
      },
      "source": [
        "### Punto 7 - Calibración de parámetros XGBoost\n",
        "\n",
        "En la celda 7 calibren los parámetros learning rate, gamma y colsample_bytree del modelo XGBoost para regresión, comenten sobre el desempeño del modelo y describan cómo cada parámetro afecta el desempeño del modelo."
      ]
    },
    {
      "cell_type": "code",
      "execution_count": null,
      "metadata": {
        "id": "goV6Ofu44nIA",
        "colab": {
          "base_uri": "https://localhost:8080/"
        },
        "outputId": "6d7e7a32-d8d5-42fd-9bda-493769ed80c5"
      },
      "outputs": [
        {
          "output_type": "stream",
          "name": "stdout",
          "text": [
            "Fitting 5 folds for each of 27 candidates, totalling 135 fits\n",
            "Mejores hiperparámetros: {'n_estimators': 100, 'max_depth': 3, 'learning_rate': 0.1}\n"
          ]
        }
      ],
      "source": [
        "# Celda 7\n",
        "from sklearn.model_selection import RandomizedSearchCV\n",
        "\n",
        "# Definir los hiperparámetros a explorar\n",
        "param_grid = {\n",
        "    'learning_rate': [0.01, 0.1, 0.3],\n",
        "    'max_depth': [3, 5, 7],\n",
        "    'n_estimators': [100, 200, 300]\n",
        "}\n",
        "\n",
        "xgb_reg_cal = XGBRegressor()\n",
        "\n",
        "random_search = RandomizedSearchCV(xgb_reg_cal, param_distributions=param_grid, n_iter=50, scoring='neg_mean_squared_error', cv=5, verbose=2, random_state=42, n_jobs=-1)\n",
        "\n",
        "random_search.fit(X_train, y_train)\n",
        "\n",
        "\n",
        "best_params_rs = random_search.best_params_\n",
        "print(\"Mejores hiperparámetros:\", best_params_rs)\n",
        "\n",
        "best_model = random_search.best_estimator_\n"
      ]
    },
    {
      "cell_type": "markdown",
      "source": [
        "Mejores hiperparámetros: {'n_estimators': 100, 'max_depth': 3, 'learning_rate': 0.1}"
      ],
      "metadata": {
        "id": "9S95ijXuCJSb"
      }
    },
    {
      "cell_type": "code",
      "execution_count": null,
      "metadata": {
        "colab": {
          "base_uri": "https://localhost:8080/"
        },
        "id": "kOURjk9d4nIA",
        "outputId": "38a994b6-dd97-4848-b49c-5ec0abe1c214"
      },
      "outputs": [
        {
          "output_type": "stream",
          "name": "stdout",
          "text": [
            "MSE: 2366053.407603188, R2 Score: 0.845317020351267, MAE: 1127.329756597999\n"
          ]
        }
      ],
      "source": [
        "y_pred = best_model.predict(X_test)\n",
        "MSEXGB=mean_squared_error(y_test, y_pred)\n",
        "r2XGB=r2_score(y_test, y_pred)\n",
        "MAEXGB=mean_absolute_error(y_test, y_pred)\n",
        "\n",
        "print(f'MSE: {MSEXGB}, R2 Score: {r2XGB}, MAE: {MAEXGB}')"
      ]
    },
    {
      "cell_type": "markdown",
      "source": [
        "Como se puede ver tanto el MSE como el MAE disminuyeron, por lo que se puede apreciar que ahora se tiene un mejor modelo:\n",
        "\n",
        "Se pasa de:\n",
        "\n",
        "MSE de 2576781.07\n",
        "\n",
        "MAE de 1185.23\n",
        "\n",
        "$R^2$ de 0.8039\n",
        "\n",
        "A un nuevo modelo:\n",
        "\n",
        "MSE de 2366053.40\n",
        "\n",
        "MAE de 1127.33\n",
        "\n",
        "$R^2$ de 0.8453\n",
        "\n",
        "Con el MSE que es el promedio de los cuadrados de las diferencias entre los valores predichos y los valores reales. El $R^2$ que es la variabilidad explicada por las variables predictoras. Y el MAE que es la media de las diferencias absolutas entre las predicciones del modelo y los valores reales.\n",
        "\n",
        "En general se puede ver que ahora se tiene un mejor modelo que el definido inicialmente gracias a la optimizacion de parametros usando Randomized Search Cross Validation\n"
      ],
      "metadata": {
        "id": "TFQnfNQODHay"
      }
    },
    {
      "cell_type": "markdown",
      "metadata": {
        "id": "oHhXAC1Q4nIA"
      },
      "source": [
        "### Punto 8 - Comparación y análisis de resultados\n",
        "En la celda 8 comparen los resultados obtenidos de los diferentes modelos (random forest y XGBoost) y comenten las ventajas del mejor modelo y las desventajas del modelo con el menor desempeño."
      ]
    },
    {
      "cell_type": "code",
      "execution_count": null,
      "metadata": {
        "id": "B7juVzhV4nIA"
      },
      "outputs": [],
      "source": [
        "# Celda 8\n",
        "def plot_barh(df, title, xlabel, asc=False):\n",
        "  ax = (\n",
        "      df\n",
        "      .sort_values(by='ejeY', ascending=asc)\n",
        "      .plot(\n",
        "          kind='barh', y='ejeY', x='ejeX', color='dodgerblue',\n",
        "          title=title,\n",
        "          xlabel=xlabel,\n",
        "          ylabel=''\n",
        "      )\n",
        "  )\n",
        "  ax.bar_label(ax.containers[0])\n",
        "  plt.show()\n",
        "\n",
        "ejeX = ['XGBoost Calibrado', 'XGBoost Sin Calibrar','Random Forest Sin Calibrar', 'Random Forest Calibrado', ]"
      ]
    },
    {
      "cell_type": "code",
      "source": [
        " plot_barh(\n",
        "    df=pd.DataFrame({'ejeX': ejeX, 'ejeY': [MSEXGB**(1/2),XGb_sin_mse**(1/2), rmse_rfreg, rmse_rfregt]}),\n",
        "    title='Comparación de modelos RMSE',\n",
        "    xlabel='MSE'\n",
        ")"
      ],
      "metadata": {
        "colab": {
          "base_uri": "https://localhost:8080/",
          "height": 472
        },
        "id": "2HiTJWnwl4fB",
        "outputId": "36da9a6d-986b-4055-8f2f-ad51dfd1ac64"
      },
      "execution_count": null,
      "outputs": [
        {
          "output_type": "display_data",
          "data": {
            "text/plain": [
              "<Figure size 640x480 with 1 Axes>"
            ],
            "image/png": "[encoded data removed]"
          },
          "metadata": {}
        }
      ]
    },
    {
      "cell_type": "code",
      "execution_count": null,
      "metadata": {
        "id": "knBLNV9K4nID",
        "colab": {
          "base_uri": "https://localhost:8080/",
          "height": 472
        },
        "outputId": "4dda3c87-980a-4a6f-9229-f5b1254a75cf"
      },
      "outputs": [
        {
          "output_type": "display_data",
          "data": {
            "text/plain": [
              "<Figure size 640x480 with 1 Axes>"
            ],
            "image/png": "[encoded data removed]"
          },
          "metadata": {}
        }
      ],
      "source": [
        "plot_barh(\n",
        "    df=pd.DataFrame({'ejeX': ejeX, 'ejeY': [MAEXGB, XGb_sin_mae ,mae_rfreg, mae_rfregt]}),\n",
        "    title=r'Comparación de modelos MAE',\n",
        "    xlabel='MAE'\n",
        ")"
      ]
    },
    {
      "cell_type": "code",
      "execution_count": null,
      "metadata": {
        "colab": {
          "base_uri": "https://localhost:8080/",
          "height": 480
        },
        "id": "fNcUWlEY4nID",
        "outputId": "09a5331e-63d9-422d-ec27-184f09ee4ea6"
      },
      "outputs": [
        {
          "output_type": "display_data",
          "data": {
            "text/plain": [
              "<Figure size 640x480 with 1 Axes>"
            ],
            "image/png": "[encoded data removed]"
          },
          "metadata": {}
        }
      ],
      "source": [
        "plot_barh(\n",
        "    df=pd.DataFrame({'ejeX': ejeX, 'ejeY': [r2XGB, XGb_sin_r2, r2_rfreg ,r2_rfregt]}),\n",
        "    title=r'Comparación de modelos $R^2$',\n",
        "    xlabel=r'$R^2$',\n",
        "    asc=True\n",
        ")"
      ]
    },
    {
      "cell_type": "markdown",
      "source": [
        "Los resultados revelan que el modelo XGBoost Calibrado supera a los otros modelos en términos de precisión, como se evidencia por sus valores más bajos de RMSE y MAE. Esto sugiere que las predicciones de este modelo tienden a estar más cerca de los valores reales en comparación con los otros modelos. Este hallazgo resalta la importancia de la calibración en la mejora del rendimiento de los modelos de aprendizaje automático, ya que el XGBoost Sin Calibrar muestra un desempeño ligeramente inferior.\n",
        "\n",
        "Por otro lado, es interesante notar que, a pesar de las diferencias en los errores absolutos y cuadráticos medios entre los modelos XGBoost y Random Forest, todos los modelos exhiben valores de $R2$ bastante similares. Este coeficiente indica que, en conjunto, los modelos explican una cantidad similar de variabilidad en los datos. Sin embargo, es esencial tener en cuenta que el $R2$ no es la única métrica a considerar al evaluar el rendimiento de un modelo, ya que puede ser insensible a ciertos aspectos del ajuste del modelo, como el sesgo y la heterocedasticidad. En general, estos resultados resaltan la importancia de evaluar múltiples métricas de rendimiento para obtener una comprensión completa del desempeño de los modelos de aprendizaje automático.\n"
      ],
      "metadata": {
        "id": "mUDTlVsmJ3Zd"
      }
    },
    {
      "cell_type": "code",
      "source": [],
      "metadata": {
        "id": "mr9vy1X2SMhA"
      },
      "execution_count": null,
      "outputs": []
    }
  ],
  "metadata": {
    "colab": {
      "provenance": []
    },
    "kernelspec": {
      "display_name": "Python 3 (ipykernel)",
      "language": "python",
      "name": "python3"
    },
    "language_info": {
      "codemirror_mode": {
        "name": "ipython",
        "version": 3
      },
      "file_extension": ".py",
      "mimetype": "text/x-python",
      "name": "python",
      "nbconvert_exporter": "python",
      "pygments_lexer": "ipython3",
      "version": "3.10.13"
    }
  },
  "nbformat": 4,
  "nbformat_minor": 0
}