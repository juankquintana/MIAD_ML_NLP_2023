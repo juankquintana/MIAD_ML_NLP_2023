{
  "cells": [
    {
      "cell_type": "markdown",
      "metadata": {
        "id": "euVRkUIDlaoz"
      },
      "source": [
        "![image info](https://raw.githubusercontent.com/albahnsen/MIAD_ML_and_NLP/main/images/banner_1.png)"
      ]
    },
    {
      "cell_type": "markdown",
      "metadata": {
        "id": "lPUb8ErIlao1"
      },
      "source": [
        "# Proyecto 2 - Clasificación de género de películas\n",
        "\n",
        "El propósito de este proyecto es que puedan poner en práctica, en sus respectivos grupos de trabajo, sus conocimientos sobre técnicas de preprocesamiento, modelos predictivos de NLP, y la disponibilización de modelos. Para su desarrollo tengan en cuenta las instrucciones dadas en la \"Guía del proyecto 2: Clasificación de género de películas\"\n",
        "\n",
        "**Entrega**: La entrega del proyecto deberán realizarla durante la semana 8. Sin embargo, es importante que avancen en la semana 7 en el modelado del problema y en parte del informe, tal y como se les indicó en la guía.\n",
        "\n",
        "Para hacer la entrega, deberán adjuntar el informe autocontenido en PDF a la actividad de entrega del proyecto que encontrarán en la semana 8, y subir el archivo de predicciones a la [competencia de Kaggle](https://www.kaggle.com/t/2c54d005f76747fe83f77fbf8b3ec232)."
      ]
    },
    {
      "cell_type": "markdown",
      "metadata": {
        "id": "XjjLRJoelao1"
      },
      "source": [
        "## Datos para la predicción de género en películas"
      ]
    },
    {
      "cell_type": "markdown",
      "metadata": {
        "id": "pjLYAPp3lao2"
      },
      "source": [
        "![image info](https://raw.githubusercontent.com/albahnsen/MIAD_ML_and_NLP/main/images/moviegenre.png)"
      ]
    },
    {
      "cell_type": "markdown",
      "metadata": {
        "id": "wIKi6-mKlao2"
      },
      "source": [
        "En este proyecto se usará un conjunto de datos de géneros de películas. Cada observación contiene el título de una película, su año de lanzamiento, la sinopsis o plot de la película (resumen de la trama) y los géneros a los que pertenece (una película puede pertenercer a más de un género). Por ejemplo:\n",
        "- Título: 'How to Be a Serial Killer'\n",
        "- Plot: 'A serial killer decides to teach the secrets of his satisfying career to a video store clerk.'\n",
        "- Generos: 'Comedy', 'Crime', 'Horror'\n",
        "\n",
        "La idea es que usen estos datos para predecir la probabilidad de que una película pertenezca, dada la sinopsis, a cada uno de los géneros."
      ]
    },
    {
      "cell_type": "markdown",
      "metadata": {
        "id": "2_u9fTS0lao2"
      },
      "source": [
        "Agradecemos al profesor Fabio González, Ph.D. y a su alumno John Arevalo por proporcionar este conjunto de datos. Ver https://arxiv.org/abs/1702.01992"
      ]
    },
    {
      "cell_type": "markdown",
      "metadata": {
        "id": "GCHnngdblao2"
      },
      "source": [
        "## Ejemplo predicción conjunto de test para envío a Kaggle\n",
        "En esta sección encontrarán el formato en el que deben guardar los resultados de la predicción para que puedan subirlos a la competencia en Kaggle."
      ]
    },
    {
      "cell_type": "code",
      "execution_count": 3,
      "metadata": {
        "id": "YFlaHeeRlao2"
      },
      "outputs": [],
      "source": [
        "import warnings\n",
        "warnings.filterwarnings('ignore')"
      ]
    },
    {
      "cell_type": "code",
      "execution_count": 31,
      "metadata": {
        "id": "mg0Df9aqlao3"
      },
      "outputs": [],
      "source": [
        "# Importación librerías\n",
        "import os\n",
        "os.environ['TF_CPP_MIN_LOG_LEVEL'] = '1'\n",
        "import nltk\n",
        "import numpy as np\n",
        "import pandas as pd\n",
        "import matplotlib.pyplot as plt\n",
        "import seaborn as sns\n",
        "%matplotlib inline\n",
        "\n",
        "import xgboost as xgb\n",
        "import lightgbm as lgb\n",
        "\n",
        "from sklearn.feature_extraction.text import CountVectorizer\n",
        "from sklearn.feature_extraction.text import TfidfVectorizer\n",
        "from sklearn.preprocessing import MultiLabelBinarizer\n",
        "from sklearn.multiclass import OneVsRestClassifier\n",
        "from sklearn.ensemble import RandomForestClassifier\n",
        "from sklearn.ensemble import StackingClassifier\n",
        "\n",
        "from sklearn.model_selection import GridSearchCV, RandomizedSearchCV\n",
        "from sklearn.model_selection import KFold\n",
        "from sklearn.model_selection import train_test_split\n",
        "from sklearn.preprocessing import normalize\n",
        "from sklearn.naive_bayes import MultinomialNB\n",
        "\n",
        "# Pipeline\n",
        "from sklearn.pipeline import Pipeline, make_pipeline\n",
        "from sklearn.compose import make_column_transformer\n",
        "\n",
        "# NLP\n",
        "import keras\n",
        "from keras import initializers\n",
        "from keras import optimizers\n",
        "from keras.optimizers import Adam\n",
        "from keras import backend as K\n",
        "from keras.regularizers import l2\n",
        "from keras.models import Sequential\n",
        "from keras.layers import Dense, Activation\n",
        "from keras.layers import Dropout\n",
        "from keras.layers import LSTM\n",
        "from keras.layers import Embedding\n",
        "\n",
        "from livelossplot import PlotLossesKeras\n",
        "\n",
        "# metrics\n",
        "from sklearn.metrics import r2_score\n",
        "from sklearn.metrics import roc_auc_score\n",
        "\n",
        "# setup\n",
        "plt.style.use('seaborn-v0_8')\n",
        "plt.rcParams[\"figure.figsize\"] = (5, 4)\n",
        "pd.set_option('display.max_rows', 200)\n",
        "pd.set_option('display.max_columns', None)\n",
        "pd.set_option('display.width', None)\n",
        "pd.set_option('max_colwidth', None)\n",
        "\n",
        "\n",
        "#Optuna\n",
        "import optuna\n",
        "\n",
        "from scipy.stats import uniform, randint"
      ]
    },
    {
      "cell_type": "code",
      "execution_count": 5,
      "metadata": {
        "id": "O-vWcTL0lao3"
      },
      "outputs": [],
      "source": [
        "# Carga de datos de archivo .csv\n",
        "dataTraining = pd.read_csv('https://github.com/albahnsen/MIAD_ML_and_NLP/raw/main/datasets/dataTraining.zip', encoding='UTF-8', index_col=0)\n",
        "dataTesting = pd.read_csv('https://github.com/albahnsen/MIAD_ML_and_NLP/raw/main/datasets/dataTesting.zip', encoding='UTF-8', index_col=0)"
      ]
    },
    {
      "cell_type": "code",
      "execution_count": 6,
      "metadata": {
        "id": "Q9Pb8ybtlao4",
        "outputId": "999ba85e-216b-4463-fdf3-58f000ee11e6"
      },
      "outputs": [
        {
          "data": {
            "text/html": [
              "<div>\n",
              "<style scoped>\n",
              "    .dataframe tbody tr th:only-of-type {\n",
              "        vertical-align: middle;\n",
              "    }\n",
              "\n",
              "    .dataframe tbody tr th {\n",
              "        vertical-align: top;\n",
              "    }\n",
              "\n",
              "    .dataframe thead th {\n",
              "        text-align: right;\n",
              "    }\n",
              "</style>\n",
              "<table border=\"1\" class=\"dataframe\">\n",
              "  <thead>\n",
              "    <tr style=\"text-align: right;\">\n",
              "      <th></th>\n",
              "      <th>year</th>\n",
              "      <th>title</th>\n",
              "      <th>plot</th>\n",
              "      <th>genres</th>\n",
              "      <th>rating</th>\n",
              "    </tr>\n",
              "  </thead>\n",
              "  <tbody>\n",
              "    <tr>\n",
              "      <th>3107</th>\n",
              "      <td>2003</td>\n",
              "      <td>Most</td>\n",
              "      <td>most is the story of a single father who takes his eight year - old son to work with him at the railroad drawbridge where he is the bridge tender .  a day before ,  the boy meets a woman boarding a train ,  a drug abuser .  at the bridge ,  the father goes into the engine room ,  and tells his son to stay at the edge of the nearby lake .  a ship comes ,  and the bridge is lifted .  though it is supposed to arrive an hour later ,  the train happens to arrive .  the son sees this ,  and tries to warn his father ,  who is not able to see this .  just as the oncoming train approaches ,  his son falls into the drawbridge gear works while attempting to lower the bridge ,  leaving the father with a horrific choice .  the father then lowers the bridge ,  the gears crushing the boy .  the people in the train are completely oblivious to the fact a boy died trying to save them ,  other than the drug addict woman ,  who happened to look out her train window .  the movie ends ,  with the man wandering a new city ,  and meets the woman ,  no longer a drug addict ,  holding a small baby .  other relevant narratives run in parallel ,  namely one of the female drug - addict ,  and they all meet at the climax of this tumultuous film .</td>\n",
              "      <td>['Short', 'Drama']</td>\n",
              "      <td>8.0</td>\n",
              "    </tr>\n",
              "    <tr>\n",
              "      <th>900</th>\n",
              "      <td>2008</td>\n",
              "      <td>How to Be a Serial Killer</td>\n",
              "      <td>a serial killer decides to teach the secrets of his satisfying career to a video store clerk .</td>\n",
              "      <td>['Comedy', 'Crime', 'Horror']</td>\n",
              "      <td>5.6</td>\n",
              "    </tr>\n",
              "    <tr>\n",
              "      <th>6724</th>\n",
              "      <td>1941</td>\n",
              "      <td>A Woman's Face</td>\n",
              "      <td>in sweden ,  a female blackmailer with a disfiguring facial scar meets a gentleman who lives beyond his means .  they become accomplices in blackmail ,  and she falls in love with him ,  bitterly resigned to the impossibility of his returning her affection .  her life changes when one of her victims proves to be the wife of a plastic surgeon ,  who catches her in his apartment ,  but believes her to be a jewel thief rather than a blackmailer .  he offers her the chance to look like a normal woman again ,  and she accepts ,  despite the agony of multiple operations .  meanwhile ,  her gentleman accomplice forms an evil scheme to rid himself of the one person who stands in his way to a fortune  -  his four - year - old - nephew .</td>\n",
              "      <td>['Drama', 'Film-Noir', 'Thriller']</td>\n",
              "      <td>7.2</td>\n",
              "    </tr>\n",
              "    <tr>\n",
              "      <th>4704</th>\n",
              "      <td>1954</td>\n",
              "      <td>Executive Suite</td>\n",
              "      <td>in a friday afternoon in new york ,  the president of the tredway corporation avery bullard has just had a meeting with investment bankers and sends a telegram scheduling a meeting at the furniture factory in millburgh ,  pennsylvania ,  at six pm with his executives .  bullard has never appointed an executive vice - president for the corporation after the death of the previous one but when he is getting a taxi ,  he has a stroke and dies on the street .  a thief steals his wallet to get his money and his body goes to the morgue without identification .  the investment banker george nyle caswell sees bullard ' s body from his window and decides to use the information to make money ,  asking a broker to sell as much tredway stocks as possible until the end of the day ,  with the intention of buying them back monday morning by a lower price making profit .  meanwhile the executives unsuccessfully wait for bullard in the meeting room .  when they learn that bullard is dead ,  the ambitions accountant vp and controller loren phineas shaw releases to the press the balance of tredway showing profit and assumes temporarily the leadership of the company ,  expecting to be elected the next president by the seven - member board .  however ,  the vp for design and development mcdonald  \" don \"  walling and the vp and treasurer frederick y .  alderson oppose to shaw .  there is a struggle in the corporation for the position of president and shaw blackmails the vp for sales josiah walter dudley that is married and has a mistress ,  his secretary eva bardeman ,  to get his vote .  caswell needs to cover the  N  ,  N  stocks he sold and shaw promises to give to him the stocks for the price he sold if he is elected president .  the vp for manufacturing jesse q .  grimm is near to retire but is a close friend of frederick and supports him .  therefore the heir of tredway and bullard ' s mistress julia o .  tredway will be responsible to give the casting vote .  but she is disenchanted with the corporation .  who will be elected the next president ?</td>\n",
              "      <td>['Drama']</td>\n",
              "      <td>7.4</td>\n",
              "    </tr>\n",
              "    <tr>\n",
              "      <th>2582</th>\n",
              "      <td>1990</td>\n",
              "      <td>Narrow Margin</td>\n",
              "      <td>in los angeles ,  the editor of a publishing house carol hunnicut goes to a blind date with the lawyer michael tarlow ,  who has embezzled the powerful mobster leo watts .  carol accidentally witnesses the murder of michel by leo ' s hitman .  the scared carol sneaks out of michael ' s room and hides in an isolated cabin in canada .  meanwhile the deputy district attorney robert caulfield and sgt .  dominick benti discover that carol is a witness of the murder and they report the information to caulfield ' s chief martin larner and they head by helicopter to canada to convince carol to testify against leo .  however they are followed and the pilot and benti are murdered by the mafia .  caulfield and carol flees and they take a train to vancouver .  caulfield hides carol in his cabin and he discloses that there are three hitman in the train trying to find carol and kill her .  but they do not know her and caulfield does not know who might be the third killer from the mafia and who has betrayed him in his office .</td>\n",
              "      <td>['Action', 'Crime', 'Thriller']</td>\n",
              "      <td>6.6</td>\n",
              "    </tr>\n",
              "  </tbody>\n",
              "</table>\n",
              "</div>"
            ],
            "text/plain": [
              "      year                      title  \\\n",
              "3107  2003                       Most   \n",
              "900   2008  How to Be a Serial Killer   \n",
              "6724  1941             A Woman's Face   \n",
              "4704  1954            Executive Suite   \n",
              "2582  1990              Narrow Margin   \n",
              "\n",
              "                                                                                                                                                                                                                                                                                                                                                                                                                                                                                                                                                                                                                                                                                                                                                                                                                                                                                                                                                                                                                                                                                                                                                                                                                                                                                                                                                                                                                                                                                                                                                                                                                                                                                                                                                                                                                                                                                                                                                                                                                                                                                                                                                     plot  \\\n",
              "3107                                                                                                                                                                                                                                                                                                                                                                                                                                                                                                                                                                                                                                                                                                                                                                                                                                                                 most is the story of a single father who takes his eight year - old son to work with him at the railroad drawbridge where he is the bridge tender .  a day before ,  the boy meets a woman boarding a train ,  a drug abuser .  at the bridge ,  the father goes into the engine room ,  and tells his son to stay at the edge of the nearby lake .  a ship comes ,  and the bridge is lifted .  though it is supposed to arrive an hour later ,  the train happens to arrive .  the son sees this ,  and tries to warn his father ,  who is not able to see this .  just as the oncoming train approaches ,  his son falls into the drawbridge gear works while attempting to lower the bridge ,  leaving the father with a horrific choice .  the father then lowers the bridge ,  the gears crushing the boy .  the people in the train are completely oblivious to the fact a boy died trying to save them ,  other than the drug addict woman ,  who happened to look out her train window .  the movie ends ,  with the man wandering a new city ,  and meets the woman ,  no longer a drug addict ,  holding a small baby .  other relevant narratives run in parallel ,  namely one of the female drug - addict ,  and they all meet at the climax of this tumultuous film .   \n",
              "900                                                                                                                                                                                                                                                                                                                                                                                                                                                                                                                                                                                                                                                                                                                                                                                                                                                                                                                                                                                                                                                                                                                                                                                                                                                                                                                                                                                                                                                                                                                                                                                                                                                                                                                                                                                                                                                                                                                                                                                                                                                        a serial killer decides to teach the secrets of his satisfying career to a video store clerk .   \n",
              "6724                                                                                                                                                                                                                                                                                                                                                                                                                                                                                                                                                                                                                                                                                                                                                                                                                                                                                                                                                                                                                                                                                                                                                                                                                                                                                                                                                                                    in sweden ,  a female blackmailer with a disfiguring facial scar meets a gentleman who lives beyond his means .  they become accomplices in blackmail ,  and she falls in love with him ,  bitterly resigned to the impossibility of his returning her affection .  her life changes when one of her victims proves to be the wife of a plastic surgeon ,  who catches her in his apartment ,  but believes her to be a jewel thief rather than a blackmailer .  he offers her the chance to look like a normal woman again ,  and she accepts ,  despite the agony of multiple operations .  meanwhile ,  her gentleman accomplice forms an evil scheme to rid himself of the one person who stands in his way to a fortune  -  his four - year - old - nephew .   \n",
              "4704  in a friday afternoon in new york ,  the president of the tredway corporation avery bullard has just had a meeting with investment bankers and sends a telegram scheduling a meeting at the furniture factory in millburgh ,  pennsylvania ,  at six pm with his executives .  bullard has never appointed an executive vice - president for the corporation after the death of the previous one but when he is getting a taxi ,  he has a stroke and dies on the street .  a thief steals his wallet to get his money and his body goes to the morgue without identification .  the investment banker george nyle caswell sees bullard ' s body from his window and decides to use the information to make money ,  asking a broker to sell as much tredway stocks as possible until the end of the day ,  with the intention of buying them back monday morning by a lower price making profit .  meanwhile the executives unsuccessfully wait for bullard in the meeting room .  when they learn that bullard is dead ,  the ambitions accountant vp and controller loren phineas shaw releases to the press the balance of tredway showing profit and assumes temporarily the leadership of the company ,  expecting to be elected the next president by the seven - member board .  however ,  the vp for design and development mcdonald  \" don \"  walling and the vp and treasurer frederick y .  alderson oppose to shaw .  there is a struggle in the corporation for the position of president and shaw blackmails the vp for sales josiah walter dudley that is married and has a mistress ,  his secretary eva bardeman ,  to get his vote .  caswell needs to cover the  N  ,  N  stocks he sold and shaw promises to give to him the stocks for the price he sold if he is elected president .  the vp for manufacturing jesse q .  grimm is near to retire but is a close friend of frederick and supports him .  therefore the heir of tredway and bullard ' s mistress julia o .  tredway will be responsible to give the casting vote .  but she is disenchanted with the corporation .  who will be elected the next president ?   \n",
              "2582                                                                                                                                                                                                                                                                                                                                                                                                                                                                                                                                                                                                                                                                                                                                                                                                                                                                                                                                                                                                                                                                                  in los angeles ,  the editor of a publishing house carol hunnicut goes to a blind date with the lawyer michael tarlow ,  who has embezzled the powerful mobster leo watts .  carol accidentally witnesses the murder of michel by leo ' s hitman .  the scared carol sneaks out of michael ' s room and hides in an isolated cabin in canada .  meanwhile the deputy district attorney robert caulfield and sgt .  dominick benti discover that carol is a witness of the murder and they report the information to caulfield ' s chief martin larner and they head by helicopter to canada to convince carol to testify against leo .  however they are followed and the pilot and benti are murdered by the mafia .  caulfield and carol flees and they take a train to vancouver .  caulfield hides carol in his cabin and he discloses that there are three hitman in the train trying to find carol and kill her .  but they do not know her and caulfield does not know who might be the third killer from the mafia and who has betrayed him in his office .   \n",
              "\n",
              "                                  genres  rating  \n",
              "3107                  ['Short', 'Drama']     8.0  \n",
              "900        ['Comedy', 'Crime', 'Horror']     5.6  \n",
              "6724  ['Drama', 'Film-Noir', 'Thriller']     7.2  \n",
              "4704                           ['Drama']     7.4  \n",
              "2582     ['Action', 'Crime', 'Thriller']     6.6  "
            ]
          },
          "execution_count": 6,
          "metadata": {},
          "output_type": "execute_result"
        }
      ],
      "source": [
        "# Visualización datos de entrenamiento\n",
        "dataTraining.head()"
      ]
    },
    {
      "cell_type": "code",
      "execution_count": 7,
      "metadata": {
        "id": "QUzNi8Z-lao4",
        "outputId": "64209a00-a0cd-4196-d033-377a58737f56"
      },
      "outputs": [
        {
          "data": {
            "text/html": [
              "<div>\n",
              "<style scoped>\n",
              "    .dataframe tbody tr th:only-of-type {\n",
              "        vertical-align: middle;\n",
              "    }\n",
              "\n",
              "    .dataframe tbody tr th {\n",
              "        vertical-align: top;\n",
              "    }\n",
              "\n",
              "    .dataframe thead th {\n",
              "        text-align: right;\n",
              "    }\n",
              "</style>\n",
              "<table border=\"1\" class=\"dataframe\">\n",
              "  <thead>\n",
              "    <tr style=\"text-align: right;\">\n",
              "      <th></th>\n",
              "      <th>year</th>\n",
              "      <th>title</th>\n",
              "      <th>plot</th>\n",
              "    </tr>\n",
              "  </thead>\n",
              "  <tbody>\n",
              "    <tr>\n",
              "      <th>1</th>\n",
              "      <td>1999</td>\n",
              "      <td>Message in a Bottle</td>\n",
              "      <td>who meets by fate ,  shall be sealed by fate .  theresa osborne is running along the beach when she stumbles upon a bottle washed up on the shore .  inside is a message ,  reading the letter she feels so moved and yet she felt as if she has violated someone ' s thoughts .  in love with a man she has never met ,  theresa tracks down the author of the letter to a small town in wilmington ,  two lovers with crossed paths .  but yet one can ' t let go of their past .</td>\n",
              "    </tr>\n",
              "    <tr>\n",
              "      <th>4</th>\n",
              "      <td>1978</td>\n",
              "      <td>Midnight Express</td>\n",
              "      <td>the true story of billy hayes ,  an american college student who is caught smuggling drugs out of turkey and thrown into prison .</td>\n",
              "    </tr>\n",
              "    <tr>\n",
              "      <th>5</th>\n",
              "      <td>1996</td>\n",
              "      <td>Primal Fear</td>\n",
              "      <td>martin vail left the chicago da ' s office to become a successful criminal lawyer ,  that success predicated on working on high profile cases .  as such ,  he fights to get the case of naive nineteen year old rural kentuckian aaron stampler ,  an altar boy accused of the vicious bludgeoning death of archbishop rushman of chicago .  the story that aaron tells marty is that he ,  abused by his father ,  was in the room when the murder was committed by a third party ,  a shadowy figure he did not see ,  before he blacked out ,  which commonly happens to him .  not remembering anything during the blackout period ,  he awoke covered in the archbishop ' s blood ,  his fright the reason he ran from the police .  he also states that he had no reason to kill the archbishop ,  who he loved as the father he wished he had .  marty doesn ' t care if he is guilty or innocent ,  but needs to know the truth to defend him adequately .  unlike the rest of the world ,  marty does believe his story ,  he who hopes he can use aaron ' s general appearance of being an innocent to his advantage .  the powerful state attorney ,  john shaughnessy ,  who marty has had many a moral run - in ,  wants a first degree murder conviction and the death penalty in this case .  he appoints to the case janet venable ,  who still has bad feelings toward marty ,  an ex - lover ,  their six month relationship which ended badly .  although the case looks to be a slam dunk for janet ,  her career may be made or broken by its outcome .  in building his case ,  marty comes across some major pieces of information ,  some pertaining to the archbishop himself ,  and one uncovered by dr .  molly arrington about aaron ,  she a psychiatrist hired by marty to assess aaron ' s mental state .  these pieces of information as a collective pose a problem for marty in how to mount a credible and legitimate defense for his client .  it is more of a moral dilemma for marty if only because he believes the life of a young man ,  who he believes in ,  is at stake .</td>\n",
              "    </tr>\n",
              "    <tr>\n",
              "      <th>6</th>\n",
              "      <td>1950</td>\n",
              "      <td>Crisis</td>\n",
              "      <td>husband and wife americans dr .  eugene and mrs .  helen ferguson  -  he a renowned neurosurgeon  -  are traveling through latin america for a vacation .  when they make the decision to return to new york earlier than expected ,  they find they are being detained by the military in the country they are in .  ultimately ,  they learn the reason is that president raoul farrago ,  the tyrannical military dictator of the country ,  has been diagnosed with a brain tumor and will die without an operation to remove it ,  farrago choosing gene as the doctor to lead the surgical team .  because of the volatile politics within the country and for his own safety as revolutionary forces would like to see him dead ,  farrago refuses to go to a hospital for the operation ,  instead it to be done at his home .  despite not particularly liking farrago or his ways ,  gene agrees purely in his oath as a doctor .  however ,  he ends up being caught in the middle between farrago / his brutal regime and the revolutionaries ,  each side who is willing to use him and helen to get what they want ,  namely the life or death of farrago .</td>\n",
              "    </tr>\n",
              "    <tr>\n",
              "      <th>7</th>\n",
              "      <td>1959</td>\n",
              "      <td>The Tingler</td>\n",
              "      <td>the coroner and scientist dr .  warren chapin is researching the shivering effect of fear with his assistant david morris .  dr .  warren is introduced to ollie higgins ,  the relative of a criminal sentenced to the electric chair ,  while making the autopsy of the corpse ,  and he makes a comment about the tingler - effect to him .  ollie asks for a lift to dr .  warner ,  and introduces his deaf - mute wife martha higgins ,  who manages a theater of their own .  dr .  warner returns home ,  where he lives with his unfaithful and evil wife isabel stevens chapin and her sweet sister lucy stevens .  dr .  warner ,  upset with the situation with his wife ,  threatens and uses her as a subject of his experiment .  when martha dies of fear ,  dr .  warner makes her autopsy and finds a creature that lives inside every human being ,  feeds with fear and is controlled by the scream .  once martha was not able to scream ,  the tingler was not rendered harmless and became enormous .  when the living being escapes ,  dr .  warner and ollie chase it in a crowded movie theater .</td>\n",
              "    </tr>\n",
              "  </tbody>\n",
              "</table>\n",
              "</div>"
            ],
            "text/plain": [
              "   year                title  \\\n",
              "1  1999  Message in a Bottle   \n",
              "4  1978     Midnight Express   \n",
              "5  1996          Primal Fear   \n",
              "6  1950               Crisis   \n",
              "7  1959          The Tingler   \n",
              "\n",
              "                                                                                                                                                                                                                                                                                                                                                                                                                                                                                                                                                                                                                                                                                                                                                                                                                                                                                                                                                                                                                                                                                                                                                                                                                                                                                                                                                                                                                                                                                                                                                                                                                                                                                                                                                                                                                                                                                                                                                                                                                                                                                                                     plot  \n",
              "1                                                                                                                                                                                                                                                                                                                                                                                                                                                                                                                                                                                                                                                                                                                                                                                                                                                                                                                                                                                                                                                                                                                                                                                                                                                                                                                                                                                                                                                                                                                                                                                                                                     who meets by fate ,  shall be sealed by fate .  theresa osborne is running along the beach when she stumbles upon a bottle washed up on the shore .  inside is a message ,  reading the letter she feels so moved and yet she felt as if she has violated someone ' s thoughts .  in love with a man she has never met ,  theresa tracks down the author of the letter to a small town in wilmington ,  two lovers with crossed paths .  but yet one can ' t let go of their past .  \n",
              "4                                                                                                                                                                                                                                                                                                                                                                                                                                                                                                                                                                                                                                                                                                                                                                                                                                                                                                                                                                                                                                                                                                                                                                                                                                                                                                                                                                                                                                                                                                                                                                                                                                                                                                                                                                                                                                                                                                                                                                                       the true story of billy hayes ,  an american college student who is caught smuggling drugs out of turkey and thrown into prison .  \n",
              "5  martin vail left the chicago da ' s office to become a successful criminal lawyer ,  that success predicated on working on high profile cases .  as such ,  he fights to get the case of naive nineteen year old rural kentuckian aaron stampler ,  an altar boy accused of the vicious bludgeoning death of archbishop rushman of chicago .  the story that aaron tells marty is that he ,  abused by his father ,  was in the room when the murder was committed by a third party ,  a shadowy figure he did not see ,  before he blacked out ,  which commonly happens to him .  not remembering anything during the blackout period ,  he awoke covered in the archbishop ' s blood ,  his fright the reason he ran from the police .  he also states that he had no reason to kill the archbishop ,  who he loved as the father he wished he had .  marty doesn ' t care if he is guilty or innocent ,  but needs to know the truth to defend him adequately .  unlike the rest of the world ,  marty does believe his story ,  he who hopes he can use aaron ' s general appearance of being an innocent to his advantage .  the powerful state attorney ,  john shaughnessy ,  who marty has had many a moral run - in ,  wants a first degree murder conviction and the death penalty in this case .  he appoints to the case janet venable ,  who still has bad feelings toward marty ,  an ex - lover ,  their six month relationship which ended badly .  although the case looks to be a slam dunk for janet ,  her career may be made or broken by its outcome .  in building his case ,  marty comes across some major pieces of information ,  some pertaining to the archbishop himself ,  and one uncovered by dr .  molly arrington about aaron ,  she a psychiatrist hired by marty to assess aaron ' s mental state .  these pieces of information as a collective pose a problem for marty in how to mount a credible and legitimate defense for his client .  it is more of a moral dilemma for marty if only because he believes the life of a young man ,  who he believes in ,  is at stake .  \n",
              "6                                                                                                                                                                                                                                                                                                                                                                                                                                                                                                                                                                                                                                                                                                                                                                                                                                                                                                                                               husband and wife americans dr .  eugene and mrs .  helen ferguson  -  he a renowned neurosurgeon  -  are traveling through latin america for a vacation .  when they make the decision to return to new york earlier than expected ,  they find they are being detained by the military in the country they are in .  ultimately ,  they learn the reason is that president raoul farrago ,  the tyrannical military dictator of the country ,  has been diagnosed with a brain tumor and will die without an operation to remove it ,  farrago choosing gene as the doctor to lead the surgical team .  because of the volatile politics within the country and for his own safety as revolutionary forces would like to see him dead ,  farrago refuses to go to a hospital for the operation ,  instead it to be done at his home .  despite not particularly liking farrago or his ways ,  gene agrees purely in his oath as a doctor .  however ,  he ends up being caught in the middle between farrago / his brutal regime and the revolutionaries ,  each side who is willing to use him and helen to get what they want ,  namely the life or death of farrago .  \n",
              "7                                                                                                                                                                                                                                                                                                                                                                                                                                                                                                                                                                                                                                                                                                                                                                                                                                                                                                                                                                                             the coroner and scientist dr .  warren chapin is researching the shivering effect of fear with his assistant david morris .  dr .  warren is introduced to ollie higgins ,  the relative of a criminal sentenced to the electric chair ,  while making the autopsy of the corpse ,  and he makes a comment about the tingler - effect to him .  ollie asks for a lift to dr .  warner ,  and introduces his deaf - mute wife martha higgins ,  who manages a theater of their own .  dr .  warner returns home ,  where he lives with his unfaithful and evil wife isabel stevens chapin and her sweet sister lucy stevens .  dr .  warner ,  upset with the situation with his wife ,  threatens and uses her as a subject of his experiment .  when martha dies of fear ,  dr .  warner makes her autopsy and finds a creature that lives inside every human being ,  feeds with fear and is controlled by the scream .  once martha was not able to scream ,  the tingler was not rendered harmless and became enormous .  when the living being escapes ,  dr .  warner and ollie chase it in a crowded movie theater .  "
            ]
          },
          "execution_count": 7,
          "metadata": {},
          "output_type": "execute_result"
        }
      ],
      "source": [
        "# Visualización datos de test\n",
        "dataTesting.head()"
      ]
    },
    {
      "cell_type": "code",
      "execution_count": 8,
      "metadata": {
        "id": "gomGVEW4lao4"
      },
      "outputs": [],
      "source": [
        "# Definición de variable de interés (y)\n",
        "dataTraining['genres'] = dataTraining['genres'].map(lambda x: eval(x))\n",
        "le = MultiLabelBinarizer()\n",
        "y_genres = le.fit_transform(dataTraining['genres'])"
      ]
    },
    {
      "cell_type": "code",
      "execution_count": 9,
      "metadata": {
        "id": "x3-wd5DJlao5",
        "outputId": "28e7fb08-55f4-4ea9-9ca0-6666bb710d96"
      },
      "outputs": [
        {
          "name": "stderr",
          "output_type": "stream",
          "text": [
            "[nltk_data] Downloading package stopwords to\n",
            "[nltk_data]     C:\\Users\\WD\\AppData\\Roaming\\nltk_data...\n",
            "[nltk_data]   Package stopwords is already up-to-date!\n",
            "[nltk_data] Downloading package punkt to\n",
            "[nltk_data]     C:\\Users\\WD\\AppData\\Roaming\\nltk_data...\n",
            "[nltk_data]   Package punkt is already up-to-date!\n"
          ]
        }
      ],
      "source": [
        "# https://www.nltk.org/howto/stem.html\n",
        "import re\n",
        "from nltk.stem.porter import PorterStemmer\n",
        "from nltk.tokenize import word_tokenize\n",
        "\n",
        "# https://stackoverflow.com/questions/41610543/corpora-stopwords-not-found-when-import-nltk-library\n",
        "nltk.download('stopwords')\n",
        "nltk.download('punkt')\n",
        "english_stopwords = nltk.corpus.stopwords.words('english')\n",
        "\n",
        "ps = PorterStemmer()\n",
        "def clean_text(text):\n",
        "    # remove backslash-apostrophe\n",
        "    text = re.sub(\"\\'\", \"\", text)\n",
        "    # remove everything except alphabets\n",
        "    text = re.sub(\"[^a-zA-Z]\",\" \",text)\n",
        "    # convert text to lowercase\n",
        "    text = text.lower()\n",
        "    # Steming the text\n",
        "    text = [ps.stem(word) for word in text.split() if word not in english_stopwords]\n",
        "    # join the stemed words\n",
        "    text = ' '.join(text)\n",
        "\n",
        "    return text"
      ]
    },
    {
      "cell_type": "code",
      "execution_count": 10,
      "metadata": {
        "id": "GJHbb-yHlao5"
      },
      "outputs": [],
      "source": [
        "X_dtm = dataTraining['plot'].apply(lambda x: clean_text(x))"
      ]
    },
    {
      "cell_type": "code",
      "execution_count": 11,
      "metadata": {
        "id": "xdpWcMVRlao5",
        "outputId": "88dd30cf-8c7a-4d79-eeca-cfb91bf15533"
      },
      "outputs": [
        {
          "data": {
            "text/html": [
              "<div>\n",
              "<style scoped>\n",
              "    .dataframe tbody tr th:only-of-type {\n",
              "        vertical-align: middle;\n",
              "    }\n",
              "\n",
              "    .dataframe tbody tr th {\n",
              "        vertical-align: top;\n",
              "    }\n",
              "\n",
              "    .dataframe thead th {\n",
              "        text-align: right;\n",
              "    }\n",
              "</style>\n",
              "<table border=\"1\" class=\"dataframe\">\n",
              "  <thead>\n",
              "    <tr style=\"text-align: right;\">\n",
              "      <th></th>\n",
              "      <th>plot</th>\n",
              "    </tr>\n",
              "  </thead>\n",
              "  <tbody>\n",
              "    <tr>\n",
              "      <th>3107</th>\n",
              "      <td>stori singl father take eight year old son work railroad drawbridg bridg tender day boy meet woman board train drug abus bridg father goe engin room tell son stay edg nearbi lake ship come bridg lift though suppos arriv hour later train happen arriv son see tri warn father abl see oncom train approach son fall drawbridg gear work attempt lower bridg leav father horrif choic father lower bridg gear crush boy peopl train complet oblivi fact boy die tri save drug addict woman happen look train window movi end man wander new citi meet woman longer drug addict hold small babi relev narr run parallel name one femal drug addict meet climax tumultu film</td>\n",
              "    </tr>\n",
              "    <tr>\n",
              "      <th>900</th>\n",
              "      <td>serial killer decid teach secret satisfi career video store clerk</td>\n",
              "    </tr>\n",
              "    <tr>\n",
              "      <th>6724</th>\n",
              "      <td>sweden femal blackmail disfigur facial scar meet gentleman live beyond mean becom accomplic blackmail fall love bitterli resign imposs return affect life chang one victim prove wife plastic surgeon catch apart believ jewel thief rather blackmail offer chanc look like normal woman accept despit agoni multipl oper meanwhil gentleman accomplic form evil scheme rid one person stand way fortun four year old nephew</td>\n",
              "    </tr>\n",
              "    <tr>\n",
              "      <th>4704</th>\n",
              "      <td>friday afternoon new york presid tredway corpor averi bullard meet invest banker send telegram schedul meet furnitur factori millburgh pennsylvania six pm execut bullard never appoint execut vice presid corpor death previou one get taxi stroke die street thief steal wallet get money bodi goe morgu without identif invest banker georg nyle caswel see bullard bodi window decid use inform make money ask broker sell much tredway stock possibl end day intent buy back monday morn lower price make profit meanwhil execut unsuccess wait bullard meet room learn bullard dead ambit account vp control loren phinea shaw releas press balanc tredway show profit assum temporarili leadership compani expect elect next presid seven member board howev vp design develop mcdonald wall vp treasur frederick alderson oppos shaw struggl corpor posit presid shaw blackmail vp sale josiah walter dudley marri mistress secretari eva bardeman get vote caswel need cover n n stock sold shaw promis give stock price sold elect presid vp manufactur jess q grimm near retir close friend frederick support therefor heir tredway bullard mistress julia tredway respons give cast vote disench corpor elect next presid</td>\n",
              "    </tr>\n",
              "    <tr>\n",
              "      <th>2582</th>\n",
              "      <td>lo angel editor publish hous carol hunnicut goe blind date lawyer michael tarlow embezzl power mobster leo watt carol accident wit murder michel leo hitman scare carol sneak michael room hide isol cabin canada meanwhil deputi district attorney robert caulfield sgt dominick benti discov carol wit murder report inform caulfield chief martin larner head helicopt canada convinc carol testifi leo howev follow pilot benti murder mafia caulfield carol flee take train vancouv caulfield hide carol cabin disclos three hitman train tri find carol kill know caulfield know might third killer mafia betray offic</td>\n",
              "    </tr>\n",
              "  </tbody>\n",
              "</table>\n",
              "</div>"
            ],
            "text/plain": [
              "                                                                                                                                                                                                                                                                                                                                                                                                                                                                                                                                                                                                                                                                                                                                                                                                                                                                                                                                                                                                                                                                                                                                                                                                                                       plot\n",
              "3107                                                                                                                                                                                                                                                                                                                                                                                                                                                                                                                                                          stori singl father take eight year old son work railroad drawbridg bridg tender day boy meet woman board train drug abus bridg father goe engin room tell son stay edg nearbi lake ship come bridg lift though suppos arriv hour later train happen arriv son see tri warn father abl see oncom train approach son fall drawbridg gear work attempt lower bridg leav father horrif choic father lower bridg gear crush boy peopl train complet oblivi fact boy die tri save drug addict woman happen look train window movi end man wander new citi meet woman longer drug addict hold small babi relev narr run parallel name one femal drug addict meet climax tumultu film\n",
              "900                                                                                                                                                                                                                                                                                                                                                                                                                                                                                                                                                                                                                                                                                                                                                                                                                                                                                                                                                                                                                                                                                                                                                                       serial killer decid teach secret satisfi career video store clerk\n",
              "6724                                                                                                                                                                                                                                                                                                                                                                                                                                                                                                                                                                                                                                                                                                                                                                                                           sweden femal blackmail disfigur facial scar meet gentleman live beyond mean becom accomplic blackmail fall love bitterli resign imposs return affect life chang one victim prove wife plastic surgeon catch apart believ jewel thief rather blackmail offer chanc look like normal woman accept despit agoni multipl oper meanwhil gentleman accomplic form evil scheme rid one person stand way fortun four year old nephew\n",
              "4704  friday afternoon new york presid tredway corpor averi bullard meet invest banker send telegram schedul meet furnitur factori millburgh pennsylvania six pm execut bullard never appoint execut vice presid corpor death previou one get taxi stroke die street thief steal wallet get money bodi goe morgu without identif invest banker georg nyle caswel see bullard bodi window decid use inform make money ask broker sell much tredway stock possibl end day intent buy back monday morn lower price make profit meanwhil execut unsuccess wait bullard meet room learn bullard dead ambit account vp control loren phinea shaw releas press balanc tredway show profit assum temporarili leadership compani expect elect next presid seven member board howev vp design develop mcdonald wall vp treasur frederick alderson oppos shaw struggl corpor posit presid shaw blackmail vp sale josiah walter dudley marri mistress secretari eva bardeman get vote caswel need cover n n stock sold shaw promis give stock price sold elect presid vp manufactur jess q grimm near retir close friend frederick support therefor heir tredway bullard mistress julia tredway respons give cast vote disench corpor elect next presid\n",
              "2582                                                                                                                                                                                                                                                                                                                                                                                                                                                                                                                                                                                                           lo angel editor publish hous carol hunnicut goe blind date lawyer michael tarlow embezzl power mobster leo watt carol accident wit murder michel leo hitman scare carol sneak michael room hide isol cabin canada meanwhil deputi district attorney robert caulfield sgt dominick benti discov carol wit murder report inform caulfield chief martin larner head helicopt canada convinc carol testifi leo howev follow pilot benti murder mafia caulfield carol flee take train vancouv caulfield hide carol cabin disclos three hitman train tri find carol kill know caulfield know might third killer mafia betray offic"
            ]
          },
          "execution_count": 11,
          "metadata": {},
          "output_type": "execute_result"
        }
      ],
      "source": [
        "pd.DataFrame(X_dtm).head()"
      ]
    },
    {
      "cell_type": "code",
      "execution_count": 12,
      "metadata": {
        "id": "REHeA157lao5"
      },
      "outputs": [],
      "source": [
        "# Separación de variables predictoras (X) y variable de interés (y) en set de entrenamiento y test usandola función train_test_split\n",
        "# kfolds = 5 => 1/5 = 0.2\n",
        "X_train, X_test, y_train_genres, y_test_genres = train_test_split(X_dtm, y_genres, test_size=0.33, random_state=42)\n",
        "xTrain, xVal, yTrain, yVal = train_test_split(X_train, y_train_genres, test_size=0.20, random_state=42)"
      ]
    },
    {
      "cell_type": "code",
      "execution_count": 13,
      "metadata": {
        "id": "z75VK4VSlao5"
      },
      "outputs": [],
      "source": [
        "# Definición de variables predictoras (X)\n",
        "vect = TfidfVectorizer(\n",
        "    max_features=3000,\n",
        "    ngram_range=(1,5)\n",
        ")"
      ]
    },
    {
      "cell_type": "code",
      "execution_count": 14,
      "metadata": {
        "id": "c9GsAy6Xlao5"
      },
      "outputs": [],
      "source": [
        "vect.fit_transform(X_train)\n",
        "xTrain_tdf = vect.transform(xTrain)\n",
        "X_test_tdf = vect.transform(X_test)\n",
        "xVal_tdf = vect.transform(xVal)"
      ]
    },
    {
      "cell_type": "code",
      "execution_count": 15,
      "metadata": {
        "id": "BwPpRUs-lao5"
      },
      "outputs": [],
      "source": [
        "# Para efectuar CV en el Clasificador\n",
        "xTr = np.concatenate((xTrain_tdf.toarray(), xVal_tdf.toarray()), axis=0)\n",
        "yTr = np.concatenate((yTrain, yVal), axis=0)"
      ]
    },
    {
      "cell_type": "code",
      "execution_count": 16,
      "metadata": {
        "id": "Hv3_3uHDlao5"
      },
      "outputs": [],
      "source": [
        "from sklearn.naive_bayes import MultinomialNB, ComplementNB\n",
        "from sklearn.linear_model import LogisticRegressionCV, LogisticRegression"
      ]
    },
    {
      "cell_type": "code",
      "execution_count": null,
      "metadata": {},
      "outputs": [],
      "source": [
        "# Modelo LGBM\n",
        "\n",
        "param_dist = {\n",
        "    'stackingclassifier__lgbmR__reg_alpha': uniform(1e-3, 10.0 - 1e-3),  # Uniform distribution between 1e-3 and 10.0\n",
        "    'stackingclassifier__lgbmR__reg_lambda': uniform(1e-3, 10.0 - 1e-3),  # Uniform distribution between 1e-3 and 10.0\n",
        "    'stackingclassifier__lgbmR__colsample_bytree': uniform(0.3, 1.0 - 0.3),  # Uniform distribution between 0.3 and 1.0\n",
        "    'stackingclassifier__lgbmR__subsample': uniform(0.4, 1.0 - 0.4),  # Uniform distribution between 0.4 and 1.0\n",
        "    'stackingclassifier__lgbmR__learning_rate': uniform(0.006, 0.02 - 0.006),  # Uniform distribution between 0.006 and 0.02\n",
        "    'stackingclassifier__lgbmR__max_depth': [10, 20, 100],\n",
        "    'stackingclassifier__lgbmR__num_leaves': randint(1, 1001),  # Random integer between 1 and 1000\n",
        "    'stackingclassifier__lgbmR__min_child_samples': randint(1, 301),  # Random integer between 1 and 300\n",
        "    'stackingclassifier__lgbmR__cat_smooth': randint(1, 101)  # Random integer between 1 and 100\n",
        "}\n",
        "\n",
        "vect_plot = make_pipeline(\n",
        "    TfidfVectorizer(max_features=3000, ngram_range=(1,5))\n",
        ")\n",
        "\n",
        "modelo = GridSearchCV(\n",
        "    estimator=OneVsRestClassifier( MultinomialNB(alpha=0.099)),\n",
        "    param_grid=param_dist,\n",
        "    scoring='accuracy',\n",
        "    cv=KFold(n_splits=5, shuffle=True, random_state=42),\n",
        "    verbose=0\n",
        ")\n",
        "# canalizacion\n",
        "pipe = make_pipeline(\n",
        "    vect_plot,\n",
        "    modelo\n",
        ")\n",
        "\n",
        "pipe.fit(X_train, y_train_genres)\n",
        "pipe.get_params()"
      ]
    },
    {
      "cell_type": "code",
      "execution_count": 40,
      "metadata": {},
      "outputs": [
        {
          "data": {
            "text/plain": [
              "{'memory': None,\n",
              " 'steps': [('pipeline', Pipeline(steps=[('tfidfvectorizer',\n",
              "                    TfidfVectorizer(max_features=3000, ngram_range=(1, 5)))])),\n",
              "  ('gridsearchcv',\n",
              "   GridSearchCV(cv=KFold(n_splits=5, random_state=42, shuffle=True),\n",
              "                estimator=OneVsRestClassifier(estimator=MultinomialNB(alpha=0.099)),\n",
              "                param_grid={}, scoring='accuracy'))],\n",
              " 'verbose': False,\n",
              " 'pipeline': Pipeline(steps=[('tfidfvectorizer',\n",
              "                  TfidfVectorizer(max_features=3000, ngram_range=(1, 5)))]),\n",
              " 'gridsearchcv': GridSearchCV(cv=KFold(n_splits=5, random_state=42, shuffle=True),\n",
              "              estimator=OneVsRestClassifier(estimator=MultinomialNB(alpha=0.099)),\n",
              "              param_grid={}, scoring='accuracy'),\n",
              " 'pipeline__memory': None,\n",
              " 'pipeline__steps': [('tfidfvectorizer',\n",
              "   TfidfVectorizer(max_features=3000, ngram_range=(1, 5)))],\n",
              " 'pipeline__verbose': False,\n",
              " 'pipeline__tfidfvectorizer': TfidfVectorizer(max_features=3000, ngram_range=(1, 5)),\n",
              " 'pipeline__tfidfvectorizer__analyzer': 'word',\n",
              " 'pipeline__tfidfvectorizer__binary': False,\n",
              " 'pipeline__tfidfvectorizer__decode_error': 'strict',\n",
              " 'pipeline__tfidfvectorizer__dtype': numpy.float64,\n",
              " 'pipeline__tfidfvectorizer__encoding': 'utf-8',\n",
              " 'pipeline__tfidfvectorizer__input': 'content',\n",
              " 'pipeline__tfidfvectorizer__lowercase': True,\n",
              " 'pipeline__tfidfvectorizer__max_df': 1.0,\n",
              " 'pipeline__tfidfvectorizer__max_features': 3000,\n",
              " 'pipeline__tfidfvectorizer__min_df': 1,\n",
              " 'pipeline__tfidfvectorizer__ngram_range': (1, 5),\n",
              " 'pipeline__tfidfvectorizer__norm': 'l2',\n",
              " 'pipeline__tfidfvectorizer__preprocessor': None,\n",
              " 'pipeline__tfidfvectorizer__smooth_idf': True,\n",
              " 'pipeline__tfidfvectorizer__stop_words': None,\n",
              " 'pipeline__tfidfvectorizer__strip_accents': None,\n",
              " 'pipeline__tfidfvectorizer__sublinear_tf': False,\n",
              " 'pipeline__tfidfvectorizer__token_pattern': '(?u)\\\\b\\\\w\\\\w+\\\\b',\n",
              " 'pipeline__tfidfvectorizer__tokenizer': None,\n",
              " 'pipeline__tfidfvectorizer__use_idf': True,\n",
              " 'pipeline__tfidfvectorizer__vocabulary': None,\n",
              " 'gridsearchcv__cv': KFold(n_splits=5, random_state=42, shuffle=True),\n",
              " 'gridsearchcv__error_score': nan,\n",
              " 'gridsearchcv__estimator__estimator__alpha': 0.099,\n",
              " 'gridsearchcv__estimator__estimator__class_prior': None,\n",
              " 'gridsearchcv__estimator__estimator__fit_prior': True,\n",
              " 'gridsearchcv__estimator__estimator__force_alpha': True,\n",
              " 'gridsearchcv__estimator__estimator': MultinomialNB(alpha=0.099),\n",
              " 'gridsearchcv__estimator__n_jobs': None,\n",
              " 'gridsearchcv__estimator__verbose': 0,\n",
              " 'gridsearchcv__estimator': OneVsRestClassifier(estimator=MultinomialNB(alpha=0.099)),\n",
              " 'gridsearchcv__n_jobs': None,\n",
              " 'gridsearchcv__param_grid': {},\n",
              " 'gridsearchcv__pre_dispatch': '2*n_jobs',\n",
              " 'gridsearchcv__refit': True,\n",
              " 'gridsearchcv__return_train_score': False,\n",
              " 'gridsearchcv__scoring': 'accuracy',\n",
              " 'gridsearchcv__verbose': 0}"
            ]
          },
          "execution_count": 40,
          "metadata": {},
          "output_type": "execute_result"
        }
      ],
      "source": [
        "# Modelo MultinomialNB\n",
        "\n",
        "vect_plot = make_pipeline(\n",
        "    TfidfVectorizer(max_features=3000, ngram_range=(1,5))\n",
        ")\n",
        "\n",
        "modelo = GridSearchCV(\n",
        "    estimator=OneVsRestClassifier( MultinomialNB(alpha=0.099)),\n",
        "    param_grid={},\n",
        "    scoring='accuracy',\n",
        "    cv=KFold(n_splits=5, shuffle=True, random_state=42),\n",
        "    verbose=0\n",
        ")\n",
        "# canalizacion\n",
        "pipe = make_pipeline(\n",
        "    vect_plot,\n",
        "    modelo\n",
        ")\n",
        "\n",
        "pipe.fit(X_train, y_train_genres)\n",
        "pipe.get_params()"
      ]
    },
    {
      "cell_type": "code",
      "execution_count": null,
      "metadata": {},
      "outputs": [],
      "source": [
        "# preprocesamiento\n",
        "vect_plot = make_pipeline(\n",
        "    TfidfVectorizer(max_features=3000, ngram_range=(1,5))\n",
        ")\n",
        "\n",
        "# Definición y entrenamiento\n",
        "stack_clf = OneVsRestClassifier(\n",
        "    StackingClassifier(\n",
        "        estimators=[\n",
        "            # ('xgbC', xgb.XGBClassifier(n_jobs=1, random_state=42)),\n",
        "            ('lgbmR', lgb.LGBMClassifier(n_jobs=1, verbose=-1, random_state=42)),\n",
        "            ('nb', MultinomialNB(alpha=0.099)),\n",
        "            ('rf', RandomForestClassifier(n_jobs=1, random_state=42))\n",
        "        ],\n",
        "        cv=KFold(n_splits=5, shuffle=True, random_state=42),\n",
        "        final_estimator=LogisticRegression(random_state=42)\n",
        "    )\n",
        ")\n",
        "\n",
        "# canalizacion\n",
        "pipe = make_pipeline(\n",
        "    vect_plot,\n",
        "    stack_clf\n",
        ")"
      ]
    },
    {
      "cell_type": "code",
      "execution_count": 17,
      "metadata": {
        "id": "oyl4ATLilao6",
        "outputId": "7c7d3d0f-d5a7-467b-a2ff-4ef28817a832"
      },
      "outputs": [
        {
          "data": {
            "text/html": [
              "<style>#sk-container-id-1 {\n",
              "  /* Definition of color scheme common for light and dark mode */\n",
              "  --sklearn-color-text: black;\n",
              "  --sklearn-color-line: gray;\n",
              "  /* Definition of color scheme for unfitted estimators */\n",
              "  --sklearn-color-unfitted-level-0: #fff5e6;\n",
              "  --sklearn-color-unfitted-level-1: #f6e4d2;\n",
              "  --sklearn-color-unfitted-level-2: #ffe0b3;\n",
              "  --sklearn-color-unfitted-level-3: chocolate;\n",
              "  /* Definition of color scheme for fitted estimators */\n",
              "  --sklearn-color-fitted-level-0: #f0f8ff;\n",
              "  --sklearn-color-fitted-level-1: #d4ebff;\n",
              "  --sklearn-color-fitted-level-2: #b3dbfd;\n",
              "  --sklearn-color-fitted-level-3: cornflowerblue;\n",
              "\n",
              "  /* Specific color for light theme */\n",
              "  --sklearn-color-text-on-default-background: var(--sg-text-color, var(--theme-code-foreground, var(--jp-content-font-color1, black)));\n",
              "  --sklearn-color-background: var(--sg-background-color, var(--theme-background, var(--jp-layout-color0, white)));\n",
              "  --sklearn-color-border-box: var(--sg-text-color, var(--theme-code-foreground, var(--jp-content-font-color1, black)));\n",
              "  --sklearn-color-icon: #696969;\n",
              "\n",
              "  @media (prefers-color-scheme: dark) {\n",
              "    /* Redefinition of color scheme for dark theme */\n",
              "    --sklearn-color-text-on-default-background: var(--sg-text-color, var(--theme-code-foreground, var(--jp-content-font-color1, white)));\n",
              "    --sklearn-color-background: var(--sg-background-color, var(--theme-background, var(--jp-layout-color0, #111)));\n",
              "    --sklearn-color-border-box: var(--sg-text-color, var(--theme-code-foreground, var(--jp-content-font-color1, white)));\n",
              "    --sklearn-color-icon: #878787;\n",
              "  }\n",
              "}\n",
              "\n",
              "#sk-container-id-1 {\n",
              "  color: var(--sklearn-color-text);\n",
              "}\n",
              "\n",
              "#sk-container-id-1 pre {\n",
              "  padding: 0;\n",
              "}\n",
              "\n",
              "#sk-container-id-1 input.sk-hidden--visually {\n",
              "  border: 0;\n",
              "  clip: rect(1px 1px 1px 1px);\n",
              "  clip: rect(1px, 1px, 1px, 1px);\n",
              "  height: 1px;\n",
              "  margin: -1px;\n",
              "  overflow: hidden;\n",
              "  padding: 0;\n",
              "  position: absolute;\n",
              "  width: 1px;\n",
              "}\n",
              "\n",
              "#sk-container-id-1 div.sk-dashed-wrapped {\n",
              "  border: 1px dashed var(--sklearn-color-line);\n",
              "  margin: 0 0.4em 0.5em 0.4em;\n",
              "  box-sizing: border-box;\n",
              "  padding-bottom: 0.4em;\n",
              "  background-color: var(--sklearn-color-background);\n",
              "}\n",
              "\n",
              "#sk-container-id-1 div.sk-container {\n",
              "  /* jupyter's `normalize.less` sets `[hidden] { display: none; }`\n",
              "     but bootstrap.min.css set `[hidden] { display: none !important; }`\n",
              "     so we also need the `!important` here to be able to override the\n",
              "     default hidden behavior on the sphinx rendered scikit-learn.org.\n",
              "     See: https://github.com/scikit-learn/scikit-learn/issues/21755 */\n",
              "  display: inline-block !important;\n",
              "  position: relative;\n",
              "}\n",
              "\n",
              "#sk-container-id-1 div.sk-text-repr-fallback {\n",
              "  display: none;\n",
              "}\n",
              "\n",
              "div.sk-parallel-item,\n",
              "div.sk-serial,\n",
              "div.sk-item {\n",
              "  /* draw centered vertical line to link estimators */\n",
              "  background-image: linear-gradient(var(--sklearn-color-text-on-default-background), var(--sklearn-color-text-on-default-background));\n",
              "  background-size: 2px 100%;\n",
              "  background-repeat: no-repeat;\n",
              "  background-position: center center;\n",
              "}\n",
              "\n",
              "/* Parallel-specific style estimator block */\n",
              "\n",
              "#sk-container-id-1 div.sk-parallel-item::after {\n",
              "  content: \"\";\n",
              "  width: 100%;\n",
              "  border-bottom: 2px solid var(--sklearn-color-text-on-default-background);\n",
              "  flex-grow: 1;\n",
              "}\n",
              "\n",
              "#sk-container-id-1 div.sk-parallel {\n",
              "  display: flex;\n",
              "  align-items: stretch;\n",
              "  justify-content: center;\n",
              "  background-color: var(--sklearn-color-background);\n",
              "  position: relative;\n",
              "}\n",
              "\n",
              "#sk-container-id-1 div.sk-parallel-item {\n",
              "  display: flex;\n",
              "  flex-direction: column;\n",
              "}\n",
              "\n",
              "#sk-container-id-1 div.sk-parallel-item:first-child::after {\n",
              "  align-self: flex-end;\n",
              "  width: 50%;\n",
              "}\n",
              "\n",
              "#sk-container-id-1 div.sk-parallel-item:last-child::after {\n",
              "  align-self: flex-start;\n",
              "  width: 50%;\n",
              "}\n",
              "\n",
              "#sk-container-id-1 div.sk-parallel-item:only-child::after {\n",
              "  width: 0;\n",
              "}\n",
              "\n",
              "/* Serial-specific style estimator block */\n",
              "\n",
              "#sk-container-id-1 div.sk-serial {\n",
              "  display: flex;\n",
              "  flex-direction: column;\n",
              "  align-items: center;\n",
              "  background-color: var(--sklearn-color-background);\n",
              "  padding-right: 1em;\n",
              "  padding-left: 1em;\n",
              "}\n",
              "\n",
              "\n",
              "/* Toggleable style: style used for estimator/Pipeline/ColumnTransformer box that is\n",
              "clickable and can be expanded/collapsed.\n",
              "- Pipeline and ColumnTransformer use this feature and define the default style\n",
              "- Estimators will overwrite some part of the style using the `sk-estimator` class\n",
              "*/\n",
              "\n",
              "/* Pipeline and ColumnTransformer style (default) */\n",
              "\n",
              "#sk-container-id-1 div.sk-toggleable {\n",
              "  /* Default theme specific background. It is overwritten whether we have a\n",
              "  specific estimator or a Pipeline/ColumnTransformer */\n",
              "  background-color: var(--sklearn-color-background);\n",
              "}\n",
              "\n",
              "/* Toggleable label */\n",
              "#sk-container-id-1 label.sk-toggleable__label {\n",
              "  cursor: pointer;\n",
              "  display: block;\n",
              "  width: 100%;\n",
              "  margin-bottom: 0;\n",
              "  padding: 0.5em;\n",
              "  box-sizing: border-box;\n",
              "  text-align: center;\n",
              "}\n",
              "\n",
              "#sk-container-id-1 label.sk-toggleable__label-arrow:before {\n",
              "  /* Arrow on the left of the label */\n",
              "  content: \"▸\";\n",
              "  float: left;\n",
              "  margin-right: 0.25em;\n",
              "  color: var(--sklearn-color-icon);\n",
              "}\n",
              "\n",
              "#sk-container-id-1 label.sk-toggleable__label-arrow:hover:before {\n",
              "  color: var(--sklearn-color-text);\n",
              "}\n",
              "\n",
              "/* Toggleable content - dropdown */\n",
              "\n",
              "#sk-container-id-1 div.sk-toggleable__content {\n",
              "  max-height: 0;\n",
              "  max-width: 0;\n",
              "  overflow: hidden;\n",
              "  text-align: left;\n",
              "  /* unfitted */\n",
              "  background-color: var(--sklearn-color-unfitted-level-0);\n",
              "}\n",
              "\n",
              "#sk-container-id-1 div.sk-toggleable__content.fitted {\n",
              "  /* fitted */\n",
              "  background-color: var(--sklearn-color-fitted-level-0);\n",
              "}\n",
              "\n",
              "#sk-container-id-1 div.sk-toggleable__content pre {\n",
              "  margin: 0.2em;\n",
              "  border-radius: 0.25em;\n",
              "  color: var(--sklearn-color-text);\n",
              "  /* unfitted */\n",
              "  background-color: var(--sklearn-color-unfitted-level-0);\n",
              "}\n",
              "\n",
              "#sk-container-id-1 div.sk-toggleable__content.fitted pre {\n",
              "  /* unfitted */\n",
              "  background-color: var(--sklearn-color-fitted-level-0);\n",
              "}\n",
              "\n",
              "#sk-container-id-1 input.sk-toggleable__control:checked~div.sk-toggleable__content {\n",
              "  /* Expand drop-down */\n",
              "  max-height: 200px;\n",
              "  max-width: 100%;\n",
              "  overflow: auto;\n",
              "}\n",
              "\n",
              "#sk-container-id-1 input.sk-toggleable__control:checked~label.sk-toggleable__label-arrow:before {\n",
              "  content: \"▾\";\n",
              "}\n",
              "\n",
              "/* Pipeline/ColumnTransformer-specific style */\n",
              "\n",
              "#sk-container-id-1 div.sk-label input.sk-toggleable__control:checked~label.sk-toggleable__label {\n",
              "  color: var(--sklearn-color-text);\n",
              "  background-color: var(--sklearn-color-unfitted-level-2);\n",
              "}\n",
              "\n",
              "#sk-container-id-1 div.sk-label.fitted input.sk-toggleable__control:checked~label.sk-toggleable__label {\n",
              "  background-color: var(--sklearn-color-fitted-level-2);\n",
              "}\n",
              "\n",
              "/* Estimator-specific style */\n",
              "\n",
              "/* Colorize estimator box */\n",
              "#sk-container-id-1 div.sk-estimator input.sk-toggleable__control:checked~label.sk-toggleable__label {\n",
              "  /* unfitted */\n",
              "  background-color: var(--sklearn-color-unfitted-level-2);\n",
              "}\n",
              "\n",
              "#sk-container-id-1 div.sk-estimator.fitted input.sk-toggleable__control:checked~label.sk-toggleable__label {\n",
              "  /* fitted */\n",
              "  background-color: var(--sklearn-color-fitted-level-2);\n",
              "}\n",
              "\n",
              "#sk-container-id-1 div.sk-label label.sk-toggleable__label,\n",
              "#sk-container-id-1 div.sk-label label {\n",
              "  /* The background is the default theme color */\n",
              "  color: var(--sklearn-color-text-on-default-background);\n",
              "}\n",
              "\n",
              "/* On hover, darken the color of the background */\n",
              "#sk-container-id-1 div.sk-label:hover label.sk-toggleable__label {\n",
              "  color: var(--sklearn-color-text);\n",
              "  background-color: var(--sklearn-color-unfitted-level-2);\n",
              "}\n",
              "\n",
              "/* Label box, darken color on hover, fitted */\n",
              "#sk-container-id-1 div.sk-label.fitted:hover label.sk-toggleable__label.fitted {\n",
              "  color: var(--sklearn-color-text);\n",
              "  background-color: var(--sklearn-color-fitted-level-2);\n",
              "}\n",
              "\n",
              "/* Estimator label */\n",
              "\n",
              "#sk-container-id-1 div.sk-label label {\n",
              "  font-family: monospace;\n",
              "  font-weight: bold;\n",
              "  display: inline-block;\n",
              "  line-height: 1.2em;\n",
              "}\n",
              "\n",
              "#sk-container-id-1 div.sk-label-container {\n",
              "  text-align: center;\n",
              "}\n",
              "\n",
              "/* Estimator-specific */\n",
              "#sk-container-id-1 div.sk-estimator {\n",
              "  font-family: monospace;\n",
              "  border: 1px dotted var(--sklearn-color-border-box);\n",
              "  border-radius: 0.25em;\n",
              "  box-sizing: border-box;\n",
              "  margin-bottom: 0.5em;\n",
              "  /* unfitted */\n",
              "  background-color: var(--sklearn-color-unfitted-level-0);\n",
              "}\n",
              "\n",
              "#sk-container-id-1 div.sk-estimator.fitted {\n",
              "  /* fitted */\n",
              "  background-color: var(--sklearn-color-fitted-level-0);\n",
              "}\n",
              "\n",
              "/* on hover */\n",
              "#sk-container-id-1 div.sk-estimator:hover {\n",
              "  /* unfitted */\n",
              "  background-color: var(--sklearn-color-unfitted-level-2);\n",
              "}\n",
              "\n",
              "#sk-container-id-1 div.sk-estimator.fitted:hover {\n",
              "  /* fitted */\n",
              "  background-color: var(--sklearn-color-fitted-level-2);\n",
              "}\n",
              "\n",
              "/* Specification for estimator info (e.g. \"i\" and \"?\") */\n",
              "\n",
              "/* Common style for \"i\" and \"?\" */\n",
              "\n",
              ".sk-estimator-doc-link,\n",
              "a:link.sk-estimator-doc-link,\n",
              "a:visited.sk-estimator-doc-link {\n",
              "  float: right;\n",
              "  font-size: smaller;\n",
              "  line-height: 1em;\n",
              "  font-family: monospace;\n",
              "  background-color: var(--sklearn-color-background);\n",
              "  border-radius: 1em;\n",
              "  height: 1em;\n",
              "  width: 1em;\n",
              "  text-decoration: none !important;\n",
              "  margin-left: 1ex;\n",
              "  /* unfitted */\n",
              "  border: var(--sklearn-color-unfitted-level-1) 1pt solid;\n",
              "  color: var(--sklearn-color-unfitted-level-1);\n",
              "}\n",
              "\n",
              ".sk-estimator-doc-link.fitted,\n",
              "a:link.sk-estimator-doc-link.fitted,\n",
              "a:visited.sk-estimator-doc-link.fitted {\n",
              "  /* fitted */\n",
              "  border: var(--sklearn-color-fitted-level-1) 1pt solid;\n",
              "  color: var(--sklearn-color-fitted-level-1);\n",
              "}\n",
              "\n",
              "/* On hover */\n",
              "div.sk-estimator:hover .sk-estimator-doc-link:hover,\n",
              ".sk-estimator-doc-link:hover,\n",
              "div.sk-label-container:hover .sk-estimator-doc-link:hover,\n",
              ".sk-estimator-doc-link:hover {\n",
              "  /* unfitted */\n",
              "  background-color: var(--sklearn-color-unfitted-level-3);\n",
              "  color: var(--sklearn-color-background);\n",
              "  text-decoration: none;\n",
              "}\n",
              "\n",
              "div.sk-estimator.fitted:hover .sk-estimator-doc-link.fitted:hover,\n",
              ".sk-estimator-doc-link.fitted:hover,\n",
              "div.sk-label-container:hover .sk-estimator-doc-link.fitted:hover,\n",
              ".sk-estimator-doc-link.fitted:hover {\n",
              "  /* fitted */\n",
              "  background-color: var(--sklearn-color-fitted-level-3);\n",
              "  color: var(--sklearn-color-background);\n",
              "  text-decoration: none;\n",
              "}\n",
              "\n",
              "/* Span, style for the box shown on hovering the info icon */\n",
              ".sk-estimator-doc-link span {\n",
              "  display: none;\n",
              "  z-index: 9999;\n",
              "  position: relative;\n",
              "  font-weight: normal;\n",
              "  right: .2ex;\n",
              "  padding: .5ex;\n",
              "  margin: .5ex;\n",
              "  width: min-content;\n",
              "  min-width: 20ex;\n",
              "  max-width: 50ex;\n",
              "  color: var(--sklearn-color-text);\n",
              "  box-shadow: 2pt 2pt 4pt #999;\n",
              "  /* unfitted */\n",
              "  background: var(--sklearn-color-unfitted-level-0);\n",
              "  border: .5pt solid var(--sklearn-color-unfitted-level-3);\n",
              "}\n",
              "\n",
              ".sk-estimator-doc-link.fitted span {\n",
              "  /* fitted */\n",
              "  background: var(--sklearn-color-fitted-level-0);\n",
              "  border: var(--sklearn-color-fitted-level-3);\n",
              "}\n",
              "\n",
              ".sk-estimator-doc-link:hover span {\n",
              "  display: block;\n",
              "}\n",
              "\n",
              "/* \"?\"-specific style due to the `<a>` HTML tag */\n",
              "\n",
              "#sk-container-id-1 a.estimator_doc_link {\n",
              "  float: right;\n",
              "  font-size: 1rem;\n",
              "  line-height: 1em;\n",
              "  font-family: monospace;\n",
              "  background-color: var(--sklearn-color-background);\n",
              "  border-radius: 1rem;\n",
              "  height: 1rem;\n",
              "  width: 1rem;\n",
              "  text-decoration: none;\n",
              "  /* unfitted */\n",
              "  color: var(--sklearn-color-unfitted-level-1);\n",
              "  border: var(--sklearn-color-unfitted-level-1) 1pt solid;\n",
              "}\n",
              "\n",
              "#sk-container-id-1 a.estimator_doc_link.fitted {\n",
              "  /* fitted */\n",
              "  border: var(--sklearn-color-fitted-level-1) 1pt solid;\n",
              "  color: var(--sklearn-color-fitted-level-1);\n",
              "}\n",
              "\n",
              "/* On hover */\n",
              "#sk-container-id-1 a.estimator_doc_link:hover {\n",
              "  /* unfitted */\n",
              "  background-color: var(--sklearn-color-unfitted-level-3);\n",
              "  color: var(--sklearn-color-background);\n",
              "  text-decoration: none;\n",
              "}\n",
              "\n",
              "#sk-container-id-1 a.estimator_doc_link.fitted:hover {\n",
              "  /* fitted */\n",
              "  background-color: var(--sklearn-color-fitted-level-3);\n",
              "}\n",
              "</style><div id=\"sk-container-id-1\" class=\"sk-top-container\"><div class=\"sk-text-repr-fallback\"><pre>Pipeline(steps=[(&#x27;pipeline&#x27;,\n",
              "                 Pipeline(steps=[(&#x27;tfidfvectorizer&#x27;,\n",
              "                                  TfidfVectorizer(max_features=3000,\n",
              "                                                  ngram_range=(1, 5)))])),\n",
              "                (&#x27;onevsrestclassifier&#x27;,\n",
              "                 OneVsRestClassifier(estimator=StackingClassifier(cv=KFold(n_splits=5, random_state=42, shuffle=True),\n",
              "                                                                  estimators=[(&#x27;lgbmR&#x27;,\n",
              "                                                                               LGBMClassifier(n_jobs=1,\n",
              "                                                                                              random_state=42,\n",
              "                                                                                              verbose=-1)),\n",
              "                                                                              (&#x27;nb&#x27;,\n",
              "                                                                               MultinomialNB(alpha=0.099)),\n",
              "                                                                              (&#x27;rf&#x27;,\n",
              "                                                                               RandomForestClassifier(n_jobs=1,\n",
              "                                                                                                      random_state=42))],\n",
              "                                                                  final_estimator=LogisticRegression(random_state=42))))])</pre><b>In a Jupyter environment, please rerun this cell to show the HTML representation or trust the notebook. <br />On GitHub, the HTML representation is unable to render, please try loading this page with nbviewer.org.</b></div><div class=\"sk-container\" hidden><div class=\"sk-item sk-dashed-wrapped\"><div class=\"sk-label-container\"><div class=\"sk-label fitted sk-toggleable\"><input class=\"sk-toggleable__control sk-hidden--visually\" id=\"sk-estimator-id-1\" type=\"checkbox\" ><label for=\"sk-estimator-id-1\" class=\"sk-toggleable__label fitted sk-toggleable__label-arrow fitted\">&nbsp;&nbsp;Pipeline<a class=\"sk-estimator-doc-link fitted\" rel=\"noreferrer\" target=\"_blank\" href=\"https://scikit-learn.org/1.4/modules/generated/sklearn.pipeline.Pipeline.html\">?<span>Documentation for Pipeline</span></a><span class=\"sk-estimator-doc-link fitted\">i<span>Fitted</span></span></label><div class=\"sk-toggleable__content fitted\"><pre>Pipeline(steps=[(&#x27;pipeline&#x27;,\n",
              "                 Pipeline(steps=[(&#x27;tfidfvectorizer&#x27;,\n",
              "                                  TfidfVectorizer(max_features=3000,\n",
              "                                                  ngram_range=(1, 5)))])),\n",
              "                (&#x27;onevsrestclassifier&#x27;,\n",
              "                 OneVsRestClassifier(estimator=StackingClassifier(cv=KFold(n_splits=5, random_state=42, shuffle=True),\n",
              "                                                                  estimators=[(&#x27;lgbmR&#x27;,\n",
              "                                                                               LGBMClassifier(n_jobs=1,\n",
              "                                                                                              random_state=42,\n",
              "                                                                                              verbose=-1)),\n",
              "                                                                              (&#x27;nb&#x27;,\n",
              "                                                                               MultinomialNB(alpha=0.099)),\n",
              "                                                                              (&#x27;rf&#x27;,\n",
              "                                                                               RandomForestClassifier(n_jobs=1,\n",
              "                                                                                                      random_state=42))],\n",
              "                                                                  final_estimator=LogisticRegression(random_state=42))))])</pre></div> </div></div><div class=\"sk-serial\"><div class=\"sk-item\"><div class=\"sk-label-container\"><div class=\"sk-label fitted sk-toggleable\"><input class=\"sk-toggleable__control sk-hidden--visually\" id=\"sk-estimator-id-2\" type=\"checkbox\" ><label for=\"sk-estimator-id-2\" class=\"sk-toggleable__label fitted sk-toggleable__label-arrow fitted\">&nbsp;pipeline: Pipeline<a class=\"sk-estimator-doc-link fitted\" rel=\"noreferrer\" target=\"_blank\" href=\"https://scikit-learn.org/1.4/modules/generated/sklearn.pipeline.Pipeline.html\">?<span>Documentation for pipeline: Pipeline</span></a></label><div class=\"sk-toggleable__content fitted\"><pre>Pipeline(steps=[(&#x27;tfidfvectorizer&#x27;,\n",
              "                 TfidfVectorizer(max_features=3000, ngram_range=(1, 5)))])</pre></div> </div></div><div class=\"sk-serial\"><div class=\"sk-item\"><div class=\"sk-estimator fitted sk-toggleable\"><input class=\"sk-toggleable__control sk-hidden--visually\" id=\"sk-estimator-id-3\" type=\"checkbox\" ><label for=\"sk-estimator-id-3\" class=\"sk-toggleable__label fitted sk-toggleable__label-arrow fitted\">&nbsp;TfidfVectorizer<a class=\"sk-estimator-doc-link fitted\" rel=\"noreferrer\" target=\"_blank\" href=\"https://scikit-learn.org/1.4/modules/generated/sklearn.feature_extraction.text.TfidfVectorizer.html\">?<span>Documentation for TfidfVectorizer</span></a></label><div class=\"sk-toggleable__content fitted\"><pre>TfidfVectorizer(max_features=3000, ngram_range=(1, 5))</pre></div> </div></div></div></div><div class=\"sk-item sk-dashed-wrapped\"><div class=\"sk-label-container\"><div class=\"sk-label fitted sk-toggleable\"><input class=\"sk-toggleable__control sk-hidden--visually\" id=\"sk-estimator-id-4\" type=\"checkbox\" ><label for=\"sk-estimator-id-4\" class=\"sk-toggleable__label fitted sk-toggleable__label-arrow fitted\">&nbsp;onevsrestclassifier: OneVsRestClassifier<a class=\"sk-estimator-doc-link fitted\" rel=\"noreferrer\" target=\"_blank\" href=\"https://scikit-learn.org/1.4/modules/generated/sklearn.multiclass.OneVsRestClassifier.html\">?<span>Documentation for onevsrestclassifier: OneVsRestClassifier</span></a></label><div class=\"sk-toggleable__content fitted\"><pre>OneVsRestClassifier(estimator=StackingClassifier(cv=KFold(n_splits=5, random_state=42, shuffle=True),\n",
              "                                                 estimators=[(&#x27;lgbmR&#x27;,\n",
              "                                                              LGBMClassifier(n_jobs=1,\n",
              "                                                                             random_state=42,\n",
              "                                                                             verbose=-1)),\n",
              "                                                             (&#x27;nb&#x27;,\n",
              "                                                              MultinomialNB(alpha=0.099)),\n",
              "                                                             (&#x27;rf&#x27;,\n",
              "                                                              RandomForestClassifier(n_jobs=1,\n",
              "                                                                                     random_state=42))],\n",
              "                                                 final_estimator=LogisticRegression(random_state=42)))</pre></div> </div></div><div class=\"sk-parallel\"><div class=\"sk-parallel-item\"><div class=\"sk-item\"><div class=\"sk-label-container\"><div class=\"sk-label fitted sk-toggleable\"><input class=\"sk-toggleable__control sk-hidden--visually\" id=\"sk-estimator-id-5\" type=\"checkbox\" ><label for=\"sk-estimator-id-5\" class=\"sk-toggleable__label fitted sk-toggleable__label-arrow fitted\">estimator: StackingClassifier</label><div class=\"sk-toggleable__content fitted\"><pre>StackingClassifier(cv=KFold(n_splits=5, random_state=42, shuffle=True),\n",
              "                   estimators=[(&#x27;lgbmR&#x27;,\n",
              "                                LGBMClassifier(n_jobs=1, random_state=42,\n",
              "                                               verbose=-1)),\n",
              "                               (&#x27;nb&#x27;, MultinomialNB(alpha=0.099)),\n",
              "                               (&#x27;rf&#x27;,\n",
              "                                RandomForestClassifier(n_jobs=1,\n",
              "                                                       random_state=42))],\n",
              "                   final_estimator=LogisticRegression(random_state=42))</pre></div> </div></div><div class=\"sk-serial\"><div class=\"sk-item\"><div class=\"sk-serial\"><div class=\"sk-item\"><div class=\"sk-parallel\"><div class=\"sk-parallel-item\"><div class=\"sk-item\"><div class=\"sk-label-container\"><div class=\"sk-label fitted sk-toggleable\"><label>lgbmR</label></div></div><div class=\"sk-serial\"><div class=\"sk-item\"><div class=\"sk-estimator fitted sk-toggleable\"><input class=\"sk-toggleable__control sk-hidden--visually\" id=\"sk-estimator-id-6\" type=\"checkbox\" ><label for=\"sk-estimator-id-6\" class=\"sk-toggleable__label fitted sk-toggleable__label-arrow fitted\">LGBMClassifier</label><div class=\"sk-toggleable__content fitted\"><pre>LGBMClassifier(n_jobs=1, random_state=42, verbose=-1)</pre></div> </div></div></div></div></div><div class=\"sk-parallel-item\"><div class=\"sk-item\"><div class=\"sk-label-container\"><div class=\"sk-label fitted sk-toggleable\"><label>nb</label></div></div><div class=\"sk-serial\"><div class=\"sk-item\"><div class=\"sk-estimator fitted sk-toggleable\"><input class=\"sk-toggleable__control sk-hidden--visually\" id=\"sk-estimator-id-7\" type=\"checkbox\" ><label for=\"sk-estimator-id-7\" class=\"sk-toggleable__label fitted sk-toggleable__label-arrow fitted\">&nbsp;MultinomialNB<a class=\"sk-estimator-doc-link fitted\" rel=\"noreferrer\" target=\"_blank\" href=\"https://scikit-learn.org/1.4/modules/generated/sklearn.naive_bayes.MultinomialNB.html\">?<span>Documentation for MultinomialNB</span></a></label><div class=\"sk-toggleable__content fitted\"><pre>MultinomialNB(alpha=0.099)</pre></div> </div></div></div></div></div><div class=\"sk-parallel-item\"><div class=\"sk-item\"><div class=\"sk-label-container\"><div class=\"sk-label fitted sk-toggleable\"><label>rf</label></div></div><div class=\"sk-serial\"><div class=\"sk-item\"><div class=\"sk-estimator fitted sk-toggleable\"><input class=\"sk-toggleable__control sk-hidden--visually\" id=\"sk-estimator-id-8\" type=\"checkbox\" ><label for=\"sk-estimator-id-8\" class=\"sk-toggleable__label fitted sk-toggleable__label-arrow fitted\">&nbsp;RandomForestClassifier<a class=\"sk-estimator-doc-link fitted\" rel=\"noreferrer\" target=\"_blank\" href=\"https://scikit-learn.org/1.4/modules/generated/sklearn.ensemble.RandomForestClassifier.html\">?<span>Documentation for RandomForestClassifier</span></a></label><div class=\"sk-toggleable__content fitted\"><pre>RandomForestClassifier(n_jobs=1, random_state=42)</pre></div> </div></div></div></div></div></div></div><div class=\"sk-item\"><div class=\"sk-parallel\"><div class=\"sk-parallel-item\"><div class=\"sk-item\"><div class=\"sk-label-container\"><div class=\"sk-label fitted sk-toggleable\"><label>final_estimator</label></div></div><div class=\"sk-serial\"><div class=\"sk-item\"><div class=\"sk-estimator fitted sk-toggleable\"><input class=\"sk-toggleable__control sk-hidden--visually\" id=\"sk-estimator-id-9\" type=\"checkbox\" ><label for=\"sk-estimator-id-9\" class=\"sk-toggleable__label fitted sk-toggleable__label-arrow fitted\">&nbsp;LogisticRegression<a class=\"sk-estimator-doc-link fitted\" rel=\"noreferrer\" target=\"_blank\" href=\"https://scikit-learn.org/1.4/modules/generated/sklearn.linear_model.LogisticRegression.html\">?<span>Documentation for LogisticRegression</span></a></label><div class=\"sk-toggleable__content fitted\"><pre>LogisticRegression(random_state=42)</pre></div> </div></div></div></div></div></div></div></div></div></div></div></div></div></div></div></div></div></div>"
            ],
            "text/plain": [
              "Pipeline(steps=[('pipeline',\n",
              "                 Pipeline(steps=[('tfidfvectorizer',\n",
              "                                  TfidfVectorizer(max_features=3000,\n",
              "                                                  ngram_range=(1, 5)))])),\n",
              "                ('onevsrestclassifier',\n",
              "                 OneVsRestClassifier(estimator=StackingClassifier(cv=KFold(n_splits=5, random_state=42, shuffle=True),\n",
              "                                                                  estimators=[('lgbmR',\n",
              "                                                                               LGBMClassifier(n_jobs=1,\n",
              "                                                                                              random_state=42,\n",
              "                                                                                              verbose=-1)),\n",
              "                                                                              ('nb',\n",
              "                                                                               MultinomialNB(alpha=0.099)),\n",
              "                                                                              ('rf',\n",
              "                                                                               RandomForestClassifier(n_jobs=1,\n",
              "                                                                                                      random_state=42))],\n",
              "                                                                  final_estimator=LogisticRegression(random_state=42))))])"
            ]
          },
          "execution_count": 17,
          "metadata": {},
          "output_type": "execute_result"
        }
      ],
      "source": [
        "pipe.fit(X_train, y_train_genres)"
      ]
    },
    {
      "cell_type": "code",
      "execution_count": 17,
      "metadata": {},
      "outputs": [],
      "source": [
        "import optuna\n",
        "from optuna.integration import OptunaSearchCV\n"
      ]
    },
    {
      "cell_type": "code",
      "execution_count": null,
      "metadata": {},
      "outputs": [],
      "source": []
    },
    {
      "cell_type": "code",
      "execution_count": 18,
      "metadata": {
        "id": "HmBAzCIalao6",
        "outputId": "22746296-8baf-42f6-ec63-29ad9d614dc9"
      },
      "outputs": [
        {
          "data": {
            "text/plain": [
              "0.8504275029776873"
            ]
          },
          "execution_count": 18,
          "metadata": {},
          "output_type": "execute_result"
        }
      ],
      "source": [
        "# Predicción del modelo de clasificación\n",
        "y_pred_genres = pipe.predict_proba(X_test)\n",
        "\n",
        "# Impresión del desempeño del modelo\n",
        "roc_auc_score(y_test_genres, y_pred_genres, average='macro')"
      ]
    },
    {
      "cell_type": "code",
      "execution_count": null,
      "metadata": {
        "id": "uLNIQ2O2lao6"
      },
      "outputs": [],
      "source": [
        "import joblib"
      ]
    },
    {
      "cell_type": "code",
      "execution_count": null,
      "metadata": {
        "id": "h-ilC79Alao6",
        "outputId": "30450c40-077c-4086-ff2e-17abbd9c684e"
      },
      "outputs": [
        {
          "data": {
            "text/plain": [
              "['model/stackClassifierML.pkl']"
            ]
          },
          "execution_count": 385,
          "metadata": {},
          "output_type": "execute_result"
        }
      ],
      "source": [
        "joblib.dump(pipe, 'model/stackClassifierML.pkl', compress=3)"
      ]
    },
    {
      "cell_type": "code",
      "execution_count": null,
      "metadata": {
        "id": "LzAZqE4Qlao6"
      },
      "outputs": [],
      "source": [
        "cols = [\n",
        "    'p_Action', 'p_Adventure', 'p_Animation',\n",
        "    'p_Biography', 'p_Comedy', 'p_Crime',\n",
        "    'p_Documentary', 'p_Drama', 'p_Family',\n",
        "    'p_Fantasy', 'p_Film-Noir', 'p_History',\n",
        "    'p_Horror', 'p_Music', 'p_Musical',\n",
        "    'p_Mystery', 'p_News', 'p_Romance',\n",
        "    'p_Sci-Fi', 'p_Short', 'p_Sport',\n",
        "    'p_Thriller', 'p_War', 'p_Western'\n",
        "]"
      ]
    },
    {
      "cell_type": "code",
      "execution_count": null,
      "metadata": {
        "id": "4V986s4Tlao6",
        "outputId": "81719738-390a-4a37-f2ad-be49bf8712ba"
      },
      "outputs": [
        {
          "data": {
            "text/html": [
              "<div>\n",
              "<style scoped>\n",
              "    .dataframe tbody tr th:only-of-type {\n",
              "        vertical-align: middle;\n",
              "    }\n",
              "\n",
              "    .dataframe tbody tr th {\n",
              "        vertical-align: top;\n",
              "    }\n",
              "\n",
              "    .dataframe thead th {\n",
              "        text-align: right;\n",
              "    }\n",
              "</style>\n",
              "<table border=\"1\" class=\"dataframe\">\n",
              "  <thead>\n",
              "    <tr style=\"text-align: right;\">\n",
              "      <th></th>\n",
              "      <th>p_Action</th>\n",
              "      <th>p_Adventure</th>\n",
              "      <th>p_Animation</th>\n",
              "      <th>p_Biography</th>\n",
              "      <th>p_Comedy</th>\n",
              "      <th>p_Crime</th>\n",
              "      <th>p_Documentary</th>\n",
              "      <th>p_Drama</th>\n",
              "      <th>p_Family</th>\n",
              "      <th>p_Fantasy</th>\n",
              "      <th>p_Film-Noir</th>\n",
              "      <th>p_History</th>\n",
              "      <th>p_Horror</th>\n",
              "      <th>p_Music</th>\n",
              "      <th>p_Musical</th>\n",
              "      <th>p_Mystery</th>\n",
              "      <th>p_News</th>\n",
              "      <th>p_Romance</th>\n",
              "      <th>p_Sci-Fi</th>\n",
              "      <th>p_Short</th>\n",
              "      <th>p_Sport</th>\n",
              "      <th>p_Thriller</th>\n",
              "      <th>p_War</th>\n",
              "      <th>p_Western</th>\n",
              "    </tr>\n",
              "  </thead>\n",
              "  <tbody>\n",
              "    <tr>\n",
              "      <th>0</th>\n",
              "      <td>0.051146</td>\n",
              "      <td>0.055507</td>\n",
              "      <td>0.026109</td>\n",
              "      <td>0.042806</td>\n",
              "      <td>0.071972</td>\n",
              "      <td>0.338956</td>\n",
              "      <td>0.115019</td>\n",
              "      <td>0.740985</td>\n",
              "      <td>0.039411</td>\n",
              "      <td>0.056977</td>\n",
              "      <td>0.020586</td>\n",
              "      <td>0.035972</td>\n",
              "      <td>0.064660</td>\n",
              "      <td>0.028727</td>\n",
              "      <td>0.029293</td>\n",
              "      <td>0.051128</td>\n",
              "      <td>0.000793</td>\n",
              "      <td>0.081316</td>\n",
              "      <td>0.037662</td>\n",
              "      <td>0.011731</td>\n",
              "      <td>0.020612</td>\n",
              "      <td>0.233745</td>\n",
              "      <td>0.024043</td>\n",
              "      <td>0.023018</td>\n",
              "    </tr>\n",
              "    <tr>\n",
              "      <th>1</th>\n",
              "      <td>0.134053</td>\n",
              "      <td>0.266369</td>\n",
              "      <td>0.029917</td>\n",
              "      <td>0.070725</td>\n",
              "      <td>0.207396</td>\n",
              "      <td>0.049153</td>\n",
              "      <td>0.022008</td>\n",
              "      <td>0.650474</td>\n",
              "      <td>0.068680</td>\n",
              "      <td>0.048365</td>\n",
              "      <td>0.021008</td>\n",
              "      <td>0.141579</td>\n",
              "      <td>0.031529</td>\n",
              "      <td>0.023874</td>\n",
              "      <td>0.033938</td>\n",
              "      <td>0.067562</td>\n",
              "      <td>0.000793</td>\n",
              "      <td>0.252737</td>\n",
              "      <td>0.037911</td>\n",
              "      <td>0.011746</td>\n",
              "      <td>0.019692</td>\n",
              "      <td>0.145611</td>\n",
              "      <td>0.993465</td>\n",
              "      <td>0.021429</td>\n",
              "    </tr>\n",
              "    <tr>\n",
              "      <th>2</th>\n",
              "      <td>0.844228</td>\n",
              "      <td>0.148653</td>\n",
              "      <td>0.027122</td>\n",
              "      <td>0.035224</td>\n",
              "      <td>0.073895</td>\n",
              "      <td>0.051361</td>\n",
              "      <td>0.024670</td>\n",
              "      <td>0.157000</td>\n",
              "      <td>0.037411</td>\n",
              "      <td>0.046807</td>\n",
              "      <td>0.020357</td>\n",
              "      <td>0.029416</td>\n",
              "      <td>0.677924</td>\n",
              "      <td>0.023372</td>\n",
              "      <td>0.029375</td>\n",
              "      <td>0.151272</td>\n",
              "      <td>0.000793</td>\n",
              "      <td>0.060223</td>\n",
              "      <td>0.970466</td>\n",
              "      <td>0.011650</td>\n",
              "      <td>0.017829</td>\n",
              "      <td>0.602955</td>\n",
              "      <td>0.022488</td>\n",
              "      <td>0.021593</td>\n",
              "    </tr>\n",
              "    <tr>\n",
              "      <th>3</th>\n",
              "      <td>0.531914</td>\n",
              "      <td>0.556689</td>\n",
              "      <td>0.026803</td>\n",
              "      <td>0.038905</td>\n",
              "      <td>0.164683</td>\n",
              "      <td>0.094126</td>\n",
              "      <td>0.021654</td>\n",
              "      <td>0.479321</td>\n",
              "      <td>0.040567</td>\n",
              "      <td>0.053483</td>\n",
              "      <td>0.020363</td>\n",
              "      <td>0.039246</td>\n",
              "      <td>0.050610</td>\n",
              "      <td>0.024954</td>\n",
              "      <td>0.030941</td>\n",
              "      <td>0.047521</td>\n",
              "      <td>0.000793</td>\n",
              "      <td>0.086633</td>\n",
              "      <td>0.074041</td>\n",
              "      <td>0.011652</td>\n",
              "      <td>0.018148</td>\n",
              "      <td>0.290442</td>\n",
              "      <td>0.059696</td>\n",
              "      <td>0.042022</td>\n",
              "    </tr>\n",
              "    <tr>\n",
              "      <th>4</th>\n",
              "      <td>0.747859</td>\n",
              "      <td>0.637220</td>\n",
              "      <td>0.027857</td>\n",
              "      <td>0.047798</td>\n",
              "      <td>0.214848</td>\n",
              "      <td>0.045272</td>\n",
              "      <td>0.038213</td>\n",
              "      <td>0.314170</td>\n",
              "      <td>0.062448</td>\n",
              "      <td>0.356831</td>\n",
              "      <td>0.020288</td>\n",
              "      <td>0.035787</td>\n",
              "      <td>0.322967</td>\n",
              "      <td>0.026079</td>\n",
              "      <td>0.029877</td>\n",
              "      <td>0.043892</td>\n",
              "      <td>0.000793</td>\n",
              "      <td>0.074780</td>\n",
              "      <td>0.374086</td>\n",
              "      <td>0.011698</td>\n",
              "      <td>0.018671</td>\n",
              "      <td>0.097386</td>\n",
              "      <td>0.025269</td>\n",
              "      <td>0.021462</td>\n",
              "    </tr>\n",
              "  </tbody>\n",
              "</table>\n",
              "</div>"
            ],
            "text/plain": [
              "   p_Action  p_Adventure  p_Animation  p_Biography  p_Comedy   p_Crime  \\\n",
              "0  0.051146     0.055507     0.026109     0.042806  0.071972  0.338956   \n",
              "1  0.134053     0.266369     0.029917     0.070725  0.207396  0.049153   \n",
              "2  0.844228     0.148653     0.027122     0.035224  0.073895  0.051361   \n",
              "3  0.531914     0.556689     0.026803     0.038905  0.164683  0.094126   \n",
              "4  0.747859     0.637220     0.027857     0.047798  0.214848  0.045272   \n",
              "\n",
              "   p_Documentary   p_Drama  p_Family  p_Fantasy  p_Film-Noir  p_History  \\\n",
              "0       0.115019  0.740985  0.039411   0.056977     0.020586   0.035972   \n",
              "1       0.022008  0.650474  0.068680   0.048365     0.021008   0.141579   \n",
              "2       0.024670  0.157000  0.037411   0.046807     0.020357   0.029416   \n",
              "3       0.021654  0.479321  0.040567   0.053483     0.020363   0.039246   \n",
              "4       0.038213  0.314170  0.062448   0.356831     0.020288   0.035787   \n",
              "\n",
              "   p_Horror   p_Music  p_Musical  p_Mystery    p_News  p_Romance  p_Sci-Fi  \\\n",
              "0  0.064660  0.028727   0.029293   0.051128  0.000793   0.081316  0.037662   \n",
              "1  0.031529  0.023874   0.033938   0.067562  0.000793   0.252737  0.037911   \n",
              "2  0.677924  0.023372   0.029375   0.151272  0.000793   0.060223  0.970466   \n",
              "3  0.050610  0.024954   0.030941   0.047521  0.000793   0.086633  0.074041   \n",
              "4  0.322967  0.026079   0.029877   0.043892  0.000793   0.074780  0.374086   \n",
              "\n",
              "    p_Short   p_Sport  p_Thriller     p_War  p_Western  \n",
              "0  0.011731  0.020612    0.233745  0.024043   0.023018  \n",
              "1  0.011746  0.019692    0.145611  0.993465   0.021429  \n",
              "2  0.011650  0.017829    0.602955  0.022488   0.021593  \n",
              "3  0.011652  0.018148    0.290442  0.059696   0.042022  \n",
              "4  0.011698  0.018671    0.097386  0.025269   0.021462  "
            ]
          },
          "execution_count": 387,
          "metadata": {},
          "output_type": "execute_result"
        }
      ],
      "source": [
        "# Guardar predicciones en formato exigido en la competencia de kaggle\n",
        "res = pd.DataFrame(y_pred_genres, columns=cols)\n",
        "res.to_csv('stackClassifierML.csv', index_label='ID')\n",
        "res.head()"
      ]
    },
    {
      "cell_type": "code",
      "execution_count": null,
      "metadata": {
        "id": "TCw6zLlllao7",
        "outputId": "45885310-a2fb-4d88-dfa1-5a17f34f8d9a"
      },
      "outputs": [
        {
          "data": {
            "text/plain": [
              "0.8225126165101792"
            ]
          },
          "execution_count": 377,
          "metadata": {},
          "output_type": "execute_result"
        }
      ],
      "source": [
        "clf = OneVsRestClassifier(lgb.LGBMClassifier(n_jobs=1, random_state=42))\n",
        "clf.fit(xTr, yTr)\n",
        "y_predict_clf = clf.predict_proba(X_test_tdf)\n",
        "roc_auc_score(y_test_genres, y_predict_clf, average='macro')"
      ]
    },
    {
      "cell_type": "code",
      "execution_count": null,
      "metadata": {
        "id": "8Q3lYnLxlao7"
      },
      "outputs": [],
      "source": [
        "rclf = OneVsRestClassifier(RandomForestClassifier(n_jobs=1, random_state=42))\n",
        "rclf.fit(xTr, yTr)\n",
        "y_predict_rclf = rclf.predict_proba(X_test_tdf)\n",
        "roc_auc_score(y_test_genres, y_predict_rclf, average='macro')"
      ]
    },
    {
      "cell_type": "code",
      "execution_count": null,
      "metadata": {
        "id": "PAa0SLytlao7"
      },
      "outputs": [],
      "source": [
        "from sklearn.naive_bayes import MultinomialNB, ComplementNB, GaussianNB"
      ]
    },
    {
      "cell_type": "code",
      "execution_count": null,
      "metadata": {
        "id": "S7dCGDjzlao7",
        "outputId": "a48ce5a2-2218-47ac-df05-913941d01033"
      },
      "outputs": [
        {
          "data": {
            "text/plain": [
              "0.8667309326731999"
            ]
          },
          "execution_count": 347,
          "metadata": {},
          "output_type": "execute_result"
        }
      ],
      "source": [
        "nb_clf = OneVsRestClassifier(MultinomialNB(alpha=0.099))\n",
        "nb_clf.fit(xTr, yTr)\n",
        "y_predict_nb_clf = nb_clf.predict_proba(X_test_tdf)\n",
        "roc_auc_score(y_test_genres, y_predict_nb_clf, average='macro')\n"
      ]
    },
    {
      "cell_type": "code",
      "execution_count": null,
      "metadata": {
        "id": "1AWhVg4Mlao7",
        "outputId": "4ac93b13-03b2-4a62-9407-d388f3d91d24"
      },
      "outputs": [
        {
          "data": {
            "text/plain": [
              "0.8667309326731999"
            ]
          },
          "execution_count": 315,
          "metadata": {},
          "output_type": "execute_result"
        }
      ],
      "source": [
        "clf = OneVsRestClassifier(ComplementNB(alpha=0.099))\n",
        "clf.fit(xTr, yTr)\n",
        "y_predict_clf = clf.predict_proba(X_test_tdf)\n",
        "roc_auc_score(y_test_genres, y_predict_clf, average='macro')"
      ]
    },
    {
      "cell_type": "code",
      "execution_count": null,
      "metadata": {
        "id": "On7KOyTDlao7"
      },
      "outputs": [],
      "source": [
        "from sklearn.linear_model import LogisticRegressionCV"
      ]
    },
    {
      "cell_type": "code",
      "execution_count": null,
      "metadata": {
        "id": "trv51Yjwlao7",
        "outputId": "19ad1af3-4ee2-488a-ae30-a0d786ead337"
      },
      "outputs": [
        {
          "data": {
            "text/plain": [
              "0.8623614069231925"
            ]
          },
          "execution_count": 358,
          "metadata": {},
          "output_type": "execute_result"
        }
      ],
      "source": [
        "clf = OneVsRestClassifier(LogisticRegressionCV(cv=5, random_state=42))\n",
        "clf.fit(vect.transform(X_train).toarray(), y_train_genres)\n",
        "y_predict_clf = clf.predict_proba(X_test_tdf)\n",
        "roc_auc_score(y_test_genres, y_predict_clf, average='macro')"
      ]
    },
    {
      "cell_type": "code",
      "execution_count": null,
      "metadata": {
        "id": "ocCg2gkJlao7",
        "outputId": "e0f5ada6-9223-48de-8df2-6c6a267895df"
      },
      "outputs": [
        {
          "data": {
            "text/plain": [
              "0.588779693264699"
            ]
          },
          "execution_count": 317,
          "metadata": {},
          "output_type": "execute_result"
        }
      ],
      "source": [
        "clf = OneVsRestClassifier(GaussianNB())\n",
        "clf.fit(xTr, yTr)\n",
        "y_predict_clf = clf.predict_proba(X_test_tdf.toarray())\n",
        "roc_auc_score(y_test_genres, y_predict_clf, average='macro')"
      ]
    },
    {
      "cell_type": "code",
      "execution_count": null,
      "metadata": {
        "id": "Uj77CIqXlao7"
      },
      "outputs": [],
      "source": [
        "cols = [\n",
        "    'p_Action', 'p_Adventure', 'p_Animation',\n",
        "    'p_Biography', 'p_Comedy', 'p_Crime',\n",
        "    'p_Documentary', 'p_Drama', 'p_Family',\n",
        "    'p_Fantasy', 'p_Film-Noir', 'p_History',\n",
        "    'p_Horror', 'p_Music', 'p_Musical',\n",
        "    'p_Mystery', 'p_News', 'p_Romance',\n",
        "    'p_Sci-Fi', 'p_Short', 'p_Sport',\n",
        "    'p_Thriller', 'p_War', 'p_Western'\n",
        "]"
      ]
    },
    {
      "cell_type": "code",
      "execution_count": null,
      "metadata": {
        "id": "lwd0Gcablao7",
        "outputId": "baaf45a9-773b-4f7b-8ec6-fec99b1ebbb4"
      },
      "outputs": [
        {
          "data": {
            "text/html": [
              "<div>\n",
              "<style scoped>\n",
              "    .dataframe tbody tr th:only-of-type {\n",
              "        vertical-align: middle;\n",
              "    }\n",
              "\n",
              "    .dataframe tbody tr th {\n",
              "        vertical-align: top;\n",
              "    }\n",
              "\n",
              "    .dataframe thead th {\n",
              "        text-align: right;\n",
              "    }\n",
              "</style>\n",
              "<table border=\"1\" class=\"dataframe\">\n",
              "  <thead>\n",
              "    <tr style=\"text-align: right;\">\n",
              "      <th></th>\n",
              "      <th>p_Action</th>\n",
              "      <th>p_Adventure</th>\n",
              "      <th>p_Animation</th>\n",
              "      <th>p_Biography</th>\n",
              "      <th>p_Comedy</th>\n",
              "      <th>p_Crime</th>\n",
              "      <th>p_Documentary</th>\n",
              "      <th>p_Drama</th>\n",
              "      <th>p_Family</th>\n",
              "      <th>p_Fantasy</th>\n",
              "      <th>p_Film-Noir</th>\n",
              "      <th>p_History</th>\n",
              "      <th>p_Horror</th>\n",
              "      <th>p_Music</th>\n",
              "      <th>p_Musical</th>\n",
              "      <th>p_Mystery</th>\n",
              "      <th>p_News</th>\n",
              "      <th>p_Romance</th>\n",
              "      <th>p_Sci-Fi</th>\n",
              "      <th>p_Short</th>\n",
              "      <th>p_Sport</th>\n",
              "      <th>p_Thriller</th>\n",
              "      <th>p_War</th>\n",
              "      <th>p_Western</th>\n",
              "    </tr>\n",
              "  </thead>\n",
              "  <tbody>\n",
              "    <tr>\n",
              "      <th>0</th>\n",
              "      <td>0.030488</td>\n",
              "      <td>0.041772</td>\n",
              "      <td>0.005131</td>\n",
              "      <td>0.028553</td>\n",
              "      <td>0.086778</td>\n",
              "      <td>0.152461</td>\n",
              "      <td>0.181141</td>\n",
              "      <td>0.614601</td>\n",
              "      <td>0.014092</td>\n",
              "      <td>0.049949</td>\n",
              "      <td>0.005659</td>\n",
              "      <td>0.028090</td>\n",
              "      <td>0.149269</td>\n",
              "      <td>0.030239</td>\n",
              "      <td>0.001829</td>\n",
              "      <td>0.064035</td>\n",
              "      <td>0.001282</td>\n",
              "      <td>0.070728</td>\n",
              "      <td>0.039767</td>\n",
              "      <td>0.007677</td>\n",
              "      <td>0.022586</td>\n",
              "      <td>0.210468</td>\n",
              "      <td>0.013984</td>\n",
              "      <td>0.011430</td>\n",
              "    </tr>\n",
              "    <tr>\n",
              "      <th>1</th>\n",
              "      <td>0.268552</td>\n",
              "      <td>0.251455</td>\n",
              "      <td>0.033639</td>\n",
              "      <td>0.136191</td>\n",
              "      <td>0.111511</td>\n",
              "      <td>0.018639</td>\n",
              "      <td>0.003788</td>\n",
              "      <td>0.739428</td>\n",
              "      <td>0.049949</td>\n",
              "      <td>0.023304</td>\n",
              "      <td>0.008689</td>\n",
              "      <td>0.356197</td>\n",
              "      <td>0.004821</td>\n",
              "      <td>0.006349</td>\n",
              "      <td>0.033158</td>\n",
              "      <td>0.054464</td>\n",
              "      <td>0.000442</td>\n",
              "      <td>0.318319</td>\n",
              "      <td>0.021172</td>\n",
              "      <td>0.013184</td>\n",
              "      <td>0.010769</td>\n",
              "      <td>0.215446</td>\n",
              "      <td>0.932475</td>\n",
              "      <td>0.001080</td>\n",
              "    </tr>\n",
              "    <tr>\n",
              "      <th>2</th>\n",
              "      <td>0.372282</td>\n",
              "      <td>0.151275</td>\n",
              "      <td>0.010886</td>\n",
              "      <td>0.006608</td>\n",
              "      <td>0.079254</td>\n",
              "      <td>0.079128</td>\n",
              "      <td>0.010038</td>\n",
              "      <td>0.319391</td>\n",
              "      <td>0.007503</td>\n",
              "      <td>0.027077</td>\n",
              "      <td>0.003629</td>\n",
              "      <td>0.010145</td>\n",
              "      <td>0.285648</td>\n",
              "      <td>0.003275</td>\n",
              "      <td>0.004930</td>\n",
              "      <td>0.119737</td>\n",
              "      <td>0.000155</td>\n",
              "      <td>0.029927</td>\n",
              "      <td>0.353894</td>\n",
              "      <td>0.001427</td>\n",
              "      <td>0.001227</td>\n",
              "      <td>0.436286</td>\n",
              "      <td>0.009488</td>\n",
              "      <td>0.004662</td>\n",
              "    </tr>\n",
              "    <tr>\n",
              "      <th>3</th>\n",
              "      <td>0.521798</td>\n",
              "      <td>0.346447</td>\n",
              "      <td>0.009761</td>\n",
              "      <td>0.023747</td>\n",
              "      <td>0.186330</td>\n",
              "      <td>0.117851</td>\n",
              "      <td>0.001922</td>\n",
              "      <td>0.479081</td>\n",
              "      <td>0.018669</td>\n",
              "      <td>0.053748</td>\n",
              "      <td>0.002889</td>\n",
              "      <td>0.055431</td>\n",
              "      <td>0.066361</td>\n",
              "      <td>0.014752</td>\n",
              "      <td>0.019436</td>\n",
              "      <td>0.025297</td>\n",
              "      <td>0.000059</td>\n",
              "      <td>0.126475</td>\n",
              "      <td>0.130889</td>\n",
              "      <td>0.001532</td>\n",
              "      <td>0.003325</td>\n",
              "      <td>0.335381</td>\n",
              "      <td>0.125042</td>\n",
              "      <td>0.075039</td>\n",
              "    </tr>\n",
              "    <tr>\n",
              "      <th>4</th>\n",
              "      <td>0.447401</td>\n",
              "      <td>0.414775</td>\n",
              "      <td>0.021816</td>\n",
              "      <td>0.034111</td>\n",
              "      <td>0.233162</td>\n",
              "      <td>0.022433</td>\n",
              "      <td>0.028980</td>\n",
              "      <td>0.311585</td>\n",
              "      <td>0.046697</td>\n",
              "      <td>0.320706</td>\n",
              "      <td>0.000889</td>\n",
              "      <td>0.023567</td>\n",
              "      <td>0.197409</td>\n",
              "      <td>0.016027</td>\n",
              "      <td>0.003527</td>\n",
              "      <td>0.011467</td>\n",
              "      <td>0.000562</td>\n",
              "      <td>0.047661</td>\n",
              "      <td>0.376088</td>\n",
              "      <td>0.006699</td>\n",
              "      <td>0.005679</td>\n",
              "      <td>0.117078</td>\n",
              "      <td>0.012316</td>\n",
              "      <td>0.002888</td>\n",
              "    </tr>\n",
              "  </tbody>\n",
              "</table>\n",
              "</div>"
            ],
            "text/plain": [
              "   p_Action  p_Adventure  p_Animation  p_Biography  p_Comedy   p_Crime  \\\n",
              "0  0.030488     0.041772     0.005131     0.028553  0.086778  0.152461   \n",
              "1  0.268552     0.251455     0.033639     0.136191  0.111511  0.018639   \n",
              "2  0.372282     0.151275     0.010886     0.006608  0.079254  0.079128   \n",
              "3  0.521798     0.346447     0.009761     0.023747  0.186330  0.117851   \n",
              "4  0.447401     0.414775     0.021816     0.034111  0.233162  0.022433   \n",
              "\n",
              "   p_Documentary   p_Drama  p_Family  p_Fantasy  p_Film-Noir  p_History  \\\n",
              "0       0.181141  0.614601  0.014092   0.049949     0.005659   0.028090   \n",
              "1       0.003788  0.739428  0.049949   0.023304     0.008689   0.356197   \n",
              "2       0.010038  0.319391  0.007503   0.027077     0.003629   0.010145   \n",
              "3       0.001922  0.479081  0.018669   0.053748     0.002889   0.055431   \n",
              "4       0.028980  0.311585  0.046697   0.320706     0.000889   0.023567   \n",
              "\n",
              "   p_Horror   p_Music  p_Musical  p_Mystery    p_News  p_Romance  p_Sci-Fi  \\\n",
              "0  0.149269  0.030239   0.001829   0.064035  0.001282   0.070728  0.039767   \n",
              "1  0.004821  0.006349   0.033158   0.054464  0.000442   0.318319  0.021172   \n",
              "2  0.285648  0.003275   0.004930   0.119737  0.000155   0.029927  0.353894   \n",
              "3  0.066361  0.014752   0.019436   0.025297  0.000059   0.126475  0.130889   \n",
              "4  0.197409  0.016027   0.003527   0.011467  0.000562   0.047661  0.376088   \n",
              "\n",
              "    p_Short   p_Sport  p_Thriller     p_War  p_Western  \n",
              "0  0.007677  0.022586    0.210468  0.013984   0.011430  \n",
              "1  0.013184  0.010769    0.215446  0.932475   0.001080  \n",
              "2  0.001427  0.001227    0.436286  0.009488   0.004662  \n",
              "3  0.001532  0.003325    0.335381  0.125042   0.075039  \n",
              "4  0.006699  0.005679    0.117078  0.012316   0.002888  "
            ]
          },
          "execution_count": 87,
          "metadata": {},
          "output_type": "execute_result"
        }
      ],
      "source": [
        "# Guardar predicciones en formato exigido en la competencia de kaggle\n",
        "res = pd.DataFrame(y_predict_nb_clf, columns=cols)\n",
        "#res.to_csv('pred_genres_text_RF.csv', index_label='ID')\n",
        "res.head()"
      ]
    },
    {
      "cell_type": "code",
      "execution_count": null,
      "metadata": {
        "id": "TIAVQy48lao8"
      },
      "outputs": [],
      "source": [
        "nb_clf = OneVsRestClassifier(MultinomialNB(alpha=0.99))\n",
        "model_cv_nb_clf = GridSearchCV(\n",
        "    estimator=nb_clf,\n",
        "    param_grid={},\n",
        "    scoring='accuracy',\n",
        "    cv=KFold(n_splits=5, shuffle=True, random_state=42),\n",
        "    verbose=1\n",
        ")"
      ]
    },
    {
      "cell_type": "code",
      "execution_count": null,
      "metadata": {
        "id": "vyalQfqNlao_",
        "outputId": "711499b3-792b-4139-f5ee-e72d385ed5be"
      },
      "outputs": [
        {
          "name": "stdout",
          "output_type": "stream",
          "text": [
            "Fitting 5 folds for each of 1 candidates, totalling 5 fits\n"
          ]
        },
        {
          "data": {
            "text/plain": [
              "0.8151338492428954"
            ]
          },
          "execution_count": 89,
          "metadata": {},
          "output_type": "execute_result"
        }
      ],
      "source": [
        "model_cv_nb_clf.fit(xTr, yTr)\n",
        "roc_auc_score(y_test_genres, model_cv_nb_clf.predict_proba(X_test_tdf.toarray()), average='macro')"
      ]
    },
    {
      "cell_type": "code",
      "execution_count": null,
      "metadata": {
        "id": "jYCGZSVelao_",
        "outputId": "0f351a27-3d50-48ac-add4-aa0e27ad3051"
      },
      "outputs": [
        {
          "name": "stdout",
          "output_type": "stream",
          "text": [
            "24  output variables\n"
          ]
        }
      ],
      "source": [
        "output_var = yTrain.shape[1]\n",
        "print(output_var, ' output variables')"
      ]
    },
    {
      "cell_type": "code",
      "execution_count": null,
      "metadata": {
        "id": "K7ednQwPlao_",
        "outputId": "0809af44-1433-4d43-95ad-e083177afdff"
      },
      "outputs": [
        {
          "name": "stdout",
          "output_type": "stream",
          "text": [
            "2000 input variables\n"
          ]
        }
      ],
      "source": [
        "dims = xTrain_tdf.shape[1]\n",
        "print(dims, 'input variables')"
      ]
    },
    {
      "cell_type": "code",
      "execution_count": null,
      "metadata": {
        "id": "Hu_3M6l9lao_"
      },
      "outputs": [],
      "source": [
        "# Reproducibility in Keras Models\n",
        "# https://keras.io/examples/keras_recipes/reproducibility_recipes/\n",
        "keras.utils.set_random_seed(22)"
      ]
    },
    {
      "cell_type": "code",
      "execution_count": null,
      "metadata": {
        "id": "yKSZomColao_",
        "outputId": "d0a3ad02-45d3-4980-b254-fadbdb8ae974"
      },
      "outputs": [
        {
          "name": "stdout",
          "output_type": "stream",
          "text": [
            "Model: \"sequential\"\n",
            "_________________________________________________________________\n",
            " Layer (type)                Output Shape              Param #   \n",
            "=================================================================\n",
            " embedding (Embedding)       (None, None, 128)         256000    \n",
            "                                                                 \n",
            " lstm (LSTM)                 (None, 256)               394240    \n",
            "                                                                 \n",
            " dropout (Dropout)           (None, 256)               0         \n",
            "                                                                 \n",
            " dense (Dense)               (None, 128)               32896     \n",
            "                                                                 \n",
            " dropout_1 (Dropout)         (None, 128)               0         \n",
            "                                                                 \n",
            " dense_1 (Dense)             (None, 24)                3096      \n",
            "                                                                 \n",
            "=================================================================\n",
            "Total params: 686232 (2.62 MB)\n",
            "Trainable params: 686232 (2.62 MB)\n",
            "Non-trainable params: 0 (0.00 Byte)\n",
            "_________________________________________________________________\n"
          ]
        }
      ],
      "source": [
        "K.clear_session()\n",
        "\n",
        "model = Sequential([\n",
        "    Embedding(input_dim=dims, output_dim=128),\n",
        "    LSTM(256),\n",
        "    Dropout(0.5),\n",
        "    Dense(128, activation='relu'),\n",
        "    Dropout(0.5),\n",
        "    Dense(output_var, activation='softmax')\n",
        "])\n",
        "\n",
        "model.compile(\n",
        "    optimizer='Adam', #'adam',\n",
        "    loss='categorical_crossentropy', #\"categorical_crossentropy\",\n",
        "    metrics = [\"accuracy\"],\n",
        "    sample_weight_mode='temporal'\n",
        ")\n",
        "\n",
        "model.summary()"
      ]
    },
    {
      "cell_type": "code",
      "execution_count": null,
      "metadata": {
        "id": "Onu174Yxlao_",
        "outputId": "aa0957e6-ad59-45af-c024-dd13c12215d0"
      },
      "outputs": [
        {
          "name": "stdout",
          "output_type": "stream",
          "text": [
            "Epoch 1/10\n",
            "132/133 [============================>.] - ETA: 6s - loss: 59.7997 - accuracy: 0.1619 "
          ]
        },
        {
          "ename": "KeyboardInterrupt",
          "evalue": "",
          "output_type": "error",
          "traceback": [
            "\u001b[0;31m---------------------------------------------------------------------------\u001b[0m",
            "\u001b[0;31mKeyboardInterrupt\u001b[0m                         Traceback (most recent call last)",
            "Cell \u001b[0;32mIn[99], line 1\u001b[0m\n\u001b[0;32m----> 1\u001b[0m model\u001b[39m.\u001b[39;49mfit(\n\u001b[1;32m      2\u001b[0m     xTrain_tdf\u001b[39m.\u001b[39;49mtoarray(), yTrain,\n\u001b[1;32m      3\u001b[0m     verbose\u001b[39m=\u001b[39;49m\u001b[39m1\u001b[39;49m,\n\u001b[1;32m      4\u001b[0m     batch_size\u001b[39m=\u001b[39;49m\u001b[39m32\u001b[39;49m, \n\u001b[1;32m      5\u001b[0m     epochs\u001b[39m=\u001b[39;49m\u001b[39m10\u001b[39;49m,\n\u001b[1;32m      6\u001b[0m     validation_data\u001b[39m=\u001b[39;49m(xVal_tdf\u001b[39m.\u001b[39;49mtoarray(), yVal),\n\u001b[1;32m      7\u001b[0m     callbacks\u001b[39m=\u001b[39;49m[PlotLossesKeras()]\n\u001b[1;32m      8\u001b[0m )\n",
            "File \u001b[0;32m/usr/local/lib/python3.10/dist-packages/keras/src/utils/traceback_utils.py:65\u001b[0m, in \u001b[0;36mfilter_traceback.<locals>.error_handler\u001b[0;34m(*args, **kwargs)\u001b[0m\n\u001b[1;32m     63\u001b[0m filtered_tb \u001b[39m=\u001b[39m \u001b[39mNone\u001b[39;00m\n\u001b[1;32m     64\u001b[0m \u001b[39mtry\u001b[39;00m:\n\u001b[0;32m---> 65\u001b[0m     \u001b[39mreturn\u001b[39;00m fn(\u001b[39m*\u001b[39;49margs, \u001b[39m*\u001b[39;49m\u001b[39m*\u001b[39;49mkwargs)\n\u001b[1;32m     66\u001b[0m \u001b[39mexcept\u001b[39;00m \u001b[39mException\u001b[39;00m \u001b[39mas\u001b[39;00m e:\n\u001b[1;32m     67\u001b[0m     filtered_tb \u001b[39m=\u001b[39m _process_traceback_frames(e\u001b[39m.\u001b[39m__traceback__)\n",
            "File \u001b[0;32m/usr/local/lib/python3.10/dist-packages/keras/src/engine/training.py:1807\u001b[0m, in \u001b[0;36mModel.fit\u001b[0;34m(self, x, y, batch_size, epochs, verbose, callbacks, validation_split, validation_data, shuffle, class_weight, sample_weight, initial_epoch, steps_per_epoch, validation_steps, validation_batch_size, validation_freq, max_queue_size, workers, use_multiprocessing)\u001b[0m\n\u001b[1;32m   1799\u001b[0m \u001b[39mwith\u001b[39;00m tf\u001b[39m.\u001b[39mprofiler\u001b[39m.\u001b[39mexperimental\u001b[39m.\u001b[39mTrace(\n\u001b[1;32m   1800\u001b[0m     \u001b[39m\"\u001b[39m\u001b[39mtrain\u001b[39m\u001b[39m\"\u001b[39m,\n\u001b[1;32m   1801\u001b[0m     epoch_num\u001b[39m=\u001b[39mepoch,\n\u001b[0;32m   (...)\u001b[0m\n\u001b[1;32m   1804\u001b[0m     _r\u001b[39m=\u001b[39m\u001b[39m1\u001b[39m,\n\u001b[1;32m   1805\u001b[0m ):\n\u001b[1;32m   1806\u001b[0m     callbacks\u001b[39m.\u001b[39mon_train_batch_begin(step)\n\u001b[0;32m-> 1807\u001b[0m     tmp_logs \u001b[39m=\u001b[39m \u001b[39mself\u001b[39;49m\u001b[39m.\u001b[39;49mtrain_function(iterator)\n\u001b[1;32m   1808\u001b[0m     \u001b[39mif\u001b[39;00m data_handler\u001b[39m.\u001b[39mshould_sync:\n\u001b[1;32m   1809\u001b[0m         context\u001b[39m.\u001b[39masync_wait()\n",
            "File \u001b[0;32m/usr/local/lib/python3.10/dist-packages/tensorflow/python/util/traceback_utils.py:150\u001b[0m, in \u001b[0;36mfilter_traceback.<locals>.error_handler\u001b[0;34m(*args, **kwargs)\u001b[0m\n\u001b[1;32m    148\u001b[0m filtered_tb \u001b[39m=\u001b[39m \u001b[39mNone\u001b[39;00m\n\u001b[1;32m    149\u001b[0m \u001b[39mtry\u001b[39;00m:\n\u001b[0;32m--> 150\u001b[0m   \u001b[39mreturn\u001b[39;00m fn(\u001b[39m*\u001b[39;49margs, \u001b[39m*\u001b[39;49m\u001b[39m*\u001b[39;49mkwargs)\n\u001b[1;32m    151\u001b[0m \u001b[39mexcept\u001b[39;00m \u001b[39mException\u001b[39;00m \u001b[39mas\u001b[39;00m e:\n\u001b[1;32m    152\u001b[0m   filtered_tb \u001b[39m=\u001b[39m _process_traceback_frames(e\u001b[39m.\u001b[39m__traceback__)\n",
            "File \u001b[0;32m/usr/local/lib/python3.10/dist-packages/tensorflow/python/eager/polymorphic_function/polymorphic_function.py:832\u001b[0m, in \u001b[0;36mFunction.__call__\u001b[0;34m(self, *args, **kwds)\u001b[0m\n\u001b[1;32m    829\u001b[0m compiler \u001b[39m=\u001b[39m \u001b[39m\"\u001b[39m\u001b[39mxla\u001b[39m\u001b[39m\"\u001b[39m \u001b[39mif\u001b[39;00m \u001b[39mself\u001b[39m\u001b[39m.\u001b[39m_jit_compile \u001b[39melse\u001b[39;00m \u001b[39m\"\u001b[39m\u001b[39mnonXla\u001b[39m\u001b[39m\"\u001b[39m\n\u001b[1;32m    831\u001b[0m \u001b[39mwith\u001b[39;00m OptionalXlaContext(\u001b[39mself\u001b[39m\u001b[39m.\u001b[39m_jit_compile):\n\u001b[0;32m--> 832\u001b[0m   result \u001b[39m=\u001b[39m \u001b[39mself\u001b[39;49m\u001b[39m.\u001b[39;49m_call(\u001b[39m*\u001b[39;49margs, \u001b[39m*\u001b[39;49m\u001b[39m*\u001b[39;49mkwds)\n\u001b[1;32m    834\u001b[0m new_tracing_count \u001b[39m=\u001b[39m \u001b[39mself\u001b[39m\u001b[39m.\u001b[39mexperimental_get_tracing_count()\n\u001b[1;32m    835\u001b[0m without_tracing \u001b[39m=\u001b[39m (tracing_count \u001b[39m==\u001b[39m new_tracing_count)\n",
            "File \u001b[0;32m/usr/local/lib/python3.10/dist-packages/tensorflow/python/eager/polymorphic_function/polymorphic_function.py:868\u001b[0m, in \u001b[0;36mFunction._call\u001b[0;34m(self, *args, **kwds)\u001b[0m\n\u001b[1;32m    865\u001b[0m   \u001b[39mself\u001b[39m\u001b[39m.\u001b[39m_lock\u001b[39m.\u001b[39mrelease()\n\u001b[1;32m    866\u001b[0m   \u001b[39m# In this case we have created variables on the first call, so we run the\u001b[39;00m\n\u001b[1;32m    867\u001b[0m   \u001b[39m# defunned version which is guaranteed to never create variables.\u001b[39;00m\n\u001b[0;32m--> 868\u001b[0m   \u001b[39mreturn\u001b[39;00m tracing_compilation\u001b[39m.\u001b[39;49mcall_function(\n\u001b[1;32m    869\u001b[0m       args, kwds, \u001b[39mself\u001b[39;49m\u001b[39m.\u001b[39;49m_no_variable_creation_config\n\u001b[1;32m    870\u001b[0m   )\n\u001b[1;32m    871\u001b[0m \u001b[39melif\u001b[39;00m \u001b[39mself\u001b[39m\u001b[39m.\u001b[39m_variable_creation_config \u001b[39mis\u001b[39;00m \u001b[39mnot\u001b[39;00m \u001b[39mNone\u001b[39;00m:\n\u001b[1;32m    872\u001b[0m   \u001b[39m# Release the lock early so that multiple threads can perform the call\u001b[39;00m\n\u001b[1;32m    873\u001b[0m   \u001b[39m# in parallel.\u001b[39;00m\n\u001b[1;32m    874\u001b[0m   \u001b[39mself\u001b[39m\u001b[39m.\u001b[39m_lock\u001b[39m.\u001b[39mrelease()\n",
            "File \u001b[0;32m/usr/local/lib/python3.10/dist-packages/tensorflow/python/eager/polymorphic_function/tracing_compilation.py:139\u001b[0m, in \u001b[0;36mcall_function\u001b[0;34m(args, kwargs, tracing_options)\u001b[0m\n\u001b[1;32m    137\u001b[0m bound_args \u001b[39m=\u001b[39m function\u001b[39m.\u001b[39mfunction_type\u001b[39m.\u001b[39mbind(\u001b[39m*\u001b[39margs, \u001b[39m*\u001b[39m\u001b[39m*\u001b[39mkwargs)\n\u001b[1;32m    138\u001b[0m flat_inputs \u001b[39m=\u001b[39m function\u001b[39m.\u001b[39mfunction_type\u001b[39m.\u001b[39munpack_inputs(bound_args)\n\u001b[0;32m--> 139\u001b[0m \u001b[39mreturn\u001b[39;00m function\u001b[39m.\u001b[39;49m_call_flat(  \u001b[39m# pylint: disable=protected-access\u001b[39;49;00m\n\u001b[1;32m    140\u001b[0m     flat_inputs, captured_inputs\u001b[39m=\u001b[39;49mfunction\u001b[39m.\u001b[39;49mcaptured_inputs\n\u001b[1;32m    141\u001b[0m )\n",
            "File \u001b[0;32m/usr/local/lib/python3.10/dist-packages/tensorflow/python/eager/polymorphic_function/concrete_function.py:1323\u001b[0m, in \u001b[0;36mConcreteFunction._call_flat\u001b[0;34m(self, tensor_inputs, captured_inputs)\u001b[0m\n\u001b[1;32m   1319\u001b[0m possible_gradient_type \u001b[39m=\u001b[39m gradients_util\u001b[39m.\u001b[39mPossibleTapeGradientTypes(args)\n\u001b[1;32m   1320\u001b[0m \u001b[39mif\u001b[39;00m (possible_gradient_type \u001b[39m==\u001b[39m gradients_util\u001b[39m.\u001b[39mPOSSIBLE_GRADIENT_TYPES_NONE\n\u001b[1;32m   1321\u001b[0m     \u001b[39mand\u001b[39;00m executing_eagerly):\n\u001b[1;32m   1322\u001b[0m   \u001b[39m# No tape is watching; skip to running the function.\u001b[39;00m\n\u001b[0;32m-> 1323\u001b[0m   \u001b[39mreturn\u001b[39;00m \u001b[39mself\u001b[39;49m\u001b[39m.\u001b[39;49m_inference_function\u001b[39m.\u001b[39;49mcall_preflattened(args)\n\u001b[1;32m   1324\u001b[0m forward_backward \u001b[39m=\u001b[39m \u001b[39mself\u001b[39m\u001b[39m.\u001b[39m_select_forward_and_backward_functions(\n\u001b[1;32m   1325\u001b[0m     args,\n\u001b[1;32m   1326\u001b[0m     possible_gradient_type,\n\u001b[1;32m   1327\u001b[0m     executing_eagerly)\n\u001b[1;32m   1328\u001b[0m forward_function, args_with_tangents \u001b[39m=\u001b[39m forward_backward\u001b[39m.\u001b[39mforward()\n",
            "File \u001b[0;32m/usr/local/lib/python3.10/dist-packages/tensorflow/python/eager/polymorphic_function/atomic_function.py:216\u001b[0m, in \u001b[0;36mAtomicFunction.call_preflattened\u001b[0;34m(self, args)\u001b[0m\n\u001b[1;32m    214\u001b[0m \u001b[39mdef\u001b[39;00m \u001b[39mcall_preflattened\u001b[39m(\u001b[39mself\u001b[39m, args: Sequence[core\u001b[39m.\u001b[39mTensor]) \u001b[39m-\u001b[39m\u001b[39m>\u001b[39m Any:\n\u001b[1;32m    215\u001b[0m \u001b[39m  \u001b[39m\u001b[39m\"\"\"Calls with flattened tensor inputs and returns the structured output.\"\"\"\u001b[39;00m\n\u001b[0;32m--> 216\u001b[0m   flat_outputs \u001b[39m=\u001b[39m \u001b[39mself\u001b[39;49m\u001b[39m.\u001b[39;49mcall_flat(\u001b[39m*\u001b[39;49margs)\n\u001b[1;32m    217\u001b[0m   \u001b[39mreturn\u001b[39;00m \u001b[39mself\u001b[39m\u001b[39m.\u001b[39mfunction_type\u001b[39m.\u001b[39mpack_output(flat_outputs)\n",
            "File \u001b[0;32m/usr/local/lib/python3.10/dist-packages/tensorflow/python/eager/polymorphic_function/atomic_function.py:251\u001b[0m, in \u001b[0;36mAtomicFunction.call_flat\u001b[0;34m(self, *args)\u001b[0m\n\u001b[1;32m    249\u001b[0m \u001b[39mwith\u001b[39;00m record\u001b[39m.\u001b[39mstop_recording():\n\u001b[1;32m    250\u001b[0m   \u001b[39mif\u001b[39;00m \u001b[39mself\u001b[39m\u001b[39m.\u001b[39m_bound_context\u001b[39m.\u001b[39mexecuting_eagerly():\n\u001b[0;32m--> 251\u001b[0m     outputs \u001b[39m=\u001b[39m \u001b[39mself\u001b[39;49m\u001b[39m.\u001b[39;49m_bound_context\u001b[39m.\u001b[39;49mcall_function(\n\u001b[1;32m    252\u001b[0m         \u001b[39mself\u001b[39;49m\u001b[39m.\u001b[39;49mname,\n\u001b[1;32m    253\u001b[0m         \u001b[39mlist\u001b[39;49m(args),\n\u001b[1;32m    254\u001b[0m         \u001b[39mlen\u001b[39;49m(\u001b[39mself\u001b[39;49m\u001b[39m.\u001b[39;49mfunction_type\u001b[39m.\u001b[39;49mflat_outputs),\n\u001b[1;32m    255\u001b[0m     )\n\u001b[1;32m    256\u001b[0m   \u001b[39melse\u001b[39;00m:\n\u001b[1;32m    257\u001b[0m     outputs \u001b[39m=\u001b[39m make_call_op_in_graph(\n\u001b[1;32m    258\u001b[0m         \u001b[39mself\u001b[39m,\n\u001b[1;32m    259\u001b[0m         \u001b[39mlist\u001b[39m(args),\n\u001b[1;32m    260\u001b[0m         \u001b[39mself\u001b[39m\u001b[39m.\u001b[39m_bound_context\u001b[39m.\u001b[39mfunction_call_options\u001b[39m.\u001b[39mas_attrs(),\n\u001b[1;32m    261\u001b[0m     )\n",
            "File \u001b[0;32m/usr/local/lib/python3.10/dist-packages/tensorflow/python/eager/context.py:1486\u001b[0m, in \u001b[0;36mContext.call_function\u001b[0;34m(self, name, tensor_inputs, num_outputs)\u001b[0m\n\u001b[1;32m   1484\u001b[0m cancellation_context \u001b[39m=\u001b[39m cancellation\u001b[39m.\u001b[39mcontext()\n\u001b[1;32m   1485\u001b[0m \u001b[39mif\u001b[39;00m cancellation_context \u001b[39mis\u001b[39;00m \u001b[39mNone\u001b[39;00m:\n\u001b[0;32m-> 1486\u001b[0m   outputs \u001b[39m=\u001b[39m execute\u001b[39m.\u001b[39;49mexecute(\n\u001b[1;32m   1487\u001b[0m       name\u001b[39m.\u001b[39;49mdecode(\u001b[39m\"\u001b[39;49m\u001b[39mutf-8\u001b[39;49m\u001b[39m\"\u001b[39;49m),\n\u001b[1;32m   1488\u001b[0m       num_outputs\u001b[39m=\u001b[39;49mnum_outputs,\n\u001b[1;32m   1489\u001b[0m       inputs\u001b[39m=\u001b[39;49mtensor_inputs,\n\u001b[1;32m   1490\u001b[0m       attrs\u001b[39m=\u001b[39;49mattrs,\n\u001b[1;32m   1491\u001b[0m       ctx\u001b[39m=\u001b[39;49m\u001b[39mself\u001b[39;49m,\n\u001b[1;32m   1492\u001b[0m   )\n\u001b[1;32m   1493\u001b[0m \u001b[39melse\u001b[39;00m:\n\u001b[1;32m   1494\u001b[0m   outputs \u001b[39m=\u001b[39m execute\u001b[39m.\u001b[39mexecute_with_cancellation(\n\u001b[1;32m   1495\u001b[0m       name\u001b[39m.\u001b[39mdecode(\u001b[39m\"\u001b[39m\u001b[39mutf-8\u001b[39m\u001b[39m\"\u001b[39m),\n\u001b[1;32m   1496\u001b[0m       num_outputs\u001b[39m=\u001b[39mnum_outputs,\n\u001b[0;32m   (...)\u001b[0m\n\u001b[1;32m   1500\u001b[0m       cancellation_manager\u001b[39m=\u001b[39mcancellation_context,\n\u001b[1;32m   1501\u001b[0m   )\n",
            "File \u001b[0;32m/usr/local/lib/python3.10/dist-packages/tensorflow/python/eager/execute.py:53\u001b[0m, in \u001b[0;36mquick_execute\u001b[0;34m(op_name, num_outputs, inputs, attrs, ctx, name)\u001b[0m\n\u001b[1;32m     51\u001b[0m \u001b[39mtry\u001b[39;00m:\n\u001b[1;32m     52\u001b[0m   ctx\u001b[39m.\u001b[39mensure_initialized()\n\u001b[0;32m---> 53\u001b[0m   tensors \u001b[39m=\u001b[39m pywrap_tfe\u001b[39m.\u001b[39;49mTFE_Py_Execute(ctx\u001b[39m.\u001b[39;49m_handle, device_name, op_name,\n\u001b[1;32m     54\u001b[0m                                       inputs, attrs, num_outputs)\n\u001b[1;32m     55\u001b[0m \u001b[39mexcept\u001b[39;00m core\u001b[39m.\u001b[39m_NotOkStatusException \u001b[39mas\u001b[39;00m e:\n\u001b[1;32m     56\u001b[0m   \u001b[39mif\u001b[39;00m name \u001b[39mis\u001b[39;00m \u001b[39mnot\u001b[39;00m \u001b[39mNone\u001b[39;00m:\n",
            "\u001b[0;31mKeyboardInterrupt\u001b[0m: "
          ]
        }
      ],
      "source": [
        "model.fit(\n",
        "    xTrain_tdf.toarray(), yTrain,\n",
        "    verbose=1,\n",
        "    batch_size=32,\n",
        "    epochs=10,\n",
        "    validation_data=(xVal_tdf.toarray(), yVal),\n",
        "    callbacks=[PlotLossesKeras()]\n",
        ")"
      ]
    },
    {
      "cell_type": "code",
      "execution_count": null,
      "metadata": {
        "id": "316kUnZ-lao_",
        "outputId": "dd62997b-25fc-4de1-cc59-e9cda684c9e3"
      },
      "outputs": [
        {
          "name": "stdout",
          "output_type": "stream",
          "text": [
            "82/82 [==============================] - 55s 666ms/step\n"
          ]
        }
      ],
      "source": [
        "y_pred_class = model.predict(X_test_tdf.toarray())\n",
        "y_test_class = np.argmax(X_test_tdf.toarray(), axis=1)"
      ]
    },
    {
      "cell_type": "code",
      "execution_count": null,
      "metadata": {
        "id": "wPJjaURzlao_",
        "outputId": "8c9a7548-942c-416c-a3fa-81920819ed05"
      },
      "outputs": [
        {
          "data": {
            "text/plain": [
              "0.4930746364251313"
            ]
          },
          "execution_count": 24,
          "metadata": {},
          "output_type": "execute_result"
        }
      ],
      "source": [
        "# Impresión del desempeño del modelo\n",
        "roc_auc_score(y_test_genres, y_pred_class, average='macro')"
      ]
    },
    {
      "cell_type": "code",
      "execution_count": null,
      "metadata": {
        "id": "fznTtc31lapA"
      },
      "outputs": [],
      "source": [
        "cols = [\n",
        "    'p_Action', 'p_Adventure', 'p_Animation',\n",
        "    'p_Biography', 'p_Comedy', 'p_Crime',\n",
        "    'p_Documentary', 'p_Drama', 'p_Family',\n",
        "    'p_Fantasy', 'p_Film-Noir', 'p_History',\n",
        "    'p_Horror', 'p_Music', 'p_Musical',\n",
        "    'p_Mystery', 'p_News', 'p_Romance',\n",
        "    'p_Sci-Fi', 'p_Short', 'p_Sport',\n",
        "    'p_Thriller', 'p_War', 'p_Western'\n",
        "]"
      ]
    },
    {
      "cell_type": "code",
      "execution_count": null,
      "metadata": {
        "id": "zJRSZ4mSlapA"
      },
      "outputs": [],
      "source": [
        "# transformación variables predictoras X del conjunto de test\n",
        "X_test_dtm = vect.transform(dataTesting['plot'])\n",
        "\n",
        "# Predicción del conjunto de test\n",
        "y_pred_test_genres = clf.predict_proba(X_test_dtm)"
      ]
    },
    {
      "cell_type": "code",
      "execution_count": null,
      "metadata": {
        "id": "75wd3MLIlapA",
        "outputId": "75dfd3eb-c979-4803-a879-96910e130bc0"
      },
      "outputs": [
        {
          "data": {
            "text/html": [
              "<div>\n",
              "<style scoped>\n",
              "    .dataframe tbody tr th:only-of-type {\n",
              "        vertical-align: middle;\n",
              "    }\n",
              "\n",
              "    .dataframe tbody tr th {\n",
              "        vertical-align: top;\n",
              "    }\n",
              "\n",
              "    .dataframe thead th {\n",
              "        text-align: right;\n",
              "    }\n",
              "</style>\n",
              "<table border=\"1\" class=\"dataframe\">\n",
              "  <thead>\n",
              "    <tr style=\"text-align: right;\">\n",
              "      <th></th>\n",
              "      <th>p_Action</th>\n",
              "      <th>p_Adventure</th>\n",
              "      <th>p_Animation</th>\n",
              "      <th>p_Biography</th>\n",
              "      <th>p_Comedy</th>\n",
              "      <th>p_Crime</th>\n",
              "      <th>p_Documentary</th>\n",
              "      <th>p_Drama</th>\n",
              "      <th>p_Family</th>\n",
              "      <th>p_Fantasy</th>\n",
              "      <th>p_Film-Noir</th>\n",
              "      <th>p_History</th>\n",
              "      <th>p_Horror</th>\n",
              "      <th>p_Music</th>\n",
              "      <th>p_Musical</th>\n",
              "      <th>p_Mystery</th>\n",
              "      <th>p_News</th>\n",
              "      <th>p_Romance</th>\n",
              "      <th>p_Sci-Fi</th>\n",
              "      <th>p_Short</th>\n",
              "      <th>p_Sport</th>\n",
              "      <th>p_Thriller</th>\n",
              "      <th>p_War</th>\n",
              "      <th>p_Western</th>\n",
              "    </tr>\n",
              "  </thead>\n",
              "  <tbody>\n",
              "    <tr>\n",
              "      <th>1</th>\n",
              "      <td>0.178666</td>\n",
              "      <td>0.111486</td>\n",
              "      <td>0.021162</td>\n",
              "      <td>0.040451</td>\n",
              "      <td>0.412487</td>\n",
              "      <td>0.136443</td>\n",
              "      <td>0.025503</td>\n",
              "      <td>0.486787</td>\n",
              "      <td>0.063274</td>\n",
              "      <td>0.091445</td>\n",
              "      <td>0.009869</td>\n",
              "      <td>0.028732</td>\n",
              "      <td>0.080358</td>\n",
              "      <td>0.028490</td>\n",
              "      <td>0.039942</td>\n",
              "      <td>0.060797</td>\n",
              "      <td>0.000000</td>\n",
              "      <td>0.520442</td>\n",
              "      <td>0.065661</td>\n",
              "      <td>0.103077</td>\n",
              "      <td>0.019148</td>\n",
              "      <td>0.182945</td>\n",
              "      <td>0.023956</td>\n",
              "      <td>0.036228</td>\n",
              "    </tr>\n",
              "    <tr>\n",
              "      <th>4</th>\n",
              "      <td>0.141989</td>\n",
              "      <td>0.087454</td>\n",
              "      <td>0.020934</td>\n",
              "      <td>0.099489</td>\n",
              "      <td>0.339891</td>\n",
              "      <td>0.215064</td>\n",
              "      <td>0.064928</td>\n",
              "      <td>0.540000</td>\n",
              "      <td>0.061722</td>\n",
              "      <td>0.069519</td>\n",
              "      <td>0.010302</td>\n",
              "      <td>0.027411</td>\n",
              "      <td>0.087357</td>\n",
              "      <td>0.036983</td>\n",
              "      <td>0.022385</td>\n",
              "      <td>0.061874</td>\n",
              "      <td>0.000064</td>\n",
              "      <td>0.165986</td>\n",
              "      <td>0.055703</td>\n",
              "      <td>0.007257</td>\n",
              "      <td>0.018490</td>\n",
              "      <td>0.207937</td>\n",
              "      <td>0.079976</td>\n",
              "      <td>0.017317</td>\n",
              "    </tr>\n",
              "    <tr>\n",
              "      <th>5</th>\n",
              "      <td>0.172132</td>\n",
              "      <td>0.124699</td>\n",
              "      <td>0.021659</td>\n",
              "      <td>0.038556</td>\n",
              "      <td>0.253822</td>\n",
              "      <td>0.556154</td>\n",
              "      <td>0.019145</td>\n",
              "      <td>0.597389</td>\n",
              "      <td>0.063644</td>\n",
              "      <td>0.085029</td>\n",
              "      <td>0.088108</td>\n",
              "      <td>0.031630</td>\n",
              "      <td>0.117146</td>\n",
              "      <td>0.027422</td>\n",
              "      <td>0.024473</td>\n",
              "      <td>0.337297</td>\n",
              "      <td>0.000000</td>\n",
              "      <td>0.327024</td>\n",
              "      <td>0.069038</td>\n",
              "      <td>0.007037</td>\n",
              "      <td>0.020403</td>\n",
              "      <td>0.558126</td>\n",
              "      <td>0.029693</td>\n",
              "      <td>0.017246</td>\n",
              "    </tr>\n",
              "    <tr>\n",
              "      <th>6</th>\n",
              "      <td>0.189410</td>\n",
              "      <td>0.137246</td>\n",
              "      <td>0.021502</td>\n",
              "      <td>0.031718</td>\n",
              "      <td>0.294750</td>\n",
              "      <td>0.149847</td>\n",
              "      <td>0.026721</td>\n",
              "      <td>0.531383</td>\n",
              "      <td>0.061621</td>\n",
              "      <td>0.066046</td>\n",
              "      <td>0.030969</td>\n",
              "      <td>0.036475</td>\n",
              "      <td>0.200914</td>\n",
              "      <td>0.027675</td>\n",
              "      <td>0.023890</td>\n",
              "      <td>0.100082</td>\n",
              "      <td>0.000000</td>\n",
              "      <td>0.181014</td>\n",
              "      <td>0.096859</td>\n",
              "      <td>0.007037</td>\n",
              "      <td>0.019201</td>\n",
              "      <td>0.306362</td>\n",
              "      <td>0.039570</td>\n",
              "      <td>0.017371</td>\n",
              "    </tr>\n",
              "    <tr>\n",
              "      <th>7</th>\n",
              "      <td>0.205589</td>\n",
              "      <td>0.134627</td>\n",
              "      <td>0.022020</td>\n",
              "      <td>0.032584</td>\n",
              "      <td>0.341892</td>\n",
              "      <td>0.216454</td>\n",
              "      <td>0.021318</td>\n",
              "      <td>0.430259</td>\n",
              "      <td>0.077072</td>\n",
              "      <td>0.145261</td>\n",
              "      <td>0.027939</td>\n",
              "      <td>0.043913</td>\n",
              "      <td>0.197059</td>\n",
              "      <td>0.066935</td>\n",
              "      <td>0.022559</td>\n",
              "      <td>0.068007</td>\n",
              "      <td>0.000000</td>\n",
              "      <td>0.214391</td>\n",
              "      <td>0.201836</td>\n",
              "      <td>0.009802</td>\n",
              "      <td>0.019559</td>\n",
              "      <td>0.229932</td>\n",
              "      <td>0.023970</td>\n",
              "      <td>0.017180</td>\n",
              "    </tr>\n",
              "  </tbody>\n",
              "</table>\n",
              "</div>"
            ],
            "text/plain": [
              "   p_Action  p_Adventure  p_Animation  p_Biography  p_Comedy   p_Crime  \\\n",
              "1  0.178666     0.111486     0.021162     0.040451  0.412487  0.136443   \n",
              "4  0.141989     0.087454     0.020934     0.099489  0.339891  0.215064   \n",
              "5  0.172132     0.124699     0.021659     0.038556  0.253822  0.556154   \n",
              "6  0.189410     0.137246     0.021502     0.031718  0.294750  0.149847   \n",
              "7  0.205589     0.134627     0.022020     0.032584  0.341892  0.216454   \n",
              "\n",
              "   p_Documentary   p_Drama  p_Family  p_Fantasy  p_Film-Noir  p_History  \\\n",
              "1       0.025503  0.486787  0.063274   0.091445     0.009869   0.028732   \n",
              "4       0.064928  0.540000  0.061722   0.069519     0.010302   0.027411   \n",
              "5       0.019145  0.597389  0.063644   0.085029     0.088108   0.031630   \n",
              "6       0.026721  0.531383  0.061621   0.066046     0.030969   0.036475   \n",
              "7       0.021318  0.430259  0.077072   0.145261     0.027939   0.043913   \n",
              "\n",
              "   p_Horror   p_Music  p_Musical  p_Mystery    p_News  p_Romance  p_Sci-Fi  \\\n",
              "1  0.080358  0.028490   0.039942   0.060797  0.000000   0.520442  0.065661   \n",
              "4  0.087357  0.036983   0.022385   0.061874  0.000064   0.165986  0.055703   \n",
              "5  0.117146  0.027422   0.024473   0.337297  0.000000   0.327024  0.069038   \n",
              "6  0.200914  0.027675   0.023890   0.100082  0.000000   0.181014  0.096859   \n",
              "7  0.197059  0.066935   0.022559   0.068007  0.000000   0.214391  0.201836   \n",
              "\n",
              "    p_Short   p_Sport  p_Thriller     p_War  p_Western  \n",
              "1  0.103077  0.019148    0.182945  0.023956   0.036228  \n",
              "4  0.007257  0.018490    0.207937  0.079976   0.017317  \n",
              "5  0.007037  0.020403    0.558126  0.029693   0.017246  \n",
              "6  0.007037  0.019201    0.306362  0.039570   0.017371  \n",
              "7  0.009802  0.019559    0.229932  0.023970   0.017180  "
            ]
          },
          "execution_count": 59,
          "metadata": {},
          "output_type": "execute_result"
        }
      ],
      "source": [
        "# Guardar predicciones en formato exigido en la competencia de kaggle\n",
        "res = pd.DataFrame(y_pred_test_genres, index=dataTesting.index, columns=cols)\n",
        "#res.to_csv('pred_genres_text_RF.csv', index_label='ID')\n",
        "res.head()"
      ]
    }
  ],
  "metadata": {
    "colab": {
      "provenance": []
    },
    "kernelspec": {
      "display_name": "Python 3",
      "language": "python",
      "name": "python3"
    },
    "language_info": {
      "codemirror_mode": {
        "name": "ipython",
        "version": 3
      },
      "file_extension": ".py",
      "mimetype": "text/x-python",
      "name": "python",
      "nbconvert_exporter": "python",
      "pygments_lexer": "ipython3",
      "version": "3.10.13"
    },
    "vscode": {
      "interpreter": {
        "hash": "31f2aee4e71d21fbe5cf8b01ff0e069b9275f58929596ceb00d14d90e3e16cd6"
      }
    }
  },
  "nbformat": 4,
  "nbformat_minor": 0
}
